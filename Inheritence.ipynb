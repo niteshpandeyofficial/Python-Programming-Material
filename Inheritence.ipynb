{
  "nbformat": 4,
  "nbformat_minor": 0,
  "metadata": {
    "colab": {
      "provenance": [],
      "authorship_tag": "ABX9TyNFlp/Jn0R8AlRbIbadDgau"
    },
    "kernelspec": {
      "name": "python3",
      "display_name": "Python 3"
    },
    "language_info": {
      "name": "python"
    }
  },
  "cells": [
    {
      "cell_type": "markdown",
      "source": [
        "###Inheritence\n",
        "1. Inheritence allow one class to gain all the members(attributes and methods) of another class.\n",
        "2. It provides code reusability ,make it easier to create and maintain an application.\n",
        "3. The class from which we are inheriting is called super-class/Parent and the class that is inherited is called a derived/child class\n",
        "\n",
        "#### Advantage\n",
        "\n",
        "1. Reusability\n",
        "2. Less number of code\n",
        "\n",
        "#### Types of Inheritence\n",
        "1.   Single Inheritence\n",
        "2.   Mulitple Inheritence\n",
        "3.   Multilevel Inheritence\n",
        "4.   Hybrid Inheritence\n",
        "5.   Hierarchy Inheritence\n",
        "6.   Cyclic Inheritence\n",
        "\n",
        "\n"
      ],
      "metadata": {
        "id": "T0KGQ9CC6y8D"
      }
    },
    {
      "cell_type": "markdown",
      "source": [
        "#### **1. Single Inheritence**\n",
        "##### Single Inheritence is a type of inheritence where a class inherits properties and behaviours from a single parent class.This is the simplest and most common form of inheritence.\n",
        "\n",
        "**Syntax:**\n",
        "\n",
        "         class BaseClass:   --Parent class A\n",
        "             class body --Base Class code\n",
        "\n",
        "         class DerivedClass(BaseClass): --Child Class\n",
        "             class body --Derived Class code"
      ],
      "metadata": {
        "id": "LScyf_P77Ug5"
      }
    },
    {
      "cell_type": "code",
      "execution_count": 16,
      "metadata": {
        "id": "agJcFARs2Cqz"
      },
      "outputs": [],
      "source": [
        "# Parent Class\n",
        "class Employee:\n",
        "  def __init__(self,name,id):\n",
        "    self.name=name\n",
        "    self.id=id\n",
        "  \n",
        "  def showDetails(self):\n",
        "    print(f\"The name of employee is {self.name} and id is {self.id}\");\n",
        "\n"
      ]
    },
    {
      "cell_type": "code",
      "source": [
        "e=Employee('nitesh',213)\n",
        "e.showDetails();"
      ],
      "metadata": {
        "colab": {
          "base_uri": "https://localhost:8080/"
        },
        "id": "TT6_zqNE4ceT",
        "outputId": "ea3b5cf1-21ae-4e3f-c115-bfa1d7bd8a70"
      },
      "execution_count": 17,
      "outputs": [
        {
          "output_type": "stream",
          "name": "stdout",
          "text": [
            "The name of employee is nitesh and id is 213\n"
          ]
        }
      ]
    },
    {
      "cell_type": "code",
      "source": [
        "# Child Class \n",
        "class Programmer(Employee):\n",
        "  def showLanguage(self):\n",
        "    print('Default language is Python');"
      ],
      "metadata": {
        "id": "NlZYxiWr4278"
      },
      "execution_count": 18,
      "outputs": []
    },
    {
      "cell_type": "code",
      "source": [
        "# Using object of Child class i.e programmer class we can access the attributes or methods of parent class i.e showDetails\n",
        "p=Programmer('Sam',100)\n",
        "p.showDetails()\n",
        "p.showLanguage()"
      ],
      "metadata": {
        "id": "z_gWdk-M5NQ_",
        "colab": {
          "base_uri": "https://localhost:8080/"
        },
        "outputId": "68dc4e9f-b824-4a49-85bf-3059e9a48ca2"
      },
      "execution_count": 19,
      "outputs": [
        {
          "output_type": "stream",
          "name": "stdout",
          "text": [
            "The name of employee is Sam and id is 100\n",
            "Default language is Python\n"
          ]
        }
      ]
    },
    {
      "cell_type": "markdown",
      "source": [
        "#### **2. Mulitple Inheritence**\n",
        "\n",
        "##### It allows a class to inherit attributes and methods from multiple parents class or more then one base class.\n",
        "\n",
        "**Syntax:**\n",
        "\n",
        "         class A:      --Parent class A\n",
        "             class body     \n",
        "         class B:      --Parent class B\n",
        "             class body\n",
        "         class C(A,B): --Child Class C(inherit property from parents class A and B )\n",
        "             class body --Derived Class code\n"
      ],
      "metadata": {
        "id": "-DkHOpFW207g"
      }
    },
    {
      "cell_type": "code",
      "source": [
        "# Mulitple Inheritence Example\n",
        "class P1:\n",
        "    def m1(self):\n",
        "        print('Parent Method P1')\n",
        "class P2:\n",
        "    def m2(self):\n",
        "        print('Parent Method P2')\n",
        "class C(P1,P2):\n",
        "    def m3(self):\n",
        "        print('Child method of C1')\n",
        "        \n",
        "c=C()\n",
        "print('*'*10,'Multiple Inheritence Example','*'*10)\n",
        "c.m3()\n",
        "c.m2()\n",
        "c.m1()"
      ],
      "metadata": {
        "colab": {
          "base_uri": "https://localhost:8080/"
        },
        "id": "39Xocpta_BQD",
        "outputId": "3fc6cc91-6234-42d3-fb4c-6ed7c92e90d7"
      },
      "execution_count": 4,
      "outputs": [
        {
          "output_type": "stream",
          "name": "stdout",
          "text": [
            "********** Multiple Inheritence Example **********\n",
            "Child method of C1\n",
            "Parent Method P2\n",
            "Parent Method P1\n"
          ]
        }
      ]
    },
    {
      "cell_type": "markdown",
      "source": [
        "#### **3. Multilevel Inheritence**\n",
        "\n",
        "##### This types of inheritence allow you to build a hierarchy of classes where one class build upon another class and so on.\n",
        "##### In below syntax DerivedClass1 inherited from BaseClass and DerivedClass2 are inherited by DerivedClass1\n",
        "\n",
        "**Syntax:**\n",
        "\n",
        "         class BaseClass:        \n",
        "             Class Body  --Base class code   \n",
        "         class DerivedClass1(BaseClass):      \n",
        "             Class Body  --Derived Class 1 code \n",
        "         class DerivedClass2(DerivedClass1): \n",
        "             Class Body  --Derived class 2 code\n"
      ],
      "metadata": {
        "id": "Vo9Bo7Fy78T8"
      }
    },
    {
      "cell_type": "code",
      "source": [
        "# Multilevel Inheritence Example\n",
        "class A:\n",
        "  def m1(self):\n",
        "    print('Class A Method')\n",
        "\n",
        "class B(A):\n",
        "  def m2(self):\n",
        "    print('Class B method')\n",
        "\n",
        "class C(B):\n",
        "  def m3(self):\n",
        "    print('Class C method')\n",
        "\n",
        "c=C()\n",
        "print('*'*10,'Multilevel Inheritence Example','*'*10)\n",
        "c.m3()\n",
        "c.m1()"
      ],
      "metadata": {
        "id": "q7V7gtuL5bUp",
        "colab": {
          "base_uri": "https://localhost:8080/"
        },
        "outputId": "b7740c72-7e0a-4b75-8604-616fed22bd4e"
      },
      "execution_count": 8,
      "outputs": [
        {
          "output_type": "stream",
          "name": "stdout",
          "text": [
            "********** Multilevel Inheritence Example **********\n",
            "Class C method\n",
            "Class A Method\n"
          ]
        }
      ]
    },
    {
      "cell_type": "markdown",
      "source": [
        "#### **4. Hybrid Inheritence**\n",
        "\n",
        "##### It is a types of inheritence in which multiple inheritence is used to inherit the properties of multiple base class into single derived class.\n",
        "##### Below sytax are the example of Hybrid inheritence because it uses more then one type of inheritence(Single and Multiple Inheritence).\n",
        "\n",
        "\n",
        "**Syntax:**\n",
        "\n",
        "         class BaseClass:        \n",
        "             Base class code   \n",
        "         class DerivedClass1(BaseClass):      \n",
        "             Base class code \n",
        "         class DerivedClass2(BaseClass):      \n",
        "             Derived Class 2 code \n",
        "         class DerivedClass2(DerivedClass1,DerivedClass2): \n",
        "             Derived class 2 code"
      ],
      "metadata": {
        "id": "DmBNMRgBCy0m"
      }
    },
    {
      "cell_type": "code",
      "source": [
        "# Hybrid Inheritence Example\n",
        "class A:\n",
        "  def methodA(self):\n",
        "    print('Inside methodA')\n",
        "class B(A):\n",
        "  def methodB(self):\n",
        "    print('Inside methodB')\n",
        "class C(A):\n",
        "  def methodC(self):\n",
        "    print('Inside methodC')\n",
        "class D(C,B):\n",
        "  def methodD(self):\n",
        "    print('Inside methodD')\n",
        "\n",
        "d=D()\n",
        "d.methodD() \n",
        "d.methodB()"
      ],
      "metadata": {
        "colab": {
          "base_uri": "https://localhost:8080/"
        },
        "id": "VrztHqgkBb15",
        "outputId": "abd53dab-0dc9-474e-db0c-a844f82c8e2e"
      },
      "execution_count": 15,
      "outputs": [
        {
          "output_type": "stream",
          "name": "stdout",
          "text": [
            "Inside methodD\n",
            "Inside methodB\n"
          ]
        }
      ]
    },
    {
      "cell_type": "markdown",
      "source": [
        "#### **5. Hierarchical Inheritence**\n",
        "\n",
        "##### It is a types of inheritence where multiple subclass inherit from single base class or in other word,from one base class we can inherit any number of child class.\n",
        "\n",
        "\n",
        "**Syntax:**\n",
        "\n",
        "         class BaseClass:        \n",
        "             Base class code   \n",
        "         class DerivedClass1(BaseClass):      \n",
        "             Base class code \n",
        "         class DerivedClass2(BaseClass):      \n",
        "             Derived Class 2 code \n"
      ],
      "metadata": {
        "id": "bhC0r8O-HOG8"
      }
    },
    {
      "cell_type": "code",
      "source": [
        "# Hierarchical Inheritence Example\n",
        "class P:\n",
        "  def m1(self):\n",
        "    print('Parent Class method')\n",
        "\n",
        "class Q(P):     #inherit base class\n",
        "  def m2(self):\n",
        "    print('Child Method of class Q')\n",
        "\n",
        "class R(P):     #inherit base class\n",
        "  def m3(self):\n",
        "    print('Child Method of class R')\n",
        "    "
      ],
      "metadata": {
        "id": "glGsOrN4Fs85"
      },
      "execution_count": 1,
      "outputs": []
    },
    {
      "cell_type": "code",
      "source": [
        "q=Q()\n",
        "print('*'*10,'Hierarchical Inheritence Example','*'*10)\n",
        "q.m2()\n",
        "q.m1()"
      ],
      "metadata": {
        "colab": {
          "base_uri": "https://localhost:8080/"
        },
        "id": "Shb060GjCDQk",
        "outputId": "c5acb0ed-3b70-4f73-c73f-6607733b23c8"
      },
      "execution_count": 7,
      "outputs": [
        {
          "output_type": "stream",
          "name": "stdout",
          "text": [
            "********** Hierarchical Inheritence Example **********\n",
            "Child Method of class Q\n",
            "Parent Class method\n"
          ]
        }
      ]
    },
    {
      "cell_type": "markdown",
      "source": [
        "#### **Cyclic Inheritance:**\n",
        "##### 1. If class A need all property of it's own class then it is treated as cyclic inheritence.\n",
        "##### 2. No need of this type of inheritence hence all other langauge not provide support for this inheritence. \n",
        "\n",
        "**Syntax:**\n",
        "       \n",
        "         class className(className):      \n",
        "             class code "
      ],
      "metadata": {
        "id": "9VDvlQ5lAXB9"
      }
    },
    {
      "cell_type": "code",
      "source": [
        "# Cyclic Inheritance\n",
        "class A(A):\n",
        "  def method1(self):\n",
        "    print('inside class A');\n",
        "\n",
        "a=A();\n",
        "a.method1()"
      ],
      "metadata": {
        "id": "5XsEzFaLCYHG",
        "colab": {
          "base_uri": "https://localhost:8080/"
        },
        "outputId": "3ff29dd5-fe0a-4961-f510-2c4cf434f019"
      },
      "execution_count": 14,
      "outputs": [
        {
          "output_type": "stream",
          "name": "stdout",
          "text": [
            "inside class A\n"
          ]
        }
      ]
    },
    {
      "cell_type": "code",
      "source": [],
      "metadata": {
        "id": "Co_ZgCnfBCXs"
      },
      "execution_count": null,
      "outputs": []
    }
  ]
}