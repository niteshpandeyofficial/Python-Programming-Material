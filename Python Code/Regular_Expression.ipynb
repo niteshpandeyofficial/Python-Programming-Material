{
  "nbformat": 4,
  "nbformat_minor": 0,
  "metadata": {
    "colab": {
      "provenance": []
    },
    "kernelspec": {
      "name": "python3",
      "display_name": "Python 3"
    },
    "language_info": {
      "name": "python"
    }
  },
  "cells": [
    {
      "cell_type": "markdown",
      "source": [
        "**Regular expressions**\n",
        "\n",
        "A Regular Expressions (RegEx) is a special sequence of characters that uses a search pattern to find a string or set of strings.\n",
        "\n",
        "Regular expressions can contain both special and ordinary characters.\n",
        "Most ordinary characters, like 'A', 'a', or '0', are the simplest regular expressions;\n",
        "Some characters, like '|' or '(', are special. \n",
        "\n",
        "**The special characters are:**\n",
        "\n",
        "* **.**\n",
        "(Dot.) In the default mode, this matches any character except a newline. If the DOTALL flag has been specified, this matches any character including a newline.\n",
        "\n",
        "* **^** \n",
        "(Caret.) Matches the start of the string, and in MULTILINE mode also matches immediately after each newline.\n",
        "\n",
        "* **$**\n",
        "Matches the end of the string or just before the newline at the end of the string.\n",
        "\n",
        "* **(star(*))**  \n",
        "Causes the resulting RE to match 0 or more repetitions of the preceding RE, as many repetitions as are possible. ab* will match ‘a’, ‘ab’, or ‘a’ followed by any number of ‘b’s.\n",
        "\n",
        "* **+**  \n",
        "Causes the resulting RE to match 1 or more repetitions of the preceding RE. ab+ will match ‘a’ followed by any non-zero number of ‘b’s; it will not match just ‘a’.\n",
        "\n",
        "* **?**  \n",
        "Causes the resulting RE to match 0 or 1 repetitions of the preceding RE. ab? will match either ‘a’ or ‘ab’.\n",
        "\n",
        "* **{m}**     \n",
        "Specifies that exactly m copies of the previous RE should be matched;For example, a{6} will match exactly six 'a' characters, but not five.\n",
        "\n",
        "* **[]**     \n",
        "Used to indicate a set of characters.\n",
        "e.g. [amk] will match 'a', 'm', or 'k'.\n",
        "Ranges of characters [0-5][0-9]\n",
        "\n",
        "* **/**     \n",
        "Either escapes special characters (permitting you to match characters like '*', '?', and so forth), or signals a special sequence;\n",
        "\n",
        "* **|**  \n",
        "A|B, where A and B can be arbitrary REs, creates a regular expression that will match either A or B\n",
        "\n"
      ],
      "metadata": {
        "id": "4LblbQVya0iV"
      }
    },
    {
      "cell_type": "code",
      "execution_count": null,
      "metadata": {
        "id": "RfLsRbKIV43-"
      },
      "outputs": [],
      "source": [
        "import re"
      ]
    },
    {
      "cell_type": "code",
      "source": [
        "pattern='[abc]def'\n",
        "text='abcdef'\n",
        "m=re.search(pattern,text)\n"
      ],
      "metadata": {
        "id": "UNMmrOcDWGGd"
      },
      "execution_count": null,
      "outputs": []
    },
    {
      "cell_type": "code",
      "source": [
        "string='hello nitesh here'\n",
        "print(re.search('\\n',string))"
      ],
      "metadata": {
        "colab": {
          "base_uri": "https://localhost:8080/"
        },
        "id": "zsFoTE_dW1yT",
        "outputId": "0cf1620a-9118-4e79-c5c9-f646c5916483"
      },
      "execution_count": null,
      "outputs": [
        {
          "output_type": "stream",
          "name": "stdout",
          "text": [
            "None\n"
          ]
        }
      ]
    },
    {
      "cell_type": "code",
      "source": [
        "re.A"
      ],
      "metadata": {
        "colab": {
          "base_uri": "https://localhost:8080/"
        },
        "id": "QjgYgRCIhjB2",
        "outputId": "ca30d51d-4244-441e-8d0e-e783ba07140b"
      },
      "execution_count": null,
      "outputs": [
        {
          "output_type": "execute_result",
          "data": {
            "text/plain": [
              "re.ASCII"
            ]
          },
          "metadata": {},
          "execution_count": 14
        }
      ]
    },
    {
      "cell_type": "code",
      "source": [
        "#Perform case-insensitive matching; expressions like [A-Z] will also match lowercase letters.\n",
        "re.IGNORECASE"
      ],
      "metadata": {
        "colab": {
          "base_uri": "https://localhost:8080/"
        },
        "id": "62Fq1toliEmT",
        "outputId": "3be86721-261d-4522-e445-9f1071d1741f"
      },
      "execution_count": null,
      "outputs": [
        {
          "output_type": "execute_result",
          "data": {
            "text/plain": [
              "re.IGNORECASE"
            ]
          },
          "metadata": {},
          "execution_count": 15
        }
      ]
    },
    {
      "cell_type": "markdown",
      "source": [
        "#### **Function**\n",
        "**re.compile(pattern, flags=0)**  \n",
        "\n",
        "* Compile a regular expression pattern into a regular expression object, which can be used for matching using its match(), search() and other methods.\n",
        "\n",
        "* using re.compile() and saving the resulting regular expression object for reuse is more efficient when the expression will be used several times in a single program.\n",
        "\n"
      ],
      "metadata": {
        "id": "I7UVmLdTnJ6a"
      }
    },
    {
      "cell_type": "code",
      "source": [
        "prog=re.compile('[abc]+')\n",
        "result=prog.match('abc nitesh pandey')\n",
        "print(result)"
      ],
      "metadata": {
        "colab": {
          "base_uri": "https://localhost:8080/"
        },
        "id": "Vf_yggHhiXVO",
        "outputId": "dc45bfca-3ecb-4ef4-ca14-0cae45b7b544"
      },
      "execution_count": null,
      "outputs": [
        {
          "output_type": "stream",
          "name": "stdout",
          "text": [
            "<re.Match object; span=(0, 3), match='abc'>\n"
          ]
        }
      ]
    },
    {
      "cell_type": "code",
      "source": [
        "#Equivalent to above code\n",
        "#result = re.match(pattern, string)\n",
        "result = re.match('[abc]+', 'abc nitesh pandey')\n",
        "print(result)\n"
      ],
      "metadata": {
        "colab": {
          "base_uri": "https://localhost:8080/"
        },
        "id": "uZO7hFRoiHl5",
        "outputId": "0591a1a5-354c-4e5c-e6d7-92a2e787bbee"
      },
      "execution_count": null,
      "outputs": [
        {
          "output_type": "stream",
          "name": "stdout",
          "text": [
            "<re.Match object; span=(0, 3), match='abc'>\n"
          ]
        }
      ]
    },
    {
      "cell_type": "markdown",
      "source": [
        "**re.search(pattern, string, flags=0)**\n",
        "\n",
        "* Scan through string looking for the first location where the regular expression pattern produces a match, and return a corresponding match object. \n",
        "\n",
        "* Return None if no position in the string matches the pattern; note that this is different from finding a zero-length match at some point in the string."
      ],
      "metadata": {
        "id": "fD2pAqoppOO2"
      }
    },
    {
      "cell_type": "markdown",
      "source": [
        "**re.match(pattern, string, flags=0)**\n",
        "* If zero or more characters at the beginning of string match the regular expression pattern, return a corresponding match object. Return None if the string does not match the pattern"
      ],
      "metadata": {
        "id": "tEz5l7Ewpkci"
      }
    },
    {
      "cell_type": "markdown",
      "source": [
        "**Python offers different primitive operations based on regular expressions:**\n",
        "\n",
        "* **re.match()** checks for a match only at the beginning of the string.Return None if no position in the string matches the pattern\n",
        "* **re.search()** checks for a match anywhere in the string (this is what Perl does by default).\n",
        "* **re.fullmatch()** checks for entire string to be a match."
      ],
      "metadata": {
        "id": "jkbwwBxnp1Di"
      }
    },
    {
      "cell_type": "code",
      "source": [
        "pattern=re.compile('d')\n",
        "print(pattern.search('delete dog donkey')) # Match at index 0\n",
        "print(pattern.search('Man gd donkey')) # Match at index 5"
      ],
      "metadata": {
        "colab": {
          "base_uri": "https://localhost:8080/"
        },
        "id": "Mh-D8FxxC-FI",
        "outputId": "30ca13e2-00ea-414d-be32-4a239a7d137c"
      },
      "execution_count": 25,
      "outputs": [
        {
          "output_type": "stream",
          "name": "stdout",
          "text": [
            "<re.Match object; span=(0, 1), match='d'>\n",
            "<re.Match object; span=(5, 6), match='d'>\n"
          ]
        }
      ]
    },
    {
      "cell_type": "code",
      "source": [
        "pattern=re.compile('d')\n",
        "print(pattern.match('And Was Or do')) # No match as \"d\" is not at the start of given string hence return None\n",
        "print(pattern.match('do abcd'))       # Match at index 0"
      ],
      "metadata": {
        "colab": {
          "base_uri": "https://localhost:8080/"
        },
        "id": "AHDCLn3ZD2dv",
        "outputId": "7067b049-21fb-46e7-e1dd-5e5a6365477e"
      },
      "execution_count": 27,
      "outputs": [
        {
          "output_type": "stream",
          "name": "stdout",
          "text": [
            "None\n",
            "<re.Match object; span=(0, 1), match='d'>\n"
          ]
        }
      ]
    },
    {
      "cell_type": "markdown",
      "source": [
        "The Match object has properties and methods used to retrieve information about the search, and the result:\n",
        "\n",
        "* **span()** returns a tuple containing the start-, and end positions of the match.\n",
        "* **string** returns the string passed into the function\n",
        "* **group()** returns the part of the string where there was a match\n"
      ],
      "metadata": {
        "id": "zCorvwVsJ4hq"
      }
    },
    {
      "cell_type": "code",
      "source": [
        "pattern=re.compile('d')\n",
        "res=pattern.match('do abcd')\n",
        "print(res.span())\n",
        "\n",
        "pattern=re.compile('d')\n",
        "res=pattern.match('do abcd')\n",
        "print(res.string)\n",
        "\n",
        "pattern=re.compile('d')\n",
        "res=pattern.match('do abcd')\n",
        "print(res.group())"
      ],
      "metadata": {
        "colab": {
          "base_uri": "https://localhost:8080/"
        },
        "id": "w52P4akrJ39u",
        "outputId": "3fb79303-d2db-49cd-8363-6e8ee461d881"
      },
      "execution_count": 37,
      "outputs": [
        {
          "output_type": "stream",
          "name": "stdout",
          "text": [
            "(0, 1)\n",
            "do abcd\n",
            "d\n"
          ]
        }
      ]
    },
    {
      "cell_type": "code",
      "source": [
        "m = re.match(r\"(?P<first_name>\\w+) (?P<last_name>\\w+)\", \"Nitesh Pandey\")\n",
        "print(m.group('first_name'))\n",
        "print(m.group('last_name'))"
      ],
      "metadata": {
        "colab": {
          "base_uri": "https://localhost:8080/"
        },
        "id": "TJY7IU6hLLtr",
        "outputId": "aa4f428b-84d1-4a07-daa1-1b48905b2b27"
      },
      "execution_count": 40,
      "outputs": [
        {
          "output_type": "stream",
          "name": "stdout",
          "text": [
            "Nitesh\n",
            "Pandey\n"
          ]
        }
      ]
    },
    {
      "cell_type": "code",
      "source": [
        "#Named groups can also be referred to by their index:\n",
        "m.group(2)"
      ],
      "metadata": {
        "colab": {
          "base_uri": "https://localhost:8080/",
          "height": 35
        },
        "id": "27_1ieFsLkKG",
        "outputId": "85ea2836-c4ae-4951-9d31-c8dd79a52b95"
      },
      "execution_count": 43,
      "outputs": [
        {
          "output_type": "execute_result",
          "data": {
            "text/plain": [
              "'Pandey'"
            ],
            "application/vnd.google.colaboratory.intrinsic+json": {
              "type": "string"
            }
          },
          "metadata": {},
          "execution_count": 43
        }
      ]
    },
    {
      "cell_type": "code",
      "source": [
        "#Return a tuple containing all the subgroups of the match, from 1 up to however many groups are in the pattern.\n",
        "#Match.groups(default=None)\n",
        "res=re.match(r'(\\d+)\\.(\\d+)',\"241.34\")\n",
        "res.groups()\n"
      ],
      "metadata": {
        "colab": {
          "base_uri": "https://localhost:8080/"
        },
        "id": "EfZmOCfwMO0J",
        "outputId": "07acf241-00cd-4d3f-af6a-e9eb13cd2945"
      },
      "execution_count": 56,
      "outputs": [
        {
          "output_type": "execute_result",
          "data": {
            "text/plain": [
              "('241', '34')"
            ]
          },
          "metadata": {},
          "execution_count": 56
        }
      ]
    },
    {
      "cell_type": "code",
      "source": [
        "pattern=re.compile('d[on]')\n",
        "print(pattern.fullmatch('don'))              # No match as not the full string matches.\n",
        "print(pattern.fullmatch('do nothing',0,2))   # Matches within given limits."
      ],
      "metadata": {
        "colab": {
          "base_uri": "https://localhost:8080/"
        },
        "id": "jYPip6OZEybn",
        "outputId": "67b33f70-01a2-4671-f882-80b18d28697a"
      },
      "execution_count": 33,
      "outputs": [
        {
          "output_type": "stream",
          "name": "stdout",
          "text": [
            "None\n",
            "<re.Match object; span=(0, 2), match='do'>\n"
          ]
        }
      ]
    },
    {
      "cell_type": "markdown",
      "source": [
        "**re.split(pattern, string, maxsplit=0, flags=0)**\n",
        "\n",
        "* Split string by the occurrences of pattern.\n",
        "* The remainder of the string is returned as the final element of the list."
      ],
      "metadata": {
        "id": "qi7y3K9MqbxS"
      }
    },
    {
      "cell_type": "code",
      "source": [
        "print(re.split(r'\\W+', 'Nit Sam Tom'))"
      ],
      "metadata": {
        "colab": {
          "base_uri": "https://localhost:8080/"
        },
        "id": "a2jQ165gn5CB",
        "outputId": "f492ca0a-a8fe-4db9-e8c5-0d649159fb74"
      },
      "execution_count": null,
      "outputs": [
        {
          "output_type": "stream",
          "name": "stdout",
          "text": [
            "['Nit', 'Sam', 'Tom']\n"
          ]
        }
      ]
    },
    {
      "cell_type": "code",
      "source": [
        "text='''Good Morning \n",
        "have a nice day\n",
        "have a great future ahead '''"
      ],
      "metadata": {
        "id": "zejkDL2mQPx4"
      },
      "execution_count": 61,
      "outputs": []
    },
    {
      "cell_type": "markdown",
      "source": [
        "we convert the string into a list with each nonempty line having its own entry using **re.split(pattern,string)** function"
      ],
      "metadata": {
        "id": "zHMDWFFPQvVG"
      }
    },
    {
      "cell_type": "code",
      "source": [
        "re.split('\\n+',text)"
      ],
      "metadata": {
        "colab": {
          "base_uri": "https://localhost:8080/"
        },
        "id": "jdkdf29cQahb",
        "outputId": "64beaa67-c243-4d82-b713-175e6fd73d2a"
      },
      "execution_count": 62,
      "outputs": [
        {
          "output_type": "execute_result",
          "data": {
            "text/plain": [
              "['Good Morning ', 'have a nice day', 'have a great future ahead ']"
            ]
          },
          "metadata": {},
          "execution_count": 62
        }
      ]
    },
    {
      "cell_type": "code",
      "source": [],
      "metadata": {
        "id": "Yh6T9FJZQacp"
      },
      "execution_count": null,
      "outputs": []
    },
    {
      "cell_type": "code",
      "source": [],
      "metadata": {
        "id": "53gGBtN8QaZT"
      },
      "execution_count": null,
      "outputs": []
    },
    {
      "cell_type": "markdown",
      "source": [
        "* **\\A**  \n",
        "Returns a match if the specified characters are at the beginning of the string.\t\n",
        "\n",
        "* **\\b**\t\n",
        "Returns a match where the specified characters are at the beginning or at the end of a word (the \"r\" in the beginning is making sure that the string is being treated as a \"raw string\").\n",
        "\n",
        "* **\\B**\t\n",
        "Returns a match where the specified characters are present, but NOT at the beginning (or at the end) of a word (the \"r\" in the beginning is making sure that the string is being treated as a \"raw string\").\n",
        "\n",
        "* **\\d**\t\n",
        "Returns a match where the string contains digits (numbers from 0-9).\t\n",
        "\n",
        "* **\\D**\t\n",
        "Returns a match where the string DOES NOT contain digits.\n",
        "\n",
        "* **\\s**\t\n",
        "Returns a match where the string contains a white space character.\t\n",
        "\n",
        "* **\\S**\n",
        "Returns a match where the string DOES NOT contain a white space character.\t\n",
        "\n",
        "* **\\w**\t\n",
        "Returns a match where the string contains any word characters (characters from a to Z, digits from 0-9, and the underscore _ character).\t\t\n",
        "\n",
        "* **\\W**\t\n",
        "Returns a match where the string DOES NOT contain any word characters.\n",
        "\n",
        "* **\\Z**  \n",
        "Returns a match if the specified characters are at the end of the string."
      ],
      "metadata": {
        "id": "enYTlJqMxPao"
      }
    },
    {
      "cell_type": "markdown",
      "source": [
        "#### **Set**\n",
        "A **set** is a set of characters inside a pair of square brackets [] with a special meaning:\n",
        "\n",
        "* **[arn]**   \n",
        "Returns a match where one of the specified characters (a, r, or n) is present\t\n",
        "\n",
        "* **[a-n]**\t\n",
        "Returns a match for any lower case character, alphabetically between a and n\n",
        "\n",
        "* **[^arn]**\t\n",
        "Returns a match for any character EXCEPT a, r, and n\n",
        "\n",
        "* **[0123]**\t\n",
        "Returns a match where any of the specified digits (0, 1, 2, or 3) are present\t\n",
        "\n",
        "* **[0-9]**\t\n",
        "Returns a match for any digit between 0 and 9\t\n",
        "\n",
        "* **[0-5][0-9]**\tReturns a match for any two-digit numbers from 00 and 59\t\n",
        "\n",
        "* **[a-zA-Z]**\tReturns a match for any character alphabetically between a and z, lower case OR upper case.\n",
        "\n",
        "* **[+]**  \n",
        "In sets, +, *, ., |, (), $,{} has no special meaning, so [+] means: return a match for any + character in the string"
      ],
      "metadata": {
        "id": "ZuTTYur008cp"
      }
    },
    {
      "cell_type": "code",
      "source": [
        "import re\n",
        "print(re.findall(r'\\bf[a-z]+','You are from which city??'))\n",
        "print(re.findall(r'\\bf[a-z]+','Which are your favourite Film',re.IGNORECASE))"
      ],
      "metadata": {
        "id": "BsrljFfsrTux",
        "colab": {
          "base_uri": "https://localhost:8080/"
        },
        "outputId": "9c0bfaca-38fd-4a8d-a472-ef64d93e307e"
      },
      "execution_count": 5,
      "outputs": [
        {
          "output_type": "stream",
          "name": "stdout",
          "text": [
            "['from']\n",
            "['favourite', 'Film']\n"
          ]
        }
      ]
    },
    {
      "cell_type": "code",
      "source": [
        "# replace the value by given pattern in string\n",
        "# re.sub(pattern,replace_word,string)\n",
        "re.sub('we','I','we am happy')\n"
      ],
      "metadata": {
        "colab": {
          "base_uri": "https://localhost:8080/",
          "height": 35
        },
        "id": "e_rnQQyT3hwW",
        "outputId": "d2731ec1-95c2-4fa8-b990-335b0abb8211"
      },
      "execution_count": 19,
      "outputs": [
        {
          "output_type": "execute_result",
          "data": {
            "text/plain": [
              "'I am happy'"
            ],
            "application/vnd.google.colaboratory.intrinsic+json": {
              "type": "string"
            }
          },
          "metadata": {},
          "execution_count": 19
        }
      ]
    },
    {
      "cell_type": "code",
      "source": [
        "# replace the value by given pattern in string with number of substitute made\n",
        "# re.sub(pattern,replace_word,string)\n",
        "re.subn('we','I','we am happy')"
      ],
      "metadata": {
        "colab": {
          "base_uri": "https://localhost:8080/"
        },
        "id": "0tGGeXoZ-W-q",
        "outputId": "2eb1bc27-378b-4bdb-c731-5d11b4822acd"
      },
      "execution_count": 18,
      "outputs": [
        {
          "output_type": "execute_result",
          "data": {
            "text/plain": [
              "('I am happy', 1)"
            ]
          },
          "metadata": {},
          "execution_count": 18
        }
      ]
    },
    {
      "cell_type": "code",
      "source": [
        "#Escape special characters in pattern.\n",
        "re.escape('www.cracklogic.com\\about')"
      ],
      "metadata": {
        "colab": {
          "base_uri": "https://localhost:8080/",
          "height": 35
        },
        "id": "r_OYsspb-9Xb",
        "outputId": "aea6ee75-6101-4600-d26f-ad7daf1ba909"
      },
      "execution_count": 17,
      "outputs": [
        {
          "output_type": "execute_result",
          "data": {
            "text/plain": [
              "'www\\\\.cracklogic\\\\.com\\x07bout'"
            ],
            "application/vnd.google.colaboratory.intrinsic+json": {
              "type": "string"
            }
          },
          "metadata": {},
          "execution_count": 17
        }
      ]
    },
    {
      "cell_type": "code",
      "source": [
        "#Clear the regular expression cache.\n",
        "re.purge()\n"
      ],
      "metadata": {
        "id": "e-KeeoF3_MW4"
      },
      "execution_count": 20,
      "outputs": []
    },
    {
      "cell_type": "code",
      "source": [
        "# \\d is equivalent to [0-9].\n",
        "p = re.compile('\\d')\n",
        "print(p.findall(\"26th January 1950\"))\n",
        " \n",
        "# \\d+ will match a group on [0-9], group\n",
        "# of one or greater size\n",
        "p = re.compile('\\d+')\n",
        "print(p.findall(\"26th January 1950\"))"
      ],
      "metadata": {
        "colab": {
          "base_uri": "https://localhost:8080/"
        },
        "id": "Wd0A_6Wy_yhv",
        "outputId": "9c428965-1ace-4f7b-a6d3-3f07fd4a40fd"
      },
      "execution_count": 63,
      "outputs": [
        {
          "output_type": "stream",
          "name": "stdout",
          "text": [
            "['2', '6', '1', '9', '5', '0']\n",
            "['26', '1950']\n"
          ]
        }
      ]
    },
    {
      "cell_type": "code",
      "source": [],
      "metadata": {
        "id": "gp78gOqvSVnQ"
      },
      "execution_count": null,
      "outputs": []
    }
  ]
}