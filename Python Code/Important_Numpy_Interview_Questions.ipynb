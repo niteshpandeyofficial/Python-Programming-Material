{
  "cells": [
    {
      "cell_type": "markdown",
      "metadata": {
        "id": "ad8bmfWzcAUl"
      },
      "source": [
        "#### **Import Numpy and find the version**"
      ]
    },
    {
      "cell_type": "code",
      "execution_count": null,
      "metadata": {
        "colab": {
          "base_uri": "https://localhost:8080/"
        },
        "id": "LY0v9hDwcTdb",
        "outputId": "9ccea48f-9e27-42ba-c618-5bdaf788922d"
      },
      "outputs": [
        {
          "name": "stdout",
          "output_type": "stream",
          "text": [
            "1.22.4\n"
          ]
        }
      ],
      "source": [
        "import numpy as np\n",
        "print(np.__version__)"
      ]
    },
    {
      "cell_type": "markdown",
      "metadata": {
        "id": "rvnw_7KocZuv"
      },
      "source": [
        "#### **Convert Datatype of a numpy array**"
      ]
    },
    {
      "cell_type": "code",
      "execution_count": null,
      "metadata": {
        "colab": {
          "base_uri": "https://localhost:8080/"
        },
        "id": "fcULerh7ZJtt",
        "outputId": "e4bd8588-2973-40c7-eff8-c155d588443a"
      },
      "outputs": [
        {
          "data": {
            "text/plain": [
              "array([ 1. , 24. , 45.6, 34.5, 89.1])"
            ]
          },
          "execution_count": 1,
          "metadata": {},
          "output_type": "execute_result"
        }
      ],
      "source": [
        "import numpy as np\n",
        "arr=np.array([1,24,45.6,34.5,89.1])\n",
        "arr"
      ]
    },
    {
      "cell_type": "code",
      "execution_count": null,
      "metadata": {
        "colab": {
          "base_uri": "https://localhost:8080/"
        },
        "id": "quC5_Or9Z2xU",
        "outputId": "af778812-afea-4512-cb8c-2e8b03e1f463"
      },
      "outputs": [
        {
          "data": {
            "text/plain": [
              "dtype('float64')"
            ]
          },
          "execution_count": 3,
          "metadata": {},
          "output_type": "execute_result"
        }
      ],
      "source": [
        "arr.dtype"
      ]
    },
    {
      "cell_type": "code",
      "execution_count": null,
      "metadata": {
        "colab": {
          "base_uri": "https://localhost:8080/"
        },
        "id": "i79iaph9Z44w",
        "outputId": "7bde8464-fca7-47f7-ab9b-fd9950661999"
      },
      "outputs": [
        {
          "name": "stdout",
          "output_type": "stream",
          "text": [
            "int64\n"
          ]
        }
      ],
      "source": [
        "#Convert the data type of array from float to integer\n",
        "arr=arr.astype('int64')\n",
        "print(arr.dtype)"
      ]
    },
    {
      "cell_type": "code",
      "execution_count": null,
      "metadata": {
        "colab": {
          "base_uri": "https://localhost:8080/"
        },
        "id": "LyLju9SvaEGU",
        "outputId": "d75e2c1d-71a4-496a-e8fb-418e2b408dbf"
      },
      "outputs": [
        {
          "data": {
            "text/plain": [
              "array([ 1, 24, 45, 34, 89])"
            ]
          },
          "execution_count": 6,
          "metadata": {},
          "output_type": "execute_result"
        }
      ],
      "source": [
        "#Loss of values after decimal point due to conversion\n",
        "arr"
      ]
    },
    {
      "cell_type": "markdown",
      "metadata": {
        "id": "dBnJ7veN1--W"
      },
      "source": [
        "#### **Identify the datatype of a given NumPy array**"
      ]
    },
    {
      "cell_type": "code",
      "execution_count": null,
      "metadata": {
        "colab": {
          "base_uri": "https://localhost:8080/"
        },
        "id": "KqsO0h3S2Es-",
        "outputId": "cd7f946d-c6bb-4f9a-b4ea-c08385266c79"
      },
      "outputs": [
        {
          "name": "stdout",
          "output_type": "stream",
          "text": [
            "[[1 2 3]\n",
            " [4 5 6]]\n",
            "datatype of array is int64\n"
          ]
        }
      ],
      "source": [
        "num=[[1,2,3],[4,5,6]]\n",
        "arr=np.array(num)\n",
        "print(arr)\n",
        "print(f'datatype of array is {arr.dtype}')"
      ]
    },
    {
      "cell_type": "markdown",
      "metadata": {
        "id": "jRv6CiDMcffM"
      },
      "source": [
        "#### **Create 1D array** "
      ]
    },
    {
      "cell_type": "code",
      "execution_count": null,
      "metadata": {
        "colab": {
          "base_uri": "https://localhost:8080/"
        },
        "id": "Cez2MnWCci3d",
        "outputId": "cc1a2190-2d2b-4c2a-cbb2-bff189231c5d"
      },
      "outputs": [
        {
          "name": "stdout",
          "output_type": "stream",
          "text": [
            "[1 2 3 4 5 6 7 8 9]\n",
            "<class 'numpy.ndarray'>\n"
          ]
        }
      ],
      "source": [
        "arr=np.array(np.arange(1,10))\n",
        "print(arr)\n",
        "print(type(arr))"
      ]
    },
    {
      "cell_type": "markdown",
      "metadata": {
        "id": "iRywbLA9oUXk"
      },
      "source": [
        "#### **How do you create a 2D array**"
      ]
    },
    {
      "cell_type": "code",
      "execution_count": null,
      "metadata": {
        "colab": {
          "base_uri": "https://localhost:8080/"
        },
        "id": "WV3bgt7EoWJ-",
        "outputId": "f6097f35-aa08-4d50-df9b-ff843e1223bc"
      },
      "outputs": [
        {
          "name": "stdout",
          "output_type": "stream",
          "text": [
            "dimensions of created array is 2\n"
          ]
        }
      ],
      "source": [
        "num=[[1,2],[3,4]]\n",
        "arr_2d=np.array(num)\n",
        "print(f'dimensions of created array is {arr_2d.ndim}')"
      ]
    },
    {
      "cell_type": "markdown",
      "metadata": {
        "id": "BE8C3DTJoQVn"
      },
      "source": [
        "#### **How do you create a 3D array**\n"
      ]
    },
    {
      "cell_type": "code",
      "execution_count": null,
      "metadata": {
        "colab": {
          "base_uri": "https://localhost:8080/"
        },
        "id": "6wdQEhLtoOw7",
        "outputId": "9420e9f9-4b58-4fe1-f84f-67899cf43021"
      },
      "outputs": [
        {
          "name": "stdout",
          "output_type": "stream",
          "text": [
            "dimensions of created array is 3\n"
          ]
        }
      ],
      "source": [
        "num=[[[1,2,3],[4,5,6],[7,8,9]]]\n",
        "arr_3d=np.array(num)\n",
        "print(f'dimensions of created array is {arr_3d.ndim}')"
      ]
    },
    {
      "cell_type": "code",
      "execution_count": null,
      "metadata": {
        "id": "4PXnOH_hoP1Z"
      },
      "outputs": [],
      "source": []
    },
    {
      "cell_type": "code",
      "execution_count": null,
      "metadata": {
        "id": "LpuWhJiboPpA"
      },
      "outputs": [],
      "source": []
    },
    {
      "cell_type": "markdown",
      "metadata": {
        "id": "3B7PAhwpcvUx"
      },
      "source": [
        "#### **Create a 3*3 shape of ndarray**"
      ]
    },
    {
      "cell_type": "code",
      "execution_count": null,
      "metadata": {
        "colab": {
          "base_uri": "https://localhost:8080/"
        },
        "id": "Yb0pPmjzaIH-",
        "outputId": "db2c1ad6-23d6-46d6-f417-aad7d95e89da"
      },
      "outputs": [
        {
          "name": "stdout",
          "output_type": "stream",
          "text": [
            "[[1 2 3]\n",
            " [4 5 6]\n",
            " [7 8 9]]\n",
            "shape of an array is(3, 3)\n"
          ]
        }
      ],
      "source": [
        "arr=np.array(np.arange(1,10).reshape(3,3))\n",
        "print(arr)\n",
        "print(f'shape of an array is{arr.shape}')"
      ]
    },
    {
      "cell_type": "markdown",
      "metadata": {
        "id": "ktHN_KVqdPv6"
      },
      "source": [
        "#### **Create a 3*3 numpy array with True values**"
      ]
    },
    {
      "cell_type": "code",
      "execution_count": null,
      "metadata": {
        "colab": {
          "base_uri": "https://localhost:8080/"
        },
        "id": "xWd1maGjc-N2",
        "outputId": "1ed4118e-55c8-4c88-cdf2-e183884ac8fd"
      },
      "outputs": [
        {
          "data": {
            "text/plain": [
              "array([[ True,  True,  True],\n",
              "       [ True,  True,  True],\n",
              "       [ True,  True,  True]])"
            ]
          },
          "execution_count": 17,
          "metadata": {},
          "output_type": "execute_result"
        }
      ],
      "source": [
        "arr=np.full((3,3),fill_value=True) #np.full((3,3),True)\n",
        "arr"
      ]
    },
    {
      "cell_type": "code",
      "execution_count": null,
      "metadata": {
        "colab": {
          "base_uri": "https://localhost:8080/"
        },
        "id": "NPsxRY13dYBR",
        "outputId": "49ce8a2a-0d0f-4774-d770-5428c09fb488"
      },
      "outputs": [
        {
          "data": {
            "text/plain": [
              "array([[ True,  True,  True],\n",
              "       [ True,  True,  True],\n",
              "       [ True,  True,  True]])"
            ]
          },
          "execution_count": 2,
          "metadata": {},
          "output_type": "execute_result"
        }
      ],
      "source": [
        "#Method-2\n",
        "import numpy as np\n",
        "np.ones((3,3),dtype=bool)"
      ]
    },
    {
      "cell_type": "markdown",
      "metadata": {
        "id": "GrUsdcvpSymv"
      },
      "source": [
        "#### **Extract all odd number from array**"
      ]
    },
    {
      "cell_type": "code",
      "execution_count": null,
      "metadata": {
        "colab": {
          "base_uri": "https://localhost:8080/"
        },
        "id": "-9NfLQHjSdmG",
        "outputId": "504f5e47-c3d4-4d35-bb65-20c56d3ffa0d"
      },
      "outputs": [
        {
          "data": {
            "text/plain": [
              "array([1, 3, 5, 7, 9])"
            ]
          },
          "execution_count": 5,
          "metadata": {},
          "output_type": "execute_result"
        }
      ],
      "source": [
        "arr=np.arange(10)\n",
        "arr[arr%2==1]"
      ]
    },
    {
      "cell_type": "markdown",
      "metadata": {
        "id": "oZDTaCxlTVks"
      },
      "source": [
        "#### **Replace all odd numbers in array with -1**"
      ]
    },
    {
      "cell_type": "code",
      "execution_count": null,
      "metadata": {
        "colab": {
          "base_uri": "https://localhost:8080/"
        },
        "id": "6SzwfuxxTCBr",
        "outputId": "3d0c9d08-af0b-4b00-afa0-1aebabfdeda0"
      },
      "outputs": [
        {
          "data": {
            "text/plain": [
              "array([ 0, -1,  2, -1,  4, -1,  6, -1,  8, -1])"
            ]
          },
          "execution_count": 8,
          "metadata": {},
          "output_type": "execute_result"
        }
      ],
      "source": [
        "arr[arr%2==1]=-1\n",
        "arr"
      ]
    },
    {
      "cell_type": "code",
      "execution_count": null,
      "metadata": {
        "colab": {
          "base_uri": "https://localhost:8080/"
        },
        "id": "pWbgAXYgTRtz",
        "outputId": "eb1c3f4b-05d3-431b-d5e4-b8b4c3fe725a"
      },
      "outputs": [
        {
          "data": {
            "text/plain": [
              "array([[ 0, -1,  2, -1,  4, -1,  6, -1,  8, -1]])"
            ]
          },
          "execution_count": 9,
          "metadata": {},
          "output_type": "execute_result"
        }
      ],
      "source": [
        "arr=np.arange(10)\n",
        "np.where([arr%2==1],-1,arr)"
      ]
    },
    {
      "cell_type": "markdown",
      "metadata": {
        "id": "_rBlg6vYTyNi"
      },
      "source": [
        "#### **Convert one dimension array to 2 dimensions array**"
      ]
    },
    {
      "cell_type": "code",
      "execution_count": null,
      "metadata": {
        "colab": {
          "base_uri": "https://localhost:8080/"
        },
        "id": "v0atvqH3TSq0",
        "outputId": "618f1c10-b484-46d7-bc47-89c50e424171"
      },
      "outputs": [
        {
          "name": "stdout",
          "output_type": "stream",
          "text": [
            "[[0 1 2 3 4]\n",
            " [5 6 7 8 9]]\n",
            "dimensions of new array is 2\n"
          ]
        }
      ],
      "source": [
        "arr=np.arange(10)\n",
        "new_arr=arr.reshape(2,5)\n",
        "print(new_arr)\n",
        "print(f'dimensions of new array is {new_arr.ndim}')"
      ]
    },
    {
      "cell_type": "markdown",
      "metadata": {
        "id": "UVGYnaWVVP_I"
      },
      "source": [
        "#### **Stack array vertically**"
      ]
    },
    {
      "cell_type": "code",
      "execution_count": null,
      "metadata": {
        "colab": {
          "base_uri": "https://localhost:8080/"
        },
        "id": "yOnfVCqsT36G",
        "outputId": "fae0b226-3f64-45a9-92ee-3d9de9650af2"
      },
      "outputs": [
        {
          "name": "stdout",
          "output_type": "stream",
          "text": [
            "Array a \n",
            " [[0 1 2]\n",
            " [3 4 5]]\n",
            "Array b \n",
            " [[ 6  7  8]\n",
            " [ 9 10 11]]\n"
          ]
        }
      ],
      "source": [
        "a=np.arange(6).reshape(2,3)\n",
        "b=np.arange(6,12).reshape(2,3)\n",
        "print('Array a \\n',a)\n",
        "print('Array b \\n',b)"
      ]
    },
    {
      "cell_type": "code",
      "execution_count": null,
      "metadata": {
        "colab": {
          "base_uri": "https://localhost:8080/"
        },
        "id": "W0NA6MFDUgWq",
        "outputId": "70f2368c-9d13-4df5-886a-df6b5f27e3d4"
      },
      "outputs": [
        {
          "data": {
            "text/plain": [
              "array([[ 0,  1,  2],\n",
              "       [ 3,  4,  5],\n",
              "       [ 6,  7,  8],\n",
              "       [ 9, 10, 11]])"
            ]
          },
          "execution_count": 23,
          "metadata": {},
          "output_type": "execute_result"
        }
      ],
      "source": [
        "#Method-1\n",
        "np.concatenate([a,b])"
      ]
    },
    {
      "cell_type": "code",
      "execution_count": null,
      "metadata": {
        "colab": {
          "base_uri": "https://localhost:8080/"
        },
        "id": "sl4iBXAJU4L9",
        "outputId": "653b2f8f-c503-4828-8c65-9b6124522b72"
      },
      "outputs": [
        {
          "data": {
            "text/plain": [
              "array([[ 0,  1,  2],\n",
              "       [ 3,  4,  5],\n",
              "       [ 6,  7,  8],\n",
              "       [ 9, 10, 11]])"
            ]
          },
          "execution_count": 24,
          "metadata": {},
          "output_type": "execute_result"
        }
      ],
      "source": [
        "#Method-2\n",
        "np.vstack([a,b])"
      ]
    },
    {
      "cell_type": "code",
      "execution_count": null,
      "metadata": {
        "colab": {
          "base_uri": "https://localhost:8080/"
        },
        "id": "rF3D0ZqjVDNW",
        "outputId": "eee30909-d582-433e-f048-ad436b6d499b"
      },
      "outputs": [
        {
          "data": {
            "text/plain": [
              "array([[ 0,  1,  2],\n",
              "       [ 3,  4,  5],\n",
              "       [ 6,  7,  8],\n",
              "       [ 9, 10, 11]])"
            ]
          },
          "execution_count": 25,
          "metadata": {},
          "output_type": "execute_result"
        }
      ],
      "source": [
        "#Method-3\n",
        "np.r_[a,b]"
      ]
    },
    {
      "cell_type": "markdown",
      "metadata": {
        "id": "OoBTreJqVzPc"
      },
      "source": [
        "#### **Stack array Horizontaly**"
      ]
    },
    {
      "cell_type": "code",
      "execution_count": null,
      "metadata": {
        "colab": {
          "base_uri": "https://localhost:8080/"
        },
        "id": "r--wKFOuVMtj",
        "outputId": "31284f13-9718-4a7b-b733-49b71032f9b9"
      },
      "outputs": [
        {
          "name": "stdout",
          "output_type": "stream",
          "text": [
            "Array a \n",
            " [[0 1 2]\n",
            " [3 4 5]]\n",
            "Array b \n",
            " [[ 6  7  8]\n",
            " [ 9 10 11]]\n"
          ]
        }
      ],
      "source": [
        "a=np.arange(6).reshape(2,3)\n",
        "b=np.arange(6,12).reshape(2,3)\n",
        "print('Array a \\n',a)\n",
        "print('Array b \\n',b)"
      ]
    },
    {
      "cell_type": "code",
      "execution_count": null,
      "metadata": {
        "colab": {
          "base_uri": "https://localhost:8080/"
        },
        "id": "X8qygo74V7FZ",
        "outputId": "559f8caf-9c1d-4b72-adc4-9e61cbcc40dc"
      },
      "outputs": [
        {
          "data": {
            "text/plain": [
              "array([[ 0,  1,  2,  6,  7,  8],\n",
              "       [ 3,  4,  5,  9, 10, 11]])"
            ]
          },
          "execution_count": 27,
          "metadata": {},
          "output_type": "execute_result"
        }
      ],
      "source": [
        "#Method-1\n",
        "np.concatenate([a,b],axis=1)"
      ]
    },
    {
      "cell_type": "code",
      "execution_count": null,
      "metadata": {
        "colab": {
          "base_uri": "https://localhost:8080/"
        },
        "id": "X-ouHeypWCvk",
        "outputId": "56cfe56f-0c6e-48a1-f97b-b96a5294b6ee"
      },
      "outputs": [
        {
          "data": {
            "text/plain": [
              "array([[ 0,  1,  2,  6,  7,  8],\n",
              "       [ 3,  4,  5,  9, 10, 11]])"
            ]
          },
          "execution_count": 29,
          "metadata": {},
          "output_type": "execute_result"
        }
      ],
      "source": [
        "#Method-2\n",
        "np.hstack([a,b])"
      ]
    },
    {
      "cell_type": "code",
      "execution_count": null,
      "metadata": {
        "colab": {
          "base_uri": "https://localhost:8080/"
        },
        "id": "mvlW49p5WGP7",
        "outputId": "d8f64819-e239-40af-c7fc-ff14098b15db"
      },
      "outputs": [
        {
          "data": {
            "text/plain": [
              "array([[ 0,  1,  2,  6,  7,  8],\n",
              "       [ 3,  4,  5,  9, 10, 11]])"
            ]
          },
          "execution_count": 30,
          "metadata": {},
          "output_type": "execute_result"
        }
      ],
      "source": [
        "#Method-3\n",
        "np.c_[a,b]"
      ]
    },
    {
      "cell_type": "markdown",
      "metadata": {
        "id": "EKTmq0pqYhmM"
      },
      "source": [
        "#### **Create a specified repetition of each element in given array**"
      ]
    },
    {
      "cell_type": "code",
      "execution_count": null,
      "metadata": {
        "colab": {
          "base_uri": "https://localhost:8080/"
        },
        "id": "n4VE5YXwWQk5",
        "outputId": "4b3d16aa-7c03-4c31-8667-b146444f3c0b"
      },
      "outputs": [
        {
          "data": {
            "text/plain": [
              "array([1, 2, 3])"
            ]
          },
          "execution_count": 33,
          "metadata": {},
          "output_type": "execute_result"
        }
      ],
      "source": [
        "# array([1,1,1,2,2,2,3,3,3])\n",
        "arr=np.arange(1,4)\n",
        "arr"
      ]
    },
    {
      "cell_type": "code",
      "execution_count": null,
      "metadata": {
        "colab": {
          "base_uri": "https://localhost:8080/"
        },
        "id": "uQaER1coY-GG",
        "outputId": "c45d6d4b-2cd5-4d0e-a56b-9f2d2c566375"
      },
      "outputs": [
        {
          "data": {
            "text/plain": [
              "array([1, 1, 1, 2, 2, 2, 3, 3, 3])"
            ]
          },
          "execution_count": 34,
          "metadata": {},
          "output_type": "execute_result"
        }
      ],
      "source": [
        "np.repeat(arr,3)"
      ]
    },
    {
      "cell_type": "markdown",
      "metadata": {
        "id": "h1AZy4JwZT5y"
      },
      "source": [
        "#### **Create a specified repetition of given array**"
      ]
    },
    {
      "cell_type": "code",
      "execution_count": null,
      "metadata": {
        "colab": {
          "base_uri": "https://localhost:8080/"
        },
        "id": "ueWeAR4mZF-e",
        "outputId": "620e2eb3-64e9-49f4-d47d-8802ddd6552b"
      },
      "outputs": [
        {
          "data": {
            "text/plain": [
              "array([1, 2, 3])"
            ]
          },
          "execution_count": 35,
          "metadata": {},
          "output_type": "execute_result"
        }
      ],
      "source": [
        "# arr([1,2,3,1,2,3])\n",
        "arr=np.arange(1,4)\n",
        "arr"
      ]
    },
    {
      "cell_type": "code",
      "execution_count": null,
      "metadata": {
        "colab": {
          "base_uri": "https://localhost:8080/"
        },
        "id": "Mgy9Y_trZfOk",
        "outputId": "627b123c-e499-4b21-9198-cd21f0c8ef0c"
      },
      "outputs": [
        {
          "data": {
            "text/plain": [
              "array([1, 2, 3, 1, 2, 3])"
            ]
          },
          "execution_count": 36,
          "metadata": {},
          "output_type": "execute_result"
        }
      ],
      "source": [
        "np.tile(arr,2)"
      ]
    },
    {
      "cell_type": "markdown",
      "metadata": {
        "id": "uyGvjPCVdoPg"
      },
      "source": [
        "#### **Get the common items between a and b**"
      ]
    },
    {
      "cell_type": "code",
      "execution_count": null,
      "metadata": {
        "colab": {
          "base_uri": "https://localhost:8080/"
        },
        "id": "k7nwOptPZlXP",
        "outputId": "c9a542b8-51a4-4b04-8527-0481b003c843"
      },
      "outputs": [
        {
          "name": "stdout",
          "output_type": "stream",
          "text": [
            "Array a is \n",
            " [1 2 3 4 5 6 7 8 9]\n",
            "Array b is \n",
            " [ 4  5  6  7  8  9 10 11]\n"
          ]
        }
      ],
      "source": [
        "a=np.arange(1,10)\n",
        "b=np.arange(4,12)\n",
        "print(f'Array a is \\n {a}')\n",
        "print(f'Array b is \\n {b}')"
      ]
    },
    {
      "cell_type": "code",
      "execution_count": null,
      "metadata": {
        "colab": {
          "base_uri": "https://localhost:8080/"
        },
        "id": "lBJPRU5yeEYo",
        "outputId": "a36f0109-17b3-42ad-9a41-ccbd14adc9d7"
      },
      "outputs": [
        {
          "data": {
            "text/plain": [
              "array([4, 5, 6, 7, 8, 9])"
            ]
          },
          "execution_count": 40,
          "metadata": {},
          "output_type": "execute_result"
        }
      ],
      "source": [
        "np.intersect1d(a,b)"
      ]
    },
    {
      "cell_type": "markdown",
      "metadata": {
        "id": "Zg3sk0jFk8NV"
      },
      "source": [
        "#### Multiply a matrix of dimension 5x3 with another matrix of dimension 3x2"
      ]
    },
    {
      "cell_type": "code",
      "execution_count": null,
      "metadata": {
        "colab": {
          "base_uri": "https://localhost:8080/"
        },
        "id": "-xUXpqULkSiN",
        "outputId": "52703e1d-dbb7-4e23-ddbe-0cf99e840431"
      },
      "outputs": [
        {
          "name": "stdout",
          "output_type": "stream",
          "text": [
            "[[-0.35504488  0.83013323  0.21705201]\n",
            " [ 0.3879345  -1.53976688 -0.01080784]\n",
            " [ 0.98356079 -0.61385025 -0.28383968]\n",
            " [-1.9846864   0.97049666  0.08404354]\n",
            " [-1.374688    0.85570848  0.11928666]]\n",
            "[[-0.98741571 -0.63852505]\n",
            " [ 1.01649114 -0.08112192]\n",
            " [-1.237049   -0.20416356]]\n"
          ]
        }
      ],
      "source": [
        "a=np.random.randn(5,3)\n",
        "b=np.random.randn(3,2)\n",
        "\n",
        "print(a)\n",
        "print(b)"
      ]
    },
    {
      "cell_type": "code",
      "execution_count": null,
      "metadata": {
        "colab": {
          "base_uri": "https://localhost:8080/"
        },
        "id": "eIeCocVbkiZt",
        "outputId": "1235d81a-7f97-4e66-bf1c-c025d3d619f0"
      },
      "outputs": [
        {
          "data": {
            "text/plain": [
              "array([[ 0.92589599,  0.11504893],\n",
              "       [-1.93484217, -0.12059048],\n",
              "       [-1.24403313, -0.52028177],\n",
              "       [ 2.84224582,  1.1713848 ],\n",
              "       [ 2.07964517,  0.78400201]])"
            ]
          },
          "execution_count": 22,
          "metadata": {},
          "output_type": "execute_result"
        }
      ],
      "source": [
        "np.matmul(a,b)"
      ]
    },
    {
      "cell_type": "code",
      "execution_count": null,
      "metadata": {
        "colab": {
          "base_uri": "https://localhost:8080/"
        },
        "id": "ccmJenSJkvOA",
        "outputId": "c24fd16c-78e3-40a8-b17c-5249c4c8beda"
      },
      "outputs": [
        {
          "data": {
            "text/plain": [
              "array([[ 0.92589599,  0.11504893],\n",
              "       [-1.93484217, -0.12059048],\n",
              "       [-1.24403313, -0.52028177],\n",
              "       [ 2.84224582,  1.1713848 ],\n",
              "       [ 2.07964517,  0.78400201]])"
            ]
          },
          "execution_count": 24,
          "metadata": {},
          "output_type": "execute_result"
        }
      ],
      "source": [
        "#It produce same output as above shell output\n",
        "a@b"
      ]
    },
    {
      "cell_type": "markdown",
      "metadata": {
        "id": "WfFcXpZaeaQ8"
      },
      "source": [
        "#### **Remove all element from c array which is present in d array.**"
      ]
    },
    {
      "cell_type": "code",
      "execution_count": null,
      "metadata": {
        "colab": {
          "base_uri": "https://localhost:8080/"
        },
        "id": "5-e3ovzmeGsl",
        "outputId": "c04a437b-7fe6-439e-9081-5eb17f03b5b7"
      },
      "outputs": [
        {
          "name": "stdout",
          "output_type": "stream",
          "text": [
            "Array c is \n",
            " [2 3 4 5 6]\n",
            "Array d is \n",
            " [2 3 5 8 9]\n"
          ]
        }
      ],
      "source": [
        "c=np.array([2,3,4,5,6])\n",
        "d=np.array([2,3,5,8,9])\n",
        "print(f'Array c is \\n {c}')\n",
        "print(f'Array d is \\n {d}')"
      ]
    },
    {
      "cell_type": "code",
      "execution_count": null,
      "metadata": {
        "colab": {
          "base_uri": "https://localhost:8080/"
        },
        "id": "rot0rv7DlavJ",
        "outputId": "7491f198-cd32-4bc7-defb-8d72449a8ddb"
      },
      "outputs": [
        {
          "data": {
            "text/plain": [
              "array([4, 6])"
            ]
          },
          "execution_count": 43,
          "metadata": {},
          "output_type": "execute_result"
        }
      ],
      "source": [
        "np.setdiff1d(c,d)"
      ]
    },
    {
      "cell_type": "markdown",
      "metadata": {
        "id": "wP73w_OBlr4u"
      },
      "source": [
        "#### **Get the index position where element of each array is matched**"
      ]
    },
    {
      "cell_type": "code",
      "execution_count": null,
      "metadata": {
        "colab": {
          "base_uri": "https://localhost:8080/"
        },
        "id": "0livDDcclfOR",
        "outputId": "c1e885f7-44c0-4241-ba72-8ec56ddc4646"
      },
      "outputs": [
        {
          "data": {
            "text/plain": [
              "(array([0, 1]),)"
            ]
          },
          "execution_count": 44,
          "metadata": {},
          "output_type": "execute_result"
        }
      ],
      "source": [
        "np.where(c==d)"
      ]
    },
    {
      "cell_type": "markdown",
      "metadata": {
        "id": "Bo3pcYtgl4jF"
      },
      "source": [
        "#### **Get All items between 4 and 8**"
      ]
    },
    {
      "cell_type": "code",
      "execution_count": null,
      "metadata": {
        "colab": {
          "base_uri": "https://localhost:8080/"
        },
        "id": "oCdJ8ZWZl1Un",
        "outputId": "a82a3191-cafd-43b0-c3ee-df245e927da4"
      },
      "outputs": [
        {
          "data": {
            "text/plain": [
              "(array([3, 4, 5]),)"
            ]
          },
          "execution_count": 51,
          "metadata": {},
          "output_type": "execute_result"
        }
      ],
      "source": [
        "import numpy as np\n",
        "a=np.array([1,2,3,4,6,8,9])\n"
      ]
    },
    {
      "cell_type": "code",
      "execution_count": null,
      "metadata": {
        "colab": {
          "base_uri": "https://localhost:8080/"
        },
        "id": "eMMGUrLNpJ8y",
        "outputId": "0fdd5cdd-6994-43a5-8376-a5e916113b98"
      },
      "outputs": [
        {
          "data": {
            "text/plain": [
              "array([6, 8])"
            ]
          },
          "execution_count": 55,
          "metadata": {},
          "output_type": "execute_result"
        }
      ],
      "source": [
        "#method-1\n",
        "ind_val=np.where((a>=5)&(a<=8))\n",
        "a[ind_val]"
      ]
    },
    {
      "cell_type": "code",
      "execution_count": null,
      "metadata": {
        "colab": {
          "base_uri": "https://localhost:8080/"
        },
        "id": "P6ECrzQyqDL1",
        "outputId": "e591dc9b-be3e-4cb6-8b06-46c3a27e3fbd"
      },
      "outputs": [
        {
          "data": {
            "text/plain": [
              "array([6, 8])"
            ]
          },
          "execution_count": 57,
          "metadata": {},
          "output_type": "execute_result"
        }
      ],
      "source": [
        "#method-2\n",
        "ind_val=np.where(np.logical_and((a>=5),(a<=8)))\n",
        "a[ind_val]"
      ]
    },
    {
      "cell_type": "code",
      "execution_count": null,
      "metadata": {
        "colab": {
          "base_uri": "https://localhost:8080/"
        },
        "id": "dHw9O7rdqrvc",
        "outputId": "f8cee615-fb0a-4e2b-c580-e27da10d250b"
      },
      "outputs": [
        {
          "data": {
            "text/plain": [
              "array([6, 8])"
            ]
          },
          "execution_count": 58,
          "metadata": {},
          "output_type": "execute_result"
        }
      ],
      "source": [
        "#method-3\n",
        "a[(a>=5)&(a<=8)]"
      ]
    },
    {
      "cell_type": "markdown",
      "metadata": {
        "id": "eCzqGiSStdAC"
      },
      "source": [
        "#### **Find the max values from 2 different ndarrays**"
      ]
    },
    {
      "cell_type": "code",
      "execution_count": null,
      "metadata": {
        "id": "YQhAqiA5rEj5"
      },
      "outputs": [],
      "source": [
        "x=np.array([1,2,3,45])\n",
        "y=np.array([3,4,5,6])"
      ]
    },
    {
      "cell_type": "code",
      "execution_count": null,
      "metadata": {
        "id": "RrsvdE-hrq0G"
      },
      "outputs": [],
      "source": [
        "def max_value(x,y):\n",
        "  if x>=y:\n",
        "    return x\n",
        "  else:\n",
        "    return y\n"
      ]
    },
    {
      "cell_type": "code",
      "execution_count": null,
      "metadata": {
        "id": "Z1KcdtLisMBO"
      },
      "outputs": [],
      "source": [
        "pair_val=np.vectorize(max_value,otypes=['float64'])"
      ]
    },
    {
      "cell_type": "code",
      "execution_count": null,
      "metadata": {
        "colab": {
          "base_uri": "https://localhost:8080/"
        },
        "id": "9LNp6DT6sUsc",
        "outputId": "3951dc7e-de40-45e8-ceee-13afd3e08c5a"
      },
      "outputs": [
        {
          "data": {
            "text/plain": [
              "array([ 3.,  4.,  5., 45.])"
            ]
          },
          "execution_count": 76,
          "metadata": {},
          "output_type": "execute_result"
        }
      ],
      "source": [
        "pair_val(x,y)"
      ]
    },
    {
      "cell_type": "code",
      "execution_count": null,
      "metadata": {},
      "outputs": [],
      "source": [
        "## Using User defind method\n",
        "\n",
        "def ele_wise_pair(x,y):\n",
        "  for i in range(len(x)):\n",
        "    if x[i]>=y[i]:      \n",
        "      print(x[i],end=' ')      \n",
        "    else:\n",
        "       print(y[i],end=' ')\n",
        "        \n",
        "\n",
        "ele_wise_pair([1,3,5,7],[2,4,5,6])"
      ]
    },
    {
      "cell_type": "markdown",
      "metadata": {
        "id": "s9Z7R8IHt_Pa"
      },
      "source": [
        "#### **Swap columns 1 and 2 in the array**"
      ]
    },
    {
      "cell_type": "code",
      "execution_count": null,
      "metadata": {
        "colab": {
          "base_uri": "https://localhost:8080/"
        },
        "id": "AUqc3ThQs-b2",
        "outputId": "e4e13562-04b0-453b-f074-540b58a96592"
      },
      "outputs": [
        {
          "data": {
            "text/plain": [
              "array([[0, 1, 2],\n",
              "       [3, 4, 5],\n",
              "       [6, 7, 8]])"
            ]
          },
          "execution_count": 78,
          "metadata": {},
          "output_type": "execute_result"
        }
      ],
      "source": [
        "arr=np.arange(0,9).reshape(3,3)"
      ]
    },
    {
      "cell_type": "code",
      "execution_count": null,
      "metadata": {
        "colab": {
          "base_uri": "https://localhost:8080/"
        },
        "id": "Y_hGVMUuuJkj",
        "outputId": "b676f694-39af-4b2c-f94e-0bf7e2cc8007"
      },
      "outputs": [
        {
          "data": {
            "text/plain": [
              "array([[1, 0, 2],\n",
              "       [4, 3, 5],\n",
              "       [7, 6, 8]])"
            ]
          },
          "execution_count": 79,
          "metadata": {},
          "output_type": "execute_result"
        }
      ],
      "source": [
        "arr[:,[1,0,2]]"
      ]
    },
    {
      "cell_type": "markdown",
      "metadata": {
        "id": "sjuI8ekWuiVz"
      },
      "source": [
        "#### **Swap rows of array**"
      ]
    },
    {
      "cell_type": "code",
      "execution_count": null,
      "metadata": {
        "colab": {
          "base_uri": "https://localhost:8080/"
        },
        "id": "EySYEEsGuUXm",
        "outputId": "fe823c20-ab9a-471e-b7c6-290d8d3c09f6"
      },
      "outputs": [
        {
          "data": {
            "text/plain": [
              "array([[3, 4, 5],\n",
              "       [0, 1, 2],\n",
              "       [6, 7, 8]])"
            ]
          },
          "execution_count": 80,
          "metadata": {},
          "output_type": "execute_result"
        }
      ],
      "source": [
        "arr[[1,0,2],:]"
      ]
    },
    {
      "cell_type": "markdown",
      "metadata": {
        "id": "gvvVuxEc73jC"
      },
      "source": [
        "####**reverse a NumPy array**"
      ]
    },
    {
      "cell_type": "code",
      "execution_count": null,
      "metadata": {
        "colab": {
          "base_uri": "https://localhost:8080/"
        },
        "id": "bzz3R9nG7wqZ",
        "outputId": "565f751a-670c-4669-b170-c49b69a3865c"
      },
      "outputs": [
        {
          "name": "stdout",
          "output_type": "stream",
          "text": [
            "[4 3 8 5 1]\n"
          ]
        }
      ],
      "source": [
        "arr=np.array([1,5,8,3,4])\n",
        "reverse_arr=arr[::-1]\n",
        "print(reverse_arr)"
      ]
    },
    {
      "cell_type": "code",
      "execution_count": null,
      "metadata": {
        "colab": {
          "base_uri": "https://localhost:8080/"
        },
        "id": "Xx8pfxQF8d_R",
        "outputId": "e9753a06-b58e-49d5-ecbb-b0dfddc5878a"
      },
      "outputs": [
        {
          "name": "stdout",
          "output_type": "stream",
          "text": [
            "[4 3 8 5 1]\n"
          ]
        }
      ],
      "source": [
        "#method-2\n",
        "reverse_arr = np.flipud(arr)\n",
        "print(reverse_arr)"
      ]
    },
    {
      "cell_type": "markdown",
      "metadata": {
        "id": "nGSaa6rsHDQ4"
      },
      "source": [
        "#### **fliplr vs flipud**\n",
        "* fliplr() \n",
        "    1.  The fliplr() method is used for flipping an array in the left or right direction.\n",
        "    2.  Requires the array to be at least 2-D.\n",
        "\n",
        "\n",
        "* flipud()\n",
        "    1. The flipud() method is used for flipping an array in the up or down direction.\n",
        "    2. Requires the array to be at least 1-D"
      ]
    },
    {
      "cell_type": "code",
      "execution_count": null,
      "metadata": {
        "colab": {
          "base_uri": "https://localhost:8080/"
        },
        "id": "JRhRDnRrB_2S",
        "outputId": "d62e1166-0d84-4ebc-828b-a56980bc3dba"
      },
      "outputs": [
        {
          "name": "stdout",
          "output_type": "stream",
          "text": [
            "[[1 2]\n",
            " [3 4]\n",
            " [5 6]\n",
            " [7 8]]\n",
            "Result of flipped array is:\n"
          ]
        },
        {
          "data": {
            "text/plain": [
              "array([[2, 1],\n",
              "       [4, 3],\n",
              "       [6, 5],\n",
              "       [8, 7]])"
            ]
          },
          "execution_count": 49,
          "metadata": {},
          "output_type": "execute_result"
        }
      ],
      "source": [
        "import numpy as np\n",
        "arr=np.array(np.arange(1,9).reshape(4,2))\n",
        "print(arr)\n",
        "print('Result of flipped array is:')\n",
        "np.fliplr(arr)"
      ]
    },
    {
      "cell_type": "code",
      "execution_count": null,
      "metadata": {
        "colab": {
          "base_uri": "https://localhost:8080/"
        },
        "id": "JTUKt4VmHvA9",
        "outputId": "1926d65a-674d-4642-cee2-7febd93f7d72"
      },
      "outputs": [
        {
          "name": "stdout",
          "output_type": "stream",
          "text": [
            "[[1 2]\n",
            " [3 4]\n",
            " [5 6]\n",
            " [7 8]]\n",
            "Result of flipped array is:\n"
          ]
        },
        {
          "data": {
            "text/plain": [
              "array([[7, 8],\n",
              "       [5, 6],\n",
              "       [3, 4],\n",
              "       [1, 2]])"
            ]
          },
          "execution_count": 50,
          "metadata": {},
          "output_type": "execute_result"
        }
      ],
      "source": [
        "import numpy as np\n",
        "arr=np.array(np.arange(1,9).reshape(4,2))\n",
        "print(arr)\n",
        "print('Result of flipped array is:')\n",
        "np.flipud(arr)"
      ]
    },
    {
      "cell_type": "markdown",
      "metadata": {
        "id": "L_WzCPK7upJ9"
      },
      "source": [
        "#### **Reverse the rows of an array**"
      ]
    },
    {
      "cell_type": "code",
      "execution_count": null,
      "metadata": {
        "colab": {
          "base_uri": "https://localhost:8080/"
        },
        "id": "ifU-9HFCugCu",
        "outputId": "06e14125-163f-4695-e618-1069db72827f"
      },
      "outputs": [
        {
          "data": {
            "text/plain": [
              "array([[6, 7, 8],\n",
              "       [3, 4, 5],\n",
              "       [0, 1, 2]])"
            ]
          },
          "execution_count": 81,
          "metadata": {},
          "output_type": "execute_result"
        }
      ],
      "source": [
        "arr[::-1]"
      ]
    },
    {
      "cell_type": "markdown",
      "metadata": {
        "id": "4iyy23GMvNs3"
      },
      "source": [
        "#### **Reverse the columns of an array**"
      ]
    },
    {
      "cell_type": "code",
      "execution_count": null,
      "metadata": {
        "colab": {
          "base_uri": "https://localhost:8080/"
        },
        "id": "oNhYo_cxu-ll",
        "outputId": "68c17105-609d-463e-fda4-3c348e5385a3"
      },
      "outputs": [
        {
          "data": {
            "text/plain": [
              "array([[2, 1, 0],\n",
              "       [5, 4, 3],\n",
              "       [8, 7, 6]])"
            ]
          },
          "execution_count": 82,
          "metadata": {},
          "output_type": "execute_result"
        }
      ],
      "source": [
        "arr[:,::-1]"
      ]
    },
    {
      "cell_type": "markdown",
      "metadata": {
        "id": "guu_twFFwDG9"
      },
      "source": [
        "#### **Create a random number between 5 and 10 having size of (5,3)**"
      ]
    },
    {
      "cell_type": "code",
      "execution_count": null,
      "metadata": {
        "colab": {
          "base_uri": "https://localhost:8080/"
        },
        "id": "NFAyETcZvKiX",
        "outputId": "847aab8e-1302-4c6e-a421-f5286d67dd45"
      },
      "outputs": [
        {
          "data": {
            "text/plain": [
              "array([[6, 7, 5],\n",
              "       [5, 7, 6],\n",
              "       [6, 5, 6],\n",
              "       [6, 8, 7],\n",
              "       [7, 8, 5]])"
            ]
          },
          "execution_count": 86,
          "metadata": {},
          "output_type": "execute_result"
        }
      ],
      "source": [
        "import random\n",
        "np.array(np.random.randint(5,10,size=(5,3)))"
      ]
    },
    {
      "cell_type": "code",
      "execution_count": null,
      "metadata": {
        "colab": {
          "base_uri": "https://localhost:8080/"
        },
        "id": "Ri0ZkEaIvV6G",
        "outputId": "b76d8139-8729-4f54-f56d-8d41ff26f67d"
      },
      "outputs": [
        {
          "data": {
            "text/plain": [
              "array([[0.66 , 0.328, 0.218],\n",
              "       [0.556, 0.673, 0.749],\n",
              "       [0.31 , 0.768, 0.437],\n",
              "       [0.871, 0.159, 0.183],\n",
              "       [0.6  , 0.394, 0.281]])"
            ]
          },
          "execution_count": 94,
          "metadata": {},
          "output_type": "execute_result"
        }
      ],
      "source": [
        "#method-1\n",
        "rand_arr=np.random.random([5,3])\n",
        "np.around(rand_arr, decimals=3)"
      ]
    },
    {
      "cell_type": "code",
      "execution_count": null,
      "metadata": {
        "colab": {
          "base_uri": "https://localhost:8080/"
        },
        "id": "YEilc_TC2fn3",
        "outputId": "490e8a66-7c35-447a-d712-a12b3254591f"
      },
      "outputs": [
        {
          "data": {
            "text/plain": [
              "array([[0.66 , 0.328, 0.218],\n",
              "       [0.556, 0.673, 0.749],\n",
              "       [0.31 , 0.768, 0.437],\n",
              "       [0.871, 0.159, 0.183],\n",
              "       [0.6  , 0.394, 0.281]])"
            ]
          },
          "execution_count": 96,
          "metadata": {},
          "output_type": "execute_result"
        }
      ],
      "source": [
        "#method-2\n",
        "np.set_printoptions(precision=3)\n",
        "rand_arr\n"
      ]
    },
    {
      "cell_type": "markdown",
      "metadata": {
        "id": "P3QkQY2pLB4F"
      },
      "source": [
        "####**How to suppress the use of scientific notations for small numbers using NumPy.**"
      ]
    },
    {
      "cell_type": "code",
      "execution_count": null,
      "metadata": {
        "colab": {
          "base_uri": "https://localhost:8080/"
        },
        "id": "na0P668y2g8B",
        "outputId": "2d20206e-30e7-4600-e7f0-b30ff8998709"
      },
      "outputs": [
        {
          "data": {
            "text/plain": [
              "array([[0.00034941, 0.00061035],\n",
              "       [0.0004989 , 0.00062649]])"
            ]
          },
          "execution_count": 2,
          "metadata": {},
          "output_type": "execute_result"
        }
      ],
      "source": [
        "import numpy as np\n",
        "rand_arr=np.random.random([2,2])/1e3\n",
        "rand_arr\n"
      ]
    },
    {
      "cell_type": "code",
      "execution_count": null,
      "metadata": {
        "colab": {
          "base_uri": "https://localhost:8080/"
        },
        "id": "ZyR-T0QXLMRO",
        "outputId": "bf8284c6-6ebb-4bf1-d340-9a6992c78129"
      },
      "outputs": [
        {
          "data": {
            "text/plain": [
              "array([[0.   , 0.001],\n",
              "       [0.   , 0.001]])"
            ]
          },
          "execution_count": 5,
          "metadata": {},
          "output_type": "execute_result"
        }
      ],
      "source": [
        "np.set_printoptions(suppress=True,precision=3)\n",
        "rand_arr"
      ]
    },
    {
      "cell_type": "markdown",
      "metadata": {
        "id": "WkYu3pYCMK29"
      },
      "source": [
        "#### **Limit the number of item printed in python numpy array maximum of 6 elements.**"
      ]
    },
    {
      "cell_type": "code",
      "execution_count": null,
      "metadata": {
        "colab": {
          "base_uri": "https://localhost:8080/"
        },
        "id": "YUOyuvGALZs_",
        "outputId": "ef3b9f37-21d8-4eab-dc4d-b5e969f492cb"
      },
      "outputs": [
        {
          "data": {
            "text/plain": [
              "array([0, 1, 2, ..., 7, 8, 9])"
            ]
          },
          "execution_count": 6,
          "metadata": {},
          "output_type": "execute_result"
        }
      ],
      "source": [
        "import sys\n",
        "np.set_printoptions(threshold=6)\n",
        "np.arange(10)"
      ]
    },
    {
      "cell_type": "code",
      "execution_count": null,
      "metadata": {
        "colab": {
          "base_uri": "https://localhost:8080/"
        },
        "id": "QbAbtFnTMHva",
        "outputId": "b7b1245e-8a25-4bba-dc5d-0a6b579dc9e8"
      },
      "outputs": [
        {
          "data": {
            "text/plain": [
              "array([ 0,  1,  2, ..., 10, 11, 12])"
            ]
          },
          "execution_count": 8,
          "metadata": {},
          "output_type": "execute_result"
        }
      ],
      "source": [
        " "
      ]
    },
    {
      "cell_type": "markdown",
      "metadata": {
        "id": "eqs0rgzzNILj"
      },
      "source": [
        "#### **Print the full numpy array without truncating.**"
      ]
    },
    {
      "cell_type": "code",
      "execution_count": null,
      "metadata": {
        "colab": {
          "base_uri": "https://localhost:8080/"
        },
        "id": "r6_pxzB0Mvy8",
        "outputId": "f91bf00b-28da-4f51-f7ab-a806e1b9209b"
      },
      "outputs": [
        {
          "data": {
            "text/plain": [
              "array([0, 1, 2, 3, 4, 5, 6, 7, 8, 9])"
            ]
          },
          "execution_count": 9,
          "metadata": {},
          "output_type": "execute_result"
        }
      ],
      "source": [
        "np.set_printoptions(threshold=sys.maxsize)\n",
        "np.arange(10)"
      ]
    },
    {
      "cell_type": "markdown",
      "metadata": {
        "id": "vjujOZf1Ny-a"
      },
      "source": [
        "#### **Replace all values greater than 30 to 30 and less than 10 to 10**"
      ]
    },
    {
      "cell_type": "code",
      "execution_count": null,
      "metadata": {
        "colab": {
          "base_uri": "https://localhost:8080/"
        },
        "id": "JJOEjKflNYCS",
        "outputId": "45b6146f-b4f6-443f-8d51-54b395eed91b"
      },
      "outputs": [
        {
          "data": {
            "text/plain": [
              "array([10, 30, 10, 30, 30, 10, 30])"
            ]
          },
          "execution_count": 14,
          "metadata": {},
          "output_type": "execute_result"
        }
      ],
      "source": [
        "val=np.array([10,70,30,43,56,5,70])\n",
        "np.where(val>30,30,10)"
      ]
    },
    {
      "cell_type": "markdown",
      "metadata": {},
      "source": [
        "numpy.clip() function is used to Clip (limit) the values in an array.\n",
        "Given an interval, values outside the interval are clipped to the interval edges. For example, if an interval of [0, 1] is specified, values smaller than 0 become 0, and values larger than 1 become 1."
      ]
    },
    {
      "cell_type": "code",
      "execution_count": null,
      "metadata": {
        "colab": {
          "base_uri": "https://localhost:8080/"
        },
        "id": "yp6IipdcNs2M",
        "outputId": "565f4108-7428-4083-bc31-f2fa0f3bc44b"
      },
      "outputs": [
        {
          "data": {
            "text/plain": [
              "array([10, 30, 30, 30, 30, 10, 30])"
            ]
          },
          "execution_count": 15,
          "metadata": {},
          "output_type": "execute_result"
        }
      ],
      "source": [
        "np.clip(val,a_min=10,a_max=30)"
      ]
    },
    {
      "cell_type": "markdown",
      "metadata": {
        "id": "2sUesNtVQLaH"
      },
      "source": [
        "#### **Convert array of array into a flat linear 1d array**"
      ]
    },
    {
      "cell_type": "code",
      "execution_count": null,
      "metadata": {
        "id": "jyQgXlYtOeJe"
      },
      "outputs": [],
      "source": [
        "arr1=np.arange(3)\n",
        "arr2=np.arange(4,7)\n",
        "arr3=np.arange(7,10)\n",
        "\n",
        "arr=np.array([arr1,arr2,arr3])"
      ]
    },
    {
      "cell_type": "code",
      "execution_count": null,
      "metadata": {
        "colab": {
          "base_uri": "https://localhost:8080/"
        },
        "id": "0Y1_zd64PGs9",
        "outputId": "1a389c19-6ad4-4165-d4b0-1b564af1777b"
      },
      "outputs": [
        {
          "data": {
            "text/plain": [
              "array([[0, 1, 2],\n",
              "       [4, 5, 6],\n",
              "       [7, 8, 9]])"
            ]
          },
          "execution_count": 22,
          "metadata": {},
          "output_type": "execute_result"
        }
      ],
      "source": [
        "arr"
      ]
    },
    {
      "cell_type": "code",
      "execution_count": null,
      "metadata": {
        "colab": {
          "base_uri": "https://localhost:8080/"
        },
        "id": "MaaYd4L6PJQo",
        "outputId": "c809a64e-318f-42f8-bead-e11c0b22f9a4"
      },
      "outputs": [
        {
          "data": {
            "text/plain": [
              "array([0, 1, 2, 4, 5, 6, 7, 8, 9])"
            ]
          },
          "execution_count": 23,
          "metadata": {},
          "output_type": "execute_result"
        }
      ],
      "source": [
        "#Method-1\n",
        "np.concatenate(arr)"
      ]
    },
    {
      "cell_type": "code",
      "execution_count": null,
      "metadata": {
        "colab": {
          "base_uri": "https://localhost:8080/"
        },
        "id": "zqkOZJJCQcTr",
        "outputId": "2e5faddb-a24a-48ff-fb31-ad61e7685857"
      },
      "outputs": [
        {
          "data": {
            "text/plain": [
              "array([0, 1, 2, 4, 5, 6, 7, 8, 9])"
            ]
          },
          "execution_count": 25,
          "metadata": {},
          "output_type": "execute_result"
        }
      ],
      "source": [
        "#Method-2\n",
        "arr.flatten()"
      ]
    },
    {
      "cell_type": "code",
      "execution_count": null,
      "metadata": {
        "colab": {
          "base_uri": "https://localhost:8080/"
        },
        "id": "XRmB_BnGQfFj",
        "outputId": "33a76f1c-7aac-4790-a839-3ca966b4c877"
      },
      "outputs": [
        {
          "data": {
            "text/plain": [
              "array([0, 1, 2, 4, 5, 6, 7, 8, 9])"
            ]
          },
          "execution_count": 27,
          "metadata": {},
          "output_type": "execute_result"
        }
      ],
      "source": [
        "#Method-3\n",
        "arr.ravel() #np.ravel(arr)"
      ]
    },
    {
      "cell_type": "markdown",
      "metadata": {
        "id": "eDXeuNteSNBi"
      },
      "source": [
        "#### Sort the array using argsort() method"
      ]
    },
    {
      "cell_type": "code",
      "execution_count": null,
      "metadata": {
        "colab": {
          "base_uri": "https://localhost:8080/"
        },
        "id": "SM73VDSyQ4PS",
        "outputId": "1554dc29-711e-4c3b-f311-0b5f03b72755"
      },
      "outputs": [
        {
          "data": {
            "text/plain": [
              "array([ 7, 17,  0,  1,  2])"
            ]
          },
          "execution_count": 33,
          "metadata": {},
          "output_type": "execute_result"
        }
      ],
      "source": [
        "arr=np.random.randint(20,size=5)\n",
        "arr"
      ]
    },
    {
      "cell_type": "code",
      "execution_count": null,
      "metadata": {
        "colab": {
          "base_uri": "https://localhost:8080/"
        },
        "id": "BB5rXMwNR6sg",
        "outputId": "fecc0d83-640e-4b35-ff7c-3f955a8c27e9"
      },
      "outputs": [
        {
          "name": "stdout",
          "output_type": "stream",
          "text": [
            "indices position in ascending order is [2 3 4 0 1]\n",
            "Final array is [ 0  1  2  7 17]\n"
          ]
        }
      ],
      "source": [
        "#Return the indices that would sort an array\n",
        "#First sort the array and provide index position accordingly.\n",
        "print(f'indices position in ascending order is {np.argsort(arr)}')\n",
        "print(f'Final array is {arr[np.argsort(arr)]}')"
      ]
    },
    {
      "cell_type": "markdown",
      "metadata": {
        "id": "TZEf4wpMTjrH"
      },
      "source": [
        "#### **Find the maximum values in each row of numpy 2_d array.**"
      ]
    },
    {
      "cell_type": "code",
      "execution_count": null,
      "metadata": {
        "colab": {
          "base_uri": "https://localhost:8080/"
        },
        "id": "WODU45aBRRsp",
        "outputId": "d34fd8ee-4ecb-420f-8b51-819c98c968e1"
      },
      "outputs": [
        {
          "data": {
            "text/plain": [
              "array([[1, 2, 3],\n",
              "       [4, 5, 6],\n",
              "       [7, 8, 9]])"
            ]
          },
          "execution_count": 42,
          "metadata": {},
          "output_type": "execute_result"
        }
      ],
      "source": [
        " arr_2d=np.arange(1,10).reshape(3,3)\n",
        "arr_2d"
      ]
    },
    {
      "cell_type": "code",
      "execution_count": null,
      "metadata": {
        "colab": {
          "base_uri": "https://localhost:8080/"
        },
        "id": "VfpuC0EjRTlD",
        "outputId": "206fc5e2-bce9-454d-fcb7-bea06d5fe658"
      },
      "outputs": [
        {
          "data": {
            "text/plain": [
              "array([3, 6, 9])"
            ]
          },
          "execution_count": 43,
          "metadata": {},
          "output_type": "execute_result"
        }
      ],
      "source": [
        "arr_2d.max(axis=1) #np.amax(arr_2d,axis=1)"
      ]
    },
    {
      "cell_type": "code",
      "execution_count": null,
      "metadata": {
        "colab": {
          "base_uri": "https://localhost:8080/"
        },
        "id": "T0DzIQMyTFA7",
        "outputId": "8bebfce3-5ba0-447e-bc3d-b607eef2cef2"
      },
      "outputs": [
        {
          "data": {
            "text/plain": [
              "array([7, 8, 9])"
            ]
          },
          "execution_count": 44,
          "metadata": {},
          "output_type": "execute_result"
        }
      ],
      "source": [
        "arr_2d.max(axis=0) #np.amax(arr_2d,axis=0)"
      ]
    },
    {
      "cell_type": "code",
      "execution_count": null,
      "metadata": {
        "colab": {
          "base_uri": "https://localhost:8080/"
        },
        "id": "gR9x2J9DTJd4",
        "outputId": "4555ebb8-6a2d-4e87-e743-53743da23c2e"
      },
      "outputs": [
        {
          "data": {
            "text/plain": [
              "array([7, 8, 9])"
            ]
          },
          "execution_count": 50,
          "metadata": {},
          "output_type": "execute_result"
        }
      ],
      "source": []
    },
    {
      "cell_type": "code",
      "execution_count": null,
      "metadata": {
        "colab": {
          "base_uri": "https://localhost:8080/"
        },
        "id": "TW3LNztDTR7F",
        "outputId": "c02207ee-1c6f-4a9b-f5d1-e237a029a3da"
      },
      "outputs": [
        {
          "name": "stdout",
          "output_type": "stream",
          "text": [
            "Actual array is [1 1 2 3 4 5 4 5 6]\n",
            "index position of first occurance of value [0 2 3 4 5 8]\n",
            "[False  True False False False False  True  True False]\n"
          ]
        }
      ],
      "source": [
        "a=np.array([1,1,2,3,4,5,4,5,6])\n",
        "res=np.full(a.shape,True)\n",
        "index_pos=np.unique(a,return_index=True)[1]\n",
        "print(f'Actual array is {a}')\n",
        "print(f'index position of first occurance of value {index_pos}')\n",
        "res[index_pos]=False\n",
        "print(res)\n"
      ]
    },
    {
      "cell_type": "code",
      "execution_count": null,
      "metadata": {
        "colab": {
          "base_uri": "https://localhost:8080/"
        },
        "id": "y5NNaA1aWDjy",
        "outputId": "539b7282-b60d-4db3-f237-8032e289e93f"
      },
      "outputs": [
        {
          "data": {
            "text/plain": [
              "array([ True,  True,  True,  True,  True,  True,  True,  True,  True])"
            ]
          },
          "execution_count": 58,
          "metadata": {},
          "output_type": "execute_result"
        }
      ],
      "source": [
        "np.full(a.shape,True)"
      ]
    },
    {
      "cell_type": "code",
      "execution_count": null,
      "metadata": {
        "colab": {
          "base_uri": "https://localhost:8080/"
        },
        "id": "BT0AaL6jXKFO",
        "outputId": "1a8c7ac0-37f4-40ca-cdd0-c3a907b1dcf8"
      },
      "outputs": [
        {
          "name": "stdout",
          "output_type": "stream",
          "text": [
            "[ True False  True  True  True]\n"
          ]
        }
      ],
      "source": [
        "arr=np.array([1.2,np.nan,4.5,3,8])\n",
        "print(~np.isnan(arr))  "
      ]
    },
    {
      "cell_type": "code",
      "execution_count": null,
      "metadata": {
        "colab": {
          "base_uri": "https://localhost:8080/"
        },
        "id": "4DU48aCeXOXS",
        "outputId": "3424bf08-e227-4cbb-d95d-0854164d8e83"
      },
      "outputs": [
        {
          "name": "stdout",
          "output_type": "stream",
          "text": [
            "[[0]\n",
            " [2]\n",
            " [3]\n",
            " [4]]\n"
          ]
        }
      ],
      "source": [
        "#Return the indices of values which is not a nan \n",
        "print(np.argwhere(~np.isnan(arr)))"
      ]
    },
    {
      "cell_type": "code",
      "execution_count": null,
      "metadata": {
        "colab": {
          "base_uri": "https://localhost:8080/"
        },
        "id": "2pFQxcYjofCA",
        "outputId": "0117e18c-5ed2-4ae2-ebd0-c548a40a3d8e"
      },
      "outputs": [
        {
          "data": {
            "text/plain": [
              "{1.2, 3.0, 4.5, 8.0}"
            ]
          },
          "execution_count": 86,
          "metadata": {},
          "output_type": "execute_result"
        }
      ],
      "source": [
        "set(arr[~np.isnan(arr)])"
      ]
    },
    {
      "cell_type": "code",
      "execution_count": null,
      "metadata": {
        "id": "32IOdQ3dp87v"
      },
      "outputs": [],
      "source": [
        "import numpy as np"
      ]
    },
    {
      "cell_type": "markdown",
      "metadata": {
        "id": "A9-CACalmmgs"
      },
      "source": [
        "#### **Create a vector with values ranging from 10 to 49(inclusion)**"
      ]
    },
    {
      "cell_type": "code",
      "execution_count": null,
      "metadata": {
        "colab": {
          "base_uri": "https://localhost:8080/"
        },
        "id": "89TclHv9hZfl",
        "outputId": "09938b6d-059f-4398-dc8a-319e6d6a74e1"
      },
      "outputs": [
        {
          "data": {
            "text/plain": [
              "array([10, 11, 12, 13, 14, 15, 16, 17, 18, 19, 20, 21, 22, 23, 24, 25, 26,\n",
              "       27, 28, 29, 30, 31, 32, 33, 34, 35, 36, 37, 38, 39, 40, 41, 42, 43,\n",
              "       44, 45, 46, 47, 48, 49])"
            ]
          },
          "execution_count": 4,
          "metadata": {},
          "output_type": "execute_result"
        }
      ],
      "source": [
        "a=np.arange(10,50)\n",
        "a"
      ]
    },
    {
      "cell_type": "markdown",
      "metadata": {
        "id": "Ub_oif1UmzA0"
      },
      "source": [
        "#### **Find the indices of non zero elements from array**"
      ]
    },
    {
      "cell_type": "code",
      "execution_count": null,
      "metadata": {
        "colab": {
          "base_uri": "https://localhost:8080/"
        },
        "id": "KzG2wu23hg3i",
        "outputId": "523acbe7-0c12-4412-e8b5-6986963a8a67"
      },
      "outputs": [
        {
          "name": "stdout",
          "output_type": "stream",
          "text": [
            "[0 1 4]\n"
          ]
        }
      ],
      "source": [
        "arr=np.array([1,2,0,0,5,0])\n",
        "index=np.where(arr>0)[0] #np.where(arr>0)\n",
        "print(index)\n"
      ]
    },
    {
      "cell_type": "markdown",
      "metadata": {
        "id": "xPeL8Xngm73U"
      },
      "source": [
        "#### **Fill the zeros value around border of existing array without changing the shape of array**"
      ]
    },
    {
      "cell_type": "code",
      "execution_count": null,
      "metadata": {
        "colab": {
          "base_uri": "https://localhost:8080/"
        },
        "id": "E9SMUKkShxXg",
        "outputId": "77aca8fa-4761-48af-f340-bf106cf39b4a"
      },
      "outputs": [
        {
          "data": {
            "text/plain": [
              "array([[1, 2, 3],\n",
              "       [4, 5, 6],\n",
              "       [7, 8, 9]])"
            ]
          },
          "execution_count": 75,
          "metadata": {},
          "output_type": "execute_result"
        }
      ],
      "source": [
        "arr=np.arange(1,10).reshape(3,3)\n",
        "arr"
      ]
    },
    {
      "cell_type": "code",
      "execution_count": null,
      "metadata": {
        "colab": {
          "base_uri": "https://localhost:8080/"
        },
        "id": "u4EdVM7Dh4tE",
        "outputId": "5cefeaaf-73de-4f21-9295-b464c2f60962"
      },
      "outputs": [
        {
          "name": "stdout",
          "output_type": "stream",
          "text": [
            "[[0 0 0]\n",
            " [0 5 0]\n",
            " [0 0 0]]\n"
          ]
        }
      ],
      "source": [
        "arr[:,::2]=0\n",
        "arr[::2,:]=0\n",
        "print(arr)"
      ]
    },
    {
      "cell_type": "markdown",
      "metadata": {
        "id": "nW21gSQRZALd"
      },
      "source": [
        "####**Write a program to add a border of zeros around the existing array.**"
      ]
    },
    {
      "cell_type": "code",
      "execution_count": null,
      "metadata": {
        "colab": {
          "base_uri": "https://localhost:8080/"
        },
        "id": "OLs1Dll1cOtg",
        "outputId": "44d0c02d-3a95-4e42-a001-c83a0a531e8b"
      },
      "outputs": [
        {
          "name": "stdout",
          "output_type": "stream",
          "text": [
            "[[0. 0. 0. 0. 0.]\n",
            " [0. 1. 1. 1. 0.]\n",
            " [0. 1. 1. 1. 0.]\n",
            " [0. 1. 1. 1. 0.]\n",
            " [0. 0. 0. 0. 0.]]\n"
          ]
        }
      ],
      "source": [
        "ones_arr = np.ones((3,3))\n",
        "res = np.pad(ones_arr, pad_width=1, constant_values=0)\n",
        "print(res)"
      ]
    },
    {
      "cell_type": "markdown",
      "metadata": {
        "id": "j8fsgrTUnK_o"
      },
      "source": [
        "#### **Find the result of below expression**"
      ]
    },
    {
      "cell_type": "code",
      "execution_count": null,
      "metadata": {
        "colab": {
          "base_uri": "https://localhost:8080/"
        },
        "id": "9mdq6YhnifSi",
        "outputId": "c4a9dc23-1a83-4fb9-97a3-f867f30bf91e"
      },
      "outputs": [
        {
          "name": "stdout",
          "output_type": "stream",
          "text": [
            "1.nan\n",
            "2.False\n",
            "3. nan\n",
            "4. inf\n",
            "5. nan\n",
            "6. inf\n",
            "7. nan\n"
          ]
        }
      ],
      "source": [
        "print(f'1.{0*np.nan}')\n",
        "print(f'2.{np.nan==np.nan}')\n",
        "print(f'3. {min(np.nan,np.inf)}')\n",
        "print(f'4. {min(np.inf,np.nan)}')\n",
        "print(f'5. {max(np.nan,np.inf)}')\n",
        "print(f'6. {max(np.inf,np.nan)}')\n",
        "print(f'7. {np.nan-np.nan}')"
      ]
    },
    {
      "cell_type": "markdown",
      "metadata": {
        "id": "lYq1M8bc6cnF"
      },
      "source": [
        "####**What is the procedure to count the number of times a given value appears in an array of integers**\n",
        "\n",
        "## ![bincounts.png](data:image/png;base64,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)"
      ]
    },
    {
      "cell_type": "code",
      "execution_count": null,
      "metadata": {
        "colab": {
          "base_uri": "https://localhost:8080/"
        },
        "id": "wh3cxldHitzK",
        "outputId": "c5475c26-1e94-486e-e639-1c4b6627c8dc"
      },
      "outputs": [
        {
          "data": {
            "text/plain": [
              "array([4, 2, 1, 1, 3, 2, 0, 0, 0, 1])"
            ]
          },
          "execution_count": 31,
          "metadata": {},
          "output_type": "execute_result"
        }
      ],
      "source": [
        "arr = np.array([0, 5, 4, 0, 4, 4, 3, 0, 0, 5, 2, 1, 1, 9])\n",
        "np.bincount(arr)"
      ]
    },
    {
      "cell_type": "markdown",
      "metadata": {
        "id": "lyi1NERNCcg2"
      },
      "source": [
        "####**np.average** takes an optional weight parameter. If it is not supplied they are equivalent.**np.mean** is used to calculate arithmetic mean."
      ]
    },
    {
      "cell_type": "markdown",
      "metadata": {
        "id": "FW9Z1E7NCsIW"
      },
      "source": [
        "#### **Check for an empty array or zero elements array**"
      ]
    },
    {
      "cell_type": "code",
      "execution_count": 4,
      "metadata": {
        "colab": {
          "base_uri": "https://localhost:8080/"
        },
        "id": "-1Rl9wB72lYb",
        "outputId": "00ba64f2-fa20-4eba-f324-0bdae89f8bd0"
      },
      "outputs": [
        {
          "name": "stdout",
          "output_type": "stream",
          "text": [
            "array size is 0\n",
            "Is array having any elements: False\n"
          ]
        }
      ],
      "source": [
        "import numpy as np\n",
        "arr=np.zeros((1,0))\n",
        "print(f'array size is {arr.size}')\n",
        "print(f'Is array having any elements: {arr.any()}')"
      ]
    },
    {
      "cell_type": "markdown",
      "metadata": {
        "id": "bXZ98JCgEZ2F"
      },
      "source": [
        "####**Convert Pandas DataFrame to a NumPy array**"
      ]
    },
    {
      "cell_type": "code",
      "execution_count": null,
      "metadata": {
        "colab": {
          "base_uri": "https://localhost:8080/",
          "height": 143
        },
        "id": "byaBr7IuC3Nl",
        "outputId": "cdaf8daa-cc05-40d3-95b5-99b86b88650a"
      },
      "outputs": [
        {
          "data": {
            "text/html": [
              "\n",
              "  <div id=\"df-44d2ae16-1b90-4feb-9df6-d7b5906d1fd3\">\n",
              "    <div class=\"colab-df-container\">\n",
              "      <div>\n",
              "<style scoped>\n",
              "    .dataframe tbody tr th:only-of-type {\n",
              "        vertical-align: middle;\n",
              "    }\n",
              "\n",
              "    .dataframe tbody tr th {\n",
              "        vertical-align: top;\n",
              "    }\n",
              "\n",
              "    .dataframe thead th {\n",
              "        text-align: right;\n",
              "    }\n",
              "</style>\n",
              "<table border=\"1\" class=\"dataframe\">\n",
              "  <thead>\n",
              "    <tr style=\"text-align: right;\">\n",
              "      <th></th>\n",
              "      <th>cols1</th>\n",
              "      <th>cols2</th>\n",
              "    </tr>\n",
              "  </thead>\n",
              "  <tbody>\n",
              "    <tr>\n",
              "      <th>0</th>\n",
              "      <td>1</td>\n",
              "      <td>4</td>\n",
              "    </tr>\n",
              "    <tr>\n",
              "      <th>1</th>\n",
              "      <td>2</td>\n",
              "      <td>5</td>\n",
              "    </tr>\n",
              "    <tr>\n",
              "      <th>2</th>\n",
              "      <td>3</td>\n",
              "      <td>6</td>\n",
              "    </tr>\n",
              "  </tbody>\n",
              "</table>\n",
              "</div>\n",
              "      <button class=\"colab-df-convert\" onclick=\"convertToInteractive('df-44d2ae16-1b90-4feb-9df6-d7b5906d1fd3')\"\n",
              "              title=\"Convert this dataframe to an interactive table.\"\n",
              "              style=\"display:none;\">\n",
              "        \n",
              "  <svg xmlns=\"http://www.w3.org/2000/svg\" height=\"24px\"viewBox=\"0 0 24 24\"\n",
              "       width=\"24px\">\n",
              "    <path d=\"M0 0h24v24H0V0z\" fill=\"none\"/>\n",
              "    <path d=\"M18.56 5.44l.94 2.06.94-2.06 2.06-.94-2.06-.94-.94-2.06-.94 2.06-2.06.94zm-11 1L8.5 8.5l.94-2.06 2.06-.94-2.06-.94L8.5 2.5l-.94 2.06-2.06.94zm10 10l.94 2.06.94-2.06 2.06-.94-2.06-.94-.94-2.06-.94 2.06-2.06.94z\"/><path d=\"M17.41 7.96l-1.37-1.37c-.4-.4-.92-.59-1.43-.59-.52 0-1.04.2-1.43.59L10.3 9.45l-7.72 7.72c-.78.78-.78 2.05 0 2.83L4 21.41c.39.39.9.59 1.41.59.51 0 1.02-.2 1.41-.59l7.78-7.78 2.81-2.81c.8-.78.8-2.07 0-2.86zM5.41 20L4 18.59l7.72-7.72 1.47 1.35L5.41 20z\"/>\n",
              "  </svg>\n",
              "      </button>\n",
              "      \n",
              "  <style>\n",
              "    .colab-df-container {\n",
              "      display:flex;\n",
              "      flex-wrap:wrap;\n",
              "      gap: 12px;\n",
              "    }\n",
              "\n",
              "    .colab-df-convert {\n",
              "      background-color: #E8F0FE;\n",
              "      border: none;\n",
              "      border-radius: 50%;\n",
              "      cursor: pointer;\n",
              "      display: none;\n",
              "      fill: #1967D2;\n",
              "      height: 32px;\n",
              "      padding: 0 0 0 0;\n",
              "      width: 32px;\n",
              "    }\n",
              "\n",
              "    .colab-df-convert:hover {\n",
              "      background-color: #E2EBFA;\n",
              "      box-shadow: 0px 1px 2px rgba(60, 64, 67, 0.3), 0px 1px 3px 1px rgba(60, 64, 67, 0.15);\n",
              "      fill: #174EA6;\n",
              "    }\n",
              "\n",
              "    [theme=dark] .colab-df-convert {\n",
              "      background-color: #3B4455;\n",
              "      fill: #D2E3FC;\n",
              "    }\n",
              "\n",
              "    [theme=dark] .colab-df-convert:hover {\n",
              "      background-color: #434B5C;\n",
              "      box-shadow: 0px 1px 3px 1px rgba(0, 0, 0, 0.15);\n",
              "      filter: drop-shadow(0px 1px 2px rgba(0, 0, 0, 0.3));\n",
              "      fill: #FFFFFF;\n",
              "    }\n",
              "  </style>\n",
              "\n",
              "      <script>\n",
              "        const buttonEl =\n",
              "          document.querySelector('#df-44d2ae16-1b90-4feb-9df6-d7b5906d1fd3 button.colab-df-convert');\n",
              "        buttonEl.style.display =\n",
              "          google.colab.kernel.accessAllowed ? 'block' : 'none';\n",
              "\n",
              "        async function convertToInteractive(key) {\n",
              "          const element = document.querySelector('#df-44d2ae16-1b90-4feb-9df6-d7b5906d1fd3');\n",
              "          const dataTable =\n",
              "            await google.colab.kernel.invokeFunction('convertToInteractive',\n",
              "                                                     [key], {});\n",
              "          if (!dataTable) return;\n",
              "\n",
              "          const docLinkHtml = 'Like what you see? Visit the ' +\n",
              "            '<a target=\"_blank\" href=https://colab.research.google.com/notebooks/data_table.ipynb>data table notebook</a>'\n",
              "            + ' to learn more about interactive tables.';\n",
              "          element.innerHTML = '';\n",
              "          dataTable['output_type'] = 'display_data';\n",
              "          await google.colab.output.renderOutput(dataTable, element);\n",
              "          const docLink = document.createElement('div');\n",
              "          docLink.innerHTML = docLinkHtml;\n",
              "          element.appendChild(docLink);\n",
              "        }\n",
              "      </script>\n",
              "    </div>\n",
              "  </div>\n",
              "  "
            ],
            "text/plain": [
              "   cols1  cols2\n",
              "0      1      4\n",
              "1      2      5\n",
              "2      3      6"
            ]
          },
          "execution_count": 36,
          "metadata": {},
          "output_type": "execute_result"
        }
      ],
      "source": [
        "import pandas as pd\n",
        "import numpy as np\n",
        "\n",
        "dic_val={'cols1':[1,2,3],'cols2':[4,5,6]}\n",
        "data=pd.DataFrame(dic_val)\n",
        "data"
      ]
    },
    {
      "cell_type": "code",
      "execution_count": null,
      "metadata": {
        "colab": {
          "base_uri": "https://localhost:8080/"
        },
        "id": "zFJecTMtEUbk",
        "outputId": "f24c05ab-04c4-4bd8-85ca-5d14380ecbb9"
      },
      "outputs": [
        {
          "data": {
            "text/plain": [
              "array([[1, 4],\n",
              "       [2, 5],\n",
              "       [3, 6]])"
            ]
          },
          "execution_count": 37,
          "metadata": {},
          "output_type": "execute_result"
        }
      ],
      "source": [
        "data.to_numpy()"
      ]
    },
    {
      "cell_type": "markdown",
      "metadata": {
        "id": "656cFWSsFc0a"
      },
      "source": [
        "#### **Split() method in numpy array**"
      ]
    },
    {
      "cell_type": "code",
      "execution_count": null,
      "metadata": {
        "colab": {
          "base_uri": "https://localhost:8080/"
        },
        "id": "-19jQ9jREWtk",
        "outputId": "00c22b1e-6b2e-461c-d87c-58fcd04f5a1c"
      },
      "outputs": [
        {
          "data": {
            "text/plain": [
              "[array([0, 1, 2, 3]), array([4, 5, 6, 7])]"
            ]
          },
          "execution_count": 42,
          "metadata": {},
          "output_type": "execute_result"
        }
      ],
      "source": [
        "import numpy as np\n",
        "arr=np.array(np.arange(8))\n",
        "np.split(arr,2)"
      ]
    },
    {
      "cell_type": "code",
      "execution_count": null,
      "metadata": {
        "colab": {
          "base_uri": "https://localhost:8080/",
          "height": 311
        },
        "id": "o0cFSCyvFn1B",
        "outputId": "45e3f0cc-aa80-4488-8181-b10079d93018"
      },
      "outputs": [
        {
          "ename": "ValueError",
          "evalue": "ignored",
          "output_type": "error",
          "traceback": [
            "\u001b[0;31m---------------------------------------------------------------------------\u001b[0m",
            "\u001b[0;31mValueError\u001b[0m                                Traceback (most recent call last)",
            "\u001b[0;32m<ipython-input-43-5b8c2be8326f>\u001b[0m in \u001b[0;36m<cell line: 1>\u001b[0;34m()\u001b[0m\n\u001b[0;32m----> 1\u001b[0;31m \u001b[0mnp\u001b[0m\u001b[0;34m.\u001b[0m\u001b[0msplit\u001b[0m\u001b[0;34m(\u001b[0m\u001b[0marr\u001b[0m\u001b[0;34m,\u001b[0m\u001b[0;36m3\u001b[0m\u001b[0;34m)\u001b[0m\u001b[0;34m\u001b[0m\u001b[0;34m\u001b[0m\u001b[0m\n\u001b[0m",
            "\u001b[0;32m/usr/local/lib/python3.10/dist-packages/numpy/core/overrides.py\u001b[0m in \u001b[0;36msplit\u001b[0;34m(*args, **kwargs)\u001b[0m\n",
            "\u001b[0;32m/usr/local/lib/python3.10/dist-packages/numpy/lib/shape_base.py\u001b[0m in \u001b[0;36msplit\u001b[0;34m(ary, indices_or_sections, axis)\u001b[0m\n\u001b[1;32m    870\u001b[0m         \u001b[0mN\u001b[0m \u001b[0;34m=\u001b[0m \u001b[0mary\u001b[0m\u001b[0;34m.\u001b[0m\u001b[0mshape\u001b[0m\u001b[0;34m[\u001b[0m\u001b[0maxis\u001b[0m\u001b[0;34m]\u001b[0m\u001b[0;34m\u001b[0m\u001b[0;34m\u001b[0m\u001b[0m\n\u001b[1;32m    871\u001b[0m         \u001b[0;32mif\u001b[0m \u001b[0mN\u001b[0m \u001b[0;34m%\u001b[0m \u001b[0msections\u001b[0m\u001b[0;34m:\u001b[0m\u001b[0;34m\u001b[0m\u001b[0;34m\u001b[0m\u001b[0m\n\u001b[0;32m--> 872\u001b[0;31m             raise ValueError(\n\u001b[0m\u001b[1;32m    873\u001b[0m                 'array split does not result in an equal division') from None\n\u001b[1;32m    874\u001b[0m     \u001b[0;32mreturn\u001b[0m \u001b[0marray_split\u001b[0m\u001b[0;34m(\u001b[0m\u001b[0mary\u001b[0m\u001b[0;34m,\u001b[0m \u001b[0mindices_or_sections\u001b[0m\u001b[0;34m,\u001b[0m \u001b[0maxis\u001b[0m\u001b[0;34m)\u001b[0m\u001b[0;34m\u001b[0m\u001b[0;34m\u001b[0m\u001b[0m\n",
            "\u001b[0;31mValueError\u001b[0m: array split does not result in an equal division"
          ]
        }
      ],
      "source": [
        "#For splitting of array number of element should be such that they are divided within specified sections\n",
        "np.split(arr,3)"
      ]
    },
    {
      "cell_type": "markdown",
      "metadata": {
        "id": "ytwPSRFPGPFD"
      },
      "source": [
        "####**arrays_split() method for splitting the NumPy array**"
      ]
    },
    {
      "cell_type": "code",
      "execution_count": null,
      "metadata": {
        "colab": {
          "base_uri": "https://localhost:8080/"
        },
        "id": "oBcgvx1QF0EF",
        "outputId": "872eb310-8016-479b-8e24-da50d5c8bce9"
      },
      "outputs": [
        {
          "data": {
            "text/plain": [
              "[array([0, 1, 2]), array([3, 4, 5]), array([6, 7])]"
            ]
          },
          "execution_count": 46,
          "metadata": {},
          "output_type": "execute_result"
        }
      ],
      "source": [
        "#The array_split() method is similar to the split() method as it helps in splitting a given array to multiple subarrays. \n",
        "#The main difference is that the array_split() allows sections to be an integer which does not result in equal array division.\n",
        "np.array_split(arr,3)"
      ]
    },
    {
      "cell_type": "markdown",
      "metadata": {
        "id": "iPNuhTARPliH"
      },
      "source": [
        "#### **WAP to convert a string element to upper,lower,capitalizr,title and swapcase of given numpy array**"
      ]
    },
    {
      "cell_type": "code",
      "execution_count": null,
      "metadata": {
        "id": "y-MiR5n9GU9t"
      },
      "outputs": [],
      "source": [
        "import numpy as np\n",
        "arr=np.array(['python','c','c#','.net','R','Ruby'])"
      ]
    },
    {
      "cell_type": "code",
      "execution_count": null,
      "metadata": {
        "colab": {
          "base_uri": "https://localhost:8080/"
        },
        "id": "v1jG3udfOqeq",
        "outputId": "72fd851c-ea98-4a88-fe57-bf2d5546837d"
      },
      "outputs": [
        {
          "name": "stdout",
          "output_type": "stream",
          "text": [
            "Upper case array ['PYTHON' 'C' 'C#' '.NET' 'R' 'RUBY']\n",
            "Lower case array ['python' 'c' 'c#' '.net' 'r' 'ruby']\n",
            "Capitalize array ['Python' 'C' 'C#' '.net' 'R' 'Ruby']\n",
            "Title case array ['Python' 'C' 'C#' '.Net' 'R' 'Ruby']\n",
            "swap case array ['PYTHON' 'C' 'C#' '.NET' 'r' 'rUBY']\n"
          ]
        }
      ],
      "source": [
        "print(f'Upper case array {np.char.upper(arr)}')\n",
        "print(f'Lower case array {np.char.lower(arr)}')\n",
        "print(f'Capitalize array {np.char.capitalize(arr)}')\n",
        "print(f'Title case array {np.char.title(arr)}')\n",
        "print(f'swap case array {np.char.swapcase(arr)}')"
      ]
    },
    {
      "cell_type": "markdown",
      "metadata": {
        "id": "qDxTDAKsQ1oO"
      },
      "source": [
        "####**Write a program to transform elements of a given string to a numeric string of 10 digits by making all the elements of a given string to a zeros on the left side to match the number of digit in each elements.**"
      ]
    },
    {
      "cell_type": "code",
      "execution_count": null,
      "metadata": {
        "colab": {
          "base_uri": "https://localhost:8080/"
        },
        "id": "2UcLlCnWOtiw",
        "outputId": "0fa8c9ce-186c-4bd6-d743-d438db501849"
      },
      "outputs": [
        {
          "name": "stdout",
          "output_type": "stream",
          "text": [
            "final array is \n",
            " ['0000000001' '0000000002' '0000000333' '0000044444' '0000000023'\n",
            " '0089999999']\n"
          ]
        }
      ],
      "source": [
        "arr=np.array([1,2,333,44444,23,89999999],dtype=str)\n",
        "print(f'final array is \\n {np.char.zfill(arr,10)}')"
      ]
    },
    {
      "cell_type": "markdown",
      "metadata": {
        "id": "muiDHEAjTpHC"
      },
      "source": [
        "####**Write a program for inserting space between characters of all elements in a NumPy array.**"
      ]
    },
    {
      "cell_type": "code",
      "execution_count": null,
      "metadata": {
        "colab": {
          "base_uri": "https://localhost:8080/"
        },
        "id": "sNwGxY2FP5wm",
        "outputId": "1a9c9325-ec4c-4c19-d636-2c5552a5a332"
      },
      "outputs": [
        {
          "data": {
            "text/plain": [
              "array(['p y t h o n', 'c', 'c #', '. n e t', 'R', 'R u b y'], dtype='<U11')"
            ]
          },
          "execution_count": 68,
          "metadata": {},
          "output_type": "execute_result"
        }
      ],
      "source": [
        "arr=np.array(['python','c','c#','.net','R','Ruby'])\n",
        "np.char.join(\" \",arr)"
      ]
    },
    {
      "cell_type": "markdown",
      "metadata": {
        "id": "IzF5RKnEUVfk"
      },
      "source": [
        "####**Write a program to repeat each of the elements two times for a given array**"
      ]
    },
    {
      "cell_type": "code",
      "execution_count": null,
      "metadata": {
        "colab": {
          "base_uri": "https://localhost:8080/"
        },
        "id": "NvSk0UWBUSgR",
        "outputId": "8d06072d-0c25-435f-c055-6aa73f8d6e6b"
      },
      "outputs": [
        {
          "data": {
            "text/plain": [
              "array(['pythonpython', 'cc', 'c#c#', '.net.net', 'RR', 'RubyRuby'],\n",
              "      dtype='<U12')"
            ]
          },
          "execution_count": 73,
          "metadata": {},
          "output_type": "execute_result"
        }
      ],
      "source": [
        "arr=np.array(['python','c','c#','.net','R','Ruby'])\n",
        "np.char.multiply(arr,2)"
      ]
    },
    {
      "cell_type": "markdown",
      "metadata": {
        "id": "T3FjtwYcixk3"
      },
      "source": [
        "####**Write a program for interchanging two axes of the NumPy array.**"
      ]
    },
    {
      "cell_type": "code",
      "execution_count": null,
      "metadata": {
        "colab": {
          "base_uri": "https://localhost:8080/"
        },
        "id": "GwF06qiTUeJo",
        "outputId": "d3f363d5-fa69-4e17-8793-905920e4e2c2"
      },
      "outputs": [
        {
          "name": "stdout",
          "output_type": "stream",
          "text": [
            "Original array: \n",
            "[[1 2 3]]\n",
            "Transformed array: \n",
            "[[1]\n",
            " [2]\n",
            " [3]]\n"
          ]
        }
      ],
      "source": [
        "import numpy as np\n",
        "arr = np.array([[1,2,3]])\n",
        "print(\"Original array: \")\n",
        "print(arr)\n",
        "\n",
        "#Swap axes\n",
        "axis_swapped_arr =  np.swapaxes(arr,0,1)\n",
        "print(\"Transformed array: \")\n",
        "print(axis_swapped_arr)"
      ]
    },
    {
      "cell_type": "markdown",
      "metadata": {
        "id": "4mV6XMDHhD9p"
      },
      "source": [
        "####**print 3 zeros and zero with 2 rows and 3 columns**"
      ]
    },
    {
      "cell_type": "code",
      "execution_count": 6,
      "metadata": {
        "colab": {
          "base_uri": "https://localhost:8080/"
        },
        "id": "C0Rz4P_Li5EB",
        "outputId": "85a7b3c3-aec4-4bc1-d4cd-fb5009a5da80"
      },
      "outputs": [
        {
          "data": {
            "text/plain": [
              "array([[0., 0., 0.],\n",
              "       [0., 0., 0.]])"
            ]
          },
          "execution_count": 6,
          "metadata": {},
          "output_type": "execute_result"
        }
      ],
      "source": [
        "import numpy as np\n",
        "print(np.zeros(3))\n",
        "print(np.zeros((2,3)))"
      ]
    },
    {
      "cell_type": "markdown",
      "metadata": {
        "id": "vMRAUycvhStp"
      },
      "source": [
        "####**use of eye()diagonal values ?**"
      ]
    },
    {
      "cell_type": "code",
      "execution_count": 10,
      "metadata": {
        "colab": {
          "base_uri": "https://localhost:8080/"
        },
        "id": "vCZRuxykg7hN",
        "outputId": "5db53901-3fee-45df-afe8-a4d8c0ccc7ec"
      },
      "outputs": [
        {
          "data": {
            "text/plain": [
              "array([[1., 0., 0.],\n",
              "       [0., 1., 0.],\n",
              "       [0., 0., 1.]])"
            ]
          },
          "execution_count": 10,
          "metadata": {},
          "output_type": "execute_result"
        }
      ],
      "source": [
        "#eye() function in Python is used to return a two-dimensional array with ones (1) on the diagonal and zeros (0) elsewhere.\n",
        "np.eye(3)"
      ]
    },
    {
      "cell_type": "markdown",
      "metadata": {
        "id": "MrvYeZychsSJ"
      },
      "source": [
        "####**use of diag() square matrix**"
      ]
    },
    {
      "cell_type": "code",
      "execution_count": 12,
      "metadata": {
        "colab": {
          "base_uri": "https://localhost:8080/"
        },
        "id": "4uzzEiIvhP_b",
        "outputId": "d1730371-175a-4728-a1d4-31782ef91ce5"
      },
      "outputs": [
        {
          "data": {
            "text/plain": [
              "array([[1, 0, 0],\n",
              "       [0, 2, 0],\n",
              "       [0, 0, 3]])"
            ]
          },
          "execution_count": 12,
          "metadata": {},
          "output_type": "execute_result"
        }
      ],
      "source": [
        "np.diag([1,2,3])"
      ]
    },
    {
      "cell_type": "markdown",
      "metadata": {
        "id": "uwZEJPsPyNCI"
      },
      "source": [
        "####Compute the min/max for each row for a NumPy 2D array"
      ]
    },
    {
      "cell_type": "code",
      "execution_count": 2,
      "metadata": {
        "colab": {
          "base_uri": "https://localhost:8080/"
        },
        "id": "7odXE9UDyRJh",
        "outputId": "1f32d735-b6cf-4f42-d5cc-019862cf72f1"
      },
      "outputs": [
        {
          "name": "stdout",
          "output_type": "stream",
          "text": [
            "[[1 2 3]\n",
            " [4 5 6]\n",
            " [7 8 9]]\n"
          ]
        },
        {
          "data": {
            "text/plain": [
              "array([0.33333333, 0.66666667, 0.77777778])"
            ]
          },
          "execution_count": 2,
          "metadata": {},
          "output_type": "execute_result"
        }
      ],
      "source": [
        "import numpy as np\n",
        "arr=np.arange(1,10).reshape(3,3)\n",
        "print(arr)\n",
        "np.apply_along_axis(lambda x:np.min(x)/np.max(x),arr=arr,axis=1)"
      ]
    },
    {
      "cell_type": "code",
      "execution_count": 5,
      "metadata": {
        "colab": {
          "base_uri": "https://localhost:8080/"
        },
        "id": "3I0MwM8kyoy0",
        "outputId": "0e65c3dd-7476-4312-8209-5c871c0219e6"
      },
      "outputs": [
        {
          "data": {
            "text/plain": [
              "array([1, 4, 7])"
            ]
          },
          "execution_count": 5,
          "metadata": {},
          "output_type": "execute_result"
        }
      ],
      "source": [
        "#Compute the min for each row for a NumPy 2D array\n",
        "np.apply_along_axis(lambda x:np.min(x),arr=arr,axis=1) #np.min(arr,axis=1)"
      ]
    },
    {
      "cell_type": "code",
      "execution_count": 4,
      "metadata": {
        "colab": {
          "base_uri": "https://localhost:8080/"
        },
        "id": "QPlKwOX3y6vg",
        "outputId": "6f653ca7-cb17-4f96-d567-c546ee6f5f90"
      },
      "outputs": [
        {
          "data": {
            "text/plain": [
              "array([3, 6, 9])"
            ]
          },
          "execution_count": 4,
          "metadata": {},
          "output_type": "execute_result"
        }
      ],
      "source": [
        "#Compute the min for each row for a NumPy 2D array\n",
        "np.apply_along_axis(lambda x:np.max(x),arr=arr,axis=1) #np.max(arr,axis=1)"
      ]
    },
    {
      "cell_type": "code",
      "execution_count": 11,
      "metadata": {
        "colab": {
          "base_uri": "https://localhost:8080/"
        },
        "id": "ftKgrHs3zJa6",
        "outputId": "3530a83e-3def-4e71-bdcd-9e440a23f46b"
      },
      "outputs": [
        {
          "data": {
            "text/plain": [
              "array([7, 8, 9])"
            ]
          },
          "execution_count": 11,
          "metadata": {},
          "output_type": "execute_result"
        }
      ],
      "source": [
        "#Compute the max for each column for a NumPy 2D array\n",
        "np.apply_along_axis(lambda x:np.max(x),arr=arr,axis=0) #np.max(arr,axis=0)"
      ]
    },
    {
      "cell_type": "code",
      "execution_count": 12,
      "metadata": {
        "colab": {
          "base_uri": "https://localhost:8080/"
        },
        "id": "uYQw3G23zY3b",
        "outputId": "278b872b-60a3-4f3d-dd53-8c705a3a3d63"
      },
      "outputs": [
        {
          "data": {
            "text/plain": [
              "array([1, 2, 3])"
            ]
          },
          "execution_count": 12,
          "metadata": {},
          "output_type": "execute_result"
        }
      ],
      "source": [
        "#Compute the min for each column for a NumPy 2D array\n",
        "np.apply_along_axis(lambda x:np.min(x),arr=arr,axis=0) #np.min(arr,axis=0)"
      ]
    },
    {
      "cell_type": "markdown",
      "metadata": {
        "id": "Q-hDDyn21DY4"
      },
      "source": [
        "#### How to find all occurrences of an Element in a list"
      ]
    },
    {
      "cell_type": "code",
      "execution_count": 20,
      "metadata": {
        "colab": {
          "base_uri": "https://localhost:8080/"
        },
        "id": "J0BLxoIO1HLf",
        "outputId": "72aeb5d6-a066-4b44-dffc-0df81828daf0"
      },
      "outputs": [
        {
          "name": "stdout",
          "output_type": "stream",
          "text": [
            "value present 2 time and at the index of 6 and 8\n"
          ]
        }
      ],
      "source": [
        "import numpy as np\n",
        "arr=np.array([1,2,2,2,4,4,5,6,5,7])\n",
        "search_val=5\n",
        "res=np.where(arr==search_val)[0]\n",
        "print(f'value present {len(res)} time and at the index of {res[0]} and {res[1]}')"
      ]
    },
    {
      "cell_type": "markdown",
      "metadata": {
        "id": "bryhRqSw4Ydq"
      },
      "source": [
        "####What is the difference between test[:,0] vs test[:,[0]]? When would you use one?"
      ]
    },
    {
      "cell_type": "code",
      "execution_count": 30,
      "metadata": {
        "colab": {
          "base_uri": "https://localhost:8080/"
        },
        "id": "v3JKX-UV1HH9",
        "outputId": "58176523-b681-4c01-9714-3cde97fbb800"
      },
      "outputs": [
        {
          "name": "stdout",
          "output_type": "stream",
          "text": [
            "[[1 2 3 4]\n",
            " [3 4 5 6]]\n"
          ]
        },
        {
          "data": {
            "text/plain": [
              "array([1, 3])"
            ]
          },
          "execution_count": 30,
          "metadata": {},
          "output_type": "execute_result"
        }
      ],
      "source": [
        "a=np.array([[1,2,3,4],[3,4,5,6]])\n",
        "print(a)\n",
        "a[:,0] #gives you a row vector."
      ]
    },
    {
      "cell_type": "code",
      "execution_count": 31,
      "metadata": {
        "colab": {
          "base_uri": "https://localhost:8080/"
        },
        "id": "z41DFvVx1HFL",
        "outputId": "03cda44a-0231-49db-f966-09d7fdfb3966"
      },
      "outputs": [
        {
          "data": {
            "text/plain": [
              "array([[1],\n",
              "       [3]])"
            ]
          },
          "execution_count": 31,
          "metadata": {},
          "output_type": "execute_result"
        }
      ],
      "source": [
        "#gives you a column vector:\n",
        "a[:,[0]]"
      ]
    },
    {
      "cell_type": "markdown",
      "metadata": {
        "id": "U1H8mbok7EjI"
      },
      "source": [
        "####What is the purpose of meshgrid in Python/NumPy?\n",
        "The purpose of meshgrid is to create a rectangular grid out of an array of x values and an array of y values:\n",
        "    \n",
        "    Syntax:\n",
        "          xx,yy=np.meshgrid(x,y)"
      ]
    },
    {
      "cell_type": "markdown",
      "metadata": {
        "id": "MG8dFSZ6-RTs"
      },
      "source": [
        "####Given a 4x4 Numpy matrix, how to reverse the matrix?"
      ]
    },
    {
      "cell_type": "code",
      "execution_count": 33,
      "metadata": {
        "colab": {
          "base_uri": "https://localhost:8080/"
        },
        "id": "N6VKEdU-1HCR",
        "outputId": "e91534b5-3084-405b-afc9-49f3790dee8c"
      },
      "outputs": [
        {
          "name": "stdout",
          "output_type": "stream",
          "text": [
            "[[ 1  2  3  4]\n",
            " [ 5  6  7  8]\n",
            " [ 9 10 11 12]\n",
            " [13 14 15 16]]\n"
          ]
        }
      ],
      "source": [
        "import numpy as np\n",
        "matrix = np.arange(1,17).reshape(4,4)\n",
        "print(matrix)"
      ]
    },
    {
      "cell_type": "code",
      "execution_count": 34,
      "metadata": {
        "colab": {
          "base_uri": "https://localhost:8080/"
        },
        "id": "MdELTmfE1G_u",
        "outputId": "7c2e8243-d22a-4b61-b398-fd32af52e9ce"
      },
      "outputs": [
        {
          "data": {
            "text/plain": [
              "array([[16, 15, 14, 13],\n",
              "       [12, 11, 10,  9],\n",
              "       [ 8,  7,  6,  5],\n",
              "       [ 4,  3,  2,  1]])"
            ]
          },
          "execution_count": 34,
          "metadata": {},
          "output_type": "execute_result"
        }
      ],
      "source": [
        "np.flip(matrix)"
      ]
    },
    {
      "cell_type": "code",
      "execution_count": 39,
      "metadata": {
        "colab": {
          "base_uri": "https://localhost:8080/"
        },
        "id": "y5tqQtKq9-jK",
        "outputId": "93d3d480-7d27-43fc-abbf-d69ddbeb8edd"
      },
      "outputs": [
        {
          "data": {
            "text/plain": [
              "array([[16, 15, 14, 13],\n",
              "       [12, 11, 10,  9],\n",
              "       [ 8,  7,  6,  5],\n",
              "       [ 4,  3,  2,  1]])"
            ]
          },
          "execution_count": 39,
          "metadata": {},
          "output_type": "execute_result"
        }
      ],
      "source": [
        "#Method-2\n",
        "mat_flat=matrix.flatten()    #to flatten the numpy array\n",
        "rev_mat_flat=mat_flat[::-1]  #read the elements backward into a new matrix\n",
        "rev_mat_flat.reshape(4,4)    #reshape the matrix back into a 4*4 matrix"
      ]
    },
    {
      "cell_type": "code",
      "execution_count": null,
      "metadata": {
        "id": "6yFHrNhUDIBm"
      },
      "outputs": [],
      "source": []
    }
  ],
  "metadata": {
    "colab": {
      "provenance": []
    },
    "kernelspec": {
      "display_name": "Python 3",
      "name": "python3"
    },
    "language_info": {
      "name": "python"
    }
  },
  "nbformat": 4,
  "nbformat_minor": 0
}
