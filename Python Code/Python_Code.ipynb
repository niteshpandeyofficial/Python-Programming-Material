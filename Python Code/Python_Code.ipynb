{
  "nbformat": 4,
  "nbformat_minor": 0,
  "metadata": {
    "colab": {
      "provenance": []
    },
    "kernelspec": {
      "name": "python3",
      "display_name": "Python 3"
    },
    "language_info": {
      "name": "python"
    }
  },
  "cells": [
    {
      "cell_type": "markdown",
      "source": [
        "####print the summation of all the numbers from 1 to 100"
      ],
      "metadata": {
        "id": "QdBhgrxl_fuG"
      }
    },
    {
      "cell_type": "code",
      "execution_count": null,
      "metadata": {
        "id": "WSzIuZpT_dso"
      },
      "outputs": [],
      "source": [
        "def func_sum_print():\n",
        "  try:\n",
        "    sum=0\n",
        "    for i in range(1,101):\n",
        "      sum=sum+i\n",
        "  except Exception as e:\n",
        "    print('Exception occurred due to',str(e))\n",
        "  return sum"
      ]
    },
    {
      "cell_type": "code",
      "source": [
        "func_sum_print()"
      ],
      "metadata": {
        "colab": {
          "base_uri": "https://localhost:8080/"
        },
        "id": "kXSjtq5n_3lR",
        "outputId": "81ac6efe-93e2-4d33-c74b-6b27e7fcd382"
      },
      "execution_count": null,
      "outputs": [
        {
          "output_type": "execute_result",
          "data": {
            "text/plain": [
              "5050"
            ]
          },
          "metadata": {},
          "execution_count": 7
        }
      ]
    },
    {
      "cell_type": "code",
      "source": [
        "#Method-2\n",
        "def func_sum_print():\n",
        "  try:\n",
        "    return sum(range(1,101))\n",
        "  except Exception as e:\n",
        "    return 'Error Occurred Please try again'"
      ],
      "metadata": {
        "id": "07TBzymIABvx"
      },
      "execution_count": null,
      "outputs": []
    },
    {
      "cell_type": "code",
      "source": [
        "func_sum_print()"
      ],
      "metadata": {
        "colab": {
          "base_uri": "https://localhost:8080/"
        },
        "id": "gE7O-xPXAZ-d",
        "outputId": "9f4a665b-87ae-4bf8-ee34-98ddff3a6fb7"
      },
      "execution_count": null,
      "outputs": [
        {
          "output_type": "execute_result",
          "data": {
            "text/plain": [
              "5050"
            ]
          },
          "metadata": {},
          "execution_count": 9
        }
      ]
    },
    {
      "cell_type": "code",
      "source": [
        "#Method-3 --inbuilt method\n",
        "from functools import reduce\n",
        "from operator import add\n",
        "reduce(add,range(1,101))"
      ],
      "metadata": {
        "colab": {
          "base_uri": "https://localhost:8080/"
        },
        "id": "a_0BpxjZQn6a",
        "outputId": "4f392e85-0a52-4fd0-cae8-ff93549c5e64"
      },
      "execution_count": null,
      "outputs": [
        {
          "output_type": "execute_result",
          "data": {
            "text/plain": [
              "5050"
            ]
          },
          "metadata": {},
          "execution_count": 47
        }
      ]
    },
    {
      "cell_type": "code",
      "source": [
        "#Method-4 --List Comprehension\n",
        "total = 0\n",
        "result=[total := total + x for x in range(1,101)]\n",
        "print(result[-1])"
      ],
      "metadata": {
        "colab": {
          "base_uri": "https://localhost:8080/"
        },
        "id": "pPkw6R45RxhK",
        "outputId": "662ad1c0-8bc7-4bea-b8d0-d845981fa9db"
      },
      "execution_count": null,
      "outputs": [
        {
          "output_type": "stream",
          "name": "stdout",
          "text": [
            "5050\n"
          ]
        }
      ]
    },
    {
      "cell_type": "code",
      "source": [
        "#Method-4\n",
        "res=sum((i for i in range(0,101))) #res=sum([i for i in range(0,101)])\n",
        "print(res)"
      ],
      "metadata": {
        "colab": {
          "base_uri": "https://localhost:8080/"
        },
        "id": "Xt2xm5ucQNqJ",
        "outputId": "1644c665-0f9f-4a34-ff17-543c34655aa4"
      },
      "execution_count": null,
      "outputs": [
        {
          "output_type": "stream",
          "name": "stdout",
          "text": [
            "5050\n"
          ]
        }
      ]
    },
    {
      "cell_type": "code",
      "source": [
        "#Method-1\n",
        "\n",
        "n=int(input('Enter no of element:'))\n",
        "l=[]\n",
        "for i in range(n):\n",
        "  val=int(input('Enter element:'))\n",
        "  l.append(val)\n",
        "\n",
        "res=0\n",
        "for i in l:\n",
        "  res=res+i\n",
        "print('Average value is ',res/n)"
      ],
      "metadata": {
        "colab": {
          "base_uri": "https://localhost:8080/"
        },
        "id": "3nCOkLofAbA8",
        "outputId": "ec5c2df1-f559-439d-da6d-a1e36cea6812"
      },
      "execution_count": null,
      "outputs": [
        {
          "output_type": "stream",
          "name": "stdout",
          "text": [
            "Enter no of element:4\n",
            "Enter element:2\n",
            "Enter element:4\n",
            "Enter element:6\n",
            "Enter element:9\n",
            "[2, 4, 6, 9]\n",
            "Average value is  5.25\n"
          ]
        }
      ]
    },
    {
      "cell_type": "code",
      "source": [
        "#Method-2 --using inbuilt method\n",
        "import numpy as np\n",
        "print(np.mean(l))\n"
      ],
      "metadata": {
        "colab": {
          "base_uri": "https://localhost:8080/"
        },
        "id": "ao5BxpdZL1fP",
        "outputId": "5ceb7aff-749e-489c-eb60-d09fb1ed7b5f"
      },
      "execution_count": null,
      "outputs": [
        {
          "output_type": "execute_result",
          "data": {
            "text/plain": [
              "7.0"
            ]
          },
          "metadata": {},
          "execution_count": 19
        }
      ]
    },
    {
      "cell_type": "markdown",
      "source": [
        "#### Reverse the number"
      ],
      "metadata": {
        "id": "bwPRGBtOOK8H"
      }
    },
    {
      "cell_type": "code",
      "source": [
        "def rev_number(n):\n",
        "  try:\n",
        "    rev=0\n",
        "    while n>0:\n",
        "      digit=n%10\n",
        "      rev=rev*10+digit\n",
        "      n=n//10\n",
        "    print('Reverse of given number is',rev)\n",
        "  except Exception as e:\n",
        "    print('Error Occurred',str(e))\n"
      ],
      "metadata": {
        "id": "qotwNLAhM39c"
      },
      "execution_count": null,
      "outputs": []
    },
    {
      "cell_type": "code",
      "source": [
        "n=int(input('Enter the number which you want to reverse:'))\n",
        "rev_number(n)"
      ],
      "metadata": {
        "colab": {
          "base_uri": "https://localhost:8080/"
        },
        "id": "aZPszZNfNsZ2",
        "outputId": "f9037e96-8fbe-4a88-9dea-de49ac7366f1"
      },
      "execution_count": null,
      "outputs": [
        {
          "output_type": "stream",
          "name": "stdout",
          "text": [
            "Enter the number which you want to reverse:345\n",
            "Reverse of given number is 543\n"
          ]
        }
      ]
    },
    {
      "cell_type": "code",
      "source": [
        "#Method-2\n",
        "def rev_number1(n):\n",
        "  try:\n",
        "    n=str(n)\n",
        "    res=n[::-1]\n",
        "    print(res)\n",
        "\n",
        "  except Exception as e:\n",
        "    print('Error Occurred',str(e))"
      ],
      "metadata": {
        "id": "N5_p4UKpPD14"
      },
      "execution_count": null,
      "outputs": []
    },
    {
      "cell_type": "code",
      "source": [
        "n=int(input('Enter the number which you want to reverse:'))\n",
        "rev_number1(n)"
      ],
      "metadata": {
        "colab": {
          "base_uri": "https://localhost:8080/"
        },
        "id": "qwW5JT6GPfq5",
        "outputId": "b6925da5-3a35-4d91-fdc7-05efba7617bc"
      },
      "execution_count": null,
      "outputs": [
        {
          "output_type": "stream",
          "name": "stdout",
          "text": [
            "654\n"
          ]
        }
      ]
    },
    {
      "cell_type": "markdown",
      "source": [
        "####randomise the elements of a list"
      ],
      "metadata": {
        "id": "cqRY3uHUTjsg"
      }
    },
    {
      "cell_type": "code",
      "source": [
        "import random\n",
        "list_val=['Cracklogic','Technocutter','Filmformasti']\n",
        "print(\"Actual list: \", list_val)\n",
        "random.shuffle(list_val)\n",
        "print(\"After Randomising the list: \", list_val)"
      ],
      "metadata": {
        "colab": {
          "base_uri": "https://localhost:8080/"
        },
        "id": "2VE4fsxXPjfX",
        "outputId": "f34ac0fb-c547-4b1d-f2f8-a9542e55d732"
      },
      "execution_count": null,
      "outputs": [
        {
          "output_type": "stream",
          "name": "stdout",
          "text": [
            "Actual list:  ['Cracklogic', 'Technocutter', 'Filmformasti']\n",
            "After Randomising the list:  ['Filmformasti', 'Technocutter', 'Cracklogic']\n"
          ]
        }
      ]
    },
    {
      "cell_type": "code",
      "source": [
        "#Method-2 --Shuffle Using index Position\n",
        "n = random.sample(range(0,3),3)\n",
        "list_val=['Cracklogic','Technocutter','Filmformasti']\n",
        "res=[]\n",
        "for i in n:\n",
        "  res.append(list_val[i])\n",
        "print(res)"
      ],
      "metadata": {
        "colab": {
          "base_uri": "https://localhost:8080/"
        },
        "id": "frg8vt3wUiQR",
        "outputId": "fc572a9b-c219-4330-f91b-2483941227f2"
      },
      "execution_count": null,
      "outputs": [
        {
          "output_type": "stream",
          "name": "stdout",
          "text": [
            "['Filmformasti', 'Technocutter', 'Cracklogic']\n"
          ]
        }
      ]
    },
    {
      "cell_type": "markdown",
      "source": [
        "#### Print the indices along with list of element."
      ],
      "metadata": {
        "id": "fVJonv8e4Y-4"
      }
    },
    {
      "cell_type": "code",
      "source": [
        "#Method-1\n",
        "#Index position started from 20\n",
        "number=[10,12,14,16,18,20]\n",
        "for ind,val in enumerate(number,start=20):\n",
        "  print(ind,val)"
      ],
      "metadata": {
        "id": "3msLDslxVIhH",
        "colab": {
          "base_uri": "https://localhost:8080/"
        },
        "outputId": "592c6d84-05f6-4940-99d2-00729e6f0694"
      },
      "execution_count": null,
      "outputs": [
        {
          "output_type": "stream",
          "name": "stdout",
          "text": [
            "20 10\n",
            "21 12\n",
            "22 14\n",
            "23 16\n",
            "24 18\n",
            "25 20\n"
          ]
        }
      ]
    },
    {
      "cell_type": "code",
      "source": [
        "#Method-2\n",
        "#Index position started from 20\n",
        "pos=20\n",
        "for i in number:\n",
        "  print(pos,i)\n",
        "  pos=pos+1\n"
      ],
      "metadata": {
        "colab": {
          "base_uri": "https://localhost:8080/"
        },
        "id": "8uAHsbsI4Fkk",
        "outputId": "65073177-6919-44e3-dc09-3bdf0a32bd53"
      },
      "execution_count": null,
      "outputs": [
        {
          "output_type": "stream",
          "name": "stdout",
          "text": [
            "20 10\n",
            "21 12\n",
            "22 14\n",
            "23 16\n",
            "24 18\n",
            "25 20\n"
          ]
        }
      ]
    },
    {
      "cell_type": "code",
      "source": [
        "from collections import Counter\n",
        "words=\"if there was there was but if\"\n",
        "sep_words=words.split()\n",
        "count=Counter(sep_words)\n",
        "count"
      ],
      "metadata": {
        "id": "yAJIqLko4xd1",
        "colab": {
          "base_uri": "https://localhost:8080/"
        },
        "outputId": "5e0efd56-8e02-4774-ac55-56ec025fa30b"
      },
      "execution_count": null,
      "outputs": [
        {
          "output_type": "execute_result",
          "data": {
            "text/plain": [
              "Counter({'if': 2, 'there': 2, 'was': 2, 'but': 1})"
            ]
          },
          "metadata": {},
          "execution_count": 17
        }
      ]
    },
    {
      "cell_type": "code",
      "source": [
        "count.most_common(2)"
      ],
      "metadata": {
        "colab": {
          "base_uri": "https://localhost:8080/"
        },
        "id": "dyrZpcWQQFid",
        "outputId": "730c94c8-2b40-494f-987d-804f3de40726"
      },
      "execution_count": null,
      "outputs": [
        {
          "output_type": "execute_result",
          "data": {
            "text/plain": [
              "[('if', 2), ('there', 2)]"
            ]
          },
          "metadata": {},
          "execution_count": 15
        }
      ]
    },
    {
      "cell_type": "markdown",
      "source": [
        "####Multiplication using recursion"
      ],
      "metadata": {
        "id": "K2uKPBH8fBkA"
      }
    },
    {
      "cell_type": "code",
      "source": [
        "#Method-1\n",
        "def mul(a,b):\n",
        "  if b==1:\n",
        "    return a\n",
        "  else:\n",
        "    return a+mul(a,b-1)"
      ],
      "metadata": {
        "id": "nYqzzzv-TaaT"
      },
      "execution_count": null,
      "outputs": []
    },
    {
      "cell_type": "code",
      "source": [
        "##Function call\n",
        "mul(4,5)"
      ],
      "metadata": {
        "id": "eU3TXHxkfX1G"
      },
      "execution_count": null,
      "outputs": []
    },
    {
      "cell_type": "code",
      "source": [
        "#Method-2\n",
        "def mul_fun(a,b):\n",
        "  return a*b"
      ],
      "metadata": {
        "id": "XAhNH7TZfD3Y"
      },
      "execution_count": null,
      "outputs": []
    },
    {
      "cell_type": "code",
      "source": [
        "##Function call\n",
        "mul_fun(4,5)"
      ],
      "metadata": {
        "colab": {
          "base_uri": "https://localhost:8080/"
        },
        "id": "Kvd_34RffDx5",
        "outputId": "798307d9-f677-4e7a-a1b4-810e777cf056"
      },
      "execution_count": null,
      "outputs": [
        {
          "output_type": "execute_result",
          "data": {
            "text/plain": [
              "20"
            ]
          },
          "metadata": {},
          "execution_count": 7
        }
      ]
    },
    {
      "cell_type": "code",
      "source": [
        "#Method-3\n",
        "def mul_func(first,second):\n",
        "  res=0\n",
        "  for i in range(1,second):\n",
        "    res=res+second\n",
        "  return res\n"
      ],
      "metadata": {
        "id": "VBMLLy-zfDvJ"
      },
      "execution_count": null,
      "outputs": []
    },
    {
      "cell_type": "code",
      "source": [
        "mul_func(3,4)"
      ],
      "metadata": {
        "colab": {
          "base_uri": "https://localhost:8080/"
        },
        "id": "_kuVeKm-fDpJ",
        "outputId": "1f92d3a1-a53e-429f-983c-c20c696c1b68"
      },
      "execution_count": null,
      "outputs": [
        {
          "output_type": "execute_result",
          "data": {
            "text/plain": [
              "12"
            ]
          },
          "metadata": {},
          "execution_count": 13
        }
      ]
    },
    {
      "cell_type": "markdown",
      "source": [
        "####Factorial using recursion"
      ],
      "metadata": {
        "id": "BHhVNdK4yZeD"
      }
    },
    {
      "cell_type": "code",
      "source": [
        "#Method-1\n",
        "def fact_number(n):\n",
        "  try:\n",
        "    while n>=0:\n",
        "      if n==0:\n",
        "        return 1\n",
        "      else:\n",
        "        return n*fact_number(n-1)\n",
        "    else:\n",
        "      return \"Please enter positive number\"\n",
        "  except:\n",
        "    return \"Error Occurred\""
      ],
      "metadata": {
        "id": "MaqSCB83yZRC"
      },
      "execution_count": null,
      "outputs": []
    },
    {
      "cell_type": "code",
      "source": [
        "fact_number(23)"
      ],
      "metadata": {
        "colab": {
          "base_uri": "https://localhost:8080/"
        },
        "id": "lbxdgN_kyZOj",
        "outputId": "a82a9c07-030f-4e53-ca20-d2906e56acef"
      },
      "execution_count": null,
      "outputs": [
        {
          "output_type": "execute_result",
          "data": {
            "text/plain": [
              "25852016738884976640000"
            ]
          },
          "metadata": {},
          "execution_count": 35
        }
      ]
    },
    {
      "cell_type": "code",
      "source": [
        "#Method-2\n",
        "import numpy as np\n",
        "import scipy as sp\n",
        "import math\n",
        "\n",
        "def inbuild_fact_calculation(n):\n",
        "  print(f'Calculation of factorial of {n} is {np.math.factorial(n)} using numpy math function')\n",
        "  print(f'Calculation of factorial of {n} is {math.factorial(n)} using  math function')\n",
        "  print(f'Calculation of factorial of {n} is {sp.special.factorial(n)} using numpy math function')"
      ],
      "metadata": {
        "id": "W8QuLTfYyZL4"
      },
      "execution_count": null,
      "outputs": []
    },
    {
      "cell_type": "code",
      "source": [
        "inbuild_fact_calculation(5)"
      ],
      "metadata": {
        "colab": {
          "base_uri": "https://localhost:8080/"
        },
        "id": "BhuSmtzsyZJa",
        "outputId": "87e18e34-d7cd-4429-ddf3-ac953a121aa4"
      },
      "execution_count": null,
      "outputs": [
        {
          "output_type": "stream",
          "name": "stdout",
          "text": [
            "Calculation of factorial of 5 is 120 using numpy math function\n",
            "Calculation of factorial of 5 is 120 using  math function\n",
            "Calculation of factorial of 5 is 120.0 using numpy math function\n"
          ]
        }
      ]
    },
    {
      "cell_type": "code",
      "source": [
        "#Method-3\n",
        "\n",
        "def fact_number(n):\n",
        "  sum=1\n",
        "  for i in range(1,n+1):\n",
        "    sum=sum*i\n",
        "  return sum\n"
      ],
      "metadata": {
        "id": "cafU9vuPyZGS"
      },
      "execution_count": null,
      "outputs": []
    },
    {
      "cell_type": "code",
      "source": [
        "fact_number(5)"
      ],
      "metadata": {
        "colab": {
          "base_uri": "https://localhost:8080/"
        },
        "id": "M9AD3JeNyYPr",
        "outputId": "8d5d9e8c-bfd6-4259-daa7-f538ddd0bb6f"
      },
      "execution_count": null,
      "outputs": [
        {
          "output_type": "execute_result",
          "data": {
            "text/plain": [
              "120"
            ]
          },
          "metadata": {},
          "execution_count": 42
        }
      ]
    },
    {
      "cell_type": "markdown",
      "source": [
        "####Palindrom using recursion"
      ],
      "metadata": {
        "id": "-9azAo9i6a7s"
      }
    },
    {
      "cell_type": "code",
      "source": [
        "def palindrom(string_val):\n",
        "  if len(string_val)<1:\n",
        "    print('Palindrom')\n",
        "  else:\n",
        "    if string_val[0]==string_val[-1]:\n",
        "      palindrom(string_val[1:-1])\n",
        "    else:\n",
        "      print('Not Palindrom')"
      ],
      "metadata": {
        "id": "bOAdI82EfDmb"
      },
      "execution_count": null,
      "outputs": []
    },
    {
      "cell_type": "code",
      "source": [
        "palindrom('madam1')"
      ],
      "metadata": {
        "colab": {
          "base_uri": "https://localhost:8080/"
        },
        "id": "VnkF9vPD4Q-o",
        "outputId": "044abcff-64d1-4c86-93aa-b914ad1deb7f"
      },
      "execution_count": null,
      "outputs": [
        {
          "output_type": "stream",
          "name": "stdout",
          "text": [
            "Not Palindrom\n"
          ]
        }
      ]
    },
    {
      "cell_type": "code",
      "source": [
        "def find_palindrom(string):\n",
        "  res=string[::-1]\n",
        "  if res==string:\n",
        "    return 'Palindrom'\n",
        "  else:\n",
        "    return 'Not Palindrom'\n",
        "\n",
        "input_str=input('Enter the string:')\n",
        "find_palindrom(str.lower(input_str))"
      ],
      "metadata": {
        "id": "DdNwiSQC5O3b"
      },
      "execution_count": null,
      "outputs": []
    },
    {
      "cell_type": "code",
      "source": [
        "def find_palindrom(input_str):\n",
        "  if input_str==str(input_str)[::-1]:\n",
        "      print('Palindrom')\n",
        "  else:\n",
        "      print('Not Palindrom')\n",
        "\n",
        "input_str=input('Enter the string:')\n",
        "find_palindrom(str.lower(input_str))"
      ],
      "metadata": {
        "colab": {
          "base_uri": "https://localhost:8080/"
        },
        "id": "bUvL0Llh8xrE",
        "outputId": "298c8e29-f2a2-4f8c-ac48-0141f64989dd"
      },
      "execution_count": null,
      "outputs": [
        {
          "output_type": "stream",
          "name": "stdout",
          "text": [
            "Enter the string:Madam\n",
            "Palindrom\n"
          ]
        }
      ]
    },
    {
      "cell_type": "code",
      "source": [
        "find_palindrom('maam3')"
      ],
      "metadata": {
        "colab": {
          "base_uri": "https://localhost:8080/",
          "height": 35
        },
        "id": "bmeQI8xp6K2_",
        "outputId": "3c5b21d7-182b-4ac9-c2ed-561f9f98de81"
      },
      "execution_count": null,
      "outputs": [
        {
          "output_type": "execute_result",
          "data": {
            "text/plain": [
              "'Not Palindrom'"
            ],
            "application/vnd.google.colaboratory.intrinsic+json": {
              "type": "string"
            }
          },
          "metadata": {},
          "execution_count": 56
        }
      ]
    },
    {
      "cell_type": "code",
      "source": [
        "def isPalindrom(inp_str):\n",
        "  l=int(len(inp_str)/2)\n",
        "  for i in range(0,l):\n",
        "    if inp_str[i]!=inp_str[len(inp_str)-i-1]:\n",
        "      return False\n",
        "  return True\n"
      ],
      "metadata": {
        "id": "XqKPoM9GA4T5"
      },
      "execution_count": null,
      "outputs": []
    },
    {
      "cell_type": "code",
      "source": [
        "inp_str=input('Enter the String:')\n",
        "res=isPalindrom(inp_str)\n",
        "\n",
        "if res:\n",
        "  print('Palindrom')\n",
        "else:\n",
        "  print('Not Palindrom')"
      ],
      "metadata": {
        "colab": {
          "base_uri": "https://localhost:8080/"
        },
        "id": "h0Ejn7JUA4RI",
        "outputId": "cc0ced2c-da2f-4325-9397-8c17f48e74c5"
      },
      "execution_count": null,
      "outputs": [
        {
          "output_type": "stream",
          "name": "stdout",
          "text": [
            "Enter the String:qw\n",
            "Not Palindrom\n"
          ]
        }
      ]
    },
    {
      "cell_type": "code",
      "source": [
        "def isPalindrom1(inp_str):\n",
        "  rev = ''.join(reversed(inp_str))\n",
        "  if inp_str==rev:\n",
        "    print('Palindrom')\n",
        "  else:\n",
        "    print('Not Palindrom')"
      ],
      "metadata": {
        "id": "5Hv1ar6DA4Op"
      },
      "execution_count": null,
      "outputs": []
    },
    {
      "cell_type": "code",
      "source": [
        "inp_str=input('Enter the String:')\n",
        "isPalindrom1(inp_str)"
      ],
      "metadata": {
        "colab": {
          "base_uri": "https://localhost:8080/"
        },
        "id": "hwvN6cPTA4Lm",
        "outputId": "2d2a0395-1a34-40ec-e161-3a5cfe13ba42"
      },
      "execution_count": null,
      "outputs": [
        {
          "output_type": "stream",
          "name": "stdout",
          "text": [
            "Enter the String:madam\n",
            "Palindrom\n"
          ]
        }
      ]
    },
    {
      "cell_type": "code",
      "source": [],
      "metadata": {
        "id": "_FEz-EyMA4In"
      },
      "execution_count": null,
      "outputs": []
    },
    {
      "cell_type": "code",
      "source": [],
      "metadata": {
        "id": "llQ0ZgfoA3xJ"
      },
      "execution_count": null,
      "outputs": []
    },
    {
      "cell_type": "code",
      "source": [
        "### It is not suitable because if we increase the number of m then time will increses drastically\n",
        "def fib(m):\n",
        "  if m==0 or m==1:\n",
        "    return 1\n",
        "  else:\n",
        "    return fib(m-1)+fib(m-2)"
      ],
      "metadata": {
        "id": "XLjdXoUI7XLx"
      },
      "execution_count": null,
      "outputs": []
    },
    {
      "cell_type": "code",
      "source": [
        "fib(5)"
      ],
      "metadata": {
        "id": "9CyuNOrO71u5"
      },
      "execution_count": null,
      "outputs": []
    },
    {
      "cell_type": "code",
      "source": [
        "def memo(m,d):\n",
        "  if m in d:\n",
        "    return d[m]\n",
        "  else:\n",
        "    d[m]=memo(m-1,d)+memo(m-2,d)\n",
        "    return d[m]\n",
        "\n",
        "d={0:1,1:1}\n",
        "print(memo(48,d))"
      ],
      "metadata": {
        "id": "iZmYAwzZ73g7"
      },
      "execution_count": null,
      "outputs": []
    },
    {
      "cell_type": "markdown",
      "source": [
        "####replace the space with a specific character."
      ],
      "metadata": {
        "id": "fIltla80xSyh"
      }
    },
    {
      "cell_type": "code",
      "source": [
        "def replace_str(input_str,chr):\n",
        "  return input_str.replace(' ',chr)"
      ],
      "metadata": {
        "colab": {
          "base_uri": "https://localhost:8080/",
          "height": 35
        },
        "id": "BXhbzly8AI4y",
        "outputId": "eec733c0-f1b6-47e1-da68-a2757c40e9bf"
      },
      "execution_count": null,
      "outputs": [
        {
          "output_type": "execute_result",
          "data": {
            "text/plain": [
              "'loveyou'"
            ],
            "application/vnd.google.colaboratory.intrinsic+json": {
              "type": "string"
            }
          },
          "metadata": {},
          "execution_count": 2
        }
      ]
    },
    {
      "cell_type": "code",
      "source": [
        "replace_str('nitesh andey','p')"
      ],
      "metadata": {
        "colab": {
          "base_uri": "https://localhost:8080/",
          "height": 35
        },
        "id": "ilxOJpn60EU8",
        "outputId": "44f4b86c-6d44-4e35-9eaa-7220569c348d"
      },
      "execution_count": null,
      "outputs": [
        {
          "output_type": "execute_result",
          "data": {
            "text/plain": [
              "'niteshpandey'"
            ],
            "application/vnd.google.colaboratory.intrinsic+json": {
              "type": "string"
            }
          },
          "metadata": {},
          "execution_count": 9
        }
      ]
    },
    {
      "cell_type": "code",
      "source": [
        "def replace_str(input_str,chr):\n",
        "  res=''\n",
        "  for i in input_str:\n",
        "    if i==' ':\n",
        "      i=chr\n",
        "    res+=i\n",
        "  return res"
      ],
      "metadata": {
        "id": "FEk5QKPfAJ2E"
      },
      "execution_count": null,
      "outputs": []
    },
    {
      "cell_type": "code",
      "source": [
        "replace_str('l vey u','o')"
      ],
      "metadata": {
        "colab": {
          "base_uri": "https://localhost:8080/",
          "height": 35
        },
        "id": "gqpzi6Krw74M",
        "outputId": "1c856a5c-8e5c-4033-a712-56e911c52d5e"
      },
      "execution_count": null,
      "outputs": [
        {
          "output_type": "execute_result",
          "data": {
            "text/plain": [
              "'loveyou'"
            ],
            "application/vnd.google.colaboratory.intrinsic+json": {
              "type": "string"
            }
          },
          "metadata": {},
          "execution_count": 8
        }
      ]
    },
    {
      "cell_type": "markdown",
      "source": [
        "####Perfect square of any number\n",
        "\n",
        "1.Finding the square root of the number and converting it into an integer.\n",
        "2.Applying the square to the square root number and checking if it's a perfect square root.\n",
        "3.Returning the result as a boolean."
      ],
      "metadata": {
        "id": "eq5K0UND2V4W"
      }
    },
    {
      "cell_type": "code",
      "source": [
        "import numpy as np\n",
        "def perfectsquare(a,b):\n",
        "    count=0\n",
        "    for i in range(a,b):\n",
        "        for j in range(1,10):\n",
        "            if np.sqrt(i)%j==0:\n",
        "                print(int(np.sqrt(i)),end=' ')\n",
        "                count+=1\n",
        "                break\n",
        "    print('\\ncount between given range is:',count)\n",
        "\n",
        "a,b=[int(input()) for _ in range(2)]\n",
        "perfectsquare(a,b)"
      ],
      "metadata": {
        "id": "rJBrWHU5zOG3",
        "colab": {
          "base_uri": "https://localhost:8080/"
        },
        "outputId": "e844b155-5688-402a-d46e-71406961168b"
      },
      "execution_count": null,
      "outputs": [
        {
          "output_type": "stream",
          "name": "stdout",
          "text": [
            "2\n",
            "30\n",
            "2 3 4 5 \n",
            "count between given range is: 4\n"
          ]
        }
      ]
    },
    {
      "cell_type": "code",
      "source": [
        "def perfectSquares(l, r):\n",
        "    # For every element from the range\n",
        "    for i in range(l, r + 1):\n",
        "        # If current element is\n",
        "        # a perfect square\n",
        "        if (i**(.5) == int(i**(.5))):\n",
        "            print(i, end=\" \")"
      ],
      "metadata": {
        "id": "2DeBlBlg3Mm2"
      },
      "execution_count": null,
      "outputs": []
    },
    {
      "cell_type": "code",
      "source": [
        "a,b=[int(input()) for _ in range(2)]\n",
        "perfectSquares(a,b)"
      ],
      "metadata": {
        "colab": {
          "base_uri": "https://localhost:8080/"
        },
        "id": "QEbugItS5bRc",
        "outputId": "74e820a8-9c2d-4937-d798-95f44d172050"
      },
      "execution_count": null,
      "outputs": [
        {
          "output_type": "stream",
          "name": "stdout",
          "text": [
            "1 4 9 "
          ]
        }
      ]
    },
    {
      "cell_type": "code",
      "source": [
        "def perfectSquares(l, r):\n",
        "    for i in range(l, r + 1):\n",
        "        if (i**(.5) == int(i**(.5))): ###np.sqrt(i)==int(np.sqrt(i))\n",
        "            print(i, end=\" \")\n",
        "\n",
        "a,b=[int(input()) for _ in range(2)]\n",
        "perfectSquares(a,b)\n"
      ],
      "metadata": {
        "colab": {
          "base_uri": "https://localhost:8080/"
        },
        "id": "v1j9sLyv3OL3",
        "outputId": "028d8311-88c9-41cf-e5f4-af7df5315c3e"
      },
      "execution_count": null,
      "outputs": [
        {
          "output_type": "stream",
          "name": "stdout",
          "text": [
            "1\n",
            "10\n",
            "1 4 9 "
          ]
        }
      ]
    },
    {
      "cell_type": "code",
      "source": [
        "np.math.factorial(18)"
      ],
      "metadata": {
        "colab": {
          "base_uri": "https://localhost:8080/"
        },
        "id": "AAp-12rY5ht7",
        "outputId": "2b92aef3-22a3-49f8-f302-7c12a31ca947"
      },
      "execution_count": null,
      "outputs": [
        {
          "output_type": "execute_result",
          "data": {
            "text/plain": [
              "6402373705728000"
            ]
          },
          "metadata": {},
          "execution_count": 25
        }
      ]
    },
    {
      "cell_type": "code",
      "source": [
        "###Program to calculate factorial of given number\n",
        "def fact_number(n):\n",
        "  if n==0:\n",
        "    return 1\n",
        "  else:\n",
        "    return n* fact_number(n-1)\n",
        "\n",
        "###Program to calculate the trailing zeros\n",
        "def cal_trailing_zero(number):\n",
        "  cnt=0\n",
        "  for i in str(number)[::-1]:\n",
        "    if i=='0':\n",
        "      cnt=cnt+1\n",
        "    else:\n",
        "      break\n",
        "  return cnt"
      ],
      "metadata": {
        "id": "lESNMWm36hIJ"
      },
      "execution_count": null,
      "outputs": []
    },
    {
      "cell_type": "code",
      "source": [
        "res=fact_number(18)\n",
        "final_res=cal_trailing_zero(res)\n",
        "print('No of trailing zeros are',final_res)"
      ],
      "metadata": {
        "colab": {
          "base_uri": "https://localhost:8080/"
        },
        "id": "D_sWbhVe9EC3",
        "outputId": "f22d1fca-f400-433f-d116-d41c9778bda8"
      },
      "execution_count": null,
      "outputs": [
        {
          "output_type": "stream",
          "name": "stdout",
          "text": [
            "No of trailing zeros are 5\n"
          ]
        }
      ]
    },
    {
      "cell_type": "markdown",
      "source": [
        "####find if the input string can be segmented into words using the dictionary or not."
      ],
      "metadata": {
        "id": "na8iFA55Fj76"
      }
    },
    {
      "cell_type": "code",
      "source": [
        "def seg_string(string_val,dictionary):\n",
        "  for i in range(0,len(string_val)+1):\n",
        "    first_substr=string_val[0:i]\n",
        "    if first_substr in dictionary:\n",
        "      second_substr=string_val[i:]\n",
        "      if second_substr in dictionary:\n",
        "        return True\n",
        "  return False"
      ],
      "metadata": {
        "id": "TsOe6zSy9Kyz"
      },
      "execution_count": null,
      "outputs": []
    },
    {
      "cell_type": "code",
      "source": [
        "string_val=input('Enter input string:')\n",
        "dictionary=['data','camp','lamp','engg']\n",
        "seg_string(string_val,dictionary)"
      ],
      "metadata": {
        "colab": {
          "base_uri": "https://localhost:8080/"
        },
        "id": "FYgyI5qZEeFq",
        "outputId": "bcf657b3-2200-43dd-e834-33346d535909"
      },
      "execution_count": null,
      "outputs": [
        {
          "name": "stdout",
          "output_type": "stream",
          "text": [
            "Enter input string:datacamp\n"
          ]
        },
        {
          "output_type": "execute_result",
          "data": {
            "text/plain": [
              "True"
            ]
          },
          "metadata": {},
          "execution_count": 42
        }
      ]
    },
    {
      "cell_type": "markdown",
      "source": [
        "####Find the missing number in the array"
      ],
      "metadata": {
        "id": "udgOcfzWHrMU"
      }
    },
    {
      "cell_type": "code",
      "source": [
        "def missing_val(lower_bound,upper_bound):\n",
        "  for i in range(1,10):\n",
        "    if i not in list_1:\n",
        "      print(i)\n"
      ],
      "metadata": {
        "id": "5ImxANlsGhhj"
      },
      "execution_count": null,
      "outputs": []
    },
    {
      "cell_type": "code",
      "source": [
        "list_1 = [1,5,6,3,4,10]\n",
        "lower_bound=min(list_1)\n",
        "upper_bound=max(list_1)\n",
        "missing_val(lower_bound,upper_bound)"
      ],
      "metadata": {
        "colab": {
          "base_uri": "https://localhost:8080/"
        },
        "id": "SoWVABBgGrDt",
        "outputId": "7cc4294d-c1a7-4ec5-d6ed-6f227e26e300"
      },
      "execution_count": null,
      "outputs": [
        {
          "output_type": "stream",
          "name": "stdout",
          "text": [
            "2\n",
            "7\n",
            "8\n",
            "9\n"
          ]
        }
      ]
    },
    {
      "cell_type": "markdown",
      "source": [
        " Find out the mean, median and standard deviation of this numpy array -> np.array([1,5,3,100,4,48])"
      ],
      "metadata": {
        "id": "VuE5G_xIJc1P"
      }
    },
    {
      "cell_type": "code",
      "source": [
        "import numpy as np\n",
        "inp=np.array([1,5,3,100,4,48])"
      ],
      "metadata": {
        "id": "_07IPOkZIdJB"
      },
      "execution_count": null,
      "outputs": []
    },
    {
      "cell_type": "code",
      "source": [
        "print(f'Mean of array is {np.mean(inp)}')\n",
        "print(f'Median of array is {np.median(inp)}')\n",
        "print(f'Standard Deviation of array is {np.std(inp)}')"
      ],
      "metadata": {
        "colab": {
          "base_uri": "https://localhost:8080/"
        },
        "id": "vvuqDudxJivU",
        "outputId": "4ce3e96a-ea4e-4bad-bffd-5b863a8d34fa"
      },
      "execution_count": null,
      "outputs": [
        {
          "output_type": "stream",
          "name": "stdout",
          "text": [
            "Mean of array is 26.833333333333332\n",
            "Median of array is 4.5\n",
            "Standard Deviation of array is 36.59424666377065\n"
          ]
        }
      ]
    },
    {
      "cell_type": "markdown",
      "source": [
        "How do you change a string to lowercase in Python?"
      ],
      "metadata": {
        "id": "yDurtfrqJ7jS"
      }
    },
    {
      "cell_type": "code",
      "source": [
        "string='Nitesh Pandey'\n",
        "print(str.lower(string))\n",
        "print(string.lower())"
      ],
      "metadata": {
        "colab": {
          "base_uri": "https://localhost:8080/"
        },
        "id": "3cmku3DiJseN",
        "outputId": "49bd113a-1139-429e-9c73-17d1b31d5ed2"
      },
      "execution_count": null,
      "outputs": [
        {
          "output_type": "stream",
          "name": "stdout",
          "text": [
            "nitesh pandey\n",
            "nitesh pandey\n"
          ]
        }
      ]
    },
    {
      "cell_type": "markdown",
      "source": [
        "What's the best way to get a list of all the keys in a dictionary?"
      ],
      "metadata": {
        "id": "4-YwMKQZKXbX"
      }
    },
    {
      "cell_type": "code",
      "source": [
        "dict = {1:'Nitesh', 2:'Sarvesh', 3:'Pandey'}\n",
        "dict.keys()"
      ],
      "metadata": {
        "colab": {
          "base_uri": "https://localhost:8080/"
        },
        "id": "Kcbak_GMKA-F",
        "outputId": "092b9ad6-0720-452a-a3a0-89a7e2cd7ca7"
      },
      "execution_count": null,
      "outputs": [
        {
          "output_type": "execute_result",
          "data": {
            "text/plain": [
              "dict_keys([1, 2, 3])"
            ]
          },
          "metadata": {},
          "execution_count": 12
        }
      ]
    },
    {
      "cell_type": "markdown",
      "source": [
        "How do you capitalize a string's first letter?"
      ],
      "metadata": {
        "id": "BJgjO1h2Kla4"
      }
    },
    {
      "cell_type": "code",
      "source": [
        "string='pandey'\n",
        "print(f'Using first method :{str.capitalize(string)}')\n",
        "print(f'Using second method :{string.capitalize()}')"
      ],
      "metadata": {
        "colab": {
          "base_uri": "https://localhost:8080/"
        },
        "id": "CVZfIqrSKDGF",
        "outputId": "f6376af9-81b8-4c4f-fa82-783221505315"
      },
      "execution_count": null,
      "outputs": [
        {
          "output_type": "stream",
          "name": "stdout",
          "text": [
            "Using first method :Pandey\n",
            "Using second method :Pandey\n"
          ]
        }
      ]
    },
    {
      "cell_type": "markdown",
      "source": [
        "how do you insert an element at a specific index?"
      ],
      "metadata": {
        "id": "USfCAFr_L3Gk"
      }
    },
    {
      "cell_type": "code",
      "source": [
        "list = [ 0,1, 2, 3, 4, 5, 6, 7 ]\n",
        "list.insert(2,10)   #list_name.insert(index, element)\n",
        "print(list)"
      ],
      "metadata": {
        "colab": {
          "base_uri": "https://localhost:8080/"
        },
        "id": "m4ZKc2U6KrJM",
        "outputId": "9a551e9a-9939-4dcc-a237-ae7cfae2dabf"
      },
      "execution_count": null,
      "outputs": [
        {
          "output_type": "stream",
          "name": "stdout",
          "text": [
            "[0, 1, 10, 2, 3, 4, 5, 6, 7]\n"
          ]
        }
      ]
    },
    {
      "cell_type": "markdown",
      "source": [
        "how do you reverse a string?"
      ],
      "metadata": {
        "id": "5xL1AuJMM_87"
      }
    },
    {
      "cell_type": "code",
      "source": [
        "l=reversed(string)\n",
        "for i in l:\n",
        "  print(i,end='')\n"
      ],
      "metadata": {
        "colab": {
          "base_uri": "https://localhost:8080/"
        },
        "id": "kuxfaTrML8vf",
        "outputId": "2b5e67dc-eeef-42d6-d7b7-d602ce73448c"
      },
      "execution_count": null,
      "outputs": [
        {
          "output_type": "stream",
          "name": "stdout",
          "text": [
            "yednap"
          ]
        }
      ]
    },
    {
      "cell_type": "code",
      "source": [
        "string[::-1]"
      ],
      "metadata": {
        "colab": {
          "base_uri": "https://localhost:8080/",
          "height": 35
        },
        "id": "SwMVh-k_Mg7J",
        "outputId": "642a4062-0aa9-41ba-a91e-d4f2072e4348"
      },
      "execution_count": null,
      "outputs": [
        {
          "output_type": "execute_result",
          "data": {
            "text/plain": [
              "'yednap'"
            ],
            "application/vnd.google.colaboratory.intrinsic+json": {
              "type": "string"
            }
          },
          "metadata": {},
          "execution_count": 29
        }
      ]
    },
    {
      "cell_type": "markdown",
      "source": [
        "create tuple out of a list"
      ],
      "metadata": {
        "id": "rMMb1sVRXANU"
      }
    },
    {
      "cell_type": "code",
      "source": [
        "language = ['python','C#','C','R','Java']\n",
        "final_output=tuple(language)\n",
        "print(final_output)\n",
        "print(type(final_output))"
      ],
      "metadata": {
        "colab": {
          "base_uri": "https://localhost:8080/"
        },
        "id": "lhOQzfudM8m7",
        "outputId": "3f7a3763-23e2-4891-e46c-ebf9c02d6983"
      },
      "execution_count": null,
      "outputs": [
        {
          "output_type": "stream",
          "name": "stdout",
          "text": [
            "('python', 'C#', 'C', 'R', 'Java')\n",
            "<class 'tuple'>\n"
          ]
        }
      ]
    },
    {
      "cell_type": "markdown",
      "source": [
        "Using Python/ NumPy, write code to compute percentiles"
      ],
      "metadata": {
        "id": "HzHw_keEZAQp"
      }
    },
    {
      "cell_type": "code",
      "source": [
        "array = np.array([3, 6, 1, 6, 5, 2])\n",
        "print(np.percentile(array,70)) #70th Percentiles\n"
      ],
      "metadata": {
        "colab": {
          "base_uri": "https://localhost:8080/"
        },
        "id": "x82wqNkTXOf_",
        "outputId": "eda36852-cf70-49ad-bf1f-19d4080a6c6c"
      },
      "execution_count": null,
      "outputs": [
        {
          "output_type": "stream",
          "name": "stdout",
          "text": [
            "5.5\n"
          ]
        }
      ]
    },
    {
      "cell_type": "code",
      "source": [
        "bin_val=101\n",
        "binary=False\n",
        "for i in str(bin_val):\n",
        "  if i in '10':\n",
        "    binary=True\n",
        "  else:\n",
        "    binary=False\n",
        "\n",
        "if binary:\n",
        "  print('number is Binary')\n",
        "else:\n",
        "  print('number is not binary')"
      ],
      "metadata": {
        "colab": {
          "base_uri": "https://localhost:8080/"
        },
        "id": "W6ODTNpiXbSL",
        "outputId": "0066dcd8-7a19-4aed-9682-c3fe9451c3c4"
      },
      "execution_count": null,
      "outputs": [
        {
          "output_type": "stream",
          "name": "stdout",
          "text": [
            "number is Binary\n"
          ]
        }
      ]
    },
    {
      "cell_type": "code",
      "source": [
        "num = int(input(\"please give a number : \"))\n",
        "while(num>0):\n",
        "    j=num%10\n",
        "    if j!=0 and j!=1:\n",
        "        print(\"num is not binary\")\n",
        "        break\n",
        "    num=num//10\n",
        "    if num==0:\n",
        "        print(\"num is binary\")"
      ],
      "metadata": {
        "colab": {
          "base_uri": "https://localhost:8080/"
        },
        "id": "FBPAbCDzaaj_",
        "outputId": "9e55006b-e5c2-4dee-ae4b-3ffca996cf19"
      },
      "execution_count": null,
      "outputs": [
        {
          "output_type": "stream",
          "name": "stdout",
          "text": [
            "please give a number : 123\n",
            "num is not binary\n"
          ]
        }
      ]
    },
    {
      "cell_type": "code",
      "source": [
        "#method-2  work better then the above code\n",
        "num1 = 12\n",
        "num2 = 14\n",
        "for i in range(max(num1, num2), 1 + (num1 * num2)):\n",
        "    if i % num1 == i % num2 == 0:\n",
        "        lcm = i\n",
        "        break\n",
        "print(\"LCM of\", num1, \"and\", num2, \"is\", lcm)"
      ],
      "metadata": {
        "colab": {
          "base_uri": "https://localhost:8080/"
        },
        "id": "QARrvZPCiVYj",
        "outputId": "0b34568a-f72f-4bd6-d1e9-2840699a6537"
      },
      "execution_count": null,
      "outputs": [
        {
          "output_type": "stream",
          "name": "stdout",
          "text": [
            "LCM of 12 and 14 is 84\n"
          ]
        }
      ]
    },
    {
      "cell_type": "markdown",
      "source": [
        "Write a code snippet to reverse an array."
      ],
      "metadata": {
        "id": "XfPiwwIjLGu8"
      }
    },
    {
      "cell_type": "code",
      "source": [
        "#Using indexing\n",
        "import numpy as np\n",
        "arr1=np.array([1, 2, 3, 4])\n",
        "res=arr1[::-1]\n",
        "print(res)"
      ],
      "metadata": {
        "id": "tDvb4uOSjYNp",
        "colab": {
          "base_uri": "https://localhost:8080/"
        },
        "outputId": "3d06ae46-391d-4938-d673-2651b0ac73e7"
      },
      "execution_count": null,
      "outputs": [
        {
          "output_type": "stream",
          "name": "stdout",
          "text": [
            "[4 3 2 1]\n"
          ]
        }
      ]
    },
    {
      "cell_type": "code",
      "source": [
        "#Using flip method\n",
        "res=np.flip(arr1)\n",
        "print(res)"
      ],
      "metadata": {
        "colab": {
          "base_uri": "https://localhost:8080/"
        },
        "id": "Px2CaTRyLNXt",
        "outputId": "2aaa1789-d115-4c0d-ec46-5c79f699d7c7"
      },
      "execution_count": null,
      "outputs": [
        {
          "output_type": "stream",
          "name": "stdout",
          "text": [
            "[4 3 2 1]\n"
          ]
        }
      ]
    },
    {
      "cell_type": "code",
      "source": [
        "#Using Loop\n",
        "for i in range(len(arr1)-1,-1,-1):\n",
        "  print(arr1[i])\n"
      ],
      "metadata": {
        "colab": {
          "base_uri": "https://localhost:8080/"
        },
        "id": "BcN7pibfLUb6",
        "outputId": "cf9420e4-efc1-4c75-8cd0-860cb6d315e8"
      },
      "execution_count": null,
      "outputs": [
        {
          "output_type": "stream",
          "name": "stdout",
          "text": [
            "4\n",
            "3\n",
            "2\n",
            "1\n"
          ]
        }
      ]
    },
    {
      "cell_type": "markdown",
      "source": [
        "concatenate lists element wise."
      ],
      "metadata": {
        "id": "mfw2temkM2GZ"
      }
    },
    {
      "cell_type": "code",
      "source": [
        "list1= ['W', 'a', 'w','b']\n",
        "list2 = ['e', ' ','riting','log']\n",
        "\n",
        "for x,y in zip(list1,list2):\n",
        "  print(x+y,end=' ')"
      ],
      "metadata": {
        "colab": {
          "base_uri": "https://localhost:8080/"
        },
        "id": "q3vHZHe7Ly23",
        "outputId": "8539ff5d-6bdf-44b0-9c47-52b33b5db69c"
      },
      "execution_count": null,
      "outputs": [
        {
          "output_type": "stream",
          "name": "stdout",
          "text": [
            "We a  writing blog "
          ]
        }
      ]
    },
    {
      "cell_type": "code",
      "source": [
        "# Method2\n",
        "# Find the maximum length from given list\n",
        "def find_max_len(list1,list2):\n",
        "  if len(list1)>len(list2):\n",
        "    return len(list1)\n",
        "  else:\n",
        "    return len(list2)\n",
        "\n",
        "list1= ['W', 'a', 'w','b']\n",
        "list2 = ['e', ' ','riting','log']\n",
        "max_len=find_max_len(list1,list2) #adding or concatenate element of list index by index position\n",
        "for i in range(max_len):\n",
        "  print(list1[i]+list2[i],end=' ')"
      ],
      "metadata": {
        "colab": {
          "base_uri": "https://localhost:8080/"
        },
        "id": "-PrekyOuCrYS",
        "outputId": "44e813a0-7d39-4617-a765-408eea6d9b40"
      },
      "execution_count": null,
      "outputs": [
        {
          "output_type": "stream",
          "name": "stdout",
          "text": [
            "We a  writing blog "
          ]
        }
      ]
    },
    {
      "cell_type": "markdown",
      "source": [
        "####Write a program to replace the element of given list\n",
        "1.Replace all integer that are evenly divisible by 3 with 'fizz'.\n",
        "2.Replace all integer divisible by 5 with 'buzz'.\n",
        "3.Replace all integer divisible by both 3 and 5 with fizzbuzz.\n",
        "\n"
      ],
      "metadata": {
        "id": "Tims3mz4UaWj"
      }
    },
    {
      "cell_type": "code",
      "source": [
        "def fizz_buzz(numbers):\n",
        "  for i in range(len(numbers)):\n",
        "    num=numbers[i]\n",
        "    if num%3==0:\n",
        "      numbers[i]='fizz'\n",
        "    if num%5==0:\n",
        "      numbers[i]='buzz'\n",
        "    if num%3==0 and num%5==0:\n",
        "      numbers[i]='fizzbuzz'\n",
        "  return numbers"
      ],
      "metadata": {
        "id": "2siXvPjxCyVP"
      },
      "execution_count": null,
      "outputs": []
    },
    {
      "cell_type": "code",
      "source": [
        "numbers=[45,22,14,65,97,72]\n",
        "fizz_buzz(numbers)"
      ],
      "metadata": {
        "colab": {
          "base_uri": "https://localhost:8080/"
        },
        "id": "wVw4tdX8RpJm",
        "outputId": "25eb9e64-9037-4039-a948-64c94f409712"
      },
      "execution_count": null,
      "outputs": [
        {
          "output_type": "execute_result",
          "data": {
            "text/plain": [
              "['fizzbuzz', 22, 14, 'buzz', 97, 'fizz']"
            ]
          },
          "metadata": {},
          "execution_count": 18
        }
      ]
    },
    {
      "cell_type": "code",
      "source": [],
      "metadata": {
        "id": "CR9PPy8kR5ne"
      },
      "execution_count": null,
      "outputs": []
    }
  ]
}