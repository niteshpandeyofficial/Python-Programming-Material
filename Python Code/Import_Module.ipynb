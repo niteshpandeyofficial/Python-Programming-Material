{
  "nbformat": 4,
  "nbformat_minor": 0,
  "metadata": {
    "colab": {
      "provenance": []
    },
    "kernelspec": {
      "name": "python3",
      "display_name": "Python 3"
    },
    "language_info": {
      "name": "python"
    }
  },
  "cells": [
    {
      "cell_type": "code",
      "source": [
        "import time             #This module provides time-related functions.\n",
        "import os               #The OS module in Python provides functions for interacting with the operating system. \n",
        "import csv              #The csv module implements classes to read and write tabular data in CSV format.\n",
        "import math             #The math module can use for mathematical tasks.\n",
        "import scipy            #The scipy module used for scientific computing of Python\n",
        "import numpy as np      #The numpy module used for working with arrays.\n",
        "import pandas as pd     #The Pandas module is used for data structures and data analysis tools. \n",
        "import seaborn as sns   #The Seaborn module is used for data visualization.\n",
        "sns.set()\n",
        "%matplotlib inline"
      ],
      "metadata": {
        "id": "5dbSuvUAHekM"
      },
      "execution_count": 2,
      "outputs": []
    },
    {
      "cell_type": "code",
      "source": [
        "import pickle    #This is way to serialize and deserialize objects in Python.\n",
        "import json      #This module used to work with JSON data.\n",
        "import array     #Array can be handled in Python by a module named array\n",
        "import random    #Random module is used to generate pseudo-random number\n",
        "import copy      #create a copy of an object using this module\n",
        "import tkinter   #Python with tkinter is the fastest and easiest way to create the GUI\n",
        "import xlrd      #xlrd is a library for reading data and formatting information from Excel files\n",
        "import matplotlib.pyplot as plt  #Matplotlib is a plotting library for the Python programming language"
      ],
      "metadata": {
        "id": "ABIMoOwiN6Ju"
      },
      "execution_count": null,
      "outputs": []
    },
    {
      "cell_type": "code",
      "source": [
        "from collections import Counter  #The collection Module in Python provides different types of containers like Counter,OrderedDict,DefaultDict,namedtuple\n",
        "from collections import namedtuple \n",
        "from functools import reduce     #The functools module is for higher-order functions like wraps,reduce etc."
      ],
      "metadata": {
        "id": "ESyWrT0fJ7i3"
      },
      "execution_count": null,
      "outputs": []
    },
    {
      "cell_type": "code",
      "source": [
        "# Package need to install before connecting to Databases\n",
        "\n",
        "import psycopg2  #To establish connection with the PostgreSQL database,\n",
        "import cx_Oracle  # To establish connection with the Oracle database\n",
        "import mysql.connector  # To establish connection with the MySQL database.\n",
        "import pymongo  # To establish connection with the MongoDB database.\n"
      ],
      "metadata": {
        "id": "IhUZcwGDPBUS"
      },
      "execution_count": null,
      "outputs": []
    },
    {
      "cell_type": "code",
      "source": [
        "import inflect #Correctly generate plurals, singular nouns, ordinals, indefinite articles; convert numbers to words.\n",
        "import num2words #num2words is a library that converts numbers\n"
      ],
      "metadata": {
        "id": "VEk-I09GPcbO"
      },
      "execution_count": null,
      "outputs": []
    },
    {
      "cell_type": "code",
      "source": [
        "##Statsmodels is a Python package that allows users to explore data, estimate statistical models, \n",
        "##and perform statistical tests.An extensive list of descriptive statistics, statistical tests, \n",
        "##plotting functions and result statistics are available for different types of data and each estimator\n",
        "import statsmodels.api as sm\n",
        "#sm.qqplot(datapoints,line='45')"
      ],
      "metadata": {
        "id": "afMCnlHsF7hH"
      },
      "execution_count": null,
      "outputs": []
    },
    {
      "cell_type": "code",
      "execution_count": null,
      "metadata": {
        "id": "Q93jfOBqF1bQ"
      },
      "outputs": [],
      "source": [
        "from scipy import stats\n",
        "##stats.probplot()"
      ]
    },
    {
      "cell_type": "markdown",
      "source": [
        "sns.heatmap(df.corr(),annot=True) ---find correlation     \n",
        "sns.scatterplot(x='independent_variable1',y='independent_variable2',data=df)"
      ],
      "metadata": {
        "id": "jnyWZQCfH_WI"
      }
    },
    {
      "cell_type": "code",
      "source": [
        "# Function inside the sklearn package for Machine Learning Operation\n",
        "\n",
        "from sklearn.svm import SVC\n",
        "from sklearn.svm import SVR\n",
        "from sklearn.metrics import r2_score\n",
        "from sklearn.preprocessing import MinMaxScaler\n",
        "from sklearn.preprocessing import MaxAbsScaler\n",
        "from sklearn.preprocessing import RobustScaler\n",
        "from sklearn.metrics import mean_squared_error\n",
        "\n",
        "from sklearn.metrics import mean_absolute_error\n",
        "from sklearn.metrics import adjusted_rand_score\n",
        "from sklearn.preprocessing import StandardScaler\n",
        "from sklearn.model_selection import GridSearchCV\n",
        "from sklearn.metrics import mean_squared_log_error\n",
        "\n",
        "from sklearn.model_selection import cross_validate\n",
        "from sklearn.model_selection import train_test_split\n",
        "from sklearn.model_selection import RandomizedSearchCV\n",
        "from sklearn.metrics import mean_absolute_percentage_error"
      ],
      "metadata": {
        "id": "vG9gDKr-H4mj"
      },
      "execution_count": null,
      "outputs": []
    }
  ]
}