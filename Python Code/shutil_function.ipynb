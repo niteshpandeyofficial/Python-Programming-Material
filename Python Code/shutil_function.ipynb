{
  "nbformat": 4,
  "nbformat_minor": 0,
  "metadata": {
    "colab": {
      "provenance": []
    },
    "kernelspec": {
      "name": "python3",
      "display_name": "Python 3"
    },
    "language_info": {
      "name": "python"
    }
  },
  "cells": [
    {
      "cell_type": "markdown",
      "source": [
        "#### **shutil**\n",
        "There are different ways for copying a file in Python. We will start with an approach of using the library shutil.The shutil module offers a number of high-level operations on files and collections of files.below are some most usable function of utils are as follow.\n",
        "\n",
        "1. shutil.copyfile(src, dst)\n",
        "2. shutil.copy(src, dst)\n",
        "3. shutil.copy2(src, dst)\n",
        "4. shutil.rmtree(path)\n",
        "5. shutil.move(src, dst)\n",
        "6. shutil.copytree(src,dst)"
      ],
      "metadata": {
        "id": "oPufZVVBXQqv"
      }
    },
    {
      "cell_type": "markdown",
      "source": [
        "**shutil.copy(src,dst)**  \n",
        "1. This function copies the file or directory located at **src** to new location specified by **dst**.\n",
        "2. If the destination location already exists,the original file will be overwritten."
      ],
      "metadata": {
        "id": "8WU5dPd6YJiK"
      }
    },
    {
      "cell_type": "code",
      "source": [
        "#Importing module\n",
        "import shutil\n",
        "\n",
        "# Copy file example.txt into a new file called example_copy.txt\n",
        "shutil.copy('example.txt', 'example_copy.txt')\n",
        "\n",
        "# Copy file example.txt into directory test/\n",
        "shutil.copy('example.txt', 'test/')"
      ],
      "metadata": {
        "id": "LwUzTiG-t7Qy"
      },
      "execution_count": null,
      "outputs": []
    },
    {
      "cell_type": "markdown",
      "source": [
        "**shutil.copy2(src,dst)**\n",
        "1. This function is similar to shutil.copy but it also preserve more datadata about the original file such as timestamp."
      ],
      "metadata": {
        "id": "CbRuZQjmbJpG"
      }
    },
    {
      "cell_type": "code",
      "source": [
        "#Importing module\n",
        "import shutil\n",
        "\n",
        "# Copy file example.txt into a new file called example_copy.txt\n",
        "shutil.copy2('example.txt', 'example_copy.txt')\n",
        "\n",
        "# Copy file example.txt into directory test/\n",
        "shutil.copy2('example.txt', 'test/')"
      ],
      "metadata": {
        "id": "NZhYGq4guO9W"
      },
      "execution_count": null,
      "outputs": []
    },
    {
      "cell_type": "markdown",
      "source": [
        "**shutil.copytree(src,dst)**\n",
        "1. This function recursively copies the directory located at **src** to new location specified by **dst**.\n",
        "2. If the destination location already exist,the original directory will be merged with it."
      ],
      "metadata": {
        "id": "fUnNF0pvbJmU"
      }
    },
    {
      "cell_type": "code",
      "source": [
        "#Importing module\n",
        "import shutil\n",
        "shutil.copytree(\"c:/Users/source\", \"c:/Users/destination\") "
      ],
      "metadata": {
        "id": "tjmfjTISuW-q"
      },
      "execution_count": null,
      "outputs": []
    },
    {
      "cell_type": "markdown",
      "source": [
        "**shutil.move(src,dst)**\n",
        "1. This function moves the file located at **src** to new location specified by **dst**.\n",
        "2. This function is equivalent to renaming a file in most cases.\n",
        "\n"
      ],
      "metadata": {
        "id": "xX_VeNDlbJi4"
      }
    },
    {
      "cell_type": "code",
      "source": [
        "#Source Path\n",
        "source = 'C:/Users/source'\n",
        "  \n",
        "# Destination Path \n",
        "destination = 'C:/Users/destination'\n",
        "shutil.move(source, destination) "
      ],
      "metadata": {
        "id": "OsGnB_qvukch"
      },
      "execution_count": null,
      "outputs": []
    },
    {
      "cell_type": "markdown",
      "source": [
        "**shutil.rmtree(path)**\n",
        "1. This function recursively delete the directory located at specified **path**,along with all of its contents.\n",
        "2. This function is similar to using the rm -rf command in shell"
      ],
      "metadata": {
        "id": "kZJnQcc4cUzt"
      }
    },
    {
      "cell_type": "code",
      "source": [
        "#Importing module\n",
        "import shutil\n",
        "\n",
        "# removing directory\n",
        "shutil.rmtree('c:/Users/source/')"
      ],
      "metadata": {
        "id": "A5zPwPgyubqh"
      },
      "execution_count": null,
      "outputs": []
    },
    {
      "cell_type": "markdown",
      "source": [
        "**shutil.copyfile(src,dst)**\n",
        "1. This function Copy the contents (no metadata) of the file named src to a file named dst and return dst in the most efficient way possible. "
      ],
      "metadata": {
        "id": "QR50PMu7cUuR"
      }
    },
    {
      "cell_type": "code",
      "source": [
        "#Copy file example.txt into a new file called example_copy.txt\n",
        "import shutil\n",
        "shutil.copyfile('source.txt', 'destination.txt')"
      ],
      "metadata": {
        "id": "ZyxtbXgguAT1"
      },
      "execution_count": null,
      "outputs": []
    },
    {
      "cell_type": "code",
      "source": [],
      "metadata": {
        "id": "nQADGVDgbJVY"
      },
      "execution_count": 2,
      "outputs": []
    }
  ]
}