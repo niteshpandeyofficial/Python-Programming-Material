{
  "nbformat": 4,
  "nbformat_minor": 0,
  "metadata": {
    "colab": {
      "provenance": []
    },
    "kernelspec": {
      "name": "python3",
      "display_name": "Python 3"
    },
    "language_info": {
      "name": "python"
    }
  },
  "cells": [
    {
      "cell_type": "markdown",
      "source": [
        "#### **Coroutines vs Threads**\n",
        "\n",
        "**Coroutines**   \n",
        "* processing, i.e., one gets executed at any given time similar to subroutines.\n",
        "\n",
        "* Coroutines are a more generalized form of subroutines. Subroutines are entered at one point and exited at another point. Coroutines can be entered, exited, and resumed at many different points.\n",
        "\n",
        "**Threads**  \n",
        "Whereas Threads is a form of concurrent processing, i.e., multiple threads get executed at any given time."
      ],
      "metadata": {
        "id": "912m7YV_jXP1"
      }
    },
    {
      "cell_type": "markdown",
      "source": [
        "A global interpreter lock (GIL) is a mechanism used in computer-language interpreters to synchronize the execution of threads"
      ],
      "metadata": {
        "id": "374Wm2Lht3-c"
      }
    },
    {
      "cell_type": "markdown",
      "source": [
        "we usually have the three library options to achieve concurrency,\n",
        "* multiprocessing, \n",
        "* threading and \n",
        "* asyncio"
      ],
      "metadata": {
        "id": "Qqf3a4h0rxLV"
      }
    },
    {
      "cell_type": "markdown",
      "source": [
        "* Asyncio provides coroutine-based concurrency for non-blocking I/O with streams and subprocesses. \n",
        "\n",
        "* Threading provides thread-based concurrency, suitable for blocking I/O tasks."
      ],
      "metadata": {
        "id": "jVBJXzQeb8GD"
      }
    },
    {
      "cell_type": "markdown",
      "source": [
        "**Blocking** \n",
        "Linear programming, easier to code, less control.\n",
        "\n",
        "**Non-blocking** \n",
        "Parallel programming, more difficult to code, more control."
      ],
      "metadata": {
        "id": "hn1DkCeAmKOg"
      }
    },
    {
      "cell_type": "markdown",
      "source": [
        "The most important difference between blocking and non-blocking IO is how code behaves during the I/O operation: with a blocking IO, users must wait until data has been received before continuing execution; with a non-blocking IO, users don’t have to wait for anything at all!"
      ],
      "metadata": {
        "id": "WepzXz3Ym-Pf"
      }
    },
    {
      "cell_type": "markdown",
      "source": [
        "**Some key similarities between the modules include:**\n",
        "\n",
        "* Both modules are used for concurrency.\n",
        "* Both modules are suited for concurrent I/O tasks.\n",
        "* Both modules offer generally the same synchronization primitives.\n",
        "* Both modules offer safe queue data structures.\n",
        "* Both types of concurrency can suffer race conditions and deadlocks."
      ],
      "metadata": {
        "id": "k4FJ0AIalCfj"
      }
    },
    {
      "cell_type": "markdown",
      "source": [
        "**Some key similarities between the modules include:**\n",
        "\n",
        "* Asynchronous vs Procedural/Object-oriented Programming\n",
        "* Coroutine-based concurrency vs Thread-based concurrency\n",
        "* No GIL vs GIL\n",
        "* Coroutines in One Thread vs Threads in One Process\n",
        "* Limited I/O Tasks vs No Limit on I/O Tasks"
      ],
      "metadata": {
        "id": "NSRF7IYsn9nx"
      }
    },
    {
      "cell_type": "markdown",
      "source": [
        "We have walked through the most popular forms of concurrency. But the question remains - when should choose which one? It really depends on the use cases.\n",
        "\n",
        "    if io_bound:\n",
        "        if io_very_slow:\n",
        "            print(\"Use Asyncio\")\n",
        "        else:\n",
        "            print(\"Use Threads\")\n",
        "    else:\n",
        "        print(\"Multi Processing\")\n",
        "\n",
        "**CPU Bound** => Multi Processing   \n",
        "**I/O Bound**, Fast I/O, Limited Number of Connections => Multi Threading  \n",
        "**I/O Bound**, Slow I/O, Many connections => Asyncio"
      ],
      "metadata": {
        "id": "Hn0uQBjPpVkm"
      }
    },
    {
      "cell_type": "markdown",
      "source": [
        "**CPU-bound**\n",
        "\n",
        "* CPU-bound refers to a condition when the time for it to complete the task is determined principally by the speed of the central processor.\n",
        "\n",
        "* Most of single computer programs are CPU-bound. For example, given a list of numbers, computing the sum of all the numbers in the list.\n",
        "\n",
        "**I/O-Bound**\n",
        "\n",
        "* I/O bound refers to a condition when the time it takes to complete a computation is determined principally by the period spent waiting for input/output operations to be completed.\n",
        "\n",
        "* Most of the web service related programs are I/O-bound. For example, given a list of restaurant names, finding out their ratings"
      ],
      "metadata": {
        "id": "V-7RjCyTcfaO"
      }
    },
    {
      "cell_type": "code",
      "source": [
        "##I/O Bound Operation\n",
        "\n",
        "import time\n",
        "import threading\n",
        "\n",
        "def function1():\n",
        "  print('funcion1 is call')\n",
        "  time.sleep(4)\n",
        "  print('function1 completed')\n",
        "\n",
        "def function2():\n",
        "  print('Function 2 call')\n",
        "  time.sleep(3)\n",
        "  print('function2 completed')\n",
        "\n",
        "start=time.time()\n",
        "t1=threading.Thread(target=function1,name='t1')\n",
        "t2=threading.Thread(target=function2,name='t2')\n",
        "\n",
        "t1.start()\n",
        "t2.start()\n",
        "\n",
        "t1.join()\n",
        "t2.join()\n",
        "end=time.time()\n",
        "print('Completed in ',end-start,'second')"
      ],
      "metadata": {
        "colab": {
          "base_uri": "https://localhost:8080/"
        },
        "id": "wTxvHgI68WdA",
        "outputId": "3ff7c394-141b-4491-a2bf-d116e08be1e1"
      },
      "execution_count": null,
      "outputs": [
        {
          "output_type": "stream",
          "name": "stdout",
          "text": [
            "funcion1 is callFunction 2 call\n",
            "\n",
            "function2 completed\n",
            "function1 completed\n",
            "Completed in  4.008875608444214 second\n"
          ]
        }
      ]
    },
    {
      "cell_type": "code",
      "source": [
        "# CPU Bound Operation\n",
        "\n",
        "import time\n",
        "import threading\n",
        "\n",
        "def function1():\n",
        "  print('function1 start')\n",
        "  i=0\n",
        "  while i<500000000:\n",
        "    i=i+1\n",
        "  print('function1 finished')\n",
        "\n",
        "def function2():\n",
        "  print('funtion2 start')\n",
        "  count=0\n",
        "  while count<500000000:\n",
        "    count+=1\n",
        "  print('function 2 completed')\n",
        "\n"
      ],
      "metadata": {
        "id": "fsvFbMNlBtxy"
      },
      "execution_count": null,
      "outputs": []
    },
    {
      "cell_type": "markdown",
      "source": [
        "**Concurrency Type** Multiprocessing  \n",
        "**Features** Multiple processes, high CPU utilization.\t\n",
        "**Use Criteria** CPU-bound\t\n",
        "**Metaphor** We have ten kitchens, ten chefs, ten dishes to cook.\n",
        "\n",
        "\n",
        "**Concurrency Type** Threading  \n",
        "**Features** Single process, multiple threads, pre-emptive multitasking, OS decides task switching.\t\n",
        "**Use Criteria** Fast I/O-bound\t\n",
        "**Metaphor** We have one kitchen, ten chefs, ten dishes to cook. The kitchen is crowded when the ten chefs are present together.\n",
        "\n",
        "\n",
        "**Concurrency Type** AsyncIO    \n",
        "**Features** Single process, single thread, cooperative multitasking, tasks cooperatively decide switching.   \n",
        "**Use Criteria** Slow I/O-bound\t\n",
        "**Metaphor** We have one kitchen, one chef, ten dishes to cook."
      ],
      "metadata": {
        "id": "LMEEEmhre2BL"
      }
    },
    {
      "cell_type": "code",
      "source": [
        "start_time=time.time()\n",
        "\n",
        "# create threads\n",
        "t1=threading.Thread(target=function1,name='t1')\n",
        "t2=threading.Thread(target=function2,name='t2')\n",
        "\n",
        "# start threads\n",
        "t1.start()\n",
        "t2.start()\n",
        "\n",
        "# wait untill all threads finished\n",
        "t1.join()\n",
        "t2.join()\n",
        "end_time=time.time()\n",
        "print(f'Total time taken {end_time-start_time}')"
      ],
      "metadata": {
        "colab": {
          "base_uri": "https://localhost:8080/"
        },
        "id": "quPe2VzO_Jf8",
        "outputId": "1eadb580-44ec-498f-d1d9-adf02473d992"
      },
      "execution_count": null,
      "outputs": [
        {
          "output_type": "stream",
          "name": "stdout",
          "text": [
            "function1 start\n",
            "funtion2 start\n",
            "function1 finished\n",
            "function 2 completed\n",
            "Total time taken 72.76265120506287\n"
          ]
        }
      ]
    },
    {
      "cell_type": "markdown",
      "source": [
        "**Note** that due to GIL (Global Interpreter Lock), only multiprocessing is truly parallelized."
      ],
      "metadata": {
        "id": "ggektML-hFgW"
      }
    },
    {
      "cell_type": "markdown",
      "source": [
        "#### **Major Differences**\n",
        "\n",
        "**Synchronous vs others:** \n",
        "In synchronous execution, we can decide which order everything is run. In async, threading and multi-processing we leave it to the underlying system to decide.\n",
        "\n",
        "**Multiprocessing vs others:**\n",
        "Multiprocessing is the only one that is really runs multiple lines of code at one time. Async and threading sort of fakes it. However, async and threading can run multiple IO operations truly at the same time.\n",
        "\n",
        "**Asyncio vs threading:** \n",
        "Async runs one block of code at a time while threading just one line of code at a time. With async, we have better control of when the execution is given to other block of code but we have to release the execution ourselves."
      ],
      "metadata": {
        "id": "l2hKF1m6hFeO"
      }
    },
    {
      "cell_type": "code",
      "source": [
        "# Normal Function Call\n",
        "import time\n",
        "def function1():\n",
        "  print('Call to Function1')\n",
        "  time.sleep(4)\n",
        "  print('Finish Function1')\n",
        "\n",
        "def function2():\n",
        "  print('Call to Function2')\n",
        "  time.sleep(3)\n",
        "  print('Finish Function2')\n",
        "\n",
        "start=time.time()\n",
        "function1()\n",
        "function2()\n",
        "end=time.time()\n",
        "print('Total Time Taken is:',end-start)"
      ],
      "metadata": {
        "colab": {
          "base_uri": "https://localhost:8080/"
        },
        "id": "RH3tMK3zlr9Y",
        "outputId": "5ec32680-c5c1-4de3-d3b1-4956e661e4cc"
      },
      "execution_count": 12,
      "outputs": [
        {
          "output_type": "stream",
          "name": "stdout",
          "text": [
            "Call to Function1\n",
            "Finish Function1\n",
            "Call to Function2\n",
            "Finish Function2\n",
            "Total Time Taken is: 7.0054075717926025\n"
          ]
        }
      ]
    },
    {
      "cell_type": "code",
      "source": [
        "# Asynchronous execution (async)\n",
        "import time\n",
        "import asyncio\n",
        "import nest_asyncio\n",
        "\n",
        "async def first():\n",
        "  print('start of first function')\n",
        "  await asyncio.sleep(1)\n",
        "  print('end of the first function')\n",
        "\n",
        "async def second():\n",
        "  print('start of second function')\n",
        "  await asyncio.sleep(1)\n",
        "  print('end of the second function')\n",
        "\n",
        "async def main():\n",
        "  tast1=asyncio.create_task(first())\n",
        "  task2=asyncio.create_task(second())\n",
        "\n",
        "  await asyncio.wait([tast1,tast1])\n",
        "\n",
        "if __name__=='__main__':\n",
        "  nest_asyncio.apply()\n",
        "  start=time.time()\n",
        "  asyncio.run(main())\n",
        "  end=time.time()\n",
        "  print(f'Process completed in {end-start} second')"
      ],
      "metadata": {
        "colab": {
          "base_uri": "https://localhost:8080/"
        },
        "id": "AIXH2ngFh1uQ",
        "outputId": "d084ee29-ec29-4e34-d2e0-b2cf76665c8b"
      },
      "execution_count": 7,
      "outputs": [
        {
          "output_type": "stream",
          "name": "stdout",
          "text": [
            "start of first function\n",
            "start of second function\n",
            "end of the first function\n",
            "end of the second function\n",
            "Process completed in 1.0054535865783691 second\n"
          ]
        }
      ]
    },
    {
      "cell_type": "code",
      "source": [
        "#Concurrent execution (threading)\n",
        "import threading\n",
        "import time\n",
        "\n",
        "def first():\n",
        "  print('First Function Started')\n",
        "  time.sleep(1)\n",
        "  print('First Function Completed')\n",
        "\n",
        "\n",
        "def second():\n",
        "  print('Second function started')\n",
        "  time.sleep(1)\n",
        "  print('Second Function completed')\n",
        "\n",
        "def main():\n",
        "  # create thread\n",
        "  t1=threading.Thread(target=first)\n",
        "  t2=threading.Thread(target=second)\n",
        "\n",
        "  # start threads\n",
        "  t1.start()\n",
        "  t2.start()\n",
        "\n",
        "  # wait untill all threads finished\n",
        "  t1.join()\n",
        "  t2.join()\n",
        "\n",
        "if __name__=='__main__':\n",
        "  start=time.time()\n",
        "  main()\n",
        "  end=time.time()\n",
        "  print(f'Process Completed in {end-start} second')"
      ],
      "metadata": {
        "colab": {
          "base_uri": "https://localhost:8080/"
        },
        "id": "fmu9WZ44i27H",
        "outputId": "29f9cc51-04d5-4cba-bfb7-ad215bdb7786"
      },
      "execution_count": 8,
      "outputs": [
        {
          "output_type": "stream",
          "name": "stdout",
          "text": [
            "First Function StartedSecond function started\n",
            "\n",
            "Second Function completed\n",
            "First Function Completed\n",
            "Process Completed in 1.0066969394683838 second\n"
          ]
        }
      ]
    },
    {
      "cell_type": "code",
      "source": [
        "#Parallel execution (multiprocessing)\n",
        "\n",
        "import multiprocessing\n",
        "\n",
        "def first():\n",
        "  print('First function started')\n",
        "  time.sleep(1)\n",
        "  print('First Function Completed')\n",
        "\n",
        "def second():\n",
        "  print('Second function started')\n",
        "  time.sleep(1)\n",
        "  print('Second Function completed')\n",
        "\n",
        "\n",
        "def main():\n",
        "\n",
        "  #Create Process\n",
        "  t1=multiprocessing.Process(target=first())\n",
        "  t2=multiprocessing.Process(target=second())\n",
        "\n",
        "  # start Process\n",
        "  t1.start()\n",
        "  t2.start()\n",
        "\n",
        "  # wait untill all Process finished\n",
        "  t1.join()\n",
        "  t2.join()\n",
        "\n",
        "if __name__=='__main__':\n",
        "  start=time.time()\n",
        "  main()\n",
        "  end=time.time()\n",
        "  print(f'Process Completed in {end-start} second')\n"
      ],
      "metadata": {
        "colab": {
          "base_uri": "https://localhost:8080/"
        },
        "id": "CWUBsXNClfl4",
        "outputId": "963409d2-1ba1-48f3-b70f-808931984e3a"
      },
      "execution_count": 11,
      "outputs": [
        {
          "output_type": "stream",
          "name": "stdout",
          "text": [
            "First function started\n",
            "First Function Completed\n",
            "Second function started\n",
            "Second Function completed\n",
            "Process Completed in 2.038877248764038 second\n"
          ]
        }
      ]
    },
    {
      "cell_type": "code",
      "source": [],
      "metadata": {
        "id": "4Rx24mq9mA8v"
      },
      "execution_count": null,
      "outputs": []
    }
  ]
}