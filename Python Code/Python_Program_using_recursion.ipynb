{
  "nbformat": 4,
  "nbformat_minor": 0,
  "metadata": {
    "colab": {
      "provenance": []
    },
    "kernelspec": {
      "name": "python3",
      "display_name": "Python 3"
    },
    "language_info": {
      "name": "python"
    }
  },
  "cells": [
    {
      "cell_type": "markdown",
      "source": [
        "### Multiplication using recursion"
      ],
      "metadata": {
        "id": "YW-nYtgV0GPZ"
      }
    },
    {
      "cell_type": "code",
      "execution_count": 3,
      "metadata": {
        "id": "mJupoF4kzbuL"
      },
      "outputs": [],
      "source": [
        "def mul(a,b):\n",
        "  if b==1:\n",
        "    return a\n",
        "  else:\n",
        "    return a+mul(a,b-1)\n",
        "\n"
      ]
    },
    {
      "cell_type": "code",
      "source": [
        "mul(4,5)"
      ],
      "metadata": {
        "colab": {
          "base_uri": "https://localhost:8080/"
        },
        "id": "tqFQukgJ7ITb",
        "outputId": "4b5c58ff-a579-412c-adbe-1e186882e3c0"
      },
      "execution_count": 4,
      "outputs": [
        {
          "output_type": "execute_result",
          "data": {
            "text/plain": [
              "20"
            ]
          },
          "metadata": {},
          "execution_count": 4
        }
      ]
    },
    {
      "cell_type": "markdown",
      "source": [
        "### Factorial using recursion"
      ],
      "metadata": {
        "id": "KgdeOIHV0MGn"
      }
    },
    {
      "cell_type": "code",
      "source": [
        "def fact(number):\n",
        "  if number==1:\n",
        "    return 1\n",
        "  else:\n",
        "    return number * fact(number-1)"
      ],
      "metadata": {
        "id": "g_uCYr950P54"
      },
      "execution_count": 5,
      "outputs": []
    },
    {
      "cell_type": "code",
      "source": [
        "fact(5)"
      ],
      "metadata": {
        "colab": {
          "base_uri": "https://localhost:8080/"
        },
        "id": "D4AeKbOf7Cob",
        "outputId": "6bff9855-aeba-4742-f8c7-53e6f7e6a4c4"
      },
      "execution_count": 6,
      "outputs": [
        {
          "output_type": "execute_result",
          "data": {
            "text/plain": [
              "120"
            ]
          },
          "metadata": {},
          "execution_count": 6
        }
      ]
    },
    {
      "cell_type": "markdown",
      "source": [
        "### Palindrom using recursion"
      ],
      "metadata": {
        "id": "dZdtM-TY7QQq"
      }
    },
    {
      "cell_type": "code",
      "source": [
        "def palindrom(string_val):\n",
        "  if len(string_val)>=1:\n",
        "    print('Palindrom')\n",
        "  else:\n",
        "    if string_val[0]==string_val[-1]:\n",
        "      palindrom(string_val[1:-1])\n",
        "    else:\n",
        "      print('Not Palindrom')"
      ],
      "metadata": {
        "id": "hSgwRinz7M2O"
      },
      "execution_count": 7,
      "outputs": []
    },
    {
      "cell_type": "code",
      "source": [
        "palindrom('maam')"
      ],
      "metadata": {
        "colab": {
          "base_uri": "https://localhost:8080/"
        },
        "id": "jhRnT6Ev8Lhg",
        "outputId": "4436ad92-f956-4893-d930-28ca07894baa"
      },
      "execution_count": 9,
      "outputs": [
        {
          "output_type": "stream",
          "name": "stdout",
          "text": [
            "Palindrom\n"
          ]
        }
      ]
    },
    {
      "cell_type": "markdown",
      "source": [
        "### Fibonacci Series"
      ],
      "metadata": {
        "id": "SfBuHapp8kM9"
      }
    },
    {
      "cell_type": "code",
      "source": [
        "### It is not suitable because if we increase the number of m then time will increses drastically\n",
        "def fib(m):\n",
        "  if m==0 or m==1:\n",
        "    return 1\n",
        "  else:\n",
        "    return fib(m-1)+fib(m-2)"
      ],
      "metadata": {
        "id": "6Dm8zSnO8VPK"
      },
      "execution_count": 10,
      "outputs": []
    },
    {
      "cell_type": "code",
      "source": [
        "fib(5)"
      ],
      "metadata": {
        "colab": {
          "base_uri": "https://localhost:8080/"
        },
        "id": "mYBSGiPo87Oc",
        "outputId": "cd965c54-f86c-4af9-9fc5-d78c4d9909f5"
      },
      "execution_count": 11,
      "outputs": [
        {
          "output_type": "execute_result",
          "data": {
            "text/plain": [
              "8"
            ]
          },
          "metadata": {},
          "execution_count": 11
        }
      ]
    },
    {
      "cell_type": "code",
      "source": [
        "def memo(m,d):\n",
        "  if m in d:\n",
        "    return d[m]\n",
        "  else:\n",
        "    d[m]=memo(m-1,d)+memo(m-2,d)\n",
        "    return d[m]\n",
        "\n",
        "d={0:1,1:1}\n",
        "print(memo(48,d))\n",
        "  "
      ],
      "metadata": {
        "colab": {
          "base_uri": "https://localhost:8080/"
        },
        "id": "jLYcbmW988_s",
        "outputId": "f9d9e93a-d80c-490e-9585-4911b7aace40"
      },
      "execution_count": 12,
      "outputs": [
        {
          "output_type": "stream",
          "name": "stdout",
          "text": [
            "7778742049\n"
          ]
        }
      ]
    },
    {
      "cell_type": "code",
      "source": [],
      "metadata": {
        "id": "Jsva2F0xAzhD"
      },
      "execution_count": null,
      "outputs": []
    }
  ]
}