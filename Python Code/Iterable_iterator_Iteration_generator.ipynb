{
  "cells": [
    {
      "cell_type": "markdown",
      "metadata": {
        "id": "PqNtmZnBTun3"
      },
      "source": [
        "## What is an Iteration \n",
        "Iteration is a general term for taking each item of something, one after another. Any time you use a loop, explicit or implicit, to go over a group of items, that is iteration."
      ]
    },
    {
      "cell_type": "code",
      "execution_count": null,
      "metadata": {
        "colab": {
          "base_uri": "https://localhost:8080/"
        },
        "id": "XY3hje1YIEkb",
        "outputId": "3d3e5a90-03e7-4340-caa9-ef64ae947137"
      },
      "outputs": [
        {
          "name": "stdout",
          "output_type": "stream",
          "text": [
            "1\n",
            "2\n",
            "3\n"
          ]
        }
      ],
      "source": [
        "l=[1,2,3]\n",
        "for i in l:\n",
        "  print(i)"
      ]
    },
    {
      "cell_type": "markdown",
      "metadata": {
        "id": "88-Z9cgvUFRV"
      },
      "source": [
        "### **What is Iterator**\n",
        "* An Iterator is an object that allows the programmer to traverse through a sequence of data without having to store the entire data in the memory.\n",
        "* creating an iterator in python, we use the iter() and next() functions.\n",
        "* Python iterator wont used yield statement.\n",
        "* An iterator does not make use of local variables, all it needs is iterable to iterate on.\n",
        "* You can implement your own iterator using a python class.\n",
        "* for an iterator, you must use the iter() and next() functions.\n",
        "* Python iterator is more memory-efficient."
      ]
    },
    {
      "cell_type": "code",
      "execution_count": null,
      "metadata": {
        "colab": {
          "base_uri": "https://localhost:8080/"
        },
        "id": "1BUYPiscT_SO",
        "outputId": "71e3ea04-e8c2-4448-a667-32b3a6307bd7"
      },
      "outputs": [
        {
          "data": {
            "text/plain": [
              "['__add__',\n",
              " '__class__',\n",
              " '__contains__',\n",
              " '__delattr__',\n",
              " '__delitem__',\n",
              " '__dir__',\n",
              " '__doc__',\n",
              " '__eq__',\n",
              " '__format__',\n",
              " '__ge__',\n",
              " '__getattribute__',\n",
              " '__getitem__',\n",
              " '__gt__',\n",
              " '__hash__',\n",
              " '__iadd__',\n",
              " '__imul__',\n",
              " '__init__',\n",
              " '__init_subclass__',\n",
              " '__iter__',\n",
              " '__le__',\n",
              " '__len__',\n",
              " '__lt__',\n",
              " '__mul__',\n",
              " '__ne__',\n",
              " '__new__',\n",
              " '__reduce__',\n",
              " '__reduce_ex__',\n",
              " '__repr__',\n",
              " '__reversed__',\n",
              " '__rmul__',\n",
              " '__setattr__',\n",
              " '__setitem__',\n",
              " '__sizeof__',\n",
              " '__str__',\n",
              " '__subclasshook__',\n",
              " 'append',\n",
              " 'clear',\n",
              " 'copy',\n",
              " 'count',\n",
              " 'extend',\n",
              " 'index',\n",
              " 'insert',\n",
              " 'pop',\n",
              " 'remove',\n",
              " 'reverse',\n",
              " 'sort']"
            ]
          },
          "execution_count": 5,
          "metadata": {},
          "output_type": "execute_result"
        }
      ],
      "source": [
        "m=[1,2,3]  # List,Range,Dict,Set all are iterable object not iterator because iterator consist of iter and next method.\n",
        "dir(m)\n",
        "#next(m) ## it's not iterator hence we not directly use next method to traverse ."
      ]
    },
    {
      "cell_type": "code",
      "execution_count": null,
      "metadata": {
        "colab": {
          "base_uri": "https://localhost:8080/"
        },
        "id": "0uq-X-iQUOr7",
        "outputId": "efbec8e3-ed32-4f2a-8c0d-e373326bd579"
      },
      "outputs": [
        {
          "name": "stdout",
          "output_type": "stream",
          "text": [
            "805.1484375\n",
            "0.046875\n"
          ]
        }
      ],
      "source": [
        "L = [x for x in range(1,100000)]\n",
        "# for i in L:\n",
        "#   print(i*2)\n",
        "    \n",
        "import sys\n",
        "print(sys.getsizeof(L)/1024)\n",
        "\n",
        "x = range(1,100000)\n",
        "# for i in x:\n",
        "#   print(i*2)\n",
        "print(sys.getsizeof(x)/1024)"
      ]
    },
    {
      "cell_type": "markdown",
      "metadata": {
        "id": "D7PoS_OnWfjT"
      },
      "source": [
        "## What is Iterable\n",
        "\n",
        "1. Iterable is an object, which one can iterate over\n",
        "2. It generates an Iterator when passed to iter() method."
      ]
    },
    {
      "cell_type": "code",
      "execution_count": null,
      "metadata": {
        "colab": {
          "base_uri": "https://localhost:8080/"
        },
        "id": "A5uMYNuwV-P_",
        "outputId": "e9162e89-3fac-479c-fcb0-702427ad27dd"
      },
      "outputs": [
        {
          "data": {
            "text/plain": [
              "list_iterator"
            ]
          },
          "execution_count": 3,
          "metadata": {},
          "output_type": "execute_result"
        }
      ],
      "source": [
        "L = [1,2,3]\n",
        "type(L)\n",
        "\n",
        "# L is an iterable\n",
        "type(iter(L))\n",
        "\n",
        "# iter(L) --> iterator"
      ]
    },
    {
      "cell_type": "markdown",
      "metadata": {
        "id": "B9jpb43vXLlZ"
      },
      "source": [
        "### Point to remember\n",
        "1. Every Iterator is also and Iterable\n",
        "2. Not all Iterables are Iterators"
      ]
    },
    {
      "cell_type": "markdown",
      "metadata": {
        "id": "aNjujMb9XTm9"
      },
      "source": [
        "## Trick\n",
        "* Every Iterable has an iter function.\n",
        "* Every Iterator has both iter function as well as a next function."
      ]
    },
    {
      "cell_type": "code",
      "execution_count": null,
      "metadata": {
        "colab": {
          "base_uri": "https://localhost:8080/"
        },
        "id": "TetZcqstW74w",
        "outputId": "99ff6ff6-48f5-44f5-f2b4-5b44d485c394"
      },
      "outputs": [
        {
          "data": {
            "text/plain": [
              "3"
            ]
          },
          "execution_count": 9,
          "metadata": {},
          "output_type": "execute_result"
        }
      ],
      "source": [
        "m = [1,2,3]\n",
        "\n",
        "# L is not an iterator\n",
        "iter_m = iter(m)\n",
        "\n",
        "# iter_m is an iterator\n",
        "next(iter_m)\n",
        "next(iter_m)\n",
        "next(iter_m)"
      ]
    },
    {
      "cell_type": "markdown",
      "metadata": {
        "id": "JJhYE6AYX6bi"
      },
      "source": [
        "### Understanding How Loop works"
      ]
    },
    {
      "cell_type": "code",
      "execution_count": null,
      "metadata": {
        "colab": {
          "base_uri": "https://localhost:8080/"
        },
        "id": "moKRYdJCXrM7",
        "outputId": "004e88e0-4d9c-4449-8108-07afc1415c3e"
      },
      "outputs": [
        {
          "data": {
            "text/plain": [
              "3"
            ]
          },
          "execution_count": 11,
          "metadata": {},
          "output_type": "execute_result"
        }
      ],
      "source": [
        "num = [1,2,3]\n",
        "\n",
        "# fetch the iterator\n",
        "iter_num = iter(num)\n",
        "\n",
        "# step2 --> next\n",
        "next(iter_num)\n",
        "next(iter_num)\n",
        "next(iter_num)\n"
      ]
    },
    {
      "cell_type": "code",
      "execution_count": null,
      "metadata": {
        "id": "VunPxw9VXtv4"
      },
      "outputs": [],
      "source": [
        "def range_clone(iterable):\n",
        "  iterator = iter(iterable)\n",
        "  while True:\n",
        "    try:\n",
        "      print(next(iterator))\n",
        "    except StopIteration:\n",
        "      break   "
      ]
    },
    {
      "cell_type": "code",
      "execution_count": null,
      "metadata": {
        "colab": {
          "base_uri": "https://localhost:8080/"
        },
        "id": "LTcYVfy7YdmJ",
        "outputId": "477bb0aa-4a04-4f13-b452-6beee5228e5e"
      },
      "outputs": [
        {
          "name": "stdout",
          "output_type": "stream",
          "text": [
            "1\n",
            "2\n",
            "3\n",
            "4\n",
            "5\n",
            "6\n",
            "7\n",
            "8\n",
            "9\n",
            "10\n"
          ]
        }
      ],
      "source": [
        "a = [1,2,3]\n",
        "b = range(1,11)\n",
        "c = (1,2,3)\n",
        "d = {1,2,3}\n",
        "e = {0:1,1:1}\n",
        "\n",
        "range_clone(b)"
      ]
    },
    {
      "cell_type": "markdown",
      "metadata": {
        "id": "VMbmp6JEYzjD"
      },
      "source": [
        "If we tries to create iterator of existing iterator  then same object treate as iterator only."
      ]
    },
    {
      "cell_type": "code",
      "execution_count": null,
      "metadata": {
        "colab": {
          "base_uri": "https://localhost:8080/"
        },
        "id": "Pem4KApVYrXQ",
        "outputId": "e25511e7-3848-46f1-c451-23eb4a922598"
      },
      "outputs": [
        {
          "name": "stdout",
          "output_type": "stream",
          "text": [
            "140224147109648 Address of iterator 1\n",
            "140224147109648 Address of iterator 2\n"
          ]
        }
      ],
      "source": [
        "num = [1,2,3]\n",
        "iter_obj = iter(num)\n",
        "\n",
        "print(id(iter_obj),'Address of iterator 1')\n",
        "\n",
        "iter_obj2 = iter(iter_obj)\n",
        "print(id(iter_obj2),'Address of iterator 2')"
      ]
    },
    {
      "cell_type": "code",
      "execution_count": null,
      "metadata": {
        "id": "QTuLyHqMYyPW"
      },
      "outputs": [],
      "source": [
        "class iterable_class:\n",
        "    \n",
        "    def __init__(self,start,end):\n",
        "        self.start = start\n",
        "        self.end = end\n",
        "        \n",
        "    def __iter__(self):\n",
        "        return iterator_class(self)"
      ]
    },
    {
      "cell_type": "code",
      "execution_count": null,
      "metadata": {
        "id": "aQrkEeRJZYJ2"
      },
      "outputs": [],
      "source": [
        "class iterator_class:\n",
        "    \n",
        "    def __init__(self,iterable_obj):\n",
        "        self.iterable = iterable_obj\n",
        "    \n",
        "    def __iter__(self):\n",
        "        return self\n",
        "    \n",
        "    def __next__(self):\n",
        "        \n",
        "        if self.iterable.start >= self.iterable.end:\n",
        "            raise StopIteration\n",
        "            \n",
        "        current = self.iterable.start\n",
        "        self.iterable.start+=1\n",
        "        return current"
      ]
    },
    {
      "cell_type": "code",
      "execution_count": null,
      "metadata": {
        "id": "g-5N1fW6Zddv"
      },
      "outputs": [],
      "source": [
        "x = list(iterable_class(1,11))\n"
      ]
    },
    {
      "cell_type": "code",
      "execution_count": null,
      "metadata": {
        "colab": {
          "base_uri": "https://localhost:8080/"
        },
        "id": "3NRgt0oXZjKt",
        "outputId": "a0b61a7e-318d-4921-bbbf-a8c266d9f0a5"
      },
      "outputs": [
        {
          "data": {
            "text/plain": [
              "[1, 2, 3, 4, 5, 6, 7, 8, 9, 10]"
            ]
          },
          "execution_count": 27,
          "metadata": {},
          "output_type": "execute_result"
        }
      ],
      "source": [
        "x"
      ]
    },
    {
      "cell_type": "code",
      "execution_count": null,
      "metadata": {
        "colab": {
          "base_uri": "https://localhost:8080/"
        },
        "id": "SfHQj28rZ5Aw",
        "outputId": "69ca680c-f5db-4fe7-9bfa-d71511baf52b"
      },
      "outputs": [
        {
          "name": "stdout",
          "output_type": "stream",
          "text": [
            "1\n",
            "2\n",
            "3\n",
            "4\n",
            "5\n",
            "6\n",
            "7\n",
            "8\n",
            "9\n",
            "10\n"
          ]
        }
      ],
      "source": [
        "for i in iterable_class(1,11):\n",
        "  print(i)"
      ]
    },
    {
      "cell_type": "markdown",
      "metadata": {
        "id": "YlmEk_vybar3"
      },
      "source": [
        " ### **Generator**\n",
        " * Python Generator are simple way of creating iterators.\n",
        " * It is used to generate the sequence of number.\n",
        " * A generator in python makes use of the yield keyword.\n",
        " * if we define a function with yield statement then it treated as generator function.\n",
        " * A generator may have any number of ‘yield’ statements.\n",
        " * Python generator saves the states of the local variables every time ‘yield’ pauses the loop in python.\n",
        " * A generator does not need a class in python. \n",
        " * To write a python generator, you can either use a Python function or a comprehension.\n",
        " * Generator in python let us write fast and compact code. \n",
        "\n",
        "A generator returns a generator\n",
        "\n",
        "**Application**\n",
        " * To Implement countdown.\n",
        " * To Generate first n number.\n",
        " * To generate fibonacci Series.\n",
        "\n",
        "**Advantages**\n",
        "* best suitable for web scappring\n",
        "* performance will be improved\n",
        "* memory utilization is improved when compared with normal iterators\n",
        "* generators are easy to use\n",
        "\n"
      ]
    },
    {
      "cell_type": "code",
      "execution_count": 1,
      "metadata": {
        "id": "lCd-F3Wxa6r7"
      },
      "outputs": [],
      "source": [
        "def countdown(num):\n",
        "  n=1\n",
        "  while n<=num:\n",
        "    yield n\n",
        "    n=n+1"
      ]
    },
    {
      "cell_type": "code",
      "execution_count": 2,
      "metadata": {
        "colab": {
          "base_uri": "https://localhost:8080/"
        },
        "id": "7yJ2Jhgm16uE",
        "outputId": "1e49c8f6-638b-4e57-f955-2a4fd5ac4264"
      },
      "outputs": [
        {
          "name": "stdout",
          "output_type": "stream",
          "text": [
            "1\n",
            "2\n",
            "3\n",
            "4\n",
            "5\n"
          ]
        }
      ],
      "source": [
        "for i in countdown(5):\n",
        "    print(i)"
      ]
    },
    {
      "cell_type": "code",
      "execution_count": 4,
      "metadata": {
        "colab": {
          "base_uri": "https://localhost:8080/"
        },
        "id": "eVEZBxBK1-EQ",
        "outputId": "eeb01e47-849e-446b-d866-5e95acdc58b0"
      },
      "outputs": [
        {
          "name": "stdout",
          "output_type": "stream",
          "text": [
            "Count Down Stated\n",
            "5\n",
            "4\n",
            "3\n",
            "2\n",
            "1\n",
            "Lets Go\n"
          ]
        }
      ],
      "source": [
        "import time \n",
        "def countdown(num):\n",
        "    n=1\n",
        "    print('Count Down Stated')\n",
        "    while n<=num:\n",
        "        yield num\n",
        "        num=num-1\n",
        "    print('Lets Go')\n",
        "for x in countdown(5):\n",
        "    print(x)\n",
        "    time.sleep(1)"
      ]
    },
    {
      "cell_type": "code",
      "execution_count": 6,
      "metadata": {
        "colab": {
          "base_uri": "https://localhost:8080/"
        },
        "id": "G8hI2yrQ2Dr9",
        "outputId": "e88f8822-b206-45c9-b549-74306caee5fb"
      },
      "outputs": [
        {
          "name": "stdout",
          "output_type": "stream",
          "text": [
            "0\n",
            "1\n",
            "1\n",
            "2\n",
            "3\n",
            "5\n",
            "8\n",
            "13\n",
            "21\n",
            "34\n",
            "55\n",
            "89\n"
          ]
        }
      ],
      "source": [
        "### Fibonacci Series\n",
        "def fib():\n",
        "    a,b=0,1\n",
        "    while True:\n",
        "        yield a\n",
        "        a,b=b,a+b\n",
        "        \n",
        "for x in fib():\n",
        "    if x >100:\n",
        "        break\n",
        "    print(x)"
      ]
    },
    {
      "cell_type": "code",
      "execution_count": null,
      "metadata": {
        "id": "oeqB15jO8TBE"
      },
      "outputs": [],
      "source": [
        "#Generate Even number using Generator function\n",
        "def evenGenerator(n):\n",
        "  x=2\n",
        "  while n:\n",
        "    yield x\n",
        "    x=x+2\n",
        "    n=n-1\n",
        "\n",
        "for i in evenGenerator(5):\n",
        "  print(i,end=' ')\n",
        "\n",
        "  #o/p -2 4 6 8 10"
      ]
    },
    {
      "cell_type": "markdown",
      "metadata": {},
      "source": [
        "#### Note\n",
        "1. Python allow you to use of return in generator\n",
        "2. The return statement in generator is equivalent to raise StopIteration"
      ]
    }
  ],
  "metadata": {
    "colab": {
      "collapsed_sections": [],
      "provenance": []
    },
    "kernelspec": {
      "display_name": "Python 3",
      "name": "python3"
    },
    "language_info": {
      "name": "python"
    }
  },
  "nbformat": 4,
  "nbformat_minor": 0
}
