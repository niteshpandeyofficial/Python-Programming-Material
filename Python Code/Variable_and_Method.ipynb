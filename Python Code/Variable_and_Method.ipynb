{
  "nbformat": 4,
  "nbformat_minor": 0,
  "metadata": {
    "colab": {
      "provenance": []
    },
    "kernelspec": {
      "name": "python3",
      "display_name": "Python 3"
    },
    "language_info": {
      "name": "python"
    }
  },
  "cells": [
    {
      "cell_type": "markdown",
      "source": [
        "### **Inside Python OOPS concept 3 types of variables are present.**\n",
        "1. Instance /Object related Variables.  \n",
        "2. Class /Static Variables\n",
        "3. Local Variables\n",
        "\n",
        "**1. Instance variables /Object related Variables**\n",
        "---------------------------------------\n",
        "If the value of a variable is varied from object to object such type of varibales is called instance variables or object level variables.\n",
        "\n",
        "**where to declare the instance variables**\n",
        "---------------------------------------\n",
        "* Inside constructor by using self.\n",
        "* Inside instance method by using self.\n",
        "* from outside of the class by using object reference.\n",
        "\n",
        "**How to access instance variables:**\n",
        "---------------------------------------\n",
        "* within the class by using self\n",
        "* from outside the class by using object reference.\n",
        "\n",
        "**How to delete instance variables:**\n",
        "---------------------------------------\n",
        "* del self.variablename\n",
        "* del objectreference.variablename\n",
        "\n",
        "**2. Static variables/Class Variables**\n",
        "---------------------------------------\n",
        "* static variable is said to be a class variable that is common to all clases.\n",
        "* A static variable is declare within that class but outside the method within the given class.\n",
        "* Class Variables are shared and accessible by all instances, while Static Variables (conceptually similar) aren't explicitly defined in Python.\n",
        "\n",
        "**Features of Static variables**\n",
        "---------------------------------------\n",
        "* Static Variables are allocated memory once when the object for the class is created for fhe firsed time.\n",
        "* Static variables are created outside of methods but inside a class.\n",
        "* Static variables can be accessed through a class but not directly with an instace.\n",
        "* Static variables behaviour does not change for every object.\n",
        " \n",
        "\n",
        " **Access Static variables**\n",
        " ---------------------------------------\n",
        "* Static Variables can be accessed either from within or outside a class. \n",
        "* Static Variables could be accessed from inside a class either by using the classname or cls.\n",
        "\n",
        "**Syntax:**\n",
        "* Accessing using cls  \n",
        "    ***cls.variableName*** \n",
        "* Accessing using classname  \n",
        "    ***className.variableName***\n",
        "\n",
        "* Static variables can be accessed from outside of the class using two ways\n",
        "\n",
        "**Syntax:** \n",
        "* Accessing using objects  \n",
        "    ***obj.variableName***\n",
        "* Accessing using classname  \n",
        "    ***className.variableName***\n",
        "\n",
        "**3. Local Variables**\n",
        "---------------------------------------\n",
        "* Any Variable declared inside the fuction/method is know as local variable.\n",
        "* This variable is present in the local space and not in the global space.\n",
        "\n",
        "**Access local variables**\n",
        " ---------------------------------------\n",
        "**Syntax:**  \n",
        "\n",
        "***object_name.methodName()*** -- calling the method it access the variable which is declared inside."
      ],
      "metadata": {
        "id": "FW4C1dxQNG_j"
      }
    },
    {
      "cell_type": "code",
      "execution_count": 11,
      "metadata": {
        "id": "E6iUocqaM6a2"
      },
      "outputs": [],
      "source": [
        "class Student:\n",
        "  college='KJSCE'   #class/static variables\n",
        "  def __init__(self,first_name,last_name):\n",
        "    # Instance variables\n",
        "    self.first_name=first_name     \n",
        "    self.last_name=last_name\n",
        "  \n",
        "  def show(self):\n",
        "    ''' This method shows the details of the student '''\n",
        "    print(f\"My Name is {self.first_name} and surname is {self.last_name}\")\n",
        "  \n",
        "  def department(self):\n",
        "    dept_name='Computer Science' # local variable\n",
        "    print(f'Department is {dept_name}')\n",
        "\n"
      ]
    },
    {
      "cell_type": "code",
      "source": [
        "s=Student('Nitesh','Pandey')"
      ],
      "metadata": {
        "id": "U9GrUeiVn-zk"
      },
      "execution_count": 13,
      "outputs": []
    },
    {
      "cell_type": "code",
      "source": [
        "# Accessing class variable using classname or objectname\n",
        "print(s.college)\n",
        "print(Student.college)"
      ],
      "metadata": {
        "colab": {
          "base_uri": "https://localhost:8080/"
        },
        "id": "w2v28m6zoE6v",
        "outputId": "26ee7b84-1cd5-4762-de42-344375578fec"
      },
      "execution_count": 7,
      "outputs": [
        {
          "output_type": "stream",
          "name": "stdout",
          "text": [
            "KJSCE\n",
            "KJSCE\n"
          ]
        }
      ]
    },
    {
      "cell_type": "code",
      "source": [
        "# Acessing instance variables\n",
        "#obj.variableName\n",
        "s.first_name"
      ],
      "metadata": {
        "colab": {
          "base_uri": "https://localhost:8080/",
          "height": 35
        },
        "id": "i_-pihiQoTEM",
        "outputId": "5503b584-67fc-4598-90b3-1d3b364f52bd"
      },
      "execution_count": 9,
      "outputs": [
        {
          "output_type": "execute_result",
          "data": {
            "text/plain": [
              "'Nitesh'"
            ],
            "application/vnd.google.colaboratory.intrinsic+json": {
              "type": "string"
            }
          },
          "metadata": {},
          "execution_count": 9
        }
      ]
    },
    {
      "cell_type": "code",
      "source": [
        "# Accessing Local Variables\n",
        "# Upon calling department method ,it print the name of department\n",
        "s.department()"
      ],
      "metadata": {
        "colab": {
          "base_uri": "https://localhost:8080/"
        },
        "id": "688l-SJippV8",
        "outputId": "327cc8c1-4b87-4352-e48f-1bbcb476540c"
      },
      "execution_count": 14,
      "outputs": [
        {
          "output_type": "stream",
          "name": "stdout",
          "text": [
            "Department is Computer Science\n"
          ]
        }
      ]
    },
    {
      "cell_type": "markdown",
      "source": [
        "#### **The Three types of Method in OOP are.**\n",
        "1. Class method\n",
        "2. Instance method\n",
        "3. Static method"
      ],
      "metadata": {
        "id": "1_7HoguYsG1F"
      }
    },
    {
      "cell_type": "markdown",
      "source": [
        "### **Instance Mthod**\n",
        "\n",
        "1. It is a method that belongs to instances of a class.\n",
        "2. To declare instance method decorator is not required.   \n",
        "3. First arguments to the instance method should be self and we can access instance variables inside method.  \n",
        "4. Inside instance method we can access both instance and static variables.  \n",
        "5. We can call instance method by using object reference.    \n",
        "\n",
        "**Syntax:**\n",
        "\n",
        "        class ClassName:\n",
        "            def methodName(self):\n",
        "                # Statement\n"
      ],
      "metadata": {
        "id": "Ye-icG4Ys-ws"
      }
    },
    {
      "cell_type": "markdown",
      "source": [
        "#### **Class Method**\n",
        "\n",
        "1. To declare class method compulsory we should use @classmethod decorator.  \n",
        "2. The first arguments to the classmethod should be **cls**, which is reference variables to current class object and by using that we can access thestatis variable . \n",
        "3. Inside classmethod we can access only static/class variable.  \n",
        "4. We can call classmethod either by using object reference or by using class name.\n",
        "\n",
        "**Syntax:**\n",
        "\n",
        "        class ClassName:\n",
        "            @classmethod\n",
        "                def methodName(cls):\n",
        "                    # Statement\n",
        "\n"
      ],
      "metadata": {
        "id": "ilXKs3WEuSWM"
      }
    },
    {
      "cell_type": "markdown",
      "source": [
        "#### **Static Method**\n",
        "\n",
        "1. Any Method that is neither related to class or object is Static method.\n",
        "2. To declare static method we used @staticmethod decorator or without decorator also. \n",
        "3. I we are calling method by using object reference then it should be instance method else if calling by using class name then it should be static method\n",
        "\n",
        "**Syntax:**\n",
        "\n",
        "        class ClassName:\n",
        "            @staticmethod\n",
        "            def methodName():\n",
        "                # Statement\n",
        "\n",
        "        class ClassName:\n",
        "            def methodName(): --without decorator\n",
        "                # Statement"
      ],
      "metadata": {
        "id": "-OYXW-njvPsQ"
      }
    },
    {
      "cell_type": "code",
      "source": [
        "class Student:\n",
        "  college='KJSCE' #Static variables or class level variables\n",
        "  def __init__(self,name,roll_no):\n",
        "    self.name=name  \n",
        "    self.roll_no=roll_no\n",
        "  \n",
        "  def display(self): # instance method\n",
        "    print('Name is',self.name)\n",
        "    print('Roll No is',self.roll_no)\n",
        "\n",
        "  @classmethod # class method\n",
        "  def get_college_Name(cls): \n",
        "    print('College name is',cls.college)\n",
        "  \n",
        "  @staticmethod # static method\n",
        "  def get_average(x,y):\n",
        "    print('Average is',(x+y)/2)"
      ],
      "metadata": {
        "id": "7Et5VSBrqFUx"
      },
      "execution_count": 21,
      "outputs": []
    },
    {
      "cell_type": "code",
      "source": [
        "s1=Student('Nitesh',23)\n",
        "s1.display() #access instance method using object reference."
      ],
      "metadata": {
        "colab": {
          "base_uri": "https://localhost:8080/"
        },
        "id": "j_seDssYzu70",
        "outputId": "07fadd76-7c17-422b-9be1-36d1ddd8a23c"
      },
      "execution_count": 22,
      "outputs": [
        {
          "output_type": "stream",
          "name": "stdout",
          "text": [
            "Name is Nitesh\n",
            "Roll No is 23\n"
          ]
        }
      ]
    },
    {
      "cell_type": "code",
      "source": [
        "\n",
        "s1.get_college_Name()  #access the class method using object reference\n",
        "Student.get_college_Name() ##access the class method using class Name"
      ],
      "metadata": {
        "colab": {
          "base_uri": "https://localhost:8080/"
        },
        "id": "tp8DkYbbzCJQ",
        "outputId": "94bbf0be-78cc-4b8f-98f4-af90f287ee8f"
      },
      "execution_count": 19,
      "outputs": [
        {
          "output_type": "stream",
          "name": "stdout",
          "text": [
            "College name is KJSCE\n",
            "College name is KJSCE\n"
          ]
        }
      ]
    },
    {
      "cell_type": "code",
      "source": [
        "s1.get_average(2,4) #access static method"
      ],
      "metadata": {
        "colab": {
          "base_uri": "https://localhost:8080/"
        },
        "id": "wmBZGtJtzTAM",
        "outputId": "70a2a0cf-ce7b-423b-e015-e76c942ad171"
      },
      "execution_count": 24,
      "outputs": [
        {
          "output_type": "stream",
          "name": "stdout",
          "text": [
            "Average is 3.0\n"
          ]
        }
      ]
    },
    {
      "cell_type": "markdown",
      "source": [
        "#### **Method vs Function**\n",
        "\n",
        "**Method**  \n",
        "Method declare inside the class.\n",
        "call using class name (eg l.upper())\n",
        "\n",
        "**Function**  \n",
        "Function declare stand alone not within any class.\n",
        "call using direct function name eg(len(a))"
      ],
      "metadata": {
        "id": "OjPcenPN0fdM"
      }
    },
    {
      "cell_type": "markdown",
      "source": [
        "### Inner Class\n",
        "\n",
        "* The class which is declare inside another class.  \n",
        "* Without exisiting one type of object if there is no chance of exisitng another type of object then we should go for inner class. \n",
        "* Inner class object is always associated with outer class object."
      ],
      "metadata": {
        "id": "d5ebLunU1GVf"
      }
    },
    {
      "cell_type": "code",
      "source": [
        "class Outer:\n",
        "  def __init__(self):\n",
        "    print('Outer class object Initialised...')\n",
        "\n",
        "  class Inner:\n",
        "    def __init__(self):\n",
        "      print('Inner Class Object Initialised...')\n",
        "    \n",
        "    def m1(self):\n",
        "      print('Inner class method ')"
      ],
      "metadata": {
        "id": "gPG-4O0Z0ET2"
      },
      "execution_count": 27,
      "outputs": []
    },
    {
      "cell_type": "code",
      "source": [
        "o=Outer()\n",
        "i=o.Inner()\n",
        "i.m1()"
      ],
      "metadata": {
        "colab": {
          "base_uri": "https://localhost:8080/"
        },
        "id": "sIqTJ5uk1JwD",
        "outputId": "c97f57ea-70a7-480c-8d3e-b66c48ff89ce"
      },
      "execution_count": 28,
      "outputs": [
        {
          "output_type": "stream",
          "name": "stdout",
          "text": [
            "Outer class object Initialised...\n",
            "Inner Class Object Initialised...\n",
            "Inner class method \n"
          ]
        }
      ]
    },
    {
      "cell_type": "markdown",
      "source": [
        "#### **Nested Method**\n",
        "A method which is defined inside the other method is called innner method or nested method"
      ],
      "metadata": {
        "id": "T3dZyq9f1gyV"
      }
    },
    {
      "cell_type": "code",
      "source": [
        "class Test:\n",
        "  def m1(self):\n",
        "    def sum(a,b):\n",
        "      print('First Argument:',a)\n",
        "      print('Second Argument:',b)\n",
        "      print('The Sum:',a+b)\n",
        "      print('THe product :',a*b)\n",
        "      print('*'*20)\n",
        "    \n",
        "    sum(10,20)\n",
        "    sum(100,200)\n",
        "    sum(1000,2000)"
      ],
      "metadata": {
        "id": "J_wkGlz91NPU"
      },
      "execution_count": 29,
      "outputs": []
    },
    {
      "cell_type": "code",
      "source": [
        "t=Test()\n",
        "t.m1()"
      ],
      "metadata": {
        "colab": {
          "base_uri": "https://localhost:8080/"
        },
        "id": "MZmJwAA81ZWY",
        "outputId": "f035009f-bba8-427d-bae9-1ec2db3e210b"
      },
      "execution_count": 30,
      "outputs": [
        {
          "output_type": "stream",
          "name": "stdout",
          "text": [
            "First Argument: 10\n",
            "Second Argument: 20\n",
            "The Sum: 30\n",
            "THe product : 200\n",
            "********************\n",
            "First Argument: 100\n",
            "Second Argument: 200\n",
            "The Sum: 300\n",
            "THe product : 20000\n",
            "********************\n",
            "First Argument: 1000\n",
            "Second Argument: 2000\n",
            "The Sum: 3000\n",
            "THe product : 2000000\n",
            "********************\n"
          ]
        }
      ]
    },
    {
      "cell_type": "markdown",
      "source": [
        "#### **Method**\n",
        "1. The name can be anything.\n",
        "2. Method will be executed if we call.\n",
        "3. per object method will be called any number of times.\n",
        "4. used for business logic\n",
        "\n",
        "#### **Constructor**\n",
        "1. The name should be __init__().\n",
        "2. Will be executed automatically if we are creating object.\n",
        "3. called only once for per object\n",
        "4. used to declare and initialise instance variable"
      ],
      "metadata": {
        "id": "zuDgRF352Dqj"
      }
    },
    {
      "cell_type": "code",
      "source": [],
      "metadata": {
        "id": "mui92iQ61bmi"
      },
      "execution_count": null,
      "outputs": []
    }
  ]
}
