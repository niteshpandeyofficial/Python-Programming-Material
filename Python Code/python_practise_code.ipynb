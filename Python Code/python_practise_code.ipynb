{
  "cells": [
    {
      "cell_type": "code",
      "execution_count": null,
      "metadata": {
        "colab": {
          "base_uri": "https://localhost:8080/",
          "height": 35
        },
        "id": "J5GoUYyCtNwH",
        "outputId": "dba3d3fe-4ecc-4805-ec1b-60d47aad0f3a"
      },
      "outputs": [
        {
          "data": {
            "application/vnd.google.colaboratory.intrinsic+json": {
              "type": "string"
            },
            "text/plain": [
              "'ntspne'"
            ]
          },
          "execution_count": 10,
          "metadata": {},
          "output_type": "execute_result"
        }
      ],
      "source": [
        "a='niteshpandey'\n",
        "\n",
        "a[::2]"
      ]
    },
    {
      "cell_type": "code",
      "execution_count": null,
      "metadata": {
        "id": "4Wlpwviftloj"
      },
      "outputs": [],
      "source": [
        "def string_cal(str1):\n",
        "  l=len(str1)\n",
        "  c=0\n",
        "  while c<l:\n",
        "    print(str1[c],end='')\n",
        "    c+=2;\n",
        "  \n",
        "  # d=1\n",
        "  # while c<l:\n",
        "  #   print(str1[d],end='')\n",
        "  #   c+=1;\n"
      ]
    },
    {
      "cell_type": "code",
      "execution_count": null,
      "metadata": {
        "colab": {
          "base_uri": "https://localhost:8080/"
        },
        "id": "krI_pYMguKRR",
        "outputId": "2bdd89ba-eb4b-4c3f-91a7-8fa35afe6b94"
      },
      "outputs": [
        {
          "name": "stdout",
          "output_type": "stream",
          "text": [
            "ntspne"
          ]
        }
      ],
      "source": [
        "string_cal('niteshpandey')"
      ]
    },
    {
      "cell_type": "markdown",
      "metadata": {
        "id": "UXMKha40OLwn"
      },
      "source": [
        "### Reverse of string"
      ]
    },
    {
      "cell_type": "code",
      "execution_count": 52,
      "metadata": {
        "colab": {
          "base_uri": "https://localhost:8080/"
        },
        "id": "BkguMsn1OJsN",
        "outputId": "0735a2ab-600f-4daa-ac18-7425530093e2"
      },
      "outputs": [
        {
          "name": "stdout",
          "output_type": "stream",
          "text": [
            "hsetin\n"
          ]
        }
      ],
      "source": [
        "### Method-1\n",
        "s='nitesh'\n",
        "l=len(s)-1\n",
        "output=''\n",
        "while l>=0:\n",
        "  output=output+s[l]\n",
        "  l=l-1;\n",
        "print(output)"
      ]
    },
    {
      "cell_type": "code",
      "execution_count": 57,
      "metadata": {
        "colab": {
          "base_uri": "https://localhost:8080/",
          "height": 35
        },
        "id": "id3PeNyCPDaC",
        "outputId": "e13d1c56-298c-42cf-f8fc-70a279ae9886"
      },
      "outputs": [
        {
          "data": {
            "application/vnd.google.colaboratory.intrinsic+json": {
              "type": "string"
            },
            "text/plain": [
              "'hsetin'"
            ]
          },
          "execution_count": 57,
          "metadata": {},
          "output_type": "execute_result"
        }
      ],
      "source": [
        "### Method-2\n",
        "''.join(list(reversed(s)))"
      ]
    },
    {
      "cell_type": "code",
      "execution_count": null,
      "metadata": {},
      "outputs": [],
      "source": [
        "### Method-3\n",
        "a='Nitesh'\n",
        "for i in reversed(a):\n",
        "  print(i,end='')"
      ]
    },
    {
      "cell_type": "code",
      "execution_count": null,
      "metadata": {},
      "outputs": [],
      "source": [
        "### Method-4\n",
        "a[::-1]"
      ]
    },
    {
      "cell_type": "code",
      "execution_count": null,
      "metadata": {},
      "outputs": [],
      "source": [
        "### Method-5\n",
        "l=len(a)-1\n",
        "output=''\n",
        "\n",
        "for i in range(l,-1,-1):\n",
        "  output=output+a[i]\n",
        "print(output)"
      ]
    },
    {
      "cell_type": "markdown",
      "metadata": {
        "id": "SLBMB6CwI7df"
      },
      "source": [
        "### Separate numerical and character value from given string"
      ]
    },
    {
      "cell_type": "code",
      "execution_count": null,
      "metadata": {
        "id": "WJWsQR43uvhf"
      },
      "outputs": [],
      "source": [
        "def string_numeric(string_value):\n",
        "  try:\n",
        "    s1=s2='' ##Create 2 empty string one for numeric character and one for non numerica character\n",
        "    s=string_value.replace(\" \",'') ##remove the space between given string\n",
        "    for i in s:\n",
        "      if i.isalpha():\n",
        "        s1=s1+i\n",
        "      else:\n",
        "        s2=s2+i\n",
        "    print(s1,s2)\n",
        "  except Exception as e:\n",
        "    print(f'Error occured as {e}')"
      ]
    },
    {
      "cell_type": "code",
      "execution_count": null,
      "metadata": {
        "colab": {
          "base_uri": "https://localhost:8080/"
        },
        "id": "AM5AMyJmI2U3",
        "outputId": "5255d7ad-db0c-4445-bcde-0c31e5ac3141"
      },
      "outputs": [
        {
          "name": "stdout",
          "output_type": "stream",
          "text": [
            "Enter the string:SDJEWJE234as\n",
            "SDJEWJEas 234 \n"
          ]
        }
      ],
      "source": [
        "s=input('Enter the string:')\n",
        "string_numeric(s)"
      ]
    },
    {
      "cell_type": "markdown",
      "metadata": {
        "id": "-JuiKgfxLIqq"
      },
      "source": [
        "### Separate numerical,non-numerical and special character value from given string"
      ]
    },
    {
      "cell_type": "code",
      "execution_count": null,
      "metadata": {
        "id": "1OximcUkvX25"
      },
      "outputs": [],
      "source": [
        "def string_numeric(string_value):\n",
        "  try:\n",
        "    s1=s2=s3='' ##Create 3 empty string one for numeric character and one for non numerica character and 3rd is for special character\n",
        "    s=string_value.replace(\" \",'') ##remove the space between given string\n",
        "    for i in s:\n",
        "      if i.isalpha(): ##capture the alphabet value\n",
        "        s1=s1+i\n",
        "      elif i.isnumeric(): ##capture the numeric value\n",
        "        s2=s2+i\n",
        "      else:   ##capture the special character value\n",
        "        s3=s3+i\n",
        "\n",
        "    print(s1,s2,s3)\n",
        "  except Exception as e:\n",
        "    print(f'Error occured as {e}')\n"
      ]
    },
    {
      "cell_type": "code",
      "execution_count": null,
      "metadata": {
        "colab": {
          "base_uri": "https://localhost:8080/"
        },
        "id": "lJJawNNAJ3_m",
        "outputId": "92d334b8-108e-44ba-9b11-318cceba8f4a"
      },
      "outputs": [
        {
          "name": "stdout",
          "output_type": "stream",
          "text": [
            "Enter the string:nitesh@123#\n",
            "nitesh 123 @#\n"
          ]
        }
      ],
      "source": [
        "s=input('Enter the string:')\n",
        "string_numeric(s)"
      ]
    },
    {
      "cell_type": "markdown",
      "metadata": {
        "id": "kmyBVit0MRcH"
      },
      "source": [
        "### Sort the string and then convert it into upper case"
      ]
    },
    {
      "cell_type": "code",
      "execution_count": null,
      "metadata": {
        "id": "lbbnsCgDv3R9"
      },
      "outputs": [],
      "source": [
        "def sort_upper(s1):\n",
        "  output=''\n",
        "  for x in sorted(s1):\n",
        "    output=output+str.upper(x)\n",
        "  return output\n",
        "# for x in sorted(s2):\n",
        "#     output=output+str.upper(x)"
      ]
    },
    {
      "cell_type": "code",
      "execution_count": null,
      "metadata": {
        "colab": {
          "base_uri": "https://localhost:8080/",
          "height": 53
        },
        "id": "61S-oJnqKRli",
        "outputId": "ca91699a-a9e0-45ed-a2d6-5af600d8234c"
      },
      "outputs": [
        {
          "name": "stdout",
          "output_type": "stream",
          "text": [
            "enter the string:ABeeecD\n"
          ]
        },
        {
          "data": {
            "application/vnd.google.colaboratory.intrinsic+json": {
              "type": "string"
            },
            "text/plain": [
              "'ABCDEEE'"
            ]
          },
          "execution_count": 49,
          "metadata": {},
          "output_type": "execute_result"
        }
      ],
      "source": [
        "s1=input(\"enter the string:\")\n",
        "sort_upper(s1.lower())"
      ]
    },
    {
      "cell_type": "code",
      "execution_count": null,
      "metadata": {
        "id": "0c_NEd341cpI"
      },
      "outputs": [],
      "source": [
        "d='sdsfsfsdffsd'"
      ]
    },
    {
      "cell_type": "code",
      "execution_count": null,
      "metadata": {
        "id": "Y60lAc_H1fdm"
      },
      "outputs": [],
      "source": [
        "import pandas as pd;\n",
        "ser1=pd.Series(list(d),index=None)"
      ]
    },
    {
      "cell_type": "code",
      "execution_count": null,
      "metadata": {
        "colab": {
          "base_uri": "https://localhost:8080/"
        },
        "id": "f756rkMRMzoz",
        "outputId": "7c1051d0-8c0e-454a-80a2-4d9dd2d1b1b3"
      },
      "outputs": [
        {
          "data": {
            "text/plain": [
              "0     s\n",
              "1     d\n",
              "2     s\n",
              "3     f\n",
              "4     s\n",
              "5     f\n",
              "6     s\n",
              "7     d\n",
              "8     f\n",
              "9     f\n",
              "10    s\n",
              "11    d\n",
              "dtype: object"
            ]
          },
          "execution_count": 58,
          "metadata": {},
          "output_type": "execute_result"
        }
      ],
      "source": [
        "ser1"
      ]
    },
    {
      "cell_type": "code",
      "execution_count": null,
      "metadata": {
        "colab": {
          "base_uri": "https://localhost:8080/"
        },
        "id": "1NTCgEPz110x",
        "outputId": "2627c860-b74b-4146-f4c6-ee2b00a31758"
      },
      "outputs": [
        {
          "data": {
            "text/plain": [
              "s    5\n",
              "f    4\n",
              "d    3\n",
              "dtype: int64"
            ]
          },
          "execution_count": 60,
          "metadata": {},
          "output_type": "execute_result"
        }
      ],
      "source": [
        "ser1.value_counts()"
      ]
    },
    {
      "cell_type": "code",
      "execution_count": null,
      "metadata": {
        "colab": {
          "base_uri": "https://localhost:8080/"
        },
        "id": "wTn3_7UV2aEX",
        "outputId": "ee9dbf08-1dcf-4ac5-c07e-1bea54f059ba"
      },
      "outputs": [
        {
          "name": "stdout",
          "output_type": "stream",
          "text": [
            "Enter Value of A:4\n",
            "Enter Value of B:5\n"
          ]
        }
      ],
      "source": [
        "a,b=int(input('Enter Value of A:')),int(input('Enter Value of B:'))"
      ]
    },
    {
      "cell_type": "code",
      "execution_count": null,
      "metadata": {
        "colab": {
          "base_uri": "https://localhost:8080/"
        },
        "id": "UO1y-xWn2a6S",
        "outputId": "8cf11e29-24ef-47bf-cd39-4cc64863ad20"
      },
      "outputs": [
        {
          "name": "stdout",
          "output_type": "stream",
          "text": [
            "1\n",
            "2\n",
            "3\n",
            "2\n",
            "[[0, 0, 0], [0, 0, 1], [0, 0, 3], [0, 1, 0], [0, 1, 2], [0, 1, 3], [0, 2, 1], [0, 2, 2], [0, 2, 3], [1, 0, 0], [1, 0, 2], [1, 0, 3], [1, 1, 1], [1, 1, 2], [1, 1, 3], [1, 2, 0], [1, 2, 1], [1, 2, 2], [1, 2, 3]]\n"
          ]
        }
      ],
      "source": [
        "x, y, z, n = [int(input()) for _ in range(4)]\n",
        "listOfAnswers = [[i, j, k] for i in range(x + 1) for j in range(y + 1) for k in range(z + 1) if i + j + k != n]\n",
        "print(listOfAnswers)"
      ]
    },
    {
      "cell_type": "markdown",
      "metadata": {
        "id": "3lrBp3oMTe34"
      },
      "source": [
        "### Find unique and 2nd largest values from list"
      ]
    },
    {
      "cell_type": "code",
      "execution_count": null,
      "metadata": {
        "id": "sybQ1E8z4d2C"
      },
      "outputs": [],
      "source": [
        "import numpy as np\n",
        "def second_largest_num(n,arr):\n",
        "  try:\n",
        "    if n==len(arr):\n",
        "      print('Array:',arr)\n",
        "      print('Array without duplicate:',np.unique(arr)) ##Find unique number along and place in ascending order\n",
        "      print('2nd Largest value is :',np.unique(arr)[-2]) ##Find the 2nd largest number \n",
        "\n",
        "    else:\n",
        "      print('Number of element present in array is not equal to mention number of element')\n",
        "  except:\n",
        "    print('Please enter valid value and try again')"
      ]
    },
    {
      "cell_type": "code",
      "execution_count": null,
      "metadata": {
        "colab": {
          "base_uri": "https://localhost:8080/"
        },
        "id": "45TQcLnsRWgy",
        "outputId": "a9f76622-586a-41ec-affe-8198a8a25cc6"
      },
      "outputs": [
        {
          "name": "stdout",
          "output_type": "stream",
          "text": [
            "Enter the number of elements:4\n",
            "Enter the numbers :1 2 3 4\n",
            "Array: [1, 2, 3, 4]\n",
            "Array without duplicate: [1 2 3 4]\n",
            "2nd Largest value is : 3\n"
          ]
        }
      ],
      "source": [
        "n = int(input('Enter the number of elements:'))\n",
        "arr = list(map(int, input(\"Enter the numbers :\").split())) #take input as list of value\n",
        "second_largest_num(n,arr)"
      ]
    },
    {
      "cell_type": "code",
      "execution_count": null,
      "metadata": {
        "colab": {
          "base_uri": "https://localhost:8080/"
        },
        "id": "Wgio3XsT6K5j",
        "outputId": "af907181-dabb-4ed1-b91c-c77cb1c72150"
      },
      "outputs": [
        {
          "name": "stdout",
          "output_type": "stream",
          "text": [
            "Enter the number of student:4\n",
            "dsad\n",
            "34\n",
            "dfdf\n",
            "4\n",
            "dfdf\n",
            "67\n",
            "cvcv\n",
            "34\n",
            "[['dsad', 34.0], ['dfdf', 4.0], ['dfdf', 67.0], ['cvcv', 34.0]]\n"
          ]
        }
      ],
      "source": []
    },
    {
      "cell_type": "code",
      "execution_count": null,
      "metadata": {
        "colab": {
          "base_uri": "https://localhost:8080/"
        },
        "id": "r8cGk4Fh-D5D",
        "outputId": "7b522f34-497e-43f6-c27b-44138ea3053e"
      },
      "outputs": [
        {
          "name": "stdout",
          "output_type": "stream",
          "text": [
            "found nitesh\n"
          ]
        }
      ],
      "source": [
        "import re;\n",
        "\n",
        "s='my name is nitesh pandey'\n",
        "find='nitesh'\n",
        "match=re.search(find,s);\n",
        "if match:\n",
        "  print('found',match.group())\n",
        "else:\n",
        "  print('not found');"
      ]
    },
    {
      "cell_type": "code",
      "execution_count": null,
      "metadata": {
        "id": "m0G_2J9lAtPG"
      },
      "outputs": [],
      "source": [
        "def solve(students):\n",
        "   min_mark = min(x[1] for x in students)\n",
        "   print(min_mark)\n",
        "   students = [x for x in students if x[1] > min_mark]\n",
        "   print(students)\n",
        "   min2_mark = min(x[1] for x in students)\n",
        "   students = sorted([x[0] for x in students if x[1] == min2_mark])\n",
        "   for x in students:\n",
        "      print(x)\n",
        "\n",
        "# students = [['Amal',37],['Bimal',37],['Tarun',36],['Akash',41],['Himadri',39]]\n",
        "# solve(students)"
      ]
    },
    {
      "cell_type": "code",
      "execution_count": null,
      "metadata": {
        "colab": {
          "base_uri": "https://localhost:8080/"
        },
        "id": "HYal0EKKbaBx",
        "outputId": "25814c19-6e5a-471d-f05b-ba181235a2a4"
      },
      "outputs": [
        {
          "name": "stdout",
          "output_type": "stream",
          "text": [
            "Enter the number of student:3\n",
            "Amal\n",
            "34\n",
            "Bimal\n",
            "56\n",
            "Tarun\n",
            "43\n",
            "[['Amal', 34.0], ['Bimal', 56.0], ['Tarun', 43.0]]\n",
            "34.0\n",
            "[['Bimal', 56.0], ['Tarun', 43.0]]\n",
            "Tarun\n"
          ]
        }
      ],
      "source": [
        "numberOfStudents = int(input('Enter the number of student:'))\n",
        "classList = []\n",
        "for i in range(numberOfStudents):\n",
        "    classList.append([str(input()), float(input())])\n",
        "print(classList)\n",
        "solve(classList)"
      ]
    },
    {
      "cell_type": "code",
      "execution_count": null,
      "metadata": {
        "colab": {
          "base_uri": "https://localhost:8080/"
        },
        "id": "qC9JFCAhBH6n",
        "outputId": "d5dbd1ff-aafd-4f90-d989-e265ee37bdd8"
      },
      "outputs": [
        {
          "name": "stdout",
          "output_type": "stream",
          "text": [
            "36\n"
          ]
        }
      ],
      "source": [
        "stud = [['Amal',37],['Bimal',37],['Tarun',36],['Akash',41],['Himadri',39]]\n",
        "min_marks=min(x[1] for x in stud) #find the minimum values from list \n",
        "print(min_marks)"
      ]
    },
    {
      "cell_type": "code",
      "execution_count": null,
      "metadata": {
        "colab": {
          "base_uri": "https://localhost:8080/"
        },
        "id": "yUBaiuxIBVqc",
        "outputId": "bca77eca-d704-4666-9657-27b55a4b448c"
      },
      "outputs": [
        {
          "name": "stdout",
          "output_type": "stream",
          "text": [
            "[['Amal', 37], ['Bimal', 37], ['Akash', 41], ['Himadri', 39]]\n"
          ]
        }
      ],
      "source": [
        "min_marks_stud=[x for x in stud if x[1]>min_marks]\n",
        "print(min_marks_stud);"
      ]
    },
    {
      "cell_type": "code",
      "execution_count": null,
      "metadata": {
        "colab": {
          "base_uri": "https://localhost:8080/"
        },
        "id": "8AzTxLZBBjpc",
        "outputId": "63bc1feb-f2f5-437d-8195-7eace7bf1a8d"
      },
      "outputs": [
        {
          "name": "stdout",
          "output_type": "stream",
          "text": [
            "36\n",
            "['Tarun']\n"
          ]
        }
      ],
      "source": [
        "min2_score=min(x[1] for x in stud )\n",
        "print(min2_score)\n",
        "min2_stud=sorted(x[0] for x in stud if x[1]==min2_score)\n",
        "print(min2_stud);"
      ]
    },
    {
      "cell_type": "markdown",
      "metadata": {},
      "source": [
        "#### Find largest length of word in given string"
      ]
    },
    {
      "cell_type": "code",
      "execution_count": null,
      "metadata": {},
      "outputs": [],
      "source": [
        "d={}\n",
        "for i in a:\n",
        "  d[i]=len(i)\n",
        "key_list = list(d.keys())\n",
        "val_list = list(d.values())\n",
        "val=max(d.values())\n",
        "position = val_list.index(val)\n",
        "print(key_list[position])"
      ]
    },
    {
      "cell_type": "markdown",
      "metadata": {
        "id": "szhDR1XZcfyy"
      },
      "source": [
        "### Count of character in given string"
      ]
    },
    {
      "cell_type": "code",
      "execution_count": null,
      "metadata": {
        "id": "KO7FbrMmRVxC"
      },
      "outputs": [],
      "source": [
        "def count_character(sentence,sub_string):\n",
        "  count=0\n",
        "  for i in range(len(sentence)):\n",
        "    value=sentence[i:i+len(sub_string)]\n",
        "    if value==sub_string:\n",
        "      count+=1\n",
        "  print(f'Value of substring occure in sentence {count} times')\n",
        "\t"
      ]
    },
    {
      "cell_type": "code",
      "execution_count": null,
      "metadata": {
        "colab": {
          "base_uri": "https://localhost:8080/"
        },
        "id": "xXSOZAQqRY5G",
        "outputId": "cce62927-70c2-4398-84b5-fc2365455510"
      },
      "outputs": [
        {
          "name": "stdout",
          "output_type": "stream",
          "text": [
            "Ener the sentence:eeeee\n",
            "Enter substring which you want to find:ee\n",
            "Value of substring occure in sentence 4 times\n"
          ]
        }
      ],
      "source": [
        "# sub_string='n'\n",
        "# sentence='Niteshahhhnnnn nnnn';\n",
        "sentence=input('Ener the sentence:')\n",
        "sub_string=input('Enter substring which you want to find:')\n",
        "count_character(sentence,sub_string)"
      ]
    },
    {
      "cell_type": "code",
      "execution_count": null,
      "metadata": {
        "colab": {
          "base_uri": "https://localhost:8080/"
        },
        "id": "y85jGKv_SQZ8",
        "outputId": "0dfa5429-0e10-4be9-f301-5a6a2ed0de15"
      },
      "outputs": [
        {
          "name": "stdout",
          "output_type": "stream",
          "text": [
            "nitesh pandey\n",
            "Nitesh\n",
            "Pandey\n"
          ]
        }
      ],
      "source": [
        "st=input()\n",
        "\n",
        "for word in str.split(st):\n",
        "  print(''.join(word.capitalize()))"
      ]
    },
    {
      "cell_type": "code",
      "execution_count": null,
      "metadata": {
        "colab": {
          "base_uri": "https://localhost:8080/"
        },
        "id": "CWsNFiMDSQVv",
        "outputId": "5098c35a-3879-42bf-f7d6-b65b3cd601f1"
      },
      "outputs": [
        {
          "name": "stdout",
          "output_type": "stream",
          "text": [
            "Nitesh Pandey\n"
          ]
        }
      ],
      "source": [
        "print(' '.join(word.capitalize() for word in st.split(' ')))"
      ]
    },
    {
      "cell_type": "code",
      "execution_count": null,
      "metadata": {
        "id": "FaDIByghSQPs"
      },
      "outputs": [],
      "source": [
        "def leap_year(year):\n",
        "  leap=False\n",
        "  return (year%4==0 and year%100!=0) or year%400==0\n"
      ]
    },
    {
      "cell_type": "code",
      "execution_count": null,
      "metadata": {
        "colab": {
          "base_uri": "https://localhost:8080/"
        },
        "id": "a_gzcJlISQI8",
        "outputId": "3ae22f49-4cce-4413-ae25-55148c9d1b16"
      },
      "outputs": [
        {
          "data": {
            "text/plain": [
              "True"
            ]
          },
          "execution_count": 95,
          "metadata": {},
          "output_type": "execute_result"
        }
      ],
      "source": [
        "leap_year(2024)"
      ]
    },
    {
      "cell_type": "code",
      "execution_count": null,
      "metadata": {
        "colab": {
          "base_uri": "https://localhost:8080/"
        },
        "id": "aCfFVt_nSQEd",
        "outputId": "8f4fdba8-198c-4532-c2be-5384af2847f8"
      },
      "outputs": [
        {
          "name": "stdout",
          "output_type": "stream",
          "text": [
            "5"
          ]
        }
      ],
      "source": [
        "n = int(input())\n",
        "for i in range(1,n+1):\n",
        "  print(i ,end='')"
      ]
    },
    {
      "cell_type": "code",
      "execution_count": null,
      "metadata": {
        "colab": {
          "base_uri": "https://localhost:8080/"
        },
        "id": "-OrOP_bhSQBI",
        "outputId": "f5ddf857-15ec-4d83-caff-71346bd79079"
      },
      "outputs": [
        {
          "name": "stdout",
          "output_type": "stream",
          "text": [
            "1\n",
            "1\n",
            "1\n",
            "1\n",
            "[[0, 0, 0], [0, 1, 1], [1, 0, 1], [1, 1, 0], [1, 1, 1]]\n"
          ]
        }
      ],
      "source": [
        "x = int (input()) \n",
        "y = int (input()) \n",
        "z = int (input()) \n",
        "n = int (input()) \n",
        "\n",
        "print ([[a,b,c] for a in range(0,x+1) for b in range(0,y+1) for c in range(0,z+1) if a + b + c != n ])"
      ]
    },
    {
      "cell_type": "markdown",
      "metadata": {
        "id": "qq_YC2oDl9_Q"
      },
      "source": [
        "### Find perfect square between given range"
      ]
    },
    {
      "cell_type": "code",
      "execution_count": null,
      "metadata": {
        "colab": {
          "base_uri": "https://localhost:8080/"
        },
        "id": "VJ1xMbsxSP9Z",
        "outputId": "3e7fbbef-1071-43a6-de56-b2d42ef55812"
      },
      "outputs": [
        {
          "name": "stdout",
          "output_type": "stream",
          "text": [
            "1\n",
            "10\n",
            "1 2 3 \n",
            "count between given range is: 3\n"
          ]
        }
      ],
      "source": [
        "def perfectsquare(a,b):\n",
        "    count=0\n",
        "    for i in range(a,b):\n",
        "        for j in range(1,10):\n",
        "            if np.sqrt(i)%j==0:\n",
        "                print(int(np.sqrt(i)),end=' ')\n",
        "                count+=1\n",
        "                break\n",
        "    print('\\ncount between given range is:',count)\n",
        "\n",
        "a,b=[int(input()) for _ in range(2)]\n",
        "perfectsquare(a,b)"
      ]
    },
    {
      "cell_type": "code",
      "execution_count": null,
      "metadata": {
        "id": "4PlcnnzGSPu5"
      },
      "outputs": [],
      "source": [
        "def perfectSquares(l, r):\n",
        " \n",
        "    # For every element from the range\n",
        "    for i in range(l, r + 1):\n",
        " \n",
        "        # If current element is\n",
        "        # a perfect square\n",
        "        if (i**(.5) == int(i**(.5))):\n",
        "            print(i, end=\" \")"
      ]
    },
    {
      "cell_type": "code",
      "execution_count": null,
      "metadata": {
        "colab": {
          "base_uri": "https://localhost:8080/"
        },
        "id": "A8gbEA01lqCr",
        "outputId": "2ed5db9a-4e4f-42e9-dc85-7493ef59ebb4"
      },
      "outputs": [
        {
          "name": "stdout",
          "output_type": "stream",
          "text": [
            "1 4 9 16 25 "
          ]
        }
      ],
      "source": [
        "perfectSquares(1,25)"
      ]
    },
    {
      "cell_type": "code",
      "execution_count": null,
      "metadata": {
        "colab": {
          "base_uri": "https://localhost:8080/"
        },
        "id": "GKeFC5CCmOaB",
        "outputId": "f1c61211-c37f-426a-b028-4a9092711f6e"
      },
      "outputs": [
        {
          "name": "stdout",
          "output_type": "stream",
          "text": [
            "1\n",
            "25\n",
            "1 4 9 16 25 "
          ]
        }
      ],
      "source": [
        "def perfectSquares(l, r):\n",
        "    for i in range(l, r + 1):\n",
        "        if (i**(.5) == int(i**(.5))): ###np.sqrt(i)==int(np.sqrt(i))\n",
        "            print(i, end=\" \")\n",
        "\n",
        "a,b=[int(input()) for _ in range(2)]\n",
        "perfectSquares(a,b)"
      ]
    },
    {
      "cell_type": "markdown",
      "metadata": {
        "id": "h0ATSxf6Fg9L"
      },
      "source": [
        "### Even word from list element"
      ]
    },
    {
      "cell_type": "code",
      "execution_count": 1,
      "metadata": {
        "id": "VuUGdZ7yoW9E"
      },
      "outputs": [],
      "source": [
        "def even_words(word):\n",
        "    list1=word.split()\n",
        "    print(list1)\n",
        "    for p in list1[:]:\n",
        "        if (len(p)%2!=0):\n",
        "            list1.remove(p)\n",
        "    print(list1) "
      ]
    },
    {
      "cell_type": "code",
      "execution_count": 2,
      "metadata": {
        "colab": {
          "base_uri": "https://localhost:8080/"
        },
        "id": "xY2f07D5oZH1",
        "outputId": "087c2c94-ad68-4703-d2c3-8f3df3f9069e"
      },
      "outputs": [
        {
          "name": "stdout",
          "output_type": "stream",
          "text": [
            "['i', 'nit', 'am', 'nitesh', 'ggggg']\n",
            "['am', 'nitesh']\n"
          ]
        }
      ],
      "source": [
        "even_words('i nit am nitesh ggggg')"
      ]
    },
    {
      "cell_type": "markdown",
      "metadata": {
        "id": "OTdlQZ8aFxEA"
      },
      "source": [
        "### Longest length of even words from given list of element"
      ]
    },
    {
      "cell_type": "code",
      "execution_count": 7,
      "metadata": {
        "id": "NrkTHc6mo4IY"
      },
      "outputs": [],
      "source": [
        "def longestWord(word):\n",
        "    list1=word.split()\n",
        "    print(list1)\n",
        "    for p in list1[:]:\n",
        "        if (len(p)%2!=0):\n",
        "            list1.remove(p)\n",
        "    print(list1)        \n",
        "    #print('Largest word in the syntex is:',max(list1,key=lambda word: len(word)))  \n",
        "    print (max(list1,key=len))"
      ]
    },
    {
      "cell_type": "markdown",
      "metadata": {
        "id": "hMHs5w_QGhPi"
      },
      "source": [
        "### Longest word from given list of elements"
      ]
    },
    {
      "cell_type": "code",
      "execution_count": 5,
      "metadata": {
        "colab": {
          "base_uri": "https://localhost:8080/"
        },
        "id": "ljZ-Szd4pk4h",
        "outputId": "ec3ea595-3427-4932-d87c-29af0eb0d637"
      },
      "outputs": [
        {
          "name": "stdout",
          "output_type": "stream",
          "text": [
            "Enter the string:qwer fffffff\n",
            "fffffff\n"
          ]
        }
      ],
      "source": [
        "s=input('Enter the string:')\n",
        "a=s.split()\n",
        "print (max(a,key=len))"
      ]
    },
    {
      "cell_type": "code",
      "execution_count": 8,
      "metadata": {
        "colab": {
          "base_uri": "https://localhost:8080/"
        },
        "id": "oAKN2PZGo6Iv",
        "outputId": "2a11dc6e-fd02-443f-f2b2-8d5fd0c53572"
      },
      "outputs": [
        {
          "name": "stdout",
          "output_type": "stream",
          "text": [
            "['fqqqqq', 'ddd', 'qqqqqq', 'ddddddd', 'vvvvvvvv', 'yyyyyyyyy']\n",
            "['fqqqqq', 'qqqqqq', 'vvvvvvvv']\n",
            "vvvvvvvv\n"
          ]
        }
      ],
      "source": [
        "longestWord('fqqqqq ddd qqqqqq ddddddd vvvvvvvv yyyyyyyyy')"
      ]
    },
    {
      "cell_type": "code",
      "execution_count": 11,
      "metadata": {
        "id": "S49tDnjZp2nU"
      },
      "outputs": [],
      "source": [
        "def find_longest_word(words_list):\n",
        "    word_len = []\n",
        "    for n in words_list:\n",
        "        word_len.append((len(n), n))\n",
        "    word_len.sort()\n",
        "    print(word_len)\n",
        "    return word_len[-1][1]\n",
        "\n",
        "\n"
      ]
    },
    {
      "cell_type": "code",
      "execution_count": 14,
      "metadata": {
        "colab": {
          "base_uri": "https://localhost:8080/"
        },
        "id": "tLfnJLAvJzEJ",
        "outputId": "018629c5-b6cb-4ecb-b947-91048eb790b8"
      },
      "outputs": [
        {
          "name": "stdout",
          "output_type": "stream",
          "text": [
            "Enter the string:asasa qweqeqweqwe  asdadada\n",
            "['asasa', 'qweqeqweqwe', 'asdadada']\n"
          ]
        }
      ],
      "source": [
        "s=input('Enter the string:')\n",
        "a=s.split()\n",
        "print(a)"
      ]
    },
    {
      "cell_type": "code",
      "execution_count": 13,
      "metadata": {
        "colab": {
          "base_uri": "https://localhost:8080/",
          "height": 53
        },
        "id": "W7eef7ArqAgi",
        "outputId": "47f98d96-7c62-4238-d167-f69ba462efe7"
      },
      "outputs": [
        {
          "name": "stdout",
          "output_type": "stream",
          "text": [
            "[(4, 'ewew'), (5, 'asdfg'), (10, 'sdsdsdsdsd')]\n"
          ]
        },
        {
          "data": {
            "application/vnd.google.colaboratory.intrinsic+json": {
              "type": "string"
            },
            "text/plain": [
              "'sdsdsdsdsd'"
            ]
          },
          "execution_count": 13,
          "metadata": {},
          "output_type": "execute_result"
        }
      ],
      "source": [
        "find_longest_word(a)"
      ]
    },
    {
      "cell_type": "code",
      "execution_count": 15,
      "metadata": {
        "colab": {
          "base_uri": "https://localhost:8080/",
          "height": 35
        },
        "id": "kAjzQ5oyshn3",
        "outputId": "8d99b632-58dc-4d81-fc56-97a815ea0827"
      },
      "outputs": [
        {
          "data": {
            "application/vnd.google.colaboratory.intrinsic+json": {
              "type": "string"
            },
            "text/plain": [
              "'Niteshpandey'"
            ]
          },
          "execution_count": 15,
          "metadata": {},
          "output_type": "execute_result"
        }
      ],
      "source": [
        "name='Nitesh pandey'\n",
        "\"\".join(name.split()) "
      ]
    },
    {
      "cell_type": "code",
      "execution_count": 16,
      "metadata": {
        "colab": {
          "base_uri": "https://localhost:8080/"
        },
        "id": "ZteK877VtsHg",
        "outputId": "b16df68c-9aa3-4fbd-dc03-eb40d5f7cb83"
      },
      "outputs": [
        {
          "name": "stdout",
          "output_type": "stream",
          "text": [
            "78\n",
            "A\n"
          ]
        }
      ],
      "source": [
        "print(ord('N'))\n",
        "print(chr(65))"
      ]
    },
    {
      "cell_type": "code",
      "execution_count": null,
      "metadata": {
        "colab": {
          "base_uri": "https://localhost:8080/"
        },
        "id": "Kk3C6Lg_t7EF",
        "outputId": "d61087cf-ab93-45cc-ae14-d70e364d2572"
      },
      "outputs": [
        {
          "name": "stdout",
          "output_type": "stream",
          "text": [
            "2\n",
            "9\n",
            "4\n"
          ]
        }
      ],
      "source": [
        "a=294\n",
        "l=str(294)\n",
        "for i in range(len(l)):\n",
        "  print(l[i])"
      ]
    },
    {
      "cell_type": "code",
      "execution_count": 29,
      "metadata": {
        "colab": {
          "base_uri": "https://localhost:8080/"
        },
        "id": "TL9vfjV3LkMX",
        "outputId": "2d98744b-da54-4a5b-b3a7-91d76e7d636d"
      },
      "outputs": [
        {
          "data": {
            "text/plain": [
              "[2, 9, 4]"
            ]
          },
          "execution_count": 29,
          "metadata": {},
          "output_type": "execute_result"
        }
      ],
      "source": [
        "[int(x) for x in str(294)]"
      ]
    },
    {
      "cell_type": "markdown",
      "metadata": {
        "id": "OK0HNwi1LT8D"
      },
      "source": [
        "Print only unique number from given integer"
      ]
    },
    {
      "cell_type": "code",
      "execution_count": 53,
      "metadata": {
        "colab": {
          "base_uri": "https://localhost:8080/"
        },
        "id": "0rFMfDgQt7As",
        "outputId": "cc305e7d-8fc3-4bff-cf1a-63fdf55a33a4"
      },
      "outputs": [
        {
          "name": "stdout",
          "output_type": "stream",
          "text": [
            "1 3 4 5 "
          ]
        }
      ],
      "source": [
        "s1=str(1113334555)\n",
        "l=[]\n",
        "for ch in s1:\n",
        "  if ch not in l:\n",
        "      l.append(ch)\n",
        "      \n",
        "  else:\n",
        "      l.remove(ch)\n",
        "\n",
        "b=len(l)\n",
        "if b==0:\n",
        "    print('-1')\n",
        "else:\n",
        "    for a in l:\n",
        "        print(int(a),end=' ')"
      ]
    },
    {
      "cell_type": "markdown",
      "metadata": {
        "id": "jXu4nRg4MQ72"
      },
      "source": [
        "### Find unique number only from given integer input"
      ]
    },
    {
      "cell_type": "code",
      "execution_count": 35,
      "metadata": {
        "colab": {
          "base_uri": "https://localhost:8080/"
        },
        "id": "JY1geDcjt69I",
        "outputId": "c2c1588a-a4fd-4281-e01e-98953200f12d"
      },
      "outputs": [
        {
          "name": "stdout",
          "output_type": "stream",
          "text": [
            "{'4', '1', '2', '5', '3'}\n"
          ]
        }
      ],
      "source": [
        "a=1234544555\n",
        "b=str(a)\n",
        "c=set(b)\n",
        "print(c)"
      ]
    },
    {
      "cell_type": "code",
      "execution_count": 56,
      "metadata": {
        "colab": {
          "base_uri": "https://localhost:8080/"
        },
        "id": "U4zRMzAFt65b",
        "outputId": "833f5c32-39fd-4df0-f7cd-8f4601df5708"
      },
      "outputs": [
        {
          "name": "stdout",
          "output_type": "stream",
          "text": [
            "['a', 'b', 'c']\n"
          ]
        }
      ],
      "source": [
        "mylist = [\"a\", \"b\", \"a\", \"c\", \"c\"]\n",
        "mylist = list(dict.fromkeys(mylist))\n",
        "print(mylist)"
      ]
    },
    {
      "cell_type": "code",
      "execution_count": null,
      "metadata": {
        "colab": {
          "base_uri": "https://localhost:8080/"
        },
        "id": "p8lZnr8Wt61Z",
        "outputId": "c5f36401-2cf8-4942-d1d9-4274ac188637"
      },
      "outputs": [
        {
          "data": {
            "text/plain": [
              "['a', 'b', 'c']"
            ]
          },
          "execution_count": 148,
          "metadata": {},
          "output_type": "execute_result"
        }
      ],
      "source": [
        "mylist = [\"a\", \"b\", \"a\", \"c\", \"c\"]\n",
        "list(dict.fromkeys(mylist))"
      ]
    },
    {
      "cell_type": "code",
      "execution_count": 38,
      "metadata": {
        "id": "4Xjo1rGkM_uy"
      },
      "outputs": [],
      "source": [
        "mylist = [\"a\", \"b\", \"a\", \"c\", \"c\"]"
      ]
    },
    {
      "cell_type": "code",
      "execution_count": 46,
      "metadata": {
        "colab": {
          "base_uri": "https://localhost:8080/"
        },
        "id": "5rEnaMElMixn",
        "outputId": "3ab2d64c-102a-40b3-d0f3-7da5d47dbb3b"
      },
      "outputs": [
        {
          "name": "stdout",
          "output_type": "stream",
          "text": [
            "['a', 'b', 'c']\n"
          ]
        }
      ],
      "source": [
        "output=[]\n",
        "for ch in mylist:\n",
        "  if ch not in output:\n",
        "    output.append(ch)\n",
        "print(output)\n"
      ]
    },
    {
      "cell_type": "markdown",
      "metadata": {
        "id": "Ef5DRG75Nskt"
      },
      "source": [
        "### Find the no of days in given month"
      ]
    },
    {
      "cell_type": "code",
      "execution_count": 51,
      "metadata": {
        "colab": {
          "base_uri": "https://localhost:8080/"
        },
        "id": "D2SbGGJ_vwjY",
        "outputId": "e77f9553-09ba-43f1-cb52-70bd5fb9a304"
      },
      "outputs": [
        {
          "name": "stdout",
          "output_type": "stream",
          "text": [
            "Enter the month value in numeric form:3\n",
            "No of days in month is 31\n"
          ]
        }
      ],
      "source": [
        "import calendar\n",
        "a=int(input('Enter the month value in numeric form:'))\n",
        "if a<13 and a>0:\n",
        "    print('No of days in month is',calendar.mdays[a])\n",
        "else:\n",
        "    print('Error')"
      ]
    },
    {
      "cell_type": "code",
      "execution_count": null,
      "metadata": {
        "colab": {
          "base_uri": "https://localhost:8080/",
          "height": 35
        },
        "id": "sMA_uAYD1Jf1",
        "outputId": "dba460e3-990d-48a3-c964-e36abffb1260"
      },
      "outputs": [
        {
          "data": {
            "application/vnd.google.colaboratory.intrinsic+json": {
              "type": "string"
            },
            "text/plain": [
              "'hsetin'"
            ]
          },
          "execution_count": 162,
          "metadata": {},
          "output_type": "execute_result"
        }
      ],
      "source": []
    },
    {
      "cell_type": "code",
      "execution_count": null,
      "metadata": {
        "colab": {
          "base_uri": "https://localhost:8080/"
        },
        "id": "AF34QUMi1w44",
        "outputId": "f1a58b40-2215-4153-a156-d543e9ffcb55"
      },
      "outputs": [
        {
          "name": "stdout",
          "output_type": "stream",
          "text": [
            "charactr a\n",
            "a\n",
            "charactr 4\n",
            "charactr z\n",
            "z\n",
            "charactr 3\n",
            "charactr b\n",
            "b\n",
            "charactr 2\n",
            "aaaabbzzz\n"
          ]
        }
      ],
      "source": [
        "n='a4z3b2'\n",
        "a=[]\n",
        "\n",
        "for ch in n:\n",
        "  print('charactr',ch)\n",
        "  if ch.isalpha():\n",
        "    print(ch)\n",
        "    x=ch\n",
        "  else:\n",
        "    a.append(x*int(ch))\n",
        "\n",
        "print(''.join(sorted(a)))\n"
      ]
    },
    {
      "cell_type": "code",
      "execution_count": 58,
      "metadata": {
        "colab": {
          "base_uri": "https://localhost:8080/"
        },
        "id": "_O3IIcAI3rbz",
        "outputId": "78570fe8-3416-4434-f9f2-7e0faec605ca"
      },
      "outputs": [
        {
          "name": "stdout",
          "output_type": "stream",
          "text": [
            "MainThread\n"
          ]
        }
      ],
      "source": [
        "import threading\n",
        "print(threading.current_thread().getName())"
      ]
    },
    {
      "cell_type": "code",
      "execution_count": 59,
      "metadata": {
        "id": "6VZTe5CeK-o7"
      },
      "outputs": [],
      "source": [
        "from threading import *\n",
        "def thread():\n",
        "  for i in range(6):\n",
        "    print(f\"thread number {i} executing\")\n"
      ]
    },
    {
      "cell_type": "code",
      "execution_count": null,
      "metadata": {
        "colab": {
          "base_uri": "https://localhost:8080/"
        },
        "id": "ZGl_J-qILeqk",
        "outputId": "24c10f89-00f7-4cd7-fb18-55726ce69683"
      },
      "outputs": [
        {
          "name": "stdout",
          "output_type": "stream",
          "text": [
            "MainThread\n",
            "thread number 0 executing\n",
            "thread number 1 executing\n",
            "thread number 2 executing\n",
            "thread number 3 executing\n",
            "thread number 4 executing\n",
            "thread number 5 executing\n"
          ]
        }
      ],
      "source": [
        "t=Thread(target=thread);\n",
        "print(threading.current_thread().getName())\n",
        "t.run()"
      ]
    },
    {
      "cell_type": "code",
      "execution_count": null,
      "metadata": {
        "id": "Z8ZgUt1rMbwe"
      },
      "outputs": [],
      "source": [
        "from time import sleep\n",
        "from threading import Thread\n",
        "class hello(Thread):\n",
        "  def run(self):\n",
        "    for i in range(50):\n",
        "      print('hello method')\n",
        "      sleep(1)\n",
        "\n",
        "class hi(Thread):\n",
        "  def run(self):\n",
        "    for i in range(50):\n",
        "      print('hi method')\n",
        "      sleep(1)"
      ]
    },
    {
      "cell_type": "code",
      "execution_count": null,
      "metadata": {
        "id": "VtPZnnCxN4ks"
      },
      "outputs": [],
      "source": [
        "t1=hello()\n",
        "t2=hi()"
      ]
    },
    {
      "cell_type": "code",
      "execution_count": null,
      "metadata": {
        "colab": {
          "base_uri": "https://localhost:8080/"
        },
        "id": "SnNGiPAeMsy4",
        "outputId": "8e29683b-f278-4e19-9e3a-4dfa1ab4b2a3"
      },
      "outputs": [
        {
          "name": "stdout",
          "output_type": "stream",
          "text": [
            "hello method\n",
            "hello method\n",
            "hello method\n",
            "hi methodBye\n",
            "\n"
          ]
        }
      ],
      "source": [
        "t1.start()\n",
        "sleep(2)\n",
        "t2.start()\n",
        "print('Bye')"
      ]
    },
    {
      "cell_type": "code",
      "execution_count": null,
      "metadata": {
        "colab": {
          "base_uri": "https://localhost:8080/"
        },
        "id": "-QdYDzh_M7TA",
        "outputId": "7be8bbc9-4f62-4c46-b364-040c9ebde556"
      },
      "outputs": [
        {
          "name": "stdout",
          "output_type": "stream",
          "text": [
            "Hi\n",
            "Hello\n",
            "Hello\n",
            "Hi\n",
            "Hello\n",
            "Hello\n",
            "Hi\n",
            "Hello\n",
            "Hello\n",
            "Hi\n",
            "HiHello\n",
            "\n",
            "Hello\n",
            "Hi\n",
            "Hello\n",
            "Hi\n",
            "Hello\n",
            "Hi\n",
            "Hello\n",
            "Hi\n",
            "Hello\n",
            "Hi\n",
            "Hello\n",
            "Hi\n",
            "Hello\n",
            "Hi\n",
            "Hello\n",
            "Hi\n",
            "Hello\n",
            "Hi\n",
            "Hello\n",
            "Hi\n",
            "Hello\n",
            "Hi\n",
            "Hello\n",
            "Hi\n",
            "Hello\n",
            "Hi\n",
            "Hello\n",
            "Hi\n",
            "Hello\n",
            "Hi\n",
            "Hello\n",
            "Hi\n",
            "Hello\n",
            "Hi\n",
            "Hello\n",
            "Hi\n",
            "Hello\n",
            "Hi\n",
            "Hello\n",
            "Hi\n",
            "Hello\n",
            "Hi\n",
            "Hello\n",
            "Hi\n",
            "Hello\n",
            "Hi\n",
            "HiHello\n",
            "\n",
            "Hi\n",
            "Hello\n",
            "HelloHi\n",
            "\n",
            "Hi\n",
            "Hello\n",
            "HiHello\n",
            "\n",
            "Hi\n",
            "Hello\n",
            "Hello\n",
            "Hi\n",
            "Hi\n",
            "Hello\n",
            "Hello\n",
            "Hi\n",
            "Hi\n",
            "Hello\n",
            "Hello\n",
            "Hi\n",
            "Hi\n",
            "Hello\n",
            "Hello\n",
            "Hi\n",
            "Hi\n",
            "Hello\n",
            "Hello\n",
            "Hi\n",
            "Hi\n",
            "Hello\n",
            "Hi\n",
            "Hello\n",
            "Hello\n",
            "Hi\n",
            "Hi\n",
            "Hello\n",
            "Hello\n",
            "Hi\n",
            "Hi\n",
            "Hello\n",
            "Hello\n",
            "Hi\n",
            "Hi\n",
            "Hello\n",
            "Hello\n",
            "Hi\n",
            "HiHello\n",
            "\n",
            "Hello\n",
            "Hi\n",
            "HelloHi\n",
            "\n",
            "Hello\n",
            "Hi\n",
            "HelloHi\n",
            "\n",
            "Hello\n",
            "Hi\n",
            "Hello\n",
            "Hi\n",
            "Hello\n",
            "Hi\n",
            "Hello\n",
            "Hi\n",
            "Hello\n",
            "Hi\n",
            "Hello\n",
            "Hi\n",
            "Hello\n",
            "Hi\n",
            "HelloHi\n",
            "\n",
            "Hello\n",
            "Hi\n",
            "HiHello\n",
            "\n",
            "Hello\n",
            "Hi\n",
            "Hello\n",
            "Hi\n",
            "Hello\n",
            "Hi\n",
            "Hello\n",
            "Hi\n",
            "Hello\n",
            "Hi\n",
            "Hello\n",
            "Hi\n",
            "Hello\n",
            "Hi\n",
            "HelloHi\n",
            "\n",
            "Hello\n",
            "Hi\n",
            "Hi\n",
            "Hello\n",
            "Hello\n",
            "Hi\n",
            "Hi\n",
            "Hello\n",
            "Hello\n",
            "Hi\n",
            "Hi\n",
            "Hello\n",
            "Hello\n",
            "Hi\n",
            "Hi\n",
            "Hello\n",
            "Hello\n",
            "Hi\n",
            "Hi\n",
            "Hello\n",
            "Hello\n",
            "Hi\n",
            "Hi\n",
            "Hello\n",
            "Hello\n",
            "Hi\n",
            "Hi\n",
            "Hello\n",
            "Hello\n",
            "Hi\n",
            "Hi\n",
            "Hello\n",
            "Hello\n",
            "Hi\n",
            "Hi\n",
            "Hello\n",
            "Hello\n",
            "Hi\n",
            "Hi\n",
            "Hello\n",
            "Hello\n",
            "Hi\n",
            "Hi\n",
            "Hello\n",
            "Hello\n",
            "Hi\n",
            "Hi\n",
            "Hello\n",
            "Hello\n",
            "Hi\n",
            "Hi\n",
            "Hello\n",
            "Hello\n",
            "Hi\n",
            "Hi\n",
            "Hello\n",
            "Hello\n",
            "Hi\n",
            "Hi\n",
            "Hello\n",
            "Hello\n",
            "Hi\n",
            "Hi\n",
            "Hello\n",
            "Hello\n",
            "Hi\n",
            "Hi\n",
            "Hello\n",
            "Hello\n",
            "Hi\n",
            "Hi\n",
            "Hello\n",
            "Hello\n",
            "Hi\n",
            "Hi\n",
            "Hello\n",
            "Hello\n",
            "Hi\n",
            "Hi\n",
            "Hello\n",
            "Hello\n",
            "Hi\n",
            "Hi\n",
            "Hello\n",
            "Hello\n",
            "Hi\n",
            "Hi\n",
            "Hello\n",
            "Hello\n",
            "Hi\n",
            "Hi\n",
            "Hello\n",
            "Hello\n",
            "Hi\n",
            "Hi\n",
            "Hello\n",
            "Hello\n",
            "Hi\n",
            "Hi\n",
            "Hello\n",
            "Hello\n",
            "Hi\n",
            "Hi\n",
            "Hello\n",
            "Hello\n",
            "Hi\n",
            "Hi\n",
            "Hello\n",
            "Hello\n",
            "Hi\n",
            "Hi\n",
            "Hello\n",
            "Hello\n",
            "Hi\n",
            "Hi\n",
            "Hello\n",
            "Hello\n",
            "Hi\n",
            "Hi\n",
            "Hello\n",
            "Hello\n",
            "Hi\n",
            "Hi\n",
            "Hello\n",
            "Hello\n",
            "Hi\n",
            "Hi\n",
            "Hello\n",
            "Hello\n",
            "Hi\n",
            "HiHello\n",
            "\n",
            "Hello\n",
            "Hi\n",
            "Hello\n",
            "Hi\n",
            "Hello\n",
            "Hi\n",
            "Hello\n",
            "Hi\n",
            "Hello\n",
            "Hi\n",
            "Hello\n",
            "Hi\n",
            "Hello\n",
            "Hi\n",
            "Hello\n",
            "Hi\n",
            "HelloHi\n",
            "\n",
            "Hello\n",
            "Hi\n",
            "HelloHi\n",
            "\n",
            "Hello\n",
            "Hi\n",
            "Hi\n",
            "Hello\n",
            "Hello\n",
            "Hi\n",
            "Hi\n",
            "Hello\n",
            "Hello\n",
            "Hi\n",
            "Hi\n",
            "Hello\n",
            "Hello\n",
            "Hi\n",
            "Hi\n",
            "Hello\n",
            "Hello\n",
            "Hi\n",
            "Hi\n",
            "Hello\n",
            "Hello\n",
            "Hi\n",
            "Hi\n",
            "Hello\n",
            "Hello\n",
            "Hi\n",
            "Hi\n",
            "Hello\n",
            "Hello\n",
            "Hi\n",
            "Hi\n",
            "Hello\n",
            "Hello\n",
            "Hi\n",
            "Hi\n",
            "Hello\n",
            "Hello\n",
            "Hi\n",
            "Hi\n",
            "Hello\n",
            "Hello\n",
            "Hi\n",
            "Hi\n",
            "Hello\n",
            "Hello\n",
            "Hi\n",
            "Hi\n",
            "Hello\n",
            "Hello\n",
            "Hi\n",
            "Hi\n",
            "Hello\n",
            "Hello\n",
            "Hi\n",
            "Hi\n",
            "Hello\n",
            "Hello\n",
            "Hi\n",
            "Hi\n",
            "Hello\n",
            "Hello\n",
            "Hi\n",
            "Hi\n",
            "Hello\n",
            "Hello\n",
            "Hi\n",
            "Hi\n",
            "Hello\n",
            "Hello\n",
            "Hi\n",
            "Hi\n",
            "Hello\n",
            "Hi\n",
            "Hello\n",
            "Hi\n",
            "Hello\n",
            "Hi\n",
            "Hello\n",
            "Hi\n",
            "Hello\n",
            "Hi\n",
            "Hello\n",
            "Hi\n",
            "Hello\n",
            "Hi\n",
            "Hello\n",
            "Hi\n",
            "Hello\n",
            "Hi\n",
            "Hello\n",
            "Hi\n",
            "Hello\n",
            "HelloHi\n",
            "\n",
            "Hi\n",
            "Hello\n",
            "Hi\n",
            "Hello\n",
            "Hi\n",
            "Hello\n",
            "HelloHi\n",
            "\n",
            "Hi\n",
            "Hello\n",
            "Hi\n",
            "Hello\n",
            "Hi\n",
            "Hello\n",
            "Hi\n",
            "Hello\n",
            "Hi\n",
            "Hello\n",
            "Hi\n",
            "Hello\n",
            "Hi\n",
            "Hello\n",
            "Hi\n",
            "Hello\n",
            "Hi\n",
            "Hello\n",
            "Hi\n",
            "Hello\n",
            "Hi\n",
            "Hello\n",
            "Hi\n",
            "Hello\n",
            "Hi\n",
            "Hello\n",
            "Hi\n",
            "Hello\n",
            "Hi\n",
            "Hello\n",
            "Hello\n",
            "Hi\n",
            "Hi\n",
            "Hello\n",
            "Hello\n",
            "Hi\n",
            "Hi\n",
            "Hello\n",
            "Hello\n",
            "Hi\n",
            "Hi\n",
            "Hello\n",
            "Hi\n",
            "Hello\n",
            "Hi\n",
            "Hello\n",
            "Hi\n",
            "Hello\n",
            "Hi\n",
            "Hello\n",
            "HiHello\n",
            "\n",
            "Hi\n",
            "Hello\n",
            "HiHello\n",
            "\n",
            "Hi\n",
            "Hello\n",
            "Hi\n",
            "Hello\n",
            "Hi\n",
            "Hello\n",
            "Hi\n",
            "Hello\n",
            "Hi\n",
            "Hello\n",
            "Hi\n",
            "Hello\n",
            "Hi\n",
            "Hello\n",
            "Hi\n",
            "Hello\n",
            "Hi\n",
            "Hello\n",
            "Hi\n",
            "Hello\n",
            "Hi\n",
            "Hello\n",
            "Hi\n",
            "Hello\n",
            "Hi\n",
            "Hello\n",
            "HiHello\n",
            "\n",
            "Hi\n",
            "Hello\n",
            "HelloHi\n",
            "\n",
            "Hi\n",
            "Hello\n",
            "Hello\n",
            "Hi\n",
            "Hi\n",
            "Hello\n",
            "HelloHi\n",
            "\n",
            "Hi\n",
            "Hello\n",
            "HiHello\n",
            "\n",
            "Hi\n",
            "Hello\n",
            "Hi\n",
            "Hi\n",
            "Hello\n",
            "Hi\n",
            "Hi\n",
            "Hello\n",
            "Hi\n",
            "Hello\n",
            "Hi\n",
            "Hello\n",
            "Hi\n",
            "Hello\n",
            "Hi\n",
            "Hello\n",
            "Hi\n",
            "Hello\n",
            "Hi\n",
            "Hello\n",
            "Hi\n",
            "Hello\n",
            "Hi\n",
            "Hello\n",
            "Hi\n",
            "Hello\n",
            "Hi\n",
            "Hello\n",
            "Hi\n",
            "Hello\n",
            "Hi\n",
            "Hello\n",
            "Hi\n",
            "Hello\n",
            "Hi\n",
            "Hello\n",
            "Hi\n",
            "Hello\n",
            "Hi\n",
            "Hello\n",
            "Hi\n",
            "Hello\n",
            "Hi\n",
            "Hello\n",
            "Hi\n",
            "Hello\n",
            "Hi\n",
            "Hello\n",
            "Hi\n",
            "Hi\n",
            "Bye\n"
          ]
        }
      ],
      "source": [
        "from time import sleep\n",
        "from threading import Thread\n",
        "\n",
        "class Hello(Thread):\n",
        "    def run(self):\n",
        "        for i in range(150):\n",
        "            print('Hello')\n",
        "            sleep(1)\n",
        "            \n",
        "class Hi(Thread):\n",
        "    def run(self):\n",
        "        for i in range(150):\n",
        "            print('Hi')\n",
        "            sleep(1)\n",
        "\n",
        "t1=Hello()\n",
        "t2=Hi()\n",
        "\n",
        "t1.start()\n",
        "sleep(2)\n",
        "t2.start()\n",
        "t1.join()\n",
        "t2.join()\n",
        "print('Bye')"
      ]
    },
    {
      "cell_type": "code",
      "execution_count": 61,
      "metadata": {
        "colab": {
          "base_uri": "https://localhost:8080/"
        },
        "id": "rhm1-S0vcNav",
        "outputId": "f4c2fec6-4494-423c-89c2-1256ed21c22b"
      },
      "outputs": [
        {
          "name": "stdout",
          "output_type": "stream",
          "text": [
            "Batwoman\n"
          ]
        }
      ],
      "source": [
        "import re\n",
        "d=re.compile(r'Bat(wo)+man')\n",
        "e=d.search('sdsdsdyou are not a Batwoman')\n",
        "print(e.group())"
      ]
    },
    {
      "cell_type": "code",
      "execution_count": 62,
      "metadata": {
        "colab": {
          "base_uri": "https://localhost:8080/"
        },
        "id": "MM5FkGcJeZTS",
        "outputId": "c5b94a83-76a6-430b-b09d-32480bdfae37"
      },
      "outputs": [
        {
          "data": {
            "text/plain": [
              "False"
            ]
          },
          "execution_count": 62,
          "metadata": {},
          "output_type": "execute_result"
        }
      ],
      "source": [
        "be=re.compile(r'^hello')\n",
        "be.search('hello my best freind')==None"
      ]
    },
    {
      "cell_type": "code",
      "execution_count": 63,
      "metadata": {
        "colab": {
          "base_uri": "https://localhost:8080/"
        },
        "id": "D8qvD-HVeuWF",
        "outputId": "ee5dbb6a-4b6d-437c-bb4a-74bf63faa95b"
      },
      "outputs": [
        {
          "data": {
            "text/plain": [
              "True"
            ]
          },
          "execution_count": 63,
          "metadata": {},
          "output_type": "execute_result"
        }
      ],
      "source": [
        "be=re.compile(r'hello$')\n",
        "be.search('hello my best freind')==None"
      ]
    },
    {
      "cell_type": "code",
      "execution_count": 64,
      "metadata": {
        "colab": {
          "base_uri": "https://localhost:8080/"
        },
        "id": "vYrQoqldfplX",
        "outputId": "c1908b19-8e29-481a-ea4f-c9fa42aac196"
      },
      "outputs": [
        {
          "data": {
            "text/plain": [
              "['cat', 'hat', 'rat', 'mat', 'lat']"
            ]
          },
          "execution_count": 64,
          "metadata": {},
          "output_type": "execute_result"
        }
      ],
      "source": [
        "atregex=re.compile(r'.at')\n",
        "atregex.findall('cat sshat rat mat flat')"
      ]
    },
    {
      "cell_type": "code",
      "execution_count": 65,
      "metadata": {
        "colab": {
          "base_uri": "https://localhost:8080/"
        },
        "id": "-NzWJ66sf0xt",
        "outputId": "5283d464-6ee2-47d7-cf32-cdb86f84a261"
      },
      "outputs": [
        {
          "data": {
            "text/plain": [
              "['Nitesh', 'nitesh']"
            ]
          },
          "execution_count": 65,
          "metadata": {},
          "output_type": "execute_result"
        }
      ],
      "source": [
        "a=re.compile(r'Nitesh',re.I)\n",
        "a.findall('Nitesh pandey is nitesh pandey')"
      ]
    },
    {
      "cell_type": "code",
      "execution_count": 68,
      "metadata": {
        "colab": {
          "base_uri": "https://localhost:8080/",
          "height": 35
        },
        "id": "vOXmy8JEf6Oc",
        "outputId": "fd63b73b-803b-4d68-ceb8-db309232bef2"
      },
      "outputs": [
        {
          "data": {
            "application/vnd.google.colaboratory.intrinsic+json": {
              "type": "string"
            },
            "text/plain": [
              "'nitesh'"
            ]
          },
          "execution_count": 68,
          "metadata": {},
          "output_type": "execute_result"
        }
      ],
      "source": [
        "a.search('pandey is nitesh pandey').group()   "
      ]
    },
    {
      "cell_type": "code",
      "execution_count": 69,
      "metadata": {
        "colab": {
          "base_uri": "https://localhost:8080/"
        },
        "id": "zJjp_vEDVUID",
        "outputId": "469efbf0-29cf-45f4-c0f0-6e768c138ab5"
      },
      "outputs": [
        {
          "data": {
            "text/plain": [
              "<re.Match object; span=(10, 16), match='nitesh'>"
            ]
          },
          "execution_count": 69,
          "metadata": {},
          "output_type": "execute_result"
        }
      ],
      "source": [
        "a.search('pandey is nitesh pandey')"
      ]
    },
    {
      "cell_type": "code",
      "execution_count": null,
      "metadata": {
        "id": "5fXV8E0xVsz6"
      },
      "outputs": [],
      "source": []
    }
  ],
  "metadata": {
    "colab": {
      "collapsed_sections": [],
      "name": "practise_coding.ipynb",
      "provenance": []
    },
    "kernelspec": {
      "display_name": "Python 3",
      "name": "python3"
    },
    "language_info": {
      "name": "python"
    }
  },
  "nbformat": 4,
  "nbformat_minor": 0
}
