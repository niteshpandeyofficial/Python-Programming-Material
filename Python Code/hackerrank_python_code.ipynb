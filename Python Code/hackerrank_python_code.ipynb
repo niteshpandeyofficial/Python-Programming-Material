{
  "cells": [
    {
      "cell_type": "markdown",
      "metadata": {
        "id": "beU7UsiaUi_g"
      },
      "source": [
        "Find reverse of string"
      ]
    },
    {
      "cell_type": "code",
      "execution_count": null,
      "metadata": {
        "colab": {
          "base_uri": "https://localhost:8080/",
          "height": 35
        },
        "id": "KQA1N6FIUXzD",
        "outputId": "8634121f-8dfb-4e7e-c70e-62f6e7fade57"
      },
      "outputs": [
        {
          "data": {
            "application/vnd.google.colaboratory.intrinsic+json": {
              "type": "string"
            },
            "text/plain": [
              "'yednap'"
            ]
          },
          "execution_count": 149,
          "metadata": {},
          "output_type": "execute_result"
        }
      ],
      "source": [
        "string='pandey'\n",
        "string[::-1]\n"
      ]
    },
    {
      "cell_type": "code",
      "execution_count": null,
      "metadata": {
        "colab": {
          "base_uri": "https://localhost:8080/"
        },
        "id": "AxM_UFyAUcfP",
        "outputId": "4dde4579-fb41-4b5c-c7b6-2a3a1987dd8a"
      },
      "outputs": [
        {
          "name": "stdout",
          "output_type": "stream",
          "text": [
            "yednap"
          ]
        }
      ],
      "source": [
        "\n",
        "for i in reversed(string):\n",
        "  print(i,end='')\n"
      ]
    },
    {
      "cell_type": "code",
      "execution_count": null,
      "metadata": {
        "colab": {
          "base_uri": "https://localhost:8080/",
          "height": 35
        },
        "id": "8izCdBybUe3j",
        "outputId": "0f4b53c3-aeb0-4cb1-bc47-eb4051c332c5"
      },
      "outputs": [
        {
          "data": {
            "application/vnd.google.colaboratory.intrinsic+json": {
              "type": "string"
            },
            "text/plain": [
              "'hsetin'"
            ]
          },
          "execution_count": 151,
          "metadata": {},
          "output_type": "execute_result"
        }
      ],
      "source": [
        "string=\"nitesh\"\n",
        "(''.join(reversed(string)))"
      ]
    },
    {
      "cell_type": "code",
      "execution_count": null,
      "metadata": {
        "colab": {
          "base_uri": "https://localhost:8080/"
        },
        "id": "3qpon9uUhsTA",
        "outputId": "1c06c2c7-a199-40e5-d3e6-47fb02a45261"
      },
      "outputs": [
        {
          "name": "stdout",
          "output_type": "stream",
          "text": [
            "[ 2.  3.  4.  5.  6.  7.  8.]\n",
            "[ 3.  4.  5.  6.  7.  8.  9.]\n",
            "[ 2.  3.  4.  6.  7.  8.  9.]\n"
          ]
        }
      ],
      "source": [
        "import numpy as np\n",
        "np.set_printoptions(legacy='1.13')\n",
        "\n",
        "#input_array=np.array(float(input()))\n",
        "A=np.array([2.2,3.3,4.4,5.5,6.6,7.7,8.8])\n",
        "\n",
        "print(np.floor(A));\n",
        "print(np.ceil(A));\n",
        "print(np.rint(A));\n",
        "\n"
      ]
    },
    {
      "cell_type": "code",
      "execution_count": null,
      "metadata": {
        "colab": {
          "base_uri": "https://localhost:8080/"
        },
        "id": "XbIalpbUJsiE",
        "outputId": "42e688a7-1776-460c-b579-915513b4771e"
      },
      "outputs": [
        {
          "name": "stdout",
          "output_type": "stream",
          "text": [
            "4\n",
            "2 4 6 9 -10\n",
            "[2, 4, 6, 9, -10]\n"
          ]
        }
      ],
      "source": [
        "n = int(input().strip())\n",
        "arr = list(map(int, input().rstrip().split()))\n",
        "print(arr)\n"
      ]
    },
    {
      "cell_type": "code",
      "execution_count": null,
      "metadata": {
        "colab": {
          "base_uri": "https://localhost:8080/"
        },
        "id": "vhIvmZgocs0O",
        "outputId": "fc922ff5-98a4-4d68-f37e-627e49d98cbd"
      },
      "outputs": [
        {
          "data": {
            "text/plain": [
              "[3, 4, 5, 67]"
            ]
          },
          "execution_count": 3,
          "metadata": {},
          "output_type": "execute_result"
        }
      ],
      "source": [
        "arr"
      ]
    },
    {
      "cell_type": "code",
      "execution_count": null,
      "metadata": {
        "colab": {
          "base_uri": "https://localhost:8080/"
        },
        "id": "OhUzf1wodM5L",
        "outputId": "bbcd4b29-b1e6-49a4-f77c-f2d36ca46b00"
      },
      "outputs": [
        {
          "name": "stdout",
          "output_type": "stream",
          "text": [
            "0.800000\n",
            "0.200000\n",
            "0.000000\n",
            "positive value= 4 negative value= 1 count 0\n"
          ]
        }
      ],
      "source": [
        "pos=0;\n",
        "neg=0;\n",
        "count=0;\n",
        "l=len(arr)\n",
        "for i in arr:\n",
        "  if i>0:\n",
        "    pos=pos+1;\n",
        "  elif i<0:\n",
        "    neg=neg+1;\n",
        "  else:\n",
        "    count=count+1\n",
        "\n",
        "print(\"{:.6f}\".format(pos/l))\n",
        "print(\"{:.6f}\".format(neg/l))\n",
        "print(\"{:.6f}\".format(count/l))\n",
        "print('positive value=',pos,'negative value=',neg,'count',count);"
      ]
    },
    {
      "cell_type": "code",
      "execution_count": null,
      "metadata": {
        "colab": {
          "base_uri": "https://localhost:8080/"
        },
        "id": "kWeev1qrg3w8",
        "outputId": "f8d1f4b2-e736-4f10-cec1-b80214967777"
      },
      "outputs": [
        {
          "name": "stdout",
          "output_type": "stream",
          "text": [
            "3 4 6\n",
            "<class 'list'>\n"
          ]
        }
      ],
      "source": [
        "arr = list(map(int, input().rstrip().split()))\n",
        "print(type(arr))"
      ]
    },
    {
      "cell_type": "markdown",
      "metadata": {
        "id": "DQGOM-CKkQ23"
      },
      "source": [
        "### Find the sum of element of list excluding first and last element"
      ]
    },
    {
      "cell_type": "code",
      "execution_count": null,
      "metadata": {
        "colab": {
          "base_uri": "https://localhost:8080/"
        },
        "id": "410EDnlm0nxc",
        "outputId": "e23a08ee-e362-49e8-96d9-9ac73a0b4aa3"
      },
      "outputs": [
        {
          "name": "stdout",
          "output_type": "stream",
          "text": [
            "2 4 6 8 1 4\n",
            "Array value [1, 2, 4, 4, 6, 8]\n",
            "Sum of value except last element 17 Sum of value except first element 24\n"
          ]
        }
      ],
      "source": [
        "#!/bin/python3\n",
        "\n",
        "import math\n",
        "import os\n",
        "import random\n",
        "import re\n",
        "import sys\n",
        "\n",
        "def miniMaxSum(arr):\n",
        "    arr=sorted(arr)\n",
        "    print('Array value',arr)\n",
        "    new_ls=[]\n",
        "    for i in range(len(arr)):\n",
        "        a=arr[:i]\n",
        "        b=arr[i+1:]\n",
        "        list_a=sum_of_list(a);\n",
        "        list_b=sum_of_list(b);\n",
        "        output=list_a+list_b\n",
        "        new_ls.append(output)\n",
        "    print('Sum of value except last element',new_ls[-1],'Sum of value except first element',new_ls[0])\n",
        "\n",
        "def sum_of_list(ls):\n",
        "    total = 0\n",
        "    ele = 0\n",
        "    list1 = ls\n",
        "    while(ele < len(list1)):\n",
        "        total = total + list1[ele]\n",
        "        ele += 1\n",
        "    return total\n",
        "\n",
        "if __name__ == '__main__':\n",
        "\n",
        "    arr = list(map(int, input().rstrip().split()))\n",
        "\n",
        "    miniMaxSum(arr)"
      ]
    },
    {
      "cell_type": "code",
      "execution_count": null,
      "metadata": {},
      "outputs": [],
      "source": [
        "def sum_val(arr):\n",
        "  sort_arr=sorted(arr)\n",
        "  a=sort_arr[:-1]\n",
        "  b=sort_arr[1:]\n",
        "  print('Sum of value except last element',sum(a),'Sum of value except first element',sum(b))"
      ]
    },
    {
      "cell_type": "code",
      "execution_count": null,
      "metadata": {},
      "outputs": [],
      "source": [
        "arr = list(map(int, input().rstrip().split()))\n",
        "sum_val(arr)"
      ]
    },
    {
      "cell_type": "code",
      "execution_count": null,
      "metadata": {
        "colab": {
          "base_uri": "https://localhost:8080/"
        },
        "id": "2VFbSs19Jr6L",
        "outputId": "a428d016-4aaa-446d-94d2-449f12561588"
      },
      "outputs": [
        {
          "name": "stdout",
          "output_type": "stream",
          "text": [
            "Elapsed Time: 7.939338684082031e-05\n"
          ]
        }
      ],
      "source": [
        "import time\n",
        "my_tuple=tuple(range(100000000))\n",
        "tic=time.time()\n",
        "my_list_squqre=map(lambda x:x**2,my_tuple)\n",
        "toc=time.time()\n",
        "\n",
        "print('Elapsed Time:',toc-tic)"
      ]
    },
    {
      "cell_type": "code",
      "execution_count": null,
      "metadata": {
        "colab": {
          "base_uri": "https://localhost:8080/"
        },
        "id": "Qe6Bw6AHlxOQ",
        "outputId": "09a21a32-4328-4714-8e36-775b772cb40b"
      },
      "outputs": [
        {
          "name": "stdout",
          "output_type": "stream",
          "text": [
            "Elapsed Time: 0.00016379356384277344\n"
          ]
        }
      ],
      "source": [
        "import time\n",
        "my_tuple=list(range(100000000))\n",
        "tic=time.time()\n",
        "my_list_squqre=map(lambda x:x**2,my_tuple)\n",
        "toc=time.time()\n",
        "\n",
        "print('Elapsed Time:',toc-tic)"
      ]
    },
    {
      "cell_type": "code",
      "execution_count": null,
      "metadata": {
        "id": "ovKE0UQKKhYG"
      },
      "outputs": [],
      "source": [
        "\tset1={1,'nitesh',5,1,2,3} #{1, 2, 3, 5,'nitesh'}\n",
        "\tset1.add(9)\t\t #{1, 2, 3, 5, 9,'nitesh'}\n",
        "\tset1.remove(5)\t #{1, 2, 3, 9,'nitesh'}\n",
        "\t#set1.append(5)\t #'set' object has no attribute 'append'\n",
        "\t#set1[0]\t #'set' object is not subscriptable\t"
      ]
    },
    {
      "cell_type": "code",
      "execution_count": null,
      "metadata": {
        "colab": {
          "base_uri": "https://localhost:8080/"
        },
        "id": "HmHeaayxmSYY",
        "outputId": "587a2ddd-b682-434f-f0d5-c1be3af4f10e"
      },
      "outputs": [
        {
          "data": {
            "text/plain": [
              "{1, 2, 3, 9, 'nitesh'}"
            ]
          },
          "execution_count": 12,
          "metadata": {},
          "output_type": "execute_result"
        }
      ],
      "source": [
        "set1"
      ]
    },
    {
      "cell_type": "code",
      "execution_count": null,
      "metadata": {
        "id": "mZwybQBfJl2P"
      },
      "outputs": [],
      "source": [
        "import time\n",
        "my_list=list(range(1000000000))\n",
        "tic=time.time()\n",
        "my_list_squqre=map(lambda x:x**2,my_list)\n",
        "toc=time.time()\n",
        "\n",
        "print('Elapsed Time:',toc-tic) \n"
      ]
    },
    {
      "cell_type": "code",
      "execution_count": null,
      "metadata": {
        "id": "kQIgLtg7LSXy"
      },
      "outputs": [],
      "source": [
        "myset=frozenset({1, 2, 3})"
      ]
    },
    {
      "cell_type": "code",
      "execution_count": null,
      "metadata": {
        "colab": {
          "base_uri": "https://localhost:8080/"
        },
        "id": "FvRNDXFRLT5M",
        "outputId": "28a77e2a-138d-44b1-9635-2556147627ab"
      },
      "outputs": [
        {
          "name": "stdout",
          "output_type": "stream",
          "text": [
            "True\n",
            "Elapsed Time: 0.0002491474151611328\n"
          ]
        }
      ],
      "source": [
        "import time\n",
        "my_set=set(range(10000000))\n",
        "tic=time.time()\n",
        "print(9123 in my_set)\n",
        "toc=time.time()\n",
        "print('Elapsed Time:',toc-tic)"
      ]
    },
    {
      "cell_type": "code",
      "execution_count": null,
      "metadata": {
        "colab": {
          "base_uri": "https://localhost:8080/"
        },
        "id": "2rtukGxgMvNQ",
        "outputId": "a23af33a-d217-4d58-cfd6-7ac0fd3a08b2"
      },
      "outputs": [
        {
          "name": "stdout",
          "output_type": "stream",
          "text": [
            "True\n",
            "True\n",
            "True\n",
            "Elapsed Time: 0.05454301834106445\n"
          ]
        }
      ],
      "source": [
        "import time\n",
        "from sys import getsizeof\n",
        "\n",
        "my_list=list(range(100000000))\n",
        "tic=time.time()\n",
        "print(9123 in my_list)\n",
        "print(999999 in my_list)\n",
        "print(12569 in my_list)\n",
        "toc=time.time()\n",
        "print('Elapsed Time:',toc-tic)"
      ]
    },
    {
      "cell_type": "code",
      "execution_count": null,
      "metadata": {
        "colab": {
          "base_uri": "https://localhost:8080/"
        },
        "id": "X6nGu2pSMvFZ",
        "outputId": "08dcb036-f694-4bc0-ae87-230634da7548"
      },
      "outputs": [
        {
          "data": {
            "text/plain": [
              "268435688"
            ]
          },
          "execution_count": 4,
          "metadata": {},
          "output_type": "execute_result"
        }
      ],
      "source": [
        "getsizeof(my_set)"
      ]
    },
    {
      "cell_type": "code",
      "execution_count": null,
      "metadata": {
        "id": "t0JYPT5LMu_Q"
      },
      "outputs": [],
      "source": [
        "def div(a,b):\n",
        "    print(a/b)\n",
        "    \n",
        "def smartdiv(func):\n",
        "    def inner(a,b):\n",
        "        if a<b:\n",
        "            a,b=b,a\n",
        "        return func(a,b)\n",
        "    return inner"
      ]
    },
    {
      "cell_type": "code",
      "execution_count": null,
      "metadata": {
        "id": "OQiRgId5Mut9"
      },
      "outputs": [],
      "source": [
        "div1=smartdiv(div)"
      ]
    },
    {
      "cell_type": "code",
      "execution_count": null,
      "metadata": {
        "colab": {
          "base_uri": "https://localhost:8080/"
        },
        "id": "5a-hDHBkLePp",
        "outputId": "9bbf1ce6-01b0-4cdd-ae22-4f0b398a1fc2"
      },
      "outputs": [
        {
          "name": "stdout",
          "output_type": "stream",
          "text": [
            "3\n",
            "Krishna 67 68 69\n",
            "Arjun 70 98 63\n",
            "Malika 52 56 60\n",
            "{'Krishna': [67.0, 68.0, 69.0], 'Arjun': [70.0, 98.0, 63.0], 'Malika': [52.0, 56.0, 60.0]}\n"
          ]
        }
      ],
      "source": [
        "n = int(input())\n",
        "student_marks = {}\n",
        "for _ in range(n):\n",
        "  name, *line = input().split()\n",
        "  scores = list(map(float, line))\n",
        "  student_marks[name] =scores\n",
        "\n",
        "print(student_marks)"
      ]
    },
    {
      "cell_type": "code",
      "execution_count": null,
      "metadata": {
        "colab": {
          "base_uri": "https://localhost:8080/"
        },
        "id": "lFB36Y65MCh6",
        "outputId": "2535bd10-4cd1-422b-bb2d-04f93e7b65e3"
      },
      "outputs": [
        {
          "name": "stdout",
          "output_type": "stream",
          "text": [
            "nitesh\n"
          ]
        }
      ],
      "source": [
        "query_name = input()"
      ]
    },
    {
      "cell_type": "code",
      "execution_count": null,
      "metadata": {
        "id": "xlGwhnF5MYaZ"
      },
      "outputs": [],
      "source": [
        "num=student_marks['Malika']"
      ]
    },
    {
      "cell_type": "code",
      "execution_count": null,
      "metadata": {
        "colab": {
          "base_uri": "https://localhost:8080/"
        },
        "id": "LFU8rlfiMzlX",
        "outputId": "5d977c3d-7f5c-4c2d-ee59-d3c6c8c8349e"
      },
      "outputs": [
        {
          "data": {
            "text/plain": [
              "3"
            ]
          },
          "execution_count": 27,
          "metadata": {},
          "output_type": "execute_result"
        }
      ],
      "source": [
        "len(num)"
      ]
    },
    {
      "cell_type": "code",
      "execution_count": null,
      "metadata": {
        "colab": {
          "base_uri": "https://localhost:8080/"
        },
        "id": "WjDE3aHaMa2S",
        "outputId": "894a4051-99ce-43e8-f0ba-434f80c79b95"
      },
      "outputs": [
        {
          "name": "stdout",
          "output_type": "stream",
          "text": [
            "67.0\n",
            "68.0\n",
            "69.0\n"
          ]
        }
      ],
      "source": [
        "for i in num:\n",
        "  print(i)"
      ]
    },
    {
      "cell_type": "code",
      "execution_count": null,
      "metadata": {
        "id": "Fgy4IAoTM0iw"
      },
      "outputs": [],
      "source": [
        "def marks_data(num):\n",
        "    total = 0\n",
        "    ele = 0\n",
        "    list1 = num\n",
        "    while(ele < len(list1)):\n",
        "        total = total + list1[ele]\n",
        "        ele += 1\n",
        "    return total"
      ]
    },
    {
      "cell_type": "code",
      "execution_count": null,
      "metadata": {
        "id": "tTJOl47QM-BW"
      },
      "outputs": [],
      "source": [
        "final_marks=marks_data(num)"
      ]
    },
    {
      "cell_type": "code",
      "execution_count": null,
      "metadata": {
        "colab": {
          "base_uri": "https://localhost:8080/"
        },
        "id": "DY36P9nqNGkN",
        "outputId": "39a867b0-a5e3-494c-d529-41289f1eb77b"
      },
      "outputs": [
        {
          "name": "stdout",
          "output_type": "stream",
          "text": [
            "56.00\n"
          ]
        }
      ],
      "source": [
        "print(\"{:.2f}\".format(final_marks/3))"
      ]
    },
    {
      "cell_type": "code",
      "execution_count": null,
      "metadata": {
        "id": "7aFEB_xSQDcn"
      },
      "outputs": [],
      "source": [
        "9\n",
        "1 2 3 4 5 6 7 8 9\n",
        "9\n",
        "10 1 2 3 11 21 55 6 8"
      ]
    },
    {
      "cell_type": "code",
      "execution_count": null,
      "metadata": {
        "id": "XyAnxlnEQEp-"
      },
      "outputs": [],
      "source": [
        "l1=[1,2,3,4,5,6,7,8,9]\n",
        "l2=[10,1,2,3,11,21,55,6,8]"
      ]
    },
    {
      "cell_type": "code",
      "execution_count": null,
      "metadata": {
        "colab": {
          "base_uri": "https://localhost:8080/"
        },
        "id": "qB2zlBUfQWSj",
        "outputId": "16213ff5-1624-4d8c-e8be-8dd07cde1a48"
      },
      "outputs": [
        {
          "name": "stdout",
          "output_type": "stream",
          "text": [
            "5\n"
          ]
        }
      ],
      "source": [
        "result=set()\n",
        "a=max(len(l1),len(l2))\n",
        "\n",
        "for i in range(a):\n",
        "  if l1[i] in l2:\n",
        "    result.add(l1[i])\n",
        "print(len(result))"
      ]
    },
    {
      "cell_type": "code",
      "execution_count": null,
      "metadata": {
        "colab": {
          "base_uri": "https://localhost:8080/"
        },
        "id": "9MI47vlaQeIg",
        "outputId": "49b587b3-c967-4541-d640-d2a032d0f816"
      },
      "outputs": [
        {
          "name": "stdout",
          "output_type": "stream",
          "text": [
            "5\n",
            "1 2 3 4 5 6 7 8\n",
            "[1, 2, 3, 4, 5]\n"
          ]
        }
      ],
      "source": [
        "n=int(input())\n",
        "\n",
        "arr = list(map(int, input().rstrip().split()))[:n]\n",
        "print(arr)"
      ]
    },
    {
      "cell_type": "code",
      "execution_count": null,
      "metadata": {
        "colab": {
          "base_uri": "https://localhost:8080/"
        },
        "id": "LhmNlZNzUFOv",
        "outputId": "ef839cfa-aa9e-4067-d7e4-5169fc8b671c"
      },
      "outputs": [
        {
          "name": "stdout",
          "output_type": "stream",
          "text": [
            "2\n",
            "1 3\n",
            "User list:  [1, 3]\n"
          ]
        }
      ],
      "source": [
        "n=int(input())\n",
        "num_list = list(int(num) for num in input().strip().split())[:n]\n",
        "print(\"User list: \", num_list)"
      ]
    },
    {
      "cell_type": "code",
      "execution_count": null,
      "metadata": {
        "colab": {
          "base_uri": "https://localhost:8080/"
        },
        "id": "NHe2ECxFUouW",
        "outputId": "1452c78b-678c-45dc-903e-3495308e77e4"
      },
      "outputs": [
        {
          "name": "stdout",
          "output_type": "stream",
          "text": [
            "4\n",
            "1 3 5 7\n",
            "4\n",
            "1 3 5 8\n",
            "{1, 3, 5}\n"
          ]
        }
      ],
      "source": [
        "#final code\n",
        "\n",
        "a=int(input())\n",
        "lista =list(map(int, input().rstrip().split()))[:a]\n",
        "\n",
        "b=int(input())\n",
        "listb =list(map(int, input().rstrip().split()))[:b]\n",
        "\n",
        "result=set()\n",
        "for i in range(max(len(lista),len(listb))):\n",
        "  if len(lista)>len(listb):\n",
        "    if lista[i] in listb:\n",
        "      result.add(lista[i])\n",
        "  else:\n",
        "    if listb[i] in lista:\n",
        "      result.add(listb[i])\n",
        "\n",
        "\n",
        "print(result)\n"
      ]
    },
    {
      "cell_type": "code",
      "execution_count": null,
      "metadata": {
        "colab": {
          "base_uri": "https://localhost:8080/",
          "height": 35
        },
        "id": "WXomWUvodoMh",
        "outputId": "00ffb159-995d-4d61-b650-f57b371877ab"
      },
      "outputs": [
        {
          "data": {
            "application/vnd.google.colaboratory.intrinsic+json": {
              "type": "string"
            },
            "text/plain": [
              "'28:10:00'"
            ]
          },
          "execution_count": 17,
          "metadata": {},
          "output_type": "execute_result"
        }
      ],
      "source": [
        "s='16:10:00PM'\n",
        "\n",
        "timeConversion(s)"
      ]
    },
    {
      "cell_type": "code",
      "execution_count": null,
      "metadata": {
        "id": "GYOdpID9dxtq"
      },
      "outputs": [],
      "source": [
        "#!/bin/python3\n",
        "\n",
        "import math\n",
        "import os\n",
        "import random\n",
        "import re\n",
        "import sys\n",
        "\n",
        "def timeConversion(s):\n",
        "    if s[-2:]=='AM' and s[:2]=='12':\n",
        "        return '00'+s[2:-2]\n",
        "\n",
        "    elif s[-2:]=='AM':\n",
        "        return s[:-2]\n",
        "\n",
        "    elif s[-2:]=='PM' and s[:2]=='12':\n",
        "        return s[:-2]\n",
        "\n",
        "    else:\n",
        "        return str(int(s[:2])+12) +  s[2:8]\n",
        "\n",
        "# if __name__ == '__main__':\n",
        "#     fptr = open(os.environ['OUTPUT_PATH'], 'w')\n",
        "#     s = input()\n",
        "#     result = timeConversion(s)\n",
        "#     fptr.write(result + '\\n')\n",
        "#     fptr.close()\n"
      ]
    },
    {
      "cell_type": "code",
      "execution_count": null,
      "metadata": {
        "colab": {
          "base_uri": "https://localhost:8080/",
          "height": 35
        },
        "id": "_NwNOrU5dyRI",
        "outputId": "daa0dca2-fd9f-4110-82b4-5efabe246024"
      },
      "outputs": [
        {
          "data": {
            "application/vnd.google.colaboratory.intrinsic+json": {
              "type": "string"
            },
            "text/plain": [
              "'13:01:00'"
            ]
          },
          "execution_count": 21,
          "metadata": {},
          "output_type": "execute_result"
        }
      ],
      "source": [
        "timeConversion('13:01:00AM')"
      ]
    },
    {
      "cell_type": "code",
      "execution_count": null,
      "metadata": {
        "id": "_rWPagf-J2Us"
      },
      "outputs": [],
      "source": [
        "a=(lambda x:x**2)"
      ]
    },
    {
      "cell_type": "code",
      "execution_count": null,
      "metadata": {
        "id": "3tIVAE57J9Pn"
      },
      "outputs": [],
      "source": [
        "a(5);"
      ]
    },
    {
      "cell_type": "code",
      "execution_count": null,
      "metadata": {
        "id": "Ol0VMVQtP2gi"
      },
      "outputs": [],
      "source": [
        "class student:\n",
        "  def __init__(self,name,age):\n",
        "    self.age=age;\n",
        "    self.name=name\n",
        "\n",
        "  def print(self):\n",
        "    print('***'*10);\n",
        "    print(\"Name is\",self.name);\n",
        "    print(\"Age is\",self.age);"
      ]
    },
    {
      "cell_type": "code",
      "execution_count": null,
      "metadata": {
        "colab": {
          "base_uri": "https://localhost:8080/"
        },
        "id": "hGiDDHgpQSr0",
        "outputId": "151ed886-d6f4-4ed7-ffaf-4011f225481e"
      },
      "outputs": [
        {
          "name": "stdout",
          "output_type": "stream",
          "text": [
            "******************************\n",
            "Name is Nitesh\n",
            "Age is 27\n"
          ]
        }
      ],
      "source": [
        "s=student('Nitesh',27)\n",
        "s.print()"
      ]
    },
    {
      "cell_type": "code",
      "execution_count": null,
      "metadata": {
        "colab": {
          "base_uri": "https://localhost:8080/"
        },
        "id": "PM7-2K5JQWR1",
        "outputId": "c2cd72ea-0ab0-4765-e5f5-16d750374e72"
      },
      "outputs": [
        {
          "name": "stdout",
          "output_type": "stream",
          "text": [
            "0\n",
            "1\n",
            "2\n",
            "3\n",
            "4\n",
            "inner\n"
          ]
        }
      ],
      "source": [
        "# break statement demo\n",
        "counter=5\n",
        "for i in range(7):\n",
        "  if i==counter:\n",
        "    print('inner')\n",
        "    break;\n",
        "\n",
        "  else:\n",
        "    print(i)"
      ]
    },
    {
      "cell_type": "code",
      "execution_count": null,
      "metadata": {
        "colab": {
          "base_uri": "https://localhost:8080/"
        },
        "id": "9brYqOMQQ_v6",
        "outputId": "73cbd768-035e-4087-9c05-f6918e43d098"
      },
      "outputs": [
        {
          "name": "stdout",
          "output_type": "stream",
          "text": [
            "0\n",
            "1\n",
            "2\n",
            "inner\n",
            "4\n",
            "5\n",
            "6\n"
          ]
        }
      ],
      "source": [
        "counter=5\n",
        "for i in range(7):\n",
        "  if i==3:\n",
        "    print('inner')\n",
        "    continue;\n",
        "\n",
        "  else:\n",
        "    print(i)"
      ]
    },
    {
      "cell_type": "code",
      "execution_count": null,
      "metadata": {
        "colab": {
          "base_uri": "https://localhost:8080/"
        },
        "id": "UZjaJSMVS2n5",
        "outputId": "500f7f81-3d3f-498a-900f-612cf67307d3"
      },
      "outputs": [
        {
          "data": {
            "text/plain": [
              "array('i', [5, 4, 3, 2, 1])"
            ]
          },
          "execution_count": 30,
          "metadata": {},
          "output_type": "execute_result"
        }
      ],
      "source": [
        "import numpy as np\n",
        "import array as arr\n",
        "My_Array=arr.array('i',[1,2,3,4,5])\n",
        "My_Array[::-1]"
      ]
    },
    {
      "cell_type": "code",
      "execution_count": null,
      "metadata": {
        "id": "yM1axbvtTw1e"
      },
      "outputs": [],
      "source": [
        "import random"
      ]
    },
    {
      "cell_type": "code",
      "execution_count": null,
      "metadata": {
        "colab": {
          "base_uri": "https://localhost:8080/"
        },
        "id": "iRqD3A4rTzOH",
        "outputId": "915a8e90-a80e-4c3b-9d22-2ee18d11d22d"
      },
      "outputs": [
        {
          "data": {
            "text/plain": [
              "0.372574105267912"
            ]
          },
          "execution_count": 32,
          "metadata": {},
          "output_type": "execute_result"
        }
      ],
      "source": [
        "random.random()"
      ]
    },
    {
      "cell_type": "code",
      "execution_count": null,
      "metadata": {
        "colab": {
          "base_uri": "https://localhost:8080/"
        },
        "id": "FI3Dc0tDVYah",
        "outputId": "76cc5071-7ac4-474d-f4db-a1cff8f1cb69"
      },
      "outputs": [
        {
          "data": {
            "text/plain": [
              "4"
            ]
          },
          "execution_count": 33,
          "metadata": {},
          "output_type": "execute_result"
        }
      ],
      "source": [
        "random.randint(1,10)"
      ]
    },
    {
      "cell_type": "code",
      "execution_count": null,
      "metadata": {
        "colab": {
          "base_uri": "https://localhost:8080/"
        },
        "id": "ImuLm3v4Vfhr",
        "outputId": "266f5208-5aa2-44a8-ee96-131fde9a1b22"
      },
      "outputs": [
        {
          "data": {
            "text/plain": [
              "3"
            ]
          },
          "execution_count": 34,
          "metadata": {},
          "output_type": "execute_result"
        }
      ],
      "source": [
        "random.randrange(10)"
      ]
    },
    {
      "cell_type": "code",
      "execution_count": null,
      "metadata": {
        "colab": {
          "base_uri": "https://localhost:8080/"
        },
        "id": "QLtolmBgVfed",
        "outputId": "54890b1a-baf6-47e9-e721-2b949ba6cb2a"
      },
      "outputs": [
        {
          "data": {
            "text/plain": [
              "14.386791419480822"
            ]
          },
          "execution_count": 35,
          "metadata": {},
          "output_type": "execute_result"
        }
      ],
      "source": [
        "random.uniform(10,15)"
      ]
    },
    {
      "cell_type": "code",
      "execution_count": null,
      "metadata": {
        "id": "zORdtmJHVfa6"
      },
      "outputs": [],
      "source": [
        "random.seed(0)"
      ]
    },
    {
      "cell_type": "code",
      "execution_count": null,
      "metadata": {
        "id": "86DFJThyVfXu"
      },
      "outputs": [],
      "source": [
        "a=[\"Nitesh\",\"Sam\",\"Arun\"]"
      ]
    },
    {
      "cell_type": "code",
      "execution_count": null,
      "metadata": {
        "colab": {
          "base_uri": "https://localhost:8080/",
          "height": 35
        },
        "id": "n5k0zPBDVfRE",
        "outputId": "06bbbb23-81d8-4667-ef81-710d96d82bb9"
      },
      "outputs": [
        {
          "data": {
            "application/vnd.google.colaboratory.intrinsic+json": {
              "type": "string"
            },
            "text/plain": [
              "'Arun'"
            ]
          },
          "execution_count": 43,
          "metadata": {},
          "output_type": "execute_result"
        }
      ],
      "source": [
        "random.choice(a)"
      ]
    },
    {
      "cell_type": "code",
      "execution_count": null,
      "metadata": {
        "colab": {
          "base_uri": "https://localhost:8080/"
        },
        "id": "h9Y6deQ6WQno",
        "outputId": "66968311-ee95-41cf-83c6-8a0474f3bd61"
      },
      "outputs": [
        {
          "name": "stdout",
          "output_type": "stream",
          "text": [
            "0.7632114235413727\n",
            "-2.6854973298031477\n",
            "2.0236940686762086\n",
            "-2.727111211573911\n",
            "-2.9796040717853276\n",
            "4.172603828313114\n",
            "17.067056554808698\n",
            "11.97237848127649\n",
            "1.440071248802647\n",
            "-12.718780059127228\n",
            "9.649991446333189\n",
            "-5.840890185064733\n",
            "8.272279119107402\n",
            "12.591490060121217\n",
            "-2.0660483810049044\n",
            "3.02249422577776\n",
            "-10.996993328166832\n",
            "-1.3813323953843475\n",
            "-0.21615229560036608\n",
            "2.7035437192809084\n"
          ]
        }
      ],
      "source": [
        "for i in range(20):\n",
        "  print(random.normalvariate(1,9))"
      ]
    },
    {
      "cell_type": "code",
      "execution_count": null,
      "metadata": {
        "colab": {
          "base_uri": "https://localhost:8080/"
        },
        "id": "7xGa9Z2XWX0U",
        "outputId": "1297a45b-49fb-4af7-ee14-449686419710"
      },
      "outputs": [
        {
          "name": "stdout",
          "output_type": "stream",
          "text": [
            "2.5081649784051425\n",
            "7.64068904971796\n",
            "1.9575637812143212\n",
            "1.7322548252427534\n",
            "7.670755444795885\n",
            "1.9283691070313473\n",
            "5.844033361770898\n",
            "2.556727645458655\n",
            "8.7655353060348\n",
            "6.744906611674735\n",
            "4.833869231377632\n",
            "6.8172418356386775\n",
            "1.4886791668515889\n",
            "6.434777559207831\n",
            "5.353883291817834\n",
            "5.96479976782204\n",
            "7.687221244568818\n",
            "1.560034407426671\n",
            "1.5757735161140989\n",
            "3.4084922880109527\n"
          ]
        }
      ],
      "source": [
        "for i in range(20):\n",
        "  print(random.uniform(1,9))"
      ]
    },
    {
      "cell_type": "code",
      "execution_count": null,
      "metadata": {
        "colab": {
          "base_uri": "https://localhost:8080/",
          "height": 35
        },
        "id": "uIpG3I8-Xtlq",
        "outputId": "837714b3-af0a-49e3-a12e-eb91c15d01df"
      },
      "outputs": [
        {
          "data": {
            "application/vnd.google.colaboratory.intrinsic+json": {
              "type": "string"
            },
            "text/plain": [
              "'Aitesh'"
            ]
          },
          "execution_count": 45,
          "metadata": {},
          "output_type": "execute_result"
        }
      ],
      "source": [
        "a='aitesh'\n",
        "a.capitalize()"
      ]
    },
    {
      "cell_type": "code",
      "execution_count": null,
      "metadata": {
        "id": "f6X8Uz5pX3PI"
      },
      "outputs": [],
      "source": [
        "a='Nitesh'"
      ]
    },
    {
      "cell_type": "code",
      "execution_count": null,
      "metadata": {
        "id": "ashfvWwHX6Rn"
      },
      "outputs": [],
      "source": [
        "a=[1,2,3]\n",
        "b=[1,2,3]"
      ]
    },
    {
      "cell_type": "code",
      "execution_count": null,
      "metadata": {
        "colab": {
          "base_uri": "https://localhost:8080/"
        },
        "id": "94582dgUYaqR",
        "outputId": "847270ed-e870-4836-b978-2b9bac58da48"
      },
      "outputs": [
        {
          "data": {
            "text/plain": [
              "True"
            ]
          },
          "execution_count": 47,
          "metadata": {},
          "output_type": "execute_result"
        }
      ],
      "source": [
        "a = b\n",
        "a is b"
      ]
    },
    {
      "cell_type": "code",
      "execution_count": null,
      "metadata": {
        "colab": {
          "base_uri": "https://localhost:8080/"
        },
        "id": "cq_Xf9INYqtM",
        "outputId": "da77c5e4-58bf-4c9c-bf19-b24eef1e4023"
      },
      "outputs": [
        {
          "data": {
            "text/plain": [
              "['__call__',\n",
              " '__class__',\n",
              " '__delattr__',\n",
              " '__dir__',\n",
              " '__doc__',\n",
              " '__eq__',\n",
              " '__format__',\n",
              " '__ge__',\n",
              " '__getattribute__',\n",
              " '__gt__',\n",
              " '__hash__',\n",
              " '__init__',\n",
              " '__init_subclass__',\n",
              " '__le__',\n",
              " '__lt__',\n",
              " '__module__',\n",
              " '__name__',\n",
              " '__ne__',\n",
              " '__new__',\n",
              " '__qualname__',\n",
              " '__reduce__',\n",
              " '__reduce_ex__',\n",
              " '__repr__',\n",
              " '__self__',\n",
              " '__setattr__',\n",
              " '__sizeof__',\n",
              " '__str__',\n",
              " '__subclasshook__',\n",
              " '__text_signature__']"
            ]
          },
          "execution_count": 48,
          "metadata": {},
          "output_type": "execute_result"
        }
      ],
      "source": [
        "dir(print)"
      ]
    },
    {
      "cell_type": "code",
      "execution_count": null,
      "metadata": {
        "colab": {
          "base_uri": "https://localhost:8080/"
        },
        "id": "UVVITG-OYun-",
        "outputId": "4142d0b3-a9c5-47f6-d092-f007ec54a2ec"
      },
      "outputs": [
        {
          "name": "stdout",
          "output_type": "stream",
          "text": [
            "Help on built-in function print in module builtins:\n",
            "\n",
            "print(...)\n",
            "    print(value, ..., sep=' ', end='\\n', file=sys.stdout, flush=False)\n",
            "    \n",
            "    Prints the values to a stream, or to sys.stdout by default.\n",
            "    Optional keyword arguments:\n",
            "    file:  a file-like object (stream); defaults to the current sys.stdout.\n",
            "    sep:   string inserted between values, default a space.\n",
            "    end:   string appended after the last value, default a newline.\n",
            "    flush: whether to forcibly flush the stream.\n",
            "\n"
          ]
        }
      ],
      "source": [
        "help(print)"
      ]
    },
    {
      "cell_type": "code",
      "execution_count": null,
      "metadata": {
        "id": "cMsxSYh_ZRVg"
      },
      "outputs": [],
      "source": [
        "min=[a if a<b else b];"
      ]
    },
    {
      "cell_type": "code",
      "execution_count": null,
      "metadata": {
        "colab": {
          "base_uri": "https://localhost:8080/"
        },
        "id": "g_tw-C7XZY2P",
        "outputId": "79b0ab2d-334d-42a1-f05e-4cd6b2f27621"
      },
      "outputs": [
        {
          "name": "stdout",
          "output_type": "stream",
          "text": [
            "[4]\n"
          ]
        }
      ],
      "source": [
        "a=4\n",
        "b=6\n",
        "print(min)"
      ]
    },
    {
      "cell_type": "code",
      "execution_count": null,
      "metadata": {
        "id": "wfpxn6x8aNHa"
      },
      "outputs": [],
      "source": [
        "def fruit_name(*args):\n",
        "  for i,j in enumerate(*args):\n",
        "    print(i,j)"
      ]
    },
    {
      "cell_type": "code",
      "execution_count": null,
      "metadata": {
        "colab": {
          "base_uri": "https://localhost:8080/"
        },
        "id": "WFijg3x3aZZS",
        "outputId": "c1c40d9a-c7c9-42aa-d824-80511767205c"
      },
      "outputs": [
        {
          "name": "stdout",
          "output_type": "stream",
          "text": [
            "0 Mango\n",
            "1 Banana\n",
            "2 coconut\n",
            "3 watermelon\n"
          ]
        }
      ],
      "source": [
        "fruit_name(['Mango','Banana','coconut','watermelon'])"
      ]
    },
    {
      "cell_type": "code",
      "execution_count": null,
      "metadata": {
        "id": "XiQ8BvrwbH-g"
      },
      "outputs": [],
      "source": [
        "def food(**kwargs):\n",
        "  for i ,j in kwargs.items():\n",
        "    print (i,j)"
      ]
    },
    {
      "cell_type": "code",
      "execution_count": null,
      "metadata": {
        "id": "qESp8slmeZkX"
      },
      "outputs": [],
      "source": [
        "names=['Sunny','Overcast','Rain','Rain','Rain',\n",
        "'Overcast',\n",
        "'Sunny',\n",
        "'Sunny',\n",
        "'Rain',\n",
        "'Sunny',\n",
        "'Overcast',\n",
        "'Overcast',\n",
        "'Rain',\n",
        "'Weak',\n",
        "'Strong',\n",
        "'Weak',\n",
        "'Weak',\n",
        "'Weak',\n",
        "'Strong',\n",
        "'Strong',\n",
        "'Weak',\n",
        "'Weak',\n",
        "'Weak',\n",
        "'Strong',\n",
        "'Strong',\n",
        "'Weak',\n",
        "'Strong',\n",
        "'High',\n",
        "'High',\n",
        "'High',\n",
        "'High',\n",
        "'Normal',\n",
        "'Normal',\n",
        "'Normal',\n",
        "'High',\n",
        "'Normal',\n",
        "'Normal',\n",
        "'Normal',\n",
        "'High',\n",
        "'Normal',\n",
        "'High'];"
      ]
    },
    {
      "cell_type": "code",
      "execution_count": null,
      "metadata": {
        "colab": {
          "base_uri": "https://localhost:8080/"
        },
        "id": "Erwf_xQebHxQ",
        "outputId": "13eb3fa1-b4d3-43fa-f738-53bf9ec28960"
      },
      "outputs": [
        {
          "name": "stdout",
          "output_type": "stream",
          "text": [
            "Elapsed Time: 4.76837158203125e-07\n"
          ]
        }
      ],
      "source": [
        "import time \n",
        "pos=0\n",
        "for name in names:\n",
        "  start=time.time()\n",
        "  pos=pos+1\n",
        "  end=time.time()\n",
        "print('Elapsed Time:',end-start)"
      ]
    },
    {
      "cell_type": "code",
      "execution_count": null,
      "metadata": {
        "colab": {
          "base_uri": "https://localhost:8080/"
        },
        "id": "uxcn2GqfgHh3",
        "outputId": "1c4f262e-2779-414f-ba28-590a8544c837"
      },
      "outputs": [
        {
          "name": "stdout",
          "output_type": "stream",
          "text": [
            "Elapsed Time: -100.71512508392334\n"
          ]
        }
      ],
      "source": [
        "for i,j in enumerate(names):\n",
        "    start=time.time()\n",
        "    stop=time.time()\n",
        "print('Elapsed Time:',end-start) "
      ]
    },
    {
      "cell_type": "code",
      "execution_count": null,
      "metadata": {
        "id": "QuNa6S-agw3T"
      },
      "outputs": [],
      "source": [
        "a=arr.array('d', [1.1 , 2.1 ,3.1] )"
      ]
    },
    {
      "cell_type": "code",
      "execution_count": null,
      "metadata": {
        "colab": {
          "base_uri": "https://localhost:8080/"
        },
        "id": "oIgl70Qy_Jy2",
        "outputId": "ab9e9db5-278a-4116-9c4f-aff9e0d997a5"
      },
      "outputs": [
        {
          "name": "stdout",
          "output_type": "stream",
          "text": [
            "array('d', [1.1, 2.1, 3.1])\n"
          ]
        }
      ],
      "source": [
        "print(a)"
      ]
    },
    {
      "cell_type": "code",
      "execution_count": null,
      "metadata": {
        "colab": {
          "base_uri": "https://localhost:8080/"
        },
        "id": "b1nzYem2htRp",
        "outputId": "8b484ad8-ea4c-4910-ca34-5487182fcd34"
      },
      "outputs": [
        {
          "name": "stdout",
          "output_type": "stream",
          "text": [
            "array('d', [1.1, 2.1, 3.8, 3.1, 4.5, 6.3, 6.8, 3.4, 4.5, 6.3, 6.8])\n",
            "array('d', [1.1, 2.1, 3.8, 3.8, 3.1, 4.5, 6.3, 6.8, 3.4, 4.5, 6.3, 6.8])\n",
            "array('d', [1.1, 2.1, 3.8, 3.8, 3.1, 4.5, 6.3, 6.8, 3.4, 4.5, 6.3, 6.8, 3.4])\n"
          ]
        }
      ],
      "source": [
        "a.extend([4.5,6.3,6.8]) \n",
        "print(a)\n",
        "a.insert(2,3.8)\n",
        "print(a)\n",
        "a.append(3.4)\n",
        "print(a)"
      ]
    },
    {
      "cell_type": "code",
      "execution_count": null,
      "metadata": {
        "id": "c71XGKl-h59O"
      },
      "outputs": [],
      "source": [
        "ab=[1.1 , 2.1 ,3.1]"
      ]
    },
    {
      "cell_type": "code",
      "execution_count": null,
      "metadata": {
        "colab": {
          "base_uri": "https://localhost:8080/",
          "height": 324
        },
        "id": "T7tdVxdiiCZC",
        "outputId": "59b5339f-0c7a-4435-dadb-da8005441a2a"
      },
      "outputs": [
        {
          "name": "stdout",
          "output_type": "stream",
          "text": [
            "[1.1, 2.1, 3.8, 3.8, 3.8, 3.1, 4.5, 6.3, 6.8, 3.4, 9, 'L', 'o', 'v', 'e', 4.5, 6.3, 6.8, 3.4, 9, 'L', 'o', 'v', 'e', 4.5, 6.3, 6.8, 3.4, 9, 'L', 'o', 'v', 'e', 9, 4.5, 6.3, 6.8]\n",
            "[1.1, 2.1, 3.8, 3.8, 3.8, 3.8, 3.1, 4.5, 6.3, 6.8, 3.4, 9, 'L', 'o', 'v', 'e', 4.5, 6.3, 6.8, 3.4, 9, 'L', 'o', 'v', 'e', 4.5, 6.3, 6.8, 3.4, 9, 'L', 'o', 'v', 'e', 9, 4.5, 6.3, 6.8]\n",
            "[1.1, 2.1, 3.8, 3.8, 3.8, 3.8, 3.1, 4.5, 6.3, 6.8, 3.4, 9, 'L', 'o', 'v', 'e', 4.5, 6.3, 6.8, 3.4, 9, 'L', 'o', 'v', 'e', 4.5, 6.3, 6.8, 3.4, 9, 'L', 'o', 'v', 'e', 9, 4.5, 6.3, 6.8, 3.4]\n",
            "[1.1, 2.1, 3.8, 3.8, 3.8, 3.8, 3.1, 4.5, 6.3, 6.8, 3.4, 9, 'L', 'o', 'v', 'e', 4.5, 6.3, 6.8, 3.4, 9, 'L', 'o', 'v', 'e', 4.5, 6.3, 6.8, 3.4, 9, 'L', 'o', 'v', 'e', 9, 4.5, 6.3, 6.8, 3.4, 9]\n",
            "[1.1, 2.1, 3.8, 3.8, 3.8, 3.8, 3.1, 4.5, 6.3, 6.8, 3.4, 9, 'L', 'o', 'v', 'e', 4.5, 6.3, 6.8, 3.4, 9, 'L', 'o', 'v', 'e', 4.5, 6.3, 6.8, 3.4, 9, 'L', 'o', 'v', 'e', 9, 4.5, 6.3, 6.8, 3.4, 9, 'L', 'o', 'v', 'e']\n"
          ]
        },
        {
          "ename": "TypeError",
          "evalue": "ignored",
          "output_type": "error",
          "traceback": [
            "\u001b[0;31m---------------------------------------------------------------------------\u001b[0m",
            "\u001b[0;31mTypeError\u001b[0m                                 Traceback (most recent call last)",
            "\u001b[0;32m<ipython-input-73-8394b50477d2>\u001b[0m in \u001b[0;36m<module>\u001b[0;34m()\u001b[0m\n\u001b[1;32m      9\u001b[0m \u001b[0mab\u001b[0m\u001b[0;34m.\u001b[0m\u001b[0mextend\u001b[0m\u001b[0;34m(\u001b[0m\u001b[0;34m'Love'\u001b[0m\u001b[0;34m)\u001b[0m\u001b[0;34m\u001b[0m\u001b[0;34m\u001b[0m\u001b[0m\n\u001b[1;32m     10\u001b[0m \u001b[0mprint\u001b[0m\u001b[0;34m(\u001b[0m\u001b[0mab\u001b[0m\u001b[0;34m)\u001b[0m\u001b[0;34m\u001b[0m\u001b[0;34m\u001b[0m\u001b[0m\n\u001b[0;32m---> 11\u001b[0;31m \u001b[0mab\u001b[0m\u001b[0;34m.\u001b[0m\u001b[0mextend\u001b[0m\u001b[0;34m(\u001b[0m\u001b[0;36m9\u001b[0m\u001b[0;34m)\u001b[0m \u001b[0;31m#scaler value not able to extend\u001b[0m\u001b[0;34m\u001b[0m\u001b[0;34m\u001b[0m\u001b[0m\n\u001b[0m\u001b[1;32m     12\u001b[0m \u001b[0mprint\u001b[0m\u001b[0;34m(\u001b[0m\u001b[0mab\u001b[0m\u001b[0;34m)\u001b[0m\u001b[0;34m\u001b[0m\u001b[0;34m\u001b[0m\u001b[0m\n",
            "\u001b[0;31mTypeError\u001b[0m: 'int' object is not iterable"
          ]
        }
      ],
      "source": [
        "ab.extend([4.5,6.3,6.8]) \n",
        "print(ab)\n",
        "ab.insert(2,3.8)\n",
        "print(ab)\n",
        "ab.append(3.4)\n",
        "print(ab)\n",
        "ab.extend([9]) \n",
        "print(ab)\n",
        "ab.extend('Love')\n",
        "print(ab)\n",
        "ab.extend(9) #scaler value not able to extend \n",
        "print(ab)"
      ]
    },
    {
      "cell_type": "code",
      "execution_count": null,
      "metadata": {
        "colab": {
          "base_uri": "https://localhost:8080/"
        },
        "id": "_UwXjdXi05ys",
        "outputId": "a7431f97-1c58-4b5f-b149-7fd6a0127690"
      },
      "outputs": [
        {
          "data": {
            "text/plain": [
              "['Crack', 'Logic']"
            ]
          },
          "execution_count": 74,
          "metadata": {},
          "output_type": "execute_result"
        }
      ],
      "source": [
        "Str='Crack#Logic'\n",
        "Str.split('#')"
      ]
    },
    {
      "cell_type": "code",
      "execution_count": null,
      "metadata": {
        "id": "gRK_Qtha33GA"
      },
      "outputs": [],
      "source": [
        "class A:\n",
        "  def func(self):\n",
        "    print(\"Hi\")\n",
        "  \n",
        "  def monkey(self):\n",
        "    print (\"Hi, monkey\")"
      ]
    },
    {
      "cell_type": "code",
      "execution_count": null,
      "metadata": {
        "colab": {
          "base_uri": "https://localhost:8080/"
        },
        "id": "CqelLym26wOp",
        "outputId": "8667fad0-3f6b-4ad6-fa55-a0a3ec0d1ad9"
      },
      "outputs": [
        {
          "name": "stdout",
          "output_type": "stream",
          "text": [
            "Looking in indexes: https://pypi.org/simple, https://us-python.pkg.dev/colab-wheels/public/simple/\n",
            "Collecting monk\n",
            "  Downloading monk-0.13.2.tar.gz (15 kB)\n",
            "Building wheels for collected packages: monk\n",
            "  Building wheel for monk (setup.py) ... \u001b[?25l\u001b[?25hdone\n",
            "  Created wheel for monk: filename=monk-0.13.2-py3-none-any.whl size=21358 sha256=1c5227058590f2582e1195e3e6828f798096f44213fbb775d62dfaf7f91ab1d1\n",
            "  Stored in directory: /root/.cache/pip/wheels/14/04/fa/2464a7d5c48bebbb4ba2e52d915a1060284f8178933e9a3445\n",
            "Successfully built monk\n",
            "Installing collected packages: monk\n",
            "Successfully installed monk-0.13.2\n"
          ]
        }
      ],
      "source": [
        "!pip install monk"
      ]
    },
    {
      "cell_type": "code",
      "execution_count": null,
      "metadata": {
        "colab": {
          "base_uri": "https://localhost:8080/"
        },
        "id": "j3Vbp0r95DDY",
        "outputId": "33c9ae3a-3417-4150-fd66-59a7eff588b3"
      },
      "outputs": [
        {
          "name": "stdout",
          "output_type": "stream",
          "text": [
            "monkey_f() is being called\n"
          ]
        }
      ],
      "source": [
        "import monk\n",
        "def monkey_f(self):\n",
        "     print (\"monkey_f() is being called\")\n",
        "   \n",
        "A.func = monkey_f\n",
        "obj = A()\n",
        "  \n",
        "# calling function \"func\" whose address got replaced\n",
        "# with function \"monkey_f()\"\n",
        "obj.func()"
      ]
    },
    {
      "cell_type": "code",
      "execution_count": null,
      "metadata": {
        "id": "TvG1RbBt60i5"
      },
      "outputs": [],
      "source": [
        "class A:\n",
        "  def func(self):\n",
        "    print (\"func() is being called\")"
      ]
    },
    {
      "cell_type": "code",
      "execution_count": null,
      "metadata": {
        "colab": {
          "base_uri": "https://localhost:8080/"
        },
        "id": "LoQqAy7268Db",
        "outputId": "476e62f3-1505-44e7-da73-f05ca9b5a29f"
      },
      "outputs": [
        {
          "name": "stdout",
          "output_type": "stream",
          "text": [
            "Enter the number:53\n",
            "Mention number is prime\n"
          ]
        }
      ],
      "source": [
        "a=int(input('Enter the number:'))\n",
        "if a>1:\n",
        "    for x in range(2,a):\n",
        "        if(a%x)==0:\n",
        "            print('Mention number is  not prime')\n",
        "            break\n",
        "            \n",
        "    else:\n",
        "        print('Mention number is prime')\n",
        "else:\n",
        "    print('Not prime number')"
      ]
    },
    {
      "cell_type": "code",
      "execution_count": 3,
      "metadata": {
        "colab": {
          "base_uri": "https://localhost:8080/"
        },
        "id": "o_uCyCKTo1W-",
        "outputId": "282f1ac2-6c07-4e02-9007-c5ccca6dbd4a"
      },
      "outputs": [
        {
          "name": "stdout",
          "output_type": "stream",
          "text": [
            "11 13 17 19 23 29 31 37 41 43 47 53 59 61 67 71 73 79 83 89 97 "
          ]
        }
      ],
      "source": [
        "b=100\n",
        "for i in range(a,b+1):\n",
        "    j=2\n",
        "    counter=0\n",
        "    while j<i:\n",
        "        if i%j==0:\n",
        "            counter=1\n",
        "            j=j+1\n",
        "        else:\n",
        "            j=j+1\n",
        "    if counter==0:\n",
        "        print(str(i),end=' ')\n",
        "    else:\n",
        "        counter=0"
      ]
    },
    {
      "cell_type": "markdown",
      "metadata": {
        "id": "OEf9O8yJVK7r"
      },
      "source": [
        "### Palindrom program"
      ]
    },
    {
      "cell_type": "code",
      "execution_count": null,
      "metadata": {
        "id": "BbjrCiUKVHWY"
      },
      "outputs": [],
      "source": [
        "input1=input('Enter the number:')\n",
        "if input1==str(input1)[::-1]:\n",
        "    print('Enter number is palindrom')\n",
        "else:\n",
        "    print('Please enter valid number')"
      ]
    },
    {
      "cell_type": "code",
      "execution_count": null,
      "metadata": {
        "id": "MqBGpjJQZjIZ"
      },
      "outputs": [],
      "source": [
        "a='MADAM'\n",
        "b=a[::-1]"
      ]
    },
    {
      "cell_type": "code",
      "execution_count": null,
      "metadata": {
        "colab": {
          "base_uri": "https://localhost:8080/"
        },
        "id": "pfScj_saZrx6",
        "outputId": "ffdc58e0-58f7-4448-80c3-f3bc40268a9a"
      },
      "outputs": [
        {
          "name": "stdout",
          "output_type": "stream",
          "text": [
            "Palindrom\n"
          ]
        }
      ],
      "source": [
        "if a==b:\n",
        "  print('Palindrom')\n",
        "else:\n",
        "  print('NOt palindrom')"
      ]
    },
    {
      "cell_type": "code",
      "execution_count": null,
      "metadata": {
        "id": "VnVwE88XaHR8"
      },
      "outputs": [],
      "source": [
        "a=open('/content/ss.txt')\n"
      ]
    },
    {
      "cell_type": "code",
      "execution_count": null,
      "metadata": {
        "id": "q8X6FXgCaRMO"
      },
      "outputs": [],
      "source": [
        "count =0\n",
        "text=a.fetch()"
      ]
    },
    {
      "cell_type": "code",
      "execution_count": null,
      "metadata": {
        "colab": {
          "base_uri": "https://localhost:8080/"
        },
        "id": "R7F-PNNMsshl",
        "outputId": "16c33fb1-e728-49ee-ce09-75e3136d2ab8"
      },
      "outputs": [
        {
          "name": "stdout",
          "output_type": "stream",
          "text": [
            "4\n",
            "append 1\n",
            "append 3\n",
            "insert 3 1\n",
            "print\n",
            "{'append': [3.0], 'insert': [3.0, 1.0], 'print': []}\n"
          ]
        }
      ],
      "source": [
        "n = int(input())\n",
        "operation = {}\n",
        "for _ in range(n):\n",
        "  name, *line = input().split()\n",
        "  scores = list(map(float, line))\n",
        "  operation[name] =scores\n",
        "\n",
        "print(operation)"
      ]
    },
    {
      "cell_type": "code",
      "execution_count": null,
      "metadata": {
        "colab": {
          "base_uri": "https://localhost:8080/"
        },
        "id": "DNQHDsZm3-DN",
        "outputId": "b316bd80-558c-4fc1-9bca-1550a33a744e"
      },
      "outputs": [
        {
          "name": "stdout",
          "output_type": "stream",
          "text": [
            "12\n",
            "insert 0 5\n",
            "insert 1 10\n",
            "insert 0 6\n",
            "print\n",
            "[6, 5, 10]\n",
            "remove 6\n",
            "append 9\n",
            "append 1\n",
            "sort\n",
            "print\n",
            "[1, 5, 9, 10]\n",
            "pop\n",
            "reverse\n",
            "print\n",
            "[9, 5, 1]\n"
          ]
        }
      ],
      "source": [
        "###perform multiple list operation at once\n",
        "if __name__ == '__main__':\n",
        "    N = int(input())\n",
        "\n",
        "    Output = [];\n",
        "    for i in range(0,N):\n",
        "        user_ip = input().split();\n",
        "        if user_ip[0] == \"print\":\n",
        "            print(Output)\n",
        "        elif user_ip[0] == \"insert\":\n",
        "            Output.insert(int(user_ip[1]),int(user_ip[2]))\n",
        "        elif user_ip[0] == \"remove\":\n",
        "            Output.remove(int(user_ip[1]))\n",
        "        elif user_ip[0] == \"pop\":\n",
        "            Output.pop();\n",
        "        elif user_ip[0] == \"append\":\n",
        "            Output.append(int(user_ip[1]))\n",
        "        elif user_ip[0] == \"sort\":\n",
        "            Output.sort();\n",
        "        else:\n",
        "            Output.reverse();"
      ]
    },
    {
      "cell_type": "code",
      "execution_count": null,
      "metadata": {
        "colab": {
          "base_uri": "https://localhost:8080/"
        },
        "id": "3Ytkm8Ns397t",
        "outputId": "579ff07c-da7b-4fda-a90a-19d56b987daf"
      },
      "outputs": [
        {
          "name": "stdout",
          "output_type": "stream",
          "text": [
            "2 \n",
            "2 3 4\n",
            "3713082714463740756\n"
          ]
        }
      ],
      "source": [
        "#find hash value of given tuple\n",
        "n = int(input())\n",
        "integer_list = list(map(int, input().split()))[:n]\n",
        "in_value=tuple(integer_list)\n",
        "print(hash(in_value));"
      ]
    },
    {
      "cell_type": "code",
      "execution_count": null,
      "metadata": {
        "id": "FeXCGVOT393u"
      },
      "outputs": [],
      "source": [
        "import numpy as np\n",
        "arr1 = np.array([1, 3, 2, 4, 5]) #which computes the indirect sorting of an array. Sorting of indices done in descending order"
      ]
    },
    {
      "cell_type": "code",
      "execution_count": null,
      "metadata": {
        "id": "SeEA6pyFGIJQ"
      },
      "outputs": [],
      "source": [
        "arr = np.array([ 7, 3, 9,4])"
      ]
    },
    {
      "cell_type": "code",
      "execution_count": null,
      "metadata": {
        "id": "fjCnt0Sg9nby"
      },
      "outputs": [],
      "source": [
        "b=arr.argsort()[-3:][::-1]"
      ]
    },
    {
      "cell_type": "code",
      "execution_count": null,
      "metadata": {
        "id": "7bzDBFeDGwg0"
      },
      "outputs": [],
      "source": [
        "b=arr1.argsort()"
      ]
    },
    {
      "cell_type": "code",
      "execution_count": null,
      "metadata": {
        "colab": {
          "base_uri": "https://localhost:8080/"
        },
        "id": "RZx55u1xHPBG",
        "outputId": "2eac55c6-3004-492c-9613-d3b22ae0ee17"
      },
      "outputs": [
        {
          "data": {
            "text/plain": [
              "array([0, 2, 1, 3, 4])"
            ]
          },
          "execution_count": 115,
          "metadata": {},
          "output_type": "execute_result"
        }
      ],
      "source": [
        "b"
      ]
    },
    {
      "cell_type": "code",
      "execution_count": null,
      "metadata": {
        "colab": {
          "base_uri": "https://localhost:8080/"
        },
        "id": "RDkL3RSPG0SH",
        "outputId": "d0b78302-f05f-4640-da27-26df16013c28"
      },
      "outputs": [
        {
          "data": {
            "text/plain": [
              "array([1, 2, 3, 4, 5])"
            ]
          },
          "execution_count": 104,
          "metadata": {},
          "output_type": "execute_result"
        }
      ],
      "source": [
        "arr1[b]"
      ]
    },
    {
      "cell_type": "code",
      "execution_count": null,
      "metadata": {
        "id": "KeIPvZ5DIaUB"
      },
      "outputs": [],
      "source": [
        "arr = np.array([7,3,9,4])"
      ]
    },
    {
      "cell_type": "code",
      "execution_count": null,
      "metadata": {
        "id": "gWEjpXsmGQwy"
      },
      "outputs": [],
      "source": [
        "b=arr.argsort()"
      ]
    },
    {
      "cell_type": "code",
      "execution_count": null,
      "metadata": {
        "colab": {
          "base_uri": "https://localhost:8080/"
        },
        "id": "tFwLiya9GouZ",
        "outputId": "a8cfc66c-3a59-4aa4-bf3a-b46c3f44907b"
      },
      "outputs": [
        {
          "data": {
            "text/plain": [
              "array([1, 3, 0, 2])"
            ]
          },
          "execution_count": 112,
          "metadata": {},
          "output_type": "execute_result"
        }
      ],
      "source": [
        "# 7, 3, 9,4\n",
        "#9,7,4,3\n",
        "b"
      ]
    },
    {
      "cell_type": "code",
      "execution_count": null,
      "metadata": {
        "colab": {
          "base_uri": "https://localhost:8080/"
        },
        "id": "OLOSAEio9qYn",
        "outputId": "608e01a5-43b0-43b5-bdf8-4c9667b95447"
      },
      "outputs": [
        {
          "name": "stdout",
          "output_type": "stream",
          "text": [
            "[0 1 1 2 4 5 9]\n"
          ]
        }
      ],
      "source": [
        "print(arr[b])"
      ]
    },
    {
      "cell_type": "code",
      "execution_count": null,
      "metadata": {
        "id": "2KNLRdHL_dzr"
      },
      "outputs": [],
      "source": [
        "def fact(n):\n",
        "  if n<0:\n",
        "    return 'Enter valid no'\n",
        "  elif n==0:\n",
        "    return 1\n",
        "  return n* fact(n-1)"
      ]
    },
    {
      "cell_type": "code",
      "execution_count": null,
      "metadata": {
        "colab": {
          "base_uri": "https://localhost:8080/"
        },
        "id": "zxV5XBq5Npqs",
        "outputId": "107150f3-5bd5-45f2-fb34-bbf8b38c4b43"
      },
      "outputs": [
        {
          "data": {
            "text/plain": [
              "3628800"
            ]
          },
          "execution_count": 128,
          "metadata": {},
          "output_type": "execute_result"
        }
      ],
      "source": [
        "fact(10)"
      ]
    },
    {
      "cell_type": "markdown",
      "metadata": {
        "id": "XdZAS4YBNyWm"
      },
      "source": [
        "### Factorial of number without recursion method"
      ]
    },
    {
      "cell_type": "code",
      "execution_count": null,
      "metadata": {
        "colab": {
          "base_uri": "https://localhost:8080/"
        },
        "id": "ZvwNWIiJNtz1",
        "outputId": "9ff7b853-4e61-4ef8-d428-64d2d5aecb35"
      },
      "outputs": [
        {
          "name": "stdout",
          "output_type": "stream",
          "text": [
            "Factorial of 10 number is: 3628800\n"
          ]
        }
      ],
      "source": [
        "x=10\n",
        "y=1\n",
        "for i in range(1,x+1):\n",
        "    y*=i\n",
        "print('Factorial of',i,'number is:',y)"
      ]
    },
    {
      "cell_type": "code",
      "execution_count": null,
      "metadata": {
        "colab": {
          "base_uri": "https://localhost:8080/"
        },
        "id": "-kLt2io9_eiI",
        "outputId": "50c4976e-030d-4e87-8113-10dc43e12dae"
      },
      "outputs": [
        {
          "name": "stdout",
          "output_type": "stream",
          "text": [
            "Counter({1: 4, 3: 2, 2: 2, 4: 1})\n"
          ]
        }
      ],
      "source": [
        "from collections import Counter\n",
        "cnt=Counter([1,3,2,1,4,2,1,3,1])\n",
        "print(cnt)"
      ]
    },
    {
      "cell_type": "code",
      "execution_count": null,
      "metadata": {
        "colab": {
          "base_uri": "https://localhost:8080/"
        },
        "id": "Htr_-5aeAnbF",
        "outputId": "d8139ef6-3119-40a3-a293-686a8e706c51"
      },
      "outputs": [
        {
          "name": "stdout",
          "output_type": "stream",
          "text": [
            "Flter method [4, 5]\n",
            "map function [1, 8, 27, 64, 125]\n",
            "Reduce function -13\n"
          ]
        }
      ],
      "source": [
        "from functools import reduce\n",
        "print('Flter method',list(filter(lambda x:x>3,[1,2,3,4,5])))\n",
        "print('map function',list(map(lambda x:x**3,[1,2,3,4,5])))\n",
        "print('Reduce function',reduce(lambda x,y:x-y,[1,2,3,4,5]))"
      ]
    },
    {
      "cell_type": "code",
      "execution_count": null,
      "metadata": {
        "colab": {
          "base_uri": "https://localhost:8080/"
        },
        "id": "73UChXFOTd44",
        "outputId": "3ac09e1f-526b-43e3-8829-53c31235ecae"
      },
      "outputs": [
        {
          "data": {
            "text/plain": [
              "[5, 10, 100, 9, 24]"
            ]
          },
          "execution_count": 138,
          "metadata": {},
          "output_type": "execute_result"
        }
      ],
      "source": [
        "l=[1,2,5,10,3,100,9,24]\n",
        "list(filter(lambda x:x>4,l))"
      ]
    },
    {
      "cell_type": "code",
      "execution_count": null,
      "metadata": {
        "colab": {
          "base_uri": "https://localhost:8080/"
        },
        "id": "SBEGlAJwCoDx",
        "outputId": "0dbe9b04-7430-4c6b-f829-2b7e8146eca1"
      },
      "outputs": [
        {
          "data": {
            "text/plain": [
              "['1', '2', '3', '4', '5']"
            ]
          },
          "execution_count": 120,
          "metadata": {},
          "output_type": "execute_result"
        }
      ],
      "source": [
        "'1,2,3,4,5'.split(',')"
      ]
    },
    {
      "cell_type": "code",
      "execution_count": null,
      "metadata": {
        "colab": {
          "base_uri": "https://localhost:8080/",
          "height": 35
        },
        "id": "UNBhMnqeCsDu",
        "outputId": "64f5a02a-ad91-419a-8ba8-ffc271bade6c"
      },
      "outputs": [
        {
          "data": {
            "application/vnd.google.colaboratory.intrinsic+json": {
              "type": "string"
            },
            "text/plain": [
              "'1,2,3,4,5'"
            ]
          },
          "execution_count": 121,
          "metadata": {},
          "output_type": "execute_result"
        }
      ],
      "source": [
        "','.join('12345')"
      ]
    },
    {
      "cell_type": "markdown",
      "metadata": {},
      "source": [
        "#### Python Closure"
      ]
    },
    {
      "cell_type": "code",
      "execution_count": null,
      "metadata": {
        "id": "vi8xSURAFXz2"
      },
      "outputs": [],
      "source": [
        "def A(x):\n",
        "    def B():\n",
        "        print(x)\n",
        "    return B"
      ]
    },
    {
      "cell_type": "code",
      "execution_count": null,
      "metadata": {
        "id": "nUxZ9MDxFZwj"
      },
      "outputs": [],
      "source": [
        "outerfunction=A('7')"
      ]
    },
    {
      "cell_type": "code",
      "execution_count": null,
      "metadata": {
        "colab": {
          "base_uri": "https://localhost:8080/"
        },
        "id": "G6wzEF5ZFeML",
        "outputId": "4d3bc8e5-57e9-423e-8511-6b71a21deece"
      },
      "outputs": [
        {
          "name": "stdout",
          "output_type": "stream",
          "text": [
            "7\n"
          ]
        }
      ],
      "source": [
        "outerfunction()"
      ]
    },
    {
      "cell_type": "markdown",
      "metadata": {
        "id": "urNxem3eM9g4"
      },
      "source": [
        "Python's namedtuple() is a factory function available in collections . It allows you to create tuple subclasses with named fields. You can access the values in a given named tuple using the dot notation and the field names"
      ]
    },
    {
      "cell_type": "code",
      "execution_count": null,
      "metadata": {
        "id": "kMu6q1ovFgPb"
      },
      "outputs": [],
      "source": [
        "from collections import namedtuple\n",
        "student=namedtuple('result','Hindi Eglish Marathi SC')"
      ]
    },
    {
      "cell_type": "code",
      "execution_count": null,
      "metadata": {
        "colab": {
          "base_uri": "https://localhost:8080/"
        },
        "id": "QTgoEpFTHJkK",
        "outputId": "aa1f7dc0-725d-4d47-f5ae-737e6234600a"
      },
      "outputs": [
        {
          "data": {
            "text/plain": [
              "30"
            ]
          },
          "execution_count": 133,
          "metadata": {},
          "output_type": "execute_result"
        }
      ],
      "source": [
        "ayushi=student(Hindi=30, Eglish=80, Marathi=70,SC=20)\n",
        "ayushi.Hindi"
      ]
    },
    {
      "cell_type": "code",
      "execution_count": null,
      "metadata": {
        "id": "58WFTyM9JGyJ"
      },
      "outputs": [],
      "source": [
        "import scipy\n",
        "import numpy as np\n",
        "import math\n",
        "from scipy import special"
      ]
    },
    {
      "cell_type": "code",
      "execution_count": null,
      "metadata": {
        "colab": {
          "base_uri": "https://localhost:8080/"
        },
        "id": "zJEj4quVJNcX",
        "outputId": "831118cb-3e66-48a2-b432-13bc8ddf959b"
      },
      "outputs": [
        {
          "name": "stdout",
          "output_type": "stream",
          "text": [
            "Math Factorial 120\n",
            "Scipy Factorial 120\n",
            "Numpy Factorial 120\n",
            "Math Factorial 6.0\n"
          ]
        }
      ],
      "source": [
        "print('Math Factorial',math.factorial(5));\n",
        "print('Scipy Factorial',scipy.math.factorial(5));\n",
        "print('Numpy Factorial',np.math.factorial(5));\n",
        "print('Math Factorial',scipy.special.factorial(3));\n"
      ]
    },
    {
      "cell_type": "code",
      "execution_count": null,
      "metadata": {
        "colab": {
          "base_uri": "https://localhost:8080/"
        },
        "id": "b8OzS50uJrNb",
        "outputId": "a67313ea-9c62-4e67-c0c2-8fe01dbc1796"
      },
      "outputs": [
        {
          "data": {
            "text/plain": [
              "[('a', 1), ('b', 2), ('c', 3)]"
            ]
          },
          "execution_count": 100,
          "metadata": {},
          "output_type": "execute_result"
        }
      ],
      "source": [
        "list(zip(('a','b','c'),(1,2,3)))"
      ]
    },
    {
      "cell_type": "code",
      "execution_count": null,
      "metadata": {
        "colab": {
          "base_uri": "https://localhost:8080/"
        },
        "id": "cs-8h_tnKqqo",
        "outputId": "ee07b86c-409c-40be-dfcd-1ede1776cdd2"
      },
      "outputs": [
        {
          "data": {
            "text/plain": [
              "[('a', 1), ('b', 2), ('c', 3)]"
            ]
          },
          "execution_count": 99,
          "metadata": {},
          "output_type": "execute_result"
        }
      ],
      "source": [
        "list(zip(['a','b','c'],[1,2,3]))"
      ]
    },
    {
      "cell_type": "code",
      "execution_count": null,
      "metadata": {
        "colab": {
          "base_uri": "https://localhost:8080/"
        },
        "id": "55I00LQyOjRR",
        "outputId": "d9eb2abf-718b-4b62-c273-b9fc8367ea6e"
      },
      "outputs": [
        {
          "name": "stdout",
          "output_type": "stream",
          "text": [
            "[5, 10, 100, 9, 24]\n"
          ]
        }
      ],
      "source": [
        "l1=[i for i in l if i>=5]\n",
        "print(l1)"
      ]
    },
    {
      "cell_type": "code",
      "execution_count": null,
      "metadata": {
        "colab": {
          "base_uri": "https://localhost:8080/"
        },
        "id": "wBQLuICOOrnp",
        "outputId": "58e744b9-a637-42a3-d5f3-730fb975a612"
      },
      "outputs": [
        {
          "data": {
            "text/plain": [
              "[10, 100, 9, 24]"
            ]
          },
          "execution_count": 105,
          "metadata": {},
          "output_type": "execute_result"
        }
      ],
      "source": []
    },
    {
      "cell_type": "code",
      "execution_count": null,
      "metadata": {
        "id": "YTRbZhaqO5Xi"
      },
      "outputs": [],
      "source": [
        "s='aaa bbb ccc ddd eee'"
      ]
    },
    {
      "cell_type": "code",
      "execution_count": null,
      "metadata": {
        "colab": {
          "base_uri": "https://localhost:8080/",
          "height": 35
        },
        "id": "bipTWLJwO7xH",
        "outputId": "cf06987a-7a71-47bd-8283-841c6d2a672c"
      },
      "outputs": [
        {
          "data": {
            "application/vnd.google.colaboratory.intrinsic+json": {
              "type": "string"
            },
            "text/plain": [
              "'aaabbbcccdddeee'"
            ]
          },
          "execution_count": 142,
          "metadata": {},
          "output_type": "execute_result"
        }
      ],
      "source": [
        "''.join(s.split())"
      ]
    },
    {
      "cell_type": "markdown",
      "metadata": {},
      "source": [
        "#### Remove space from given string"
      ]
    },
    {
      "cell_type": "code",
      "execution_count": null,
      "metadata": {},
      "outputs": [],
      "source": [
        "for i in s:\n",
        "  if i.isspace():\n",
        "    pass\n",
        "  else:\n",
        "    print(i,end='')"
      ]
    },
    {
      "cell_type": "markdown",
      "metadata": {},
      "source": [
        "#### Remove space from given string without using any inbuilt function"
      ]
    },
    {
      "cell_type": "code",
      "execution_count": null,
      "metadata": {},
      "outputs": [],
      "source": [
        "for i in s:\n",
        "  if i==' ':\n",
        "    pass\n",
        "  else:\n",
        "    print(i,end='')"
      ]
    },
    {
      "cell_type": "code",
      "execution_count": null,
      "metadata": {
        "colab": {
          "base_uri": "https://localhost:8080/"
        },
        "id": "hApla98rRbUG",
        "outputId": "0ae5415a-1a09-47ca-967f-c91692a97ad1"
      },
      "outputs": [
        {
          "data": {
            "text/plain": [
              "['a', 'a', 'a', 'b', 'b', 'b', 'c', 'c', 'c', 'd', 'd', 'd', 'e', 'e', 'e']"
            ]
          },
          "execution_count": 145,
          "metadata": {},
          "output_type": "execute_result"
        }
      ],
      "source": [
        "[i for i in s if i!=' ']"
      ]
    },
    {
      "cell_type": "code",
      "execution_count": null,
      "metadata": {
        "colab": {
          "base_uri": "https://localhost:8080/"
        },
        "id": "RklTOcTSTyDN",
        "outputId": "bd8dbddf-c228-415c-86a9-46accd0b9719"
      },
      "outputs": [
        {
          "data": {
            "text/plain": [
              "['a',\n",
              " 'a',\n",
              " 'a',\n",
              " ' ',\n",
              " 'b',\n",
              " 'b',\n",
              " 'b',\n",
              " ' ',\n",
              " 'c',\n",
              " 'c',\n",
              " 'c',\n",
              " ' ',\n",
              " 'd',\n",
              " 'd',\n",
              " 'd',\n",
              " ' ',\n",
              " 'e',\n",
              " 'e',\n",
              " 'e']"
            ]
          },
          "execution_count": 146,
          "metadata": {},
          "output_type": "execute_result"
        }
      ],
      "source": [
        "[i for i in s if i!='']"
      ]
    },
    {
      "cell_type": "code",
      "execution_count": null,
      "metadata": {
        "colab": {
          "base_uri": "https://localhost:8080/"
        },
        "id": "UNl2cj6BaqOQ",
        "outputId": "1934e97f-cfb9-4eae-e623-2f00739e11c2"
      },
      "outputs": [
        {
          "name": "stdout",
          "output_type": "stream",
          "text": [
            "nitesh\n",
            "'nitesh'\n"
          ]
        }
      ],
      "source": [
        "a='nitesh'\n",
        "print(str(a))\n",
        "print(repr(a))"
      ]
    },
    {
      "cell_type": "code",
      "execution_count": null,
      "metadata": {
        "colab": {
          "base_uri": "https://localhost:8080/"
        },
        "id": "PBXVtbgBbHGo",
        "outputId": "57b2dcab-8a43-4003-e3f3-04e5c50533cc"
      },
      "outputs": [
        {
          "data": {
            "text/plain": [
              "1"
            ]
          },
          "execution_count": 153,
          "metadata": {},
          "output_type": "execute_result"
        }
      ],
      "source": [
        "9---8"
      ]
    },
    {
      "cell_type": "code",
      "execution_count": null,
      "metadata": {
        "colab": {
          "base_uri": "https://localhost:8080/"
        },
        "id": "zrNnV4HZk1TD",
        "outputId": "b11ac112-8eec-4814-c303-e3dba8206935"
      },
      "outputs": [
        {
          "data": {
            "text/plain": [
              "0    6\n",
              "1    3\n",
              "2    6\n",
              "dtype: int64"
            ]
          },
          "execution_count": 154,
          "metadata": {},
          "output_type": "execute_result"
        }
      ],
      "source": [
        "import pandas as pd\n",
        "a=['Nitesh','sam','Pandey']\n",
        "data=pd.Series(a)\n",
        "\n",
        "data.map(lambda b:len(b))\n"
      ]
    },
    {
      "cell_type": "code",
      "execution_count": null,
      "metadata": {
        "id": "YXj0Wasek1PP"
      },
      "outputs": [],
      "source": [
        "data = {\n",
        "  \"calories\": [420, 380, 390],\n",
        "  \"duration\": [50, 40, 45]\n",
        "}"
      ]
    },
    {
      "cell_type": "code",
      "execution_count": null,
      "metadata": {
        "id": "qU67p-Vdk1LS"
      },
      "outputs": [],
      "source": [
        "df = pd.DataFrame(data)"
      ]
    },
    {
      "cell_type": "code",
      "execution_count": null,
      "metadata": {
        "colab": {
          "base_uri": "https://localhost:8080/"
        },
        "id": "sJrfpLfMk1Hq",
        "outputId": "e5e30994-0e44-48e1-8369-b2a6a41e5746"
      },
      "outputs": [
        {
          "data": {
            "text/plain": [
              "Index(['calories', 'duration'], dtype='object')"
            ]
          },
          "execution_count": 157,
          "metadata": {},
          "output_type": "execute_result"
        }
      ],
      "source": [
        "df.columns"
      ]
    },
    {
      "cell_type": "code",
      "execution_count": null,
      "metadata": {
        "colab": {
          "base_uri": "https://localhost:8080/"
        },
        "id": "7sL6uViMk1EE",
        "outputId": "82be2b78-7b53-44e1-da98-e96d9dc3c8bd"
      },
      "outputs": [
        {
          "data": {
            "text/plain": [
              "['calories', 'duration']"
            ]
          },
          "execution_count": 158,
          "metadata": {},
          "output_type": "execute_result"
        }
      ],
      "source": [
        "list(df)"
      ]
    },
    {
      "cell_type": "code",
      "execution_count": null,
      "metadata": {
        "colab": {
          "base_uri": "https://localhost:8080/"
        },
        "id": "PgwmW7Qwk00P",
        "outputId": "b4ee2f39-7186-4027-d96f-7794d407586e"
      },
      "outputs": [
        {
          "data": {
            "text/plain": [
              "['calories', 'duration']"
            ]
          },
          "execution_count": 159,
          "metadata": {},
          "output_type": "execute_result"
        }
      ],
      "source": [
        "df.columns.tolist()"
      ]
    },
    {
      "cell_type": "code",
      "execution_count": null,
      "metadata": {
        "colab": {
          "base_uri": "https://localhost:8080/"
        },
        "id": "YnVvMiZsoHwJ",
        "outputId": "fe0a01eb-785d-44e4-d86e-d7eb53fc4ead"
      },
      "outputs": [
        {
          "data": {
            "text/plain": [
              "array([1, 2, 'a'], dtype=object)"
            ]
          },
          "execution_count": 162,
          "metadata": {},
          "output_type": "execute_result"
        }
      ],
      "source": [
        "pd.to_numeric([1,2,'a'],errors='ignore') #It will ignore all non-numeric values"
      ]
    },
    {
      "cell_type": "code",
      "execution_count": null,
      "metadata": {
        "colab": {
          "base_uri": "https://localhost:8080/"
        },
        "id": "xJswoM_LoPvD",
        "outputId": "465764c9-cf90-4f8b-fba0-314988374efc"
      },
      "outputs": [
        {
          "data": {
            "text/plain": [
              "array([ 1.,  2., nan])"
            ]
          },
          "execution_count": 163,
          "metadata": {},
          "output_type": "execute_result"
        }
      ],
      "source": [
        "pd.to_numeric([1,2,'a'],errors='coerce') #It will ignore all non-numeric values.It will replace all non-numeric values with NaN"
      ]
    },
    {
      "cell_type": "code",
      "execution_count": null,
      "metadata": {
        "id": "WPwyo1xmpVhX"
      },
      "outputs": [],
      "source": [
        "import numpy as np\n",
        "df = pd.DataFrame(np.random.randint(0, 10, size=(5, 6)),\n",
        "columns=['a10','a20','a25','b','c','d'])"
      ]
    },
    {
      "cell_type": "code",
      "execution_count": null,
      "metadata": {
        "colab": {
          "base_uri": "https://localhost:8080/",
          "height": 206
        },
        "id": "9OlOVxucpZhw",
        "outputId": "c6589f88-68db-4ae8-cd1b-1ae5d7e498fd"
      },
      "outputs": [
        {
          "data": {
            "text/html": [
              "\n",
              "  <div id=\"df-b93ce1f3-fd52-4c4d-b270-acade73d73ec\">\n",
              "    <div class=\"colab-df-container\">\n",
              "      <div>\n",
              "<style scoped>\n",
              "    .dataframe tbody tr th:only-of-type {\n",
              "        vertical-align: middle;\n",
              "    }\n",
              "\n",
              "    .dataframe tbody tr th {\n",
              "        vertical-align: top;\n",
              "    }\n",
              "\n",
              "    .dataframe thead th {\n",
              "        text-align: right;\n",
              "    }\n",
              "</style>\n",
              "<table border=\"1\" class=\"dataframe\">\n",
              "  <thead>\n",
              "    <tr style=\"text-align: right;\">\n",
              "      <th></th>\n",
              "      <th>b</th>\n",
              "      <th>c</th>\n",
              "      <th>d</th>\n",
              "    </tr>\n",
              "  </thead>\n",
              "  <tbody>\n",
              "    <tr>\n",
              "      <th>0</th>\n",
              "      <td>8</td>\n",
              "      <td>6</td>\n",
              "      <td>5</td>\n",
              "    </tr>\n",
              "    <tr>\n",
              "      <th>1</th>\n",
              "      <td>8</td>\n",
              "      <td>7</td>\n",
              "      <td>5</td>\n",
              "    </tr>\n",
              "    <tr>\n",
              "      <th>2</th>\n",
              "      <td>8</td>\n",
              "      <td>3</td>\n",
              "      <td>3</td>\n",
              "    </tr>\n",
              "    <tr>\n",
              "      <th>3</th>\n",
              "      <td>0</td>\n",
              "      <td>0</td>\n",
              "      <td>8</td>\n",
              "    </tr>\n",
              "    <tr>\n",
              "      <th>4</th>\n",
              "      <td>4</td>\n",
              "      <td>4</td>\n",
              "      <td>2</td>\n",
              "    </tr>\n",
              "  </tbody>\n",
              "</table>\n",
              "</div>\n",
              "      <button class=\"colab-df-convert\" onclick=\"convertToInteractive('df-b93ce1f3-fd52-4c4d-b270-acade73d73ec')\"\n",
              "              title=\"Convert this dataframe to an interactive table.\"\n",
              "              style=\"display:none;\">\n",
              "        \n",
              "  <svg xmlns=\"http://www.w3.org/2000/svg\" height=\"24px\"viewBox=\"0 0 24 24\"\n",
              "       width=\"24px\">\n",
              "    <path d=\"M0 0h24v24H0V0z\" fill=\"none\"/>\n",
              "    <path d=\"M18.56 5.44l.94 2.06.94-2.06 2.06-.94-2.06-.94-.94-2.06-.94 2.06-2.06.94zm-11 1L8.5 8.5l.94-2.06 2.06-.94-2.06-.94L8.5 2.5l-.94 2.06-2.06.94zm10 10l.94 2.06.94-2.06 2.06-.94-2.06-.94-.94-2.06-.94 2.06-2.06.94z\"/><path d=\"M17.41 7.96l-1.37-1.37c-.4-.4-.92-.59-1.43-.59-.52 0-1.04.2-1.43.59L10.3 9.45l-7.72 7.72c-.78.78-.78 2.05 0 2.83L4 21.41c.39.39.9.59 1.41.59.51 0 1.02-.2 1.41-.59l7.78-7.78 2.81-2.81c.8-.78.8-2.07 0-2.86zM5.41 20L4 18.59l7.72-7.72 1.47 1.35L5.41 20z\"/>\n",
              "  </svg>\n",
              "      </button>\n",
              "      \n",
              "  <style>\n",
              "    .colab-df-container {\n",
              "      display:flex;\n",
              "      flex-wrap:wrap;\n",
              "      gap: 12px;\n",
              "    }\n",
              "\n",
              "    .colab-df-convert {\n",
              "      background-color: #E8F0FE;\n",
              "      border: none;\n",
              "      border-radius: 50%;\n",
              "      cursor: pointer;\n",
              "      display: none;\n",
              "      fill: #1967D2;\n",
              "      height: 32px;\n",
              "      padding: 0 0 0 0;\n",
              "      width: 32px;\n",
              "    }\n",
              "\n",
              "    .colab-df-convert:hover {\n",
              "      background-color: #E2EBFA;\n",
              "      box-shadow: 0px 1px 2px rgba(60, 64, 67, 0.3), 0px 1px 3px 1px rgba(60, 64, 67, 0.15);\n",
              "      fill: #174EA6;\n",
              "    }\n",
              "\n",
              "    [theme=dark] .colab-df-convert {\n",
              "      background-color: #3B4455;\n",
              "      fill: #D2E3FC;\n",
              "    }\n",
              "\n",
              "    [theme=dark] .colab-df-convert:hover {\n",
              "      background-color: #434B5C;\n",
              "      box-shadow: 0px 1px 3px 1px rgba(0, 0, 0, 0.15);\n",
              "      filter: drop-shadow(0px 1px 2px rgba(0, 0, 0, 0.3));\n",
              "      fill: #FFFFFF;\n",
              "    }\n",
              "  </style>\n",
              "\n",
              "      <script>\n",
              "        const buttonEl =\n",
              "          document.querySelector('#df-b93ce1f3-fd52-4c4d-b270-acade73d73ec button.colab-df-convert');\n",
              "        buttonEl.style.display =\n",
              "          google.colab.kernel.accessAllowed ? 'block' : 'none';\n",
              "\n",
              "        async function convertToInteractive(key) {\n",
              "          const element = document.querySelector('#df-b93ce1f3-fd52-4c4d-b270-acade73d73ec');\n",
              "          const dataTable =\n",
              "            await google.colab.kernel.invokeFunction('convertToInteractive',\n",
              "                                                     [key], {});\n",
              "          if (!dataTable) return;\n",
              "\n",
              "          const docLinkHtml = 'Like what you see? Visit the ' +\n",
              "            '<a target=\"_blank\" href=https://colab.research.google.com/notebooks/data_table.ipynb>data table notebook</a>'\n",
              "            + ' to learn more about interactive tables.';\n",
              "          element.innerHTML = '';\n",
              "          dataTable['output_type'] = 'display_data';\n",
              "          await google.colab.output.renderOutput(dataTable, element);\n",
              "          const docLink = document.createElement('div');\n",
              "          docLink.innerHTML = docLinkHtml;\n",
              "          element.appendChild(docLink);\n",
              "        }\n",
              "      </script>\n",
              "    </div>\n",
              "  </div>\n",
              "  "
            ],
            "text/plain": [
              "   b  c  d\n",
              "0  8  6  5\n",
              "1  8  7  5\n",
              "2  8  3  3\n",
              "3  0  0  8\n",
              "4  4  4  2"
            ]
          },
          "execution_count": 165,
          "metadata": {},
          "output_type": "execute_result"
        }
      ],
      "source": [
        "df.filter(regex='(b|c|d)')"
      ]
    },
    {
      "cell_type": "code",
      "execution_count": null,
      "metadata": {
        "colab": {
          "base_uri": "https://localhost:8080/"
        },
        "id": "IRTL83C6p2Kj",
        "outputId": "b5171bdc-ce1e-4a4e-f4e9-b296248da588"
      },
      "outputs": [
        {
          "data": {
            "text/plain": [
              "{'a10': {0: 3, 1: 1, 2: 6, 3: 4, 4: 2},\n",
              " 'a20': {0: 1, 1: 9, 2: 0, 3: 3, 4: 7},\n",
              " 'a25': {0: 1, 1: 1, 2: 4, 3: 8, 4: 1},\n",
              " 'b': {0: 8, 1: 8, 2: 8, 3: 0, 4: 4},\n",
              " 'c': {0: 6, 1: 7, 2: 3, 3: 0, 4: 4},\n",
              " 'd': {0: 5, 1: 5, 2: 3, 3: 8, 4: 2}}"
            ]
          },
          "execution_count": 166,
          "metadata": {},
          "output_type": "execute_result"
        }
      ],
      "source": [
        "df.to_dict()"
      ]
    },
    {
      "cell_type": "code",
      "execution_count": null,
      "metadata": {
        "id": "RWuRgfEaqo7W"
      },
      "outputs": [],
      "source": [
        "det=df['c']"
      ]
    },
    {
      "cell_type": "code",
      "execution_count": null,
      "metadata": {
        "colab": {
          "base_uri": "https://localhost:8080/"
        },
        "id": "ZlFPQWeaqx2T",
        "outputId": "eda83254-6c46-415b-e27c-08ab3b152649"
      },
      "outputs": [
        {
          "data": {
            "text/plain": [
              "0     True\n",
              "1    False\n",
              "2     True\n",
              "3     True\n",
              "4     True\n",
              "Name: c, dtype: bool"
            ]
          },
          "execution_count": 168,
          "metadata": {},
          "output_type": "execute_result"
        }
      ],
      "source": [
        "det.between(0,6)"
      ]
    },
    {
      "cell_type": "code",
      "execution_count": null,
      "metadata": {
        "colab": {
          "base_uri": "https://localhost:8080/",
          "height": 206
        },
        "id": "zUrrG-ipWajr",
        "outputId": "0a02acfb-5bf7-4e6c-9420-5e28a634c635"
      },
      "outputs": [
        {
          "data": {
            "text/html": [
              "\n",
              "  <div id=\"df-908c057d-bd1a-4079-9666-d7555417dcf2\">\n",
              "    <div class=\"colab-df-container\">\n",
              "      <div>\n",
              "<style scoped>\n",
              "    .dataframe tbody tr th:only-of-type {\n",
              "        vertical-align: middle;\n",
              "    }\n",
              "\n",
              "    .dataframe tbody tr th {\n",
              "        vertical-align: top;\n",
              "    }\n",
              "\n",
              "    .dataframe thead th {\n",
              "        text-align: right;\n",
              "    }\n",
              "</style>\n",
              "<table border=\"1\" class=\"dataframe\">\n",
              "  <thead>\n",
              "    <tr style=\"text-align: right;\">\n",
              "      <th></th>\n",
              "      <th>a10</th>\n",
              "      <th>a20</th>\n",
              "      <th>a25</th>\n",
              "      <th>b</th>\n",
              "      <th>c</th>\n",
              "      <th>d</th>\n",
              "    </tr>\n",
              "  </thead>\n",
              "  <tbody>\n",
              "    <tr>\n",
              "      <th>0</th>\n",
              "      <td>3</td>\n",
              "      <td>1</td>\n",
              "      <td>1</td>\n",
              "      <td>8</td>\n",
              "      <td>6</td>\n",
              "      <td>5</td>\n",
              "    </tr>\n",
              "    <tr>\n",
              "      <th>1</th>\n",
              "      <td>1</td>\n",
              "      <td>9</td>\n",
              "      <td>1</td>\n",
              "      <td>8</td>\n",
              "      <td>7</td>\n",
              "      <td>5</td>\n",
              "    </tr>\n",
              "    <tr>\n",
              "      <th>2</th>\n",
              "      <td>6</td>\n",
              "      <td>0</td>\n",
              "      <td>4</td>\n",
              "      <td>8</td>\n",
              "      <td>3</td>\n",
              "      <td>3</td>\n",
              "    </tr>\n",
              "    <tr>\n",
              "      <th>3</th>\n",
              "      <td>4</td>\n",
              "      <td>3</td>\n",
              "      <td>8</td>\n",
              "      <td>0</td>\n",
              "      <td>0</td>\n",
              "      <td>8</td>\n",
              "    </tr>\n",
              "    <tr>\n",
              "      <th>4</th>\n",
              "      <td>2</td>\n",
              "      <td>7</td>\n",
              "      <td>1</td>\n",
              "      <td>4</td>\n",
              "      <td>4</td>\n",
              "      <td>2</td>\n",
              "    </tr>\n",
              "  </tbody>\n",
              "</table>\n",
              "</div>\n",
              "      <button class=\"colab-df-convert\" onclick=\"convertToInteractive('df-908c057d-bd1a-4079-9666-d7555417dcf2')\"\n",
              "              title=\"Convert this dataframe to an interactive table.\"\n",
              "              style=\"display:none;\">\n",
              "        \n",
              "  <svg xmlns=\"http://www.w3.org/2000/svg\" height=\"24px\"viewBox=\"0 0 24 24\"\n",
              "       width=\"24px\">\n",
              "    <path d=\"M0 0h24v24H0V0z\" fill=\"none\"/>\n",
              "    <path d=\"M18.56 5.44l.94 2.06.94-2.06 2.06-.94-2.06-.94-.94-2.06-.94 2.06-2.06.94zm-11 1L8.5 8.5l.94-2.06 2.06-.94-2.06-.94L8.5 2.5l-.94 2.06-2.06.94zm10 10l.94 2.06.94-2.06 2.06-.94-2.06-.94-.94-2.06-.94 2.06-2.06.94z\"/><path d=\"M17.41 7.96l-1.37-1.37c-.4-.4-.92-.59-1.43-.59-.52 0-1.04.2-1.43.59L10.3 9.45l-7.72 7.72c-.78.78-.78 2.05 0 2.83L4 21.41c.39.39.9.59 1.41.59.51 0 1.02-.2 1.41-.59l7.78-7.78 2.81-2.81c.8-.78.8-2.07 0-2.86zM5.41 20L4 18.59l7.72-7.72 1.47 1.35L5.41 20z\"/>\n",
              "  </svg>\n",
              "      </button>\n",
              "      \n",
              "  <style>\n",
              "    .colab-df-container {\n",
              "      display:flex;\n",
              "      flex-wrap:wrap;\n",
              "      gap: 12px;\n",
              "    }\n",
              "\n",
              "    .colab-df-convert {\n",
              "      background-color: #E8F0FE;\n",
              "      border: none;\n",
              "      border-radius: 50%;\n",
              "      cursor: pointer;\n",
              "      display: none;\n",
              "      fill: #1967D2;\n",
              "      height: 32px;\n",
              "      padding: 0 0 0 0;\n",
              "      width: 32px;\n",
              "    }\n",
              "\n",
              "    .colab-df-convert:hover {\n",
              "      background-color: #E2EBFA;\n",
              "      box-shadow: 0px 1px 2px rgba(60, 64, 67, 0.3), 0px 1px 3px 1px rgba(60, 64, 67, 0.15);\n",
              "      fill: #174EA6;\n",
              "    }\n",
              "\n",
              "    [theme=dark] .colab-df-convert {\n",
              "      background-color: #3B4455;\n",
              "      fill: #D2E3FC;\n",
              "    }\n",
              "\n",
              "    [theme=dark] .colab-df-convert:hover {\n",
              "      background-color: #434B5C;\n",
              "      box-shadow: 0px 1px 3px 1px rgba(0, 0, 0, 0.15);\n",
              "      filter: drop-shadow(0px 1px 2px rgba(0, 0, 0, 0.3));\n",
              "      fill: #FFFFFF;\n",
              "    }\n",
              "  </style>\n",
              "\n",
              "      <script>\n",
              "        const buttonEl =\n",
              "          document.querySelector('#df-908c057d-bd1a-4079-9666-d7555417dcf2 button.colab-df-convert');\n",
              "        buttonEl.style.display =\n",
              "          google.colab.kernel.accessAllowed ? 'block' : 'none';\n",
              "\n",
              "        async function convertToInteractive(key) {\n",
              "          const element = document.querySelector('#df-908c057d-bd1a-4079-9666-d7555417dcf2');\n",
              "          const dataTable =\n",
              "            await google.colab.kernel.invokeFunction('convertToInteractive',\n",
              "                                                     [key], {});\n",
              "          if (!dataTable) return;\n",
              "\n",
              "          const docLinkHtml = 'Like what you see? Visit the ' +\n",
              "            '<a target=\"_blank\" href=https://colab.research.google.com/notebooks/data_table.ipynb>data table notebook</a>'\n",
              "            + ' to learn more about interactive tables.';\n",
              "          element.innerHTML = '';\n",
              "          dataTable['output_type'] = 'display_data';\n",
              "          await google.colab.output.renderOutput(dataTable, element);\n",
              "          const docLink = document.createElement('div');\n",
              "          docLink.innerHTML = docLinkHtml;\n",
              "          element.appendChild(docLink);\n",
              "        }\n",
              "      </script>\n",
              "    </div>\n",
              "  </div>\n",
              "  "
            ],
            "text/plain": [
              "   a10  a20  a25  b  c  d\n",
              "0    3    1    1  8  6  5\n",
              "1    1    9    1  8  7  5\n",
              "2    6    0    4  8  3  3\n",
              "3    4    3    8  0  0  8\n",
              "4    2    7    1  4  4  2"
            ]
          },
          "execution_count": 172,
          "metadata": {},
          "output_type": "execute_result"
        }
      ],
      "source": [
        "df"
      ]
    },
    {
      "cell_type": "code",
      "execution_count": null,
      "metadata": {
        "colab": {
          "base_uri": "https://localhost:8080/",
          "height": 81
        },
        "id": "Vpk6D3uGrHD7",
        "outputId": "9c87b764-5b9b-4e20-f231-054e22975325"
      },
      "outputs": [
        {
          "data": {
            "text/html": [
              "\n",
              "  <div id=\"df-6078f339-eb8c-4a78-bf5d-0b59a0d46997\">\n",
              "    <div class=\"colab-df-container\">\n",
              "      <div>\n",
              "<style scoped>\n",
              "    .dataframe tbody tr th:only-of-type {\n",
              "        vertical-align: middle;\n",
              "    }\n",
              "\n",
              "    .dataframe tbody tr th {\n",
              "        vertical-align: top;\n",
              "    }\n",
              "\n",
              "    .dataframe thead th {\n",
              "        text-align: right;\n",
              "    }\n",
              "</style>\n",
              "<table border=\"1\" class=\"dataframe\">\n",
              "  <thead>\n",
              "    <tr style=\"text-align: right;\">\n",
              "      <th></th>\n",
              "      <th>a10</th>\n",
              "      <th>a20</th>\n",
              "      <th>a25</th>\n",
              "      <th>b</th>\n",
              "      <th>c</th>\n",
              "      <th>d</th>\n",
              "    </tr>\n",
              "  </thead>\n",
              "  <tbody>\n",
              "    <tr>\n",
              "      <th>0</th>\n",
              "      <td>3</td>\n",
              "      <td>1</td>\n",
              "      <td>1</td>\n",
              "      <td>8</td>\n",
              "      <td>6</td>\n",
              "      <td>5</td>\n",
              "    </tr>\n",
              "  </tbody>\n",
              "</table>\n",
              "</div>\n",
              "      <button class=\"colab-df-convert\" onclick=\"convertToInteractive('df-6078f339-eb8c-4a78-bf5d-0b59a0d46997')\"\n",
              "              title=\"Convert this dataframe to an interactive table.\"\n",
              "              style=\"display:none;\">\n",
              "        \n",
              "  <svg xmlns=\"http://www.w3.org/2000/svg\" height=\"24px\"viewBox=\"0 0 24 24\"\n",
              "       width=\"24px\">\n",
              "    <path d=\"M0 0h24v24H0V0z\" fill=\"none\"/>\n",
              "    <path d=\"M18.56 5.44l.94 2.06.94-2.06 2.06-.94-2.06-.94-.94-2.06-.94 2.06-2.06.94zm-11 1L8.5 8.5l.94-2.06 2.06-.94-2.06-.94L8.5 2.5l-.94 2.06-2.06.94zm10 10l.94 2.06.94-2.06 2.06-.94-2.06-.94-.94-2.06-.94 2.06-2.06.94z\"/><path d=\"M17.41 7.96l-1.37-1.37c-.4-.4-.92-.59-1.43-.59-.52 0-1.04.2-1.43.59L10.3 9.45l-7.72 7.72c-.78.78-.78 2.05 0 2.83L4 21.41c.39.39.9.59 1.41.59.51 0 1.02-.2 1.41-.59l7.78-7.78 2.81-2.81c.8-.78.8-2.07 0-2.86zM5.41 20L4 18.59l7.72-7.72 1.47 1.35L5.41 20z\"/>\n",
              "  </svg>\n",
              "      </button>\n",
              "      \n",
              "  <style>\n",
              "    .colab-df-container {\n",
              "      display:flex;\n",
              "      flex-wrap:wrap;\n",
              "      gap: 12px;\n",
              "    }\n",
              "\n",
              "    .colab-df-convert {\n",
              "      background-color: #E8F0FE;\n",
              "      border: none;\n",
              "      border-radius: 50%;\n",
              "      cursor: pointer;\n",
              "      display: none;\n",
              "      fill: #1967D2;\n",
              "      height: 32px;\n",
              "      padding: 0 0 0 0;\n",
              "      width: 32px;\n",
              "    }\n",
              "\n",
              "    .colab-df-convert:hover {\n",
              "      background-color: #E2EBFA;\n",
              "      box-shadow: 0px 1px 2px rgba(60, 64, 67, 0.3), 0px 1px 3px 1px rgba(60, 64, 67, 0.15);\n",
              "      fill: #174EA6;\n",
              "    }\n",
              "\n",
              "    [theme=dark] .colab-df-convert {\n",
              "      background-color: #3B4455;\n",
              "      fill: #D2E3FC;\n",
              "    }\n",
              "\n",
              "    [theme=dark] .colab-df-convert:hover {\n",
              "      background-color: #434B5C;\n",
              "      box-shadow: 0px 1px 3px 1px rgba(0, 0, 0, 0.15);\n",
              "      filter: drop-shadow(0px 1px 2px rgba(0, 0, 0, 0.3));\n",
              "      fill: #FFFFFF;\n",
              "    }\n",
              "  </style>\n",
              "\n",
              "      <script>\n",
              "        const buttonEl =\n",
              "          document.querySelector('#df-6078f339-eb8c-4a78-bf5d-0b59a0d46997 button.colab-df-convert');\n",
              "        buttonEl.style.display =\n",
              "          google.colab.kernel.accessAllowed ? 'block' : 'none';\n",
              "\n",
              "        async function convertToInteractive(key) {\n",
              "          const element = document.querySelector('#df-6078f339-eb8c-4a78-bf5d-0b59a0d46997');\n",
              "          const dataTable =\n",
              "            await google.colab.kernel.invokeFunction('convertToInteractive',\n",
              "                                                     [key], {});\n",
              "          if (!dataTable) return;\n",
              "\n",
              "          const docLinkHtml = 'Like what you see? Visit the ' +\n",
              "            '<a target=\"_blank\" href=https://colab.research.google.com/notebooks/data_table.ipynb>data table notebook</a>'\n",
              "            + ' to learn more about interactive tables.';\n",
              "          element.innerHTML = '';\n",
              "          dataTable['output_type'] = 'display_data';\n",
              "          await google.colab.output.renderOutput(dataTable, element);\n",
              "          const docLink = document.createElement('div');\n",
              "          docLink.innerHTML = docLinkHtml;\n",
              "          element.appendChild(docLink);\n",
              "        }\n",
              "      </script>\n",
              "    </div>\n",
              "  </div>\n",
              "  "
            ],
            "text/plain": [
              "   a10  a20  a25  b  c  d\n",
              "0    3    1    1  8  6  5"
            ]
          },
          "execution_count": 171,
          "metadata": {},
          "output_type": "execute_result"
        }
      ],
      "source": [
        "df.query('c==6')"
      ]
    },
    {
      "cell_type": "code",
      "execution_count": null,
      "metadata": {
        "id": "oIlDbtxLrya2"
      },
      "outputs": [],
      "source": [
        "data = {\n",
        "  \"calories\": [420, 380, 390],\n",
        "  \"duration\": [50, 40, 45]\n",
        "}\n",
        "\n",
        "df1 = pd.DataFrame(data)"
      ]
    },
    {
      "cell_type": "code",
      "execution_count": null,
      "metadata": {
        "id": "Sn68Isqqr3Uf"
      },
      "outputs": [],
      "source": [
        "data = {\n",
        "  \"calories\": [42, 38, 39],\n",
        "  \"duration\": [50, 40, 45]\n",
        "}\n",
        "\n",
        "df2 = pd.DataFrame(data)"
      ]
    },
    {
      "cell_type": "code",
      "execution_count": null,
      "metadata": {
        "colab": {
          "base_uri": "https://localhost:8080/",
          "height": 143
        },
        "id": "lBaTvCEfr3QU",
        "outputId": "3478145c-7527-45b6-bc59-293459070be7"
      },
      "outputs": [
        {
          "data": {
            "text/html": [
              "\n",
              "  <div id=\"df-4f0e1a4b-a62a-4ee7-bb8e-a9f656ed4c6b\">\n",
              "    <div class=\"colab-df-container\">\n",
              "      <div>\n",
              "<style scoped>\n",
              "    .dataframe tbody tr th:only-of-type {\n",
              "        vertical-align: middle;\n",
              "    }\n",
              "\n",
              "    .dataframe tbody tr th {\n",
              "        vertical-align: top;\n",
              "    }\n",
              "\n",
              "    .dataframe thead th {\n",
              "        text-align: right;\n",
              "    }\n",
              "</style>\n",
              "<table border=\"1\" class=\"dataframe\">\n",
              "  <thead>\n",
              "    <tr style=\"text-align: right;\">\n",
              "      <th></th>\n",
              "      <th>calories</th>\n",
              "      <th>duration</th>\n",
              "    </tr>\n",
              "  </thead>\n",
              "  <tbody>\n",
              "    <tr>\n",
              "      <th>0</th>\n",
              "      <td>42</td>\n",
              "      <td>50</td>\n",
              "    </tr>\n",
              "    <tr>\n",
              "      <th>1</th>\n",
              "      <td>38</td>\n",
              "      <td>40</td>\n",
              "    </tr>\n",
              "    <tr>\n",
              "      <th>2</th>\n",
              "      <td>39</td>\n",
              "      <td>45</td>\n",
              "    </tr>\n",
              "  </tbody>\n",
              "</table>\n",
              "</div>\n",
              "      <button class=\"colab-df-convert\" onclick=\"convertToInteractive('df-4f0e1a4b-a62a-4ee7-bb8e-a9f656ed4c6b')\"\n",
              "              title=\"Convert this dataframe to an interactive table.\"\n",
              "              style=\"display:none;\">\n",
              "        \n",
              "  <svg xmlns=\"http://www.w3.org/2000/svg\" height=\"24px\"viewBox=\"0 0 24 24\"\n",
              "       width=\"24px\">\n",
              "    <path d=\"M0 0h24v24H0V0z\" fill=\"none\"/>\n",
              "    <path d=\"M18.56 5.44l.94 2.06.94-2.06 2.06-.94-2.06-.94-.94-2.06-.94 2.06-2.06.94zm-11 1L8.5 8.5l.94-2.06 2.06-.94-2.06-.94L8.5 2.5l-.94 2.06-2.06.94zm10 10l.94 2.06.94-2.06 2.06-.94-2.06-.94-.94-2.06-.94 2.06-2.06.94z\"/><path d=\"M17.41 7.96l-1.37-1.37c-.4-.4-.92-.59-1.43-.59-.52 0-1.04.2-1.43.59L10.3 9.45l-7.72 7.72c-.78.78-.78 2.05 0 2.83L4 21.41c.39.39.9.59 1.41.59.51 0 1.02-.2 1.41-.59l7.78-7.78 2.81-2.81c.8-.78.8-2.07 0-2.86zM5.41 20L4 18.59l7.72-7.72 1.47 1.35L5.41 20z\"/>\n",
              "  </svg>\n",
              "      </button>\n",
              "      \n",
              "  <style>\n",
              "    .colab-df-container {\n",
              "      display:flex;\n",
              "      flex-wrap:wrap;\n",
              "      gap: 12px;\n",
              "    }\n",
              "\n",
              "    .colab-df-convert {\n",
              "      background-color: #E8F0FE;\n",
              "      border: none;\n",
              "      border-radius: 50%;\n",
              "      cursor: pointer;\n",
              "      display: none;\n",
              "      fill: #1967D2;\n",
              "      height: 32px;\n",
              "      padding: 0 0 0 0;\n",
              "      width: 32px;\n",
              "    }\n",
              "\n",
              "    .colab-df-convert:hover {\n",
              "      background-color: #E2EBFA;\n",
              "      box-shadow: 0px 1px 2px rgba(60, 64, 67, 0.3), 0px 1px 3px 1px rgba(60, 64, 67, 0.15);\n",
              "      fill: #174EA6;\n",
              "    }\n",
              "\n",
              "    [theme=dark] .colab-df-convert {\n",
              "      background-color: #3B4455;\n",
              "      fill: #D2E3FC;\n",
              "    }\n",
              "\n",
              "    [theme=dark] .colab-df-convert:hover {\n",
              "      background-color: #434B5C;\n",
              "      box-shadow: 0px 1px 3px 1px rgba(0, 0, 0, 0.15);\n",
              "      filter: drop-shadow(0px 1px 2px rgba(0, 0, 0, 0.3));\n",
              "      fill: #FFFFFF;\n",
              "    }\n",
              "  </style>\n",
              "\n",
              "      <script>\n",
              "        const buttonEl =\n",
              "          document.querySelector('#df-4f0e1a4b-a62a-4ee7-bb8e-a9f656ed4c6b button.colab-df-convert');\n",
              "        buttonEl.style.display =\n",
              "          google.colab.kernel.accessAllowed ? 'block' : 'none';\n",
              "\n",
              "        async function convertToInteractive(key) {\n",
              "          const element = document.querySelector('#df-4f0e1a4b-a62a-4ee7-bb8e-a9f656ed4c6b');\n",
              "          const dataTable =\n",
              "            await google.colab.kernel.invokeFunction('convertToInteractive',\n",
              "                                                     [key], {});\n",
              "          if (!dataTable) return;\n",
              "\n",
              "          const docLinkHtml = 'Like what you see? Visit the ' +\n",
              "            '<a target=\"_blank\" href=https://colab.research.google.com/notebooks/data_table.ipynb>data table notebook</a>'\n",
              "            + ' to learn more about interactive tables.';\n",
              "          element.innerHTML = '';\n",
              "          dataTable['output_type'] = 'display_data';\n",
              "          await google.colab.output.renderOutput(dataTable, element);\n",
              "          const docLink = document.createElement('div');\n",
              "          docLink.innerHTML = docLinkHtml;\n",
              "          element.appendChild(docLink);\n",
              "        }\n",
              "      </script>\n",
              "    </div>\n",
              "  </div>\n",
              "  "
            ],
            "text/plain": [
              "   calories  duration\n",
              "0        42        50\n",
              "1        38        40\n",
              "2        39        45"
            ]
          },
          "execution_count": 175,
          "metadata": {},
          "output_type": "execute_result"
        }
      ],
      "source": [
        "df2"
      ]
    },
    {
      "cell_type": "code",
      "execution_count": null,
      "metadata": {
        "colab": {
          "base_uri": "https://localhost:8080/",
          "height": 238
        },
        "id": "ic_zTn_Xr3Md",
        "outputId": "599ad4e3-ff62-4483-cf5d-a9e535bdc6d6"
      },
      "outputs": [
        {
          "data": {
            "text/html": [
              "\n",
              "  <div id=\"df-7b6efd36-fedf-4c51-a859-7f159c4afd9e\">\n",
              "    <div class=\"colab-df-container\">\n",
              "      <div>\n",
              "<style scoped>\n",
              "    .dataframe tbody tr th:only-of-type {\n",
              "        vertical-align: middle;\n",
              "    }\n",
              "\n",
              "    .dataframe tbody tr th {\n",
              "        vertical-align: top;\n",
              "    }\n",
              "\n",
              "    .dataframe thead th {\n",
              "        text-align: right;\n",
              "    }\n",
              "</style>\n",
              "<table border=\"1\" class=\"dataframe\">\n",
              "  <thead>\n",
              "    <tr style=\"text-align: right;\">\n",
              "      <th></th>\n",
              "      <th>calories</th>\n",
              "      <th>duration</th>\n",
              "    </tr>\n",
              "  </thead>\n",
              "  <tbody>\n",
              "    <tr>\n",
              "      <th>0</th>\n",
              "      <td>420</td>\n",
              "      <td>50</td>\n",
              "    </tr>\n",
              "    <tr>\n",
              "      <th>1</th>\n",
              "      <td>380</td>\n",
              "      <td>40</td>\n",
              "    </tr>\n",
              "    <tr>\n",
              "      <th>2</th>\n",
              "      <td>390</td>\n",
              "      <td>45</td>\n",
              "    </tr>\n",
              "    <tr>\n",
              "      <th>0</th>\n",
              "      <td>42</td>\n",
              "      <td>50</td>\n",
              "    </tr>\n",
              "    <tr>\n",
              "      <th>1</th>\n",
              "      <td>38</td>\n",
              "      <td>40</td>\n",
              "    </tr>\n",
              "    <tr>\n",
              "      <th>2</th>\n",
              "      <td>39</td>\n",
              "      <td>45</td>\n",
              "    </tr>\n",
              "  </tbody>\n",
              "</table>\n",
              "</div>\n",
              "      <button class=\"colab-df-convert\" onclick=\"convertToInteractive('df-7b6efd36-fedf-4c51-a859-7f159c4afd9e')\"\n",
              "              title=\"Convert this dataframe to an interactive table.\"\n",
              "              style=\"display:none;\">\n",
              "        \n",
              "  <svg xmlns=\"http://www.w3.org/2000/svg\" height=\"24px\"viewBox=\"0 0 24 24\"\n",
              "       width=\"24px\">\n",
              "    <path d=\"M0 0h24v24H0V0z\" fill=\"none\"/>\n",
              "    <path d=\"M18.56 5.44l.94 2.06.94-2.06 2.06-.94-2.06-.94-.94-2.06-.94 2.06-2.06.94zm-11 1L8.5 8.5l.94-2.06 2.06-.94-2.06-.94L8.5 2.5l-.94 2.06-2.06.94zm10 10l.94 2.06.94-2.06 2.06-.94-2.06-.94-.94-2.06-.94 2.06-2.06.94z\"/><path d=\"M17.41 7.96l-1.37-1.37c-.4-.4-.92-.59-1.43-.59-.52 0-1.04.2-1.43.59L10.3 9.45l-7.72 7.72c-.78.78-.78 2.05 0 2.83L4 21.41c.39.39.9.59 1.41.59.51 0 1.02-.2 1.41-.59l7.78-7.78 2.81-2.81c.8-.78.8-2.07 0-2.86zM5.41 20L4 18.59l7.72-7.72 1.47 1.35L5.41 20z\"/>\n",
              "  </svg>\n",
              "      </button>\n",
              "      \n",
              "  <style>\n",
              "    .colab-df-container {\n",
              "      display:flex;\n",
              "      flex-wrap:wrap;\n",
              "      gap: 12px;\n",
              "    }\n",
              "\n",
              "    .colab-df-convert {\n",
              "      background-color: #E8F0FE;\n",
              "      border: none;\n",
              "      border-radius: 50%;\n",
              "      cursor: pointer;\n",
              "      display: none;\n",
              "      fill: #1967D2;\n",
              "      height: 32px;\n",
              "      padding: 0 0 0 0;\n",
              "      width: 32px;\n",
              "    }\n",
              "\n",
              "    .colab-df-convert:hover {\n",
              "      background-color: #E2EBFA;\n",
              "      box-shadow: 0px 1px 2px rgba(60, 64, 67, 0.3), 0px 1px 3px 1px rgba(60, 64, 67, 0.15);\n",
              "      fill: #174EA6;\n",
              "    }\n",
              "\n",
              "    [theme=dark] .colab-df-convert {\n",
              "      background-color: #3B4455;\n",
              "      fill: #D2E3FC;\n",
              "    }\n",
              "\n",
              "    [theme=dark] .colab-df-convert:hover {\n",
              "      background-color: #434B5C;\n",
              "      box-shadow: 0px 1px 3px 1px rgba(0, 0, 0, 0.15);\n",
              "      filter: drop-shadow(0px 1px 2px rgba(0, 0, 0, 0.3));\n",
              "      fill: #FFFFFF;\n",
              "    }\n",
              "  </style>\n",
              "\n",
              "      <script>\n",
              "        const buttonEl =\n",
              "          document.querySelector('#df-7b6efd36-fedf-4c51-a859-7f159c4afd9e button.colab-df-convert');\n",
              "        buttonEl.style.display =\n",
              "          google.colab.kernel.accessAllowed ? 'block' : 'none';\n",
              "\n",
              "        async function convertToInteractive(key) {\n",
              "          const element = document.querySelector('#df-7b6efd36-fedf-4c51-a859-7f159c4afd9e');\n",
              "          const dataTable =\n",
              "            await google.colab.kernel.invokeFunction('convertToInteractive',\n",
              "                                                     [key], {});\n",
              "          if (!dataTable) return;\n",
              "\n",
              "          const docLinkHtml = 'Like what you see? Visit the ' +\n",
              "            '<a target=\"_blank\" href=https://colab.research.google.com/notebooks/data_table.ipynb>data table notebook</a>'\n",
              "            + ' to learn more about interactive tables.';\n",
              "          element.innerHTML = '';\n",
              "          dataTable['output_type'] = 'display_data';\n",
              "          await google.colab.output.renderOutput(dataTable, element);\n",
              "          const docLink = document.createElement('div');\n",
              "          docLink.innerHTML = docLinkHtml;\n",
              "          element.appendChild(docLink);\n",
              "        }\n",
              "      </script>\n",
              "    </div>\n",
              "  </div>\n",
              "  "
            ],
            "text/plain": [
              "   calories  duration\n",
              "0       420        50\n",
              "1       380        40\n",
              "2       390        45\n",
              "0        42        50\n",
              "1        38        40\n",
              "2        39        45"
            ]
          },
          "execution_count": 176,
          "metadata": {},
          "output_type": "execute_result"
        }
      ],
      "source": [
        "df1.append(df2)"
      ]
    },
    {
      "cell_type": "code",
      "execution_count": null,
      "metadata": {
        "colab": {
          "base_uri": "https://localhost:8080/",
          "height": 282
        },
        "id": "hxKUAcHdr3IR",
        "outputId": "6a4df33a-046d-4659-8796-effb71e70a85"
      },
      "outputs": [
        {
          "data": {
            "text/plain": [
              "<matplotlib.quiver.Quiver at 0x7fe8dae8b2d0>"
            ]
          },
          "execution_count": 177,
          "metadata": {},
          "output_type": "execute_result"
        },
        {
          "data": {
            "image/png": "[encoded data removed]",
            "text/plain": [
              "<Figure size 432x288 with 1 Axes>"
            ]
          },
          "metadata": {
            "needs_background": "light"
          },
          "output_type": "display_data"
        }
      ],
      "source": [
        "import matplotlib.pyplot as plt\n",
        "plt.quiver(0,0,5,8)     "
      ]
    },
    {
      "cell_type": "code",
      "execution_count": null,
      "metadata": {
        "colab": {
          "base_uri": "https://localhost:8080/",
          "height": 286
        },
        "id": "SQMaBbyfr3Eo",
        "outputId": "7b0c6b26-ec78-4701-bee7-994ce24da1f7"
      },
      "outputs": [
        {
          "data": {
            "text/plain": [
              "[]"
            ]
          },
          "execution_count": 178,
          "metadata": {},
          "output_type": "execute_result"
        },
        {
          "data": {
            "image/png": "[encoded data removed]",
            "text/plain": [
              "<Figure size 432x288 with 1 Axes>"
            ]
          },
          "metadata": {
            "needs_background": "light"
          },
          "output_type": "display_data"
        }
      ],
      "source": [
        "import matplotlib.pyplot as plt\n",
        "plt.quiver(0,0,3,4,scale_units='xy',angles='xy',scale=1)\n",
        "plt.xlim(-10,10) #specify  X limit \n",
        "plt.ylim(-10,10) #specify  y limit \n",
        "plt.plot()\n"
      ]
    },
    {
      "cell_type": "code",
      "execution_count": null,
      "metadata": {
        "colab": {
          "base_uri": "https://localhost:8080/"
        },
        "id": "l8WU_HwTr2_-",
        "outputId": "190f3de9-16b0-45f9-dbe3-7a00f8a5ece0"
      },
      "outputs": [
        {
          "name": "stdout",
          "output_type": "stream",
          "text": [
            "A is less than or equal to 10\n"
          ]
        }
      ],
      "source": [
        "def main():\n",
        "    a=10\n",
        "    if a>=11:\n",
        "        print('A is greater than 10')\n",
        "    else:\n",
        "        print('A is less than or equal to 10')\n",
        "    \n",
        "if __name__=='__main__':\n",
        "        main()"
      ]
    },
    {
      "cell_type": "code",
      "execution_count": null,
      "metadata": {
        "id": "RRPs9utlvRwh"
      },
      "outputs": [],
      "source": [
        "def word_to_num(a):\n",
        "    a=str(a)\n",
        "    b=len(a)\n",
        "    for i in range(0,b):\n",
        "\n",
        "        if a[i]=='1':\n",
        "            print('One',end= ' ')\n",
        "        elif a[i]=='2':\n",
        "            print('Two',end= ' ')\n",
        "        elif a[i]=='3':\n",
        "            print('Three',end= ' ')\n",
        "        elif a[i]=='4':\n",
        "            print('Four',end= ' ')\n",
        "\n",
        "        elif a[i]=='5':\n",
        "            print('Five',end= ' ')\n",
        "        elif a[i]=='6':\n",
        "            print('Six',end= ' ')\n",
        "        elif a[i]=='7':\n",
        "            print('Seven',end= ' ')\n",
        "        elif a[i]=='8':\n",
        "            print('Eight',end= ' ')\n",
        "        elif a[i]=='9':\n",
        "            print('Nine',end= ' ')\n",
        "        elif a[i]=='0':\n",
        "            print('Zero',end= ' ')"
      ]
    },
    {
      "cell_type": "code",
      "execution_count": null,
      "metadata": {
        "colab": {
          "base_uri": "https://localhost:8080/"
        },
        "id": "AWF7SmoWvTi5",
        "outputId": "e521c3d8-aae1-41bb-ac75-d8267de369c1"
      },
      "outputs": [
        {
          "name": "stdout",
          "output_type": "stream",
          "text": [
            "Five Six Seven "
          ]
        }
      ],
      "source": [
        "word_to_num(567)"
      ]
    },
    {
      "cell_type": "code",
      "execution_count": null,
      "metadata": {
        "colab": {
          "base_uri": "https://localhost:8080/"
        },
        "id": "cbZcoJorveHY",
        "outputId": "9e888250-3a10-4403-8d3f-b5854a9a7000"
      },
      "outputs": [
        {
          "name": "stdout",
          "output_type": "stream",
          "text": [
            "Phone: 345\n",
            "three four five \n"
          ]
        }
      ],
      "source": [
        "phone_words = input('Phone: ')\n",
        "numbered_words = {\n",
        "    '0': 'zero',\n",
        "    '1': 'one',\n",
        "    '2': 'two',\n",
        "    '3': 'three',\n",
        "    '4': 'four',\n",
        "    '5': 'five',\n",
        "    '6': 'six',\n",
        "    '7': 'seven',\n",
        "    '8': 'eight',\n",
        "    '9': 'nine'\n",
        "}\n",
        "output = \"\"\n",
        "for ch in phone_words:\n",
        "  output += numbered_words.get(ch)+' '\n",
        "\n",
        "# phone_words = numbered_words\n",
        "\n",
        "print(output)"
      ]
    },
    {
      "cell_type": "code",
      "execution_count": null,
      "metadata": {
        "id": "3jo7pzQGxmeS"
      },
      "outputs": [],
      "source": [
        "import inflect\n",
        "p=inflect.engine()"
      ]
    },
    {
      "cell_type": "code",
      "execution_count": null,
      "metadata": {
        "colab": {
          "base_uri": "https://localhost:8080/",
          "height": 35
        },
        "id": "OfNrmQ36xvVQ",
        "outputId": "2cf26a5d-73dc-4487-abd2-d704b4840f7e"
      },
      "outputs": [
        {
          "data": {
            "application/vnd.google.colaboratory.intrinsic+json": {
              "type": "string"
            },
            "text/plain": [
              "'one hundred and twenty-three'"
            ]
          },
          "execution_count": 184,
          "metadata": {},
          "output_type": "execute_result"
        }
      ],
      "source": [
        "p.number_to_words(123)"
      ]
    },
    {
      "cell_type": "code",
      "execution_count": null,
      "metadata": {
        "colab": {
          "base_uri": "https://localhost:8080/"
        },
        "id": "FfZFVtajc1WL",
        "outputId": "3a13b4ca-68df-422b-dfb1-d8805dec3910"
      },
      "outputs": [
        {
          "name": "stdout",
          "output_type": "stream",
          "text": [
            "Looking in indexes: https://pypi.org/simple, https://us-python.pkg.dev/colab-wheels/public/simple/\n",
            "Collecting num2words\n",
            "  Downloading num2words-0.5.10-py3-none-any.whl (101 kB)\n",
            "\u001b[K     |████████████████████████████████| 101 kB 4.2 MB/s \n",
            "\u001b[?25hRequirement already satisfied: docopt>=0.6.2 in /usr/local/lib/python3.7/dist-packages (from num2words) (0.6.2)\n",
            "Installing collected packages: num2words\n",
            "Successfully installed num2words-0.5.10\n"
          ]
        }
      ],
      "source": [
        "pip install num2words"
      ]
    },
    {
      "cell_type": "code",
      "execution_count": null,
      "metadata": {
        "colab": {
          "base_uri": "https://localhost:8080/",
          "height": 35
        },
        "id": "FkzfNSNax1wF",
        "outputId": "0753e9e4-9902-4338-9824-35aa77d059a2"
      },
      "outputs": [
        {
          "data": {
            "application/vnd.google.colaboratory.intrinsic+json": {
              "type": "string"
            },
            "text/plain": [
              "'one hundred and twenty-three'"
            ]
          },
          "execution_count": 190,
          "metadata": {},
          "output_type": "execute_result"
        }
      ],
      "source": [
        "import num2words\n",
        "num2words.num2words(123)"
      ]
    },
    {
      "cell_type": "code",
      "execution_count": null,
      "metadata": {
        "colab": {
          "base_uri": "https://localhost:8080/",
          "height": 200
        },
        "id": "2wqmurgqzsDI",
        "outputId": "692b488c-48a5-4709-c444-d7643ab46853"
      },
      "outputs": [
        {
          "ename": "ValueError",
          "evalue": "ignored",
          "output_type": "error",
          "traceback": [
            "\u001b[0;31m---------------------------------------------------------------------------\u001b[0m",
            "\u001b[0;31mValueError\u001b[0m                                Traceback (most recent call last)",
            "\u001b[0;32m<ipython-input-72-29e652b4f923>\u001b[0m in \u001b[0;36m<module>\u001b[0;34m()\u001b[0m\n\u001b[1;32m      1\u001b[0m \u001b[0mnames1\u001b[0m \u001b[0;34m=\u001b[0m \u001b[0;34m[\u001b[0m\u001b[0;34m'Amir'\u001b[0m\u001b[0;34m,\u001b[0m \u001b[0;34m'Barry'\u001b[0m\u001b[0;34m,\u001b[0m \u001b[0;34m'Chales'\u001b[0m\u001b[0;34m,\u001b[0m \u001b[0;34m'Dao'\u001b[0m\u001b[0;34m]\u001b[0m\u001b[0;34m\u001b[0m\u001b[0;34m\u001b[0m\u001b[0m\n\u001b[0;32m----> 2\u001b[0;31m \u001b[0mloc\u001b[0m \u001b[0;34m=\u001b[0m \u001b[0mnames1\u001b[0m\u001b[0;34m.\u001b[0m\u001b[0mindex\u001b[0m\u001b[0;34m(\u001b[0m\u001b[0;34m\"Edward\"\u001b[0m\u001b[0;34m)\u001b[0m\u001b[0;34m\u001b[0m\u001b[0;34m\u001b[0m\u001b[0m\n\u001b[0m\u001b[1;32m      3\u001b[0m \u001b[0mprint\u001b[0m \u001b[0;34m(\u001b[0m\u001b[0mloc\u001b[0m\u001b[0;34m)\u001b[0m\u001b[0;34m\u001b[0m\u001b[0;34m\u001b[0m\u001b[0m\n",
            "\u001b[0;31mValueError\u001b[0m: 'Edward' is not in list"
          ]
        }
      ],
      "source": [
        "names1 = ['Amir', 'Barry', 'Chales', 'Dao']\n",
        "loc = names1.index(\"Edward\")\n",
        "print (loc)\n"
      ]
    },
    {
      "cell_type": "code",
      "execution_count": null,
      "metadata": {
        "id": "fIKqoQ7D0Ymv"
      },
      "outputs": [],
      "source": [
        "intab = \"Aeiou\"\n",
        "outtab = \"12345\"\n",
        "trantab = str.maketrans(intab, outtab) #make to the ascii value for given intab and ouutab value"
      ]
    },
    {
      "cell_type": "code",
      "execution_count": null,
      "metadata": {
        "colab": {
          "base_uri": "https://localhost:8080/"
        },
        "id": "B8PgUpth0b2D",
        "outputId": "71354e9a-3a4c-425d-e809-28fdaaecde62"
      },
      "outputs": [
        {
          "data": {
            "text/plain": [
              "{65: 49, 101: 50, 105: 51, 111: 52, 117: 53}"
            ]
          },
          "execution_count": 77,
          "metadata": {},
          "output_type": "execute_result"
        }
      ],
      "source": [
        "trantab"
      ]
    },
    {
      "cell_type": "code",
      "execution_count": null,
      "metadata": {
        "colab": {
          "base_uri": "https://localhost:8080/"
        },
        "id": "W85If5Sw0xTG",
        "outputId": "1a37a463-2dce-4c9b-c474-2dcfe39e628b"
      },
      "outputs": [
        {
          "name": "stdout",
          "output_type": "stream",
          "text": [
            "th3s 3s str3ng 2xampl2....w4w!!!\n"
          ]
        }
      ],
      "source": [
        "str = \"this is string example....wow!!!\"\n",
        "print (str.translate(trantab))"
      ]
    },
    {
      "cell_type": "markdown",
      "metadata": {
        "id": "fTzWTsxheu4Y"
      },
      "source": [
        "### Generate the value using user defind function."
      ]
    },
    {
      "cell_type": "code",
      "execution_count": null,
      "metadata": {
        "id": "fSTqg3AQBEs_"
      },
      "outputs": [],
      "source": [
        "def genfunc(num):\n",
        "    n=1\n",
        "    while n<=num:\n",
        "        yield n\n",
        "        n=n+1"
      ]
    },
    {
      "cell_type": "code",
      "execution_count": null,
      "metadata": {
        "colab": {
          "base_uri": "https://localhost:8080/"
        },
        "id": "hrce7ed2BGOE",
        "outputId": "5207b091-b3da-4fa2-c9f8-0a8387debe0a"
      },
      "outputs": [
        {
          "name": "stdout",
          "output_type": "stream",
          "text": [
            "1\n",
            "2\n",
            "3\n",
            "4\n",
            "5\n"
          ]
        }
      ],
      "source": [
        "for i in genfunc(5):\n",
        "  print(i)"
      ]
    },
    {
      "cell_type": "code",
      "execution_count": null,
      "metadata": {
        "id": "lxHjqQguBzgL"
      },
      "outputs": [],
      "source": [
        "import random\n",
        "name=['sarvesh','pandey','nitesh','sam','vicky']\n",
        "subjects=['java','python','aws']\n",
        "\n",
        "def people_list(num):\n",
        "    result=[]\n",
        "    for i in range(num):\n",
        "        person={\n",
        "            'id':i,\n",
        "            'name':random.choice(name),\n",
        "            'subjects':random.choice(subjects)\n",
        "        }\n",
        "        result.append(person)\n",
        "    return result\n",
        "\n"
      ]
    },
    {
      "cell_type": "code",
      "execution_count": null,
      "metadata": {
        "colab": {
          "base_uri": "https://localhost:8080/"
        },
        "id": "lrjTMKR7Cacz",
        "outputId": "4d755844-610f-4f15-e6ba-13898cbfb3cb"
      },
      "outputs": [
        {
          "name": "stdout",
          "output_type": "stream",
          "text": [
            "Time taken: 2.1160384289999996\n"
          ]
        }
      ],
      "source": [
        "import time\n",
        "t1=time.process_time()\n",
        "people=people_list(1000000)\n",
        "t2=time.process_time()\n",
        "print('Time taken:',t2-t1)\n"
      ]
    },
    {
      "cell_type": "code",
      "execution_count": 1,
      "metadata": {
        "id": "sx9ipktlG-ut"
      },
      "outputs": [],
      "source": [
        "global a ;  #Global Variable\n",
        "a= 10;\t\t \n",
        "def add():\n",
        "    b=3       #Local Variable\n",
        "    c=a+b\n",
        "    print(c)"
      ]
    },
    {
      "cell_type": "code",
      "execution_count": 2,
      "metadata": {
        "colab": {
          "base_uri": "https://localhost:8080/"
        },
        "id": "sLn5SrinHFHY",
        "outputId": "3b6915ab-b1e3-4a0c-f338-64aced14b636"
      },
      "outputs": [
        {
          "name": "stdout",
          "output_type": "stream",
          "text": [
            "13\n"
          ]
        }
      ],
      "source": [
        "add()"
      ]
    },
    {
      "cell_type": "markdown",
      "metadata": {
        "id": "f-5XcmSCm72Q"
      },
      "source": [
        "### Reverse the list in reverse order"
      ]
    },
    {
      "cell_type": "code",
      "execution_count": null,
      "metadata": {
        "id": "SEDMcBjne1Ox"
      },
      "outputs": [],
      "source": [
        "def reversList(ls):\n",
        "  if not ls:\n",
        "    return []\n",
        "  else:\n",
        "    return [ls[-1]]+reversList(ls[:-1])\n"
      ]
    },
    {
      "cell_type": "code",
      "execution_count": null,
      "metadata": {
        "colab": {
          "base_uri": "https://localhost:8080/"
        },
        "id": "uxbJxOisfMzd",
        "outputId": "37df7085-da60-45d6-d6ee-6d3dcac29458"
      },
      "outputs": [
        {
          "data": {
            "text/plain": [
              "[5, 4, 3, 6, 1]"
            ]
          },
          "execution_count": 13,
          "metadata": {},
          "output_type": "execute_result"
        }
      ],
      "source": [
        "reversList([1,6,3,4,5])"
      ]
    },
    {
      "cell_type": "markdown",
      "metadata": {
        "id": "U3L2gia6ujXV"
      },
      "source": [
        "### Prime no between given range"
      ]
    },
    {
      "cell_type": "code",
      "execution_count": 9,
      "metadata": {
        "colab": {
          "base_uri": "https://localhost:8080/"
        },
        "id": "L-aO-tQmClq0",
        "outputId": "87a18a14-f67c-4b9e-df52-aff71f3aefb5"
      },
      "outputs": [
        {
          "name": "stdout",
          "output_type": "stream",
          "text": [
            "2 3 5 7 11 13 17 19 23 29 31 37 41 43 47 53 59 61 67 71 73 79 83 89 97 "
          ]
        }
      ],
      "source": [
        "a=1\n",
        "b=100\n",
        "for number in range(a,b):\n",
        "  if number>1:\n",
        "    for i in range(2,number):\n",
        "      if (number%i)==0:\n",
        "        break\n",
        "    else:\n",
        "      print(number,end=' ');"
      ]
    },
    {
      "cell_type": "code",
      "execution_count": null,
      "metadata": {
        "colab": {
          "base_uri": "https://localhost:8080/"
        },
        "id": "0udpq0r-OLZe",
        "outputId": "62373913-ca9e-4a79-89b8-9fae759a3a85"
      },
      "outputs": [
        {
          "name": "stdout",
          "output_type": "stream",
          "text": [
            "101 103 107 109 113 127 131 137 139 149 151 157 163 167 173 179 181 191 193 197 199 "
          ]
        }
      ],
      "source": [
        "for num in range(100,200):\n",
        "  if all(num%i!=0 for i in range(2,num)):\n",
        "    print(num,end=' ')"
      ]
    },
    {
      "cell_type": "code",
      "execution_count": null,
      "metadata": {
        "id": "TX9B5ooYG24G"
      },
      "outputs": [],
      "source": [
        "###Bubble sort Dscending)\n",
        "\n",
        "def sort_list(b):\n",
        "  l=len(b);\n",
        "  print(l)\n",
        "  for i in range(0,l):  # or for i in range(l)\n",
        "    for j in range(i,l-1):  # or for i in range(l-i)\n",
        "      if b[i]>b[j+1]:\n",
        "        b[i],b[j+1]=b[j+1],b[i]\n",
        "      else:\n",
        "        pass\n",
        "  return b"
      ]
    },
    {
      "cell_type": "code",
      "execution_count": null,
      "metadata": {
        "colab": {
          "base_uri": "https://localhost:8080/"
        },
        "id": "qB3duzmGG96K",
        "outputId": "5266cf4a-767d-486d-f48d-05e2e592b70f"
      },
      "outputs": [
        {
          "name": "stdout",
          "output_type": "stream",
          "text": [
            "10\n"
          ]
        },
        {
          "data": {
            "text/plain": [
              "[1, 2, 4, 7, 9, 10, 12, 34, 89, 90]"
            ]
          },
          "execution_count": 54,
          "metadata": {},
          "output_type": "execute_result"
        }
      ],
      "source": [
        "#[1,9,7,10]\n",
        "sort_list([1,9,7,10,4,2,89,90,34,12])"
      ]
    },
    {
      "cell_type": "code",
      "execution_count": null,
      "metadata": {
        "id": "XX1Ob5NWJPTf"
      },
      "outputs": [],
      "source": [
        "#bubble Sort Descending\n",
        "\n",
        "def sort_list(b):\n",
        "  l=len(b);\n",
        "  print(l)\n",
        "  for i in range(0,l):\n",
        "    for j in range(i,l-1):\n",
        "      if b[i]<b[j+1]:\n",
        "        b[i],b[j+1]=b[j+1],b[i]\n",
        "      else:\n",
        "        pass\n",
        "  return b"
      ]
    },
    {
      "cell_type": "code",
      "execution_count": null,
      "metadata": {
        "colab": {
          "base_uri": "https://localhost:8080/"
        },
        "id": "3Wx8AXgmJSu_",
        "outputId": "b6d968fc-6055-4549-8fde-378e2d707d3c"
      },
      "outputs": [
        {
          "name": "stdout",
          "output_type": "stream",
          "text": [
            "5\n"
          ]
        },
        {
          "data": {
            "text/plain": [
              "[10, 9, 7, 4, 1]"
            ]
          },
          "execution_count": 51,
          "metadata": {},
          "output_type": "execute_result"
        }
      ],
      "source": [
        "sort_list([1,9,7,10,4])"
      ]
    },
    {
      "cell_type": "code",
      "execution_count": 10,
      "metadata": {
        "id": "NY0XZ2p-Ppa2"
      },
      "outputs": [],
      "source": [
        "l=[1,3,5,7,9,2,4,6,8]\n",
        "l.sort(reverse=True)"
      ]
    },
    {
      "cell_type": "code",
      "execution_count": 11,
      "metadata": {
        "colab": {
          "base_uri": "https://localhost:8080/"
        },
        "id": "3q5rwTVDP7Ec",
        "outputId": "eb8d748f-2d4d-42f5-ae81-3ba41bcb55cb"
      },
      "outputs": [
        {
          "name": "stdout",
          "output_type": "stream",
          "text": [
            "[9, 8, 7, 6, 5, 4, 3, 2, 1]\n"
          ]
        }
      ],
      "source": [
        "print(l)"
      ]
    },
    {
      "cell_type": "markdown",
      "metadata": {
        "id": "4I_yjkfRxai0"
      },
      "source": [
        "### Fibonaci Series"
      ]
    },
    {
      "cell_type": "code",
      "execution_count": 12,
      "metadata": {
        "colab": {
          "base_uri": "https://localhost:8080/"
        },
        "id": "4m_65TWBQX6O",
        "outputId": "574122cc-0d32-4555-98b4-6399d1fa1be6"
      },
      "outputs": [
        {
          "name": "stdout",
          "output_type": "stream",
          "text": [
            "Enter the terms:8\n",
            "0 1 1 2 3 5 8 13 "
          ]
        }
      ],
      "source": [
        "a=int(input(\"Enter the terms:\"))\n",
        "f=0                                         #first element of series\n",
        "s=1                                         #second element of series\n",
        "if a<=0:\n",
        "    print(\"The requested series is\",f)\n",
        "else:\n",
        "    print(f,s,end=\" \")\n",
        "    for x in range(2,a):\n",
        "        next=f+s                           \n",
        "        print(next,end=\" \")\n",
        "        f=s\n",
        "        s=next;\n"
      ]
    },
    {
      "cell_type": "code",
      "execution_count": 16,
      "metadata": {
        "colab": {
          "base_uri": "https://localhost:8080/"
        },
        "id": "Qi2HfOmdSgxy",
        "outputId": "677006b1-1436-4835-f70a-7457d5b09af5"
      },
      "outputs": [
        {
          "name": "stdout",
          "output_type": "stream",
          "text": [
            "Enter the terms:8\n",
            "0 1 1 2 3 5 8 13 "
          ]
        }
      ],
      "source": [
        "a=int(input(\"Enter the terms:\"))\n",
        "def fib(n):\n",
        "  if n==0:\n",
        "    return 0\n",
        "  elif n==1:\n",
        "    return 1\n",
        "  else:\n",
        "    return fib(n-1)+fib(n-2)\n",
        "\n",
        "for i in range(0,a):\n",
        "  print(fib(i),end=' ')\n",
        "\n"
      ]
    },
    {
      "cell_type": "code",
      "execution_count": null,
      "metadata": {},
      "outputs": [],
      "source": [
        "## Recursive method\n",
        "def fib(n):\n",
        "  if n<=1:\n",
        "    return n\n",
        "  else:\n",
        "    return fib(n-1)+fib(n-2)\n"
      ]
    },
    {
      "cell_type": "code",
      "execution_count": null,
      "metadata": {},
      "outputs": [],
      "source": [
        "n=int(input('Please eneter the number'))\n",
        "if n<=0:\n",
        "  print('Please enter valid number')\n",
        "else:\n",
        "  for i in range(n):\n",
        "    print(fib(i))"
      ]
    },
    {
      "cell_type": "code",
      "execution_count": 25,
      "metadata": {
        "colab": {
          "base_uri": "https://localhost:8080/"
        },
        "id": "5c1z69hqhfPI",
        "outputId": "71492b26-69e7-4d59-e9e2-ffc0798e4e53"
      },
      "outputs": [
        {
          "name": "stdout",
          "output_type": "stream",
          "text": [
            "[[0 1 2]\n",
            " [3 4 5]\n",
            " [6 7 8]]\n"
          ]
        }
      ],
      "source": [
        "import numpy as np\n",
        "a = np.arange(9).reshape(3,3)\n",
        "print(a)"
      ]
    },
    {
      "cell_type": "code",
      "execution_count": 26,
      "metadata": {
        "colab": {
          "base_uri": "https://localhost:8080/"
        },
        "id": "ra5jqixhyeve",
        "outputId": "3c14f948-3e79-4d35-cbd5-6be7304bd2b1"
      },
      "outputs": [
        {
          "data": {
            "text/plain": [
              "array([2, 4, 6])"
            ]
          },
          "execution_count": 26,
          "metadata": {},
          "output_type": "execute_result"
        }
      ],
      "source": [
        "np.fliplr(a).diagonal()"
      ]
    },
    {
      "cell_type": "code",
      "execution_count": 27,
      "metadata": {
        "colab": {
          "base_uri": "https://localhost:8080/"
        },
        "id": "2kLhfVtAynpu",
        "outputId": "677b211f-af8f-4b64-9ad0-69d2e019076d"
      },
      "outputs": [
        {
          "data": {
            "text/plain": [
              "array([0, 4, 8])"
            ]
          },
          "execution_count": 27,
          "metadata": {},
          "output_type": "execute_result"
        }
      ],
      "source": [
        "a.diagonal()"
      ]
    },
    {
      "cell_type": "code",
      "execution_count": 17,
      "metadata": {
        "id": "fXS5EIZ5hBD3"
      },
      "outputs": [],
      "source": [
        "#find primary and secondary diagonal value and find the difference between them\n",
        "\n",
        "def diagonalDifference(arr):\n",
        "    p_diagonal=np.fliplr(arr).diagonal()\n",
        "    s_diagonal=arr.diagonal()\n",
        "    return (abs(sum(p_diagonal)-sum(s_diagonal)))"
      ]
    },
    {
      "cell_type": "code",
      "execution_count": 23,
      "metadata": {
        "id": "hqlItykfyNje"
      },
      "outputs": [],
      "source": [
        "a=np.arange(4).reshape(2,2)"
      ]
    },
    {
      "cell_type": "code",
      "execution_count": 24,
      "metadata": {
        "colab": {
          "base_uri": "https://localhost:8080/"
        },
        "id": "flIbr6MHyH9d",
        "outputId": "347e51c9-3409-4dfe-eca5-dfa200948afe"
      },
      "outputs": [
        {
          "data": {
            "text/plain": [
              "0"
            ]
          },
          "execution_count": 24,
          "metadata": {},
          "output_type": "execute_result"
        }
      ],
      "source": [
        "diagonalDifference(a)"
      ]
    },
    {
      "cell_type": "code",
      "execution_count": 18,
      "metadata": {
        "id": "XPnEMBA1lhGf"
      },
      "outputs": [],
      "source": [
        "#method 2\n",
        "def diag(arr):\n",
        "  sum_primary=0\n",
        "  sum_secondary=0\n",
        "  n=len(arr)\n",
        "  print(\"value of n is \",n)\n",
        "  ## Primary daigonal\n",
        "  for i in range(n):\n",
        "    for j in range(n):\n",
        "      print(f\"value of i is {i} and j is {j}\")\n",
        "      if i==j:\n",
        "        sum_primary=sum_primary+(arr[i][j])\n",
        "        \n",
        "  ## Secondary daigonal\n",
        "  for i in range(n):\n",
        "    for j in range(n):\n",
        "      if i+j==n-1:\n",
        "        sum_secondary=sum_secondary+(arr[i][j])\n",
        "\n",
        "  print(abs(sum_primary-sum_secondary));\n"
      ]
    },
    {
      "cell_type": "code",
      "execution_count": 21,
      "metadata": {
        "colab": {
          "base_uri": "https://localhost:8080/"
        },
        "id": "BrTmOdEyqdWx",
        "outputId": "d3e3ce61-6238-40cb-9da7-6a8226bd72af"
      },
      "outputs": [
        {
          "name": "stdout",
          "output_type": "stream",
          "text": [
            "value of n is  3\n",
            "value of i is 0 and j is 0\n",
            "value of i is 0 and j is 1\n",
            "value of i is 0 and j is 2\n",
            "value of i is 1 and j is 0\n",
            "value of i is 1 and j is 1\n",
            "value of i is 1 and j is 2\n",
            "value of i is 2 and j is 0\n",
            "value of i is 2 and j is 1\n",
            "value of i is 2 and j is 2\n",
            "0\n"
          ]
        }
      ],
      "source": [
        "diag(a)"
      ]
    },
    {
      "cell_type": "code",
      "execution_count": 30,
      "metadata": {
        "id": "h0z8RyKezjsw"
      },
      "outputs": [],
      "source": [
        "##inbuilt method to calculate diagonal value\n",
        "l1=a.trace().sum()\n",
        "l2=a[::-1].trace().sum()"
      ]
    },
    {
      "cell_type": "code",
      "execution_count": 31,
      "metadata": {
        "colab": {
          "base_uri": "https://localhost:8080/"
        },
        "id": "jr5kuTx9zoY6",
        "outputId": "f8fbbcf8-dcf4-4462-e731-7cd7440047f9"
      },
      "outputs": [
        {
          "data": {
            "text/plain": [
              "12"
            ]
          },
          "execution_count": 31,
          "metadata": {},
          "output_type": "execute_result"
        }
      ],
      "source": [
        "l2"
      ]
    },
    {
      "cell_type": "code",
      "execution_count": null,
      "metadata": {
        "colab": {
          "base_uri": "https://localhost:8080/"
        },
        "id": "SDzAmcsbqFxf",
        "outputId": "21e69af3-9d60-44b6-8532-3083ea8ab72d"
      },
      "outputs": [
        {
          "name": "stdout",
          "output_type": "stream",
          "text": [
            "3\n",
            "11 2 4\n",
            "4 5 6\n",
            "10 8 -12\n",
            "[[11, 2, 4], [4, 5, 6], [10, 8, -12]]\n"
          ]
        }
      ],
      "source": [
        "n = int(input().strip())\n",
        "arr = []\n",
        "for _ in range(n):\n",
        "  arr.append(list(map(int, input().rstrip().split())))\n",
        "  print(arr)"
      ]
    },
    {
      "cell_type": "code",
      "execution_count": null,
      "metadata": {
        "id": "E6aVkSpJrwrw"
      },
      "outputs": [],
      "source": []
    },
    {
      "cell_type": "code",
      "execution_count": null,
      "metadata": {
        "colab": {
          "base_uri": "https://localhost:8080/"
        },
        "id": "wF3zVqVKrxUk",
        "outputId": "97c4d8a7-475e-45f1-dd57-a4e3973eb0f8"
      },
      "outputs": [
        {
          "name": "stdout",
          "output_type": "stream",
          "text": [
            "primary diagonal sum is 12 and secondary diagonal12\n"
          ]
        }
      ],
      "source": [
        "print(f\"primary diagonal sum is {l1} and secondary diagonal {l2}\")"
      ]
    },
    {
      "cell_type": "code",
      "execution_count": 32,
      "metadata": {
        "id": "bW-xa7Ei1A4r"
      },
      "outputs": [],
      "source": [
        "array=[1,1,3,2,1]\n",
        "ls=[]\n",
        "def create_zero_list(max):\n",
        "  listofzeros = [0] * max\n",
        "  return listofzeros\n",
        "\n",
        "def frequency_count(zero_list,array):\n",
        "  for i in array:\n",
        "    zero_list[i] = zero_list[i]+1\n",
        "  \n",
        "  return (' '.join(map(str, freq)))\n",
        "\n",
        "    \n",
        "\n"
      ]
    },
    {
      "cell_type": "code",
      "execution_count": 33,
      "metadata": {
        "id": "Uu-7ZlCY4Yzg"
      },
      "outputs": [],
      "source": [
        "zero_list=create_zero_list(len(array))"
      ]
    },
    {
      "cell_type": "code",
      "execution_count": 34,
      "metadata": {
        "colab": {
          "base_uri": "https://localhost:8080/"
        },
        "id": "U46Q2PdQz3BK",
        "outputId": "64548fe0-a5c2-437d-b6b6-e206d435906e"
      },
      "outputs": [
        {
          "data": {
            "text/plain": [
              "[0, 0, 0, 0, 0]"
            ]
          },
          "execution_count": 34,
          "metadata": {},
          "output_type": "execute_result"
        }
      ],
      "source": [
        "zero_list"
      ]
    },
    {
      "cell_type": "code",
      "execution_count": null,
      "metadata": {
        "colab": {
          "base_uri": "https://localhost:8080/"
        },
        "id": "SeU0PDDl43Ws",
        "outputId": "e781c68e-38cb-4954-aac7-8e21c674cbea"
      },
      "outputs": [
        {
          "name": "stdout",
          "output_type": "stream",
          "text": [
            "0 3 1 1 0 0 0 0 0 0 0 0 0 0 0 0 0 0 0 0 0 0 0 0 0 0 0 0 0 0 0 0 0 0 0 0 0 0 0 0 0 0 0 0 0 0 0 0 0 0 0 0 0 0 0 0 0 0 0 0 0 0 0 0 0 0 0 0 0 0 0 0 0 0 0 0 0 0 0 0 0 0 0 0 0 0 0 0 0 0 0 0 0 0 0 0 0 0 0 0\n"
          ]
        }
      ],
      "source": [
        "arr=[1,1,3,2,1]\n",
        "freq = [0]*100\n",
        "\n",
        "for i in arr:\n",
        "    freq[i] = freq[i]+1\n",
        "print (' '.join(map(str, freq)))"
      ]
    },
    {
      "cell_type": "code",
      "execution_count": null,
      "metadata": {
        "colab": {
          "base_uri": "https://localhost:8080/"
        },
        "id": "QcCTWkTQ922m",
        "outputId": "32f257a9-d491-4289-8455-9ec5d0d3af1e"
      },
      "outputs": [
        {
          "name": "stdout",
          "output_type": "stream",
          "text": [
            "Hello Ross Taylor! You just delved into python.\n"
          ]
        }
      ],
      "source": [
        "print(f'Hello {first} {last} Taylor! You just delved into python.')"
      ]
    },
    {
      "cell_type": "code",
      "execution_count": 36,
      "metadata": {
        "colab": {
          "base_uri": "https://localhost:8080/"
        },
        "id": "Dw3MBzwq9-5c",
        "outputId": "70264968-594a-4986-b9c8-751094365469"
      },
      "outputs": [
        {
          "name": "stdout",
          "output_type": "stream",
          "text": [
            "115\n"
          ]
        }
      ],
      "source": [
        "n=10\n",
        "a=[15,60 ,74 ,1 ,94, 93 ,28, 48, 70, 98, 45, 94, 42, 45, 48, 1, 72, 9, 24, 93, 41, 70, 60, 28, 11, 20, 72, 35, 11, 98, 31, 74, 31, 41, 9, 42, 20, 35, 24]\n",
        "r=a[0]\n",
        "for i in range(1,n):\n",
        "    r=r^a[i] #XOR\n",
        "print(r)"
      ]
    },
    {
      "cell_type": "code",
      "execution_count": null,
      "metadata": {
        "id": "gqFsXAsBBIsH"
      },
      "outputs": [],
      "source": [
        "import numpy as np\n",
        "a=np.array([[5,6],[1,5],[9,3]])"
      ]
    },
    {
      "cell_type": "code",
      "execution_count": null,
      "metadata": {
        "colab": {
          "base_uri": "https://localhost:8080/"
        },
        "id": "9M9shQFPUY-D",
        "outputId": "ad8c3065-be53-4989-8325-69c0d74e23ab"
      },
      "outputs": [
        {
          "data": {
            "text/plain": [
              "array([[5, 6],\n",
              "       [1, 5],\n",
              "       [9, 3]])"
            ]
          },
          "execution_count": 11,
          "metadata": {},
          "output_type": "execute_result"
        }
      ],
      "source": [
        "a"
      ]
    },
    {
      "cell_type": "code",
      "execution_count": null,
      "metadata": {
        "colab": {
          "base_uri": "https://localhost:8080/"
        },
        "id": "IflayTuRUa6v",
        "outputId": "bb5cca33-59fd-4e41-827e-e41a54e261cc"
      },
      "outputs": [
        {
          "data": {
            "text/plain": [
              "array([[5, 6],\n",
              "       [1, 5],\n",
              "       [3, 9]])"
            ]
          },
          "execution_count": 16,
          "metadata": {},
          "output_type": "execute_result"
        }
      ],
      "source": [
        "np.sort(a)"
      ]
    },
    {
      "cell_type": "code",
      "execution_count": null,
      "metadata": {
        "id": "Wfob0sFVUri0"
      },
      "outputs": [],
      "source": [
        "x=np.array([[1,2,3],[4,5,6]])"
      ]
    },
    {
      "cell_type": "code",
      "execution_count": null,
      "metadata": {
        "colab": {
          "base_uri": "https://localhost:8080/"
        },
        "id": "25hCCkbFVseD",
        "outputId": "8b8edeac-6eee-40e4-86a9-7cfd4dddbb98"
      },
      "outputs": [
        {
          "data": {
            "text/plain": [
              "array([[1, 2, 3],\n",
              "       [4, 5, 6]])"
            ]
          },
          "execution_count": 22,
          "metadata": {},
          "output_type": "execute_result"
        }
      ],
      "source": [
        "np.reshape(x,(2,3))"
      ]
    },
    {
      "cell_type": "code",
      "execution_count": null,
      "metadata": {
        "id": "I9_R2K4eVsZs"
      },
      "outputs": [],
      "source": [
        "x=[1,2,3,4,5,6]\n",
        "y=[7,8,9,10,11,12]"
      ]
    },
    {
      "cell_type": "code",
      "execution_count": null,
      "metadata": {
        "colab": {
          "base_uri": "https://localhost:8080/"
        },
        "id": "a9RwkvZ2VsV8",
        "outputId": "15db8c33-ddf7-422f-faf7-1bca0556e122"
      },
      "outputs": [
        {
          "data": {
            "text/plain": [
              "array([ 1,  2,  3,  4,  5,  6,  7,  8,  9, 10, 11, 12])"
            ]
          },
          "execution_count": 24,
          "metadata": {},
          "output_type": "execute_result"
        }
      ],
      "source": [
        "np.append(x,y)"
      ]
    },
    {
      "cell_type": "code",
      "execution_count": null,
      "metadata": {
        "colab": {
          "base_uri": "https://localhost:8080/"
        },
        "id": "IkySocznWkzg",
        "outputId": "6c7e0ac0-0eaa-4f53-f119-3bafccd29eb7"
      },
      "outputs": [
        {
          "data": {
            "text/plain": [
              "array([1, 2, 3, 4, 5, 6, 4, 5, 6, 0])"
            ]
          },
          "execution_count": 25,
          "metadata": {},
          "output_type": "execute_result"
        }
      ],
      "source": [
        "np.append(x,[4,5,6,0])"
      ]
    },
    {
      "cell_type": "code",
      "execution_count": null,
      "metadata": {
        "colab": {
          "base_uri": "https://localhost:8080/"
        },
        "id": "-fpwi7yxWtrQ",
        "outputId": "7c5b7f28-fe83-4671-9a1d-562c013d57df"
      },
      "outputs": [
        {
          "data": {
            "text/plain": [
              "array([[1, 2],\n",
              "       [3, 4],\n",
              "       [5, 6],\n",
              "       [5, 6],\n",
              "       [7, 8]])"
            ]
          },
          "execution_count": 27,
          "metadata": {},
          "output_type": "execute_result"
        }
      ],
      "source": [
        "x=np.array([[1,2],[3,4],[5,6]])\n",
        "np.append(x,[[5,6],[7,8]],axis=0)"
      ]
    },
    {
      "cell_type": "code",
      "execution_count": null,
      "metadata": {
        "colab": {
          "base_uri": "https://localhost:8080/"
        },
        "id": "lu4hc3iSWzr1",
        "outputId": "ac4bcb61-183e-483e-bbf0-c0b93f8a2bdf"
      },
      "outputs": [
        {
          "data": {
            "text/plain": [
              "(3, 2, 2)"
            ]
          },
          "execution_count": 36,
          "metadata": {},
          "output_type": "execute_result"
        }
      ],
      "source": [
        "ab=np.array([[[1.5,2,3],[4,5,6]],[[7,8,9],[10,11,12]]])\n",
        "np.swapaxes(ab,2,0).shape"
      ]
    },
    {
      "cell_type": "code",
      "execution_count": null,
      "metadata": {
        "colab": {
          "base_uri": "https://localhost:8080/"
        },
        "id": "Zhvl4gZYZGpf",
        "outputId": "1975411d-a6d7-40d0-ef48-cacd07f1ff43"
      },
      "outputs": [
        {
          "data": {
            "text/plain": [
              "(2, 2, 3)"
            ]
          },
          "execution_count": 31,
          "metadata": {},
          "output_type": "execute_result"
        }
      ],
      "source": [
        "ab.shape"
      ]
    },
    {
      "cell_type": "code",
      "execution_count": null,
      "metadata": {
        "colab": {
          "base_uri": "https://localhost:8080/"
        },
        "id": "5MF7S8TOZhBf",
        "outputId": "91c940ac-c5d2-4e85-b115-9ead60728640"
      },
      "outputs": [
        {
          "name": "stdout",
          "output_type": "stream",
          "text": [
            "(1, 3)\n"
          ]
        }
      ],
      "source": [
        "x = np.array([[1,2,3]])\n",
        "print(x.shape)"
      ]
    },
    {
      "cell_type": "code",
      "execution_count": null,
      "metadata": {
        "colab": {
          "base_uri": "https://localhost:8080/"
        },
        "id": "rhKzG1nNZhtI",
        "outputId": "68a67046-731c-4039-f370-ead5daf9951c"
      },
      "outputs": [
        {
          "data": {
            "text/plain": [
              "(3, 1)"
            ]
          },
          "execution_count": 35,
          "metadata": {},
          "output_type": "execute_result"
        }
      ],
      "source": [
        "np.swapaxes(x,0,1).shape"
      ]
    },
    {
      "cell_type": "code",
      "execution_count": null,
      "metadata": {
        "id": "tNsp1rXdfY1N"
      },
      "outputs": [],
      "source": [
        "a=np.arange(6).reshape(3,2)"
      ]
    },
    {
      "cell_type": "code",
      "execution_count": null,
      "metadata": {
        "colab": {
          "base_uri": "https://localhost:8080/"
        },
        "id": "K1wqyxBUfd_q",
        "outputId": "00c2f9b2-e96d-4b29-c896-fd09965e2be3"
      },
      "outputs": [
        {
          "data": {
            "text/plain": [
              "(3, 2)"
            ]
          },
          "execution_count": 39,
          "metadata": {},
          "output_type": "execute_result"
        }
      ],
      "source": [
        "a.shape"
      ]
    },
    {
      "cell_type": "code",
      "execution_count": null,
      "metadata": {
        "colab": {
          "base_uri": "https://localhost:8080/"
        },
        "id": "-s3EFeulfedq",
        "outputId": "2eb85253-a91e-4e0d-f04e-daefe99df1f5"
      },
      "outputs": [
        {
          "data": {
            "text/plain": [
              "(2, 2, 3)"
            ]
          },
          "execution_count": 43,
          "metadata": {},
          "output_type": "execute_result"
        }
      ],
      "source": [
        "ab=np.array([[[1.5,2,3],[4,5,6]],[[7,8,9],[10,11,12]]])\n",
        "ab.shape"
      ]
    },
    {
      "cell_type": "code",
      "execution_count": null,
      "metadata": {
        "colab": {
          "base_uri": "https://localhost:8080/"
        },
        "id": "qZ6RfB89g69Z",
        "outputId": "d30f79b2-619a-4f46-d62f-5da37ccc833d"
      },
      "outputs": [
        {
          "data": {
            "text/plain": [
              "(2, 3, 2)"
            ]
          },
          "execution_count": 45,
          "metadata": {},
          "output_type": "execute_result"
        }
      ],
      "source": [
        "np.swapaxes(ab,1,2).shape"
      ]
    },
    {
      "cell_type": "code",
      "execution_count": null,
      "metadata": {
        "id": "qaqgc7xhjx7t"
      },
      "outputs": [],
      "source": [
        "y=np.array([[10,10,10,10],[20,20,20,20],[30,30,30,30],[40,40,40,40]])\n",
        "z=np.array([1,2,3,4])\n",
        "b=np.broadcast(y,z)"
      ]
    },
    {
      "cell_type": "code",
      "execution_count": null,
      "metadata": {
        "id": "DN7k80rnjzWW"
      },
      "outputs": [],
      "source": [
        "a=np.array([1,2,3,4])\n",
        "b=np.broadcast_to(a,(4,4),subok=False)"
      ]
    },
    {
      "cell_type": "code",
      "execution_count": null,
      "metadata": {
        "id": "pCc1nqgpkXFf"
      },
      "outputs": [],
      "source": [
        "x = np.array([1,2])\n",
        "y = np.expand_dims(x, axis=0)"
      ]
    },
    {
      "cell_type": "code",
      "execution_count": null,
      "metadata": {
        "colab": {
          "base_uri": "https://localhost:8080/"
        },
        "id": "DeCoG7RoklEM",
        "outputId": "7e009875-dbef-402a-e341-d7e157754c97"
      },
      "outputs": [
        {
          "name": "stdout",
          "output_type": "stream",
          "text": [
            "(2,) (1, 2)\n"
          ]
        }
      ],
      "source": [
        "print(x.shape,y.shape)"
      ]
    },
    {
      "cell_type": "code",
      "execution_count": null,
      "metadata": {
        "colab": {
          "base_uri": "https://localhost:8080/"
        },
        "id": "eXGo6hv3kxGI",
        "outputId": "bc03c81d-2586-4e1b-ed59-4e71b5f04223"
      },
      "outputs": [
        {
          "data": {
            "text/plain": [
              "(2, 1)"
            ]
          },
          "execution_count": 57,
          "metadata": {},
          "output_type": "execute_result"
        }
      ],
      "source": [
        "y1=np.expand_dims(x,axis=1)\n",
        "y1.shape"
      ]
    },
    {
      "cell_type": "code",
      "execution_count": null,
      "metadata": {
        "id": "6Qaj9uQml7Jf"
      },
      "outputs": [],
      "source": [
        "a2 = np.array([\n",
        "    [1, 2, 1, 2, 1, 2, 1, 2, 1, 2, 1, 2, 1, 2, 1],\n",
        "    [1, 2, 1, 2, 1, 2, 1, 2, 1, 2, 1, 2, 1, 2, 1],\n",
        "    [1, 2, 1, 2, 1, 2, 1, 2, 1, 2, 1, 2, 1, 2, 1],\n",
        "    [1, 2, 1, 2, 1, 2, 1, 2, 1, 2, 1, 2, 1, 2, 1],\n",
        "    [1, 2, 1, 2, 1, 2, 1, 2, 1, 2, 1, 2, 1, 2, 1],\n",
        "    [1, 2, 1, 2, 1, 2, 1, 2, 1, 2, 1, 2, 1, 2, 1]\n",
        "])\n"
      ]
    },
    {
      "cell_type": "code",
      "execution_count": null,
      "metadata": {
        "id": "9T1PtgWHl8WS"
      },
      "outputs": [],
      "source": [
        "a=np.arange(9)"
      ]
    },
    {
      "cell_type": "code",
      "execution_count": null,
      "metadata": {
        "colab": {
          "base_uri": "https://localhost:8080/"
        },
        "id": "7My-QPMPoPks",
        "outputId": "3f5e0386-47be-4913-ca97-41f46b241266"
      },
      "outputs": [
        {
          "name": "stdout",
          "output_type": "stream",
          "text": [
            "[array([0, 1, 2]), array([3, 4]), array([5, 6]), array([7, 8])]\n"
          ]
        }
      ],
      "source": [
        "b=np.split(a,4.5)\n",
        "print(b)"
      ]
    },
    {
      "cell_type": "code",
      "execution_count": null,
      "metadata": {
        "colab": {
          "base_uri": "https://localhost:8080/",
          "height": 321
        },
        "id": "u3ORh40QocXQ",
        "outputId": "0b6c784f-d39f-43b0-e541-19110e79ea22"
      },
      "outputs": [
        {
          "ename": "ValueError",
          "evalue": "ignored",
          "output_type": "error",
          "traceback": [
            "\u001b[0;31m---------------------------------------------------------------------------\u001b[0m",
            "\u001b[0;31mValueError\u001b[0m                                Traceback (most recent call last)",
            "\u001b[0;32m<ipython-input-65-53cdfedbffdc>\u001b[0m in \u001b[0;36m<module>\u001b[0;34m()\u001b[0m\n\u001b[0;32m----> 1\u001b[0;31m \u001b[0mnp\u001b[0m\u001b[0;34m.\u001b[0m\u001b[0msplit\u001b[0m\u001b[0;34m(\u001b[0m\u001b[0ma\u001b[0m\u001b[0;34m,\u001b[0m\u001b[0;36m5\u001b[0m\u001b[0;34m)\u001b[0m\u001b[0;34m\u001b[0m\u001b[0;34m\u001b[0m\u001b[0m\n\u001b[0m",
            "\u001b[0;32m<__array_function__ internals>\u001b[0m in \u001b[0;36msplit\u001b[0;34m(*args, **kwargs)\u001b[0m\n",
            "\u001b[0;32m/usr/local/lib/python3.7/dist-packages/numpy/lib/shape_base.py\u001b[0m in \u001b[0;36msplit\u001b[0;34m(ary, indices_or_sections, axis)\u001b[0m\n\u001b[1;32m    871\u001b[0m         \u001b[0;32mif\u001b[0m \u001b[0mN\u001b[0m \u001b[0;34m%\u001b[0m \u001b[0msections\u001b[0m\u001b[0;34m:\u001b[0m\u001b[0;34m\u001b[0m\u001b[0;34m\u001b[0m\u001b[0m\n\u001b[1;32m    872\u001b[0m             raise ValueError(\n\u001b[0;32m--> 873\u001b[0;31m                 'array split does not result in an equal division') from None\n\u001b[0m\u001b[1;32m    874\u001b[0m     \u001b[0;32mreturn\u001b[0m \u001b[0marray_split\u001b[0m\u001b[0;34m(\u001b[0m\u001b[0mary\u001b[0m\u001b[0;34m,\u001b[0m \u001b[0mindices_or_sections\u001b[0m\u001b[0;34m,\u001b[0m \u001b[0maxis\u001b[0m\u001b[0;34m)\u001b[0m\u001b[0;34m\u001b[0m\u001b[0;34m\u001b[0m\u001b[0m\n\u001b[1;32m    875\u001b[0m \u001b[0;34m\u001b[0m\u001b[0m\n",
            "\u001b[0;31mValueError\u001b[0m: array split does not result in an equal division"
          ]
        }
      ],
      "source": [
        "np.split(a,5)"
      ]
    },
    {
      "cell_type": "code",
      "execution_count": null,
      "metadata": {
        "colab": {
          "base_uri": "https://localhost:8080/",
          "height": 321
        },
        "id": "eWN4hNgEofrI",
        "outputId": "64b78fbf-e941-4e35-c23b-4cddf17ed8d4"
      },
      "outputs": [
        {
          "ename": "ValueError",
          "evalue": "ignored",
          "output_type": "error",
          "traceback": [
            "\u001b[0;31m---------------------------------------------------------------------------\u001b[0m",
            "\u001b[0;31mValueError\u001b[0m                                Traceback (most recent call last)",
            "\u001b[0;32m<ipython-input-66-26573c311feb>\u001b[0m in \u001b[0;36m<module>\u001b[0;34m()\u001b[0m\n\u001b[0;32m----> 1\u001b[0;31m \u001b[0mnp\u001b[0m\u001b[0;34m.\u001b[0m\u001b[0msplit\u001b[0m\u001b[0;34m(\u001b[0m\u001b[0ma\u001b[0m\u001b[0;34m,\u001b[0m\u001b[0;36m2\u001b[0m\u001b[0;34m)\u001b[0m\u001b[0;34m\u001b[0m\u001b[0;34m\u001b[0m\u001b[0m\n\u001b[0m",
            "\u001b[0;32m<__array_function__ internals>\u001b[0m in \u001b[0;36msplit\u001b[0;34m(*args, **kwargs)\u001b[0m\n",
            "\u001b[0;32m/usr/local/lib/python3.7/dist-packages/numpy/lib/shape_base.py\u001b[0m in \u001b[0;36msplit\u001b[0;34m(ary, indices_or_sections, axis)\u001b[0m\n\u001b[1;32m    871\u001b[0m         \u001b[0;32mif\u001b[0m \u001b[0mN\u001b[0m \u001b[0;34m%\u001b[0m \u001b[0msections\u001b[0m\u001b[0;34m:\u001b[0m\u001b[0;34m\u001b[0m\u001b[0;34m\u001b[0m\u001b[0m\n\u001b[1;32m    872\u001b[0m             raise ValueError(\n\u001b[0;32m--> 873\u001b[0;31m                 'array split does not result in an equal division') from None\n\u001b[0m\u001b[1;32m    874\u001b[0m     \u001b[0;32mreturn\u001b[0m \u001b[0marray_split\u001b[0m\u001b[0;34m(\u001b[0m\u001b[0mary\u001b[0m\u001b[0;34m,\u001b[0m \u001b[0mindices_or_sections\u001b[0m\u001b[0;34m,\u001b[0m \u001b[0maxis\u001b[0m\u001b[0;34m)\u001b[0m\u001b[0;34m\u001b[0m\u001b[0;34m\u001b[0m\u001b[0m\n\u001b[1;32m    875\u001b[0m \u001b[0;34m\u001b[0m\u001b[0m\n",
            "\u001b[0;31mValueError\u001b[0m: array split does not result in an equal division"
          ]
        }
      ],
      "source": [
        "np.split(a,2)"
      ]
    },
    {
      "cell_type": "code",
      "execution_count": null,
      "metadata": {
        "colab": {
          "base_uri": "https://localhost:8080/"
        },
        "id": "gplew1hPpIVD",
        "outputId": "c874b897-01b1-4b9b-ff64-ed7323300323"
      },
      "outputs": [
        {
          "name": "stdout",
          "output_type": "stream",
          "text": [
            "[[ 0  1  2  3]\n",
            " [ 4  5  6  7]\n",
            " [ 8  9 10 11]\n",
            " [12 13 14 15]]\n"
          ]
        }
      ],
      "source": [
        "x = np.arange(16).reshape(4, 4) \n",
        "print(x)"
      ]
    },
    {
      "cell_type": "code",
      "execution_count": null,
      "metadata": {
        "colab": {
          "base_uri": "https://localhost:8080/"
        },
        "id": "vCUviia6pKpN",
        "outputId": "cc2522cd-2d02-4387-a09e-36a2b923643e"
      },
      "outputs": [
        {
          "data": {
            "text/plain": [
              "[array([[ 0,  1],\n",
              "        [ 4,  5],\n",
              "        [ 8,  9],\n",
              "        [12, 13]]), array([[ 2,  3],\n",
              "        [ 6,  7],\n",
              "        [10, 11],\n",
              "        [14, 15]])]"
            ]
          },
          "execution_count": 70,
          "metadata": {},
          "output_type": "execute_result"
        }
      ],
      "source": [
        "np.hsplit(x,2)"
      ]
    },
    {
      "cell_type": "code",
      "execution_count": null,
      "metadata": {
        "colab": {
          "base_uri": "https://localhost:8080/"
        },
        "id": "MxcN_EGupn0I",
        "outputId": "ebb0811b-bd4c-4792-a2e8-049002abf60c"
      },
      "outputs": [
        {
          "data": {
            "text/plain": [
              "[array([[0, 1, 2, 3],\n",
              "        [4, 5, 6, 7]]), array([[ 8,  9, 10, 11],\n",
              "        [12, 13, 14, 15]])]"
            ]
          },
          "execution_count": 71,
          "metadata": {},
          "output_type": "execute_result"
        }
      ],
      "source": [
        "np.vsplit(x,2)"
      ]
    },
    {
      "cell_type": "code",
      "execution_count": null,
      "metadata": {
        "colab": {
          "base_uri": "https://localhost:8080/"
        },
        "id": "pkYEUiaDrx9t",
        "outputId": "446cd45d-ea55-46d9-82b2-984e562c1605"
      },
      "outputs": [
        {
          "name": "stdout",
          "output_type": "stream",
          "text": [
            "Top 2 Freq: m    12\n",
            "a     9\n",
            "b     4\n",
            "c     4\n",
            "n     2\n",
            "d     1\n",
            "e     1\n",
            "f     1\n",
            "dtype: int64\n"
          ]
        }
      ],
      "source": [
        "import pandas as pd;\n",
        "ser1=pd.Series(list('abcdefaaabababaaacccnnmmmmmmmmmmmm'));\n",
        "ser2=pd.Series(list('niteshhhee'));\n",
        "ser3=pd.Series(list('pandey'));\n",
        "\n",
        "print(\"Top 2 Freq:\", ser1.value_counts());\n",
        "ser1[~ser1.isin(ser1.value_counts().index[:2])] = 'Other';\n",
        "\n"
      ]
    },
    {
      "cell_type": "code",
      "execution_count": null,
      "metadata": {
        "colab": {
          "base_uri": "https://localhost:8080/"
        },
        "id": "Ivs88r4dsDwJ",
        "outputId": "554071cb-ed30-4da2-d782-c14d041aceb2"
      },
      "outputs": [
        {
          "name": "stdout",
          "output_type": "stream",
          "text": [
            "Index(['e', 'h'], dtype='object')\n"
          ]
        }
      ],
      "source": [
        "res=ser2.value_counts()\n",
        "print(res.index[:2])"
      ]
    },
    {
      "cell_type": "code",
      "execution_count": null,
      "metadata": {
        "colab": {
          "base_uri": "https://localhost:8080/"
        },
        "id": "Fsu8CtH8st8s",
        "outputId": "439889c7-b9b7-444b-deae-33eeed7232f1"
      },
      "outputs": [
        {
          "data": {
            "text/plain": [
              "0         a\n",
              "1     Other\n",
              "2     Other\n",
              "3     Other\n",
              "4     Other\n",
              "5     Other\n",
              "6         a\n",
              "7         a\n",
              "8         a\n",
              "9     Other\n",
              "10        a\n",
              "11    Other\n",
              "12        a\n",
              "13    Other\n",
              "14        a\n",
              "15        a\n",
              "16        a\n",
              "17    Other\n",
              "18    Other\n",
              "19    Other\n",
              "20    Other\n",
              "21    Other\n",
              "22        m\n",
              "23        m\n",
              "24        m\n",
              "25        m\n",
              "26        m\n",
              "27        m\n",
              "28        m\n",
              "29        m\n",
              "30        m\n",
              "31        m\n",
              "32        m\n",
              "33        m\n",
              "dtype: object"
            ]
          },
          "execution_count": 83,
          "metadata": {},
          "output_type": "execute_result"
        }
      ],
      "source": [
        "ser1"
      ]
    }
  ],
  "metadata": {
    "colab": {
      "collapsed_sections": [],
      "name": "hackerrank_python_code.ipynb",
      "provenance": []
    },
    "kernelspec": {
      "display_name": "Python 3",
      "name": "python3"
    },
    "language_info": {
      "name": "python"
    }
  },
  "nbformat": 4,
  "nbformat_minor": 0
}
