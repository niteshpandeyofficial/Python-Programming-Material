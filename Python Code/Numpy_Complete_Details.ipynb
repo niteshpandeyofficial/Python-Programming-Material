{
  "nbformat": 4,
  "nbformat_minor": 0,
  "metadata": {
    "colab": {
      "provenance": []
    },
    "kernelspec": {
      "name": "python3",
      "display_name": "Python 3"
    },
    "language_info": {
      "name": "python"
    }
  },
  "cells": [
    {
      "cell_type": "markdown",
      "source": [
        "### **NumPy Basics**\n",
        "\n",
        "NumPy, short for Numerical Python, is one of the most important foundational packages for numerical computing in Python.\n",
        "\n",
        "* Numpy is developed on the top of numeric library.Numeric library developed by jim hugunin.\n",
        "* Numpy is developed by travis oliphant and multiple contributors.\n",
        "* Numy is freeware and open source library.\n",
        "* Numpy is written in both python and C language.As most of numpy function is written in c ,performance wise numpy is good(spped is more)\n",
        "\n",
        "Here are some of the things you’ll find in NumPy:\n",
        "* ndarray an efficient multidimensional array providing fast array-oriented arithmetic operations and flexible broadcasting capabilities.\n",
        "* Mathematical functions for fast operations on entire arrays of data without having to write loops.\n",
        "* Tools for reading/writing array data to disk and working with memory-mapped files.\n",
        "* Linear algebra, random number generation, and Fourier transform capabilities."
      ],
      "metadata": {
        "id": "kh6SeN4yMYfx"
      }
    },
    {
      "cell_type": "markdown",
      "source": [
        "* The array which are created by using numpy are called **nd arrays**.\n",
        "This nd array in most commonly used in Data Science.\n",
        "\n",
        "* An indexed collection of homogeneous data elements is nothing but array."
      ],
      "metadata": {
        "id": "wt9VTxo3yDA7"
      }
    },
    {
      "cell_type": "markdown",
      "source": [
        "By default array concept is not available in python,instead we can use list(but make sure list and array both are not same)\n",
        "\n",
        "But in python we can create array in the following 2 ways.\n",
        "1. By using array module.\n",
        "2. By using numpy module."
      ],
      "metadata": {
        "id": "-S3LJDz4GUDf"
      }
    },
    {
      "cell_type": "code",
      "source": [
        "##Need to specify the type of element\n",
        "##Not recommended to use because much library is not support\n",
        "import array\n",
        "a=array.array('i',[10,20,30])\n",
        "for i in a:\n",
        "  print(i)"
      ],
      "metadata": {
        "colab": {
          "base_uri": "https://localhost:8080/"
        },
        "id": "f0-lLVAEG4Nh",
        "outputId": "5d8347d3-fdb2-44aa-8dc3-24be82f2bbf3"
      },
      "execution_count": null,
      "outputs": [
        {
          "output_type": "stream",
          "name": "stdout",
          "text": [
            "10\n",
            "20\n",
            "30\n"
          ]
        }
      ]
    },
    {
      "cell_type": "code",
      "source": [
        "import numpy as np\n",
        "a=np.array([10,20,30])\n",
        "print(a)\n",
        "\n",
        "for i in a:\n",
        "  print(i)"
      ],
      "metadata": {
        "colab": {
          "base_uri": "https://localhost:8080/"
        },
        "id": "Zksli0HPHY2D",
        "outputId": "89ba3568-45cc-4e8e-8414-a59a08bec75b"
      },
      "execution_count": null,
      "outputs": [
        {
          "output_type": "stream",
          "name": "stdout",
          "text": [
            "[10 20 30]\n",
            "10\n",
            "20\n",
            "30\n"
          ]
        }
      ]
    },
    {
      "cell_type": "markdown",
      "source": [
        "* 1D array know as Vector\n",
        "* 2D array know as Metrix"
      ],
      "metadata": {
        "id": "TUPdTpCzyCFV"
      }
    },
    {
      "cell_type": "code",
      "execution_count": null,
      "metadata": {
        "id": "xolGBvElL57z"
      },
      "outputs": [],
      "source": [
        "import numpy as np\n",
        "import time"
      ]
    },
    {
      "cell_type": "code",
      "source": [
        "start=time.time()\n",
        "a=np.arange(100000000)\n",
        "res=a**2\n",
        "end=time.time()\n",
        "print('Time Taken to execute the code',end-start)"
      ],
      "metadata": {
        "colab": {
          "base_uri": "https://localhost:8080/"
        },
        "id": "_xcrewZEQh1K",
        "outputId": "e995665e-2b56-46c1-930e-62d6a708c767"
      },
      "execution_count": null,
      "outputs": [
        {
          "output_type": "stream",
          "name": "stdout",
          "text": [
            "Time Taken to execute the code 1.150693655014038\n"
          ]
        }
      ]
    },
    {
      "cell_type": "code",
      "source": [
        "start=time.time()\n",
        "b=list(range(100000000))\n",
        "res=[x**2 for x in b]\n",
        "end=time.time()\n",
        "print('Time Taken to execute the code',end-start)"
      ],
      "metadata": {
        "colab": {
          "base_uri": "https://localhost:8080/"
        },
        "id": "p_kZUIMpQ78x",
        "outputId": "246427ac-647e-460e-eb4c-2861a3691706"
      },
      "execution_count": null,
      "outputs": [
        {
          "output_type": "stream",
          "name": "stdout",
          "text": [
            "Time Taken to execute the code 46.15275168418884\n"
          ]
        }
      ]
    },
    {
      "cell_type": "markdown",
      "source": [
        "#### NumPy-based algorithms are generally 10 to 100 times faster (or more) than their pure Python counterparts and use significantly less memory."
      ],
      "metadata": {
        "id": "3byUS3pYSqeg"
      }
    },
    {
      "cell_type": "code",
      "source": [
        "#numpy array consume less memory to store the data sa compare to python list\n",
        "import sys\n",
        "a=np.array([10,20,30,40,50,60,70,80,90,10,20,30,40,50,60,70,80,90,10,20,30,40,50,60,70,80,90,10,20])\n",
        "l=[10,20,30,40,50,60,70,80,90,10,20,30,40,50,60,70,80,90,10,20,30,40,50,60,70,80,90,10,20]\n",
        "print('Size of array',sys.getsizeof(a))\n",
        "print('Size of list', sys.getsizeof(l))\n",
        "\n",
        "#Size of array 228\n",
        "#Size of list 296\n"
      ],
      "metadata": {
        "id": "PpuVGo7iJ3va"
      },
      "execution_count": null,
      "outputs": []
    },
    {
      "cell_type": "markdown",
      "source": [
        "#### **Array Attributes**\n",
        "#### There are various array attributes which mention as below\n",
        "* ndim      --to get dimension of the array\n",
        "* shape     --to get shape of the array\n",
        "* size      --to get size of array which is nothing but the no of elements\n",
        "* dtype     --to get data type of array elements\n",
        "* itemsize  --the size of each array element in bytes"
      ],
      "metadata": {
        "id": "xzZTvngNMdHL"
      }
    },
    {
      "cell_type": "markdown",
      "source": [
        "#### An ndarray is a generic multidimensional container for homogeneous data; that is, all of the elements must be the same type. Every array has a shape, a tuple indicating the size of each dimension, and a dtype, an object describing the data type of the array:"
      ],
      "metadata": {
        "id": "ny2G4JX9TYyc"
      }
    },
    {
      "cell_type": "markdown",
      "source": [
        "#### Every array has a shape, a tuple indicating the size of each dimension, and a dtype, an object describing the data type of the array:\n"
      ],
      "metadata": {
        "id": "2QUO2hzyVS3N"
      }
    },
    {
      "cell_type": "code",
      "source": [
        "import numpy as np\n",
        "a=np.array([1,2,3,4,5,6])\n",
        "print(a)"
      ],
      "metadata": {
        "colab": {
          "base_uri": "https://localhost:8080/"
        },
        "id": "QFhD-D7AL3fd",
        "outputId": "ee2cd666-8cd4-4608-b7a6-16201c1eabf6"
      },
      "execution_count": null,
      "outputs": [
        {
          "output_type": "stream",
          "name": "stdout",
          "text": [
            "[1 2 3 4 5 6]\n"
          ]
        }
      ]
    },
    {
      "cell_type": "code",
      "source": [
        "print(a.shape)\n",
        "print(a.ndim)\n",
        "print(a.size)\n",
        "print(a.dtype)\n",
        "print(a.itemsize)"
      ],
      "metadata": {
        "colab": {
          "base_uri": "https://localhost:8080/"
        },
        "id": "pvkeFH2fTLx7",
        "outputId": "b2d1519c-da86-46c4-9b8e-58b77db0cd17"
      },
      "execution_count": null,
      "outputs": [
        {
          "output_type": "stream",
          "name": "stdout",
          "text": [
            "(6,)\n",
            "1\n",
            "6\n",
            "int64\n",
            "8\n"
          ]
        }
      ]
    },
    {
      "cell_type": "code",
      "source": [
        "data=[1,2,3,45]\n",
        "arr=np.array(data)"
      ],
      "metadata": {
        "id": "c2pttx3TVH1e"
      },
      "execution_count": null,
      "outputs": []
    },
    {
      "cell_type": "code",
      "source": [
        "data2=np.array([[1,2,3],[5,6,7]],dtype=float)\n",
        "\n",
        "print(data2.size)\n",
        "print(data2.itemsize)\n",
        "print(data2.ndim)    \n",
        "print(data2.shape)  \n",
        "print(data2.dtype) "
      ],
      "metadata": {
        "colab": {
          "base_uri": "https://localhost:8080/"
        },
        "id": "1-AeLPlDVNLv",
        "outputId": "e2e9db66-a882-4c20-d1ed-a8cd45123f54"
      },
      "execution_count": null,
      "outputs": [
        {
          "output_type": "stream",
          "name": "stdout",
          "text": [
            "6\n",
            "8\n",
            "2\n",
            "(2, 3)\n",
            "float64\n"
          ]
        }
      ]
    },
    {
      "cell_type": "markdown",
      "source": [
        "#### **Numpy Data Types**\n",
        "integer,float,string,complex,boolean    \n",
        "i --->Integer(int8,int16,int32,int64)   \n",
        "b --->boolean  \n",
        "u --->unsigned integer  \n",
        "f --->float  \n",
        "c --->complex   \n",
        "s --->string   \n",
        "u --->unicode string   \n",
        "M --->datetime   "
      ],
      "metadata": {
        "id": "fdzQ0gfQPipQ"
      }
    },
    {
      "cell_type": "markdown",
      "source": [
        "#### Data Type \n",
        "Numpy Supported Data Type.\n",
        "\n",
        "* int8, uint8           -Signed and unsigned 8-bit (1 byte) integer types.\n",
        "* int16, uint16         -Signed and unsigned 16-bit integer types.\n",
        "* int32, uint32         -Signed and unsigned 32-bit integer types.\n",
        "* int64, uint64         -Signed and unsigned 64-bit integer types.\n",
        "* float16               -Half-precision floating point.\n",
        "* float32               -Standard single-precision floating point\n",
        "* float64               -Standard double-precision floating point\n",
        "* float128              -Extended-precision floating point\n",
        "* complex64,complex128,complex256 -Complex numbers represented by two 32, 64, or 128 floats, respectivel\n",
        "\n",
        "* bool                  -Boolean type storing True and False values\n",
        "* object                -Python object type; a value can be any Python object\n",
        "\n",
        "\n"
      ],
      "metadata": {
        "id": "GIoAJZTpNq03"
      }
    },
    {
      "cell_type": "markdown",
      "source": [
        "**Note-**   \n",
        "A signed integer can represent both positive and negative integers, while an unsigned integer can only represent nonzero integers. For example, int8\n",
        "(signed 8-bit integer) can represent integers from -128 to 127 (inclusive),while uint8 (unsigned 8-bit integer) can represent 0 through 255."
      ],
      "metadata": {
        "id": "M5DfPdLNQ9P4"
      }
    },
    {
      "cell_type": "code",
      "source": [
        "import numpy as np\n",
        "n=np.array([1,2,3,4,5,6,7,8])\n",
        "print(sys.getsizeof(n),n.dtype) #default dtypes is int64 for integer values\n",
        "n=np.array([1,2,3,4,5,6,7,8],dtype='int8')\n",
        "print(sys.getsizeof(n))\n",
        "\n",
        "n=np.array([1.2,3.4,5.6,7.,8.9])\n",
        "print(sys.getsizeof(n),n.dtype)\n",
        "n=np.array([1.2,3.4,5.6,7.,8.9],dtype='float32')\n",
        "print(sys.getsizeof(n),n.dtype)\n"
      ],
      "metadata": {
        "colab": {
          "base_uri": "https://localhost:8080/"
        },
        "id": "cEZ_t1EYRfjU",
        "outputId": "ba0c0c18-c291-43df-c941-67b8a5c85952"
      },
      "execution_count": null,
      "outputs": [
        {
          "output_type": "stream",
          "name": "stdout",
          "text": [
            "176 int64\n",
            "120\n",
            "152 float64\n",
            "132 float32\n"
          ]
        }
      ]
    },
    {
      "cell_type": "code",
      "source": [
        "##Data Types\n",
        "b=np.array([1,2,3,4],dtype=np.int64)\n",
        "print(b)"
      ],
      "metadata": {
        "colab": {
          "base_uri": "https://localhost:8080/"
        },
        "id": "g322twSMMb1W",
        "outputId": "3aeedcb6-8851-4e1a-a38a-a1404424d934"
      },
      "execution_count": null,
      "outputs": [
        {
          "output_type": "stream",
          "name": "stdout",
          "text": [
            "[1 2 3 4]\n"
          ]
        }
      ]
    },
    {
      "cell_type": "code",
      "source": [
        "b=np.array([1,2,3,4],dtype=np.float64)\n",
        "print(b)\n",
        "print(b.dtype)"
      ],
      "metadata": {
        "colab": {
          "base_uri": "https://localhost:8080/"
        },
        "id": "n0_1wKlkNFBU",
        "outputId": "f735707d-5851-40ef-ad8f-54c099c191a7"
      },
      "execution_count": null,
      "outputs": [
        {
          "output_type": "stream",
          "name": "stdout",
          "text": [
            "[1. 2. 3. 4.]\n",
            "float64\n"
          ]
        }
      ]
    },
    {
      "cell_type": "code",
      "source": [
        "#you can use astype to convert the datatype (type casting)\n",
        "b=np.array([1,2,3,4],dtype=np.int64)\n",
        "print(b.astype(np.float64'))\n",
        "c=np.float64(b)"
      ],
      "metadata": {
        "colab": {
          "base_uri": "https://localhost:8080/"
        },
        "id": "Z7NDM0ojNHvj",
        "outputId": "932d8c45-0813-4022-e9c5-88ed63ce0961"
      },
      "execution_count": null,
      "outputs": [
        {
          "output_type": "execute_result",
          "data": {
            "text/plain": [
              "dtype('float64')"
            ]
          },
          "metadata": {},
          "execution_count": 23
        }
      ]
    },
    {
      "cell_type": "code",
      "source": [
        "np.array(['a',1,2,4]).dtype"
      ],
      "metadata": {
        "colab": {
          "base_uri": "https://localhost:8080/"
        },
        "id": "0vsbx780Rffw",
        "outputId": "5ba4935a-567a-4024-f400-d0f2999d6306"
      },
      "execution_count": null,
      "outputs": [
        {
          "output_type": "execute_result",
          "data": {
            "text/plain": [
              "dtype('<U21')"
            ]
          },
          "metadata": {},
          "execution_count": 45
        }
      ]
    },
    {
      "cell_type": "markdown",
      "source": [
        "Slicing and indexing  \n",
        "\n",
        "\n",
        "    array[start:stop:steps] \n",
        "  \n",
        "**Note-**\n",
        "1. For begin,end and step,we can take both positive and negative values.\n",
        "2. If step value is positive,then we have to consider element from begin to end-1 in forward direction(left to right).\n",
        "3. If the step value is negative,then we have to consider elements from begin to end+1 direction(from right to left).\n",
        "4. In forward direction if end value is zero then result is always empty.\n",
        "5. In backward direction if end value is -1 then result is always empty."
      ],
      "metadata": {
        "id": "LbMoQx_lM731"
      }
    },
    {
      "cell_type": "code",
      "source": [
        "a=np.arange(10)"
      ],
      "metadata": {
        "id": "ERo98QPL8vXj"
      },
      "execution_count": null,
      "outputs": []
    },
    {
      "cell_type": "code",
      "source": [
        "print(a)\n",
        "print(a[:4])"
      ],
      "metadata": {
        "colab": {
          "base_uri": "https://localhost:8080/"
        },
        "id": "1teSXvBTNDiF",
        "outputId": "b0e7d005-4453-4f09-aa20-9c9deec8f263"
      },
      "execution_count": null,
      "outputs": [
        {
          "output_type": "stream",
          "name": "stdout",
          "text": [
            "[0 1 2 3 4 5 6 7 8 9]\n",
            "[0 1 2 3]\n"
          ]
        }
      ]
    },
    {
      "cell_type": "code",
      "source": [
        "a[:4]=10\n",
        "print(a)"
      ],
      "metadata": {
        "colab": {
          "base_uri": "https://localhost:8080/"
        },
        "id": "y3okBov6NGpA",
        "outputId": "bfd8028d-4f0f-48b8-874c-e155cd34b8b0"
      },
      "execution_count": null,
      "outputs": [
        {
          "output_type": "stream",
          "name": "stdout",
          "text": [
            "[10 10 10 10  4  5  6  7  8  9]\n"
          ]
        }
      ]
    },
    {
      "cell_type": "code",
      "source": [
        "a[1::2] #steps size of 2\n",
        "a[::3]  #steps size of 3"
      ],
      "metadata": {
        "colab": {
          "base_uri": "https://localhost:8080/"
        },
        "id": "NhuFcqrOVuwl",
        "outputId": "c93f6fa2-34f5-4d5c-d971-62444cfc57e1"
      },
      "execution_count": null,
      "outputs": [
        {
          "output_type": "execute_result",
          "data": {
            "text/plain": [
              "array([0, 3, 6, 9])"
            ]
          },
          "metadata": {},
          "execution_count": 57
        }
      ]
    },
    {
      "cell_type": "code",
      "source": [
        "a[3:0] #refer point 4 for more clarification in above note section\n",
        "a[-3:-1:-1] #refer point 5 for more clarification in above note section"
      ],
      "metadata": {
        "colab": {
          "base_uri": "https://localhost:8080/"
        },
        "id": "vYD-W41CXrH6",
        "outputId": "b30f457f-b4d7-4e40-83ac-4e84d18ab0a3"
      },
      "execution_count": null,
      "outputs": [
        {
          "output_type": "execute_result",
          "data": {
            "text/plain": [
              "array([], dtype=int64)"
            ]
          },
          "metadata": {},
          "execution_count": 63
        }
      ]
    },
    {
      "cell_type": "markdown",
      "source": [
        "      arrayname[row,column] \n",
        "      row --begin:end:step   \n",
        "      column --begin:end:step  \n",
        "\n",
        "**Note-** Not able to fetch the element if they are not in order so for that we need to use advance indexing method\n"
      ],
      "metadata": {
        "id": "d_Wb5BM9ZNEq"
      }
    },
    {
      "cell_type": "code",
      "source": [
        "# Accessing 2d array\n",
        "arr2d=np.array([[10,20],[30,40],[50,60]])\n",
        "#print(arr2d)\n",
        "#print(arr2d.shape)\n",
        "#print(arr2d[:,0:1])\n",
        "#print(arr2d[1,:]) # print(arr2d[1:2,:])\n",
        "#print(arr2d[:2,:])\n",
        "#print(arr2d[::2,:])\n",
        "\n"
      ],
      "metadata": {
        "colab": {
          "base_uri": "https://localhost:8080/"
        },
        "id": "HjDQJs2yN0aQ",
        "outputId": "1fcac8d5-5c4e-4a5c-97dc-b5447bae6134"
      },
      "execution_count": null,
      "outputs": [
        {
          "output_type": "stream",
          "name": "stdout",
          "text": [
            "[[10 20]\n",
            " [50 60]]\n"
          ]
        }
      ]
    },
    {
      "cell_type": "code",
      "source": [
        "ar=np.array(np.arange(16)).reshape(4,4)\n",
        "print(ar)\n",
        "print(ar.ndim)\n",
        "print(ar.shape)"
      ],
      "metadata": {
        "colab": {
          "base_uri": "https://localhost:8080/"
        },
        "id": "_Orcve2lTOj0",
        "outputId": "02e4a9fa-c81d-4138-bde1-75726b77016b"
      },
      "execution_count": null,
      "outputs": [
        {
          "output_type": "stream",
          "name": "stdout",
          "text": [
            "[[ 0  1  2  3]\n",
            " [ 4  5  6  7]\n",
            " [ 8  9 10 11]\n",
            " [12 13 14 15]]\n",
            "2\n",
            "(4, 4)\n"
          ]
        }
      ]
    },
    {
      "cell_type": "code",
      "source": [
        "ar[::3] # ar[::3,:]"
      ],
      "metadata": {
        "colab": {
          "base_uri": "https://localhost:8080/"
        },
        "id": "BEZdLXzwRfaV",
        "outputId": "d41ff29c-483f-4d54-ade3-d99c50408d5a"
      },
      "execution_count": null,
      "outputs": [
        {
          "output_type": "execute_result",
          "data": {
            "text/plain": [
              "array([[ 0,  1,  2,  3],\n",
              "       [12, 13, 14, 15]])"
            ]
          },
          "metadata": {},
          "execution_count": 79
        }
      ]
    },
    {
      "cell_type": "code",
      "source": [
        "ar[:,::2]"
      ],
      "metadata": {
        "colab": {
          "base_uri": "https://localhost:8080/"
        },
        "id": "sbzzjlX4RfXZ",
        "outputId": "1f36a3fb-83e1-4325-f3ed-e9f5ab02829b"
      },
      "execution_count": null,
      "outputs": [
        {
          "output_type": "execute_result",
          "data": {
            "text/plain": [
              "array([[ 0,  2],\n",
              "       [ 4,  6],\n",
              "       [ 8, 10],\n",
              "       [12, 14]])"
            ]
          },
          "metadata": {},
          "execution_count": 80
        }
      ]
    },
    {
      "cell_type": "code",
      "source": [
        "ar[1:3,1:3]"
      ],
      "metadata": {
        "colab": {
          "base_uri": "https://localhost:8080/"
        },
        "id": "tpHHAs1hRfUu",
        "outputId": "d5f82b66-1d30-4182-f56a-9a8a1b761c16"
      },
      "execution_count": null,
      "outputs": [
        {
          "output_type": "execute_result",
          "data": {
            "text/plain": [
              "array([[ 5,  6],\n",
              "       [ 9, 10]])"
            ]
          },
          "metadata": {},
          "execution_count": 81
        }
      ]
    },
    {
      "cell_type": "markdown",
      "source": [
        "#### Slice on 3d array\n",
        "sytax:\n",
        "\n",
        "    a[i,j,k]\n",
        "    i-->represent which 2-D arrays\n",
        "    j-->represent which row in that 2-D arrays\n",
        "    k-->represent which columns in that 2-D arrays\n",
        "\n",
        "    a[begin:end:step,begin:end:step,begin:end:step]"
      ],
      "metadata": {
        "id": "mhaLvJmHeJQn"
      }
    },
    {
      "cell_type": "code",
      "source": [
        "arr3d = np.array([[[1, 2, 3], [4, 5, 6]], [[7, 8, 9], [10, 11, 12]]])\n",
        "print(arr3d)\n",
        "print(arr3d.shape)\n",
        "print('--'*10)\n",
        "print(arr3d[0])\n",
        "print(arr3d[0][0])\n"
      ],
      "metadata": {
        "colab": {
          "base_uri": "https://localhost:8080/"
        },
        "id": "ewFa5wN-N1ve",
        "outputId": "e6972515-d7b5-4646-f1a6-1e6d5398bed4"
      },
      "execution_count": null,
      "outputs": [
        {
          "output_type": "stream",
          "name": "stdout",
          "text": [
            "[[[ 1  2  3]\n",
            "  [ 4  5  6]]\n",
            "\n",
            " [[ 7  8  9]\n",
            "  [10 11 12]]]\n",
            "(2, 2, 3)\n",
            "--------------------\n",
            "[[1 2 3]\n",
            " [4 5 6]]\n",
            "[1 2 3]\n"
          ]
        }
      ]
    },
    {
      "cell_type": "code",
      "source": [
        "arr3d=np.array(np.arange(1,25)).reshape(2,3,4)\n",
        "print(arr3d)"
      ],
      "metadata": {
        "colab": {
          "base_uri": "https://localhost:8080/"
        },
        "id": "D2XWeVsxef_4",
        "outputId": "99fc68a2-2b3d-4419-c97c-a10189b6a4ad"
      },
      "execution_count": null,
      "outputs": [
        {
          "output_type": "stream",
          "name": "stdout",
          "text": [
            "[[[ 1  2  3  4]\n",
            "  [ 5  6  7  8]\n",
            "  [ 9 10 11 12]]\n",
            "\n",
            " [[13 14 15 16]\n",
            "  [17 18 19 20]\n",
            "  [21 22 23 24]]]\n"
          ]
        }
      ]
    },
    {
      "cell_type": "code",
      "source": [
        "arr3d[:,:,:1]"
      ],
      "metadata": {
        "colab": {
          "base_uri": "https://localhost:8080/"
        },
        "id": "6yqwORC-f3U4",
        "outputId": "b0646a9c-0eab-4075-8b5a-d1e694687d59"
      },
      "execution_count": null,
      "outputs": [
        {
          "output_type": "execute_result",
          "data": {
            "text/plain": [
              "array([[[ 1],\n",
              "        [ 5],\n",
              "        [ 9]],\n",
              "\n",
              "       [[13],\n",
              "        [17],\n",
              "        [21]]])"
            ]
          },
          "metadata": {},
          "execution_count": 86
        }
      ]
    },
    {
      "cell_type": "code",
      "source": [
        "arr3d[:,2,:] #or arr3d[:,2:3,:]"
      ],
      "metadata": {
        "colab": {
          "base_uri": "https://localhost:8080/"
        },
        "id": "NwOfm8tsf3RW",
        "outputId": "25860a8f-65f6-4422-aa7c-61a40ce5ab97"
      },
      "execution_count": null,
      "outputs": [
        {
          "output_type": "execute_result",
          "data": {
            "text/plain": [
              "array([[ 9, 10, 11, 12],\n",
              "       [21, 22, 23, 24]])"
            ]
          },
          "metadata": {},
          "execution_count": 89
        }
      ]
    },
    {
      "cell_type": "markdown",
      "source": [
        "#### If we want to access elements based on some condition then we can not use the basic indexing and slicing operators.For this requirement we should go for advance indexing.\n",
        "\n",
        "syntax:\n",
        "\n",
        "        array[x]  -->x can be either nd array or sequence like list or tuple,which represent required indexes.\n",
        "      \n"
      ],
      "metadata": {
        "id": "6Myptz99i8vG"
      }
    },
    {
      "cell_type": "code",
      "source": [
        "a=np.array([1,2,3,4,5,6,7,8,9])\n",
        "print(a)"
      ],
      "metadata": {
        "colab": {
          "base_uri": "https://localhost:8080/"
        },
        "id": "sMlJToHGf3O9",
        "outputId": "692e9db5-5a8a-4559-befa-d6a66e0b22c7"
      },
      "execution_count": null,
      "outputs": [
        {
          "output_type": "stream",
          "name": "stdout",
          "text": [
            "[1 2 3 4 5 6 7 8 9]\n"
          ]
        }
      ]
    },
    {
      "cell_type": "code",
      "source": [
        "# access the value from index position 0,2,7\n",
        "# Method-1\n",
        "indexes=np.array([0,2,7])\n",
        "print(a[indexes])"
      ],
      "metadata": {
        "colab": {
          "base_uri": "https://localhost:8080/"
        },
        "id": "ZmucXX_2f24T",
        "outputId": "e0691e9d-46c0-4a17-f04a-e1e88e2bccd8"
      },
      "execution_count": null,
      "outputs": [
        {
          "output_type": "stream",
          "name": "stdout",
          "text": [
            "[1 3 8]\n"
          ]
        }
      ]
    },
    {
      "cell_type": "code",
      "source": [
        "# Method-2\n",
        "a[[0,2,7]]"
      ],
      "metadata": {
        "colab": {
          "base_uri": "https://localhost:8080/"
        },
        "id": "9hHC2vxQliFy",
        "outputId": "ab89c407-fbcc-492d-ec83-ce57d200f505"
      },
      "execution_count": null,
      "outputs": [
        {
          "output_type": "execute_result",
          "data": {
            "text/plain": [
              "array([1, 3, 8])"
            ]
          },
          "metadata": {},
          "execution_count": 94
        }
      ]
    },
    {
      "cell_type": "code",
      "source": [
        "# We can access same element multiple time also\n",
        "a[[0,2,7,2,2,2,0,0,0,7]]"
      ],
      "metadata": {
        "colab": {
          "base_uri": "https://localhost:8080/"
        },
        "id": "oYusK6FLl1jP",
        "outputId": "6529f0e3-64ba-4b36-9aa2-f5820c59c9c2"
      },
      "execution_count": null,
      "outputs": [
        {
          "output_type": "execute_result",
          "data": {
            "text/plain": [
              "array([1, 3, 8, 3, 3, 3, 1, 1, 1, 8])"
            ]
          },
          "metadata": {},
          "execution_count": 95
        }
      ]
    },
    {
      "cell_type": "code",
      "source": [
        "#Advance Indexing for 2d array\n",
        "import numpy as np\n",
        "a=np.array(np.arange(1,17)).reshape(4,4)\n",
        "print(a)"
      ],
      "metadata": {
        "colab": {
          "base_uri": "https://localhost:8080/"
        },
        "id": "BGZRO17fmL-4",
        "outputId": "744863cf-dbf7-4c0d-a738-585e8fa95b41"
      },
      "execution_count": null,
      "outputs": [
        {
          "output_type": "stream",
          "name": "stdout",
          "text": [
            "[[ 1  2  3  4]\n",
            " [ 5  6  7  8]\n",
            " [ 9 10 11 12]\n",
            " [13 14 15 16]]\n"
          ]
        }
      ]
    },
    {
      "cell_type": "code",
      "source": [
        "#a[[row_indexes],[column_indexes]]\n",
        "a[[0,1,2,3],[0,1,2,3]]"
      ],
      "metadata": {
        "id": "wFQfuDWzmL7O",
        "colab": {
          "base_uri": "https://localhost:8080/"
        },
        "outputId": "fe0e33f5-f14e-4206-e5cb-2d8d1148328e"
      },
      "execution_count": null,
      "outputs": [
        {
          "output_type": "execute_result",
          "data": {
            "text/plain": [
              "array([ 1,  6, 11, 16])"
            ]
          },
          "metadata": {},
          "execution_count": 4
        }
      ]
    },
    {
      "cell_type": "code",
      "source": [
        "#Advance Indexing for 3d array\n",
        "#array[[indexes of 2d array],[row indexes],[column indexes]]\n",
        "arr3d=np.array(np.arange(1,25)).reshape(2,3,4)\n",
        "print(arr3d)"
      ],
      "metadata": {
        "id": "TMcKUU-VmL4g",
        "colab": {
          "base_uri": "https://localhost:8080/"
        },
        "outputId": "5820ae03-1b53-4936-fb54-f5d4d6580698"
      },
      "execution_count": null,
      "outputs": [
        {
          "output_type": "stream",
          "name": "stdout",
          "text": [
            "[[[ 1  2  3  4]\n",
            "  [ 5  6  7  8]\n",
            "  [ 9 10 11 12]]\n",
            "\n",
            " [[13 14 15 16]\n",
            "  [17 18 19 20]\n",
            "  [21 22 23 24]]]\n"
          ]
        }
      ]
    },
    {
      "cell_type": "code",
      "source": [
        "# accessing value 1,14,24\n",
        "arr3d[[0,1,1],[0,0,2],[0,1,3]]"
      ],
      "metadata": {
        "id": "IFLCe2a4mL1D",
        "colab": {
          "base_uri": "https://localhost:8080/"
        },
        "outputId": "f2b18fde-6624-4d5e-8b0a-332debd8c160"
      },
      "execution_count": null,
      "outputs": [
        {
          "output_type": "execute_result",
          "data": {
            "text/plain": [
              "array([ 1, 14, 24])"
            ]
          },
          "metadata": {},
          "execution_count": 7
        }
      ]
    },
    {
      "cell_type": "code",
      "source": [
        "# accessing value 6,16\n",
        "arr3d[[0,1],[1,0],[1,3]]"
      ],
      "metadata": {
        "id": "cRt8dMLNmLyR",
        "colab": {
          "base_uri": "https://localhost:8080/"
        },
        "outputId": "3fe892c5-f1ac-4a18-9ca5-b0ef9e50aec6"
      },
      "execution_count": null,
      "outputs": [
        {
          "output_type": "execute_result",
          "data": {
            "text/plain": [
              "array([ 6, 16])"
            ]
          },
          "metadata": {},
          "execution_count": 8
        }
      ]
    },
    {
      "cell_type": "code",
      "source": [
        "# accessing value of 16,10\n",
        "arr3d[[-1,-2],[-3,-1],[-1,-3]]"
      ],
      "metadata": {
        "colab": {
          "base_uri": "https://localhost:8080/"
        },
        "id": "Ttwu9OqEYmDZ",
        "outputId": "40a36d03-2c2e-4218-c49b-d15b93ad31bc"
      },
      "execution_count": null,
      "outputs": [
        {
          "output_type": "execute_result",
          "data": {
            "text/plain": [
              "array([16, 10])"
            ]
          },
          "metadata": {},
          "execution_count": 10
        }
      ]
    },
    {
      "cell_type": "markdown",
      "source": [
        "#### Condition based indexes.\n",
        "We can select array elements based on some condition also.  \n",
        "**syntax**\n",
        "\n",
        "    array[boolean_array]   -it select all elements where boolean array condition is true."
      ],
      "metadata": {
        "id": "CVyVhEH0YS3c"
      }
    },
    {
      "cell_type": "code",
      "source": [
        "import numpy as np\n",
        "a=np.array([10,-5,20,40,-3,-1,75])\n",
        "print(a)\n",
        "print(a<0)\n",
        "print('select all elements which are less than 0:',a[a<0])\n",
        "print('select all elements which are greater than 10:',a[a>10])"
      ],
      "metadata": {
        "id": "0-jOy-uKYQQP",
        "colab": {
          "base_uri": "https://localhost:8080/"
        },
        "outputId": "90d9f0e1-8a3d-47ca-dd76-582c3d4087d4"
      },
      "execution_count": null,
      "outputs": [
        {
          "output_type": "stream",
          "name": "stdout",
          "text": [
            "[10 -5 20 40 -3 -1 75]\n",
            "[False  True False False  True  True False]\n",
            "select all elements which are less than 0: [-5 -3 -1]\n",
            "select all elements which are greater than 10: [20 40 75]\n"
          ]
        }
      ]
    },
    {
      "cell_type": "code",
      "source": [
        "a=np.array(np.arange(1,25).reshape(2,3,4))\n",
        "print(a)\n",
        "print('value greater then 20',a[a>20])"
      ],
      "metadata": {
        "id": "z9_5GVQhYQMt",
        "colab": {
          "base_uri": "https://localhost:8080/"
        },
        "outputId": "9c0c0673-2f2f-4d36-a1de-21e9310d2052"
      },
      "execution_count": null,
      "outputs": [
        {
          "output_type": "stream",
          "name": "stdout",
          "text": [
            "[[[ 1  2  3  4]\n",
            "  [ 5  6  7  8]\n",
            "  [ 9 10 11 12]]\n",
            "\n",
            " [[13 14 15 16]\n",
            "  [17 18 19 20]\n",
            "  [21 22 23 24]]]\n",
            "value greater then 20 [21 22 23 24]\n"
          ]
        }
      ]
    },
    {
      "cell_type": "markdown",
      "source": [
        "#### In the case of advance indexing, a new copy will be created.If we perform any changes in one copy,those changes won't be reflected in other."
      ],
      "metadata": {
        "id": "-YEc6cIfn6d4"
      }
    },
    {
      "cell_type": "code",
      "source": [
        "a1=np.array([10,20,30,40,50,60,70])\n",
        "print(a1)"
      ],
      "metadata": {
        "id": "r67x2KC_YQJ8",
        "colab": {
          "base_uri": "https://localhost:8080/"
        },
        "outputId": "8797d5e3-75e3-4ca9-9bee-f257180f10b3"
      },
      "execution_count": null,
      "outputs": [
        {
          "output_type": "stream",
          "name": "stdout",
          "text": [
            "[10 20 30 40 50 60 70]\n"
          ]
        }
      ]
    },
    {
      "cell_type": "code",
      "source": [
        "a2=a1[[0,2,5]]\n",
        "print('id of array1',id(a1))\n",
        "print('id of array 2',id(a2))\n",
        "print(a2)"
      ],
      "metadata": {
        "id": "pc_q3R1gYQHU",
        "colab": {
          "base_uri": "https://localhost:8080/"
        },
        "outputId": "d04e2a66-9b7f-443f-b9af-9e59ebf9698c"
      },
      "execution_count": null,
      "outputs": [
        {
          "output_type": "stream",
          "name": "stdout",
          "text": [
            "id of array1 139708977455248\n",
            "id of array 2 139708977455632\n",
            "[10 30 60]\n"
          ]
        }
      ]
    },
    {
      "cell_type": "code",
      "source": [
        "a1[0]=123\n",
        "print('Value of array a1 is:',a1)\n",
        "print('Value of array a2 is:',a2)"
      ],
      "metadata": {
        "id": "td6PBccgYQEn",
        "colab": {
          "base_uri": "https://localhost:8080/"
        },
        "outputId": "c9727be1-86ce-493f-8b25-f00fa03f4472"
      },
      "execution_count": null,
      "outputs": [
        {
          "output_type": "stream",
          "name": "stdout",
          "text": [
            "Value of array a1 is: [123  20  30  40  50  60  70]\n",
            "Value of array a2 is: [10 30 60]\n"
          ]
        }
      ]
    },
    {
      "cell_type": "markdown",
      "source": [
        "#### **Difference between slicing and advance indexing**\n",
        "\n",
        "**1.**\n",
        "* The element should be order and we can notselect arbitrary elements.\n",
        "* The element should not be ordered and we can select arbitrary elements.\n",
        "\n",
        "**2.**\n",
        "* condition based selection is not posible.\n",
        "* condition based selection is  posible.\n",
        "\n",
        "**3.**\n",
        "* In numpy slicing,we wont get a new object just we will get a view of the original object.If we perform any changes to original copy,those changes will be reflected to the sliced copy.\n",
        "* But in the case of advanced indexing,a new copy will be created.If we perform any changes in one copy,then those changes won't be reflected in other.\n",
        "\n",
        "\n"
      ],
      "metadata": {
        "id": "qqmdL_pxoVnx"
      }
    },
    {
      "cell_type": "markdown",
      "source": [
        "### **Arithmetic Operation**\n",
        "\n",
        "The following are various arithmetic operators :\n",
        "1. +--->Addition\n",
        "2. '-'--->Subtraction\n",
        "3. *--->Multiplication\n",
        "4. /--->Division\n",
        "5. //--->Floor division\n",
        "6. %---> modulo/remainder operation\n",
        "7. '**'--->Exponetial operation/Power Operation\n",
        "\n",
        "**Note**\n",
        "All these python's arithmetic operators are applicable for numpy array also"
      ],
      "metadata": {
        "id": "SXV-rai8oUjK"
      }
    },
    {
      "cell_type": "markdown",
      "source": [
        "Any arithmetic operations between equal-size arrays apply the operation element-wise:\n",
        "\n"
      ],
      "metadata": {
        "id": "tGVkjSy3YRgt"
      }
    },
    {
      "cell_type": "code",
      "source": [
        "import numpy as np\n",
        "a=np.array([[1,2,3],[4,5,6]])\n",
        "print(a)"
      ],
      "metadata": {
        "colab": {
          "base_uri": "https://localhost:8080/"
        },
        "id": "sHukEk2XR36J",
        "outputId": "c3e36a1a-6b1b-4221-dace-ba49a61bdb44"
      },
      "execution_count": null,
      "outputs": [
        {
          "output_type": "stream",
          "name": "stdout",
          "text": [
            "[[1 2 3]\n",
            " [4 5 6]]\n"
          ]
        }
      ]
    },
    {
      "cell_type": "code",
      "source": [
        "arr1 = np.array([[1., 2., 3.], [4., 5., 6.]])\n",
        "arr2 = np.array([[7., 8., 9.], [10., 11., 12.]])"
      ],
      "metadata": {
        "id": "KjrexBj1vcNU"
      },
      "execution_count": null,
      "outputs": []
    },
    {
      "cell_type": "code",
      "source": [
        "#Addition\n",
        "print(a+a)"
      ],
      "metadata": {
        "colab": {
          "base_uri": "https://localhost:8080/"
        },
        "id": "n5Du-HYBTIdu",
        "outputId": "eb4c036d-5fd2-47d4-f8fa-6d553a78dc4e"
      },
      "execution_count": null,
      "outputs": [
        {
          "output_type": "stream",
          "name": "stdout",
          "text": [
            "[[ 2  4  6]\n",
            " [ 8 10 12]]\n"
          ]
        }
      ]
    },
    {
      "cell_type": "code",
      "source": [
        "#Addition of 2 array\n",
        "print(arr1+arr2)"
      ],
      "metadata": {
        "colab": {
          "base_uri": "https://localhost:8080/"
        },
        "id": "-BC9Zg1W8vuZ",
        "outputId": "5b6e3e3b-7e98-4680-d3c0-9475d3dc7aaf"
      },
      "execution_count": null,
      "outputs": [
        {
          "output_type": "stream",
          "name": "stdout",
          "text": [
            "[[ 8. 10. 12.]\n",
            " [14. 16. 18.]]\n"
          ]
        }
      ]
    },
    {
      "cell_type": "code",
      "source": [
        "# Substraction of 2 array\n",
        "print(arr1-arr2)"
      ],
      "metadata": {
        "colab": {
          "base_uri": "https://localhost:8080/"
        },
        "id": "fYRjLzQk8vrg",
        "outputId": "0963147f-1c01-4edf-a3c4-5f5d95b1c037"
      },
      "execution_count": null,
      "outputs": [
        {
          "output_type": "stream",
          "name": "stdout",
          "text": [
            "[[-6. -6. -6.]\n",
            " [-6. -6. -6.]]\n"
          ]
        }
      ]
    },
    {
      "cell_type": "code",
      "source": [
        "#Multiplication\n",
        "print(a*10)"
      ],
      "metadata": {
        "colab": {
          "base_uri": "https://localhost:8080/"
        },
        "id": "R3UD6JrTR9fD",
        "outputId": "61a1f7d4-4c30-4fe6-df4d-7f6bf29bda63"
      },
      "execution_count": null,
      "outputs": [
        {
          "output_type": "stream",
          "name": "stdout",
          "text": [
            "[[10 20 30]\n",
            " [40 50 60]]\n"
          ]
        }
      ]
    },
    {
      "cell_type": "code",
      "source": [
        "print(arr1*arr2)"
      ],
      "metadata": {
        "id": "pZ5eKoWO8vwx",
        "colab": {
          "base_uri": "https://localhost:8080/"
        },
        "outputId": "3743756e-564d-4144-f882-91c0f321cbf7"
      },
      "execution_count": null,
      "outputs": [
        {
          "output_type": "stream",
          "name": "stdout",
          "text": [
            "[[ 7. 16. 27.]\n",
            " [40. 55. 72.]]\n"
          ]
        }
      ]
    },
    {
      "cell_type": "code",
      "source": [
        "#Multiplication of array\n",
        "arr = np.array([[1., 2., 3.], [4., 5., 6.]])\n",
        "print(arr)\n",
        "print(arr * arr)"
      ],
      "metadata": {
        "id": "2JXaUb63Yc64",
        "colab": {
          "base_uri": "https://localhost:8080/"
        },
        "outputId": "0ac99529-6872-4f10-fad2-861705bd0f3e"
      },
      "execution_count": null,
      "outputs": [
        {
          "output_type": "stream",
          "name": "stdout",
          "text": [
            "[[1. 2. 3.]\n",
            " [4. 5. 6.]]\n",
            "[[ 1.  4.  9.]\n",
            " [16. 25. 36.]]\n"
          ]
        }
      ]
    },
    {
      "cell_type": "code",
      "source": [
        "#Division\n",
        "arr1/arr2"
      ],
      "metadata": {
        "colab": {
          "base_uri": "https://localhost:8080/"
        },
        "id": "D6YnSixIvrZP",
        "outputId": "1d7eae81-f4ad-4116-cee5-35a88dcfd259"
      },
      "execution_count": null,
      "outputs": [
        {
          "output_type": "execute_result",
          "data": {
            "text/plain": [
              "array([[0.14285714, 0.25      , 0.33333333],\n",
              "       [0.4       , 0.45454545, 0.5       ]])"
            ]
          },
          "metadata": {},
          "execution_count": 35
        }
      ]
    },
    {
      "cell_type": "code",
      "source": [
        "1/arr1"
      ],
      "metadata": {
        "colab": {
          "base_uri": "https://localhost:8080/"
        },
        "id": "fLCrwPVQ8voa",
        "outputId": "b01fb1ff-3a5d-4367-c7a5-9b5ab72568db"
      },
      "execution_count": null,
      "outputs": [
        {
          "output_type": "execute_result",
          "data": {
            "text/plain": [
              "array([[1.        , 0.5       , 0.33333333],\n",
              "       [0.25      , 0.2       , 0.16666667]])"
            ]
          },
          "metadata": {},
          "execution_count": 18
        }
      ]
    },
    {
      "cell_type": "code",
      "source": [
        "#Modulo Operation\n",
        "arr1%2"
      ],
      "metadata": {
        "colab": {
          "base_uri": "https://localhost:8080/"
        },
        "id": "rf1rrdnTvz5f",
        "outputId": "5baa6ce2-31f3-4bd0-fa8e-9b0b4cc3968a"
      },
      "execution_count": null,
      "outputs": [
        {
          "output_type": "execute_result",
          "data": {
            "text/plain": [
              "array([[1., 0., 1.],\n",
              "       [0., 1., 0.]])"
            ]
          },
          "metadata": {},
          "execution_count": 37
        }
      ]
    },
    {
      "cell_type": "code",
      "source": [
        "#Floor Operation\n",
        "arr1//3"
      ],
      "metadata": {
        "colab": {
          "base_uri": "https://localhost:8080/"
        },
        "id": "82sin-5-v6HW",
        "outputId": "76613454-430a-480b-9879-efc56eac9bc3"
      },
      "execution_count": null,
      "outputs": [
        {
          "output_type": "execute_result",
          "data": {
            "text/plain": [
              "array([[0., 0., 1.],\n",
              "       [1., 1., 2.]])"
            ]
          },
          "metadata": {},
          "execution_count": 38
        }
      ]
    },
    {
      "cell_type": "code",
      "source": [
        "#Power of 2\n",
        "arr**2"
      ],
      "metadata": {
        "colab": {
          "base_uri": "https://localhost:8080/"
        },
        "id": "DCJHUIts8vll",
        "outputId": "800068d7-0eb8-4d65-d0cc-fbb4be76b548"
      },
      "execution_count": null,
      "outputs": [
        {
          "output_type": "execute_result",
          "data": {
            "text/plain": [
              "array([[ 1.,  4.,  9.],\n",
              "       [16., 25., 36.]])"
            ]
          },
          "metadata": {},
          "execution_count": 21
        }
      ]
    },
    {
      "cell_type": "markdown",
      "source": [
        "In numpy we won't get zeroDivisionError.If the result is undefined(0/0) then it is treated as nan(not a number).If the result is infinity(10/0) then it is treated as inf"
      ],
      "metadata": {
        "id": "_EPYfOocxmfk"
      }
    },
    {
      "cell_type": "code",
      "source": [
        "print(1/0)"
      ],
      "metadata": {
        "colab": {
          "base_uri": "https://localhost:8080/",
          "height": 166
        },
        "id": "9euY4aWLyIfg",
        "outputId": "465e52a8-7d2c-48af-ed0a-a9e411fcd50f"
      },
      "execution_count": null,
      "outputs": [
        {
          "output_type": "error",
          "ename": "ZeroDivisionError",
          "evalue": "ignored",
          "traceback": [
            "\u001b[0;31m---------------------------------------------------------------------------\u001b[0m",
            "\u001b[0;31mZeroDivisionError\u001b[0m                         Traceback (most recent call last)",
            "\u001b[0;32m<ipython-input-43-2fc232d1511a>\u001b[0m in \u001b[0;36m<cell line: 1>\u001b[0;34m()\u001b[0m\n\u001b[0;32m----> 1\u001b[0;31m \u001b[0mprint\u001b[0m\u001b[0;34m(\u001b[0m\u001b[0;36m1\u001b[0m\u001b[0;34m/\u001b[0m\u001b[0;36m0\u001b[0m\u001b[0;34m)\u001b[0m\u001b[0;34m\u001b[0m\u001b[0;34m\u001b[0m\u001b[0m\n\u001b[0m",
            "\u001b[0;31mZeroDivisionError\u001b[0m: division by zero"
          ]
        }
      ]
    },
    {
      "cell_type": "code",
      "source": [
        "from typing import no_type_check\n",
        "import numpy as no_type_check\n",
        "n=np.array([0,1,2,3])\n",
        "1/n\n"
      ],
      "metadata": {
        "colab": {
          "base_uri": "https://localhost:8080/"
        },
        "id": "8KkQMVoUxMvg",
        "outputId": "38e6b9da-36f4-414a-d4c8-531adcf1cd83"
      },
      "execution_count": null,
      "outputs": [
        {
          "output_type": "stream",
          "name": "stderr",
          "text": [
            "<ipython-input-42-21be4d233426>:2: RuntimeWarning: divide by zero encountered in true_divide\n",
            "  1/n\n"
          ]
        },
        {
          "output_type": "execute_result",
          "data": {
            "text/plain": [
              "array([       inf, 1.        , 0.5       , 0.33333333])"
            ]
          },
          "metadata": {},
          "execution_count": 42
        }
      ]
    },
    {
      "cell_type": "code",
      "source": [
        "n=np.arange(4)\n",
        "print(n)\n",
        "n/0"
      ],
      "metadata": {
        "colab": {
          "base_uri": "https://localhost:8080/"
        },
        "id": "IEI71Ry-ySLb",
        "outputId": "a251028c-2f62-40e3-89e2-c9ab035532d9"
      },
      "execution_count": null,
      "outputs": [
        {
          "output_type": "stream",
          "name": "stdout",
          "text": [
            "[0 1 2 3]\n"
          ]
        },
        {
          "output_type": "stream",
          "name": "stderr",
          "text": [
            "<ipython-input-45-0837ad3b3c7f>:3: RuntimeWarning: divide by zero encountered in true_divide\n",
            "  n/0\n",
            "<ipython-input-45-0837ad3b3c7f>:3: RuntimeWarning: invalid value encountered in true_divide\n",
            "  n/0\n"
          ]
        },
        {
          "output_type": "execute_result",
          "data": {
            "text/plain": [
              "array([nan, inf, inf, inf])"
            ]
          },
          "metadata": {},
          "execution_count": 45
        }
      ]
    },
    {
      "cell_type": "code",
      "source": [
        "#Produce an array of all 0s with the given shape and data type\n",
        "print(np.zeros(10))\n",
        "print(np.zeros((3,5)))\n",
        "\n",
        "#This function is slightly different from numpy.ones(). Instead of taking a shape this function takes an array\n",
        "print(np.zeros_like(np.array([1,2,3,4,2,7]).reshape(2,3)),int)\n"
      ],
      "metadata": {
        "colab": {
          "base_uri": "https://localhost:8080/"
        },
        "id": "TehNSz40WBGV",
        "outputId": "aa71eb91-1645-432e-cf09-d7053e7dde45"
      },
      "execution_count": null,
      "outputs": [
        {
          "output_type": "stream",
          "name": "stdout",
          "text": [
            "[0. 0. 0. 0. 0. 0. 0. 0. 0. 0.]\n",
            "[[0. 0. 0. 0. 0.]\n",
            " [0. 0. 0. 0. 0.]\n",
            " [0. 0. 0. 0. 0.]]\n",
            "[[0 0 0]\n",
            " [0 0 0]] <class 'int'>\n"
          ]
        }
      ]
    },
    {
      "cell_type": "code",
      "source": [
        "#Create new arrays by allocating new memory, but do not populate with any values like ones and zeros\n",
        "print(np.empty((3,4)))\n",
        "print(np.empty_like(np.array([1,2,3,4,2,7]).reshape(2,3)))\n"
      ],
      "metadata": {
        "colab": {
          "base_uri": "https://localhost:8080/"
        },
        "id": "AZIJsswUW4O9",
        "outputId": "1e205b80-bb62-4f7f-9c1e-b97df14f7bec"
      },
      "execution_count": null,
      "outputs": [
        {
          "output_type": "stream",
          "name": "stdout",
          "text": [
            "[[1.98143407e-316 0.00000000e+000 0.00000000e+000 0.00000000e+000]\n",
            " [0.00000000e+000 0.00000000e+000 0.00000000e+000 0.00000000e+000]\n",
            " [0.00000000e+000 0.00000000e+000 0.00000000e+000 0.00000000e+000]]\n",
            "[[1 2 3]\n",
            " [4 2 7]]\n"
          ]
        }
      ]
    },
    {
      "cell_type": "code",
      "source": [
        "#Produce an array of all 1s with the given shape and data type\n",
        "import numpy as np\n",
        "np.ones((2,2))"
      ],
      "metadata": {
        "id": "ion0LRFhXQMK",
        "colab": {
          "base_uri": "https://localhost:8080/"
        },
        "outputId": "1e684f30-5a75-4c69-93d8-090ce731598d"
      },
      "execution_count": null,
      "outputs": [
        {
          "output_type": "execute_result",
          "data": {
            "text/plain": [
              "array([[1., 1.],\n",
              "       [1., 1.]])"
            ]
          },
          "metadata": {},
          "execution_count": 1
        }
      ]
    },
    {
      "cell_type": "code",
      "source": [
        "#This function is slightly different from numpy.ones(). Instead of taking a shape this function takes an array\n",
        "np.ones_like((np.array([1,2,3,4,2,7]).reshape(2,3)))"
      ],
      "metadata": {
        "colab": {
          "base_uri": "https://localhost:8080/"
        },
        "id": "lo_sGljT7DfW",
        "outputId": "26246704-09c1-411b-a987-0020105ebe16"
      },
      "execution_count": null,
      "outputs": [
        {
          "output_type": "execute_result",
          "data": {
            "text/plain": [
              "array([[1, 1, 1],\n",
              "       [1, 1, 1]])"
            ]
          },
          "metadata": {},
          "execution_count": 5
        }
      ]
    },
    {
      "cell_type": "code",
      "source": [
        "#Create a square N × N identity matrix (1s on the diagonal and 0s elsewhere)\n",
        "import numpy as np\n",
        "print(np.identity(4))\n",
        "print(np.identity(2))"
      ],
      "metadata": {
        "id": "mpJ49NR77rQh",
        "colab": {
          "base_uri": "https://localhost:8080/"
        },
        "outputId": "032d4f69-00b5-4733-e5c7-0979928a6486"
      },
      "execution_count": null,
      "outputs": [
        {
          "output_type": "stream",
          "name": "stdout",
          "text": [
            "[[1. 0. 0. 0.]\n",
            " [0. 1. 0. 0.]\n",
            " [0. 0. 1. 0.]\n",
            " [0. 0. 0. 1.]]\n",
            "[[1. 0.]\n",
            " [0. 1.]]\n"
          ]
        }
      ]
    },
    {
      "cell_type": "code",
      "source": [
        "#Create a square N × N identity matrix\n",
        "np.eye(2)"
      ],
      "metadata": {
        "colab": {
          "base_uri": "https://localhost:8080/"
        },
        "id": "fDk-WophMAAS",
        "outputId": "6de96fe5-a9cd-41ed-d12a-96d8617ee1b6"
      },
      "execution_count": null,
      "outputs": [
        {
          "output_type": "execute_result",
          "data": {
            "text/plain": [
              "array([[1., 0.],\n",
              "       [0., 1.]])"
            ]
          },
          "metadata": {},
          "execution_count": 12
        }
      ]
    },
    {
      "cell_type": "code",
      "source": [
        "#Be cautious when using the numpy.string_ type, as string data in NumPy is fixed size and may truncate input without warning. pandas has more intuitive out-of-the-box behavior on non-numeric data.\n",
        "#Calling astype always creates a new array (a copy of the data), even if the new data type is the same as the old data type.\n",
        "\n"
      ],
      "metadata": {
        "id": "brI-L9bPNaeT"
      },
      "execution_count": null,
      "outputs": []
    },
    {
      "cell_type": "code",
      "source": [
        "import numpy as np\n",
        "import time\n",
        "import random"
      ],
      "metadata": {
        "id": "z7lBSAUo8vz3"
      },
      "execution_count": null,
      "outputs": []
    },
    {
      "cell_type": "code",
      "source": [
        "# Comparision between array\n",
        "arr1 ==arr2"
      ],
      "metadata": {
        "colab": {
          "base_uri": "https://localhost:8080/"
        },
        "id": "155Yhj1Q8viz",
        "outputId": "c2247aa2-4651-4e63-ec9c-52d6a1f46640"
      },
      "execution_count": null,
      "outputs": [
        {
          "output_type": "execute_result",
          "data": {
            "text/plain": [
              "array([[False, False, False],\n",
              "       [False, False, False]])"
            ]
          },
          "metadata": {},
          "execution_count": 22
        }
      ]
    },
    {
      "cell_type": "code",
      "source": [
        "arr1>arr2"
      ],
      "metadata": {
        "colab": {
          "base_uri": "https://localhost:8080/"
        },
        "id": "_ya-0s0b8vgD",
        "outputId": "3ed14f3c-40ef-4614-bcdc-08f8e7fe80ca"
      },
      "execution_count": null,
      "outputs": [
        {
          "output_type": "execute_result",
          "data": {
            "text/plain": [
              "array([[False, False, False],\n",
              "       [False, False, False]])"
            ]
          },
          "metadata": {},
          "execution_count": 23
        }
      ]
    },
    {
      "cell_type": "code",
      "source": [
        "arr1<arr2"
      ],
      "metadata": {
        "colab": {
          "base_uri": "https://localhost:8080/"
        },
        "id": "_zeqPWeT8vcf",
        "outputId": "b84a24ef-32ff-41df-bd67-0e47822c582c"
      },
      "execution_count": null,
      "outputs": [
        {
          "output_type": "execute_result",
          "data": {
            "text/plain": [
              "array([[ True,  True,  True],\n",
              "       [ True,  True,  True]])"
            ]
          },
          "metadata": {},
          "execution_count": 24
        }
      ]
    },
    {
      "cell_type": "markdown",
      "source": [
        "For every arithmetic operator numpy library defines equivalent functino and we can use these functions also.\n",
        "\n",
        "a+b  --->np.add(a,b)   \n",
        "a-b  --->np.subtract(a,b)   \n",
        "a*b  --->np.multiply(a,b)  \n",
        "a/b  --->np.divide(a,b)  \n",
        "a//b  --->                  \n",
        "a%b  --->np.mod(a,b)   \n",
        "a**b  --->np.power(a,b)   "
      ],
      "metadata": {
        "id": "r_y1QPwdvRUf"
      }
    },
    {
      "cell_type": "markdown",
      "source": [
        "#### Evaluating operations between differently sized arrays is called broadcasting"
      ],
      "metadata": {
        "id": "GpBj-PoSM7-j"
      }
    },
    {
      "cell_type": "code",
      "source": [
        "import numpy as np\n",
        "a=np.array(np.arange(1,5))\n",
        "b=np.array(np.arange(6,10))\n",
        "print(f'array a is {a}')\n",
        "print(f'array b is {b}')"
      ],
      "metadata": {
        "colab": {
          "base_uri": "https://localhost:8080/"
        },
        "id": "nbQ1yyHcv9_E",
        "outputId": "6ac47ebf-a9a0-4c6a-84d4-50753251eab9"
      },
      "execution_count": null,
      "outputs": [
        {
          "output_type": "stream",
          "name": "stdout",
          "text": [
            "array a is [1 2 3 4]\n",
            "array b is [6 7 8 9]\n"
          ]
        }
      ]
    },
    {
      "cell_type": "code",
      "source": [
        "print('Addition of array:',np.add(a,b))\n",
        "print('Subtraction of array:',np.subtract(a,b))\n",
        "print('Multiplication of array:',np.multiply(a,b))\n",
        "print('Division of array:',np.divide(a,b))\n",
        "print('Floor Division of array:',np.floor_divide(a,b))\n",
        "print('Modulo of array:',np.mod(a,b))\n",
        "print('Power of array:',np.power(a,b))"
      ],
      "metadata": {
        "colab": {
          "base_uri": "https://localhost:8080/"
        },
        "id": "PXOPmvonwgED",
        "outputId": "5f8b9f7a-1a87-462d-d103-bd04edbfe05c"
      },
      "execution_count": null,
      "outputs": [
        {
          "output_type": "stream",
          "name": "stdout",
          "text": [
            "Addition of array: [ 7  9 11 13]\n",
            "Subtraction of array: [-5 -5 -5 -5]\n",
            "Multiplication of array: [ 6 14 24 36]\n",
            "Division of array: [0.16666667 0.28571429 0.375      0.44444444]\n",
            "Floor Division of array: [0 0 0 0]\n",
            "Modulo of array: [1 2 3 4]\n",
            "Power of array: [     1    128   6561 262144]\n"
          ]
        }
      ]
    },
    {
      "cell_type": "code",
      "source": [
        "import numpy as np\n",
        "a=np.array(np.arange(1,5))\n",
        "print(f'Actual array :{a}')\n",
        "print(f'Array after addition(2 arguments): {np.add(a,a)}')\n",
        "print(f'Final Array after passing(2 arguments):{a}')\n",
        "print(f'Array after addition(3 arguments):{np.add(a,a,a)}') # Save the modification to original array because of 3rd argument(i.e out parameter)\n",
        "print(f'Final Array after passing(3 arguments): {a}')\n",
        "#print(f'Array after addition(4 arguments):{np.add(a,a,a,a)}') --max 3 positional arguments accept but 4 were given so that its shows error."
      ],
      "metadata": {
        "colab": {
          "base_uri": "https://localhost:8080/"
        },
        "id": "GHOo9VOWyayc",
        "outputId": "71dbd22c-d9de-40d8-f9e0-efda2a000ea0"
      },
      "execution_count": null,
      "outputs": [
        {
          "output_type": "stream",
          "name": "stdout",
          "text": [
            "Actual array :[1 2 3 4]\n",
            "Array after addition(2 arguments): [2 4 6 8]\n",
            "Final Array after passing(2 arguments):[1 2 3 4]\n",
            "Array after addition(3 arguments):[2 4 6 8]\n",
            "Final Array after passing(3 arguments): [2 4 6 8]\n"
          ]
        }
      ]
    },
    {
      "cell_type": "code",
      "source": [
        "a=np.array([10])\n",
        "print('1.',a)\n",
        "print('2.',np.add(a,a))\n",
        "print('value after addition',a)\n",
        "np.add(a,a,out=a)\n",
        "print('value after addition new',a)"
      ],
      "metadata": {
        "colab": {
          "base_uri": "https://localhost:8080/"
        },
        "id": "oZzZ7NPGf4Zv",
        "outputId": "f40934ab-0913-45d7-aaf4-71575b494054"
      },
      "execution_count": null,
      "outputs": [
        {
          "output_type": "stream",
          "name": "stdout",
          "text": [
            "1. [10]\n",
            "2. [20]\n",
            "value after addition [10]\n",
            "value after addition new [20]\n"
          ]
        }
      ]
    },
    {
      "cell_type": "markdown",
      "source": [
        "### **Broadcasting:**\n",
        "1. Even though,array are of different dimension ,different shapes and different sizes,still we can perform arithmetic operation.It is possible by broadcasting.\n",
        "\n",
        "2. Broadcasting wont be possible in all cases.it has some rules.If the rules are satisfied then only broadcasting will performed internally while performing arithmetic operation.\n",
        "\n",
        "3. Broadcasting will be performed automatically and we are not required to perform explicitly.But being developer,we should aware when braodcasting will be performed and how it will be performed.\n",
        "\n",
        "Note- If both arrays have same dimension,same shape and same size then broadcasting is not required.Different dimensions or different shapes or different sizes then only broadcasting is required."
      ],
      "metadata": {
        "id": "rJ31LTtwEd8e"
      }
    },
    {
      "cell_type": "markdown",
      "source": [
        "**Note**\n",
        "To perform arithmetic operators between numpy arrays,compulsory both arrays should have the same dimension,same shape and same size.otherwise we will get error.\n",
        "\n",
        "* To handle this type of requirements we should go for broadcasting. "
      ],
      "metadata": {
        "id": "tsspjS8xzmrQ"
      }
    },
    {
      "cell_type": "markdown",
      "source": [
        "**Rules for broadcasting**\n",
        "\n",
        "1. If the 2 arrays of different dimensions,we should make equal dimensions.Padded 1s in the shape of fewer dimension array on the left side.\n",
        "        array1 shape(4,3)\n",
        "        array2 shape(3,) ----(1,3)\n",
        "\n",
        "\n",
        "2. If the size of 2 arrays does not match in any dimension,the array with size equals to 1 in that dimension is expanded to match other size of the same dimension.\n",
        "        array1 shape(4,3)\n",
        "        array2 shape(1,3) ---->(4,3)   \n",
        "      \n",
        "Now both arrays are of same dimension and same shape,then arithmetic operation will be performed normally.\n",
        "\n",
        "**Note** \n",
        "1. In any dimension,the sizes are not matched and neither equals to 1,then we will get error.\n",
        "\n",
        "        example: \n",
        "        array1(4,3)\n",
        "        array2(2,3)\n",
        "\n",
        "2. Rule 2 fails and hence we will get ValueError and broadcasting won't be happend.\n",
        "\n",
        "3. The result is always of higher dimension of input arrays.\n",
        "        example:\n",
        "        input array shape: 3-D,1-D\n",
        "        ouput:3-D\n"
      ],
      "metadata": {
        "id": "CRHMYTaFGn-v"
      }
    },
    {
      "cell_type": "code",
      "source": [
        "import numpy as np\n",
        "a=np.array(np.arange(1,5))\n",
        "b=np.array(np.arange(1,4))"
      ],
      "metadata": {
        "id": "v9M0CIJXNLO5"
      },
      "execution_count": null,
      "outputs": []
    },
    {
      "cell_type": "code",
      "source": [
        "print(a.shape,b.shape) #Broadcasting is not possible because the sizes are not matched and neither equals to 1\n",
        "print(a+b)"
      ],
      "metadata": {
        "colab": {
          "base_uri": "https://localhost:8080/",
          "height": 201
        },
        "id": "90fnwcACT5_F",
        "outputId": "000eec96-133c-4c1a-98e1-4c2213a24761"
      },
      "execution_count": null,
      "outputs": [
        {
          "output_type": "stream",
          "name": "stdout",
          "text": [
            "(4,) (3,)\n"
          ]
        },
        {
          "output_type": "error",
          "ename": "ValueError",
          "evalue": "ignored",
          "traceback": [
            "\u001b[0;31m---------------------------------------------------------------------------\u001b[0m",
            "\u001b[0;31mValueError\u001b[0m                                Traceback (most recent call last)",
            "\u001b[0;32m<ipython-input-5-0f01db329414>\u001b[0m in \u001b[0;36m<cell line: 2>\u001b[0;34m()\u001b[0m\n\u001b[1;32m      1\u001b[0m \u001b[0mprint\u001b[0m\u001b[0;34m(\u001b[0m\u001b[0ma\u001b[0m\u001b[0;34m.\u001b[0m\u001b[0mshape\u001b[0m\u001b[0;34m,\u001b[0m\u001b[0mb\u001b[0m\u001b[0;34m.\u001b[0m\u001b[0mshape\u001b[0m\u001b[0;34m)\u001b[0m \u001b[0;31m#Broadcasting is not possible because the sizes are not matched and neither equals to 1\u001b[0m\u001b[0;34m\u001b[0m\u001b[0;34m\u001b[0m\u001b[0m\n\u001b[0;32m----> 2\u001b[0;31m \u001b[0mprint\u001b[0m\u001b[0;34m(\u001b[0m\u001b[0ma\u001b[0m\u001b[0;34m+\u001b[0m\u001b[0mb\u001b[0m\u001b[0;34m)\u001b[0m\u001b[0;34m\u001b[0m\u001b[0;34m\u001b[0m\u001b[0m\n\u001b[0m",
            "\u001b[0;31mValueError\u001b[0m: operands could not be broadcast together with shapes (4,) (3,) "
          ]
        }
      ]
    },
    {
      "cell_type": "code",
      "source": [
        "a=np.array([10,20,30])\n",
        "b=np.array([1,2,3])\n",
        "print(f'shape of a is {a.shape} and shape of b is {b.shape}')\n",
        "print(a+b)"
      ],
      "metadata": {
        "colab": {
          "base_uri": "https://localhost:8080/"
        },
        "id": "839-3XIcT57q",
        "outputId": "818d3674-c856-44bb-c433-145b53f62fb0"
      },
      "execution_count": null,
      "outputs": [
        {
          "output_type": "stream",
          "name": "stdout",
          "text": [
            "shape of a is (3,) and shape of b is (3,)\n",
            "[11 22 33]\n"
          ]
        }
      ]
    },
    {
      "cell_type": "code",
      "source": [
        "a=np.array([10,20,30])\n",
        "b=np.array([50])\n",
        "print(f'shape of a is {a.shape} and shape of b is {b.shape}') #internally broadcasting performed\n",
        "print(a+b)"
      ],
      "metadata": {
        "colab": {
          "base_uri": "https://localhost:8080/"
        },
        "id": "6MjzltnUT55B",
        "outputId": "82fae74a-f2b6-4dba-fbf9-8d48453026e9"
      },
      "execution_count": null,
      "outputs": [
        {
          "output_type": "stream",
          "name": "stdout",
          "text": [
            "shape of a is (3,) and shape of b is (1,)\n",
            "[60 70 80]\n"
          ]
        }
      ]
    },
    {
      "cell_type": "code",
      "source": [
        "#Broadcasting Performed in this case\n",
        "a=np.array([[10,20],[30,40],[50,60]])\n",
        "b=np.array([10,20])\n",
        "print(f'shape of a is{a.shape} and shape of b is {b.shape}')\n",
        "print(a+b)"
      ],
      "metadata": {
        "colab": {
          "base_uri": "https://localhost:8080/"
        },
        "id": "v2crjwvWT52W",
        "outputId": "210b2843-4614-446e-df55-64d054db0ac3"
      },
      "execution_count": null,
      "outputs": [
        {
          "output_type": "stream",
          "name": "stdout",
          "text": [
            "shape of a is(3, 2) and shape of b is (2,)\n",
            "[[20 40]\n",
            " [40 60]\n",
            " [60 80]]\n"
          ]
        }
      ]
    },
    {
      "cell_type": "code",
      "source": [
        "a=np.array([[10],[20],[30]])\n",
        "b=np.array([30])\n",
        "print(f'shape of a is{a.shape} and shape of b is {b.shape}')\n",
        "print(f'shape of result is {(a+b).shape} and result is {a+b}')\n",
        "\n"
      ],
      "metadata": {
        "colab": {
          "base_uri": "https://localhost:8080/"
        },
        "id": "g_NN9c9jT5zi",
        "outputId": "23d43ea0-3779-4736-849c-b43c5341c5eb"
      },
      "execution_count": null,
      "outputs": [
        {
          "output_type": "stream",
          "name": "stdout",
          "text": [
            "shape of a is(3, 1) and shape of b is (1,)\n",
            "shape of result is (3, 1) and result is [[40]\n",
            " [50]\n",
            " [60]]\n"
          ]
        }
      ]
    },
    {
      "cell_type": "markdown",
      "source": [
        "#### **Array Manipulation**\n",
        "**1. reshape()** --to change the array shape without affecting data.  \n",
        "   **Note** -while using reshape() function,make sure the sizes should be matched otherwise we will get error.\n",
        "\n",
        "        reshape(a,newshape,order='C')\n",
        "        'C' -default value(c language style which means row major order)\n",
        "        'F' -Fortran language style which means column major order.\n",
        "\n",
        "        numpy.reshape(a,shape,order) #np.reshape(a,(5,2),order='C')\n",
        "        ndarray.reshape(shape,order) #a.reshape((5,2),order='F')\n"
      ],
      "metadata": {
        "id": "JBk2W7oCeyYZ"
      }
    },
    {
      "cell_type": "code",
      "source": [
        "#To convert 1-D array to 2-D array\n",
        "a=np.array(np.arange(1,11))\n",
        "print(a.shape)\n",
        "print('default order(C) which is row major order',a.reshape(5,2,order='C'))\n",
        "print('Fortran language style which means column major order',a.reshape(5,2,order='F'))"
      ],
      "metadata": {
        "colab": {
          "base_uri": "https://localhost:8080/"
        },
        "id": "dvViWMreT5xH",
        "outputId": "4c531dfb-967f-4dad-d125-a8494d4277ad"
      },
      "execution_count": null,
      "outputs": [
        {
          "output_type": "stream",
          "name": "stdout",
          "text": [
            "(10,)\n",
            "default order(C) which is row major order [[ 1  2]\n",
            " [ 3  4]\n",
            " [ 5  6]\n",
            " [ 7  8]\n",
            " [ 9 10]]\n",
            "Fortran language style which means column major order [[ 1  6]\n",
            " [ 2  7]\n",
            " [ 3  8]\n",
            " [ 4  9]\n",
            " [ 5 10]]\n"
          ]
        }
      ]
    },
    {
      "cell_type": "markdown",
      "source": [
        "If we dont know the size of any dimension,we can use -1 so that numpy itself will evaluate the size"
      ],
      "metadata": {
        "id": "uZPA2FDE1ODE"
      }
    },
    {
      "cell_type": "code",
      "source": [
        "  #numpy itself evaluate the size and perform action\n",
        "a.reshape(5,-1)"
      ],
      "metadata": {
        "colab": {
          "base_uri": "https://localhost:8080/"
        },
        "id": "Ne0I4N1W0ywp",
        "outputId": "695b7533-80a4-465d-c428-9f5aa2690632"
      },
      "execution_count": null,
      "outputs": [
        {
          "output_type": "execute_result",
          "data": {
            "text/plain": [
              "array([[ 1,  2,  3],\n",
              "       [ 4,  5,  6],\n",
              "       [ 7,  8,  9],\n",
              "       [10, 11, 12],\n",
              "       [13, 14, 15]])"
            ]
          },
          "metadata": {},
          "execution_count": 36
        }
      ]
    },
    {
      "cell_type": "code",
      "source": [
        "a.reshape(-1,5)"
      ],
      "metadata": {
        "colab": {
          "base_uri": "https://localhost:8080/"
        },
        "id": "g8SHwHCx1CyU",
        "outputId": "cd053141-7d5f-49ab-ffab-6c7a0463b5c1"
      },
      "execution_count": null,
      "outputs": [
        {
          "output_type": "execute_result",
          "data": {
            "text/plain": [
              "array([[ 1,  2,  3,  4,  5],\n",
              "       [ 6,  7,  8,  9, 10],\n",
              "       [11, 12, 13, 14, 15]])"
            ]
          },
          "metadata": {},
          "execution_count": 37
        }
      ]
    },
    {
      "cell_type": "markdown",
      "source": [
        "reshape won't provide a separate new array object.it will provide just view of the existing arary because there is no change in data.Hence if we perform any change in the reshaped array,it will be reflected in the original array and vice-versa also."
      ],
      "metadata": {
        "id": "sWVKZIb3kHlp"
      }
    },
    {
      "cell_type": "code",
      "source": [
        "a=np.arange(1,16)\n",
        "b=np.reshape(a,(5,3))\n",
        "print(f'array b is {b}')\n",
        "print(f'array a is {a}')"
      ],
      "metadata": {
        "colab": {
          "base_uri": "https://localhost:8080/"
        },
        "id": "_zsztnaKT5ug",
        "outputId": "9a96dcfb-f849-4f65-b20e-8a76162c651b"
      },
      "execution_count": null,
      "outputs": [
        {
          "output_type": "stream",
          "name": "stdout",
          "text": [
            "array b is [[ 1  2  3]\n",
            " [ 4  5  6]\n",
            " [ 7  8  9]\n",
            " [10 11 12]\n",
            " [13 14 15]]\n",
            "array a is [ 1  2  3  4  5  6  7  8  9 10 11 12 13 14 15]\n"
          ]
        }
      ]
    },
    {
      "cell_type": "code",
      "source": [
        "a[0][0]=45\n",
        "print(a)"
      ],
      "metadata": {
        "colab": {
          "base_uri": "https://localhost:8080/"
        },
        "id": "LOz6ziMXT5r3",
        "outputId": "8fac359b-ae07-41ce-8c80-c6cba59ebef7"
      },
      "execution_count": null,
      "outputs": [
        {
          "output_type": "stream",
          "name": "stdout",
          "text": [
            "[[45  2  3]\n",
            " [ 4  5  6]\n",
            " [ 7  8  9]\n",
            " [10 11 12]\n",
            " [13 14 15]]\n"
          ]
        }
      ]
    },
    {
      "cell_type": "markdown",
      "source": [
        "**2. resize()**\n",
        "\n",
        "resize() function is used to create a new array with the specified shape. \n",
        "\n",
        "      numpy.resize(a,new_shape)\n",
        "      return a new array with the specified shape\n",
        "\n",
        "\n",
        "\n"
      ],
      "metadata": {
        "id": "fbfnd6_oaRpS"
      }
    },
    {
      "cell_type": "markdown",
      "source": [
        "1. A separatenew array object will be created.\n",
        "2. There may be a chance of changing data.\n",
        "3. The size are need not be the same.\n",
        "4. There is no chance to use -1 in the case of unknown dimension."
      ],
      "metadata": {
        "id": "ExCgbeNceUL6"
      }
    },
    {
      "cell_type": "code",
      "source": [
        "import numpy as np\n",
        "a=np.arange(1,6)"
      ],
      "metadata": {
        "id": "awaU0Ru1apCE"
      },
      "execution_count": null,
      "outputs": []
    },
    {
      "cell_type": "code",
      "source": [
        "#if the new array is larger then original array ,the new array is filled with repeated copies of 'a' \n",
        "np.resize(a,(2,4))"
      ],
      "metadata": {
        "colab": {
          "base_uri": "https://localhost:8080/"
        },
        "id": "V20mcV13aFms",
        "outputId": "690c9abc-e0a6-4bd6-cdf0-b4e2ff6aff88"
      },
      "execution_count": null,
      "outputs": [
        {
          "output_type": "execute_result",
          "data": {
            "text/plain": [
              "array([[1, 2, 3, 4],\n",
              "       [5, 1, 2, 3]])"
            ]
          },
          "metadata": {},
          "execution_count": 5
        }
      ]
    },
    {
      "cell_type": "code",
      "source": [
        "c=np.resize(a,(2,2))\n",
        "print(c)"
      ],
      "metadata": {
        "colab": {
          "base_uri": "https://localhost:8080/"
        },
        "id": "jfd9NuvJaFjD",
        "outputId": "d655d504-3c61-4e46-bbde-52c68ae84eed"
      },
      "execution_count": null,
      "outputs": [
        {
          "output_type": "stream",
          "name": "stdout",
          "text": [
            "[[1 2]\n",
            " [3 4]]\n"
          ]
        }
      ]
    },
    {
      "cell_type": "code",
      "source": [
        "#Note that this behaviour is different from a.resize(new_shape) which fills with zeros instead of repeated copies of 'a'\n",
        "#if we are using ndarray class resize() method,inline modification will be happend.ie exisitng array only modified.\n",
        "a=np.arange(1,5)\n",
        "b=a.resize(4,2) \n",
        "print(a)\n",
        "print(b)"
      ],
      "metadata": {
        "colab": {
          "base_uri": "https://localhost:8080/"
        },
        "id": "D4lLUzGwfD2q",
        "outputId": "991aea1e-e57b-4623-8d99-32af977b98e8"
      },
      "execution_count": null,
      "outputs": [
        {
          "output_type": "stream",
          "name": "stdout",
          "text": [
            "[[1 2]\n",
            " [3 4]\n",
            " [0 0]\n",
            " [0 0]]\n",
            "None\n"
          ]
        }
      ]
    },
    {
      "cell_type": "markdown",
      "source": [
        "**reshape()** \n",
        "1. It is used to create a new array of the same size (as the original array) but of different desired dimensions.\n",
        "2. The reshape will happend without changing original data.\n",
        "3. In unknown dimension we can use -1.\n",
        "\n",
        "**resize()** \n",
        "1. It can create an array of larger size than the original array.\n",
        "2. There may be chance of data change in resize.\n",
        "3.-1 such type of story is not applicable"
      ],
      "metadata": {
        "id": "y5WcuAbAeF-f"
      }
    },
    {
      "cell_type": "markdown",
      "source": [
        "**numpy.resize()**  \n",
        "1. It will create a new array and return it.\n",
        "2. If the new_shape requires more element then repeated copies of original array will be used.\n",
        "3. It is a library function present in numpy module.\n",
        "\n",
        "**ndarray.resize()**\n",
        "1. It is a method present in ndarray class.\n",
        "2. It wont return new array and existing array will be modified.\n",
        "3. If the new_shape requires more element then extra element filled with zeros.\n"
      ],
      "metadata": {
        "id": "o8E1sYojlDeT"
      }
    },
    {
      "cell_type": "markdown",
      "source": [
        "#### **Flatten**\n",
        "\n",
        "1. Flatten returns a copy of single dimensional array by merging all sub-arrays.\n",
        "2. This is a function of ndarray object.\n",
        "3. We can use flatten() method to flatten(convert) any n-dimensional array to 1-dimensional array.\n",
        "\n",
        "**Notes**\n",
        "\n",
        "1. flatten will always create a new array object hence on the flatten copy,if we perform any changes then those changes wont be reflected on original copy.\n",
        "2. flatten() will always returns 1-D array only.\n",
        "\n",
        "\n",
        "**Note-**This function is not available for List of ndarrays object\n",
        "\n",
        "     Syntax:\n",
        "     ndarray.flatten(order='C')\n",
        "     Parameter\n",
        "      order(optional):'C','F','A','K'\n",
        "      Default order is C\n",
        "     'C' means to flatten in row-major(C-style) order.\n",
        "     'F' means to flatten in column-major (Fortran-style) order.\n",
        "     'A' means to flatten in column-major order if a is Fortran contiguous in memory, row-major order otherwise.\n",
        "     'K' means to flatten a in the order the elements occur in memory.\n",
        "\n",
        "\n",
        "\n"
      ],
      "metadata": {
        "id": "iwkfCwH0qlu9"
      }
    },
    {
      "cell_type": "code",
      "source": [
        "import numpy as np\n",
        "a=np.arange(1,11).reshape(2,5)\n",
        "print('Actual Array is',a)  \n",
        "print('Flatten Array',a.flatten()) #row major order"
      ],
      "metadata": {
        "colab": {
          "base_uri": "https://localhost:8080/"
        },
        "id": "RL9d-MRQaFgL",
        "outputId": "ef63b106-bd02-45c2-aa49-f71e475929aa"
      },
      "execution_count": null,
      "outputs": [
        {
          "output_type": "stream",
          "name": "stdout",
          "text": [
            "Actual Array is [[ 1  2  3  4  5]\n",
            " [ 6  7  8  9 10]]\n",
            "Flatten Array [ 1  2  3  4  5  6  7  8  9 10]\n"
          ]
        }
      ]
    },
    {
      "cell_type": "code",
      "source": [
        "a.flatten(order='F') #column major order"
      ],
      "metadata": {
        "id": "QkkZHtamaFdd",
        "colab": {
          "base_uri": "https://localhost:8080/"
        },
        "outputId": "b358bf7c-2411-424f-d086-1a38f95d2914"
      },
      "execution_count": null,
      "outputs": [
        {
          "output_type": "execute_result",
          "data": {
            "text/plain": [
              "array([ 1,  6,  2,  7,  3,  8,  4,  9,  5, 10])"
            ]
          },
          "metadata": {},
          "execution_count": 2
        }
      ]
    },
    {
      "cell_type": "code",
      "source": [
        "#3d array to 1d array\n",
        "b=np.arange(1,19).reshape(3,3,2)\n",
        "print('Actual Array:',b)\n",
        "print('Flatten Array:',b.flatten())\n",
        "print('Flatten Array with order 'F':',b.flatten(order='F'))"
      ],
      "metadata": {
        "id": "_UkQZGFpaFa5",
        "colab": {
          "base_uri": "https://localhost:8080/"
        },
        "outputId": "c9badae9-bf19-4092-ef6c-0299b28fa94c"
      },
      "execution_count": null,
      "outputs": [
        {
          "output_type": "stream",
          "name": "stdout",
          "text": [
            "Actual Array: [[[ 1  2]\n",
            "  [ 3  4]\n",
            "  [ 5  6]]\n",
            "\n",
            " [[ 7  8]\n",
            "  [ 9 10]\n",
            "  [11 12]]\n",
            "\n",
            " [[13 14]\n",
            "  [15 16]\n",
            "  [17 18]]]\n",
            "Flatten Array: [ 1  2  3  4  5  6  7  8  9 10 11 12 13 14 15 16 17 18]\n",
            "Flatten Array with order : [ 1  7 13  3  9 15  5 11 17  2  8 14  4 10 16  6 12 18]\n"
          ]
        }
      ]
    },
    {
      "cell_type": "markdown",
      "source": [
        "#### **flat**\n",
        "1. This function is used to returns a 1-D iterator over the array.\n",
        "2. This function behaves similar to Python’s built-in iterator.\n",
        "\n",
        "        Syntax:\n",
        "        numpy.ndarray.flat\n",
        "        numpy.ndarray.flat[i]\n",
        "            where i is index number\n",
        "        \n"
      ],
      "metadata": {
        "id": "MOPdJ4ejPahg"
      }
    },
    {
      "cell_type": "code",
      "source": [
        "a=np.arange(1,7).reshape(3,2)\n",
        "print('Actual Array is',a)\n",
        "print('Result of flat function is:',a.flat[4])"
      ],
      "metadata": {
        "id": "D9OJXJNZaFYY",
        "colab": {
          "base_uri": "https://localhost:8080/"
        },
        "outputId": "d26889e1-a514-4ae6-fe92-3dcb8c38c583"
      },
      "execution_count": null,
      "outputs": [
        {
          "output_type": "stream",
          "name": "stdout",
          "text": [
            "Actual Array is [[1 2]\n",
            " [3 4]\n",
            " [5 6]]\n",
            "Result of flat function is: 5\n"
          ]
        }
      ]
    },
    {
      "cell_type": "code",
      "source": [
        "a1=np.array([9,8,6,3,2,1,5,4,7])\n",
        "print(a1)\n",
        "a=a1.reshape(3,3,order='C') \n",
        "print('value of flat function is:',a.flat[5])"
      ],
      "metadata": {
        "id": "QxJLGMGjaFVy",
        "colab": {
          "base_uri": "https://localhost:8080/"
        },
        "outputId": "5378cd84-7e78-4afa-e80b-bdbf3d472696"
      },
      "execution_count": null,
      "outputs": [
        {
          "output_type": "stream",
          "name": "stdout",
          "text": [
            "[9 8 6 3 2 1 5 4 7]\n",
            "value of flat function is: 1\n"
          ]
        }
      ]
    },
    {
      "cell_type": "markdown",
      "source": [
        "#### **ravel()**\n",
        "\n",
        "* We can use ravel() to flatten any n-dimensional array to 1-D array but it will return view but not a separate copy. \n",
        "* ravel is a library level function i.e numpy.\n",
        "* This function returns a contiguous flattened array.\n",
        "* Return array will have the same type as the input array.\n",
        "\n",
        "        syntax:\n",
        "        numpy.ravel(arr,order='C')\n",
        "\n",
        "        Parameters\n",
        "        arr-input array\n",
        "        order-optional-{'C','F','A','K'}\n",
        "        Default order is C \n",
        "        'C' means to flatten in row-major(C-style) order. \n",
        "        'F' means to flatten in column-major (Fortran-style) order. \n",
        "        'A' means to flatten in column-major order if a is Fortran contiguous in memory, row-major order otherwise.\n",
        "        'K' means to flatten a in the order the elements occur in memory.\n",
        "\n",
        "\n",
        "**Note**\n",
        "For numpy library ravel()function,ndarray contain equivalent ravel()\n",
        "method is available.We use anythings function will be same\n"
      ],
      "metadata": {
        "id": "twEdw0qw-Iso"
      }
    },
    {
      "cell_type": "code",
      "source": [
        " import numpy as np\n",
        " a=np.arange(1,16).reshape(3,5)\n",
        " b=a.ravel()\n",
        " print('Array a is',a)\n",
        " print('Array b is',b)"
      ],
      "metadata": {
        "id": "RCpVFpWraFS9",
        "colab": {
          "base_uri": "https://localhost:8080/"
        },
        "outputId": "3a5f4e4a-4420-4a05-b7fc-b696699177e8"
      },
      "execution_count": null,
      "outputs": [
        {
          "output_type": "stream",
          "name": "stdout",
          "text": [
            "Array a is [[ 1  2  3  4  5]\n",
            " [ 6  7  8  9 10]\n",
            " [11 12 13 14 15]]\n",
            "Array b is [ 1  2  3  4  5  6  7  8  9 10 11 12 13 14 15]\n"
          ]
        }
      ]
    },
    {
      "cell_type": "code",
      "source": [
        "b[0]=23\n",
        "print(f'Array b after update {b}')\n",
        "print(f'Array a after update of b {a}')"
      ],
      "metadata": {
        "id": "pdIx2tRUaFQh",
        "colab": {
          "base_uri": "https://localhost:8080/"
        },
        "outputId": "d69509b0-7976-4e7b-82e8-3809cd81511a"
      },
      "execution_count": null,
      "outputs": [
        {
          "output_type": "stream",
          "name": "stdout",
          "text": [
            "Array b after update [23  2  3  4  5  6  7  8  9 10 11 12 13 14 15]\n",
            "Array a after update of b [[23  2  3  4  5]\n",
            " [ 6  7  8  9 10]\n",
            " [11 12 13 14 15]]\n"
          ]
        }
      ]
    },
    {
      "cell_type": "code",
      "source": [
        "a=np.arange(8).reshape(2,4)\n",
        "print('Array',a)\n",
        "print('Array after ravel :',a.ravel())"
      ],
      "metadata": {
        "id": "42s8vgZkaFNu",
        "colab": {
          "base_uri": "https://localhost:8080/"
        },
        "outputId": "03dd0d88-c35b-4979-843c-cc556a25cec6"
      },
      "execution_count": null,
      "outputs": [
        {
          "output_type": "stream",
          "name": "stdout",
          "text": [
            "Array [[0 1 2 3]\n",
            " [4 5 6 7]]\n",
            "Array after ravel : [0 1 2 3 4 5 6 7]\n"
          ]
        }
      ]
    },
    {
      "cell_type": "markdown",
      "source": [
        "#### **ravel() vs flatten()**\n",
        "\n",
        "1. \n",
        "* It can be used to flatten 1-D array and a separate 1-D array object will be created.\n",
        "* It can be used to flatten 1-D array but it won't be create a new 1-D array object and we will get only view.\n",
        "\n",
        "2. \n",
        "* If we perform any changs in the flatten() copy,then those changes won't be reflected in the original copy.\n",
        "* If we perform any changes in the ravel() copy,then those changes will be reflected in the original copy.\n",
        "\n",
        "3.  \n",
        "* flatten() method operats slower then ravel() as it is required to create a new array object.\n",
        "* ravel() function operats faster then flatten() as it won't required to create a new array object.\n",
        "\n",
        "4. \n",
        "* flatten() is not a numpy library level function and it is a method present in ndarray.\n",
        "      eg:\n",
        "      ndarray.flatten()---valid\n",
        "      numpy.flatten(arr) --invalid\n",
        "\n",
        "* ravel() is both numpy library level function and ndarray class method.\n",
        "      eg:\n",
        "      ndarray.ravel()--valid\n",
        "      numpy.ravel(arr)--valid\n",
        "\n"
      ],
      "metadata": {
        "id": "wh-A1YiCMiMf"
      }
    },
    {
      "cell_type": "markdown",
      "source": [
        "#### **transpose or ndarray.T**\n",
        "\n",
        "1. transpose() function permutes the dimension of the given array.\n",
        "2. transpose() returns a view wherever possible.\n",
        "1. ndarray.T is similar to numpy.transpose\n",
        "\n",
        "        Syntax:\n",
        "              transpose(arr, axes=None)\n",
        "              Parameters:\n",
        "                        arr: Input array.\n",
        "                        axes: By default, reverse the dimensions, otherwise permute the axes according to the values given.\n",
        "\n"
      ],
      "metadata": {
        "id": "LsMzS48tXp0j"
      }
    },
    {
      "cell_type": "code",
      "source": [
        "d=np.array([[1,5,3],[2,5,6]])\n",
        "print(f'Actual Array {d}')\n",
        "print(f'Array after transpose {np.transpose(d)}')"
      ],
      "metadata": {
        "colab": {
          "base_uri": "https://localhost:8080/"
        },
        "id": "2lJFK-RYYx-J",
        "outputId": "321d2888-b692-4475-b2b8-60a7ca8a9474"
      },
      "execution_count": null,
      "outputs": [
        {
          "output_type": "stream",
          "name": "stdout",
          "text": [
            "Actual Array [[1 5 3]\n",
            " [2 5 6]]\n",
            "Array after transpose [[1 2]\n",
            " [5 5]\n",
            " [3 6]]\n"
          ]
        }
      ]
    },
    {
      "cell_type": "code",
      "source": [
        "x = np.array([[1,2],[3,4]])\n",
        "print(f'Actual Array {x}')\n",
        "print(f'Array after transpose',x.T)"
      ],
      "metadata": {
        "colab": {
          "base_uri": "https://localhost:8080/"
        },
        "id": "wkWopU_nXjd_",
        "outputId": "f6197531-01cf-45d3-f518-21745e2af347"
      },
      "execution_count": null,
      "outputs": [
        {
          "output_type": "stream",
          "name": "stdout",
          "text": [
            "Actual Array [[1 2]\n",
            " [3 4]]\n",
            "Array after transpose [[1 3]\n",
            " [2 4]]\n"
          ]
        }
      ]
    },
    {
      "cell_type": "code",
      "source": [
        "a=np.arange(12).reshape(3,4)"
      ],
      "metadata": {
        "id": "sGLGE7K9uBBh"
      },
      "execution_count": null,
      "outputs": []
    },
    {
      "cell_type": "code",
      "source": [
        "print(a)\n",
        "print('-'*20)\n",
        "print(a.T)"
      ],
      "metadata": {
        "colab": {
          "base_uri": "https://localhost:8080/"
        },
        "id": "SYd179v40Bir",
        "outputId": "f97587a3-5c8a-47b6-c40a-f900d1549da8"
      },
      "execution_count": null,
      "outputs": [
        {
          "output_type": "stream",
          "name": "stdout",
          "text": [
            "[[ 0  1  2  3]\n",
            " [ 4  5  6  7]\n",
            " [ 8  9 10 11]]\n",
            "--------------------\n",
            "[[ 0  4  8]\n",
            " [ 1  5  9]\n",
            " [ 2  6 10]\n",
            " [ 3  7 11]]\n"
          ]
        }
      ]
    },
    {
      "cell_type": "markdown",
      "source": [
        "* Use np.newaxis (or None) to add new axes. (Thus, increasing the dimension of the array)\n",
        "* Use np.swapaxes to swap any two axes.\n",
        "* Use np.transpose to permute all the axes at once.\n",
        "* Use np.rollaxis to \"rotate\" the axes."
      ],
      "metadata": {
        "id": "QcmHbSuJgG2F"
      }
    },
    {
      "cell_type": "markdown",
      "source": [
        "#### **swapaxes**\n",
        "* By using transpose we can interchange any number of dimensions.but if we want to interchange only two dimensions then we should go for swapaxes() function.It is the specail case of transpose() function.\n",
        "\n",
        "* This function interchanges the two axes of an array.\n",
        "\n",
        "        numpy.swapaxes(arr, axis1, axis2)\n",
        "        ndarray.swapaxes(axis1,axis2)\n",
        "        Parameters:\n",
        "                  arr: Input array whose axes are to be swapped\n",
        "                  axis1: An int corresponding to the first axis\n",
        "                  axis2:  An int corresponding to the second axis\n",
        "\n",
        "**Note-**\n",
        "ndarray class also contains swapaxes() method which is exactly same as numpy library swapaxes() function."
      ],
      "metadata": {
        "id": "4AZwQ84wRE7e"
      }
    },
    {
      "cell_type": "code",
      "source": [
        "import numpy as np\n",
        "a=np.arange(1,7).reshape(3,2)\n",
        "b=a.swapaxes(0,1)\n",
        "print('Actual Array:',a)\n",
        "print('shape of actual array',a.shape)\n",
        "print('')\n",
        "print('*'*40)\n",
        "print('')\n",
        "print('Array after swap',b)\n",
        "print('shape of swap array',b.shape)"
      ],
      "metadata": {
        "id": "D2zUaY4u1YHZ",
        "colab": {
          "base_uri": "https://localhost:8080/"
        },
        "outputId": "bc75d0e6-513a-4357-e065-7765df7e7b1e"
      },
      "execution_count": null,
      "outputs": [
        {
          "output_type": "stream",
          "name": "stdout",
          "text": [
            "Actual Array: [[1 2]\n",
            " [3 4]\n",
            " [5 6]]\n",
            "shape of actual array (3, 2)\n",
            "\n",
            "****************************************\n",
            "\n",
            "Array after swap [[1 3 5]\n",
            " [2 4 6]]\n",
            "shape of swap array (2, 3)\n"
          ]
        }
      ]
    },
    {
      "cell_type": "markdown",
      "source": [
        "**Note-**\n",
        "There is no difference between these line just interchange rows and columns.\n",
        "\n",
        "      np.swapaxes(a,0,1)\n",
        "      np.swapaxes(a,1,0)\n",
        "    "
      ],
      "metadata": {
        "id": "sOuwhewnUZ6P"
      }
    },
    {
      "cell_type": "code",
      "source": [
        "a.swapaxes(1,0)"
      ],
      "metadata": {
        "colab": {
          "base_uri": "https://localhost:8080/"
        },
        "id": "vnpuyxVidZL-",
        "outputId": "47c40ee4-4512-4f57-a2c7-8644ae7bcfa6"
      },
      "execution_count": null,
      "outputs": [
        {
          "output_type": "execute_result",
          "data": {
            "text/plain": [
              "array([[1, 3, 5],\n",
              "       [2, 4, 6]])"
            ]
          },
          "metadata": {},
          "execution_count": 20
        }
      ]
    },
    {
      "cell_type": "code",
      "source": [
        "'''\n",
        "0--1st axis\n",
        "1--2nd axis\n",
        "3--3rd axis\n",
        "'''\n",
        "n=np.arange(1,25).reshape(2,3,4)\n",
        "print(f'shape of array before swap is {n.shape}')\n",
        "print(f'array is {n}','\\n')\n",
        "print('*'*40,'\\n')\n",
        "s=np.swapaxes(n,0,2)\n",
        "print(f'shape of array after swap is {s.shape}')\n",
        "print(f'array is {s}')"
      ],
      "metadata": {
        "colab": {
          "base_uri": "https://localhost:8080/"
        },
        "id": "3rA3RWaOVGMc",
        "outputId": "9b16bafe-0bfc-4ab1-a65d-4dfadbc68d87"
      },
      "execution_count": null,
      "outputs": [
        {
          "output_type": "stream",
          "name": "stdout",
          "text": [
            "shape of array before swap is (2, 3, 4)\n",
            "array is [[[ 1  2  3  4]\n",
            "  [ 5  6  7  8]\n",
            "  [ 9 10 11 12]]\n",
            "\n",
            " [[13 14 15 16]\n",
            "  [17 18 19 20]\n",
            "  [21 22 23 24]]] \n",
            "\n",
            "**************************************** \n",
            "\n",
            "shape of array after swap is (4, 3, 2)\n",
            "array is [[[ 1 13]\n",
            "  [ 5 17]\n",
            "  [ 9 21]]\n",
            "\n",
            " [[ 2 14]\n",
            "  [ 6 18]\n",
            "  [10 22]]\n",
            "\n",
            " [[ 3 15]\n",
            "  [ 7 19]\n",
            "  [11 23]]\n",
            "\n",
            " [[ 4 16]\n",
            "  [ 8 20]\n",
            "  [12 24]]]\n"
          ]
        }
      ]
    },
    {
      "cell_type": "code",
      "source": [
        "s=np.swapaxes(n,1,2)\n",
        "print(f'shape of actual array is {n.shape}')\n",
        "print(f'shape of array after swap is {s.shape}')\n",
        "print(f'array is {s}')"
      ],
      "metadata": {
        "colab": {
          "base_uri": "https://localhost:8080/"
        },
        "id": "a4uAv092VGIo",
        "outputId": "62bf241f-8ee7-473d-9cb1-f4ce986f6dcd"
      },
      "execution_count": null,
      "outputs": [
        {
          "output_type": "stream",
          "name": "stdout",
          "text": [
            "shape of actual array is (2, 3, 4)\n",
            "shape of array after swap is (2, 4, 3)\n",
            "array is [[[ 1  5  9]\n",
            "  [ 2  6 10]\n",
            "  [ 3  7 11]\n",
            "  [ 4  8 12]]\n",
            "\n",
            " [[13 17 21]\n",
            "  [14 18 22]\n",
            "  [15 19 23]\n",
            "  [16 20 24]]]\n"
          ]
        }
      ]
    },
    {
      "cell_type": "markdown",
      "source": [
        "#### **Difference between transpose() and swapaxes()**\n",
        "\n",
        "* By using transpose() we can interchange any number of dimension\n",
        "* By using swapaxes() we can change only two dimensions."
      ],
      "metadata": {
        "id": "dd65TKJ2ZMYV"
      }
    },
    {
      "cell_type": "markdown",
      "source": [
        "#### **Concatenate**\n",
        "* Joining or concatinating of array by using concatenate() function.\n",
        "* Concatenation refers to joining. This function is used to join two or more arrays of the same shape along a specified axis i.e row(axis=0) or column(axis=1) wise. Let us seen the syntax and some example of numpy concatenate operation.\n",
        "\n",
        "**Rules**\n",
        "\n",
        "* We can join any number of arrays,but all arrays should be of the same dimension\n",
        "* The sizes of all axes except concatenation axis should be the same.\n",
        "* The shaps of resultant array and out array must be the same.\n",
        "\n",
        "        syntax:\n",
        "        numpy.concatenate((a1,a2,a3,..,an),axis=0,out=None,dtype=None,casting=\"same_kind\")\n",
        "\n",
        "        a1, a2, ... : a sequence of array_like\n",
        "          The arrays must have the same shape, except in the dimension corresponding to the axis (the first, by default).\n",
        "\n",
        "        axis: int, optional\n",
        "          The axis along which the arrays will be joined. The default is 0.\n",
        "\n",
        "        out: ndarray, optional\n",
        "          If provided, the destination to place the result. The shape must be correct, matching that of what concatenate would have returned if no out argument were specified.\n"
      ],
      "metadata": {
        "id": "9XpNtLJqdgb6"
      }
    },
    {
      "cell_type": "code",
      "source": [
        "import numpy as np\n",
        "a=np.array(np.arange(8).reshape(2,4))\n",
        "b=np.array(np.arange(8,16).reshape(2,4))"
      ],
      "metadata": {
        "id": "MCliQvPFVGGL"
      },
      "execution_count": null,
      "outputs": []
    },
    {
      "cell_type": "code",
      "source": [
        "np.concatenate((a,b)) # np.concatenate((a,b),axis=0)"
      ],
      "metadata": {
        "id": "twqcaJAjVGDC",
        "colab": {
          "base_uri": "https://localhost:8080/"
        },
        "outputId": "8ac6bfbe-5527-4604-b1fe-052c7e38e584"
      },
      "execution_count": null,
      "outputs": [
        {
          "output_type": "execute_result",
          "data": {
            "text/plain": [
              "array([[ 0,  1,  2,  3],\n",
              "       [ 4,  5,  6,  7],\n",
              "       [ 8,  9, 10, 11],\n",
              "       [12, 13, 14, 15]])"
            ]
          },
          "metadata": {},
          "execution_count": 2
        }
      ]
    },
    {
      "cell_type": "code",
      "source": [
        "np.concatenate((a,b),axis=1)"
      ],
      "metadata": {
        "id": "5APprFjYVF_1",
        "colab": {
          "base_uri": "https://localhost:8080/"
        },
        "outputId": "2ece3464-e352-4f09-efe7-1d7ea9d85728"
      },
      "execution_count": null,
      "outputs": [
        {
          "output_type": "execute_result",
          "data": {
            "text/plain": [
              "array([[ 0,  1,  2,  3,  8,  9, 10, 11],\n",
              "       [ 4,  5,  6,  7, 12, 13, 14, 15]])"
            ]
          },
          "metadata": {},
          "execution_count": 3
        }
      ]
    },
    {
      "cell_type": "code",
      "source": [
        "#concatenate of 2 1-D array\n",
        "a=np.arange(4)\n",
        "b=np.arange(5)\n",
        "\n",
        "np.concatenate((a,b))"
      ],
      "metadata": {
        "id": "s_dc8ANXgwYa",
        "colab": {
          "base_uri": "https://localhost:8080/"
        },
        "outputId": "dad2e1c8-256d-4ac3-d355-2b8dbc49987d"
      },
      "execution_count": null,
      "outputs": [
        {
          "output_type": "execute_result",
          "data": {
            "text/plain": [
              "array([0, 1, 2, 3, 0, 1, 2, 3, 4])"
            ]
          },
          "metadata": {},
          "execution_count": 4
        }
      ]
    },
    {
      "cell_type": "code",
      "source": [
        "#concatenate of 3 1-D arrays\n",
        "c=np.arange(6,10)\n",
        "np.concatenate((a,b,c))"
      ],
      "metadata": {
        "id": "86fk8UN8MqGN",
        "colab": {
          "base_uri": "https://localhost:8080/"
        },
        "outputId": "6b72076d-d8c4-408d-a009-c81a0d7be3ee"
      },
      "execution_count": null,
      "outputs": [
        {
          "output_type": "execute_result",
          "data": {
            "text/plain": [
              "array([0, 1, 2, 3, 0, 1, 2, 3, 4, 6, 7, 8, 9])"
            ]
          },
          "metadata": {},
          "execution_count": 5
        }
      ]
    },
    {
      "cell_type": "markdown",
      "source": [
        "**Note**\n",
        "1. The default data type for zeros() is float and hence the element are of float type.\n",
        "\n",
        "2. Compulsory the out parameter shape and resultant array shape must be matched,otherwise we will get error.\n"
      ],
      "metadata": {
        "id": "RiQmEPLMIol8"
      }
    },
    {
      "cell_type": "code",
      "source": [
        "#storing result by using out parameter:\n",
        "d=np.zeros(13,dtype='int32')\n",
        "np.concatenate((a,b,c),out=d) "
      ],
      "metadata": {
        "colab": {
          "base_uri": "https://localhost:8080/"
        },
        "id": "4EHOcNm95q4h",
        "outputId": "670ef462-e793-4f29-a49d-00c731f303dc"
      },
      "execution_count": null,
      "outputs": [
        {
          "output_type": "execute_result",
          "data": {
            "text/plain": [
              "array([0, 1, 2, 3, 0, 1, 2, 3, 4, 6, 7, 8, 9], dtype=int32)"
            ]
          },
          "metadata": {},
          "execution_count": 18
        }
      ]
    },
    {
      "cell_type": "code",
      "source": [
        "import numpy as np \n",
        "d=np.zeros(10,dtype='int32')\n",
        "np.concatenate((a,b,c),out=d) "
      ],
      "metadata": {
        "id": "LS1iYh4J5_KG",
        "colab": {
          "base_uri": "https://localhost:8080/",
          "height": 235
        },
        "outputId": "bcac5176-d3dd-4ecb-d656-b22cc6c6eba0"
      },
      "execution_count": null,
      "outputs": [
        {
          "output_type": "error",
          "ename": "ValueError",
          "evalue": "ignored",
          "traceback": [
            "\u001b[0;31m---------------------------------------------------------------------------\u001b[0m",
            "\u001b[0;31mValueError\u001b[0m                                Traceback (most recent call last)",
            "\u001b[0;32m<ipython-input-6-3464928daa64>\u001b[0m in \u001b[0;36m<cell line: 3>\u001b[0;34m()\u001b[0m\n\u001b[1;32m      1\u001b[0m \u001b[0;32mimport\u001b[0m \u001b[0mnumpy\u001b[0m \u001b[0;32mas\u001b[0m \u001b[0mnp\u001b[0m\u001b[0;34m\u001b[0m\u001b[0;34m\u001b[0m\u001b[0m\n\u001b[1;32m      2\u001b[0m \u001b[0md\u001b[0m\u001b[0;34m=\u001b[0m\u001b[0mnp\u001b[0m\u001b[0;34m.\u001b[0m\u001b[0mzeros\u001b[0m\u001b[0;34m(\u001b[0m\u001b[0;36m10\u001b[0m\u001b[0;34m,\u001b[0m\u001b[0mdtype\u001b[0m\u001b[0;34m=\u001b[0m\u001b[0;34m'int32'\u001b[0m\u001b[0;34m)\u001b[0m\u001b[0;34m\u001b[0m\u001b[0;34m\u001b[0m\u001b[0m\n\u001b[0;32m----> 3\u001b[0;31m \u001b[0mnp\u001b[0m\u001b[0;34m.\u001b[0m\u001b[0mconcatenate\u001b[0m\u001b[0;34m(\u001b[0m\u001b[0;34m(\u001b[0m\u001b[0ma\u001b[0m\u001b[0;34m,\u001b[0m\u001b[0mb\u001b[0m\u001b[0;34m,\u001b[0m\u001b[0mc\u001b[0m\u001b[0;34m)\u001b[0m\u001b[0;34m,\u001b[0m\u001b[0mout\u001b[0m\u001b[0;34m=\u001b[0m\u001b[0md\u001b[0m\u001b[0;34m)\u001b[0m\u001b[0;34m\u001b[0m\u001b[0;34m\u001b[0m\u001b[0m\n\u001b[0m",
            "\u001b[0;32m/usr/local/lib/python3.10/dist-packages/numpy/core/overrides.py\u001b[0m in \u001b[0;36mconcatenate\u001b[0;34m(*args, **kwargs)\u001b[0m\n",
            "\u001b[0;31mValueError\u001b[0m: Output array is the wrong shape"
          ]
        }
      ]
    },
    {
      "cell_type": "code",
      "source": [
        "## Joining of two 2-D array\n",
        "a=np.array(np.arange(1,9).reshape(2,4))\n",
        "b=np.array(np.arange(1,13).reshape(3,4))\n",
        "print(f'shae of array a is {a.shape}')\n",
        "print(f'shae of array b is {b.shape}')"
      ],
      "metadata": {
        "colab": {
          "base_uri": "https://localhost:8080/"
        },
        "id": "WAUiZPwYJh7F",
        "outputId": "d9dd1fe0-f106-47b7-9c6d-ff6b1962fdc6"
      },
      "execution_count": null,
      "outputs": [
        {
          "output_type": "stream",
          "name": "stdout",
          "text": [
            "shae of array a is (2, 4)\n",
            "shae of array b is (3, 4)\n"
          ]
        }
      ]
    },
    {
      "cell_type": "code",
      "source": [
        "## Row wise concatenation is possible\n",
        "np.concatenate((a,b))"
      ],
      "metadata": {
        "colab": {
          "base_uri": "https://localhost:8080/"
        },
        "id": "4jS06h6FUkME",
        "outputId": "789935fd-90c2-48df-8758-74b3a0575dfc"
      },
      "execution_count": null,
      "outputs": [
        {
          "output_type": "execute_result",
          "data": {
            "text/plain": [
              "array([[ 1,  2,  3,  4],\n",
              "       [ 5,  6,  7,  8],\n",
              "       [ 1,  2,  3,  4],\n",
              "       [ 5,  6,  7,  8],\n",
              "       [ 9, 10, 11, 12]])"
            ]
          },
          "metadata": {},
          "execution_count": 16
        }
      ]
    },
    {
      "cell_type": "code",
      "source": [
        "## column wise concatenation is not possible\n",
        "np.concatenate((a,b),axis=1)"
      ],
      "metadata": {
        "colab": {
          "base_uri": "https://localhost:8080/",
          "height": 235
        },
        "id": "fL_EPHOgUmjD",
        "outputId": "2d86479b-f4b2-4b8b-fc0c-b7baa41c959a"
      },
      "execution_count": null,
      "outputs": [
        {
          "output_type": "error",
          "ename": "ValueError",
          "evalue": "ignored",
          "traceback": [
            "\u001b[0;31m---------------------------------------------------------------------------\u001b[0m",
            "\u001b[0;31mValueError\u001b[0m                                Traceback (most recent call last)",
            "\u001b[0;32m<ipython-input-15-042b96de294d>\u001b[0m in \u001b[0;36m<cell line: 2>\u001b[0;34m()\u001b[0m\n\u001b[1;32m      1\u001b[0m \u001b[0;31m## column wise concatenation is not possible\u001b[0m\u001b[0;34m\u001b[0m\u001b[0;34m\u001b[0m\u001b[0m\n\u001b[0;32m----> 2\u001b[0;31m \u001b[0mnp\u001b[0m\u001b[0;34m.\u001b[0m\u001b[0mconcatenate\u001b[0m\u001b[0;34m(\u001b[0m\u001b[0;34m(\u001b[0m\u001b[0ma\u001b[0m\u001b[0;34m,\u001b[0m\u001b[0mb\u001b[0m\u001b[0;34m)\u001b[0m\u001b[0;34m,\u001b[0m\u001b[0maxis\u001b[0m\u001b[0;34m=\u001b[0m\u001b[0;36m1\u001b[0m\u001b[0;34m)\u001b[0m\u001b[0;34m\u001b[0m\u001b[0;34m\u001b[0m\u001b[0m\n\u001b[0m",
            "\u001b[0;32m/usr/local/lib/python3.10/dist-packages/numpy/core/overrides.py\u001b[0m in \u001b[0;36mconcatenate\u001b[0;34m(*args, **kwargs)\u001b[0m\n",
            "\u001b[0;31mValueError\u001b[0m: all the input array dimensions for the concatenation axis must match exactly, but along dimension 0, the array at index 0 has size 2 and the array at index 1 has size 3"
          ]
        }
      ]
    },
    {
      "cell_type": "code",
      "source": [
        "a=np.array(np.arange(1,9).reshape(4,2))\n",
        "b=np.array(np.arange(1,13).reshape(4,3))\n",
        "print(f'shae of array a is {a.shape}')\n",
        "print(f'shae of array b is {b.shape}')"
      ],
      "metadata": {
        "colab": {
          "base_uri": "https://localhost:8080/"
        },
        "id": "PgOWFL9RVE6M",
        "outputId": "5074a264-cbc4-4885-d95a-0d9ae01e64d0"
      },
      "execution_count": null,
      "outputs": [
        {
          "output_type": "stream",
          "name": "stdout",
          "text": [
            "shae of array a is (4, 2)\n",
            "shae of array b is (4, 3)\n"
          ]
        }
      ]
    },
    {
      "cell_type": "code",
      "source": [
        "#for above array we can perform only column wise operation not row wise\n",
        "print(np.concatenate((a,b),axis=1))\n",
        "print(np.concatenate((a,b),axis=0)) ## value error occurred"
      ],
      "metadata": {
        "colab": {
          "base_uri": "https://localhost:8080/",
          "height": 322
        },
        "id": "bVeI5ep-Vf3r",
        "outputId": "7093a0d8-c295-4bdf-b915-bc65b3bf0373"
      },
      "execution_count": null,
      "outputs": [
        {
          "output_type": "stream",
          "name": "stdout",
          "text": [
            "[[ 1  2  1  2  3]\n",
            " [ 3  4  4  5  6]\n",
            " [ 5  6  7  8  9]\n",
            " [ 7  8 10 11 12]]\n"
          ]
        },
        {
          "output_type": "error",
          "ename": "ValueError",
          "evalue": "ignored",
          "traceback": [
            "\u001b[0;31m---------------------------------------------------------------------------\u001b[0m",
            "\u001b[0;31mValueError\u001b[0m                                Traceback (most recent call last)",
            "\u001b[0;32m<ipython-input-19-a3818150c3f5>\u001b[0m in \u001b[0;36m<cell line: 3>\u001b[0;34m()\u001b[0m\n\u001b[1;32m      1\u001b[0m \u001b[0;31m#for above array we can perform only column wise operation not row wise\u001b[0m\u001b[0;34m\u001b[0m\u001b[0;34m\u001b[0m\u001b[0m\n\u001b[1;32m      2\u001b[0m \u001b[0mprint\u001b[0m\u001b[0;34m(\u001b[0m\u001b[0mnp\u001b[0m\u001b[0;34m.\u001b[0m\u001b[0mconcatenate\u001b[0m\u001b[0;34m(\u001b[0m\u001b[0;34m(\u001b[0m\u001b[0ma\u001b[0m\u001b[0;34m,\u001b[0m\u001b[0mb\u001b[0m\u001b[0;34m)\u001b[0m\u001b[0;34m,\u001b[0m\u001b[0maxis\u001b[0m\u001b[0;34m=\u001b[0m\u001b[0;36m1\u001b[0m\u001b[0;34m)\u001b[0m\u001b[0;34m)\u001b[0m\u001b[0;34m\u001b[0m\u001b[0;34m\u001b[0m\u001b[0m\n\u001b[0;32m----> 3\u001b[0;31m \u001b[0mprint\u001b[0m\u001b[0;34m(\u001b[0m\u001b[0mnp\u001b[0m\u001b[0;34m.\u001b[0m\u001b[0mconcatenate\u001b[0m\u001b[0;34m(\u001b[0m\u001b[0;34m(\u001b[0m\u001b[0ma\u001b[0m\u001b[0;34m,\u001b[0m\u001b[0mb\u001b[0m\u001b[0;34m)\u001b[0m\u001b[0;34m,\u001b[0m\u001b[0maxis\u001b[0m\u001b[0;34m=\u001b[0m\u001b[0;36m0\u001b[0m\u001b[0;34m)\u001b[0m\u001b[0;34m)\u001b[0m\u001b[0;34m\u001b[0m\u001b[0;34m\u001b[0m\u001b[0m\n\u001b[0m",
            "\u001b[0;32m/usr/local/lib/python3.10/dist-packages/numpy/core/overrides.py\u001b[0m in \u001b[0;36mconcatenate\u001b[0;34m(*args, **kwargs)\u001b[0m\n",
            "\u001b[0;31mValueError\u001b[0m: all the input array dimensions for the concatenation axis must match exactly, but along dimension 1, the array at index 0 has size 2 and the array at index 1 has size 3"
          ]
        }
      ]
    },
    {
      "cell_type": "code",
      "source": [
        "## Joing of 3-D array\n",
        "## We can concatenate but we should use axis 2\n",
        "import numpy as np\n",
        "a1=np.arange(1,13).reshape(2,3,2)\n",
        "a2=np.arange(1,19).reshape(2,3,3)\n",
        "print(np.concatenate((a1,a2),axis=2).shape)"
      ],
      "metadata": {
        "colab": {
          "base_uri": "https://localhost:8080/"
        },
        "id": "UK7lcon5Vr51",
        "outputId": "dc9b0914-4be1-4d79-81f3-72c24494aa8d"
      },
      "execution_count": null,
      "outputs": [
        {
          "output_type": "stream",
          "name": "stdout",
          "text": [
            "(2, 3, 5)\n"
          ]
        }
      ]
    },
    {
      "cell_type": "code",
      "source": [
        "# Error Occurred\n",
        "a1=np.arange(1,13).reshape(2,2,3)\n",
        "a2=np.arange(1,17).reshape(2,2,4)\n",
        "print(np.concatenate((a1,a2),axis=1).shape)"
      ],
      "metadata": {
        "colab": {
          "base_uri": "https://localhost:8080/",
          "height": 253
        },
        "id": "Lhj82KBaWfF2",
        "outputId": "07a431fb-2fca-45cf-d280-4531a381fb2c"
      },
      "execution_count": null,
      "outputs": [
        {
          "output_type": "error",
          "ename": "ValueError",
          "evalue": "ignored",
          "traceback": [
            "\u001b[0;31m---------------------------------------------------------------------------\u001b[0m",
            "\u001b[0;31mValueError\u001b[0m                                Traceback (most recent call last)",
            "\u001b[0;32m<ipython-input-30-a27815726833>\u001b[0m in \u001b[0;36m<cell line: 4>\u001b[0;34m()\u001b[0m\n\u001b[1;32m      2\u001b[0m \u001b[0ma1\u001b[0m\u001b[0;34m=\u001b[0m\u001b[0mnp\u001b[0m\u001b[0;34m.\u001b[0m\u001b[0marange\u001b[0m\u001b[0;34m(\u001b[0m\u001b[0;36m1\u001b[0m\u001b[0;34m,\u001b[0m\u001b[0;36m13\u001b[0m\u001b[0;34m)\u001b[0m\u001b[0;34m.\u001b[0m\u001b[0mreshape\u001b[0m\u001b[0;34m(\u001b[0m\u001b[0;36m2\u001b[0m\u001b[0;34m,\u001b[0m\u001b[0;36m2\u001b[0m\u001b[0;34m,\u001b[0m\u001b[0;36m3\u001b[0m\u001b[0;34m)\u001b[0m\u001b[0;34m\u001b[0m\u001b[0;34m\u001b[0m\u001b[0m\n\u001b[1;32m      3\u001b[0m \u001b[0ma2\u001b[0m\u001b[0;34m=\u001b[0m\u001b[0mnp\u001b[0m\u001b[0;34m.\u001b[0m\u001b[0marange\u001b[0m\u001b[0;34m(\u001b[0m\u001b[0;36m1\u001b[0m\u001b[0;34m,\u001b[0m\u001b[0;36m17\u001b[0m\u001b[0;34m)\u001b[0m\u001b[0;34m.\u001b[0m\u001b[0mreshape\u001b[0m\u001b[0;34m(\u001b[0m\u001b[0;36m2\u001b[0m\u001b[0;34m,\u001b[0m\u001b[0;36m2\u001b[0m\u001b[0;34m,\u001b[0m\u001b[0;36m4\u001b[0m\u001b[0;34m)\u001b[0m\u001b[0;34m\u001b[0m\u001b[0;34m\u001b[0m\u001b[0m\n\u001b[0;32m----> 4\u001b[0;31m \u001b[0mprint\u001b[0m\u001b[0;34m(\u001b[0m\u001b[0mnp\u001b[0m\u001b[0;34m.\u001b[0m\u001b[0mconcatenate\u001b[0m\u001b[0;34m(\u001b[0m\u001b[0;34m(\u001b[0m\u001b[0ma1\u001b[0m\u001b[0;34m,\u001b[0m\u001b[0ma2\u001b[0m\u001b[0;34m)\u001b[0m\u001b[0;34m,\u001b[0m\u001b[0maxis\u001b[0m\u001b[0;34m=\u001b[0m\u001b[0;36m1\u001b[0m\u001b[0;34m)\u001b[0m\u001b[0;34m.\u001b[0m\u001b[0mshape\u001b[0m\u001b[0;34m)\u001b[0m\u001b[0;34m\u001b[0m\u001b[0;34m\u001b[0m\u001b[0m\n\u001b[0m",
            "\u001b[0;32m/usr/local/lib/python3.10/dist-packages/numpy/core/overrides.py\u001b[0m in \u001b[0;36mconcatenate\u001b[0;34m(*args, **kwargs)\u001b[0m\n",
            "\u001b[0;31mValueError\u001b[0m: all the input array dimensions for the concatenation axis must match exactly, but along dimension 2, the array at index 0 has size 3 and the array at index 1 has size 4"
          ]
        }
      ]
    },
    {
      "cell_type": "code",
      "source": [
        "## axis=None is possible\n",
        "print(np.concatenate((a1,a2),axis=None).shape)\n",
        "print(np.concatenate((a1,a2),axis=None))"
      ],
      "metadata": {
        "colab": {
          "base_uri": "https://localhost:8080/"
        },
        "id": "VPZDkvu_XChH",
        "outputId": "d70d3790-f06d-4d58-9954-cd6841104da1"
      },
      "execution_count": null,
      "outputs": [
        {
          "output_type": "stream",
          "name": "stdout",
          "text": [
            "(28,)\n",
            "[ 1  2  3  4  5  6  7  8  9 10 11 12  1  2  3  4  5  6  7  8  9 10 11 12\n",
            " 13 14 15 16]\n"
          ]
        }
      ]
    },
    {
      "cell_type": "markdown",
      "source": [
        "#### **Retrieve elements of nd array**\n",
        "\n",
        "* By using basic indexing.\n",
        "* By using slice operator.\n",
        "* By using advanced indexing.\n",
        "* Condition based selelction.\n"
      ],
      "metadata": {
        "id": "1WMyTtccZEgQ"
      }
    },
    {
      "cell_type": "markdown",
      "source": [
        "#### **we can iterate elelmets of nd array by using the following ways**\n",
        "\n",
        "* By using python's loop \n",
        "* By using numpy nditer() function\n",
        "* By using numpy ndenumerate() function\n"
      ],
      "metadata": {
        "id": "s16-GXSNZjaY"
      }
    },
    {
      "cell_type": "markdown",
      "source": [
        "**1. By using python loop**\n",
        "\n",
        "* if we iterate 2-D array by using python's for loop,we will get 1-D array"
      ],
      "metadata": {
        "id": "vJSolEEHhmId"
      }
    },
    {
      "cell_type": "code",
      "source": [
        "# iterate element of 1-D array\n",
        "a=np.array([10,20,30,40,50])\n",
        "for i in a:\n",
        "  print(i)\n",
        "\n"
      ],
      "metadata": {
        "colab": {
          "base_uri": "https://localhost:8080/"
        },
        "id": "WZB0eZRCXUv2",
        "outputId": "cdf05809-2fcf-4865-e2da-b04397f628b5"
      },
      "execution_count": null,
      "outputs": [
        {
          "output_type": "stream",
          "name": "stdout",
          "text": [
            "10\n",
            "20\n",
            "30\n",
            "40\n",
            "50\n"
          ]
        }
      ]
    },
    {
      "cell_type": "code",
      "source": [
        "# to iterate elelemts of 2-D array\n",
        "a=np.array([[10,20],[30,40],[50,60]])"
      ],
      "metadata": {
        "id": "ITC3xograF5d"
      },
      "execution_count": null,
      "outputs": []
    },
    {
      "cell_type": "code",
      "source": [
        "print('print element one by one')\n",
        "for x in a:\n",
        "  for j in x:\n",
        "    print(j)"
      ],
      "metadata": {
        "colab": {
          "base_uri": "https://localhost:8080/"
        },
        "id": "KhQUSpmUaevj",
        "outputId": "1ccf8c6e-15f9-4bd6-cac3-ee23e9158d32"
      },
      "execution_count": null,
      "outputs": [
        {
          "output_type": "stream",
          "name": "stdout",
          "text": [
            "print element one by one\n",
            "10\n",
            "20\n",
            "30\n",
            "40\n",
            "50\n",
            "60\n"
          ]
        }
      ]
    },
    {
      "cell_type": "code",
      "source": [
        "# to iterate elelemts of 3-D array\n",
        "a=np.arange(1,13).reshape(2,3,2)\n",
        "\n",
        "print('Print element of 3-D array one by one')\n",
        "for i in a: #2-D array\n",
        "  for j in i: #1-D array\n",
        "    for k in j: #scaler value\n",
        "      print(k)"
      ],
      "metadata": {
        "id": "FZcOujgRakdl"
      },
      "execution_count": null,
      "outputs": []
    },
    {
      "cell_type": "markdown",
      "source": [
        "**Note**\n",
        "To iterate element of n-D array by using python ,we required n loop ,which is not convenient  to overcome this problem we should go for **nditer()** function"
      ],
      "metadata": {
        "id": "NQVmZEB5baBG"
      }
    },
    {
      "cell_type": "markdown",
      "source": [
        "**2. By using numpy nditer() function**\n",
        "\n",
        "**nditer()** \n",
        "* This function is specially designed function to iterate elements of any n-D array easily without multiple loops.\n",
        "\n",
        "* beofre changing the data type we required temporary storage ,which is nothing but buffer.We have to enable that buffer other wise weget error"
      ],
      "metadata": {
        "id": "CL1NOFDGcggk"
      }
    },
    {
      "cell_type": "code",
      "source": [
        "#By using numpy nditer() function\n",
        "#to iterate the element of 2-D array\n",
        "\n",
        "a=np.array([[10,20],[30,40],[50,60]])\n",
        "for i in np.nditer(a):\n",
        "  print(i)\n"
      ],
      "metadata": {
        "colab": {
          "base_uri": "https://localhost:8080/"
        },
        "id": "gA5aIc4Ga-iy",
        "outputId": "b97d4e93-8efc-41df-b7f0-8233ea65d237"
      },
      "execution_count": null,
      "outputs": [
        {
          "output_type": "stream",
          "name": "stdout",
          "text": [
            "10\n",
            "20\n",
            "30\n",
            "40\n",
            "50\n",
            "60\n"
          ]
        }
      ]
    },
    {
      "cell_type": "code",
      "source": [
        "# to iterate elelemts of 3-D array\n",
        "a=np.arange(1,13).reshape(2,3,2)\n",
        "for i in np.nditer(a):\n",
        "  print(i)"
      ],
      "metadata": {
        "colab": {
          "base_uri": "https://localhost:8080/"
        },
        "id": "iBWhn3bQbH1o",
        "outputId": "a4fa1ea7-d215-483e-ce08-8721b8f9c10f"
      },
      "execution_count": null,
      "outputs": [
        {
          "output_type": "stream",
          "name": "stdout",
          "text": [
            "1\n",
            "2\n",
            "3\n",
            "4\n",
            "5\n",
            "6\n",
            "7\n",
            "8\n",
            "9\n",
            "10\n",
            "11\n",
            "12\n"
          ]
        }
      ]
    },
    {
      "cell_type": "code",
      "source": [
        "#change the data type of element using op_dtypes\n",
        "a=np.arange(1,13).reshape(2,3,2)\n",
        "for i in np.nditer(a,flags=['buffered'],op_dtypes=['float']):\n",
        "  print(i)"
      ],
      "metadata": {
        "colab": {
          "base_uri": "https://localhost:8080/"
        },
        "id": "Rj5byyBccZqU",
        "outputId": "2515e61f-7a6f-45a5-fba4-443972cb0c39"
      },
      "execution_count": null,
      "outputs": [
        {
          "output_type": "stream",
          "name": "stdout",
          "text": [
            "1.0\n",
            "2.0\n",
            "3.0\n",
            "4.0\n",
            "5.0\n",
            "6.0\n",
            "7.0\n",
            "8.0\n",
            "9.0\n",
            "10.0\n",
            "11.0\n",
            "12.0\n"
          ]
        }
      ]
    },
    {
      "cell_type": "code",
      "source": [
        "# Slicing can also be used using nditer() function\n",
        "a=np.arange(8).reshape(2,4)\n",
        "print(a)\n",
        "for i in np.nditer(a[:,:2]):\n",
        "  print(i)\n"
      ],
      "metadata": {
        "colab": {
          "base_uri": "https://localhost:8080/"
        },
        "id": "yPDG1iAkdxli",
        "outputId": "fbb12b5f-14fe-4a5c-ad03-14254cf9ad1c"
      },
      "execution_count": null,
      "outputs": [
        {
          "output_type": "stream",
          "name": "stdout",
          "text": [
            "[[0 1 2 3]\n",
            " [4 5 6 7]]\n",
            "0\n",
            "1\n",
            "4\n",
            "5\n"
          ]
        }
      ]
    },
    {
      "cell_type": "markdown",
      "source": [
        "#### **Normal python's for loop vs nditer()**\n",
        "\n",
        "* To iterate n-d array ,n for loops are required.\n",
        "* To iterate n-d array only one loop is required\n",
        "---\n",
        "* There is no way to specify our required type\n",
        "* There is a way to specify our required type (op_dtypes argument)\n"
      ],
      "metadata": {
        "id": "P1n97-M6gHio"
      }
    },
    {
      "cell_type": "markdown",
      "source": [
        "**3. By Using numpy ndenumerate() function**\n",
        "\n",
        "* By using nditer() function we will get elements only but not indexes.\n",
        "* If we want index also in addition to element,then we should use ndenumerate() function.\n",
        "* nuenumerate() function returns multidimensional index iterator which yield pairs of array coordinates and values."
      ],
      "metadata": {
        "id": "Cwq_WxU0g-jU"
      }
    },
    {
      "cell_type": "code",
      "source": [
        "## To iterate elelemts of 1-D array\n",
        "a=np.arange(5)\n",
        "for key,value in np.ndenumerate(a):\n",
        "  print(f'{value} present at index {key}')"
      ],
      "metadata": {
        "colab": {
          "base_uri": "https://localhost:8080/"
        },
        "id": "EumoIsFbfVeO",
        "outputId": "43eaa927-da67-4ab7-f47c-501826d61a19"
      },
      "execution_count": null,
      "outputs": [
        {
          "output_type": "stream",
          "name": "stdout",
          "text": [
            "0 present at index (0,)\n",
            "1 present at index (1,)\n",
            "2 present at index (2,)\n",
            "3 present at index (3,)\n",
            "4 present at index (4,)\n"
          ]
        }
      ]
    },
    {
      "cell_type": "code",
      "source": [
        "# To iterate elelemts of 2-D array\n",
        "a=np.array([[10,20],[30,40],[50,60]])\n",
        "for key,value in np.ndenumerate(a):\n",
        "  print(f'{value} present at index {key}')"
      ],
      "metadata": {
        "colab": {
          "base_uri": "https://localhost:8080/"
        },
        "id": "-4DixVjxfdPO",
        "outputId": "ee9c285f-c49f-4325-d6eb-2374e8765378"
      },
      "execution_count": null,
      "outputs": [
        {
          "output_type": "stream",
          "name": "stdout",
          "text": [
            "10 present at index (0, 0)\n",
            "20 present at index (0, 1)\n",
            "30 present at index (1, 0)\n",
            "40 present at index (1, 1)\n",
            "50 present at index (2, 0)\n",
            "60 present at index (2, 1)\n"
          ]
        }
      ]
    },
    {
      "cell_type": "markdown",
      "source": [
        "stack\n",
        "\n",
        "* Join a sequence of arrays along a new axis.\n",
        "* The axis parameter specifies the index of the new axis in the dimensions of the result. \n",
        "* For example, if axis=0 it will be the first dimension and if axis=-1 it will be the last dimension.\n",
        "\n",
        "      stack(arrays, axis=0, out=None)\n",
        "        arrays-Sequence of arrays of the same shape\n",
        "        axis-Axis in the resultant array along which the input arrays are stacked\n",
        "\n",
        "      axis=0 --stack all input array row-wise\n",
        "      axis=1 --stack all input array column-wise"
      ],
      "metadata": {
        "id": "mCLH2seU4ARw"
      }
    },
    {
      "cell_type": "markdown",
      "source": [
        "**concatenate:**  The input array must have same shape.   \n",
        "**stack:** The resultant stacked array has one more dimension than the input arrays."
      ],
      "metadata": {
        "id": "nOgyN92B4uBT"
      }
    },
    {
      "cell_type": "code",
      "source": [
        "# for stacking of 1-D arrays\n",
        "import numpy as np\n",
        "a=np.array([10,20,30,40])\n",
        "b=np.array([1,2,3,4,5])"
      ],
      "metadata": {
        "id": "yIlDhFoqi0_m"
      },
      "execution_count": null,
      "outputs": []
    },
    {
      "cell_type": "code",
      "source": [
        "#all input array must have the same shape otherwise we will get the error msg.\n",
        "np.stack((a,b))"
      ],
      "metadata": {
        "colab": {
          "base_uri": "https://localhost:8080/",
          "height": 329
        },
        "id": "k-pkAmJ85NvQ",
        "outputId": "060d9076-c755-47d6-c7e4-28ed13dd0d5a"
      },
      "execution_count": null,
      "outputs": [
        {
          "output_type": "error",
          "ename": "ValueError",
          "evalue": "ignored",
          "traceback": [
            "\u001b[0;31m---------------------------------------------------------------------------\u001b[0m",
            "\u001b[0;31mValueError\u001b[0m                                Traceback (most recent call last)",
            "\u001b[0;32m<ipython-input-6-c1445e131653>\u001b[0m in \u001b[0;36m<cell line: 2>\u001b[0;34m()\u001b[0m\n\u001b[1;32m      1\u001b[0m \u001b[0;31m#all input array must have the same shape otherwise we will get the error msg.\u001b[0m\u001b[0;34m\u001b[0m\u001b[0;34m\u001b[0m\u001b[0m\n\u001b[0;32m----> 2\u001b[0;31m \u001b[0mnp\u001b[0m\u001b[0;34m.\u001b[0m\u001b[0mstack\u001b[0m\u001b[0;34m(\u001b[0m\u001b[0;34m(\u001b[0m\u001b[0ma\u001b[0m\u001b[0;34m,\u001b[0m\u001b[0mb\u001b[0m\u001b[0;34m)\u001b[0m\u001b[0;34m)\u001b[0m\u001b[0;34m\u001b[0m\u001b[0;34m\u001b[0m\u001b[0m\n\u001b[0m",
            "\u001b[0;32m/usr/local/lib/python3.10/dist-packages/numpy/core/overrides.py\u001b[0m in \u001b[0;36mstack\u001b[0;34m(*args, **kwargs)\u001b[0m\n",
            "\u001b[0;32m/usr/local/lib/python3.10/dist-packages/numpy/core/shape_base.py\u001b[0m in \u001b[0;36mstack\u001b[0;34m(arrays, axis, out)\u001b[0m\n\u001b[1;32m    424\u001b[0m     \u001b[0mshapes\u001b[0m \u001b[0;34m=\u001b[0m \u001b[0;34m{\u001b[0m\u001b[0marr\u001b[0m\u001b[0;34m.\u001b[0m\u001b[0mshape\u001b[0m \u001b[0;32mfor\u001b[0m \u001b[0marr\u001b[0m \u001b[0;32min\u001b[0m \u001b[0marrays\u001b[0m\u001b[0;34m}\u001b[0m\u001b[0;34m\u001b[0m\u001b[0;34m\u001b[0m\u001b[0m\n\u001b[1;32m    425\u001b[0m     \u001b[0;32mif\u001b[0m \u001b[0mlen\u001b[0m\u001b[0;34m(\u001b[0m\u001b[0mshapes\u001b[0m\u001b[0;34m)\u001b[0m \u001b[0;34m!=\u001b[0m \u001b[0;36m1\u001b[0m\u001b[0;34m:\u001b[0m\u001b[0;34m\u001b[0m\u001b[0;34m\u001b[0m\u001b[0m\n\u001b[0;32m--> 426\u001b[0;31m         \u001b[0;32mraise\u001b[0m \u001b[0mValueError\u001b[0m\u001b[0;34m(\u001b[0m\u001b[0;34m'all input arrays must have the same shape'\u001b[0m\u001b[0;34m)\u001b[0m\u001b[0;34m\u001b[0m\u001b[0;34m\u001b[0m\u001b[0m\n\u001b[0m\u001b[1;32m    427\u001b[0m \u001b[0;34m\u001b[0m\u001b[0m\n\u001b[1;32m    428\u001b[0m     \u001b[0mresult_ndim\u001b[0m \u001b[0;34m=\u001b[0m \u001b[0marrays\u001b[0m\u001b[0;34m[\u001b[0m\u001b[0;36m0\u001b[0m\u001b[0;34m]\u001b[0m\u001b[0;34m.\u001b[0m\u001b[0mndim\u001b[0m \u001b[0;34m+\u001b[0m \u001b[0;36m1\u001b[0m\u001b[0;34m\u001b[0m\u001b[0;34m\u001b[0m\u001b[0m\n",
            "\u001b[0;31mValueError\u001b[0m: all input arrays must have the same shape"
          ]
        }
      ]
    },
    {
      "cell_type": "code",
      "source": [
        "#if we use 1-D array for stack then we get 2-D array as output.\n",
        "\n",
        "a=np.array([10,20,30,40])\n",
        "b=np.array([1,2,3,4])\n",
        "print(f'stacked array is {np.stack((a,b))} and shape is of {np.stack((a,b)).shape}')"
      ],
      "metadata": {
        "colab": {
          "base_uri": "https://localhost:8080/"
        },
        "id": "f7gfsb-V5SBK",
        "outputId": "9b35f23b-3702-4828-9ca1-08647548383b"
      },
      "execution_count": null,
      "outputs": [
        {
          "output_type": "stream",
          "name": "stdout",
          "text": [
            "stacked array is [[10 20 30 40]\n",
            " [ 1  2  3  4]] and shape is of (2, 4)\n"
          ]
        }
      ]
    },
    {
      "cell_type": "code",
      "source": [
        "a=np.array([10,20,30,40])\n",
        "b=np.array([1,2,3,4])\n",
        "print(f'stacked array is {np.stack((a,b),axis=1)} and shape is of {np.stack((a,b)).shape}')"
      ],
      "metadata": {
        "colab": {
          "base_uri": "https://localhost:8080/"
        },
        "id": "vSKpZ0sw5m6d",
        "outputId": "db6ccab7-fded-4d1a-e4c3-b10e5d57a478"
      },
      "execution_count": null,
      "outputs": [
        {
          "output_type": "stream",
          "name": "stdout",
          "text": [
            "stacked array is [[10  1]\n",
            " [20  2]\n",
            " [30  3]\n",
            " [40  4]] and shape is of (2, 4)\n"
          ]
        }
      ]
    },
    {
      "cell_type": "markdown",
      "source": [
        "If we astack 2-D arrays the result will be 3-D array\n",
        "3-D array shape:\n",
        "\n",
        "      (x,y,z)\n",
        "          x-->axis-0  --> The number of 2-D array.\n",
        "          y-->axis-1  --> The number of rows in 2-D array.\n",
        "          z-->axis-2  --> The number of columns in 2-D array."
      ],
      "metadata": {
        "id": "vqX3uSp27Gcr"
      }
    },
    {
      "cell_type": "code",
      "source": [
        "# array itself one by one \n",
        "a=np.array([[10,20],[30,40],[50,60]])\n",
        "b=np.array([[30,50],[30,10],[70,90]])\n",
        "print(f'shape of array of a is {a.shape} and shape of array b is {b.shape}')\n",
        "print(f'stacked array is {np.stack((a,b))} and shape is of {np.stack((a,b)).shape}')"
      ],
      "metadata": {
        "colab": {
          "base_uri": "https://localhost:8080/"
        },
        "id": "PDkd21fS6k_Q",
        "outputId": "91888860-c2a2-4898-dba8-05d59cf75e42"
      },
      "execution_count": null,
      "outputs": [
        {
          "output_type": "stream",
          "name": "stdout",
          "text": [
            "shape of array of a is (3, 2) and shape of array b is (3, 2)\n",
            "stacked array is [[[10 20]\n",
            "  [30 40]\n",
            "  [50 60]]\n",
            "\n",
            " [[30 50]\n",
            "  [30 10]\n",
            "  [70 90]]] and shape is of (2, 3, 2)\n"
          ]
        }
      ]
    },
    {
      "cell_type": "code",
      "source": [
        "#stcking based on axis=1(row wise)\n",
        "a=np.array([[10,20],[30,40],[50,60]])\n",
        "b=np.array([[30,50],[30,10],[70,90]])\n",
        "print(f'shape of array of a is {a.shape} and shape of array b is {b.shape}')\n",
        "print(f'stacked array is {np.stack((a,b),axis=1)} and shape is of {np.stack((a,b)).shape}')"
      ],
      "metadata": {
        "colab": {
          "base_uri": "https://localhost:8080/"
        },
        "id": "8GfbWofq70kF",
        "outputId": "def1b7cd-c444-445e-c0e3-1347cb9c5200"
      },
      "execution_count": null,
      "outputs": [
        {
          "output_type": "stream",
          "name": "stdout",
          "text": [
            "shape of array of a is (3, 2) and shape of array b is (3, 2)\n",
            "stacked array is [[[10 20]\n",
            "  [30 50]]\n",
            "\n",
            " [[30 40]\n",
            "  [30 10]]\n",
            "\n",
            " [[50 60]\n",
            "  [70 90]]] and shape is of (2, 3, 2)\n"
          ]
        }
      ]
    },
    {
      "cell_type": "code",
      "source": [
        "# Stacking based on axis=2(column wise)\n",
        "a=np.array([[10,20],[30,40],[50,60]])\n",
        "b=np.array([[30,50],[30,10],[70,90]])\n",
        "print(f'shape of array of a is {a.shape} and shape of array b is {b.shape}')\n",
        "print(f'stacked array is {np.stack((a,b),axis=2)} and shape is of {np.stack((a,b)).shape}')"
      ],
      "metadata": {
        "colab": {
          "base_uri": "https://localhost:8080/"
        },
        "id": "8jFZrvcW8USI",
        "outputId": "1752bfba-273e-471b-bd14-3544c0e46998"
      },
      "execution_count": null,
      "outputs": [
        {
          "output_type": "stream",
          "name": "stdout",
          "text": [
            "shape of array of a is (3, 2) and shape of array b is (3, 2)\n",
            "stacked array is [[[10 30]\n",
            "  [20 50]]\n",
            "\n",
            " [[30 30]\n",
            "  [40 10]]\n",
            "\n",
            " [[50 70]\n",
            "  [60 90]]] and shape is of (2, 3, 2)\n"
          ]
        }
      ]
    },
    {
      "cell_type": "markdown",
      "source": [
        "#### **hstack**\n",
        "* Stack arrays in sequence horizontally (column wise).\n",
        "* This is equivalent to concatenation along the second axis, except for 1-D arrays where it concatenates along the first axis. Rebuilds arrays divided by hsplit."
      ],
      "metadata": {
        "id": "V0KxXlayHrui"
      }
    },
    {
      "cell_type": "code",
      "source": [
        "x=np.array([[1,2],[3,4],[5,6]])         #(3,2)\n",
        "y=np.array([[7,8],[9,10],[11,12]])      #(3,2)\n",
        "\n",
        "z=np.hstack((x,y))\n",
        "print('shape of the array',z.shape)\n",
        "print(z)\n"
      ],
      "metadata": {
        "colab": {
          "base_uri": "https://localhost:8080/"
        },
        "id": "TM54DBAd9CKT",
        "outputId": "1b9df9c9-f619-4f34-ff28-bd4d3e273bcd"
      },
      "execution_count": null,
      "outputs": [
        {
          "output_type": "stream",
          "name": "stdout",
          "text": [
            "shape of the array (3, 4)\n",
            "[[ 1  2  7  8]\n",
            " [ 3  4  9 10]\n",
            " [ 5  6 11 12]]\n"
          ]
        }
      ]
    },
    {
      "cell_type": "markdown",
      "source": [
        "**vstack**\n",
        "\n",
        "* Stack arrays in sequence vertically (row wise).\n",
        "* This is equivalent to concatenation along the first axis after 1-D arrays of shape (N,) have been reshaped to (1,N). Rebuilds arrays divided by vsplit."
      ],
      "metadata": {
        "id": "YfJ_6iktInoj"
      }
    },
    {
      "cell_type": "code",
      "source": [
        "a=np.array([1,2,3])\n",
        "print(f'shape of array a is',a.shape)\n",
        "b=np.array([5,6])\n",
        "print(f'shape of array a is',b.shape)\n",
        "c=np.vstack((a,b))#ValueError: all the input array dimensions except for the concatenation axis must match exactly"
      ],
      "metadata": {
        "colab": {
          "base_uri": "https://localhost:8080/",
          "height": 311
        },
        "id": "enmWiYBfIJOq",
        "outputId": "fc9b4bf8-16b8-4ae3-9f47-d63d42d711ce"
      },
      "execution_count": null,
      "outputs": [
        {
          "output_type": "stream",
          "name": "stdout",
          "text": [
            "shape of array a is (3,)\n",
            "shape of array a is (2,)\n"
          ]
        },
        {
          "output_type": "error",
          "ename": "ValueError",
          "evalue": "ignored",
          "traceback": [
            "\u001b[0;31m---------------------------------------------------------------------------\u001b[0m",
            "\u001b[0;31mValueError\u001b[0m                                Traceback (most recent call last)",
            "\u001b[0;32m<ipython-input-21-381749397eba>\u001b[0m in \u001b[0;36m<cell line: 5>\u001b[0;34m()\u001b[0m\n\u001b[1;32m      3\u001b[0m \u001b[0mb\u001b[0m\u001b[0;34m=\u001b[0m\u001b[0mnp\u001b[0m\u001b[0;34m.\u001b[0m\u001b[0marray\u001b[0m\u001b[0;34m(\u001b[0m\u001b[0;34m[\u001b[0m\u001b[0;36m5\u001b[0m\u001b[0;34m,\u001b[0m\u001b[0;36m6\u001b[0m\u001b[0;34m]\u001b[0m\u001b[0;34m)\u001b[0m\u001b[0;34m\u001b[0m\u001b[0;34m\u001b[0m\u001b[0m\n\u001b[1;32m      4\u001b[0m \u001b[0mprint\u001b[0m\u001b[0;34m(\u001b[0m\u001b[0;34mf'shape of array a is'\u001b[0m\u001b[0;34m,\u001b[0m\u001b[0mb\u001b[0m\u001b[0;34m.\u001b[0m\u001b[0mshape\u001b[0m\u001b[0;34m)\u001b[0m\u001b[0;34m\u001b[0m\u001b[0;34m\u001b[0m\u001b[0m\n\u001b[0;32m----> 5\u001b[0;31m \u001b[0mc\u001b[0m\u001b[0;34m=\u001b[0m\u001b[0mnp\u001b[0m\u001b[0;34m.\u001b[0m\u001b[0mvstack\u001b[0m\u001b[0;34m(\u001b[0m\u001b[0;34m(\u001b[0m\u001b[0ma\u001b[0m\u001b[0;34m,\u001b[0m\u001b[0mb\u001b[0m\u001b[0;34m)\u001b[0m\u001b[0;34m)\u001b[0m\u001b[0;31m#ValueError: all the input array dimensions except for the concatenation axis must match exactly\u001b[0m\u001b[0;34m\u001b[0m\u001b[0;34m\u001b[0m\u001b[0m\n\u001b[0m",
            "\u001b[0;32m/usr/local/lib/python3.10/dist-packages/numpy/core/overrides.py\u001b[0m in \u001b[0;36mvstack\u001b[0;34m(*args, **kwargs)\u001b[0m\n",
            "\u001b[0;32m/usr/local/lib/python3.10/dist-packages/numpy/core/shape_base.py\u001b[0m in \u001b[0;36mvstack\u001b[0;34m(tup)\u001b[0m\n\u001b[1;32m    280\u001b[0m     \u001b[0;32mif\u001b[0m \u001b[0;32mnot\u001b[0m \u001b[0misinstance\u001b[0m\u001b[0;34m(\u001b[0m\u001b[0marrs\u001b[0m\u001b[0;34m,\u001b[0m \u001b[0mlist\u001b[0m\u001b[0;34m)\u001b[0m\u001b[0;34m:\u001b[0m\u001b[0;34m\u001b[0m\u001b[0;34m\u001b[0m\u001b[0m\n\u001b[1;32m    281\u001b[0m         \u001b[0marrs\u001b[0m \u001b[0;34m=\u001b[0m \u001b[0;34m[\u001b[0m\u001b[0marrs\u001b[0m\u001b[0;34m]\u001b[0m\u001b[0;34m\u001b[0m\u001b[0;34m\u001b[0m\u001b[0m\n\u001b[0;32m--> 282\u001b[0;31m     \u001b[0;32mreturn\u001b[0m \u001b[0m_nx\u001b[0m\u001b[0;34m.\u001b[0m\u001b[0mconcatenate\u001b[0m\u001b[0;34m(\u001b[0m\u001b[0marrs\u001b[0m\u001b[0;34m,\u001b[0m \u001b[0;36m0\u001b[0m\u001b[0;34m)\u001b[0m\u001b[0;34m\u001b[0m\u001b[0;34m\u001b[0m\u001b[0m\n\u001b[0m\u001b[1;32m    283\u001b[0m \u001b[0;34m\u001b[0m\u001b[0m\n\u001b[1;32m    284\u001b[0m \u001b[0;34m\u001b[0m\u001b[0m\n",
            "\u001b[0;32m/usr/local/lib/python3.10/dist-packages/numpy/core/overrides.py\u001b[0m in \u001b[0;36mconcatenate\u001b[0;34m(*args, **kwargs)\u001b[0m\n",
            "\u001b[0;31mValueError\u001b[0m: all the input array dimensions for the concatenation axis must match exactly, but along dimension 1, the array at index 0 has size 3 and the array at index 1 has size 2"
          ]
        }
      ]
    },
    {
      "cell_type": "code",
      "source": [
        "b=np.array([5,6,7])\n",
        "print(f'shape of array a is',b.shape)\n",
        "c=np.vstack((a,b)) \n",
        "print('shape of the array',c.shape)\n",
        "print('final array after stacking is',c)"
      ],
      "metadata": {
        "colab": {
          "base_uri": "https://localhost:8080/"
        },
        "id": "00HMZWTkJB4V",
        "outputId": "22af976e-e5d3-4789-ea9a-1e51a78816de"
      },
      "execution_count": null,
      "outputs": [
        {
          "output_type": "stream",
          "name": "stdout",
          "text": [
            "shape of array a is (3,)\n",
            "shape of the array (2, 3)\n",
            "final array after stacking is [[1 2 3]\n",
            " [5 6 7]]\n"
          ]
        }
      ]
    },
    {
      "cell_type": "markdown",
      "source": [
        "#### **numpy.squeeze() function**\n",
        "\n",
        "* The numpy.squeeze() function is used to remove single-dimensional entries from the shape of an array. It returns an array with the same data but reshaped dimensions.\n",
        "\n",
        "* This function can be used to reduce the dimensions of an array, which is useful for data preprocessing in machine learning applications."
      ],
      "metadata": {
        "id": "ABS4CXISOgy1"
      }
    },
    {
      "cell_type": "markdown",
      "source": [
        "      Syntax:\n",
        "      numpy.squeeze(a, axis=None)\n",
        "          a -->\tInput data.\n",
        "          axis -->\tSelects a subset of the single-dimensional entries in the shape. If an axis is selected with shape entry greater than one, an error is raised."
      ],
      "metadata": {
        "id": "GB1s7mDWOw4H"
      }
    },
    {
      "cell_type": "code",
      "source": [
        "import numpy as np\n",
        "a=np.array([[[10],[20],[30]]])\n",
        "print(f'shape of array a is:{a.shape}')\n",
        "print(f'shape of array after squeeze is:{np.squeeze(a).shape}')"
      ],
      "metadata": {
        "colab": {
          "base_uri": "https://localhost:8080/"
        },
        "id": "w7Szt94eJZyX",
        "outputId": "8c54ed45-796d-4128-a3da-aadb70bcfcc4"
      },
      "execution_count": null,
      "outputs": [
        {
          "output_type": "stream",
          "name": "stdout",
          "text": [
            "shape of array a is:(1, 3, 1)\n",
            "shape of array after squeeze is:(3,)\n"
          ]
        }
      ]
    },
    {
      "cell_type": "code",
      "source": [
        "#Removes the dimension of size 1 at index 0 and returns a new array with shape (3, 1).\n",
        "import numpy as np\n",
        "a=np.array([[[10],[20],[30]]])\n",
        "print(f'shape of array a is:{a.shape}')\n",
        "print(f'shape of array after squeeze is:{np.squeeze(a,axis=0).shape}')"
      ],
      "metadata": {
        "colab": {
          "base_uri": "https://localhost:8080/"
        },
        "id": "dFBhLyWDP-FD",
        "outputId": "ee52468b-4a8a-4b53-f617-41495dfba085"
      },
      "execution_count": null,
      "outputs": [
        {
          "output_type": "stream",
          "name": "stdout",
          "text": [
            "shape of array a is:(1, 3, 1)\n",
            "shape of array after squeeze is:(3, 1)\n"
          ]
        }
      ]
    },
    {
      "cell_type": "code",
      "source": [
        "#Removes the dimension of size 1 at index 2 and returns a new array with shape (1, 3).\n",
        "import numpy as np\n",
        "a=np.array([[[10],[20],[30]]])\n",
        "print(f'shape of array a is:{a.shape}')\n",
        "print(f'shape of array after squeeze is:{np.squeeze(a,axis=2).shape}')"
      ],
      "metadata": {
        "colab": {
          "base_uri": "https://localhost:8080/"
        },
        "id": "22FClENuQG_P",
        "outputId": "2e12bab5-514c-42e2-a604-f89a9e38d5f0"
      },
      "execution_count": null,
      "outputs": [
        {
          "output_type": "stream",
          "name": "stdout",
          "text": [
            "shape of array a is:(1, 3, 1)\n",
            "shape of array after squeeze is:(1, 3)\n"
          ]
        }
      ]
    },
    {
      "cell_type": "code",
      "source": [
        "#It raises a ValueError as the axis=1 has size not equal to one and cannot be removed.\n",
        "import numpy as np\n",
        "a=np.array([[[10],[20],[30]]])\n",
        "print(f'shape of array a is:{a.shape}')\n",
        "print(f'shape of array after squeeze is:{np.squeeze(a,axis=1).shape}')"
      ],
      "metadata": {
        "colab": {
          "base_uri": "https://localhost:8080/",
          "height": 363
        },
        "id": "Sx6g8DMGQJgI",
        "outputId": "5ab2d56e-9c28-4b9d-e64e-67309c7d5a97"
      },
      "execution_count": null,
      "outputs": [
        {
          "output_type": "stream",
          "name": "stdout",
          "text": [
            "shape of array a is:(1, 3, 1)\n"
          ]
        },
        {
          "output_type": "error",
          "ename": "ValueError",
          "evalue": "ignored",
          "traceback": [
            "\u001b[0;31m---------------------------------------------------------------------------\u001b[0m",
            "\u001b[0;31mValueError\u001b[0m                                Traceback (most recent call last)",
            "\u001b[0;32m<ipython-input-29-70bb23115867>\u001b[0m in \u001b[0;36m<cell line: 4>\u001b[0;34m()\u001b[0m\n\u001b[1;32m      2\u001b[0m \u001b[0ma\u001b[0m\u001b[0;34m=\u001b[0m\u001b[0mnp\u001b[0m\u001b[0;34m.\u001b[0m\u001b[0marray\u001b[0m\u001b[0;34m(\u001b[0m\u001b[0;34m[\u001b[0m\u001b[0;34m[\u001b[0m\u001b[0;34m[\u001b[0m\u001b[0;36m10\u001b[0m\u001b[0;34m]\u001b[0m\u001b[0;34m,\u001b[0m\u001b[0;34m[\u001b[0m\u001b[0;36m20\u001b[0m\u001b[0;34m]\u001b[0m\u001b[0;34m,\u001b[0m\u001b[0;34m[\u001b[0m\u001b[0;36m30\u001b[0m\u001b[0;34m]\u001b[0m\u001b[0;34m]\u001b[0m\u001b[0;34m]\u001b[0m\u001b[0;34m)\u001b[0m\u001b[0;34m\u001b[0m\u001b[0;34m\u001b[0m\u001b[0m\n\u001b[1;32m      3\u001b[0m \u001b[0mprint\u001b[0m\u001b[0;34m(\u001b[0m\u001b[0;34mf'shape of array a is:{a.shape}'\u001b[0m\u001b[0;34m)\u001b[0m\u001b[0;34m\u001b[0m\u001b[0;34m\u001b[0m\u001b[0m\n\u001b[0;32m----> 4\u001b[0;31m \u001b[0mprint\u001b[0m\u001b[0;34m(\u001b[0m\u001b[0;34mf'shape of array after squeeze is:{np.squeeze(a,axis=1).shape}'\u001b[0m\u001b[0;34m)\u001b[0m\u001b[0;34m\u001b[0m\u001b[0;34m\u001b[0m\u001b[0m\n\u001b[0m",
            "\u001b[0;32m/usr/local/lib/python3.10/dist-packages/numpy/core/overrides.py\u001b[0m in \u001b[0;36msqueeze\u001b[0;34m(*args, **kwargs)\u001b[0m\n",
            "\u001b[0;32m/usr/local/lib/python3.10/dist-packages/numpy/core/fromnumeric.py\u001b[0m in \u001b[0;36msqueeze\u001b[0;34m(a, axis)\u001b[0m\n\u001b[1;32m   1543\u001b[0m         \u001b[0;32mreturn\u001b[0m \u001b[0msqueeze\u001b[0m\u001b[0;34m(\u001b[0m\u001b[0;34m)\u001b[0m\u001b[0;34m\u001b[0m\u001b[0;34m\u001b[0m\u001b[0m\n\u001b[1;32m   1544\u001b[0m     \u001b[0;32melse\u001b[0m\u001b[0;34m:\u001b[0m\u001b[0;34m\u001b[0m\u001b[0;34m\u001b[0m\u001b[0m\n\u001b[0;32m-> 1545\u001b[0;31m         \u001b[0;32mreturn\u001b[0m \u001b[0msqueeze\u001b[0m\u001b[0;34m(\u001b[0m\u001b[0maxis\u001b[0m\u001b[0;34m=\u001b[0m\u001b[0maxis\u001b[0m\u001b[0;34m)\u001b[0m\u001b[0;34m\u001b[0m\u001b[0;34m\u001b[0m\u001b[0m\n\u001b[0m\u001b[1;32m   1546\u001b[0m \u001b[0;34m\u001b[0m\u001b[0m\n\u001b[1;32m   1547\u001b[0m \u001b[0;34m\u001b[0m\u001b[0m\n",
            "\u001b[0;31mValueError\u001b[0m: cannot select an axis to squeeze out which has size not equal to one"
          ]
        }
      ]
    },
    {
      "cell_type": "code",
      "source": [
        "# By default removes the dimension of size 1 at any index position if we does not defind the axis value.\n",
        "b=np.arange(9).reshape(3,1,3)\n",
        "print(f'array shape is {b.shape}')\n",
        "print(f'array shape after squeeze is {np.squeeze(b).shape}')"
      ],
      "metadata": {
        "colab": {
          "base_uri": "https://localhost:8080/"
        },
        "id": "tJbA8xo_QLu8",
        "outputId": "409f753c-4419-48e9-b8b1-93aa1a557d6f"
      },
      "execution_count": null,
      "outputs": [
        {
          "output_type": "stream",
          "name": "stdout",
          "text": [
            "array shape is (3, 1, 3)\n",
            "array shape after squeeze is (3, 3)\n"
          ]
        }
      ]
    },
    {
      "cell_type": "code",
      "source": [
        "#Removes the dimension of size 1 at index 1 and returns a new array with shape (3, 3).\n",
        "b=np.arange(9).reshape(3,1,3)\n",
        "print(f'array shape is {b.shape}')\n",
        "print(f'array shape after squeeze is {np.squeeze(b,axis=1).shape}')"
      ],
      "metadata": {
        "colab": {
          "base_uri": "https://localhost:8080/"
        },
        "id": "5HX3JvW2QWH5",
        "outputId": "c801da2e-f54e-4ee4-ad30-802df9e2ab6d"
      },
      "execution_count": null,
      "outputs": [
        {
          "output_type": "stream",
          "name": "stdout",
          "text": [
            "array shape is (3, 1, 3)\n",
            "array shape after squeeze is (3, 3)\n"
          ]
        }
      ]
    },
    {
      "cell_type": "markdown",
      "source": [
        "#### **expand_dims**\n",
        "* Expand the shape of an array.\n",
        "* Insert a new axis that will appear at the axis position in the expanded array shape.\n",
        "* This can be useful when we want to perform operations or calculations that require a specific shape or dimensionality of arrays.\n",
        "\n",
        "        expand_dims(a, axis)\n",
        "                a: Input array.\n",
        "                axis: Position in the expanded axes where the new axis is placed."
      ],
      "metadata": {
        "id": "PGz0JaqJSFjt"
      }
    },
    {
      "cell_type": "code",
      "source": [
        "# required positional argument means we must be used axis to  expand dimensions\n",
        "x = np.array([1,2])\n",
        "print(f'shape of x array is {x.shape} and dimension is {x.ndim}')\n",
        "print(f'shape of the x array after expands {np.expand_dims(x).shape}')"
      ],
      "metadata": {
        "colab": {
          "base_uri": "https://localhost:8080/",
          "height": 253
        },
        "id": "QNc6IYNsUOR-",
        "outputId": "bab49d83-13fd-443b-ca6f-ae7bb6cdeda1"
      },
      "execution_count": null,
      "outputs": [
        {
          "output_type": "stream",
          "name": "stdout",
          "text": [
            "shape of x array is (2,) and dimension is 1\n"
          ]
        },
        {
          "output_type": "error",
          "ename": "TypeError",
          "evalue": "ignored",
          "traceback": [
            "\u001b[0;31m---------------------------------------------------------------------------\u001b[0m",
            "\u001b[0;31mTypeError\u001b[0m                                 Traceback (most recent call last)",
            "\u001b[0;32m<ipython-input-42-cdc45f98bedd>\u001b[0m in \u001b[0;36m<cell line: 4>\u001b[0;34m()\u001b[0m\n\u001b[1;32m      2\u001b[0m \u001b[0mx\u001b[0m \u001b[0;34m=\u001b[0m \u001b[0mnp\u001b[0m\u001b[0;34m.\u001b[0m\u001b[0marray\u001b[0m\u001b[0;34m(\u001b[0m\u001b[0;34m[\u001b[0m\u001b[0;36m1\u001b[0m\u001b[0;34m,\u001b[0m\u001b[0;36m2\u001b[0m\u001b[0;34m]\u001b[0m\u001b[0;34m)\u001b[0m\u001b[0;34m\u001b[0m\u001b[0;34m\u001b[0m\u001b[0m\n\u001b[1;32m      3\u001b[0m \u001b[0mprint\u001b[0m\u001b[0;34m(\u001b[0m\u001b[0;34mf'shape of x array is {x.shape} and dimension is {x.ndim}'\u001b[0m\u001b[0;34m)\u001b[0m\u001b[0;34m\u001b[0m\u001b[0;34m\u001b[0m\u001b[0m\n\u001b[0;32m----> 4\u001b[0;31m \u001b[0mprint\u001b[0m\u001b[0;34m(\u001b[0m\u001b[0;34mf'shape of the x array after expands {np.expand_dims(x).shape}'\u001b[0m\u001b[0;34m)\u001b[0m\u001b[0;34m\u001b[0m\u001b[0;34m\u001b[0m\u001b[0m\n\u001b[0m",
            "\u001b[0;32m/usr/local/lib/python3.10/dist-packages/numpy/core/overrides.py\u001b[0m in \u001b[0;36mexpand_dims\u001b[0;34m(*args, **kwargs)\u001b[0m\n",
            "\u001b[0;31mTypeError\u001b[0m: _expand_dims_dispatcher() missing 1 required positional argument: 'axis'"
          ]
        }
      ]
    },
    {
      "cell_type": "code",
      "source": [
        "x = np.array([1,2])\n",
        "print(f'shape of x array is {x.shape} and dimension is {x.ndim}')\n",
        "print(f'shape of the x array after expands {np.expand_dims(x,axis=0).shape}')"
      ],
      "metadata": {
        "colab": {
          "base_uri": "https://localhost:8080/"
        },
        "id": "So4klYdEQx_e",
        "outputId": "6149d524-1d71-471f-ea5a-4267ddeb7765"
      },
      "execution_count": null,
      "outputs": [
        {
          "output_type": "stream",
          "name": "stdout",
          "text": [
            "shape of x array is (2,) and dimension is 1\n",
            "shape of the x array after expands (1, 2)\n"
          ]
        }
      ]
    },
    {
      "cell_type": "code",
      "source": [
        "x = np.array([1,2])\n",
        "print(f'shape of x array is {x.shape} and dimension is {x.ndim}')\n",
        "print(f'shape of the x array after expands {np.expand_dims(x,axis=1).shape}')"
      ],
      "metadata": {
        "colab": {
          "base_uri": "https://localhost:8080/"
        },
        "id": "_zvo2VgPTxBW",
        "outputId": "804c5bf4-7305-4360-ecf5-b23d327ee0c5"
      },
      "execution_count": null,
      "outputs": [
        {
          "output_type": "stream",
          "name": "stdout",
          "text": [
            "shape of x array is (2,) and dimension is 1\n",
            "shape of the x array after expands (2, 1)\n"
          ]
        }
      ]
    },
    {
      "cell_type": "code",
      "source": [
        "x = np.array(np.arange(8).reshape(2,4))\n",
        "np.expand_dims(x,axis=1)"
      ],
      "metadata": {
        "colab": {
          "base_uri": "https://localhost:8080/"
        },
        "id": "edCsDbmQUFdX",
        "outputId": "7bd2b487-d73a-49c4-f839-115f2745a4da"
      },
      "execution_count": null,
      "outputs": [
        {
          "output_type": "execute_result",
          "data": {
            "text/plain": [
              "array([[[0, 1, 2, 3]],\n",
              "\n",
              "       [[4, 5, 6, 7]]])"
            ]
          },
          "metadata": {},
          "execution_count": 43
        }
      ]
    },
    {
      "cell_type": "code",
      "source": [
        "x = np.array(np.arange(8).reshape(2,4))\n",
        "np.expand_dims(x,axis=0)"
      ],
      "metadata": {
        "colab": {
          "base_uri": "https://localhost:8080/"
        },
        "id": "dk4k-hSIUKI3",
        "outputId": "e353c616-460e-4c39-8332-05ccf5aa26ca"
      },
      "execution_count": null,
      "outputs": [
        {
          "output_type": "execute_result",
          "data": {
            "text/plain": [
              "array([[[0, 1, 2, 3],\n",
              "        [4, 5, 6, 7]]])"
            ]
          },
          "metadata": {},
          "execution_count": 44
        }
      ]
    },
    {
      "cell_type": "markdown",
      "source": [
        "#### **Pseudorandom Number Generation**\n",
        "\n",
        "* The **numpy.random** module supplements the built-in Python random module with functions for efficiently generating whole arrays of sample values from many kinds of probability distributions. \n",
        "\n",
        "* Python’s built-in random module, by contrast, samples only one value at a time. As you can see from this benchmark, numpy.random is well over an order of magnitude faster for generating very large samples.\n",
        "\n",
        "        from numpy import random\n",
        "        random.standard_normal()\n",
        "\n"
      ],
      "metadata": {
        "id": "UIqS3QuGp6Ko"
      }
    },
    {
      "cell_type": "code",
      "source": [
        "#standard normal distribution using numpy.random module\n",
        "from numpy import random\n",
        "random.standard_normal((3,3)) # random.standard_normal(size=(3,3))"
      ],
      "metadata": {
        "id": "LJVJdIA6UtEV",
        "colab": {
          "base_uri": "https://localhost:8080/"
        },
        "outputId": "5df81a89-086b-4072-95fe-33ba1076ad85"
      },
      "execution_count": null,
      "outputs": [
        {
          "output_type": "execute_result",
          "data": {
            "text/plain": [
              "array([[-0.85414637, -1.54378116,  1.79579688],\n",
              "       [-1.29332115,  1.62772548, -0.76987804],\n",
              "       [-1.5567852 , -0.5267291 , -0.1154339 ]])"
            ]
          },
          "metadata": {},
          "execution_count": 1
        }
      ]
    },
    {
      "cell_type": "code",
      "source": [
        "# Generate one value at a time if we won't provide the size\n",
        "random.standard_normal() "
      ],
      "metadata": {
        "colab": {
          "base_uri": "https://localhost:8080/"
        },
        "id": "vHV9TBNBqVqO",
        "outputId": "f5c8117c-6b8a-4023-f97b-a28401cbe490"
      },
      "execution_count": null,
      "outputs": [
        {
          "output_type": "execute_result",
          "data": {
            "text/plain": [
              "0.3106190164576942"
            ]
          },
          "metadata": {},
          "execution_count": 2
        }
      ]
    },
    {
      "cell_type": "markdown",
      "source": [
        "**permutation** : Return a random permutation of a sequence, or return a permuted range.\n",
        "\n",
        "**shuffle** : Randomly permute a sequence in place   \n",
        "**uniform** : Draw samples from a uniform distribution   \n",
        "**binomial**: Draw samples from a binomial distribution  \n",
        "**normal**  : Draw samples from a normal (Gaussian) distribution  \n",
        "**beta**    : Draw samples from a beta distribution  \n",
        "**chisquare**: Draw samples from a chi-square distribution  \n",
        "**gamma**   : Draw samples from a gamma distribution  "
      ],
      "metadata": {
        "id": "WjxL1XDosSEN"
      }
    },
    {
      "cell_type": "code",
      "source": [
        "#permutation*\n",
        "random.permutation(4)"
      ],
      "metadata": {
        "colab": {
          "base_uri": "https://localhost:8080/"
        },
        "id": "41VYdqTzr_J4",
        "outputId": "6760e129-570e-4086-b613-a1375d24b532"
      },
      "execution_count": null,
      "outputs": [
        {
          "output_type": "execute_result",
          "data": {
            "text/plain": [
              "array([2, 3, 0, 1])"
            ]
          },
          "metadata": {},
          "execution_count": 8
        }
      ]
    },
    {
      "cell_type": "code",
      "source": [
        "#shuffle\n",
        "arr=[1,2,3,45]\n",
        "random.shuffle(arr)\n",
        "print(arr)"
      ],
      "metadata": {
        "colab": {
          "base_uri": "https://localhost:8080/"
        },
        "id": "uvZ7KWLztEPm",
        "outputId": "bda2c54e-2009-4936-f46d-d0d2d474d061"
      },
      "execution_count": null,
      "outputs": [
        {
          "output_type": "stream",
          "name": "stdout",
          "text": [
            "[1, 45, 2, 3]\n"
          ]
        }
      ]
    },
    {
      "cell_type": "code",
      "source": [
        "#Draw samples from a uniform distribution\n",
        "#random.uniform()\n",
        "\n",
        "random.uniform()"
      ],
      "metadata": {
        "colab": {
          "base_uri": "https://localhost:8080/"
        },
        "id": "xhD87w5fs5GD",
        "outputId": "9783debe-d5cd-475c-a42b-df12bbd9cdf9"
      },
      "execution_count": null,
      "outputs": [
        {
          "output_type": "execute_result",
          "data": {
            "text/plain": [
              "0.0705593249177473"
            ]
          },
          "metadata": {},
          "execution_count": 27
        }
      ]
    },
    {
      "cell_type": "code",
      "source": [
        "#random.binomial(n, p, size=None)\n",
        "#Draw samples from a binomial distribution.\n",
        "\n",
        "n,p = 10,.5\n",
        "s = random.binomial(n, p, 10)\n",
        "print(s)"
      ],
      "metadata": {
        "colab": {
          "base_uri": "https://localhost:8080/"
        },
        "id": "e2Mpf9aSt3sd",
        "outputId": "1516fcd5-fbe3-42d6-b21d-40df5c2d0df6"
      },
      "execution_count": null,
      "outputs": [
        {
          "output_type": "stream",
          "name": "stdout",
          "text": [
            "[5 6 4 6 2 4 5 3 5 5]\n"
          ]
        }
      ]
    },
    {
      "cell_type": "code",
      "source": [
        "#Draw samples from a normal (Gaussian) distribution\n",
        "#random.normal(loc=0.0, scale=1.0, size=None)\n",
        "\n",
        "print(random.normal(0.2,1))\n",
        "\n",
        "mu, sigma = 0, 0.1 # mean and standard deviation\n",
        "s =random.normal(mu, sigma, 10)\n",
        "print(s)"
      ],
      "metadata": {
        "colab": {
          "base_uri": "https://localhost:8080/"
        },
        "id": "Sod5LMeAuobj",
        "outputId": "ef3f352a-575f-434a-8ec2-3a842440163e"
      },
      "execution_count": null,
      "outputs": [
        {
          "output_type": "stream",
          "name": "stdout",
          "text": [
            "-1.0709041986915886\n",
            "[-0.07346597  0.05143514 -0.01577955  0.13242487 -0.18407918  0.15469435\n",
            "  0.19940792 -0.07395421 -0.06078584 -0.03283129]\n"
          ]
        }
      ]
    },
    {
      "cell_type": "code",
      "source": [
        "#random.beta(a, b, size=None)\n",
        "#Draw samples from a Beta distribution.\n",
        "random.beta(1,2)"
      ],
      "metadata": {
        "colab": {
          "base_uri": "https://localhost:8080/"
        },
        "id": "M3_K7X3lvKwK",
        "outputId": "37bd66ae-ebdf-46f4-8aca-f235615d9889"
      },
      "execution_count": null,
      "outputs": [
        {
          "output_type": "execute_result",
          "data": {
            "text/plain": [
              "0.15408240687070865"
            ]
          },
          "metadata": {},
          "execution_count": 37
        }
      ]
    },
    {
      "cell_type": "code",
      "source": [
        "#Draw samples from a chi-square distribution\n",
        "#random.chisquare(df, size=None)\n",
        "\n",
        "random.chisquare(2,4)"
      ],
      "metadata": {
        "colab": {
          "base_uri": "https://localhost:8080/"
        },
        "id": "P_QxkH4XwMk-",
        "outputId": "e3e53192-8c87-4fd2-cbbe-97fc3eda2a0e"
      },
      "execution_count": null,
      "outputs": [
        {
          "output_type": "execute_result",
          "data": {
            "text/plain": [
              "array([2.32083032, 2.38835486, 7.41136664, 1.03702647])"
            ]
          },
          "metadata": {},
          "execution_count": 39
        }
      ]
    },
    {
      "cell_type": "code",
      "source": [
        "#random.gamma(shape, scale=1.0, size=None)\n",
        "#Draw samples from a Gamma distribution.\n",
        "\n",
        "shape, scale = 2., 2.  # mean=4, std=2*sqrt(2)\n",
        "s =random.gamma(shape, scale, 10)\n",
        "print(s)"
      ],
      "metadata": {
        "colab": {
          "base_uri": "https://localhost:8080/"
        },
        "id": "Qy_VLt_zwhYd",
        "outputId": "3bb1f94a-2c01-4796-8002-98fbf6706848"
      },
      "execution_count": null,
      "outputs": [
        {
          "output_type": "stream",
          "name": "stdout",
          "text": [
            "[ 5.99299993  3.0619051   2.36147874  8.35196624 12.68495107  3.31031574\n",
            "  3.03538072  3.49164355  3.12845374  4.93020418]\n"
          ]
        }
      ]
    },
    {
      "cell_type": "markdown",
      "source": [
        "**Universal Functions: Fast Element-Wise Array Functions**\n",
        "\n",
        "A universal function, or ufunc, is a function that performs element-wise operations on data in ndarrays. \n"
      ],
      "metadata": {
        "id": "9LueoSKmxpHs"
      }
    },
    {
      "cell_type": "code",
      "source": [
        "import numpy as np\n",
        "arr=np.arange(10)\n",
        "np.sqrt(arr)"
      ],
      "metadata": {
        "colab": {
          "base_uri": "https://localhost:8080/"
        },
        "id": "06bY64KNxM9J",
        "outputId": "d37a343e-11d3-4b6a-e069-1cada3493e2d"
      },
      "execution_count": null,
      "outputs": [
        {
          "output_type": "execute_result",
          "data": {
            "text/plain": [
              "array([0.        , 1.        , 1.41421356, 1.73205081, 2.        ,\n",
              "       2.23606798, 2.44948974, 2.64575131, 2.82842712, 3.        ])"
            ]
          },
          "metadata": {},
          "execution_count": 43
        }
      ]
    },
    {
      "cell_type": "code",
      "source": [
        "arr=np.arange(10)\n",
        "np.exp(arr)"
      ],
      "metadata": {
        "colab": {
          "base_uri": "https://localhost:8080/"
        },
        "id": "Lafk90A3zClT",
        "outputId": "716a0ead-0c9c-4b5f-97e9-d8ec21a4a3d0"
      },
      "execution_count": null,
      "outputs": [
        {
          "output_type": "execute_result",
          "data": {
            "text/plain": [
              "array([1.00000000e+00, 2.71828183e+00, 7.38905610e+00, 2.00855369e+01,\n",
              "       5.45981500e+01, 1.48413159e+02, 4.03428793e+02, 1.09663316e+03,\n",
              "       2.98095799e+03, 8.10308393e+03])"
            ]
          },
          "metadata": {},
          "execution_count": 44
        }
      ]
    },
    {
      "cell_type": "code",
      "source": [
        "np.max(arr)"
      ],
      "metadata": {
        "colab": {
          "base_uri": "https://localhost:8080/"
        },
        "id": "-xoc5ST0zKZx",
        "outputId": "e0bde612-fe39-4f04-f58b-3a9070711d8c"
      },
      "execution_count": null,
      "outputs": [
        {
          "output_type": "execute_result",
          "data": {
            "text/plain": [
              "9"
            ]
          },
          "metadata": {},
          "execution_count": 45
        }
      ]
    },
    {
      "cell_type": "code",
      "source": [
        "#numpy.maximum computed the element-wise maximum of the elements in x and y.\n",
        "\n",
        "x=np.arange(1,5)\n",
        "y=np.arange(4,8)\n",
        "print(x)\n",
        "print(y)"
      ],
      "metadata": {
        "colab": {
          "base_uri": "https://localhost:8080/"
        },
        "id": "1TjJjSj7zXzH",
        "outputId": "15256754-e6ee-41fc-b438-2183465edcb4"
      },
      "execution_count": null,
      "outputs": [
        {
          "output_type": "stream",
          "name": "stdout",
          "text": [
            "[1 2 3 4]\n",
            "[4 5 6 7]\n"
          ]
        }
      ]
    },
    {
      "cell_type": "code",
      "source": [
        "np.maximum(x,y)"
      ],
      "metadata": {
        "colab": {
          "base_uri": "https://localhost:8080/"
        },
        "id": "q3zrJJenze3z",
        "outputId": "f83ce947-c9bc-410f-b74c-33bf7daea10a"
      },
      "execution_count": null,
      "outputs": [
        {
          "output_type": "execute_result",
          "data": {
            "text/plain": [
              "array([4, 5, 6, 7])"
            ]
          },
          "metadata": {},
          "execution_count": 48
        }
      ]
    },
    {
      "cell_type": "code",
      "source": [
        "x=np.array([1,4,7,0])\n",
        "y=np.array([2,3,4,5])\n",
        "np.maximum(x,y)"
      ],
      "metadata": {
        "colab": {
          "base_uri": "https://localhost:8080/"
        },
        "id": "UqOfCDynzhaF",
        "outputId": "48b5183b-b1d5-4e5a-df3c-416c68158335"
      },
      "execution_count": null,
      "outputs": [
        {
          "output_type": "execute_result",
          "data": {
            "text/plain": [
              "array([2, 4, 7, 5])"
            ]
          },
          "metadata": {},
          "execution_count": 51
        }
      ]
    },
    {
      "cell_type": "markdown",
      "source": [
        "####**Expressing Conditional Logic as Array Operations**"
      ],
      "metadata": {
        "id": "0p3lOBQm9weo"
      }
    },
    {
      "cell_type": "code",
      "source": [
        "import numpy as np\n",
        "xarr = np.array([1.1, 1.2, 1.3, 1.4, 1.5])\n",
        "yarr = np.array([2.1, 2.2, 2.3, 2.4, 2.5])\n",
        "cond = np.array([True, False, True, True, False])"
      ],
      "metadata": {
        "id": "ES-4J9xT8zIl"
      },
      "execution_count": 2,
      "outputs": []
    },
    {
      "cell_type": "code",
      "source": [
        "# we wanted to take a value from xarr whenever the corresponding value in cond is True, and otherwise take the value from yarr\n",
        "np.where(cond,xarr,yarr)"
      ],
      "metadata": {
        "id": "UHOB6Nlq-BRj",
        "colab": {
          "base_uri": "https://localhost:8080/"
        },
        "outputId": "dc163478-2b16-4e2f-eca7-7e30860ffebb"
      },
      "execution_count": 3,
      "outputs": [
        {
          "output_type": "execute_result",
          "data": {
            "text/plain": [
              "array([1.1, 2.2, 1.3, 1.4, 2.5])"
            ]
          },
          "metadata": {},
          "execution_count": 3
        }
      ]
    },
    {
      "cell_type": "code",
      "source": [
        "#check the value greater than 1 in xarray .if condition is matched then return True.\n",
        "xarr>1"
      ],
      "metadata": {
        "colab": {
          "base_uri": "https://localhost:8080/"
        },
        "id": "UYrZ-YJz8mhm",
        "outputId": "611993be-c0cd-490d-89fb-600bbacfc21e"
      },
      "execution_count": 5,
      "outputs": [
        {
          "output_type": "execute_result",
          "data": {
            "text/plain": [
              "array([ True,  True,  True,  True,  True])"
            ]
          },
          "metadata": {},
          "execution_count": 5
        }
      ]
    },
    {
      "cell_type": "code",
      "source": [
        "#return value 1 whenever condition is satisfied else return 0\n",
        "np.where(xarr>1.2,1,0)"
      ],
      "metadata": {
        "colab": {
          "base_uri": "https://localhost:8080/"
        },
        "id": "scDLZDtB8-6R",
        "outputId": "4d2355f5-f745-4d94-b56f-3860899542e9"
      },
      "execution_count": 7,
      "outputs": [
        {
          "output_type": "execute_result",
          "data": {
            "text/plain": [
              "array([0, 0, 1, 1, 1])"
            ]
          },
          "metadata": {},
          "execution_count": 7
        }
      ]
    },
    {
      "cell_type": "markdown",
      "source": [
        "#### Mathematical and Statistical Methods\n",
        "A set of mathematical functions that compute statistics about an entire array or about the data along an axis are accessible as methods of the array class."
      ],
      "metadata": {
        "id": "1xmzTEQH90eR"
      }
    },
    {
      "cell_type": "code",
      "source": [
        "arr=np.random.standard_normal((2,3))\n",
        "print(arr)"
      ],
      "metadata": {
        "colab": {
          "base_uri": "https://localhost:8080/"
        },
        "id": "nHGbqq1C9Gp_",
        "outputId": "8ec03996-e6ac-4aa2-bccb-553251a7bf67"
      },
      "execution_count": 21,
      "outputs": [
        {
          "output_type": "stream",
          "name": "stdout",
          "text": [
            "[[-1.27620958  1.84552713 -1.44796767]\n",
            " [ 2.56171784 -0.22691084  0.25465201]]\n"
          ]
        }
      ]
    },
    {
      "cell_type": "code",
      "source": [
        "#Arithmetic mean; invalid (returns NaN) on zero-length arrays\n",
        "#Functions like mean and sum take an optional axis argument that computes the\n",
        "#statistic over the given axis, resulting in an array with one less dimension:\n",
        "print(arr.mean())\n",
        "print(np.mean(arr))"
      ],
      "metadata": {
        "colab": {
          "base_uri": "https://localhost:8080/"
        },
        "id": "bLeUOxkZ-CVv",
        "outputId": "e0aa119b-4925-40f0-c649-362b04443c40"
      },
      "execution_count": 22,
      "outputs": [
        {
          "output_type": "stream",
          "name": "stdout",
          "text": [
            "0.28513481427731824\n",
            "0.28513481427731824\n"
          ]
        }
      ]
    },
    {
      "cell_type": "code",
      "source": [
        "#Here, arr.mean(axis=1) means “compute mean across the columns,” where\n",
        "#arr.sum(axis=0) means “compute sum down the rows.”\n"
      ],
      "metadata": {
        "id": "rcBDkyJ5_dyK"
      },
      "execution_count": 28,
      "outputs": []
    },
    {
      "cell_type": "code",
      "source": [
        "np.mean(arr,axis=1)"
      ],
      "metadata": {
        "colab": {
          "base_uri": "https://localhost:8080/"
        },
        "id": "6V3DWWRk_HP4",
        "outputId": "e4b376a2-52e7-4bf0-b973-093bfd6816d6"
      },
      "execution_count": 26,
      "outputs": [
        {
          "output_type": "execute_result",
          "data": {
            "text/plain": [
              "array([-0.29288337,  0.863153  ])"
            ]
          },
          "metadata": {},
          "execution_count": 26
        }
      ]
    },
    {
      "cell_type": "code",
      "source": [
        "#Sum of all the elements in the array or along an axis; zero-length arrays have sum 0\n",
        "arr.sum(axis=0)"
      ],
      "metadata": {
        "colab": {
          "base_uri": "https://localhost:8080/"
        },
        "id": "TR2ywxvp-hnA",
        "outputId": "7fa68f43-6832-479d-f1f7-872f5794f193"
      },
      "execution_count": 27,
      "outputs": [
        {
          "output_type": "execute_result",
          "data": {
            "text/plain": [
              "array([ 1.28550825,  1.61861629, -1.19331566])"
            ]
          },
          "metadata": {},
          "execution_count": 27
        }
      ]
    },
    {
      "cell_type": "code",
      "source": [
        "print(np.median(arr))"
      ],
      "metadata": {
        "colab": {
          "base_uri": "https://localhost:8080/"
        },
        "id": "smJ-3QOM-I1V",
        "outputId": "c6f22f38-0820-413b-a9e7-1a5eae871a39"
      },
      "execution_count": 23,
      "outputs": [
        {
          "output_type": "stream",
          "name": "stdout",
          "text": [
            "0.013870582539158044\n"
          ]
        }
      ]
    },
    {
      "cell_type": "code",
      "source": [
        "np.min(arr)"
      ],
      "metadata": {
        "colab": {
          "base_uri": "https://localhost:8080/"
        },
        "id": "5c_3rmgd-Mel",
        "outputId": "553e9d0d-2032-47a7-806d-36dc82ec7b1d"
      },
      "execution_count": 24,
      "outputs": [
        {
          "output_type": "execute_result",
          "data": {
            "text/plain": [
              "-1.4479676668210788"
            ]
          },
          "metadata": {},
          "execution_count": 24
        }
      ]
    },
    {
      "cell_type": "code",
      "source": [
        "#Cumulative sum of elements starting from 0\n",
        "a1=np.array([1,2,3,4,5,6])\n",
        "np.cumsum(a1)"
      ],
      "metadata": {
        "colab": {
          "base_uri": "https://localhost:8080/"
        },
        "id": "am2mwXwc-5r5",
        "outputId": "e69e4c6b-bcbd-414f-bb22-1f8c490648c6"
      },
      "execution_count": 29,
      "outputs": [
        {
          "output_type": "execute_result",
          "data": {
            "text/plain": [
              "array([ 1,  3,  6, 10, 15, 21])"
            ]
          },
          "metadata": {},
          "execution_count": 29
        }
      ]
    },
    {
      "cell_type": "code",
      "source": [
        "# Cumulative product of elements starting from 1\n",
        "a1=np.array([1,2,3,4,5,6])\n",
        "np.cumprod(a1)"
      ],
      "metadata": {
        "colab": {
          "base_uri": "https://localhost:8080/"
        },
        "id": "wKauz0E4_rGO",
        "outputId": "22a9e930-1dba-4e08-fe1a-2068b4058881"
      },
      "execution_count": 30,
      "outputs": [
        {
          "output_type": "execute_result",
          "data": {
            "text/plain": [
              "array([  1,   2,   6,  24, 120, 720])"
            ]
          },
          "metadata": {},
          "execution_count": 30
        }
      ]
    },
    {
      "cell_type": "markdown",
      "source": [
        "#### Methods for Boolean Arrays\n"
      ],
      "metadata": {
        "id": "FyDllOGwATGK"
      }
    },
    {
      "cell_type": "code",
      "source": [
        "print(arr)"
      ],
      "metadata": {
        "colab": {
          "base_uri": "https://localhost:8080/"
        },
        "id": "5ZgBFw4s_t9P",
        "outputId": "e5a72828-20ae-4464-de03-73d9db0ef621"
      },
      "execution_count": 31,
      "outputs": [
        {
          "output_type": "stream",
          "name": "stdout",
          "text": [
            "[[-1.27620958  1.84552713 -1.44796767]\n",
            " [ 2.56171784 -0.22691084  0.25465201]]\n"
          ]
        }
      ]
    },
    {
      "cell_type": "code",
      "source": [
        "# Number of positive values\n",
        "(arr>0).sum()"
      ],
      "metadata": {
        "colab": {
          "base_uri": "https://localhost:8080/"
        },
        "id": "VaX3ItnkAY5R",
        "outputId": "6d663421-06fb-4ffe-ba61-928e4dee796e"
      },
      "execution_count": 33,
      "outputs": [
        {
          "output_type": "execute_result",
          "data": {
            "text/plain": [
              "3"
            ]
          },
          "metadata": {},
          "execution_count": 33
        }
      ]
    },
    {
      "cell_type": "code",
      "source": [
        "# Number of non positive values\n",
        "(arr<=0).sum()"
      ],
      "metadata": {
        "colab": {
          "base_uri": "https://localhost:8080/"
        },
        "id": "ZkIAE8qbAbu9",
        "outputId": "f813219e-882e-43c5-bb4a-83adccdc2efc"
      },
      "execution_count": 34,
      "outputs": [
        {
          "output_type": "execute_result",
          "data": {
            "text/plain": [
              "3"
            ]
          },
          "metadata": {},
          "execution_count": 34
        }
      ]
    },
    {
      "cell_type": "markdown",
      "source": [
        "#### Two additional methods, any and all, are useful especially for Boolean arrays. any tests whether one or more values in an array is True, while all checks if every value is True"
      ],
      "metadata": {
        "id": "OrCWGSYVBUFY"
      }
    },
    {
      "cell_type": "code",
      "source": [
        "bools = np.array([False, False, True, False])"
      ],
      "metadata": {
        "id": "HlLA1T-LAlvX"
      },
      "execution_count": 45,
      "outputs": []
    },
    {
      "cell_type": "code",
      "source": [
        "bools.any()"
      ],
      "metadata": {
        "colab": {
          "base_uri": "https://localhost:8080/"
        },
        "id": "CcfOxkw4BZbq",
        "outputId": "b1fcb9df-bb64-41ae-b55e-771ce1272218"
      },
      "execution_count": 46,
      "outputs": [
        {
          "output_type": "execute_result",
          "data": {
            "text/plain": [
              "True"
            ]
          },
          "metadata": {},
          "execution_count": 46
        }
      ]
    },
    {
      "cell_type": "code",
      "source": [
        "bools.all()"
      ],
      "metadata": {
        "colab": {
          "base_uri": "https://localhost:8080/"
        },
        "id": "8Zg8q1UPBdXY",
        "outputId": "9e167f86-c021-4c72-ba4d-934f9ed9aab4"
      },
      "execution_count": 47,
      "outputs": [
        {
          "output_type": "execute_result",
          "data": {
            "text/plain": [
              "False"
            ]
          },
          "metadata": {},
          "execution_count": 47
        }
      ]
    },
    {
      "cell_type": "code",
      "source": [
        "# arr.sort(axis=0) sorts the values within each column, while arr.sort(axis=1) sorts across each row:\n",
        "arr.sort()\n",
        "print(arr)"
      ],
      "metadata": {
        "colab": {
          "base_uri": "https://localhost:8080/"
        },
        "id": "eFNkiZstBgE8",
        "outputId": "1286b296-3da7-4164-d4ae-173342e1fdfa"
      },
      "execution_count": 48,
      "outputs": [
        {
          "output_type": "stream",
          "name": "stdout",
          "text": [
            "[[-0.68808041 -0.30851447  0.38533715]\n",
            " [ 0.26831922  0.29415497  2.21525619]]\n"
          ]
        }
      ]
    },
    {
      "cell_type": "code",
      "source": [
        "arr=np.random.standard_normal((2,3))\n",
        "print('array before sorting',arr)\n",
        "print('*'*40)\n",
        "arr.sort(axis=0)\n",
        "print('array after sorting',arr)"
      ],
      "metadata": {
        "colab": {
          "base_uri": "https://localhost:8080/"
        },
        "id": "KFvomM1ADIPQ",
        "outputId": "700d6903-d332-476d-821f-0deeaaa2e119"
      },
      "execution_count": 55,
      "outputs": [
        {
          "output_type": "stream",
          "name": "stdout",
          "text": [
            "array before sorting [[-1.30930957  0.91042847  1.20951074]\n",
            " [-0.33702223 -1.14309671 -0.16204614]]\n",
            "****************************************\n",
            "array after sorting [[-1.30930957 -1.14309671 -0.16204614]\n",
            " [-0.33702223  0.91042847  1.20951074]]\n"
          ]
        }
      ]
    },
    {
      "cell_type": "code",
      "source": [
        "arr=np.random.standard_normal((2,3))\n",
        "print('array before sorting',arr)\n",
        "print('*'*40)\n",
        "arr.sort(axis=1)\n",
        "print('array after sorting',arr)"
      ],
      "metadata": {
        "colab": {
          "base_uri": "https://localhost:8080/"
        },
        "id": "zEkYfPlvDlvR",
        "outputId": "bc868b43-f9aa-4820-fb0d-122b8c40d0ec"
      },
      "execution_count": 53,
      "outputs": [
        {
          "output_type": "stream",
          "name": "stdout",
          "text": [
            "array before sorting [[-0.83008268 -0.42229766 -0.02377552]\n",
            " [ 0.00745107  0.96866308 -1.25732223]]\n",
            "****************************************\n",
            "array after sorting [[-0.83008268 -0.42229766 -0.02377552]\n",
            " [-1.25732223  0.00745107  0.96866308]]\n"
          ]
        }
      ]
    },
    {
      "cell_type": "markdown",
      "source": [
        "#### NumPy has some basic set operations for one-dimensional ndarrays."
      ],
      "metadata": {
        "id": "0UxJYv1xHdpk"
      }
    },
    {
      "cell_type": "code",
      "source": [
        "names = np.array([\"Bob\", \"Will\", \"Joe\", \"Bob\", \"Will\", \"Joe\", \"Joe\"])\n",
        "print(np.unique(names))"
      ],
      "metadata": {
        "colab": {
          "base_uri": "https://localhost:8080/"
        },
        "id": "IVtwombSD5hB",
        "outputId": "5137c256-a91b-489c-82d3-a68234ee7cf6"
      },
      "execution_count": 56,
      "outputs": [
        {
          "output_type": "stream",
          "name": "stdout",
          "text": [
            "['Bob' 'Joe' 'Will']\n"
          ]
        }
      ]
    },
    {
      "cell_type": "code",
      "source": [
        "#Compute the sorted, unique elements in b\n",
        "b=np.array([[1,1],[1,1],[2,3],[3,4]])\n",
        "np.unique(b)"
      ],
      "metadata": {
        "colab": {
          "base_uri": "https://localhost:8080/"
        },
        "id": "fHgp6iGJHjXr",
        "outputId": "1675e972-b3ca-47ea-c9ea-3e0cd64331cf"
      },
      "execution_count": 57,
      "outputs": [
        {
          "output_type": "execute_result",
          "data": {
            "text/plain": [
              "array([1, 2, 3, 4])"
            ]
          },
          "metadata": {},
          "execution_count": 57
        }
      ]
    },
    {
      "cell_type": "code",
      "source": [
        "#Compute the sorted, common elements in a1 and a2\n",
        "a1=np.array([1,2,3,4,5])\n",
        "a2=np.array([7,8,9,1])\n",
        "np.intersect1d(a1,a2)"
      ],
      "metadata": {
        "colab": {
          "base_uri": "https://localhost:8080/"
        },
        "id": "iyAhDtGWILNk",
        "outputId": "66281a11-42c1-4221-8535-44f336a347e1"
      },
      "execution_count": 61,
      "outputs": [
        {
          "output_type": "execute_result",
          "data": {
            "text/plain": [
              "array([1])"
            ]
          },
          "metadata": {},
          "execution_count": 61
        }
      ]
    },
    {
      "cell_type": "code",
      "source": [
        "#Compute the sorted union of elements\n",
        "np.union1d(a1,a2)"
      ],
      "metadata": {
        "colab": {
          "base_uri": "https://localhost:8080/"
        },
        "id": "rTPYeRMbIp7F",
        "outputId": "6840bde1-f4c0-4a87-b8f8-6134fd96bd5f"
      },
      "execution_count": 63,
      "outputs": [
        {
          "output_type": "execute_result",
          "data": {
            "text/plain": [
              "array([1, 2, 3, 4, 5, 7, 8, 9])"
            ]
          },
          "metadata": {},
          "execution_count": 63
        }
      ]
    },
    {
      "cell_type": "code",
      "source": [
        "# numpy.in1d, tests membership of the values in one array in another, returning a Boolean array:\n",
        "values = np.array([6, 0, 0, 3, 2, 5, 6])\n",
        "np.in1d(values, [2, 3, 6])\n",
        "\n"
      ],
      "metadata": {
        "colab": {
          "base_uri": "https://localhost:8080/"
        },
        "id": "KEiIQ1g_HwEK",
        "outputId": "d30e808c-70d1-412a-ecb3-a82e018620c1"
      },
      "execution_count": 58,
      "outputs": [
        {
          "output_type": "execute_result",
          "data": {
            "text/plain": [
              "array([ True, False, False,  True,  True, False,  True])"
            ]
          },
          "metadata": {},
          "execution_count": 58
        }
      ]
    },
    {
      "cell_type": "code",
      "source": [
        "#Compute a Boolean array indicating whether each element of x is contained in y\n",
        "np.setdiff1d(a1,a2)"
      ],
      "metadata": {
        "colab": {
          "base_uri": "https://localhost:8080/"
        },
        "id": "ZhhRX92GIE_Y",
        "outputId": "6762232c-77f2-48ac-9808-e55a23552213"
      },
      "execution_count": 65,
      "outputs": [
        {
          "output_type": "execute_result",
          "data": {
            "text/plain": [
              "array([2, 3, 4, 5])"
            ]
          },
          "metadata": {},
          "execution_count": 65
        }
      ]
    },
    {
      "cell_type": "code",
      "source": [
        "#Set symmetric differences; elements that are in either of the arrays, but not both\n",
        "np.setxor1d(a1,a2)"
      ],
      "metadata": {
        "colab": {
          "base_uri": "https://localhost:8080/"
        },
        "id": "Dj1U0kK9JWvW",
        "outputId": "df124189-ee4c-46a7-b750-0b21d9629670"
      },
      "execution_count": 66,
      "outputs": [
        {
          "output_type": "execute_result",
          "data": {
            "text/plain": [
              "array([2, 3, 4, 5, 7, 8, 9])"
            ]
          },
          "metadata": {},
          "execution_count": 66
        }
      ]
    },
    {
      "cell_type": "markdown",
      "source": [
        "#### File Input and Output with Arrays\n",
        "* NumPy is able to save and load data to and from disk in some text or binary formats.\n",
        "\n",
        "* NumPy is able to save and load data to and from disk in some text or binary formats.\n",
        "\n",
        "* You can save multiple arrays in an uncompressed archive using numpy.savez and passing the arrays as keyword arguments:"
      ],
      "metadata": {
        "id": "2-BcP9i3R4_q"
      }
    },
    {
      "cell_type": "code",
      "source": [
        "arr=np.arange(10)\n",
        "np.save('demo_file',arr)"
      ],
      "metadata": {
        "id": "nJJwiO6FJoyN"
      },
      "execution_count": 67,
      "outputs": []
    },
    {
      "cell_type": "code",
      "source": [
        "np.load('demo_file.npy')\n"
      ],
      "metadata": {
        "colab": {
          "base_uri": "https://localhost:8080/"
        },
        "id": "CUgltPWLSJoS",
        "outputId": "7440ab6e-7beb-49b6-f972-27005f46df05"
      },
      "execution_count": 69,
      "outputs": [
        {
          "output_type": "execute_result",
          "data": {
            "text/plain": [
              "array([0, 1, 2, 3, 4, 5, 6, 7, 8, 9])"
            ]
          },
          "metadata": {},
          "execution_count": 69
        }
      ]
    },
    {
      "cell_type": "code",
      "source": [
        "np.savez(\"array_archive.npz\", a=arr, b=arr)"
      ],
      "metadata": {
        "id": "v3gDlZDjSRwy"
      },
      "execution_count": 70,
      "outputs": []
    },
    {
      "cell_type": "code",
      "source": [
        "#When loading an .npz file, you get back a dictionary-like object that loads the individual arrays lazily:\n",
        "val=np.load('array_archive.npz')\n",
        "val['b']\n"
      ],
      "metadata": {
        "colab": {
          "base_uri": "https://localhost:8080/"
        },
        "id": "KGr5gYsASidT",
        "outputId": "85832438-916e-4fcf-8bf7-d91d19d31bd3"
      },
      "execution_count": 71,
      "outputs": [
        {
          "output_type": "execute_result",
          "data": {
            "text/plain": [
              "array([0, 1, 2, 3, 4, 5, 6, 7, 8, 9])"
            ]
          },
          "metadata": {},
          "execution_count": 71
        }
      ]
    },
    {
      "cell_type": "code",
      "source": [
        "val['a']"
      ],
      "metadata": {
        "colab": {
          "base_uri": "https://localhost:8080/"
        },
        "id": "6oKBM0pGSycH",
        "outputId": "f0ad144c-c377-4d67-d624-ce21210d0762"
      },
      "execution_count": 72,
      "outputs": [
        {
          "output_type": "execute_result",
          "data": {
            "text/plain": [
              "array([0, 1, 2, 3, 4, 5, 6, 7, 8, 9])"
            ]
          },
          "metadata": {},
          "execution_count": 72
        }
      ]
    },
    {
      "cell_type": "markdown",
      "source": [
        "#### Linear algebra operations, like matrix multiplication, decompositions, determinants, and other square matrix math, are an important part of many array libraries."
      ],
      "metadata": {
        "id": "xybIgOGSTGI9"
      }
    },
    {
      "cell_type": "code",
      "source": [
        "a=np.array(np.arange(1,10).reshape(3,3))\n",
        "b=np.array(np.arange(10,19).reshape(3,3))\n",
        "\n",
        "print(f'array a is {a}')\n",
        "print('\\n')\n",
        "print(f'array a is {b}')"
      ],
      "metadata": {
        "colab": {
          "base_uri": "https://localhost:8080/"
        },
        "id": "2Upnk_H_S0zI",
        "outputId": "988bdd42-9761-4cbe-86a5-90adefe2463d"
      },
      "execution_count": 77,
      "outputs": [
        {
          "output_type": "stream",
          "name": "stdout",
          "text": [
            "array a is [[1 2 3]\n",
            " [4 5 6]\n",
            " [7 8 9]]\n",
            "\n",
            "\n",
            "array a is [[10 11 12]\n",
            " [13 14 15]\n",
            " [16 17 18]]\n"
          ]
        }
      ]
    },
    {
      "cell_type": "code",
      "source": [
        "#Matrix multiplication\n",
        "np.dot(a,b)"
      ],
      "metadata": {
        "colab": {
          "base_uri": "https://localhost:8080/"
        },
        "id": "voiAsyiKTZzk",
        "outputId": "b91f23c3-a04d-4453-a682-3b466680d200"
      },
      "execution_count": 78,
      "outputs": [
        {
          "output_type": "execute_result",
          "data": {
            "text/plain": [
              "array([[ 84,  90,  96],\n",
              "       [201, 216, 231],\n",
              "       [318, 342, 366]])"
            ]
          },
          "metadata": {},
          "execution_count": 78
        }
      ]
    },
    {
      "cell_type": "code",
      "source": [
        "a.dot(b)"
      ],
      "metadata": {
        "colab": {
          "base_uri": "https://localhost:8080/"
        },
        "id": "9BSAXRZETtkc",
        "outputId": "35bb14ad-395e-4021-a0a2-8072ddd8caa5"
      },
      "execution_count": 81,
      "outputs": [
        {
          "output_type": "execute_result",
          "data": {
            "text/plain": [
              "array([[ 84,  90,  96],\n",
              "       [201, 216, 231],\n",
              "       [318, 342, 366]])"
            ]
          },
          "metadata": {},
          "execution_count": 81
        }
      ]
    },
    {
      "cell_type": "code",
      "source": [
        "#Return the diagonal (or off-diagonal) elements of a square matrix as a 1D array, \n",
        "#or convert a 1D array into a square matrix with zeros on the off-diagona\n",
        "np.diag(a)"
      ],
      "metadata": {
        "colab": {
          "base_uri": "https://localhost:8080/"
        },
        "id": "G1eGb2qtTvdz",
        "outputId": "3567daef-84da-47b4-f901-3f0d5ebdb31c"
      },
      "execution_count": 82,
      "outputs": [
        {
          "output_type": "execute_result",
          "data": {
            "text/plain": [
              "array([1, 5, 9])"
            ]
          },
          "metadata": {},
          "execution_count": 82
        }
      ]
    },
    {
      "cell_type": "code",
      "source": [
        "#Compute the sum of the diagonal elements\n",
        "np.trace(a)"
      ],
      "metadata": {
        "colab": {
          "base_uri": "https://localhost:8080/"
        },
        "id": "i6M2rDlSUV3l",
        "outputId": "c919943e-293d-4ebd-9e04-5ab517c103d8"
      },
      "execution_count": 83,
      "outputs": [
        {
          "output_type": "execute_result",
          "data": {
            "text/plain": [
              "15"
            ]
          },
          "metadata": {},
          "execution_count": 83
        }
      ]
    },
    {
      "cell_type": "code",
      "source": [
        "#Compute the determinant of an array.\n",
        "from numpy import linalg\n",
        "linalg.det(a)"
      ],
      "metadata": {
        "colab": {
          "base_uri": "https://localhost:8080/"
        },
        "id": "uaOFqDi5UZTV",
        "outputId": "d5b3c91a-c502-4a1f-87e1-b37c1c6bd77c"
      },
      "execution_count": 88,
      "outputs": [
        {
          "output_type": "execute_result",
          "data": {
            "text/plain": [
              "0.0"
            ]
          },
          "metadata": {},
          "execution_count": 88
        }
      ]
    },
    {
      "cell_type": "code",
      "source": [
        "#Compute the eigenvalues and eigenvectors of a square matrix\n",
        "linalg.eig(a)"
      ],
      "metadata": {
        "colab": {
          "base_uri": "https://localhost:8080/"
        },
        "id": "8y2XAv1OUtgb",
        "outputId": "26de5c39-bae6-4932-f546-bb92a3722264"
      },
      "execution_count": 90,
      "outputs": [
        {
          "output_type": "execute_result",
          "data": {
            "text/plain": [
              "(array([ 1.61168440e+01, -1.11684397e+00, -1.30367773e-15]),\n",
              " array([[-0.23197069, -0.78583024,  0.40824829],\n",
              "        [-0.52532209, -0.08675134, -0.81649658],\n",
              "        [-0.8186735 ,  0.61232756,  0.40824829]]))"
            ]
          },
          "metadata": {},
          "execution_count": 90
        }
      ]
    },
    {
      "cell_type": "code",
      "source": [
        "# Compute the inverse of a square matrix\n",
        "from numpy.linalg import inv\n",
        "new_arr=np.array([[1., 7.], [4., 2.]])\n",
        "inv(new_arr)"
      ],
      "metadata": {
        "colab": {
          "base_uri": "https://localhost:8080/"
        },
        "id": "fsMF6CdxVHb7",
        "outputId": "644241be-cef7-445a-fb83-9099b6193716"
      },
      "execution_count": 96,
      "outputs": [
        {
          "output_type": "execute_result",
          "data": {
            "text/plain": [
              "array([[-0.07692308,  0.26923077],\n",
              "       [ 0.15384615, -0.03846154]])"
            ]
          },
          "metadata": {},
          "execution_count": 96
        }
      ]
    },
    {
      "cell_type": "code",
      "source": [
        "   "
      ],
      "metadata": {
        "id": "_dN04HJOVRHa"
      },
      "execution_count": null,
      "outputs": []
    }
  ]
}