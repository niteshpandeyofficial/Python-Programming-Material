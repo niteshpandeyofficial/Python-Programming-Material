{
  
  "nbformat_minor": 0,
  "metadata": {
    "kernelspec": {
      "display_name": "Python 3",
      "language": "python",
      "name": "python3"
    },
    "language_info": {
      "codemirror_mode": {
        "name": "ipython",
        "version": 3
      },
      "file_extension": ".py",
      "mimetype": "text/x-python",
      "name": "python",
      "nbconvert_exporter": "python",
      "pygments_lexer": "ipython3",
      "version": "3.7.6"
    },
    "colab": {
      "name": "Logger.ipynb",
      "provenance": [],
      "collapsed_sections": []
    }
  },
  "cells": [
    {
      "cell_type": "markdown",
      "metadata": {
        "id": "4Q0nGjEtD2O0"
      },
      "source": [
        "<img src=\"https://d24cdstip7q8pz.cloudfront.net/t/ineuron1/content/common/images/final%20logo.png\" height=60 alt-text=\"iNeuron.ai logo\">\n"
      ]
    },
    {
      "cell_type": "markdown",
      "metadata": {
        "id": "yQ8L-IZ3zieC"
      },
      "source": [
        "## 11.1.1 Logging in Python\n",
        "\n",
        "Why do we do logging?\n",
        "\n",
        "\n",
        "Logging is an important part of coding process to keep a track of all the events happening when the code is run. \n",
        "By logging we can create custom messages/events to indicate different stages of the code. Logging makes it easier to monitor , troubleshoot and debug the code.\n",
        "\n",
        "The most simple way of doing logging is using a \"print\" function. But there are many disadvantages of using a \"print\" function and also there are many functionalities available with \"logger\" method in python. \"Print\" statement might let you debug the code in the case of error while the code is in development stage but once you deploy the code to production, using logger is the best practice.\n",
        "\n",
        "Logger provides different severity levels (warning, errors, critical, info etc.) to log different events.\n",
        "As per the official python document, below are the different severity levels and their description:\n",
        "\n",
        "**1)** DEBUG - Detailed information, typically of interest only when diagnosing problems.\n",
        "\n",
        "**2)** INFO -  Confirmation that things are working as expected.\n",
        "\n",
        "**3)** WARNING - .An indication that something unexpected happened, or indicative of some problem in the near future (e.g. ‘disk space low’). The software is still working as expected.\n",
        "\n",
        "**4)** ERROR - Due to a more serious problem, the software has not been able to perform some function.\n",
        "\n",
        "**5)** CRITICAL - A serious error, indicating that the program itself may be unable to continue running.\n",
        "\n",
        "\n",
        "Let's see how we can use Logging method in python."
      ]
    },
    {
      "cell_type": "code",
      "metadata": {
        "id": "bGDZUXh1zieH"
      },
      "source": [
        "# We need to import logging python module\n",
        "import logging"
      ],
      "execution_count": 30,
      "outputs": []
    },
    {
      "cell_type": "code",
      "metadata": {
        "id": "TQUvOIFBzief"
      },
      "source": [
        "# let's create a log file with name \"logger\" and set the severity level to \"info\"\n",
        "logging.basicConfig(filename='Logger1.log',level=logging.info)\n"
      ],
      "execution_count": 31,
      "outputs": []
    },
    {
      "cell_type": "code",
      "metadata": {
        "id": "3rUd0brcziew"
      },
      "source": [
        "logging.info(\"Info message being logged!!\")\n",
        "logging.warning(\"Warning message being logged!!\")\n",
        "logging.error(\"Error!!\")"
      ],
      "execution_count": 32,
      "outputs": []
    },
    {
      "cell_type": "markdown",
      "metadata": {
        "id": "3UguKowXzie8"
      },
      "source": [
        "Let's open the log file created and see if the messages are logged.\n",
        "\n",
        "<img src=\"img/logger.png\">"
      ]
    },
    {
      "cell_type": "markdown",
      "metadata": {
        "id": "D5nKrXFazie-"
      },
      "source": [
        "Great! the messages are getting logged!!"
      ]
    },
    {
      "cell_type": "code",
      "metadata": {
        "id": "g31siVtJzifD"
      },
      "source": [
        "logging.shutdown()"
      ],
      "execution_count": 26,
      "outputs": []
    },
    {
      "cell_type": "markdown",
      "metadata": {
        "id": "SiStyvMqzifh"
      },
      "source": [
        "We can add timestamps to our logs also. Let's see that in a new log"
      ]
    },
    {
      "cell_type": "code",
      "metadata": {
        "id": "4JNOYHekzifi"
      },
      "source": [
        "logging.basicConfig(filename='logger2.log',level=logging.DEBUG,format='%(asctime)s %(message)s') # here we have set our default level to info, so all levels after info will be displayed.\n"
      ],
      "execution_count": 33,
      "outputs": []
    },
    {
      "cell_type": "code",
      "metadata": {
        "id": "CBIgQAY8zifr"
      },
      "source": [
        "logging.info(\"Logger 2 Info message being logged!!\")\n",
        "logging.warning(\" Logger 2Warning message being logged!!\")\n",
        "logging.error(\" Logger 2 Error!!\")"
      ],
      "execution_count": 34,
      "outputs": []
    },
    {
      "cell_type": "markdown",
      "metadata": {
        "id": "NY9-YICizif0"
      },
      "source": [
        "Let's check how the messages are logged in our file.\n",
        "\n",
        "<img src=\"img/logger2.png\">\n",
        "\n",
        "Now, our messages are being logged with timestamps."
      ]
    },
    {
      "cell_type": "code",
      "metadata": {
        "id": "PHKVo2Lmzif4"
      },
      "source": [
        "logging.shutdown()"
      ],
      "execution_count": 35,
      "outputs": []
    },
    {
      "cell_type": "code",
      "metadata": {
        "id": "OqB5g6zGzigM"
      },
      "source": [
        "logging.basicConfig(filename='main.log',level=logging.INFO, \n",
        "                    format='%(asctime)s %(message)s') # here we have set our default level to info, so all levels after info will be displayed.\n"
      ],
      "execution_count": 36,
      "outputs": []
    },
    {
      "cell_type": "code",
      "metadata": {
        "id": "B1aRDNY1zigT"
      },
      "source": [
        "def divideNum(a,b):\n",
        "    logging.info(\"Numbers are %s and %s\", a,b) # Logging variables\n",
        "    try:\n",
        "        div = a/b\n",
        "        logging.info(\"Method completed!!\")\n",
        "        return div\n",
        "    except Exception as e:\n",
        "        print(\"Check logs for exception!\")\n",
        "        logging.error(\"Error occured!!\")\n",
        "        logging.exception(\"Exception occured : \" + (str(e)))\n",
        "        \n",
        "    "
      ],
      "execution_count": 37,
      "outputs": []
    },
    {
      "cell_type": "code",
      "metadata": {
        "id": "2YFo1WmRzigg",
        "outputId": "c180d026-a79b-4f55-c903-d668bfdf42ad",
        "colab": {
          "base_uri": "https://localhost:8080/"
        }
      },
      "source": [
        "divideNum(4,2)"
      ],
      "execution_count": 38,
      "outputs": [
        {
          "output_type": "execute_result",
          "data": {
            "text/plain": [
              "2.0"
            ]
          },
          "metadata": {},
          "execution_count": 38
        }
      ]
    },
    {
      "cell_type": "code",
      "metadata": {
        "id": "Xr9F03v7zigm",
        "outputId": "ba1c79e6-f237-40e8-a64e-e823ffed850d",
        "colab": {
          "base_uri": "https://localhost:8080/"
        }
      },
      "source": [
        "divideNum(4,0)"
      ],
      "execution_count": 39,
      "outputs": [
        {
          "output_type": "stream",
          "name": "stdout",
          "text": [
            "Check logs for exception!\n"
          ]
        }
      ]
    },
    {
      "cell_type": "markdown",
      "metadata": {
        "id": "WNarHQHZzihB"
      },
      "source": [
        "Let's check the \"main_log\":\n",
        "\n",
        "<img src=\"img/mainLog.png\">"
      ]
    },
    {
      "cell_type": "code",
      "metadata": {
        "id": "gTNIntXqzihD"
      },
      "source": [
        "logging.shutdown()"
      ],
      "execution_count": 40,
      "outputs": []
    },
    {
      "cell_type": "code",
      "metadata": {
        "id": "NuRPri7ozihH"
      },
      "source": [
        "# Lets check different log level messages\n",
        "logging.debug('This is a debug message')\n",
        "logging.info('This is an info message')\n",
        "logging.warning('This is a warning message')\n",
        "logging.error('This is an error message')\n",
        "logging.critical('This is a critical message')"
      ],
      "execution_count": 41,
      "outputs": []
    },
    {
      "cell_type": "markdown",
      "metadata": {
        "id": "-qT7pcy-zihL"
      },
      "source": [
        "![image.png](attachment:image.png)"
      ]
    },
    {
      "cell_type": "markdown",
      "metadata": {
        "id": "Q055iWHEzihM"
      },
      "source": [
        "This shows the log level before each message along side root, which is the name the logging module provides for its default logging. This configuration, which shows the level, name, and message isolated by a colon (:), is the default fromat.\n",
        "\n",
        ">**Notice:-** debug() and info() messages didn't get logged. This is on the grounds that, as a matter of course, the logging module logs the messages with a seriousness level of WARNING or above. You can change that by designing the logging module to log occasions everything being equal on the off chance that you need."
      ]
    },
    {
      "cell_type": "markdown",
      "metadata": {
        "id": "P1rb2EqJzihN"
      },
      "source": [
        "### Capturing Stack Traces\n",
        "\n",
        "The logging module allows you to capture the full stack exception info and exception infor can be logged if the exc_info is passed as True in argument.\n",
        "Let us check below information."
      ]
    },
    {
      "cell_type": "code",
      "metadata": {
        "id": "juh3apcDzihN"
      },
      "source": [
        "# Trying to open the file which doesn't exist and log file not found exception in looger file.\n",
        "import logging\n",
        "\n",
        "try:\n",
        "  with open(\"file.csv\",\"r\"):\n",
        "    print(\"file read\")\n",
        "except Exception as e:\n",
        "  logging.error(\"Exception occurred\", exc_info=True)"
      ],
      "execution_count": 42,
      "outputs": []
    },
    {
      "cell_type": "markdown",
      "metadata": {
        "id": "mkLm76y1zihS"
      },
      "source": [
        "![image.png](attachment:image.png)"
      ]
    },
    {
      "cell_type": "code",
      "metadata": {
        "id": "i5fCuuduzihS"
      },
      "source": [
        "#Now, we can check same example without exc_info\n",
        "import logging\n",
        "\n",
        "try:\n",
        "  logging.info(\"Example started without using exc_info\")\n",
        "  with open(\"file.csv\",\"r\"):\n",
        "    print(\"file read\")\n",
        "except Exception as e:\n",
        "  logging.error(\"Exception occurred\")"
      ],
      "execution_count": 45,
      "outputs": []
    },
    {
      "cell_type": "markdown",
      "metadata": {
        "id": "ncKpXVmqzihY"
      },
      "source": [
        "![image.png](attachment:image.png)"
      ]
    },
    {
      "cell_type": "markdown",
      "metadata": {
        "id": "YcwK-4WSzihY"
      },
      "source": [
        "Logging error with exc_info = true and logging_exception gives same result for logging an exception."
      ]
    },
    {
      "cell_type": "markdown",
      "metadata": {
        "id": "RGjMpB1Vziha"
      },
      "source": [
        "### Logging to multiple destination\n",
        "\n",
        "Let’s say we want to log to console and file with different messages and in differing circumstances. Say you want to log messages with levels of DEBUG and higher to file, and those messages at level INFO and higher to the console. Let’s also assume that the file should contain timestamps, but the console messages should not. Here’s how you can achieve this:"
      ]
    },
    {
      "cell_type": "code",
      "metadata": {
        "id": "waWRT8bhzihb",
        "outputId": "81e87422-c710-47b1-a2ac-ab0d3ace2cf6",
        "colab": {
          "base_uri": "https://localhost:8080/"
        }
      },
      "source": [
        "import logging\n",
        "\n",
        "# set up logging to file - see previous section for more details\n",
        "logging.basicConfig(level=logging.DEBUG,\n",
        "                    format='%(asctime)s %(name)-12s %(levelname)-8s %(message)s',\n",
        "                    datefmt='%m-%d %H:%M',\n",
        "                    filename='multiple.log',\n",
        "                    filemode='w')\n",
        "# define a Handler which writes INFO messages or higher to the sys.stderr\n",
        "console_log = logging.StreamHandler()\n",
        "console_log.setLevel(logging.INFO)\n",
        "# set a format which is simpler for console use\n",
        "formatter = logging.Formatter('%(name)-12s: %(levelname)-8s %(message)s')\n",
        "# tell the handler to use this format\n",
        "console_log.setFormatter(formatter)\n",
        "# add the handler to the root logger\n",
        "logging.getLogger('').addHandler(console_log)\n",
        "\n",
        "# Now, we can log to the root logger, or any other logger. First the root...\n",
        "logging.info('Logging to the root logger.')\n",
        "\n",
        "# Now, define a couple of other loggers which might represent areas in your\n",
        "# application:\n",
        "\n",
        "logger1 = logging.getLogger('logger1.area1')\n",
        "logger2 = logging.getLogger('logger2.area2')\n",
        "\n",
        "logger1.debug('Hello, greetings from iNeuron.')\n",
        "logger1.info('iNeuron is providing tremendous courses in different domains.')\n",
        "logger2.warning('This is a warning message.')\n",
        "logger2.error('This is an error message.')"
      ],
      "execution_count": 48,
      "outputs": [
        {
          "output_type": "stream",
          "name": "stderr",
          "text": [
            "root        : INFO     Logging to the root logger.\n",
            "root        : INFO     Logging to the root logger.\n",
            "root        : INFO     Logging to the root logger.\n",
            "logger1.area1: INFO     iNeuron is providing tremendous courses in different domains.\n",
            "logger1.area1: INFO     iNeuron is providing tremendous courses in different domains.\n",
            "logger1.area1: INFO     iNeuron is providing tremendous courses in different domains.\n",
            "logger2.area2: WARNING  This is a warning message.\n",
            "logger2.area2: WARNING  This is a warning message.\n",
            "logger2.area2: WARNING  This is a warning message.\n",
            "logger2.area2: ERROR    This is an error message.\n",
            "logger2.area2: ERROR    This is an error message.\n",
            "logger2.area2: ERROR    This is an error message.\n"
          ]
        }
      ]
    },
    {
      "cell_type": "markdown",
      "metadata": {
        "id": "bbfPqZrfzihi"
      },
      "source": [
        "Here we are consoling the output as well as we are logging in a file as shown in below image:-"
      ]
    },
    {
      "cell_type": "markdown",
      "metadata": {
        "id": "gs3u16hHzihj"
      },
      "source": [
        "![image.png](attachment:image.png)"
      ]
    },
    {
      "cell_type": "markdown",
      "metadata": {
        "id": "RQsE7l2rzihk"
      },
      "source": [
        " For more detailed explanation,\n",
        " >**Refer:-**  https://docs.python.org/3/howto/logging-cookbook.html"
      ]
    },
    {
      "cell_type": "code",
      "metadata": {
        "id": "mUaA_-6nzihl",
        "outputId": "0ffc13e3-45d6-47f3-efa9-16089ffc6e91",
        "colab": {
          "base_uri": "https://localhost:8080/"
        }
      },
      "source": [
        "# Lets check some example respective to logging.\n",
        "import logging\n",
        "import math\n",
        "logging.basicConfig(level=logging.INFO)\n",
        "a=9\n",
        "def sqrt(a):\n",
        "    \"\"\"Compute the square root\"\"\"\n",
        "    return math.sqrt(a)\n",
        "\n",
        "logging.info(\"square root of {a} is {b}\".format(a=3, b=sqrt(a)))"
      ],
      "execution_count": 50,
      "outputs": [
        {
          "output_type": "stream",
          "name": "stderr",
          "text": [
            "root        : INFO     square root of 3 is 3.0\n",
            "root        : INFO     square root of 3 is 3.0\n",
            "root        : INFO     square root of 3 is 3.0\n"
          ]
        }
      ]
    },
    {
      "cell_type": "code",
      "metadata": {
        "id": "JtnKVGJMziho"
      },
      "source": [
        ""
      ],
      "execution_count": null,
      "outputs": []
    }
  ]
}
