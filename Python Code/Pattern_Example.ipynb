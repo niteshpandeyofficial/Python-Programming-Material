{
  "cells": [
    {
      "cell_type": "code",
      "execution_count": null,
      "metadata": {
        "id": "PpJ8qMjJfrkM"
      },
      "outputs": [],
      "source": [
        "import numpy as np\n",
        "import pandas as pd\n",
        "from scipy.stats import ttest_1samp"
      ]
    },
    {
      "cell_type": "code",
      "execution_count": null,
      "metadata": {
        "id": "FbT6PM6xO509"
      },
      "outputs": [],
      "source": [
        "ages=[12,34,45,65,23,34,11,23,25,26,28,78,90,45,56,67,76,54,32,82,84,79,87,90]"
      ]
    },
    {
      "cell_type": "code",
      "execution_count": null,
      "metadata": {
        "id": "wZTpivtmPm9M"
      },
      "outputs": [],
      "source": [
        "pop_mean=np.mean(ages)"
      ]
    },
    {
      "cell_type": "code",
      "execution_count": null,
      "metadata": {
        "colab": {
          "base_uri": "https://localhost:8080/",
          "height": 34
        },
        "id": "vlTaL-gSPptU",
        "outputId": "9d1dbe40-4a3e-4f8a-cd1a-049ee8be7e48"
      },
      "outputs": [
        {
          "name": "stdout",
          "output_type": "stream",
          "text": [
            "52.1\n"
          ]
        }
      ],
      "source": [
        "sample_size=10\n",
        "age_sample=np.random.choice(ages,sample_size)\n",
        "print(np.mean(age_sample))"
      ]
    },
    {
      "cell_type": "code",
      "execution_count": null,
      "metadata": {
        "id": "q1eWJTSxQL5u"
      },
      "outputs": [],
      "source": [
        "t_test,p_value=ttest_1samp(age_sample,pop_mean)"
      ]
    },
    {
      "cell_type": "code",
      "execution_count": null,
      "metadata": {
        "colab": {
          "base_uri": "https://localhost:8080/",
          "height": 34
        },
        "id": "Yk67e_pLQkzk",
        "outputId": "ae55aa5f-9905-4d99-ae78-d93bf19b3eb9"
      },
      "outputs": [
        {
          "data": {
            "text/plain": [
              "0.9843324023193873"
            ]
          },
          "execution_count": 12,
          "metadata": {
            "tags": []
          },
          "output_type": "execute_result"
        }
      ],
      "source": [
        "p_value"
      ]
    },
    {
      "cell_type": "code",
      "execution_count": null,
      "metadata": {
        "colab": {
          "base_uri": "https://localhost:8080/",
          "height": 34
        },
        "id": "ma73QF7uQxTI",
        "outputId": "2e214ad3-83e1-4801-afc0-ae4e791ece8b"
      },
      "outputs": [
        {
          "name": "stdout",
          "output_type": "stream",
          "text": [
            "We are fail to reject the null hypothesis\n"
          ]
        }
      ],
      "source": [
        "if p_value<0.05:\n",
        "  print('We are reject the null hypothesis')\n",
        "else:\n",
        "  print('We are fail to reject the null hypothesis')"
      ]
    },
    {
      "cell_type": "code",
      "execution_count": null,
      "metadata": {
        "id": "FDM1u8YwRGMZ"
      },
      "outputs": [],
      "source": [
        "import scipy.stats  as stats"
      ]
    },
    {
      "cell_type": "code",
      "execution_count": null,
      "metadata": {
        "id": "-ovb3ZRhRks7"
      },
      "outputs": [],
      "source": [
        "np.random.seed(6)\n",
        "school_age=stats.poisson.rvs(loc=18,mu=35,size=1500)\n",
        "class_age=stats.poisson.rvs(loc=18,mu=30,size=60)"
      ]
    },
    {
      "cell_type": "code",
      "execution_count": null,
      "metadata": {
        "colab": {
          "base_uri": "https://localhost:8080/",
          "height": 51
        },
        "id": "7pxVom3VR07D",
        "outputId": "f1319835-c5b3-436e-e4d3-b8667cb62cc1"
      },
      "outputs": [
        {
          "name": "stdout",
          "output_type": "stream",
          "text": [
            "53.303333333333335\n",
            "46.9\n"
          ]
        }
      ],
      "source": [
        "print(np.mean(school_age))\n",
        "print(np.mean(class_age))"
      ]
    },
    {
      "cell_type": "code",
      "execution_count": null,
      "metadata": {
        "colab": {
          "base_uri": "https://localhost:8080/"
        },
        "id": "QhAls_3eSdE4",
        "outputId": "6cad4efd-ef40-4c3c-b888-f696d1d96c09"
      },
      "outputs": [
        {
          "name": "stdout",
          "output_type": "stream",
          "text": [
            "\n",
            "0\n",
            "01\n",
            "012\n",
            "0123\n"
          ]
        }
      ],
      "source": [
        "n=5\n",
        "for i in range(0,n):\n",
        "    for j in range(i):\n",
        "        print(j,end='')\n",
        "    print()"
      ]
    },
    {
      "cell_type": "code",
      "execution_count": null,
      "metadata": {
        "colab": {
          "base_uri": "https://localhost:8080/"
        },
        "id": "G8ml12XFhWAS",
        "outputId": "e8d9cb06-0053-4d8b-d0f0-26ed2885c1eb"
      },
      "outputs": [
        {
          "name": "stdout",
          "output_type": "stream",
          "text": [
            "1 2 3 4 5 \n",
            "2 3 4 5 \n",
            "3 4 5 \n",
            "4 5 \n",
            "5 \n",
            "\n"
          ]
        }
      ],
      "source": [
        "rows = 5\n",
        "for i in range(0, rows + 1, 1):\n",
        "    for j in range(i + 1, rows + 1, 1):\n",
        "        print(j, end=' ')\n",
        "    print()\n"
      ]
    },
    {
      "cell_type": "code",
      "execution_count": null,
      "metadata": {
        "colab": {
          "base_uri": "https://localhost:8080/"
        },
        "id": "5PK_1kjVWaj8",
        "outputId": "b98422f6-cd3a-415d-da53-bf011c29d706"
      },
      "outputs": [
        {
          "name": "stdout",
          "output_type": "stream",
          "text": [
            " *     *\n",
            "  *   *\n",
            "   * *\n",
            "    *\n"
          ]
        }
      ],
      "source": [
        "row=5\n",
        "for i in range(row-1,0, -1):\n",
        "    for j in range(1,row-i+1):\n",
        "        print(\" \", end=\"\")\n",
        "    for j in range(1, 2*i):\n",
        "        if j==1 or j==2*i-1:\n",
        "            print(\"*\", end=\"\")\n",
        "        else:\n",
        "            print(\" \", end=\"\")\n",
        "    print()"
      ]
    },
    {
      "cell_type": "code",
      "execution_count": 1,
      "metadata": {
        "colab": {
          "base_uri": "https://localhost:8080/"
        },
        "id": "WgpT4HVPaYp-",
        "outputId": "8a0b412d-7fce-4424-93d7-9f08e878db88"
      },
      "outputs": [
        {
          "name": "stdout",
          "output_type": "stream",
          "text": [
            " ******* \n",
            "  *****  \n",
            "   ***   \n",
            "    *    \n",
            "          \n",
            "            \n",
            "              \n",
            "                \n",
            "                  \n"
          ]
        }
      ],
      "source": [
        "num = 9\n",
        "\n",
        "for i in range(1, num+1):\n",
        "  if i > 0:\n",
        "    i = +i\n",
        "  print(\" \" * i + \"*\" * (num - i*2) + \" \"*i)\n",
        "\n",
        "###Method 2\n",
        "\n",
        "num = 9\n",
        "\n",
        "for i in range(1, num+1):\n",
        "  print(\" \" * i + \"*\" * (num - i*2) + \" \"*i)\n"
      ]
    },
    {
      "cell_type": "code",
      "execution_count": null,
      "metadata": {
        "colab": {
          "base_uri": "https://localhost:8080/"
        },
        "id": "hn5YT_WPbQxT",
        "outputId": "42baecff-04cd-4fb1-9f4f-8a921d88da59"
      },
      "outputs": [
        {
          "name": "stdout",
          "output_type": "stream",
          "text": [
            "\n",
            "0\n",
            "01\n",
            "012\n",
            "0123\n"
          ]
        }
      ],
      "source": [
        "n=5\n",
        "for i in range(0,n):\n",
        "    for j in range(i):\n",
        "        print(j,end='')\n",
        "    print()"
      ]
    },
    {
      "cell_type": "code",
      "execution_count": 4,
      "metadata": {
        "colab": {
          "base_uri": "https://localhost:8080/"
        },
        "id": "N5WyQ-_pbapK",
        "outputId": "b2e41e1e-16b5-4e8e-b0c8-42194d79f2cd"
      },
      "outputs": [
        {
          "name": "stdout",
          "output_type": "stream",
          "text": [
            "$                   $ \n",
            "$ $               $ $ \n",
            "$ $ $           $ $ $ \n",
            "$ $ $ $       $ $ $ $ \n",
            "$ $ $ $ $   $ $ $ $ $ \n"
          ]
        }
      ],
      "source": [
        "n=6\n",
        "for r in range(0,2 * n - 1,1): \n",
        "  if (r < n - 1):\n",
        "    for i in range(0,r+1,1):\n",
        "      print(\"$\",end = \" \")  \n",
        "    for i in range(0,2 * (n - r - 1)-2+1,1): \n",
        "      print(\" \",end = \" \") \n",
        "    for i in range(0,r+1,1): \n",
        "      print(\"$\", end = \" \") \n",
        "    print()\n"
      ]
    },
    {
      "cell_type": "code",
      "execution_count": 5,
      "metadata": {
        "colab": {
          "base_uri": "https://localhost:8080/"
        },
        "id": "ZX8YDSsmdPvn",
        "outputId": "61e5c6ff-cfe5-439a-a246-59dba67112c9"
      },
      "outputs": [
        {
          "name": "stdout",
          "output_type": "stream",
          "text": [
            "\n",
            "0 1 \n",
            "0 0 1 1 \n",
            "0 0 0 1 1 1 \n",
            "0 0 0 0 1 1 1 1 \n"
          ]
        }
      ],
      "source": [
        "n=5\n",
        "for i in range (0,n):\n",
        "  for j in range(0,int(n/2)):\n",
        "    for k in range(i):\n",
        "      print(j,end=' ')\n",
        "  \n",
        "  for j in range(n,int(n/2)):\n",
        "    for k in range(i):\n",
        "          print(j,end=' ')\n",
        "          n=n-1\n",
        "  print()\n",
        "    \n",
        "\n",
        "\n"
      ]
    },
    {
      "cell_type": "code",
      "execution_count": 6,
      "metadata": {
        "colab": {
          "base_uri": "https://localhost:8080/"
        },
        "id": "kPVLdYFwmjGJ",
        "outputId": "f8008dfd-5c56-4ed9-a63d-9d18d616c666"
      },
      "outputs": [
        {
          "name": "stdout",
          "output_type": "stream",
          "text": [
            "\n",
            "0 1 2 \n",
            "0 0 1 1 2 2 \n"
          ]
        }
      ],
      "source": [
        "n=3\n",
        "for i in range (0,n):\n",
        "  for j in range(0,int(n*2/2)):\n",
        "    for k in range(i):\n",
        "      print(j,end=' ')\n",
        "  \n",
        "  for j in range(n,int(n*2/2)):\n",
        "    for k in range(i):\n",
        "          print(j,end=' ')\n",
        "          n=n-1\n",
        "  print()\n"
      ]
    },
    {
      "cell_type": "code",
      "execution_count": 8,
      "metadata": {
        "colab": {
          "base_uri": "https://localhost:8080/"
        },
        "id": "ACS1FgMsqpuh",
        "outputId": "509c94bb-1be0-4f99-b5fa-e1b6427debeb"
      },
      "outputs": [
        {
          "name": "stdout",
          "output_type": "stream",
          "text": [
            "A        A\n",
            " B      B\n",
            "  C    C\n",
            "   D  D\n",
            "    E \n"
          ]
        }
      ],
      "source": [
        "n=5\n",
        "for i in range(n):\n",
        "  print(' '*i+chr(65+i)+' ',end='')\n",
        "  if i!=n-1:\n",
        "    print(' '*(2*n-2*i-3)+chr(65+i),end='')\n",
        "  print()"
      ]
    },
    {
      "cell_type": "code",
      "execution_count": null,
      "metadata": {
        "colab": {
          "base_uri": "https://localhost:8080/"
        },
        "id": "lmiHPoV9uwTC",
        "outputId": "2e9bcc79-7bc4-46cb-fd02-b929dcefc299"
      },
      "outputs": [
        {
          "name": "stdout",
          "output_type": "stream",
          "text": [
            "                  \n",
            "*                *\n",
            "**              **\n",
            "***            ***\n",
            "****          ****\n",
            "*****        *****\n",
            "******      ******\n",
            "*******    *******\n",
            "********  ********\n",
            "******************\n",
            "\n"
          ]
        }
      ],
      "source": [
        "n=10\n",
        "for i in range(n):\n",
        "  print('*'*i,end='')\n",
        "  if i!=n-1:\n",
        "    print(' '*(2*n-2*i-2)+'*' *i,end='')\n",
        "  else:\n",
        "    print('*'*i)\n",
        "  print()"
      ]
    },
    {
      "cell_type": "code",
      "execution_count": null,
      "metadata": {
        "colab": {
          "base_uri": "https://localhost:8080/"
        },
        "id": "F7gS416G5HHT",
        "outputId": "9a7bbdb3-0578-44e2-9095-11e447313edf"
      },
      "outputs": [
        {
          "name": "stdout",
          "output_type": "stream",
          "text": [
            "                                   \n",
            "*                                \n",
            "* *                            \n",
            "* * *                        \n",
            "* * * *                    \n",
            "* * * * *                \n",
            "* * * * * *            \n",
            "* * * * * * *        \n",
            "* * * * * * * *    \n",
            "* * * * * * * * *  \n"
          ]
        }
      ],
      "source": [
        "for i in range(n):\n",
        "  print('* '*i+' ',end='')\n",
        "  if i!=n-1:\n",
        "    print('  '*(2*n-2*i-3),end='')\n",
        "  print()"
      ]
    },
    {
      "cell_type": "code",
      "execution_count": null,
      "metadata": {
        "colab": {
          "base_uri": "https://localhost:8080/"
        },
        "id": "zEXaHscr5kQa",
        "outputId": "1f5ce922-5f7b-4761-979c-0f39393efc72"
      },
      "outputs": [
        {
          "name": "stdout",
          "output_type": "stream",
          "text": [
            "**************\n",
            "******__******\n",
            "*****____*****\n",
            "****______****\n",
            "***________***\n",
            "**__________**\n",
            "*____________*\n"
          ]
        }
      ],
      "source": [
        "rows = 14\n",
        "print(\"*\" * rows, end=\"\\n\")\n",
        "i = (rows // 2) - 1\n",
        "j = 2\n",
        "while i != 0:\n",
        "    while j <= (rows - 2):\n",
        "        print(\"*\" * i, end=\"\")\n",
        "        print(\"_\" * j, end=\"\")\n",
        "        print(\"*\" * i, end=\"\\n\")\n",
        "        i = i - 1\n",
        "        j = j + 2"
      ]
    },
    {
      "cell_type": "code",
      "execution_count": null,
      "metadata": {
        "colab": {
          "base_uri": "https://localhost:8080/"
        },
        "id": "YEHuxg3ZI3lj",
        "outputId": "a9bf0679-7ace-4918-8c51-a94f10ff558b"
      },
      "outputs": [
        {
          "name": "stdout",
          "output_type": "stream",
          "text": [
            "Enter the number of rows:5\n",
            "01234\n",
            "0123\n",
            "012\n",
            "01\n",
            "0\n"
          ]
        }
      ],
      "source": [
        "n=int(input('Enter the number of rows:'))\n",
        "\n",
        "for i in range(n,0,-1):\n",
        "  for j in range(i):\n",
        "    print(j,end='')\n",
        "  print()\n",
        "\n"
      ]
    },
    {
      "cell_type": "code",
      "execution_count": null,
      "metadata": {
        "colab": {
          "base_uri": "https://localhost:8080/"
        },
        "id": "ZZdPe-zPV4-h",
        "outputId": "c900d13d-65ec-4fb5-a21e-1e0880aee609"
      },
      "outputs": [
        {
          "name": "stdout",
          "output_type": "stream",
          "text": [
            "Enter the number of rows:4\n",
            "4 3 2 1 4 3 2 1 \n",
            "3 2 1     3 2 1 \n",
            "2 1         2 1 \n",
            "1             1 \n"
          ]
        }
      ],
      "source": [
        "n=int(input('Enter the number of rows:'))\n",
        "\n",
        "for i in range(n,0,-1):\n",
        "  for j in range(i,0,-1):\n",
        "    print(j,end=\" \")\n",
        "  for j in range(2*(n-i)):\n",
        "    print(\" \",end=\" \")\n",
        "  for j in range(i,0,-1):\n",
        "    print(j,end=\" \")\n",
        "  print()\n"
      ]
    },
    {
      "cell_type": "code",
      "execution_count": null,
      "metadata": {
        "colab": {
          "base_uri": "https://localhost:8080/"
        },
        "id": "twyBNoVRWMcp",
        "outputId": "75b29cfb-82fb-4605-d7f3-1fa6336c52ba"
      },
      "outputs": [
        {
          "name": "stdout",
          "output_type": "stream",
          "text": [
            "Enter the number of rows:5\n",
            "5 4 3 2 1 5 4 3 2 1 \n",
            "4 3 2 1     4 3 2 1 \n",
            "3 2 1         3 2 1 \n",
            "2 1             2 1 \n",
            "1                 1 \n",
            "0                 0 \n",
            "0 1             0 1 \n",
            "0 1 2         0 1 2 \n",
            "0 1 2 3     0 1 2 3 \n",
            "0 1 2 3 4 0 1 2 3 4 \n"
          ]
        }
      ],
      "source": [
        "n=int(input('Enter the number of rows:'))\n",
        "\n",
        "for i in range(n,0,-1):\n",
        "  for j in range(i,0,-1):\n",
        "    print(j,end=\" \")\n",
        "  for j in range(2*(n-i)):\n",
        "    print(\" \",end=\" \")\n",
        "  for j in range(i,0,-1):\n",
        "    print(j,end=\" \")\n",
        "  print()\n",
        "\n",
        "for i in range(n):\n",
        "  for j in range(i+1):\n",
        "    print(j,end=\" \")\n",
        "  for j in range(2*(n-i-1)):\n",
        "    print(\" \",end=\" \")\n",
        "  for j in range(i+1):\n",
        "    print(j,end=\" \")\n",
        "  print()\n",
        "\n",
        "\n"
      ]
    },
    {
      "cell_type": "code",
      "execution_count": null,
      "metadata": {
        "colab": {
          "base_uri": "https://localhost:8080/",
          "height": 102
        },
        "id": "OAQD5UD6YyWE",
        "outputId": "a11622a4-901b-40b2-95ce-bb3e4928c15f"
      },
      "outputs": [
        {
          "name": "stdout",
          "output_type": "stream",
          "text": [
            "Enter the no of rows:5\n",
            "1             1 \n",
            "1 2         2 1 \n",
            "1 2 3     3 2 1 \n",
            "1 2 3 4 4 3 2 1 \n"
          ]
        }
      ],
      "source": [
        "n=int(input('Enter the no of rows:'))\n",
        "for i in range(1,n):\n",
        "  for j in range(i):\n",
        "    print(j+1,end=\" \")\n",
        "  for j in range(2*(n-i-1)):\n",
        "    print(\" \",end=\" \")\n",
        "  for j in range(i,0,-1):\n",
        "    print(j,end=\" \")\n",
        "  print()"
      ]
    },
    {
      "cell_type": "code",
      "execution_count": null,
      "metadata": {},
      "outputs": [],
      "source": [
        "def  contalpha(n):\n",
        "    num = 65\n",
        "    for i in range(0, n): \n",
        "        for j in range(0, i+1): \n",
        "            ch = chr(num)   \n",
        "            print(ch, end=\" \") \n",
        "            num = num +1\n",
        "        print(\"\\r\") \n",
        "  \n",
        "# Driver code \n",
        "n = 5\n",
        "contalpha(n)"
      ]
    },
    {
      "cell_type": "code",
      "execution_count": null,
      "metadata": {},
      "outputs": [],
      "source": [
        "for i in range(1,5):\n",
        "  for j in range(1,i+1):\n",
        "    print(j,end='')\n",
        "  for k in range(i-1,0,-1):\n",
        "    print(k,end='')\n",
        "  print()\n",
        "\n",
        "\n",
        "1\n",
        "121\n",
        "12321\n",
        "1234321"
      ]
    },
    {
      "cell_type": "code",
      "execution_count": null,
      "metadata": {},
      "outputs": [],
      "source": []
    }
  ],
  "metadata": {
    "colab": {
      "collapsed_sections": [],
      "name": "Pattern_Example.ipynb",
      "provenance": []
    },
    "kernelspec": {
      "display_name": "Python 3",
      "name": "python3"
    }
  },
  "nbformat": 4,
  "nbformat_minor": 0
}
