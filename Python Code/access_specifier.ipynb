{
  "nbformat": 4,
  "nbformat_minor": 0,
  "metadata": {
    "colab": {
      "provenance": []
    },
    "kernelspec": {
      "name": "python3",
      "display_name": "Python 3"
    },
    "language_info": {
      "name": "python"
    }
  },
  "cells": [
    {
      "cell_type": "markdown",
      "source": [
        "### Access modifier\n",
        "\n",
        "1.   Public \n",
        "2.   Private\n",
        "3.   Protected\n",
        "\n"
      ],
      "metadata": {
        "id": "X3yUDKh77cOn"
      }
    },
    {
      "cell_type": "markdown",
      "source": [
        "#### 1.Public \n",
        "#### all the variable and method in python are by defult public.\n"
      ],
      "metadata": {
        "id": "rZpvK9J98has"
      }
    },
    {
      "cell_type": "code",
      "execution_count": null,
      "metadata": {
        "colab": {
          "base_uri": "https://localhost:8080/"
        },
        "id": "RheFNzXJ5x0y",
        "outputId": "859e2b7a-9f3f-4634-e619-0d9bed75f5e9"
      },
      "outputs": [
        {
          "output_type": "stream",
          "name": "stdout",
          "text": [
            "Nitesh\n"
          ]
        }
      ],
      "source": [
        "class Student:\n",
        "  def __init__(self):\n",
        "    self.name='Nitesh'\n",
        "\n",
        "a=Student()\n",
        "print(a.name) # used directly becuase of public scope"
      ]
    },
    {
      "cell_type": "markdown",
      "source": [
        "#### Private Access Modifier\n",
        "#### Private member of class either it is variable or method are only accessible inside the class.we can not use private members outside of class."
      ],
      "metadata": {
        "id": "_L2e-EBA9NhB"
      }
    },
    {
      "cell_type": "code",
      "source": [
        "class Student:\n",
        "  def __init__(self):\n",
        "    self.__name='Nitesh'\n",
        "\n",
        "s=Student()\n",
        "print(s.__name) ## not directly access the private variable\n"
      ],
      "metadata": {
        "colab": {
          "base_uri": "https://localhost:8080/",
          "height": 201
        },
        "id": "KcbFjDIO7zM-",
        "outputId": "22af18f3-ed83-4a92-c772-841a8d7331c0"
      },
      "execution_count": null,
      "outputs": [
        {
          "output_type": "error",
          "ename": "AttributeError",
          "evalue": "ignored",
          "traceback": [
            "\u001b[0;31m---------------------------------------------------------------------------\u001b[0m",
            "\u001b[0;31mAttributeError\u001b[0m                            Traceback (most recent call last)",
            "\u001b[0;32m<ipython-input-8-6d5088d71a14>\u001b[0m in \u001b[0;36m<cell line: 6>\u001b[0;34m()\u001b[0m\n\u001b[1;32m      4\u001b[0m \u001b[0;34m\u001b[0m\u001b[0m\n\u001b[1;32m      5\u001b[0m \u001b[0ms\u001b[0m\u001b[0;34m=\u001b[0m\u001b[0mStudent\u001b[0m\u001b[0;34m(\u001b[0m\u001b[0;34m)\u001b[0m\u001b[0;34m\u001b[0m\u001b[0;34m\u001b[0m\u001b[0m\n\u001b[0;32m----> 6\u001b[0;31m \u001b[0mprint\u001b[0m\u001b[0;34m(\u001b[0m\u001b[0ms\u001b[0m\u001b[0;34m.\u001b[0m\u001b[0m__name\u001b[0m\u001b[0;34m)\u001b[0m\u001b[0;34m\u001b[0m\u001b[0;34m\u001b[0m\u001b[0m\n\u001b[0m",
            "\u001b[0;31mAttributeError\u001b[0m: 'Student' object has no attribute '__name'"
          ]
        }
      ]
    },
    {
      "cell_type": "code",
      "source": [
        "class Student:\n",
        "  def __init__(self):\n",
        "    self.__name='Nitesh'\n",
        "\n",
        "s=Student()\n",
        "print(s._Student__name) ##access indirectly using name mangling method (object_name._className__arName)"
      ],
      "metadata": {
        "colab": {
          "base_uri": "https://localhost:8080/"
        },
        "id": "x9j42boa71pK",
        "outputId": "f0b14921-65d6-4b78-fc98-cf362250ba1a"
      },
      "execution_count": null,
      "outputs": [
        {
          "output_type": "stream",
          "name": "stdout",
          "text": [
            "Nitesh\n"
          ]
        }
      ]
    },
    {
      "cell_type": "markdown",
      "source": [
        "### 3.Protected Access Modifier\n",
        "It is used to describe a member of a class that is intended to be accessed only by the class itself and by its subclass\n",
        "\n",
        "**syntax-**\n",
        "_varName(variable name followed by single underscore)"
      ],
      "metadata": {
        "id": "buR4sSOJ-v3x"
      }
    },
    {
      "cell_type": "code",
      "source": [
        "class Student:\n",
        "  def __init__(self):\n",
        "    self._name='Nitesh'\n",
        "  \n",
        "  def _fullName(self):  # Protected Method\n",
        "    return 'Nitesh Pandey'\n",
        "  \n",
        "class Subject(Student): # Inherited Class\n",
        "  def marks(self):\n",
        "    return self.marks\n",
        "\n"
      ],
      "metadata": {
        "id": "zW5oEzXE9-DC"
      },
      "execution_count": null,
      "outputs": []
    },
    {
      "cell_type": "code",
      "source": [
        "s=Student()\n",
        "sub=Subject()"
      ],
      "metadata": {
        "id": "Y4dk3jm_ArBw"
      },
      "execution_count": null,
      "outputs": []
    },
    {
      "cell_type": "code",
      "source": [
        "print(s._fullName())\n",
        "print(sub._fullName())"
      ],
      "metadata": {
        "colab": {
          "base_uri": "https://localhost:8080/"
        },
        "id": "eiPzm4lqA0lf",
        "outputId": "115e57a4-7136-455e-ac34-5759ffa6c3bb"
      },
      "execution_count": null,
      "outputs": [
        {
          "output_type": "stream",
          "name": "stdout",
          "text": [
            "Nitesh Pandey\n",
            "Nitesh Pandey\n"
          ]
        }
      ]
    },
    {
      "cell_type": "code",
      "source": [],
      "metadata": {
        "colab": {
          "base_uri": "https://localhost:8080/",
          "height": 35
        },
        "id": "mrgq33wLA6Tm",
        "outputId": "074c3494-147d-477e-d919-9d01b05a2d5d"
      },
      "execution_count": null,
      "outputs": [
        {
          "output_type": "execute_result",
          "data": {
            "text/plain": [
              "'Nitesh Pandey'"
            ],
            "application/vnd.google.colaboratory.intrinsic+json": {
              "type": "string"
            }
          },
          "metadata": {},
          "execution_count": 17
        }
      ]
    },
    {
      "cell_type": "code",
      "source": [],
      "metadata": {
        "id": "mrQ_v4PjA-1T"
      },
      "execution_count": null,
      "outputs": []
    }
  ]
}