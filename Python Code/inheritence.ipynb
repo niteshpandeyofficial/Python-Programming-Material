{
  "nbformat": 4,
  "nbformat_minor": 0,
  "metadata": {
    "colab": {
      "provenance": []
    },
    "kernelspec": {
      "name": "python3",
      "display_name": "Python 3"
    },
    "language_info": {
      "name": "python"
    }
  },
  "cells": [
    {
      "cell_type": "markdown",
      "source": [
        "###Inheritence\n",
        "\n",
        "\n",
        "1.   Single Inheritence\n",
        "2.   Mulitple Inheritence\n",
        "3.   Multilevel Inheritence\n",
        "4.   Hybrid Inheritence\n",
        "5.   Hierarchy Inheritence\n",
        "6.   Cyclic Inheritence\n",
        "\n",
        "\n"
      ],
      "metadata": {
        "id": "T0KGQ9CC6y8D"
      }
    },
    {
      "cell_type": "markdown",
      "source": [
        "#### 1. Single Inheritence"
      ],
      "metadata": {
        "id": "LScyf_P77Ug5"
      }
    },
    {
      "cell_type": "code",
      "execution_count": null,
      "metadata": {
        "id": "agJcFARs2Cqz"
      },
      "outputs": [],
      "source": [
        "class Employee:\n",
        "  def __init__(self,name,id):\n",
        "    self.name=name\n",
        "    self.id=id\n",
        "  \n",
        "  def showDetails(self):\n",
        "    print(f\"The name of employee is {self.name} and id is {self.id}\");\n",
        "\n"
      ]
    },
    {
      "cell_type": "code",
      "source": [
        "e=Employee('nitesh',213)\n",
        "e.showDetails();"
      ],
      "metadata": {
        "colab": {
          "base_uri": "https://localhost:8080/"
        },
        "id": "TT6_zqNE4ceT",
        "outputId": "d51b83cf-3ead-45e1-bf2e-b244e5a7eb15"
      },
      "execution_count": null,
      "outputs": [
        {
          "output_type": "stream",
          "name": "stdout",
          "text": [
            "The name of employee is nitesh and id is 213\n"
          ]
        }
      ]
    },
    {
      "cell_type": "code",
      "source": [
        "e=Employee('Sarvesh',124)\n",
        "e.showDetails()"
      ],
      "metadata": {
        "colab": {
          "base_uri": "https://localhost:8080/"
        },
        "id": "eM5v-zfI4jhw",
        "outputId": "ee4698aa-f151-4fbb-c269-b5fc8af9bb91"
      },
      "execution_count": null,
      "outputs": [
        {
          "output_type": "stream",
          "name": "stdout",
          "text": [
            "The name of employee is Sarvesh and id is 124\n"
          ]
        }
      ]
    },
    {
      "cell_type": "code",
      "source": [
        "class Programmer(Employee):\n",
        "  def showLanguage(self):\n",
        "    print('Default language is Python');"
      ],
      "metadata": {
        "id": "NlZYxiWr4278"
      },
      "execution_count": null,
      "outputs": []
    },
    {
      "cell_type": "code",
      "source": [
        "p=Programmer('Sam',100)"
      ],
      "metadata": {
        "id": "z_gWdk-M5NQ_"
      },
      "execution_count": null,
      "outputs": []
    },
    {
      "cell_type": "code",
      "source": [
        "p.showDetails()\n",
        "p.showLanguage()"
      ],
      "metadata": {
        "colab": {
          "base_uri": "https://localhost:8080/"
        },
        "id": "VvFPW61j5Ybw",
        "outputId": "c772c19e-d962-44bf-f092-a05db403ec3d"
      },
      "execution_count": null,
      "outputs": [
        {
          "output_type": "stream",
          "name": "stdout",
          "text": [
            "The name of employee is Sam and id is 100\n",
            "Default language is Python\n"
          ]
        }
      ]
    },
    {
      "cell_type": "code",
      "source": [],
      "metadata": {
        "id": "q7V7gtuL5bUp"
      },
      "execution_count": null,
      "outputs": []
    }
  ]
}