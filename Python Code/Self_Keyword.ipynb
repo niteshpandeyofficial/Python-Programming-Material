{
  "nbformat": 4,
  "nbformat_minor": 0,
  "metadata": {
    "colab": {
      "provenance": []
    },
    "kernelspec": {
      "name": "python3",
      "display_name": "Python 3"
    },
    "language_info": {
      "name": "python"
    }
  },
  "cells": [
    {
      "cell_type": "markdown",
      "source": [
        "#### **Self Keywords**\n",
        "##### 1.self is a reference variable which is always pointing to the current object.\n",
        "##### 2. First argument to the method and constructor should be self.\n",
        "##### 3. PVM(Python Virtual Machine) is responsible to provide value for self argument and we are not required to provide explicitly\n",
        "##### 4. By using self we can access instance variables\n",
        "##### 5. By using self we can declare the instnce variables\n",
        "##### 6. Instead of self we can use any name but self is recommended."
      ],
      "metadata": {
        "id": "r4AGKrEaJDWc"
      }
    },
    {
      "cell_type": "code",
      "execution_count": 1,
      "metadata": {
        "colab": {
          "base_uri": "https://localhost:8080/"
        },
        "id": "UTtajNn6JAMR",
        "outputId": "3d9bafc4-5b4f-4685-dd4c-b123158c9718"
      },
      "outputs": [
        {
          "output_type": "stream",
          "name": "stdout",
          "text": [
            "********************\n",
            "Employee number 100\n",
            "Employee name Nitesh\n",
            "Employee salary 25000\n",
            "Employee address MUM\n",
            "********************\n",
            "********************\n",
            "Employee number 101\n",
            "Employee name Sarvesh\n",
            "Employee salary 250000\n",
            "Employee address HYD\n",
            "********************\n"
          ]
        }
      ],
      "source": [
        "# Example\n",
        "class Employee:\n",
        "    def __init__(self,empno,empname,empsalary,empaddr):\n",
        "        self.empno=empno\n",
        "        self.empname=empname\n",
        "        self.empsalary=empsalary\n",
        "        self.empaddr=empaddr\n",
        "        \n",
        "    def info(self):\n",
        "        print('*'*20)\n",
        "        print('Employee number',self.empno)\n",
        "        print('Employee name',self.empname)\n",
        "        print('Employee salary',self.empsalary)\n",
        "        print('Employee address',self.empaddr)\n",
        "        print('*'*20)\n",
        "    \n",
        "e1=Employee(100,'Nitesh',25000,'MUM')\n",
        "e2=Employee(101,'Sarvesh',250000,'HYD')\n",
        "\n",
        "e1.info()\n",
        "e2.info()"
      ]
    },
    {
      "cell_type": "code",
      "source": [],
      "metadata": {
        "id": "7JsFbVdvKBHp"
      },
      "execution_count": null,
      "outputs": []
    }
  ]
}