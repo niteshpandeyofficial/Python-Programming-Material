{
  "nbformat": 4,
  "nbformat_minor": 0,
  "metadata": {
    "colab": {
      "provenance": []
    },
    "kernelspec": {
      "name": "python3",
      "display_name": "Python 3"
    },
    "language_info": {
      "name": "python"
    }
  },
  "cells": [
    {
      "cell_type": "markdown",
      "source": [
        "### Magic/Dunder Method in Python\n",
        "This is a special method that you can define in your classes,and when invoked ,they give you a powerful way to manipulate object and their behaviour."
      ],
      "metadata": {
        "id": "5Q9YTrKxFvo-"
      }
    },
    {
      "cell_type": "code",
      "source": [
        "# Some of Magic method listed below\n",
        "# __init__\n",
        "# __str__\n",
        "# __repr__\n",
        "# __add__\n",
        "# __mul__\n",
        "# __call__\n",
        "# __len__"
      ],
      "metadata": {
        "id": "vuJIarxiJuuK"
      },
      "execution_count": null,
      "outputs": []
    },
    {
      "cell_type": "code",
      "execution_count": 9,
      "metadata": {
        "colab": {
          "base_uri": "https://localhost:8080/"
        },
        "id": "T_4qyeqmBqDb",
        "outputId": "1f04bb39-e25c-45ed-dd40-587c2cacc07a"
      },
      "outputs": [
        {
          "output_type": "stream",
          "name": "stdout",
          "text": [
            "Nitesh\n",
            "6\n",
            "Name of Employee is Nitesh\n"
          ]
        }
      ],
      "source": [
        "class Employee:\n",
        "  def __init__(self,name):\n",
        "    self.name=name\n",
        "\n",
        "  def __len__(self):\n",
        "    i=0\n",
        "    for char in self.name:\n",
        "      i=i+1\n",
        "    return i\n",
        "  \n",
        "  def __str__(self):\n",
        "    return f'Name of Employee is {self.name}'\n",
        "  \n",
        "  def __repr__(self):\n",
        "    return f'repr method,Name of Employee is {self.name} '\n",
        "\n",
        "  def __call__(self):\n",
        "    return 'call method called'\n",
        "\n",
        "e=Employee('Nitesh')\n",
        "print(e.name) # print Nitesh\n",
        "print(len(e)) # return length of name variable\n",
        "print(e) # By default it called str method\n",
        "e()"
      ]
    },
    {
      "cell_type": "code",
      "source": [],
      "metadata": {
        "id": "0XjeTLh6GSIx"
      },
      "execution_count": null,
      "outputs": []
    }
  ]
}