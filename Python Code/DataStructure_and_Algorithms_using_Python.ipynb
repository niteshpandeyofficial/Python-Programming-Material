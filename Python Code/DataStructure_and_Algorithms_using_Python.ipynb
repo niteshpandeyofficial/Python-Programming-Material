{
  "nbformat": 4,
  "nbformat_minor": 0,
  "metadata": {
    "colab": {
      "provenance": []
    },
    "kernelspec": {
      "name": "python3",
      "display_name": "Python 3"
    },
    "language_info": {
      "name": "python"
    }
  },
  "cells": [
    {
      "cell_type": "code",
      "execution_count": null,
      "metadata": {
        "colab": {
          "base_uri": "https://localhost:8080/"
        },
        "id": "tWrzY8z2NIBi",
        "outputId": "8059207c-495d-498a-cdb1-6d437162be3f"
      },
      "outputs": [
        {
          "output_type": "stream",
          "name": "stdout",
          "text": [
            "10\n",
            "24\n"
          ]
        }
      ],
      "source": [
        "l=[1,2,3,4]\n",
        "#Time complexity -o(n)\n",
        "sum=0\n",
        "for i in l:\n",
        "  sum=sum+i\n",
        "print(sum)\n",
        "\n",
        "#Time complexity -o(n)\n",
        "prod=1\n",
        "for i in l:\n",
        "  prod=prod*i\n",
        "print(prod)\n",
        "\n",
        "'''\n",
        "Total time complexity\n",
        "  =o(n)+o(n)\n",
        "  =o(2n)\n",
        "  =o(n) --linear\n",
        "'''"
      ]
    },
    {
      "cell_type": "code",
      "source": [
        "l=[1,2,3,4]\n",
        "for i in l:\n",
        "  for j in l:\n",
        "    print(f'{i,j}')\n",
        "\n",
        "\"\"\"\n",
        "Time Complexity\n",
        "outer loop-o(n)\n",
        "inner loop-o(n)\n",
        "\n",
        "complete loop-\n",
        "o(n)xo(n)\n",
        "o(nxn)\n",
        "o(n^2) ---quadratic\n",
        "\"\"\""
      ],
      "metadata": {
        "colab": {
          "base_uri": "https://localhost:8080/"
        },
        "id": "BKGwbiyBOXCD",
        "outputId": "bfd6e986-39f3-42d2-b5a3-4061cda75ea8"
      },
      "execution_count": null,
      "outputs": [
        {
          "output_type": "stream",
          "name": "stdout",
          "text": [
            "(1, 1)\n",
            "(1, 2)\n",
            "(1, 3)\n",
            "(1, 4)\n",
            "(2, 1)\n",
            "(2, 2)\n",
            "(2, 3)\n",
            "(2, 4)\n",
            "(3, 1)\n",
            "(3, 2)\n",
            "(3, 3)\n",
            "(3, 4)\n",
            "(4, 1)\n",
            "(4, 2)\n",
            "(4, 3)\n",
            "(4, 4)\n"
          ]
        }
      ]
    },
    {
      "cell_type": "code",
      "source": [
        "import ctypes"
      ],
      "metadata": {
        "id": "jhoXe1hhPDdw"
      },
      "execution_count": null,
      "outputs": []
    },
    {
      "cell_type": "code",
      "source": [
        "class OwnList:\n",
        "  def __init__(self):\n",
        "    self.size=1\n",
        "    self.n=0\n",
        "\n",
        "  #create c type array with size=self.size\n",
        "    self.arr=self.__create_array(self.size)\n",
        "\n",
        "  #create list functionality\n",
        "  def __create_array(self,capacity):\n",
        "    return (capacity*ctypes.py_object)()\n",
        "\n",
        "  #Append functionality\n",
        "  def append(self,item):\n",
        "    #check whether elelemt present in list or not\n",
        "    if self.n==self.size:\n",
        "      #resize code\n",
        "      self.__resize(self.size*2)\n",
        "\n",
        "      #append\n",
        "      self.arr[self.n]=item\n",
        "      self.n=self.n+1\n",
        "\n",
        "  def __resize(self,new_capacity):\n",
        "    b=self.__create_array(new_capacity)\n",
        "    self.size=new_capacity\n",
        "    for i in range(self.n):\n",
        "      b[i]=self.arr[i]\n",
        "      self.arr=b\n",
        "\n",
        "  #length functionality\n",
        "  def __len__(self):\n",
        "    return self.n\n"
      ],
      "metadata": {
        "id": "6MoDfn9eQkrX"
      },
      "execution_count": null,
      "outputs": []
    },
    {
      "cell_type": "code",
      "source": [
        "l=OwnList()"
      ],
      "metadata": {
        "id": "UYsG6ONTRqox"
      },
      "execution_count": null,
      "outputs": []
    },
    {
      "cell_type": "code",
      "source": [
        "type(l)"
      ],
      "metadata": {
        "colab": {
          "base_uri": "https://localhost:8080/"
        },
        "id": "HQaWHAESSJNQ",
        "outputId": "a9dfa506-027f-4c16-da1e-6e5ed414cc57"
      },
      "execution_count": null,
      "outputs": [
        {
          "output_type": "execute_result",
          "data": {
            "text/plain": [
              "__main__.OwnList"
            ]
          },
          "metadata": {},
          "execution_count": 12
        }
      ]
    },
    {
      "cell_type": "code",
      "source": [
        "l.append('3')\n",
        "l.append('Hello')\n",
        "l.append(True)"
      ],
      "metadata": {
        "id": "qb9EMarTSbxU"
      },
      "execution_count": null,
      "outputs": []
    },
    {
      "cell_type": "code",
      "source": [
        "import sys\n",
        "sys.getsizeof(l)"
      ],
      "metadata": {
        "colab": {
          "base_uri": "https://localhost:8080/"
        },
        "id": "89AsZpWzU6Ip",
        "outputId": "e8f04817-e972-4b97-bb34-0c2aaeaae82e"
      },
      "execution_count": null,
      "outputs": [
        {
          "output_type": "execute_result",
          "data": {
            "text/plain": [
              "48"
            ]
          },
          "metadata": {},
          "execution_count": 26
        }
      ]
    },
    {
      "cell_type": "markdown",
      "source": [
        "####Linked List"
      ],
      "metadata": {
        "id": "ZKiGkrN1BMSS"
      }
    },
    {
      "cell_type": "markdown",
      "source": [
        "A linked list is a linear data structure, in which the elements are not stored at contiguous memory locations. The elements in a linked list are linked using pointers."
      ],
      "metadata": {
        "id": "I5wIHVMPPiij"
      }
    },
    {
      "cell_type": "code",
      "source": [
        "#Create a node\n",
        "class Node:\n",
        "  def __init__(self,value):\n",
        "    self.data=value\n",
        "    self.next=None"
      ],
      "metadata": {
        "id": "g6NSScR_U9Yo"
      },
      "execution_count": null,
      "outputs": []
    },
    {
      "cell_type": "code",
      "source": [
        "a=Node(1)\n"
      ],
      "metadata": {
        "id": "AXn-klKMBn1N"
      },
      "execution_count": null,
      "outputs": []
    },
    {
      "cell_type": "code",
      "source": [
        "print(a.data)\n",
        "print(a.next)"
      ],
      "metadata": {
        "colab": {
          "base_uri": "https://localhost:8080/"
        },
        "id": "SM-H_bPLBpkO",
        "outputId": "60bf03d9-0431-49ac-9ffe-ebad2715d79c"
      },
      "execution_count": null,
      "outputs": [
        {
          "output_type": "stream",
          "name": "stdout",
          "text": [
            "1\n",
            "None\n"
          ]
        }
      ]
    },
    {
      "cell_type": "code",
      "source": [
        "class Node:\n",
        "  def __init__(self,value):\n",
        "    self.data=value\n",
        "    self.next=None\n",
        "\n",
        "class LinkedList:\n",
        "  def __init__(self):\n",
        "    #Empty Linked List\n",
        "    self.head=None\n",
        "    self.n=0\n",
        "\n",
        "  #No of node in LL\n",
        "  def __len__(self):\n",
        "    return self.n\n",
        "\n",
        "  def insert_head(self,value):\n",
        "    #new node\n",
        "    new_node=Node(value)\n",
        "    #create connection\n",
        "    new_node.next=self.head\n",
        "    #reassign head\n",
        "    self.head=new_node\n",
        "    #increment n\n",
        "    self.n=self.n+1\n",
        "\n",
        "\n",
        "  def traverse(self):\n",
        "    curr=self.head\n",
        "    while curr!=None:\n",
        "      print(curr.data)\n",
        "      curr=curr.next\n",
        "\n",
        "  #append at last\n",
        "  def append(self,value):\n",
        "    new_node=Node(value)\n",
        "    if self.head==None:\n",
        "      self.head=new_node\n",
        "      self.n=self.n+1\n",
        "      return\n",
        "\n",
        "    curr=self.head\n",
        "    while curr.next!=None:\n",
        "      curr=curr.next\n",
        "\n",
        "    curr.next=new_node\n",
        "    self.n=self.n+1\n",
        "\n",
        "  def clear(self):\n",
        "    self.head=None\n",
        "    self.n=0\n",
        "\n",
        "  def delete_head(self):\n",
        "    if self.head==None:\n",
        "      return 'Empty LinkList'\n",
        "    self.head=self.head.next\n",
        "\n",
        "  def replace_with_max(self,value):\n",
        "    temp=self.head\n",
        "    max=temp\n",
        "\n",
        "    while temp!=None:\n",
        "      if temp.data>max.data:\n",
        "        max=temp\n",
        "      temp=temp.next\n",
        "    max.data=value\n",
        "\n",
        "\n",
        "  def add_odd_index_value(self):\n",
        "    cnt=0\n",
        "    res=0\n",
        "    temp=self.head\n",
        "\n",
        "    while temp!=None:\n",
        "      if cnt%2!=0:\n",
        "        res=res+temp.data\n",
        "      cnt=cnt+1\n",
        "      temp=temp.next\n",
        "    print(res)\n",
        "\n",
        "  def ll_reversed(self):\n",
        "    prev_node=None\n",
        "    curr_node=self.head\n",
        "\n",
        "    while curr_node!=None:\n",
        "      next_node=curr_node.next\n",
        "      curr_node.next=prev_node\n",
        "      prev_node=curr_node\n",
        "      curr_node=next_node\n",
        "    self.head=prev_node\n",
        "\n",
        "\n",
        "  def sentance_change(self):\n",
        "    temp=self.head\n",
        "    while temp!=None:\n",
        "      if temp.data=='*' or temp.data=='/':\n",
        "        temp.data=' '\n",
        "        if temp.next.data=='*' or temp.next.data=='/':\n",
        "          temp.next.next.data=temp.next.next.data.upper()\n",
        "          temp.next=temp.next.next\n",
        "\n",
        "      temp=temp.next\n",
        "\n"
      ],
      "metadata": {
        "id": "QPS9f-F5Bw0S"
      },
      "execution_count": null,
      "outputs": []
    },
    {
      "cell_type": "code",
      "source": [
        "l=LinkedList()\n",
        "l.insert_head(1)\n",
        "l.insert_head(2)\n",
        "l.insert_head(3)\n",
        "l.insert_head(4)\n",
        "l.traverse()\n"
      ],
      "metadata": {
        "id": "V4muRdvUNTd9",
        "colab": {
          "base_uri": "https://localhost:8080/"
        },
        "outputId": "1a640b98-d650-4de6-cd48-b163cdfe8a90"
      },
      "execution_count": null,
      "outputs": [
        {
          "output_type": "stream",
          "name": "stdout",
          "text": [
            "4\n",
            "3\n",
            "2\n",
            "1\n"
          ]
        }
      ]
    },
    {
      "cell_type": "code",
      "source": [
        "l.append(5)\n",
        "l.traverse()"
      ],
      "metadata": {
        "id": "ywWBpKxqNTaf",
        "colab": {
          "base_uri": "https://localhost:8080/"
        },
        "outputId": "6660353f-d7ff-4173-cfa7-96bc4496ac97"
      },
      "execution_count": null,
      "outputs": [
        {
          "output_type": "stream",
          "name": "stdout",
          "text": [
            "4\n",
            "3\n",
            "2\n",
            "1\n",
            "5\n"
          ]
        }
      ]
    },
    {
      "cell_type": "code",
      "source": [
        "l=LinkedList()\n",
        "l.append(4)\n",
        "l.traverse()"
      ],
      "metadata": {
        "id": "MRAmT5xnNTTd",
        "colab": {
          "base_uri": "https://localhost:8080/"
        },
        "outputId": "b4baaae5-ff3c-4f61-ef00-319c0b596ab2"
      },
      "execution_count": null,
      "outputs": [
        {
          "output_type": "stream",
          "name": "stdout",
          "text": [
            "4\n"
          ]
        }
      ]
    },
    {
      "cell_type": "code",
      "source": [
        "l.clear()\n",
        "l.traverse()"
      ],
      "metadata": {
        "id": "6bQMTuTd4r-_"
      },
      "execution_count": null,
      "outputs": []
    },
    {
      "cell_type": "code",
      "source": [
        "l.append(5)\n",
        "l.traverse()"
      ],
      "metadata": {
        "colab": {
          "base_uri": "https://localhost:8080/"
        },
        "id": "b0Ku2ZI-7WnD",
        "outputId": "bdef9a48-acc6-4650-ca4d-56c675f9c85e"
      },
      "execution_count": null,
      "outputs": [
        {
          "output_type": "stream",
          "name": "stdout",
          "text": [
            "5\n"
          ]
        }
      ]
    },
    {
      "cell_type": "code",
      "source": [
        "l.delete_head()\n",
        "l.traverse()\n"
      ],
      "metadata": {
        "id": "YUB94z4gBSsj"
      },
      "execution_count": null,
      "outputs": []
    },
    {
      "cell_type": "code",
      "source": [
        "l.replace_with_max(43)\n",
        "l.traverse()"
      ],
      "metadata": {
        "id": "aKyU6OhFBlso",
        "colab": {
          "base_uri": "https://localhost:8080/"
        },
        "outputId": "20ebd071-ca7a-48f3-ecba-77216c81af77"
      },
      "execution_count": null,
      "outputs": [
        {
          "output_type": "stream",
          "name": "stdout",
          "text": [
            "43\n"
          ]
        }
      ]
    },
    {
      "cell_type": "code",
      "source": [
        "l.add_odd_index_value() #sum of odd index value is 4"
      ],
      "metadata": {
        "colab": {
          "base_uri": "https://localhost:8080/"
        },
        "id": "lZoeYvOc5qn5",
        "outputId": "72b862fc-70dc-4f63-f717-9c2314950107"
      },
      "execution_count": null,
      "outputs": [
        {
          "output_type": "stream",
          "name": "stdout",
          "text": [
            "4\n"
          ]
        }
      ]
    },
    {
      "cell_type": "code",
      "source": [
        "l.traverse()"
      ],
      "metadata": {
        "colab": {
          "base_uri": "https://localhost:8080/"
        },
        "id": "e83L2GEi7IBl",
        "outputId": "c43aa709-942c-4ea3-8e07-44f5300c9ea6"
      },
      "execution_count": null,
      "outputs": [
        {
          "output_type": "stream",
          "name": "stdout",
          "text": [
            "4\n",
            "3\n",
            "2\n",
            "1\n"
          ]
        }
      ]
    },
    {
      "cell_type": "code",
      "source": [
        "l=LinkedList()\n",
        "l.insert_head(1)\n",
        "l.insert_head(2)\n",
        "l.insert_head(3)\n",
        "l.insert_head(4)"
      ],
      "metadata": {
        "id": "v7ODwZsw7NI0"
      },
      "execution_count": null,
      "outputs": []
    },
    {
      "cell_type": "code",
      "source": [
        "l.traverse()"
      ],
      "metadata": {
        "colab": {
          "base_uri": "https://localhost:8080/"
        },
        "id": "B4rWsygl_60r",
        "outputId": "0b57c15b-916f-43fd-cb33-cc2c7ef88827"
      },
      "execution_count": null,
      "outputs": [
        {
          "output_type": "stream",
          "name": "stdout",
          "text": [
            "4\n",
            "3\n",
            "2\n",
            "1\n"
          ]
        }
      ]
    },
    {
      "cell_type": "code",
      "source": [
        "l.ll_reversed()\n",
        "l.traverse()"
      ],
      "metadata": {
        "colab": {
          "base_uri": "https://localhost:8080/"
        },
        "id": "W8G9ht2t_89q",
        "outputId": "289a0864-5038-4805-98e3-8589ae3ffd62"
      },
      "execution_count": null,
      "outputs": [
        {
          "output_type": "stream",
          "name": "stdout",
          "text": [
            "1\n",
            "2\n",
            "3\n",
            "4\n"
          ]
        }
      ]
    },
    {
      "cell_type": "code",
      "source": [
        "l=LinkedList()\n",
        "l.insert_head(\"T\")\n",
        "l.insert_head(\"h\")\n",
        "l.insert_head(\"e\")\n",
        "l.insert_head(\"/\")\n",
        "l.insert_head(\"*\")\n",
        "l.insert_head(\"s\")\n",
        "l.insert_head(\"k\")\n",
        "l.insert_head(\"y\")\n",
        "l.insert_head(\"*\")\n",
        "l.insert_head(\"i\")\n",
        "l.insert_head(\"s\")\n",
        "l.insert_head(\"/\")\n",
        "l.insert_head(\"/\")\n",
        "l.insert_head(\"b\")\n",
        "l.insert_head(\"l\")\n",
        "l.insert_head(\"u\")\n",
        "l.insert_head(\"e\")\n",
        "l.ll_reversed()\n",
        "l.traverse()"
      ],
      "metadata": {
        "colab": {
          "base_uri": "https://localhost:8080/"
        },
        "id": "XdAHfG8w__r4",
        "outputId": "8b714f7c-d811-4edc-b750-c5b0ff674c73"
      },
      "execution_count": null,
      "outputs": [
        {
          "output_type": "stream",
          "name": "stdout",
          "text": [
            "T\n",
            "h\n",
            "e\n",
            "/\n",
            "*\n",
            "s\n",
            "k\n",
            "y\n",
            "*\n",
            "i\n",
            "s\n",
            "/\n",
            "/\n",
            "b\n",
            "l\n",
            "u\n",
            "e\n"
          ]
        }
      ]
    },
    {
      "cell_type": "code",
      "source": [
        "l.sentance_change()\n",
        "l.traverse()"
      ],
      "metadata": {
        "id": "x1opuj6DCLD7"
      },
      "execution_count": null,
      "outputs": []
    },
    {
      "cell_type": "code",
      "source": [
        "class Node:\n",
        "  def __init__(self,value):\n",
        "    self.data=value\n",
        "    self.next=None\n"
      ],
      "metadata": {
        "id": "_6lTL5WrCQ1i"
      },
      "execution_count": null,
      "outputs": []
    },
    {
      "cell_type": "code",
      "source": [
        "class Stack:\n",
        "  def __init__(self):\n",
        "    self.top=None\n",
        "\n",
        "  def isempty(self):\n",
        "    return self.top==None\n",
        "\n",
        "  def push(self,value):\n",
        "    new_node=Node(value)\n",
        "    new_node.next=self.top\n",
        "    self.top=new_node\n",
        "\n",
        "  def traversal(self):\n",
        "    temp=self.top\n",
        "    while temp!=None:\n",
        "      print(temp.data)\n",
        "      temp=temp.next\n",
        "\n",
        "  def peek(self):\n",
        "    if (self.isempty()):\n",
        "      return 'Stack Empty'\n",
        "    else:\n",
        "      return self.top.data\n",
        "\n",
        "  def pop(self):\n",
        "    if (self.isempty()):\n",
        "      return \"Stack Empty\"\n",
        "    else:\n",
        "      data=self.top.data\n",
        "      self.top=self.top.next\n",
        "      return data"
      ],
      "metadata": {
        "id": "0QDFdzizagPH"
      },
      "execution_count": null,
      "outputs": []
    },
    {
      "cell_type": "code",
      "source": [
        "s=Stack()"
      ],
      "metadata": {
        "id": "GyNuwvmHcjYG"
      },
      "execution_count": null,
      "outputs": []
    },
    {
      "cell_type": "code",
      "source": [
        "s.isempty()"
      ],
      "metadata": {
        "colab": {
          "base_uri": "https://localhost:8080/"
        },
        "id": "QZHTURXFclvN",
        "outputId": "f3e9642a-f410-421b-aadd-46b40ab8e9a6"
      },
      "execution_count": null,
      "outputs": [
        {
          "output_type": "execute_result",
          "data": {
            "text/plain": [
              "True"
            ]
          },
          "metadata": {},
          "execution_count": 30
        }
      ]
    },
    {
      "cell_type": "code",
      "source": [
        "s.push(4)\n",
        "s.push(3)\n",
        "s.push(5)\n",
        "s.push(7)\n",
        "s.push(9)"
      ],
      "metadata": {
        "id": "tePkvgJ-cn_G"
      },
      "execution_count": null,
      "outputs": []
    },
    {
      "cell_type": "code",
      "source": [
        "s.traversal()"
      ],
      "metadata": {
        "colab": {
          "base_uri": "https://localhost:8080/"
        },
        "id": "UIwuP2JkctkU",
        "outputId": "cceec339-d701-4425-d4fb-3b4167fc3dbf"
      },
      "execution_count": null,
      "outputs": [
        {
          "output_type": "stream",
          "name": "stdout",
          "text": [
            "9\n",
            "7\n",
            "5\n",
            "3\n",
            "4\n"
          ]
        }
      ]
    },
    {
      "cell_type": "code",
      "source": [
        "s.peek()"
      ],
      "metadata": {
        "colab": {
          "base_uri": "https://localhost:8080/"
        },
        "id": "xd5mDHHrcvw5",
        "outputId": "68836167-3f83-4aaa-d005-ef4c65086897"
      },
      "execution_count": null,
      "outputs": [
        {
          "output_type": "execute_result",
          "data": {
            "text/plain": [
              "9"
            ]
          },
          "metadata": {},
          "execution_count": 37
        }
      ]
    },
    {
      "cell_type": "code",
      "source": [
        "s.pop()"
      ],
      "metadata": {
        "id": "POi3hfQtnc2d"
      },
      "execution_count": null,
      "outputs": []
    },
    {
      "cell_type": "code",
      "source": [
        "s.peek()"
      ],
      "metadata": {
        "colab": {
          "base_uri": "https://localhost:8080/"
        },
        "id": "_ppaYCkdnfWO",
        "outputId": "9b5727a8-a1e3-4fd0-dbed-dcc6b760402f"
      },
      "execution_count": null,
      "outputs": [
        {
          "output_type": "execute_result",
          "data": {
            "text/plain": [
              "7"
            ]
          },
          "metadata": {},
          "execution_count": 39
        }
      ]
    },
    {
      "cell_type": "code",
      "source": [
        " def string_reverse(text):\n",
        "  s=Stack()\n",
        "  for i in text:\n",
        "    s.push(i)\n",
        "\n",
        "  res=\"\"\n",
        "  while(not s.isempty()):\n",
        "    res=res+s.pop()\n",
        "  print(res)"
      ],
      "metadata": {
        "id": "GAYpUhqVngtH"
      },
      "execution_count": null,
      "outputs": []
    },
    {
      "cell_type": "code",
      "source": [
        "string_reverse('Nitesh')"
      ],
      "metadata": {
        "colab": {
          "base_uri": "https://localhost:8080/"
        },
        "id": "JhrXGqaHsw8Y",
        "outputId": "6e6d6f68-eb2f-412b-d65e-8577189dad29"
      },
      "execution_count": null,
      "outputs": [
        {
          "output_type": "stream",
          "name": "stdout",
          "text": [
            "hsetiN\n"
          ]
        }
      ]
    },
    {
      "cell_type": "code",
      "source": [
        "def pattern_solve_stack(text,pattern):\n",
        "  u=Stack()\n",
        "  r=Stack()\n",
        "\n",
        "  for i in text:\n",
        "    u.push(i)\n",
        "\n",
        "  for i in pattern:\n",
        "    if i=='u':\n",
        "      data=u.pop()\n",
        "      r.push(data)\n",
        "    else:\n",
        "      data=r.pop()\n",
        "      u.push(data)\n",
        "  res=''\n",
        "  while(not u.isempty()):\n",
        "    res=u.pop()+res\n",
        "  print(res)\n",
        "\n",
        "\n"
      ],
      "metadata": {
        "id": "oHxEXQz_szCl"
      },
      "execution_count": null,
      "outputs": []
    },
    {
      "cell_type": "code",
      "source": [
        "pattern_solve_stack('kolkata','uuruu')"
      ],
      "metadata": {
        "colab": {
          "base_uri": "https://localhost:8080/"
        },
        "id": "qGbgc3mt0ejU",
        "outputId": "9384920a-1abb-4742-a66a-fe25b87c8823"
      },
      "execution_count": null,
      "outputs": [
        {
          "output_type": "stream",
          "name": "stdout",
          "text": [
            "kolk\n"
          ]
        }
      ]
    },
    {
      "cell_type": "markdown",
      "source": [
        "Queue Using Linked List"
      ],
      "metadata": {
        "id": "lvdbsJiHJABN"
      }
    },
    {
      "cell_type": "code",
      "source": [
        "class Node:\n",
        "  def __init__(self,value):\n",
        "    self.data=value\n",
        "    self.next=None"
      ],
      "metadata": {
        "id": "0kVHCfS56UCb"
      },
      "execution_count": null,
      "outputs": []
    },
    {
      "cell_type": "code",
      "source": [
        "class Queue:\n",
        "  def __init__(self):\n",
        "    self.front=None\n",
        "    self.rear=None\n",
        "\n",
        "  def enqueue(self,value):\n",
        "    new_node=Node(value)\n",
        "    if self.rear==None:\n",
        "      self.front=new_node\n",
        "      self.rear=self.front\n",
        "    else:\n",
        "      self.rear.next=new_node\n",
        "      self.rear=new_node\n",
        "\n",
        "  def is_empty(self):\n",
        "    if self.front==None:\n",
        "      return True\n",
        "    else:\n",
        "      return False\n",
        "\n",
        "  def size(self):\n",
        "    temp=self.front\n",
        "    cnt=0\n",
        "    while temp!=None:\n",
        "      cnt+=1\n",
        "      temp=temp.next\n",
        "    return cnt\n",
        "\n",
        "  def front_item(self):\n",
        "    if self.front==None:\n",
        "      return 'Empty'\n",
        "    else:\n",
        "      return self.front.data\n",
        "\n",
        "  def rear_item(self):\n",
        "    if self.rear==None:\n",
        "      return 'Empty'\n",
        "    else:\n",
        "      return self.rear.data\n",
        "\n",
        "\n",
        "  def dequeue(self):\n",
        "    if self.front==None:\n",
        "      return 'Empty'\n",
        "    else:\n",
        "      self.front=self.front.next\n",
        "\n",
        "  def traverse(self):\n",
        "    temp=self.front\n",
        "    while temp!=None:\n",
        "      print(temp.data,end='')\n",
        "      temp=temp.next\n",
        "\n"
      ],
      "metadata": {
        "id": "wMM50OnMJQKw"
      },
      "execution_count": null,
      "outputs": []
    },
    {
      "cell_type": "code",
      "source": [
        "q=Queue()\n"
      ],
      "metadata": {
        "id": "ff1nb0e_Lqtl"
      },
      "execution_count": null,
      "outputs": []
    },
    {
      "cell_type": "code",
      "source": [
        "q.enqueue(4)\n",
        "q.enqueue(5)\n",
        "q.enqueue(7)"
      ],
      "metadata": {
        "id": "c0ahLoGGLtxW"
      },
      "execution_count": null,
      "outputs": []
    },
    {
      "cell_type": "code",
      "source": [
        "q.traverse()"
      ],
      "metadata": {
        "colab": {
          "base_uri": "https://localhost:8080/"
        },
        "id": "IVLcoycPLycM",
        "outputId": "c9ec2554-9f8b-4288-e0c8-d2e9841e9510"
      },
      "execution_count": null,
      "outputs": [
        {
          "output_type": "stream",
          "name": "stdout",
          "text": [
            "4\n",
            "5\n",
            "7\n"
          ]
        }
      ]
    },
    {
      "cell_type": "code",
      "source": [
        "q.dequeue()\n",
        "q.traverse()"
      ],
      "metadata": {
        "colab": {
          "base_uri": "https://localhost:8080/"
        },
        "id": "nG7fPd7eL2AN",
        "outputId": "0d8b440b-d562-4f33-e1f5-047b1c7cad9a"
      },
      "execution_count": null,
      "outputs": [
        {
          "output_type": "stream",
          "name": "stdout",
          "text": [
            "5\n",
            "7\n"
          ]
        }
      ]
    },
    {
      "cell_type": "code",
      "source": [
        "q.dequeue()\n",
        "q.traverse()"
      ],
      "metadata": {
        "colab": {
          "base_uri": "https://localhost:8080/"
        },
        "id": "E3vmg17oL7YW",
        "outputId": "d7c82bb7-a1b3-4aeb-d960-78630fb4871a"
      },
      "execution_count": null,
      "outputs": [
        {
          "output_type": "stream",
          "name": "stdout",
          "text": [
            "7\n"
          ]
        }
      ]
    },
    {
      "cell_type": "code",
      "source": [
        "q.dequeue()\n",
        "q.traverse()"
      ],
      "metadata": {
        "id": "gBic3hLWL8tB"
      },
      "execution_count": null,
      "outputs": []
    },
    {
      "cell_type": "code",
      "source": [
        "q.dequeue()"
      ],
      "metadata": {
        "colab": {
          "base_uri": "https://localhost:8080/",
          "height": 35
        },
        "id": "xepsnnBUL9m2",
        "outputId": "94b59a79-b48e-4314-f8ad-22270f66369d"
      },
      "execution_count": null,
      "outputs": [
        {
          "output_type": "execute_result",
          "data": {
            "text/plain": [
              "'Empty'"
            ],
            "application/vnd.google.colaboratory.intrinsic+json": {
              "type": "string"
            }
          },
          "metadata": {},
          "execution_count": 60
        }
      ]
    },
    {
      "cell_type": "code",
      "source": [
        "q.is_empty()"
      ],
      "metadata": {
        "colab": {
          "base_uri": "https://localhost:8080/"
        },
        "id": "k8MSPzTLL_3R",
        "outputId": "f55b9100-26f2-46e4-fa4f-77e8dd8cdf29"
      },
      "execution_count": null,
      "outputs": [
        {
          "output_type": "execute_result",
          "data": {
            "text/plain": [
              "True"
            ]
          },
          "metadata": {},
          "execution_count": 63
        }
      ]
    },
    {
      "cell_type": "code",
      "source": [
        "q.front_item()\n"
      ],
      "metadata": {
        "colab": {
          "base_uri": "https://localhost:8080/",
          "height": 35
        },
        "id": "O89uxpYUNRSt",
        "outputId": "978099e0-491f-4fbe-9b72-a9858f0badee"
      },
      "execution_count": null,
      "outputs": [
        {
          "output_type": "execute_result",
          "data": {
            "text/plain": [
              "'Empty'"
            ],
            "application/vnd.google.colaboratory.intrinsic+json": {
              "type": "string"
            }
          },
          "metadata": {},
          "execution_count": 64
        }
      ]
    },
    {
      "cell_type": "code",
      "source": [
        "q.rear_item()"
      ],
      "metadata": {
        "colab": {
          "base_uri": "https://localhost:8080/",
          "height": 35
        },
        "id": "yP1OthPaNXM9",
        "outputId": "f917e744-d024-466d-eb54-da38a05fa2ca"
      },
      "execution_count": null,
      "outputs": [
        {
          "output_type": "execute_result",
          "data": {
            "text/plain": [
              "'Empty'"
            ],
            "application/vnd.google.colaboratory.intrinsic+json": {
              "type": "string"
            }
          },
          "metadata": {},
          "execution_count": 65
        }
      ]
    },
    {
      "cell_type": "code",
      "source": [
        "q.enqueue(4)\n",
        "q.enqueue(5)\n",
        "q.enqueue(7)"
      ],
      "metadata": {
        "id": "KUsxFrngNYkD"
      },
      "execution_count": null,
      "outputs": []
    },
    {
      "cell_type": "code",
      "source": [
        "q.front_item()"
      ],
      "metadata": {
        "colab": {
          "base_uri": "https://localhost:8080/"
        },
        "id": "aDsJqF4_Nbt-",
        "outputId": "4c8318ae-44b9-437f-fdf4-c3777c678ddd"
      },
      "execution_count": null,
      "outputs": [
        {
          "output_type": "execute_result",
          "data": {
            "text/plain": [
              "4"
            ]
          },
          "metadata": {},
          "execution_count": 67
        }
      ]
    },
    {
      "cell_type": "code",
      "source": [
        "q.rear_item()"
      ],
      "metadata": {
        "colab": {
          "base_uri": "https://localhost:8080/"
        },
        "id": "lFQQSkgwNc0_",
        "outputId": "345f9405-2e48-417c-bd48-87c66aee543a"
      },
      "execution_count": null,
      "outputs": [
        {
          "output_type": "execute_result",
          "data": {
            "text/plain": [
              "7"
            ]
          },
          "metadata": {},
          "execution_count": 68
        }
      ]
    },
    {
      "cell_type": "code",
      "source": [
        "q.is_empty()"
      ],
      "metadata": {
        "colab": {
          "base_uri": "https://localhost:8080/"
        },
        "id": "7hqHw2tzNeZk",
        "outputId": "64198b84-fce7-442e-9b2b-1b6e08f38b62"
      },
      "execution_count": null,
      "outputs": [
        {
          "output_type": "execute_result",
          "data": {
            "text/plain": [
              "False"
            ]
          },
          "metadata": {},
          "execution_count": 69
        }
      ]
    },
    {
      "cell_type": "code",
      "source": [
        "\n"
      ],
      "metadata": {
        "id": "oY9nKbf7NhGS"
      },
      "execution_count": null,
      "outputs": []
    }
  ]
}