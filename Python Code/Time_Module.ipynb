{
  "nbformat": 4,
  "nbformat_minor": 0,
  "metadata": {
    "colab": {
      "provenance": []
    },
    "kernelspec": {
      "name": "python3",
      "display_name": "Python 3"
    },
    "language_info": {
      "name": "python"
    }
  },
  "cells": [
    {
      "cell_type": "markdown",
      "source": [
        "#### **Time**\n",
        "The **time** module in python provides a set of function to work with time relarted operation.\n",
        "\n",
        "Most widely used time function are listed below:\n",
        "1. time.time()\n",
        "2. time.strftime()\n",
        "3. time.localtime()\n",
        "4. time.sleep() etc.\n"
      ],
      "metadata": {
        "id": "v13i_w5PBN3p"
      }
    },
    {
      "cell_type": "markdown",
      "source": [
        "\n",
        "#### **time.time()**\n",
        "The time() is a core function of the time module. It measures the number of seconds since the epoch as a floating point value. "
      ],
      "metadata": {
        "id": "t-Zx-rUwMFhV"
      }
    },
    {
      "cell_type": "code",
      "execution_count": 3,
      "metadata": {
        "colab": {
          "base_uri": "https://localhost:8080/"
        },
        "id": "6HSpOrUT9JRA",
        "outputId": "ba6e47a2-b1e0-4796-a655-ea8f4ae8487d"
      },
      "outputs": [
        {
          "output_type": "stream",
          "name": "stdout",
          "text": [
            "time taken by whileloop 0.005824565887451172\n",
            "time taken by forloop 0.002811908721923828\n"
          ]
        }
      ],
      "source": [
        "import time\n",
        "\n",
        "def whileloop():\n",
        "  i=0\n",
        "  while i<50000:\n",
        "    i=i+1\n",
        "    #print(i)\n",
        "    pass\n",
        "\n",
        "def forloop():\n",
        "  for i in range(50000):\n",
        "    #print(i)\n",
        "    pass\n",
        "\n",
        "start=time.time()\n",
        "whileloop()\n",
        "end=time.time()\n",
        "print('time taken by whileloop',end-start)\n",
        "\n",
        "start=time.time()\n",
        "forloop()\n",
        "end=time.time()\n",
        "print('time taken by forloop',end-start)"
      ]
    },
    {
      "cell_type": "markdown",
      "source": [
        "#### **time.sleep(secs)**\n",
        "\n",
        "Suspend execution of the calling thread for the given number of seconds. The argument may be a floating point number to indicate a more precise sleep time."
      ],
      "metadata": {
        "id": "te_RP-w0JyFh"
      }
    },
    {
      "cell_type": "code",
      "source": [
        "print('Hi')\n",
        "time.sleep(4) #suspend execution for 4 second\n",
        "print('statement after sleep')"
      ],
      "metadata": {
        "colab": {
          "base_uri": "https://localhost:8080/"
        },
        "id": "IH9VkoDP9uXw",
        "outputId": "000ff444-1a54-45c4-b07a-4642681ec559"
      },
      "execution_count": 4,
      "outputs": [
        {
          "output_type": "stream",
          "name": "stdout",
          "text": [
            "Hi\n",
            "statement after sleep\n"
          ]
        }
      ]
    },
    {
      "cell_type": "markdown",
      "source": [
        "#### **time.localtime()**\n",
        "\n",
        "It converts to local time. If secs is not provided or None, the current time as returned by time() is used.\n",
        "\n",
        "\n",
        "#### **time.strftime(format[, t])**\n",
        "This function takes a tuple or struct_time in the second argument and converts to a string as per the format specified in the first argument.it defaults to \"%a %b %d %H:%M:%S %Y\" \n",
        "\n"
      ],
      "metadata": {
        "id": "0XV_uvSUHYyY"
      }
    },
    {
      "cell_type": "code",
      "source": [
        "t=time.localtime()\n",
        "formated_time=time.strftime(\"%y-%m-%d-%H:%M:%S\",t)\n",
        "print(formated_time)\n"
      ],
      "metadata": {
        "colab": {
          "base_uri": "https://localhost:8080/"
        },
        "id": "eTEqkjFp-7kq",
        "outputId": "b74850be-d5ef-4495-a3a9-6536d26f4224"
      },
      "execution_count": 11,
      "outputs": [
        {
          "output_type": "stream",
          "name": "stdout",
          "text": [
            "23-04-17-07:46:51\n"
          ]
        }
      ]
    },
    {
      "cell_type": "code",
      "source": [],
      "metadata": {
        "id": "SG8TYFx0_CxM"
      },
      "execution_count": null,
      "outputs": []
    }
  ]
}