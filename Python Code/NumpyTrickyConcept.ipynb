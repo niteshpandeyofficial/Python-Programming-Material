{
  "nbformat": 4,
  "nbformat_minor": 0,
  "metadata": {
    "colab": {
      "provenance": []
    },
    "kernelspec": {
      "name": "python3",
      "display_name": "Python 3"
    },
    "language_info": {
      "name": "python"
    }
  },
  "cells": [
    {
      "cell_type": "markdown",
      "source": [
        "### np.sort()\n",
        "\n",
        "Return a sorted copy of an array"
      ],
      "metadata": {
        "id": "sp-Djf81Zr3R"
      }
    },
    {
      "cell_type": "code",
      "execution_count": null,
      "metadata": {
        "colab": {
          "base_uri": "https://localhost:8080/"
        },
        "id": "5dmWl7otZRj8",
        "outputId": "19cf05ed-6868-4527-ca5b-2644c0c27bb3"
      },
      "outputs": [
        {
          "output_type": "stream",
          "name": "stdout",
          "text": [
            "[ 9 92 57 92 82 88 73 15 95 64 53 13 24 49 95]\n"
          ]
        }
      ],
      "source": [
        "import random\n",
        "import numpy as np\n",
        "\n",
        "a=np.random.randint(1,100,15)\n",
        "print(a)"
      ]
    },
    {
      "cell_type": "code",
      "source": [
        "b=np.random.randint(1,100,24).reshape(6,4)\n",
        "print(b)"
      ],
      "metadata": {
        "colab": {
          "base_uri": "https://localhost:8080/"
        },
        "id": "gXi1zDSZaCvB",
        "outputId": "0e538721-3a82-420d-e395-0c2ed574f6ec"
      },
      "execution_count": null,
      "outputs": [
        {
          "output_type": "stream",
          "name": "stdout",
          "text": [
            "[[24 43 67 78]\n",
            " [68 82 19 35]\n",
            " [ 8 27 21 87]\n",
            " [91 69 24 17]\n",
            " [96 49 88 68]\n",
            " [84 98 16 48]]\n"
          ]
        }
      ]
    },
    {
      "cell_type": "code",
      "source": [
        "np.sort(a)"
      ],
      "metadata": {
        "colab": {
          "base_uri": "https://localhost:8080/"
        },
        "id": "J3bu9vztaMAN",
        "outputId": "f1a95611-c41d-4f9c-e576-9b1d2ce05c97"
      },
      "execution_count": null,
      "outputs": [
        {
          "output_type": "execute_result",
          "data": {
            "text/plain": [
              "array([ 9, 13, 15, 24, 49, 53, 57, 64, 73, 82, 88, 92, 92, 95, 95])"
            ]
          },
          "metadata": {},
          "execution_count": 3
        }
      ]
    },
    {
      "cell_type": "code",
      "source": [
        "np.sort(b,axis=0)"
      ],
      "metadata": {
        "colab": {
          "base_uri": "https://localhost:8080/"
        },
        "id": "rPtI8MAgaPTP",
        "outputId": "a75d3382-b4c0-4656-bca8-2486c832ae7e"
      },
      "execution_count": null,
      "outputs": [
        {
          "output_type": "execute_result",
          "data": {
            "text/plain": [
              "array([[ 8, 27, 16, 17],\n",
              "       [24, 43, 19, 35],\n",
              "       [68, 49, 21, 48],\n",
              "       [84, 69, 24, 68],\n",
              "       [91, 82, 67, 78],\n",
              "       [96, 98, 88, 87]])"
            ]
          },
          "metadata": {},
          "execution_count": 4
        }
      ]
    },
    {
      "cell_type": "code",
      "source": [
        "np.sort(b)## defult row level sorting done"
      ],
      "metadata": {
        "colab": {
          "base_uri": "https://localhost:8080/"
        },
        "id": "a4Id45RmbP3w",
        "outputId": "bca7bb12-c4c2-4ad6-fcef-1ffdcccc916d"
      },
      "execution_count": null,
      "outputs": [
        {
          "output_type": "execute_result",
          "data": {
            "text/plain": [
              "array([[24, 43, 67, 78],\n",
              "       [19, 35, 68, 82],\n",
              "       [ 8, 21, 27, 87],\n",
              "       [17, 24, 69, 91],\n",
              "       [49, 68, 88, 96],\n",
              "       [16, 48, 84, 98]])"
            ]
          },
          "metadata": {},
          "execution_count": 5
        }
      ]
    },
    {
      "cell_type": "markdown",
      "source": [
        "###np.append()\n",
        "the numpy.append() appends values along the mentioned axis at the end of the array"
      ],
      "metadata": {
        "id": "4jWpO40FbdoN"
      }
    },
    {
      "cell_type": "code",
      "source": [
        "np.append(a,[1,2])"
      ],
      "metadata": {
        "colab": {
          "base_uri": "https://localhost:8080/"
        },
        "id": "NfKq9vQkbdL_",
        "outputId": "22693973-2a5c-4dca-f240-a2e454e6ac78"
      },
      "execution_count": null,
      "outputs": [
        {
          "output_type": "execute_result",
          "data": {
            "text/plain": [
              "array([ 9, 92, 57, 92, 82, 88, 73, 15, 95, 64, 53, 13, 24, 49, 95,  1,  2])"
            ]
          },
          "metadata": {},
          "execution_count": 6
        }
      ]
    },
    {
      "cell_type": "code",
      "source": [
        "np.append(b,np.ones((b.shape[0])).reshape(6,1),axis=1)"
      ],
      "metadata": {
        "colab": {
          "base_uri": "https://localhost:8080/"
        },
        "id": "j20Wu3V9bdEy",
        "outputId": "5c7067de-b511-41dc-9915-ca4b082ed971"
      },
      "execution_count": null,
      "outputs": [
        {
          "output_type": "execute_result",
          "data": {
            "text/plain": [
              "array([[24., 43., 67., 78.,  1.],\n",
              "       [68., 82., 19., 35.,  1.],\n",
              "       [ 8., 27., 21., 87.,  1.],\n",
              "       [91., 69., 24., 17.,  1.],\n",
              "       [96., 49., 88., 68.,  1.],\n",
              "       [84., 98., 16., 48.,  1.]])"
            ]
          },
          "metadata": {},
          "execution_count": 13
        }
      ]
    },
    {
      "cell_type": "markdown",
      "source": [
        "###np.concatenate()\n",
        "numpy.concatenate() function concatenate a sequence of arrays along an existing axis."
      ],
      "metadata": {
        "id": "6Z9Kwjj8dEum"
      }
    },
    {
      "cell_type": "code",
      "source": [
        "l=np.arange(6).reshape(2,3)\n",
        "m=np.arange(6,12).reshape(2,3)\n",
        "\n",
        "print(l)\n",
        "print(m)"
      ],
      "metadata": {
        "colab": {
          "base_uri": "https://localhost:8080/"
        },
        "id": "8yrlpWctbc90",
        "outputId": "c02c27ff-6ac0-4852-ce50-c411f8bf26eb"
      },
      "execution_count": null,
      "outputs": [
        {
          "output_type": "stream",
          "name": "stdout",
          "text": [
            "[[0 1 2]\n",
            " [3 4 5]]\n",
            "[[ 6  7  8]\n",
            " [ 9 10 11]]\n"
          ]
        }
      ]
    },
    {
      "cell_type": "code",
      "source": [
        "np.concatenate((l,m)) ##Default row level concatenation performed"
      ],
      "metadata": {
        "colab": {
          "base_uri": "https://localhost:8080/"
        },
        "id": "khfU2ykCbc3-",
        "outputId": "924b74b1-4bc5-4a01-e6db-72559470400f"
      },
      "execution_count": null,
      "outputs": [
        {
          "output_type": "execute_result",
          "data": {
            "text/plain": [
              "array([[ 0,  1,  2],\n",
              "       [ 3,  4,  5],\n",
              "       [ 6,  7,  8],\n",
              "       [ 9, 10, 11]])"
            ]
          },
          "metadata": {},
          "execution_count": 16
        }
      ]
    },
    {
      "cell_type": "code",
      "source": [
        "np.concatenate((l,m),axis=1) ##columns level concatenation performed"
      ],
      "metadata": {
        "colab": {
          "base_uri": "https://localhost:8080/"
        },
        "id": "yLXGdK8Ibcxs",
        "outputId": "05801e5b-b9c2-4904-c9eb-dd7966e4aa97"
      },
      "execution_count": null,
      "outputs": [
        {
          "output_type": "execute_result",
          "data": {
            "text/plain": [
              "array([[ 0,  1,  2,  6,  7,  8],\n",
              "       [ 3,  4,  5,  9, 10, 11]])"
            ]
          },
          "metadata": {},
          "execution_count": 18
        }
      ]
    },
    {
      "cell_type": "markdown",
      "source": [
        "###np.unique()\n",
        "\n",
        "with the help of np.unique() method,we can get the unique values from an array given as parameter in np.unique() method"
      ],
      "metadata": {
        "id": "nRU5Y4lHePvo"
      }
    },
    {
      "cell_type": "code",
      "source": [
        "s=np.array([1,2,2,2,2,2,2,2,2,3,3,3,3])\n",
        "np.unique(s)"
      ],
      "metadata": {
        "colab": {
          "base_uri": "https://localhost:8080/"
        },
        "id": "4pUY9OuwbcsQ",
        "outputId": "924f552e-0dda-43ed-e839-bc5ed76ac43e"
      },
      "execution_count": null,
      "outputs": [
        {
          "output_type": "execute_result",
          "data": {
            "text/plain": [
              "array([1, 2, 3])"
            ]
          },
          "metadata": {},
          "execution_count": 20
        }
      ]
    },
    {
      "cell_type": "markdown",
      "source": [
        "###np.expand_dims()\n",
        "with the help of expand_dims method,we can get expanded dimensions of an array"
      ],
      "metadata": {
        "id": "13LQhB1VgBfp"
      }
    },
    {
      "cell_type": "code",
      "source": [
        "a"
      ],
      "metadata": {
        "colab": {
          "base_uri": "https://localhost:8080/"
        },
        "id": "87p5VWR-bcmZ",
        "outputId": "38570a86-a077-4d2a-9a48-0a7141da5b88"
      },
      "execution_count": null,
      "outputs": [
        {
          "output_type": "execute_result",
          "data": {
            "text/plain": [
              "array([ 9, 92, 57, 92, 82, 88, 73, 15, 95, 64, 53, 13, 24, 49, 95])"
            ]
          },
          "metadata": {},
          "execution_count": 21
        }
      ]
    },
    {
      "cell_type": "code",
      "source": [
        "np.expand_dims(a,axis=0).shape"
      ],
      "metadata": {
        "colab": {
          "base_uri": "https://localhost:8080/"
        },
        "id": "3jWZkL5MbcgI",
        "outputId": "460930b9-7082-47c1-84e3-54364954be74"
      },
      "execution_count": null,
      "outputs": [
        {
          "output_type": "execute_result",
          "data": {
            "text/plain": [
              "(1, 15)"
            ]
          },
          "metadata": {},
          "execution_count": 23
        }
      ]
    },
    {
      "cell_type": "code",
      "source": [
        "np.expand_dims(a,axis=1).shape"
      ],
      "metadata": {
        "colab": {
          "base_uri": "https://localhost:8080/"
        },
        "id": "T2R6VH4Fbcaz",
        "outputId": "08cd6fe1-d484-4bfb-de28-9abdc1cf08ab"
      },
      "execution_count": null,
      "outputs": [
        {
          "output_type": "execute_result",
          "data": {
            "text/plain": [
              "(15, 1)"
            ]
          },
          "metadata": {},
          "execution_count": 24
        }
      ]
    },
    {
      "cell_type": "markdown",
      "source": [
        "###np.where()\n",
        "this function returns the indices of elements in an input array where the given condition is satisfied"
      ],
      "metadata": {
        "id": "hRt6gQ8LgnN0"
      }
    },
    {
      "cell_type": "code",
      "source": [
        "np.where(a>50)"
      ],
      "metadata": {
        "colab": {
          "base_uri": "https://localhost:8080/"
        },
        "id": "6nPrvi6dbcU_",
        "outputId": "789bbac5-f913-4f07-ca7e-6ea278d5e4a6"
      },
      "execution_count": null,
      "outputs": [
        {
          "output_type": "execute_result",
          "data": {
            "text/plain": [
              "(array([ 1,  2,  3,  4,  5,  6,  8,  9, 10, 14]),)"
            ]
          },
          "metadata": {},
          "execution_count": 25
        }
      ]
    },
    {
      "cell_type": "code",
      "source": [
        "#np.where(condition,true,false)\n",
        "np.where(a>70,0,a)"
      ],
      "metadata": {
        "colab": {
          "base_uri": "https://localhost:8080/"
        },
        "id": "HghRZYBqbcPc",
        "outputId": "07e7eefe-5c7b-4573-8fab-458c49296e6d"
      },
      "execution_count": null,
      "outputs": [
        {
          "output_type": "execute_result",
          "data": {
            "text/plain": [
              "array([ 9,  0, 57,  0,  0,  0,  0, 15,  0, 64, 53, 13, 24, 49,  0])"
            ]
          },
          "metadata": {},
          "execution_count": 26
        }
      ]
    },
    {
      "cell_type": "code",
      "source": [
        "np.where(a%2==0,0,a)"
      ],
      "metadata": {
        "colab": {
          "base_uri": "https://localhost:8080/"
        },
        "id": "PVFqgKkHbcI4",
        "outputId": "87f0d518-78c0-4fc4-b24a-5a13e835b192"
      },
      "execution_count": null,
      "outputs": [
        {
          "output_type": "execute_result",
          "data": {
            "text/plain": [
              "array([ 9,  0, 57,  0,  0,  0, 73, 15, 95,  0, 53, 13,  0, 49, 95])"
            ]
          },
          "metadata": {},
          "execution_count": 27
        }
      ]
    },
    {
      "cell_type": "markdown",
      "source": [
        "###np.argmax\n",
        "The numpy.argmax() function return indices of the max element of the array in a particular axis. "
      ],
      "metadata": {
        "id": "cVVVxoZChYYh"
      }
    },
    {
      "cell_type": "code",
      "source": [
        "a"
      ],
      "metadata": {
        "colab": {
          "base_uri": "https://localhost:8080/"
        },
        "id": "s6OokwWWbcA0",
        "outputId": "0803efae-83ee-45cc-ec7b-02505523aea9"
      },
      "execution_count": null,
      "outputs": [
        {
          "output_type": "execute_result",
          "data": {
            "text/plain": [
              "array([ 9, 92, 57, 92, 82, 88, 73, 15, 95, 64, 53, 13, 24, 49, 95])"
            ]
          },
          "metadata": {},
          "execution_count": 28
        }
      ]
    },
    {
      "cell_type": "code",
      "source": [
        "np.argmax(a)"
      ],
      "metadata": {
        "colab": {
          "base_uri": "https://localhost:8080/"
        },
        "id": "Y26tp37hbb7T",
        "outputId": "8db11003-1c23-4666-9fbb-190258a2cb15"
      },
      "execution_count": null,
      "outputs": [
        {
          "output_type": "execute_result",
          "data": {
            "text/plain": [
              "8"
            ]
          },
          "metadata": {},
          "execution_count": 29
        }
      ]
    },
    {
      "cell_type": "code",
      "source": [
        "np.argmax(b)"
      ],
      "metadata": {
        "colab": {
          "base_uri": "https://localhost:8080/"
        },
        "id": "e0Vqu3dNbb1w",
        "outputId": "6f0ce8a7-4302-4b1a-d85e-1966e527ae78"
      },
      "execution_count": null,
      "outputs": [
        {
          "output_type": "execute_result",
          "data": {
            "text/plain": [
              "21"
            ]
          },
          "metadata": {},
          "execution_count": 30
        }
      ]
    },
    {
      "cell_type": "code",
      "source": [
        "np.argmax(b,axis=1)"
      ],
      "metadata": {
        "colab": {
          "base_uri": "https://localhost:8080/"
        },
        "id": "Efnm8PiJbbv-",
        "outputId": "5b5b0375-1386-43d4-ba26-a2814e28a244"
      },
      "execution_count": null,
      "outputs": [
        {
          "output_type": "execute_result",
          "data": {
            "text/plain": [
              "array([3, 1, 3, 0, 0, 1])"
            ]
          },
          "metadata": {},
          "execution_count": 31
        }
      ]
    },
    {
      "cell_type": "markdown",
      "source": [
        "###np.argmin()"
      ],
      "metadata": {
        "id": "0GLW3BNeiLR1"
      }
    },
    {
      "cell_type": "code",
      "source": [
        "np.argmin(a)"
      ],
      "metadata": {
        "colab": {
          "base_uri": "https://localhost:8080/"
        },
        "id": "A_ZCN4XliK-P",
        "outputId": "e407a0cb-052d-4b42-d3b2-de7cea881628"
      },
      "execution_count": null,
      "outputs": [
        {
          "output_type": "execute_result",
          "data": {
            "text/plain": [
              "0"
            ]
          },
          "metadata": {},
          "execution_count": 32
        }
      ]
    },
    {
      "cell_type": "markdown",
      "source": [
        "###np.cumsum()\n",
        "this function is used when we want to compute the cumulative um of array elements over a given axis"
      ],
      "metadata": {
        "id": "4uQyWFwkiSdr"
      }
    },
    {
      "cell_type": "code",
      "source": [
        "a"
      ],
      "metadata": {
        "colab": {
          "base_uri": "https://localhost:8080/"
        },
        "id": "XQRrjxBViK6q",
        "outputId": "4f6d634f-63df-4a4b-97b9-32ffea2c0851"
      },
      "execution_count": null,
      "outputs": [
        {
          "output_type": "execute_result",
          "data": {
            "text/plain": [
              "array([ 9, 92, 57, 92, 82, 88, 73, 15, 95, 64, 53, 13, 24, 49, 95])"
            ]
          },
          "metadata": {},
          "execution_count": 33
        }
      ]
    },
    {
      "cell_type": "code",
      "source": [
        "np.cumsum(a)"
      ],
      "metadata": {
        "colab": {
          "base_uri": "https://localhost:8080/"
        },
        "id": "f2UNWrfoiK3r",
        "outputId": "3bfeec46-df4e-442f-8df5-d55c52d9f41c"
      },
      "execution_count": null,
      "outputs": [
        {
          "output_type": "execute_result",
          "data": {
            "text/plain": [
              "array([  9, 101, 158, 250, 332, 420, 493, 508, 603, 667, 720, 733, 757,\n",
              "       806, 901])"
            ]
          },
          "metadata": {},
          "execution_count": 34
        }
      ]
    },
    {
      "cell_type": "code",
      "source": [
        "b"
      ],
      "metadata": {
        "colab": {
          "base_uri": "https://localhost:8080/"
        },
        "id": "AyIi2hTLiK0t",
        "outputId": "1ae54d6f-1d09-4771-ca25-e89736dfa190"
      },
      "execution_count": null,
      "outputs": [
        {
          "output_type": "execute_result",
          "data": {
            "text/plain": [
              "array([[24, 43, 67, 78],\n",
              "       [68, 82, 19, 35],\n",
              "       [ 8, 27, 21, 87],\n",
              "       [91, 69, 24, 17],\n",
              "       [96, 49, 88, 68],\n",
              "       [84, 98, 16, 48]])"
            ]
          },
          "metadata": {},
          "execution_count": 35
        }
      ]
    },
    {
      "cell_type": "code",
      "source": [
        "np.cumsum(b,axis=1)"
      ],
      "metadata": {
        "colab": {
          "base_uri": "https://localhost:8080/"
        },
        "id": "Nk3PL0cIiKxd",
        "outputId": "54911651-d8fc-4061-e333-4f1ed3feebd9"
      },
      "execution_count": null,
      "outputs": [
        {
          "output_type": "execute_result",
          "data": {
            "text/plain": [
              "array([[ 24,  67, 134, 212],\n",
              "       [ 68, 150, 169, 204],\n",
              "       [  8,  35,  56, 143],\n",
              "       [ 91, 160, 184, 201],\n",
              "       [ 96, 145, 233, 301],\n",
              "       [ 84, 182, 198, 246]])"
            ]
          },
          "metadata": {},
          "execution_count": 36
        }
      ]
    },
    {
      "cell_type": "markdown",
      "source": [
        "###np.cumprod()"
      ],
      "metadata": {
        "id": "NZyOnVkSjGSo"
      }
    },
    {
      "cell_type": "code",
      "source": [
        "np.cumprod(a)"
      ],
      "metadata": {
        "colab": {
          "base_uri": "https://localhost:8080/"
        },
        "id": "_olP7lp1iKua",
        "outputId": "ab94e1fb-2697-481d-e8f9-3ecd892e8de1"
      },
      "execution_count": null,
      "outputs": [
        {
          "output_type": "execute_result",
          "data": {
            "text/plain": [
              "array([                   9,                  828,                47196,\n",
              "                    4342032,            356046624,          31332102912,\n",
              "              2287243512576,       34308652688640,     3259322005420800,\n",
              "         208596608346931200, -7391123831322198016, -3850889438640816128,\n",
              "        -187626158831828992, -9193681782759620608, -6402797897815031808])"
            ]
          },
          "metadata": {},
          "execution_count": 37
        }
      ]
    },
    {
      "cell_type": "markdown",
      "source": [
        "###np.percentile()\n",
        "This function is used to compute the nth percentile of the given data(array elements)along the specified axis"
      ],
      "metadata": {
        "id": "esMeIA06jNCR"
      }
    },
    {
      "cell_type": "code",
      "source": [
        "np.percentile(a,50)"
      ],
      "metadata": {
        "colab": {
          "base_uri": "https://localhost:8080/"
        },
        "id": "Z2REcCJziKrX",
        "outputId": "78a7d9d1-a5c9-48b0-dca2-b64a4dd02bfd"
      },
      "execution_count": null,
      "outputs": [
        {
          "output_type": "execute_result",
          "data": {
            "text/plain": [
              "64.0"
            ]
          },
          "metadata": {},
          "execution_count": 38
        }
      ]
    },
    {
      "cell_type": "code",
      "source": [
        "np.percentile(a,100)"
      ],
      "metadata": {
        "colab": {
          "base_uri": "https://localhost:8080/"
        },
        "id": "Injp2fq2iKnJ",
        "outputId": "78e144c3-7f70-42d4-f68b-b85e506b4063"
      },
      "execution_count": null,
      "outputs": [
        {
          "output_type": "execute_result",
          "data": {
            "text/plain": [
              "95.0"
            ]
          },
          "metadata": {},
          "execution_count": 39
        }
      ]
    },
    {
      "cell_type": "markdown",
      "source": [
        "###np.histogram()\n",
        "Numpy has a built in functionwhich represent the frequency of data distribution in the graphical form."
      ],
      "metadata": {
        "id": "4PbIbfT3j1Dt"
      }
    },
    {
      "cell_type": "code",
      "source": [
        "np.histogram(a,bins=[0,20,40,60,80,100])"
      ],
      "metadata": {
        "colab": {
          "base_uri": "https://localhost:8080/"
        },
        "id": "-k0V_HCej1pt",
        "outputId": "16706b47-6425-48bb-8bf5-5f7bc1cb0a10"
      },
      "execution_count": null,
      "outputs": [
        {
          "output_type": "execute_result",
          "data": {
            "text/plain": [
              "(array([3, 1, 3, 2, 6]), array([  0,  20,  40,  60,  80, 100]))"
            ]
          },
          "metadata": {},
          "execution_count": 40
        }
      ]
    },
    {
      "cell_type": "markdown",
      "source": [
        "###np.corrcoef\n",
        "Return Pearson product-moment correlation coefficients"
      ],
      "metadata": {
        "id": "YsWdUsokkh2s"
      }
    },
    {
      "cell_type": "code",
      "source": [
        "height=np.array([3,4,5,6,7])\n",
        "weight=np.array([30,35,48,60,65])"
      ],
      "metadata": {
        "id": "dIcYA8rViKjM"
      },
      "execution_count": null,
      "outputs": []
    },
    {
      "cell_type": "code",
      "source": [
        "np.corrcoef(height,weight)"
      ],
      "metadata": {
        "colab": {
          "base_uri": "https://localhost:8080/"
        },
        "id": "xvbWCbWaiKfQ",
        "outputId": "bf868245-28ce-4127-add5-52c614dad156"
      },
      "execution_count": null,
      "outputs": [
        {
          "output_type": "execute_result",
          "data": {
            "text/plain": [
              "array([[1.       , 0.9876562],\n",
              "       [0.9876562, 1.       ]])"
            ]
          },
          "metadata": {},
          "execution_count": 42
        }
      ]
    },
    {
      "cell_type": "markdown",
      "source": [
        "###np.isin()\n",
        "with the help of this method we can see that one array having values are checked in a different numpy array having different elements with different sizes."
      ],
      "metadata": {
        "id": "aupyAb6vtLdP"
      }
    },
    {
      "cell_type": "code",
      "source": [
        "a"
      ],
      "metadata": {
        "colab": {
          "base_uri": "https://localhost:8080/"
        },
        "id": "7HA9B-b6tK3s",
        "outputId": "151cd0c3-f73e-4ef1-83c1-f704cc535d44"
      },
      "execution_count": null,
      "outputs": [
        {
          "output_type": "execute_result",
          "data": {
            "text/plain": [
              "array([ 9, 92, 57, 92, 82, 88, 73, 15, 95, 64, 53, 13, 24, 49, 95])"
            ]
          },
          "metadata": {},
          "execution_count": 43
        }
      ]
    },
    {
      "cell_type": "code",
      "source": [
        "item=np.array([9,57])"
      ],
      "metadata": {
        "id": "H3HWAvT-tKz7"
      },
      "execution_count": null,
      "outputs": []
    },
    {
      "cell_type": "code",
      "source": [
        "np.isin(a,item)"
      ],
      "metadata": {
        "colab": {
          "base_uri": "https://localhost:8080/"
        },
        "id": "a_TBP5GvtKwk",
        "outputId": "2f43948e-0658-447d-b166-57930cf9c281"
      },
      "execution_count": null,
      "outputs": [
        {
          "output_type": "execute_result",
          "data": {
            "text/plain": [
              "array([ True, False,  True, False, False, False, False, False, False,\n",
              "       False, False, False, False, False, False])"
            ]
          },
          "metadata": {},
          "execution_count": 46
        }
      ]
    },
    {
      "cell_type": "markdown",
      "source": [
        "###np.flip()\n",
        "this function reverses the order of array elementsusing the specified axis,preserving the shape of the array"
      ],
      "metadata": {
        "id": "H8cpz8f0uX4F"
      }
    },
    {
      "cell_type": "code",
      "source": [
        "print(a)\n",
        "np.flip(a)"
      ],
      "metadata": {
        "colab": {
          "base_uri": "https://localhost:8080/"
        },
        "id": "3TNlM7yItKtd",
        "outputId": "211c1c18-2923-4b43-960f-00b50538e9ee"
      },
      "execution_count": null,
      "outputs": [
        {
          "output_type": "stream",
          "name": "stdout",
          "text": [
            "[ 9 92 57 92 82 88 73 15 95 64 53 13 24 49 95]\n"
          ]
        },
        {
          "output_type": "execute_result",
          "data": {
            "text/plain": [
              "array([95, 49, 24, 13, 53, 64, 95, 15, 73, 88, 82, 92, 57, 92,  9])"
            ]
          },
          "metadata": {},
          "execution_count": 47
        }
      ]
    },
    {
      "cell_type": "code",
      "source": [
        "print(b)\n",
        "np.flip(b) ## row and column level flipping internally"
      ],
      "metadata": {
        "colab": {
          "base_uri": "https://localhost:8080/"
        },
        "id": "PQpxEgPAtKp9",
        "outputId": "fabb1dfa-bec7-41d2-c110-c640a4ddfbd9"
      },
      "execution_count": null,
      "outputs": [
        {
          "output_type": "stream",
          "name": "stdout",
          "text": [
            "[[24 43 67 78]\n",
            " [68 82 19 35]\n",
            " [ 8 27 21 87]\n",
            " [91 69 24 17]\n",
            " [96 49 88 68]\n",
            " [84 98 16 48]]\n"
          ]
        },
        {
          "output_type": "execute_result",
          "data": {
            "text/plain": [
              "array([[48, 16, 98, 84],\n",
              "       [68, 88, 49, 96],\n",
              "       [17, 24, 69, 91],\n",
              "       [87, 21, 27,  8],\n",
              "       [35, 19, 82, 68],\n",
              "       [78, 67, 43, 24]])"
            ]
          },
          "metadata": {},
          "execution_count": 48
        }
      ]
    },
    {
      "cell_type": "code",
      "source": [
        "print(b)\n",
        "np.flip(b,axis=0) ## column level fliping"
      ],
      "metadata": {
        "colab": {
          "base_uri": "https://localhost:8080/"
        },
        "id": "SHtHLDpJtKl6",
        "outputId": "5f578164-fd08-4061-d079-248505df92a9"
      },
      "execution_count": null,
      "outputs": [
        {
          "output_type": "stream",
          "name": "stdout",
          "text": [
            "[[24 43 67 78]\n",
            " [68 82 19 35]\n",
            " [ 8 27 21 87]\n",
            " [91 69 24 17]\n",
            " [96 49 88 68]\n",
            " [84 98 16 48]]\n"
          ]
        },
        {
          "output_type": "execute_result",
          "data": {
            "text/plain": [
              "array([[84, 98, 16, 48],\n",
              "       [96, 49, 88, 68],\n",
              "       [91, 69, 24, 17],\n",
              "       [ 8, 27, 21, 87],\n",
              "       [68, 82, 19, 35],\n",
              "       [24, 43, 67, 78]])"
            ]
          },
          "metadata": {},
          "execution_count": 49
        }
      ]
    },
    {
      "cell_type": "code",
      "source": [
        "print(b)\n",
        "np.flip(b,axis=1) ### row level fliping"
      ],
      "metadata": {
        "colab": {
          "base_uri": "https://localhost:8080/"
        },
        "id": "PyKFFKvgtKih",
        "outputId": "299d4d54-b77a-4607-bf98-71f530644282"
      },
      "execution_count": null,
      "outputs": [
        {
          "output_type": "stream",
          "name": "stdout",
          "text": [
            "[[24 43 67 78]\n",
            " [68 82 19 35]\n",
            " [ 8 27 21 87]\n",
            " [91 69 24 17]\n",
            " [96 49 88 68]\n",
            " [84 98 16 48]]\n"
          ]
        },
        {
          "output_type": "execute_result",
          "data": {
            "text/plain": [
              "array([[78, 67, 43, 24],\n",
              "       [35, 19, 82, 68],\n",
              "       [87, 21, 27,  8],\n",
              "       [17, 24, 69, 91],\n",
              "       [68, 88, 49, 96],\n",
              "       [48, 16, 98, 84]])"
            ]
          },
          "metadata": {},
          "execution_count": 51
        }
      ]
    },
    {
      "cell_type": "code",
      "source": [
        "  "
      ],
      "metadata": {
        "id": "6L6yKKmmtKde"
      },
      "execution_count": null,
      "outputs": []
    },
    {
      "cell_type": "code",
      "source": [],
      "metadata": {
        "id": "0wgDTAD1tKYC"
      },
      "execution_count": null,
      "outputs": []
    },
    {
      "cell_type": "code",
      "source": [],
      "metadata": {
        "id": "xmm6rq_qtKUV"
      },
      "execution_count": null,
      "outputs": []
    },
    {
      "cell_type": "code",
      "source": [],
      "metadata": {
        "id": "pTYFXubqiKcJ"
      },
      "execution_count": null,
      "outputs": []
    },
    {
      "cell_type": "code",
      "source": [],
      "metadata": {
        "id": "Tf_472qTiKXh"
      },
      "execution_count": null,
      "outputs": []
    },
    {
      "cell_type": "code",
      "source": [],
      "metadata": {
        "id": "6z0sqjMJbW7H"
      },
      "execution_count": null,
      "outputs": []
    }
  ]
}