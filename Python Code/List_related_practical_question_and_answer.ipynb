{
  "cells": [
    {
      "cell_type": "markdown",
      "metadata": {
        "id": "Dh9lzVHTZCEh"
      },
      "source": [
        "### Implement do while in python to find the even number "
      ]
    },
    {
      "cell_type": "code",
      "execution_count": null,
      "metadata": {
        "colab": {
          "base_uri": "https://localhost:8080/"
        },
        "id": "6vsVUiaITAhT",
        "outputId": "08aa8e66-7136-4f82-d8ec-4415df4fee68"
      },
      "outputs": [
        {
          "name": "stdout",
          "output_type": "stream",
          "text": [
            "Enter the number:5\n",
            "5\n",
            "Not even number\n"
          ]
        }
      ],
      "source": [
        "while True:\n",
        "  try:\n",
        "    num=int(input('Enter the number:'))\n",
        "    print(num)\n",
        "    if num%2==0:\n",
        "       print('Even Number')\n",
        "       break\n",
        "    else:\n",
        "      print('Not even number')\n",
        "      break\n",
        "  except:\n",
        "    print('Error Occurred please try again')\n",
        "    break"
      ]
    },
    {
      "cell_type": "markdown",
      "metadata": {
        "id": "cq7nwqnia0E6"
      },
      "source": [
        "### Sum of all the item in list"
      ]
    },
    {
      "cell_type": "code",
      "execution_count": null,
      "metadata": {
        "colab": {
          "base_uri": "https://localhost:8080/"
        },
        "id": "g97-sl7mUIxv",
        "outputId": "67daef2b-d1a6-4bfe-8c7c-71669fe213bf"
      },
      "outputs": [
        {
          "name": "stdout",
          "output_type": "stream",
          "text": [
            "Enter input:5 6 7\n"
          ]
        },
        {
          "data": {
            "text/plain": [
              "18"
            ]
          },
          "execution_count": 8,
          "metadata": {},
          "output_type": "execute_result"
        }
      ],
      "source": [
        "## Using inbuilt function\n",
        "from functools import reduce\n",
        "l=list(map(int,input('Enter input:').split()))\n",
        "reduce(lambda x,y:x+y,l)"
      ]
    },
    {
      "cell_type": "code",
      "execution_count": null,
      "metadata": {
        "colab": {
          "base_uri": "https://localhost:8080/"
        },
        "id": "uA7Dutf1Z4yB",
        "outputId": "ddb8fa62-3c64-47f5-f6c3-abaecf2264e8"
      },
      "outputs": [
        {
          "name": "stdout",
          "output_type": "stream",
          "text": [
            "36\n"
          ]
        }
      ],
      "source": [
        "def sum_list(list):\n",
        "  sum=0\n",
        "  for i in list:\n",
        "    sum+=i\n",
        "  return sum\n",
        "\n",
        "## Drive code\n",
        "# l=list(map(int,input('Enter input:').split()))\n",
        "# result=sum_list(l)\n",
        "# print(result)\n",
        "\n",
        "result=sum_list([21,4,5,6])\n",
        "print(result)\n"
      ]
    },
    {
      "cell_type": "markdown",
      "metadata": {
        "id": "5fC9vmtcb0YW"
      },
      "source": [
        "### Multiply all element of the list"
      ]
    },
    {
      "cell_type": "code",
      "execution_count": null,
      "metadata": {
        "colab": {
          "base_uri": "https://localhost:8080/"
        },
        "id": "ExtrWTjDb0BV",
        "outputId": "319f0ac1-4d69-4b2f-ee48-a0bc9efadb05"
      },
      "outputs": [
        {
          "name": "stdout",
          "output_type": "stream",
          "text": [
            "24\n"
          ]
        }
      ],
      "source": [
        "## Using Inbuit function\n",
        "from functools import reduce\n",
        "l=[1,2,3,4]\n",
        "product=reduce(lambda x,y:x*y,l)\n",
        "print(product)\n"
      ]
    },
    {
      "cell_type": "code",
      "execution_count": null,
      "metadata": {
        "colab": {
          "base_uri": "https://localhost:8080/"
        },
        "id": "2qyymkxzaKcj",
        "outputId": "b62af7d4-3fa6-4eeb-c46c-f748cb20ddce"
      },
      "outputs": [
        {
          "name": "stdout",
          "output_type": "stream",
          "text": [
            "Product of given list is  24\n"
          ]
        }
      ],
      "source": [
        "### Using User defind function\n",
        "\n",
        "### Function declaration\n",
        "def product_list(list):\n",
        "  product=1\n",
        "  for i in list:\n",
        "    product*=i\n",
        "  return product\n",
        "\n",
        "### Drive code\n",
        "l=[1,2,3,4]\n",
        "product=product_list(l)\n",
        "print('Product of given list is ',product)"
      ]
    },
    {
      "cell_type": "markdown",
      "metadata": {
        "id": "NmrHrd25dBmB"
      },
      "source": [
        "### Largest number from the list"
      ]
    },
    {
      "cell_type": "code",
      "execution_count": null,
      "metadata": {
        "colab": {
          "base_uri": "https://localhost:8080/"
        },
        "id": "40DHMfnNc4CT",
        "outputId": "be25f086-12b0-4a1b-c202-2c4eef313033"
      },
      "outputs": [
        {
          "name": "stdout",
          "output_type": "stream",
          "text": [
            "largest elelemt in the list is 5\n"
          ]
        }
      ],
      "source": [
        "### Inbuilt function\n",
        "l=[1,2,3,4,5]\n",
        "print(f\"largest elelemt in the list is {max(l)}\")"
      ]
    },
    {
      "cell_type": "code",
      "execution_count": null,
      "metadata": {
        "colab": {
          "base_uri": "https://localhost:8080/"
        },
        "id": "Ih0ra60DdLMg",
        "outputId": "d58ebff5-4655-4506-9871-00616a65daf3"
      },
      "outputs": [
        {
          "name": "stdout",
          "output_type": "stream",
          "text": [
            "[0, 1, 3, 4, 6, 7]\n",
            "largest elelemt in given list is 7\n"
          ]
        }
      ],
      "source": [
        "def largest(input_list):\n",
        "  input_list.sort()\n",
        "  print(input_list)\n",
        "  print('largest elelemt in given list is',input_list[-1])\n",
        "\n",
        "## Drive code\n",
        "largest([1,3,4,6,7,0])\n"
      ]
    },
    {
      "cell_type": "code",
      "execution_count": null,
      "metadata": {
        "colab": {
          "base_uri": "https://localhost:8080/"
        },
        "id": "nYjixJ6Hexnb",
        "outputId": "95c4a475-ccc3-473e-ffcf-afa43efbfc81"
      },
      "outputs": [
        {
          "name": "stdout",
          "output_type": "stream",
          "text": [
            "[0, 1, 3, 4, 5, 6, 7, 23]\n",
            "largest elelemt in given list is 23\n"
          ]
        }
      ],
      "source": [
        "def largest_1(input_list):\n",
        "  new_list=sorted(input_list)\n",
        "  print(new_list)\n",
        "  print('largest elelemt in given list is',new_list[-1])\n",
        "\n",
        "## Drive code\n",
        "largest_1([1,3,4,6,7,0,5,23])"
      ]
    },
    {
      "cell_type": "code",
      "execution_count": null,
      "metadata": {
        "colab": {
          "base_uri": "https://localhost:8080/"
        },
        "id": "7CII8j96dwyB",
        "outputId": "f5ada963-6c1e-463e-f7f1-59559ea425ee"
      },
      "outputs": [
        {
          "name": "stdout",
          "output_type": "stream",
          "text": [
            "[0, 1, 3, 5, 7, 9]\n",
            "[1, 3, 5, 7, 9, 0]\n"
          ]
        }
      ],
      "source": [
        "l=[1,3,5,7,9,0]\n",
        "print(sorted(l)) ### Sort the element amn placed in  different memory location\n",
        "print(l)"
      ]
    },
    {
      "cell_type": "code",
      "execution_count": null,
      "metadata": {
        "colab": {
          "base_uri": "https://localhost:8080/"
        },
        "id": "RGYqNKk3ePcJ",
        "outputId": "088cd2f4-9f2e-42bf-cc17-05f744e803f6"
      },
      "outputs": [
        {
          "name": "stdout",
          "output_type": "stream",
          "text": [
            "Given list is:[9, 4, 6, 8, 1, 2]\n",
            "largest element from the list is: 9\n"
          ]
        }
      ],
      "source": [
        "### User defind function\n",
        "'''\n",
        "assign first element as max value and then compare each value from list to max value\n",
        "if the condition is true then assign smaller value to max value variable and check again till the\n",
        "loop is exhaust\n",
        "'''\n",
        "### Function declaration\n",
        "def max_value(list):\n",
        "  max_num=list[0]\n",
        "  for num in range(len(list)):\n",
        "    if max_num<list[num]:\n",
        "      max_num=list[num]\n",
        "    else:\n",
        "      pass\n",
        "  return max_num\n",
        "\n",
        "### Driver code\n",
        "l=[9,4,6,8,1,2]\n",
        "largest_value=max_value(l)\n",
        "print(f'Given list is:{l}')\n",
        "print(f'largest element from the list is: {largest_value}')"
      ]
    },
    {
      "cell_type": "markdown",
      "metadata": {
        "id": "50GbLkYXjgx2"
      },
      "source": [
        "### Smallest value from the list"
      ]
    },
    {
      "cell_type": "code",
      "execution_count": null,
      "metadata": {
        "colab": {
          "base_uri": "https://localhost:8080/"
        },
        "id": "-3ByktiaeQgv",
        "outputId": "e9c8a9eb-d23e-4248-c8b7-6a5eb7bd6253"
      },
      "outputs": [
        {
          "name": "stdout",
          "output_type": "stream",
          "text": [
            "smallest element within the given list [2, 5, 8, 9, 0] is 0\n"
          ]
        }
      ],
      "source": [
        "## Inbuilt function\n",
        "l=[2,5,8,9,0]\n",
        "print(f\"smallest element within the given list {l} is {sorted(l)[0]}\")"
      ]
    },
    {
      "cell_type": "code",
      "execution_count": null,
      "metadata": {
        "colab": {
          "base_uri": "https://localhost:8080/"
        },
        "id": "ajYfVD2df5q9",
        "outputId": "31e7b63e-1bd7-4546-dfad-de6909beceac"
      },
      "outputs": [
        {
          "name": "stdout",
          "output_type": "stream",
          "text": [
            "smallest element within the given list [0, 5, 7, 8, 1, 24, 3] is 0\n"
          ]
        }
      ],
      "source": [
        "l=[0,5,7,8,1,24,3]\n",
        "print(f\"smallest element within the given list {l} is {min(l)}\")"
      ]
    },
    {
      "cell_type": "code",
      "execution_count": null,
      "metadata": {
        "colab": {
          "base_uri": "https://localhost:8080/"
        },
        "id": "_e_W4vfdkFfR",
        "outputId": "5aee9cea-f1df-4e70-afe3-33f1f0098b3a"
      },
      "outputs": [
        {
          "name": "stdout",
          "output_type": "stream",
          "text": [
            "smallest element within the given list [-1, 0, 4, 5, 7, 2, 3] is -1\n"
          ]
        }
      ],
      "source": [
        "## FUnction declaration\n",
        "def smallest_element(list):\n",
        "  return sorted(list)[0]\n",
        "\n",
        "## Drive code\n",
        "l=[-1,0,4,5,7,2,3]\n",
        "result=smallest_element(l)\n",
        "print(f\"smallest element within the given list {l} is {result}\")\n"
      ]
    },
    {
      "cell_type": "code",
      "execution_count": null,
      "metadata": {
        "colab": {
          "base_uri": "https://localhost:8080/"
        },
        "id": "4CBNddFrkvDB",
        "outputId": "8579f436-4c34-4c21-eb81-c5098a24f473"
      },
      "outputs": [
        {
          "name": "stdout",
          "output_type": "stream",
          "text": [
            "Enter the list element4 5 6 -0 0\n",
            "smallest number within given list is 0\n"
          ]
        }
      ],
      "source": [
        "### User defind function\n",
        "### Function declaration\n",
        "def smallest_number(list):\n",
        "  min=list[0]\n",
        "  for num in range(len(list)):\n",
        "    if min>list[num]:\n",
        "      min=list[num]\n",
        "    else:\n",
        "      pass\n",
        "  return min\n",
        "\n",
        "### Drive code\n",
        "l=list(map(int,input('Enter the list element').split()))\n",
        "print(f\"smallest number within given list is {smallest_number(l)}\")"
      ]
    },
    {
      "cell_type": "code",
      "execution_count": null,
      "metadata": {
        "colab": {
          "base_uri": "https://localhost:8080/"
        },
        "id": "VJBRNA7wle6a",
        "outputId": "4272f19e-e2f3-4197-ec3b-ed07d107fe16"
      },
      "outputs": [
        {
          "data": {
            "text/plain": [
              "True"
            ]
          },
          "execution_count": 49,
          "metadata": {},
          "output_type": "execute_result"
        }
      ],
      "source": [
        "-0==0 ## 0 is always treated as absolute number "
      ]
    },
    {
      "cell_type": "markdown",
      "metadata": {
        "id": "sf456MxspP9c"
      },
      "source": [
        "### String length is 2 or more and first and last character must be same"
      ]
    },
    {
      "cell_type": "code",
      "execution_count": null,
      "metadata": {
        "colab": {
          "base_uri": "https://localhost:8080/"
        },
        "id": "HUVtQce1lluO",
        "outputId": "751674e7-5b4c-487d-8fb9-19e7a8d8eb37"
      },
      "outputs": [
        {
          "name": "stdout",
          "output_type": "stream",
          "text": [
            "aaa\n",
            "bb\n",
            "zxz\n",
            "number of elelent which satisfied the condition is 3\n"
          ]
        }
      ],
      "source": [
        "def string_func(list):\n",
        "  counter=0\n",
        "  for ch in list:\n",
        "    if len(ch)>=2 and ch[0]==ch[-1]:\n",
        "      print(ch)\n",
        "      counter+=1\n",
        "  print(f'number of elelent which satisfied the condition is {counter}')\n",
        "\n",
        "## Driver code\n",
        "string_func(['asd','aaa','bb','zxz'])"
      ]
    },
    {
      "cell_type": "code",
      "execution_count": null,
      "metadata": {
        "colab": {
          "base_uri": "https://localhost:8080/"
        },
        "id": "rmoTJVBpmW35",
        "outputId": "74b79f3e-0321-4335-92cf-4301ee2f0ade"
      },
      "outputs": [
        {
          "name": "stdout",
          "output_type": "stream",
          "text": [
            "0\n"
          ]
        }
      ],
      "source": [
        "l=[]\n",
        "print(len(l))"
      ]
    },
    {
      "cell_type": "markdown",
      "metadata": {
        "id": "fLJbqSiYRF2n"
      },
      "source": [
        "### Sorted in increasing order by the last element in each tuple from a given list of non-empty tuple"
      ]
    },
    {
      "cell_type": "code",
      "execution_count": null,
      "metadata": {
        "colab": {
          "base_uri": "https://localhost:8080/"
        },
        "id": "QBUqM4NapAfD",
        "outputId": "4ebd3771-58a2-49e9-bd33-b8b340ecec92"
      },
      "outputs": [
        {
          "data": {
            "text/plain": [
              "[(9, 0), (4, 1), (1, 2), (5, 2)]"
            ]
          },
          "execution_count": 3,
          "metadata": {},
          "output_type": "execute_result"
        }
      ],
      "source": [
        "l=[(1,2),(5,2),(9,0),(4,1)]\n",
        "def sort_tuple(l):\n",
        "  #return sorted(l) ###Sorted based on first element of tuple\n",
        "  return sorted(l,key=lambda x:x[1]) ### Sorted based on first last elements of tuple\n",
        "\n",
        "## Driver code\n",
        "sort_tuple(l)"
      ]
    },
    {
      "cell_type": "markdown",
      "metadata": {
        "id": "lxeQ2YE5RYwY"
      },
      "source": [
        "### Remove duplicate elements from list "
      ]
    },
    {
      "cell_type": "code",
      "execution_count": null,
      "metadata": {
        "colab": {
          "base_uri": "https://localhost:8080/"
        },
        "id": "Pnbvuml-QlFq",
        "outputId": "49e83ece-b1b6-4c98-d7b3-21119ed60945"
      },
      "outputs": [
        {
          "name": "stdout",
          "output_type": "stream",
          "text": [
            "final list after removal is [1, 13, 3, 4]\n"
          ]
        }
      ],
      "source": [
        "### User defind function\n",
        "### Function declaration\n",
        "\n",
        "def remove_duplicate(input_list):\n",
        "  dup_list=[]\n",
        "  for i in input_list:\n",
        "    if i not in dup_list:\n",
        "      dup_list.append(i)\n",
        "    else:\n",
        "      pass\n",
        "  return dup_list\n",
        "\n",
        "### Driver code\n",
        "l=[1,1,1,13,3,3,3,4,4,4]\n",
        "result=remove_duplicate(l)\n",
        "print(f\"final list after removal is {result}\")\n"
      ]
    },
    {
      "cell_type": "code",
      "execution_count": null,
      "metadata": {
        "colab": {
          "base_uri": "https://localhost:8080/"
        },
        "id": "MsZXHLgrSSK_",
        "outputId": "4304d367-9495-4e14-81c0-fdf933ed7153"
      },
      "outputs": [
        {
          "name": "stdout",
          "output_type": "stream",
          "text": [
            "enter list element2 4 54 3333 333 333 33 33 33 3\n",
            "final list after removal is [33, 2, 3, 4, 3333, 333, 54]\n"
          ]
        }
      ],
      "source": [
        "### Inbuilt function\n",
        "### Function declaration \n",
        "def remove_duplicate(input_list):\n",
        "  return list(set(input_list))\n",
        "\n",
        "### Driver code\n",
        "input_list=list(map(int,input(\"enter list element\").split()))\n",
        "result=remove_duplicate(input_list)\n",
        "print(f\"final list after removal is {result}\")"
      ]
    },
    {
      "cell_type": "code",
      "execution_count": null,
      "metadata": {},
      "outputs": [],
      "source": [
        "from collections import OrderedDict\n",
        "list_val=[1,1,1,13,3,3,3,4,4,4]\n",
        "list(OrderedDict.fromkeys(list_val))\n",
        "\n",
        "#[1, 13, 3, 4]"
      ]
    },
    {
      "cell_type": "code",
      "execution_count": null,
      "metadata": {},
      "outputs": [],
      "source": [
        "from collections import Counter\n",
        "val=Counter(list_val) #return collection counter \n",
        "[*val] #return unique values\n",
        "\n",
        "#[1, 13, 3, 4]"
      ]
    },
    {
      "cell_type": "code",
      "execution_count": null,
      "metadata": {},
      "outputs": [],
      "source": [
        "import numpy as np\n",
        "np.unique(list_val)\n",
        "\n",
        "#[1, 13, 3, 4]"
      ]
    },
    {
      "cell_type": "markdown",
      "metadata": {
        "id": "uru9TZuNTKqa"
      },
      "source": [
        "### To check whether a list is empty or not"
      ]
    },
    {
      "cell_type": "code",
      "execution_count": null,
      "metadata": {
        "colab": {
          "base_uri": "https://localhost:8080/"
        },
        "id": "ebEryZqgSvMr",
        "outputId": "eb1580fd-cafc-4ad4-c2ac-d19e2ba87b02"
      },
      "outputs": [
        {
          "name": "stdout",
          "output_type": "stream",
          "text": [
            "Provide list is not empty\n",
            "Provided list is empty\n"
          ]
        }
      ],
      "source": [
        "### Function declaration\n",
        "def check_empty(l):\n",
        "  if len(l)==0:\n",
        "    print('Provided list is empty')\n",
        "  else:\n",
        "    print('Provide list is not empty')\n",
        "\n",
        "### Driver code\n",
        "check_empty([1,2,3,4])\n",
        "check_empty([])\n"
      ]
    },
    {
      "cell_type": "code",
      "execution_count": null,
      "metadata": {},
      "outputs": [],
      "source": [
        "def check_empty_list(list):\n",
        "  if l:\n",
        "    print('Not empty')\n",
        "  else:\n",
        "    print('Empty')\n",
        "\n",
        "l=[]\n",
        "check_empty_list(l)\n",
        "\n",
        "#Empty"
      ]
    },
    {
      "cell_type": "code",
      "execution_count": null,
      "metadata": {},
      "outputs": [],
      "source": [
        "def check_empty_list2(list_2):\n",
        "  if not list_2:\n",
        "    return 'Empty List'\n",
        "  else:\n",
        "    return 'List is not empty'\n",
        "\n",
        "l=[]\n",
        "check_empty_list2(l)\n",
        "\n",
        "#Empty List"
      ]
    },
    {
      "cell_type": "code",
      "execution_count": null,
      "metadata": {},
      "outputs": [],
      "source": [
        "def check_empty_list3(list_3):\n",
        "  if list_3==[]:\n",
        "    return 'Empty List'\n",
        "  else:\n",
        "    return 'List is not empty'\n",
        "\n",
        "l=[2,3,4,5]\n",
        "check_empty_list3(l)\n",
        "\n",
        "#List is not empty"
      ]
    },
    {
      "cell_type": "code",
      "execution_count": null,
      "metadata": {},
      "outputs": [],
      "source": [
        "def check_empty_list4(list_4):\n",
        "  if list_4.__len__() == 0:\n",
        "    return 'Empty List'\n",
        "  else:\n",
        "    return 'List is not empty'\n",
        "\n",
        "l=[2,3,4,5]\n",
        "check_empty_list4(l)\n",
        "\n",
        "#List is not empty"
      ]
    },
    {
      "cell_type": "markdown",
      "metadata": {
        "id": "EmuPiu-kUZ-W"
      },
      "source": [
        "### List of words that are longer than n from given list of words"
      ]
    },
    {
      "cell_type": "code",
      "execution_count": null,
      "metadata": {
        "id": "G9UlstlqTe43"
      },
      "outputs": [],
      "source": [
        "def word_length_check(n,input_list):\n",
        "  for i in range(len(input_list)):\n",
        "    if len(input_list[i])>n:\n",
        "      print(input_list[i])\n",
        "    else:\n",
        "      pass\n",
        "  \n"
      ]
    },
    {
      "cell_type": "code",
      "execution_count": null,
      "metadata": {
        "colab": {
          "base_uri": "https://localhost:8080/"
        },
        "id": "Aux3oRUqTh4Z",
        "outputId": "7613bfb7-4b10-47ca-f0af-ca2c2ebdc8bd"
      },
      "outputs": [
        {
          "name": "stdout",
          "output_type": "stream",
          "text": [
            "Enter the elelemtn within list:nitesh sarvesh pandey\n",
            "nitesh\n",
            "sarvesh\n",
            "pandey\n"
          ]
        }
      ],
      "source": [
        "## Drive code\n",
        "input_list=list(map(str,input('Enter the elelemtn within list:').split()))\n",
        "word_length_check(2,input_list)"
      ]
    },
    {
      "cell_type": "markdown",
      "metadata": {
        "id": "g6-xAy5bwtFT"
      },
      "source": [
        "### compare 2 list and return True if atleast one common value present"
      ]
    },
    {
      "cell_type": "code",
      "execution_count": null,
      "metadata": {
        "colab": {
          "base_uri": "https://localhost:8080/"
        },
        "id": "Kwd6q1Ymu2hu",
        "outputId": "8e376b2d-477a-4617-dd72-c311f4dd12a5"
      },
      "outputs": [
        {
          "name": "stdout",
          "output_type": "stream",
          "text": [
            "Enter elelemt in first list:344 555 55 234 nitesh\n",
            "Enter elelemt in first list:nitesh 345\n",
            "Common element present in list is True\n",
            "Common element present in list is False\n"
          ]
        }
      ],
      "source": [
        "def list_compare(list1,list2):\n",
        "  count=0\n",
        "  for i in list1:\n",
        "    if i in list2:\n",
        "      count+=1\n",
        "  if count>0:\n",
        "    return True\n",
        "  else:\n",
        "    return False\n",
        "\n",
        "### Driver code\n",
        "list1=list(map(str,input('Enter elelemt in first list:').split()))\n",
        "list2=list(map(str,input('Enter elelemt in Second list:').split()))\n",
        "print(f\"Common element present in list is {list_compare(list1,list2)}\")\n",
        "print(f\"Common element present in list is {list_compare([1,2,'pandey'],['nitesh',8,9])}\")"
      ]
    },
    {
      "cell_type": "markdown",
      "metadata": {},
      "source": [
        "#### Write a program to find the value except specified the index position in argument"
      ]
    },
    {
      "cell_type": "code",
      "execution_count": null,
      "metadata": {
        "colab": {
          "base_uri": "https://localhost:8080/"
        },
        "id": "MlLlYOa1xSeB",
        "outputId": "240ec54a-6483-4bd6-e9a8-983ac0c89e79"
      },
      "outputs": [
        {
          "data": {
            "text/plain": [
              "[2, 34, 7]"
            ]
          },
          "execution_count": 32,
          "metadata": {},
          "output_type": "execute_result"
        }
      ],
      "source": [
        "def specific_elements(list,*element_index):\n",
        "  l=[]\n",
        "  for i in range(len(list)):\n",
        "    if i not in element_index:\n",
        "      l.append(list[i])\n",
        "  return l\n",
        "\n",
        "### Driver code\n",
        "specific_elements([1,2,34,7,8],0,4,5)"
      ]
    },
    {
      "cell_type": "markdown",
      "metadata": {
        "id": "rUCeFLw2NHGC"
      },
      "source": [
        "### Shuffle and print the specified list"
      ]
    },
    {
      "cell_type": "code",
      "execution_count": null,
      "metadata": {
        "colab": {
          "base_uri": "https://localhost:8080/"
        },
        "id": "G3Yuy1CAxYxM",
        "outputId": "0ee65210-e7cb-4642-9c22-789709b89878"
      },
      "outputs": [
        {
          "data": {
            "text/plain": [
              "[6, 7, 5, 8]"
            ]
          },
          "execution_count": 45,
          "metadata": {},
          "output_type": "execute_result"
        }
      ],
      "source": [
        "#Shuffle function shuffle the element inplace\n",
        "from random import shuffle,sample\n",
        "ip_list=[2,3,4,5]\n",
        "list_new=[5,6,7,8]\n",
        "shuffle(ip_list)\n",
        "sample(list_new,len(list_new))"
      ]
    },
    {
      "cell_type": "code",
      "execution_count": null,
      "metadata": {
        "colab": {
          "base_uri": "https://localhost:8080/"
        },
        "id": "4PuIduDzKlvt",
        "outputId": "e9e38f72-3dbb-45da-e34a-e51b25c2ca24"
      },
      "outputs": [
        {
          "name": "stdout",
          "output_type": "stream",
          "text": [
            "[3, 2, 4, 5]\n",
            "[5, 6, 7, 8]\n"
          ]
        }
      ],
      "source": [
        "print(ip_list) ## Changes in main list\n",
        "print(list_new) ## create different reference variable without affecting the old list"
      ]
    },
    {
      "cell_type": "markdown",
      "metadata": {
        "id": "4VV33RbiUKdy"
      },
      "source": [
        "### Flatten a shallow list"
      ]
    },
    {
      "cell_type": "code",
      "execution_count": null,
      "metadata": {
        "colab": {
          "base_uri": "https://localhost:8080/"
        },
        "id": "cOQ-PuMqL34Q",
        "outputId": "cf513756-54a4-48f8-8350-b4b70f09a538"
      },
      "outputs": [
        {
          "data": {
            "text/plain": [
              "[1, 2, 3, 4, 5, 6, 7, 8, 9]"
            ]
          },
          "execution_count": 47,
          "metadata": {},
          "output_type": "execute_result"
        }
      ],
      "source": [
        "list_value=[[1,2,3],[4,5,6],[7,8,9]]\n",
        "def list_flatten(list_value):\n",
        "  l=[]\n",
        "  for i in list_value:\n",
        "    l+=i\n",
        "  return l\n",
        "\n",
        "## Driver code\n",
        "list_flatten(list_value)"
      ]
    },
    {
      "cell_type": "markdown",
      "metadata": {
        "id": "ymBYbPOqVGEq"
      },
      "source": [
        "## Append the list"
      ]
    },
    {
      "cell_type": "code",
      "execution_count": null,
      "metadata": {
        "id": "8zz21KDSL6bW"
      },
      "outputs": [],
      "source": [
        "l1=[1,3,5,7]\n",
        "l2=[2,4,6,8]"
      ]
    },
    {
      "cell_type": "code",
      "execution_count": null,
      "metadata": {
        "colab": {
          "base_uri": "https://localhost:8080/"
        },
        "id": "e4x7NgjjUXbt",
        "outputId": "eeea4b01-8d39-44ee-d1d8-2c4e22dcf3cb"
      },
      "outputs": [
        {
          "data": {
            "text/plain": [
              "[1, 3, 5, 7, 2, 4, 6, 8]"
            ]
          },
          "execution_count": 59,
          "metadata": {},
          "output_type": "execute_result"
        }
      ],
      "source": [
        "##l1.append(l2) ##[1, 3, 5, 7, [2, 4, 6, 8]]\n",
        "##l1.insert(len(l2),l2) ##[1, 3, 5, 7, [2, 4, 6, 8]]\n",
        "l1+l2 ##[1, 3, 5, 7, 2, 4, 6, 8]"
      ]
    },
    {
      "cell_type": "markdown",
      "metadata": {
        "id": "mAVleqnOWsYr"
      },
      "source": [
        "Select Item randomly from a list"
      ]
    },
    {
      "cell_type": "code",
      "execution_count": null,
      "metadata": {
        "id": "vHkIJLfWUads"
      },
      "outputs": [],
      "source": [
        "import random\n",
        "\n",
        "## Function declaration\n",
        "def random_sample(list):\n",
        "  print(random.sample(list,1))\n",
        "\n",
        "## Driver code\n",
        "random_sample([1,4,6,'Nitesh'])\n",
        "  "
      ]
    },
    {
      "cell_type": "code",
      "execution_count": null,
      "metadata": {
        "id": "zRQaWh5gUbk-"
      },
      "outputs": [],
      "source": [
        "### Function declaration\n",
        "def random_sample(list1):\n",
        "  return random.choice(list1)\n",
        "\n",
        "### Driver code\n",
        "random_sample([1,4,7,9])"
      ]
    },
    {
      "cell_type": "code",
      "execution_count": null,
      "metadata": {
        "colab": {
          "base_uri": "https://localhost:8080/"
        },
        "id": "fZmOZFgrVeN9",
        "outputId": "4f134ff0-eb96-4b7f-c024-997bbccc6a2e"
      },
      "outputs": [
        {
          "data": {
            "text/plain": [
              "8"
            ]
          },
          "execution_count": 91,
          "metadata": {},
          "output_type": "execute_result"
        }
      ],
      "source": [
        "def second_largest(list):\n",
        "  return sorted(list)[-2]\n",
        "\n",
        "l=[4,6,8,8,0,2]\n",
        "second_largest(l) ### It get failed in such a scenerio where duplicate value present in list"
      ]
    },
    {
      "cell_type": "code",
      "execution_count": null,
      "metadata": {
        "id": "cdK3g6o3WMcF"
      },
      "outputs": [],
      "source": [
        "### Funcion declaration\n",
        "def second_largest(l):\n",
        "  new_list=list(set(l))\n",
        "  new_list.sort()\n",
        "  print(new_list[-2])\n",
        "  \n",
        "##Driver code \n",
        "second_largest([4,6,8,8,0,2]) ### This logic work fine in all situation"
      ]
    },
    {
      "cell_type": "markdown",
      "metadata": {
        "id": "PTaQThJsayIq"
      },
      "source": [
        "### Unique values from list"
      ]
    },
    {
      "cell_type": "code",
      "execution_count": null,
      "metadata": {
        "colab": {
          "base_uri": "https://localhost:8080/"
        },
        "id": "ezvdejDrYtge",
        "outputId": "2db52c3a-7ebd-4a43-cd73-641a4515770a"
      },
      "outputs": [
        {
          "data": {
            "text/plain": [
              "[1, 12, 3, 4, 5]"
            ]
          },
          "execution_count": 110,
          "metadata": {},
          "output_type": "execute_result"
        }
      ],
      "source": [
        "### Function declaration\n",
        "def unique_values(list):\n",
        "  new_list=[]\n",
        "  for i in list:\n",
        "    if i not in new_list:\n",
        "      new_list.append(i)\n",
        "  return new_list\n",
        "\n",
        "## Driver code\n",
        "unique_values([1,1,1,12,3,4,4,4,5])"
      ]
    },
    {
      "cell_type": "code",
      "execution_count": null,
      "metadata": {
        "colab": {
          "base_uri": "https://localhost:8080/"
        },
        "id": "8lbuwFe6Y0_O",
        "outputId": "24b88491-2ee4-4fef-b2eb-8f3bf05c0b9b"
      },
      "outputs": [
        {
          "data": {
            "text/plain": [
              "[1, 2, 3, 4, 5]"
            ]
          },
          "execution_count": 112,
          "metadata": {},
          "output_type": "execute_result"
        }
      ],
      "source": [
        "def unique_values(list1):\n",
        "  #new_list=set(list1)\n",
        "  #return list(new_list)\n",
        "  return list(set(list1))\n",
        "\n",
        "# Driver code\n",
        "unique_values([1,2,3,4,5,4,3,2,1])"
      ]
    },
    {
      "cell_type": "markdown",
      "metadata": {
        "id": "Am8BEz1UdYls"
      },
      "source": [
        "### Find frequency of element in a list"
      ]
    },
    {
      "cell_type": "code",
      "execution_count": null,
      "metadata": {
        "id": "489yIGwZb6-k"
      },
      "outputs": [],
      "source": [
        "#Method1---Inbuilt function\n",
        "from collections import Counter\n",
        "def values_frequency(l):\n",
        "  return Counter(l)\n",
        "  \n",
        "## Driver code\n",
        "values_frequency([1,2,3,2,1,3,4])"
      ]
    },
    {
      "cell_type": "code",
      "execution_count": null,
      "metadata": {
        "colab": {
          "base_uri": "https://localhost:8080/"
        },
        "id": "-1-2qUeGcX9U",
        "outputId": "b427f946-1994-431f-cc54-9c002372dbde"
      },
      "outputs": [
        {
          "data": {
            "text/plain": [
              "[(1, 3), (2, 3), (3, 1), (4, 1), (5, 1)]"
            ]
          },
          "execution_count": 117,
          "metadata": {},
          "output_type": "execute_result"
        }
      ],
      "source": [
        "#Method-2 --user defind function\n",
        "def frequency_count(input_list):\n",
        "  l=[]\n",
        "  for i in set(input_list):\n",
        "    l.append((i,input_list.count(i)))\n",
        "  return l\n",
        "\n",
        "## Driver code\n",
        "frequency_count([1,1,1,2,2,2,3,4,5])"
      ]
    },
    {
      "cell_type": "code",
      "execution_count": null,
      "metadata": {
        "colab": {
          "base_uri": "https://localhost:8080/"
        },
        "id": "rHenx3yBcdH5",
        "outputId": "8bee9aed-ae4a-405a-86e8-3c393e1ce88c"
      },
      "outputs": [
        {
          "data": {
            "text/plain": [
              "[(1, 1), (2, 2), (3, 1), (22, 1)]"
            ]
          },
          "execution_count": 128,
          "metadata": {},
          "output_type": "execute_result"
        }
      ],
      "source": [
        "###Method-3 -- Function declaration (Using Dictionary)\n",
        "def frquency_count(list_input):\n",
        "  d={}\n",
        "  count=0\n",
        "  for i in set(list_input):\n",
        "    if i in d:\n",
        "      d[i]=count+1\n",
        "    else:\n",
        "      d[i]=i\n",
        "  return d\n",
        "\n",
        "### Driver code\n",
        "frequency_count([1,2,3,2,22])"
      ]
    },
    {
      "cell_type": "markdown",
      "metadata": {
        "id": "z9IMos7pgc17"
      },
      "source": [
        "### Check whether a list contain sublist or not"
      ]
    },
    {
      "cell_type": "code",
      "execution_count": null,
      "metadata": {
        "id": "g2NXpwD_fGrp"
      },
      "outputs": [],
      "source": [
        "l1=[1,2,3,'Nitesh']\n",
        "l2=[[1,2,3],'Pandey','Nitsam']\n",
        "\n",
        "def find_sublist(list1):\n",
        "  for i in list1:\n",
        "    if type(i)==list:\n",
        "      return 'Nested list are present'\n",
        "    else:\n",
        "      return 'No nested list are present'\n",
        "\n",
        "### Driver code\n",
        "find_sublist(l1)  \n",
        "#find_sublist(l2)"
      ]
    },
    {
      "cell_type": "code",
      "execution_count": null,
      "metadata": {
        "colab": {
          "base_uri": "https://localhost:8080/"
        },
        "id": "ebzvQS3JfMkg",
        "outputId": "6e62b223-0a28-467b-b70a-aa067b77a9d6"
      },
      "outputs": [
        {
          "data": {
            "text/plain": [
              "[(),\n",
              " ('Niteh',),\n",
              " ('Pandey',),\n",
              " (1,),\n",
              " ('Niteh', 'Pandey'),\n",
              " ('Niteh', 1),\n",
              " ('Pandey', 1),\n",
              " ('Niteh', 'Pandey', 1)]"
            ]
          },
          "execution_count": 135,
          "metadata": {},
          "output_type": "execute_result"
        }
      ],
      "source": [
        "from itertools import combinations\n",
        "def sublist_find(input_list):\n",
        "  l=[]\n",
        "  for i in range(0,len(input_list)+1):\n",
        "    temp=[list1 for list1 in combinations(input_list,i)]\n",
        "    if len(temp)>0:\n",
        "      l.extend(temp)\n",
        "  return l\n",
        "\n",
        "### Driver code\n",
        "sublist_find(['Niteh','Pandey',1])\n"
      ]
    },
    {
      "cell_type": "markdown",
      "metadata": {
        "id": "415Bz_0XmohH"
      },
      "source": [
        "### Convert list to dictionary"
      ]
    },
    {
      "cell_type": "code",
      "execution_count": null,
      "metadata": {
        "id": "BmVnbb8-moPt"
      },
      "outputs": [],
      "source": [
        "names=['Nitesh','Sarvesh','Arun','Badal']\n",
        "surnames=['Pandey','Pandey','Yadav','None']\n"
      ]
    },
    {
      "cell_type": "code",
      "execution_count": null,
      "metadata": {
        "colab": {
          "base_uri": "https://localhost:8080/"
        },
        "id": "0o5SzpEFg85s",
        "outputId": "a470ef8c-1f03-4735-8a91-c3c62e4f9423"
      },
      "outputs": [
        {
          "data": {
            "text/plain": [
              "{'Nitesh': 'Pandey', 'Sarvesh': 'Pandey', 'Arun': 'Yadav', 'Badal': 'None'}"
            ]
          },
          "execution_count": 153,
          "metadata": {},
          "output_type": "execute_result"
        }
      ],
      "source": [
        "def list_to_dict(list1,list2):\n",
        "  d={}\n",
        "  count=0\n",
        "  for name in names:\n",
        "    d[name]=surnames[count]\n",
        "    count+=1\n",
        "  return d\n",
        "\n",
        "### Driver code\n",
        "list_to_dict(names,surnames)"
      ]
    },
    {
      "cell_type": "markdown",
      "metadata": {
        "id": "4lW4zAL73xGG"
      },
      "source": [
        "### Sort list of nested dictionary "
      ]
    },
    {
      "cell_type": "code",
      "execution_count": null,
      "metadata": {
        "colab": {
          "base_uri": "https://localhost:8080/"
        },
        "id": "Lj9luuWiqYsL",
        "outputId": "70934739-f195-46c4-ec2c-7e35955f5d0b"
      },
      "outputs": [
        {
          "data": {
            "text/plain": [
              "[{'Name': {'Surname': 2}}, {'Name': {'Surname': 3}}, {'Name': {'Surname': 99}}]"
            ]
          },
          "execution_count": 175,
          "metadata": {},
          "output_type": "execute_result"
        }
      ],
      "source": [
        "d=[{'Name':{'Surname':3}},{'Name':{'Surname':2}},{'Name':{'Surname':99}}]\n",
        "\n",
        "def list_nested_dict_sort(inp_dic):\n",
        "  inp_dic.sort(key=lambda x:x['Name']['Surname'])\n",
        "  return inp_dic\n",
        "\n",
        "list_nested_dict_sort(d)\n"
      ]
    },
    {
      "cell_type": "markdown",
      "metadata": {
        "id": "RiGfd38E4jZu"
      },
      "source": [
        "### Find common elements from 2 list"
      ]
    },
    {
      "cell_type": "code",
      "execution_count": null,
      "metadata": {
        "colab": {
          "base_uri": "https://localhost:8080/"
        },
        "id": "z0ZhHKhx3udv",
        "outputId": "05391a8b-c7c6-4f05-c202-9bb2d6a98fe0"
      },
      "outputs": [
        {
          "name": "stdout",
          "output_type": "stream",
          "text": [
            "['Badal']\n"
          ]
        }
      ],
      "source": [
        "l1=['Nitesh','Badal']\n",
        "l2=['Badal','Manish']\n",
        "final_list=[]\n",
        "for i in l1:\n",
        "  if i in l2:\n",
        "    final_list.append(i)\n",
        "print(final_list)"
      ]
    },
    {
      "cell_type": "code",
      "execution_count": null,
      "metadata": {
        "id": "PfwzsMgC4QOR"
      },
      "outputs": [],
      "source": [
        "l=[1,2,3,4,5,6,7,8,0]\n",
        "n=2"
      ]
    },
    {
      "cell_type": "code",
      "execution_count": null,
      "metadata": {
        "colab": {
          "base_uri": "https://localhost:8080/"
        },
        "id": "jmYhXevi44uC",
        "outputId": "10b47fae-093f-4def-aa37-0443cc2ba2b9"
      },
      "outputs": [
        {
          "name": "stdout",
          "output_type": "stream",
          "text": [
            "[1 2 3 4 5] [6 7 8 0]\n"
          ]
        }
      ],
      "source": [
        "import numpy as np\n",
        "print(*np.array_split(l, 2))\n"
      ]
    },
    {
      "cell_type": "code",
      "execution_count": null,
      "metadata": {
        "id": "Xn_mjgtv5JvQ"
      },
      "outputs": [],
      "source": [
        "def split(a, n):\n",
        "    k, m = divmod(len(a), n)\n",
        "    return (a[i*k+min(i, m):(i+1)*k+min(i+1, m)] for i in range(n))"
      ]
    },
    {
      "cell_type": "code",
      "execution_count": null,
      "metadata": {
        "colab": {
          "base_uri": "https://localhost:8080/"
        },
        "id": "85M0R2YJ7EJA",
        "outputId": "8ed78d09-08ee-48d3-9424-3d71bc8716d4"
      },
      "outputs": [
        {
          "name": "stdout",
          "output_type": "stream",
          "text": [
            "[1, 2, 3]\n",
            "[4, 5, 6]\n",
            "[7, 8, 0]\n"
          ]
        }
      ],
      "source": [
        "for i in split(l, 3):\n",
        "  print(i)"
      ]
    },
    {
      "cell_type": "markdown",
      "metadata": {
        "id": "MFHVKTloIDnt"
      },
      "source": [
        "### Concate the value of list into single string"
      ]
    },
    {
      "cell_type": "code",
      "execution_count": null,
      "metadata": {
        "id": "5wieoJhI7GVH"
      },
      "outputs": [],
      "source": [
        "l=[11,22,33]\n",
        "m=[str(ele) for ele in l]\n",
        "''.join(m)"
      ]
    },
    {
      "cell_type": "code",
      "execution_count": null,
      "metadata": {
        "colab": {
          "base_uri": "https://localhost:8080/",
          "height": 36
        },
        "id": "SVDPwzwhF7gw",
        "outputId": "2c1bc8f9-63df-4135-8bf0-0d7487d9006e"
      },
      "outputs": [
        {
          "data": {
            "application/vnd.google.colaboratory.intrinsic+json": {
              "type": "string"
            },
            "text/plain": [
              "'112233'"
            ]
          },
          "execution_count": 221,
          "metadata": {},
          "output_type": "execute_result"
        }
      ],
      "source": [
        "### Function Declaration\n",
        "def list_to_string(input_list):\n",
        "  string=\"\"\n",
        "  for i in input_list:\n",
        "    string+=str(i)\n",
        "  return string\n",
        "\n",
        "### Driver code\n",
        "list_to_string([11,22,33])"
      ]
    },
    {
      "cell_type": "code",
      "execution_count": null,
      "metadata": {
        "colab": {
          "base_uri": "https://localhost:8080/"
        },
        "id": "F4AaDZJuF-k7",
        "outputId": "cf6529b2-0d7e-4951-857a-7be61d968cb6"
      },
      "outputs": [
        {
          "name": "stdout",
          "output_type": "stream",
          "text": [
            "N Nitesh\n",
            "S Sarvesh\n",
            "P Pandey\n"
          ]
        }
      ],
      "source": [
        "## Function declaration\n",
        "def split_list_string(input_list):\n",
        "  for i in input_list:\n",
        "    print(i[0],i)\n",
        "\n",
        "## Driver code\n",
        "split_list_string(['Nitesh','Sarvesh','Pandey'])"
      ]
    },
    {
      "cell_type": "code",
      "execution_count": null,
      "metadata": {
        "colab": {
          "base_uri": "https://localhost:8080/"
        },
        "id": "YAlN1HLoIqgU",
        "outputId": "f6942140-fee5-4dce-aa67-533c6bcd16e3"
      },
      "outputs": [
        {
          "name": "stdout",
          "output_type": "stream",
          "text": [
            "New list is [2, 3, 5, 6]\n"
          ]
        }
      ],
      "source": [
        "l=[(5,3),(2,6),(3,5)]\n",
        "def sorted_unique_value(list_new):\n",
        "  return sorted(set().union(*l))\n",
        "\n",
        "## Driver code\n",
        "result=sorted_unique_value(l)\n",
        "print(f'New list is {result}')"
      ]
    },
    {
      "cell_type": "code",
      "execution_count": null,
      "metadata": {
        "id": "b3nZ3G-lJQ9w"
      },
      "outputs": [],
      "source": []
    },
    {
      "cell_type": "markdown",
      "metadata": {
        "id": "mit4XNt_UrKr"
      },
      "source": [
        "### Check if all elements in a list are identical"
      ]
    },
    {
      "cell_type": "code",
      "execution_count": null,
      "metadata": {
        "colab": {
          "base_uri": "https://localhost:8080/",
          "height": 36
        },
        "id": "S_3dJ44JKg1N",
        "outputId": "c54aff40-9c8b-42c0-fb89-03325d49f971"
      },
      "outputs": [
        {
          "data": {
            "application/vnd.google.colaboratory.intrinsic+json": {
              "type": "string"
            },
            "text/plain": [
              "'Element within list is not same'"
            ]
          },
          "execution_count": 246,
          "metadata": {},
          "output_type": "execute_result"
        }
      ],
      "source": [
        "def find_similar_list(list_new):\n",
        "  if l.count(l[0])==len(l):\n",
        "    return 'All element within list is same'\n",
        "  else:\n",
        "    return 'Element within list is not same'\n",
        "\n",
        "l=[1,2,1,1]\n",
        "find_similar_list(l)"
      ]
    },
    {
      "cell_type": "code",
      "execution_count": null,
      "metadata": {
        "id": "i0ZJ1D8tScTC"
      },
      "outputs": [],
      "source": [
        "from itertools import groupby\n",
        "\n",
        "def all_equal(iterable):\n",
        "    g = groupby(iterable)\n",
        "    print(list(g))\n",
        "    return next(g, True) and not next(g, False)"
      ]
    },
    {
      "cell_type": "code",
      "execution_count": null,
      "metadata": {
        "colab": {
          "base_uri": "https://localhost:8080/"
        },
        "id": "gxgiFAx2TuRm",
        "outputId": "d4ef7d1e-47c5-4974-cc01-d44ddeb3f3da"
      },
      "outputs": [
        {
          "name": "stdout",
          "output_type": "stream",
          "text": [
            "['nitesh']\n",
            "['pandey']\n"
          ]
        }
      ],
      "source": [
        "in_list=[['nitesh'],['pandey']]\n",
        "for i in in_list:\n",
        "  print(i)"
      ]
    },
    {
      "cell_type": "markdown",
      "metadata": {
        "id": "xxjFhkprZQBc"
      },
      "source": [
        "d={\"title\":['a','b','c'],\"city\":['x','y','z'],\"likes\":[1,2,3],\"view\":[10,20,30]}\n",
        "\n",
        "**output-**\n",
        "('a', 'x', 1, 10)\n",
        "('b', 'y', 2, 20)\n",
        "('c', 'z', 3, 30)"
      ]
    },
    {
      "cell_type": "code",
      "execution_count": null,
      "metadata": {
        "colab": {
          "base_uri": "https://localhost:8080/"
        },
        "id": "hSR3sSkvWrem",
        "outputId": "b03bd876-082b-4bdc-d805-943c47a7e980"
      },
      "outputs": [
        {
          "name": "stdout",
          "output_type": "stream",
          "text": [
            "('a', 'x', 1, 10)\n",
            "('b', 'y', 2, 20)\n",
            "('c', 'z', 3, 30)\n"
          ]
        }
      ],
      "source": [
        "### inbuit function\n",
        "for i in zip(*d.values()):\n",
        "  print(i)"
      ]
    },
    {
      "cell_type": "code",
      "execution_count": null,
      "metadata": {
        "colab": {
          "base_uri": "https://localhost:8080/"
        },
        "id": "phDD3K0lWsPt",
        "outputId": "82788682-e290-4e5c-c34a-2cda264ab55a"
      },
      "outputs": [
        {
          "data": {
            "text/plain": [
              "[['a', 'x', 1, 10], ['b', 'y', 2, 20], ['c', 'z', 3, 30]]"
            ]
          },
          "execution_count": 25,
          "metadata": {},
          "output_type": "execute_result"
        }
      ],
      "source": [
        "### Using pandas DF \n",
        "import pandas as pd\n",
        "df=pd.DataFrame(d)\n",
        "df.values.tolist()"
      ]
    },
    {
      "cell_type": "code",
      "execution_count": null,
      "metadata": {
        "colab": {
          "base_uri": "https://localhost:8080/"
        },
        "id": "dnAfP-8YX9e8",
        "outputId": "17e467b3-2356-4015-b83c-f25b29315a4c"
      },
      "outputs": [
        {
          "name": "stdout",
          "output_type": "stream",
          "text": [
            "('a', 'x', 1, 10)\n",
            "('b', 'y', 2, 20)\n",
            "('c', 'z', 3, 30)\n"
          ]
        }
      ],
      "source": [
        "### Using custom function\n",
        "def dict_print(dic):\n",
        "  title,city,likes,view=list(dic.values())\n",
        "  for i in zip(title,city,likes,view):\n",
        "    print(i)\n",
        "dict_print(d)"
      ]
    },
    {
      "cell_type": "markdown",
      "metadata": {
        "id": "wO_yAPdmcG8J"
      },
      "source": [
        "Smallest specified index position element from a list of tuple "
      ]
    },
    {
      "cell_type": "code",
      "execution_count": null,
      "metadata": {
        "colab": {
          "base_uri": "https://localhost:8080/"
        },
        "id": "XgMsY26XYBcj",
        "outputId": "d6b679c2-f537-4f4e-b4e9-ba94e1e12fe0"
      },
      "outputs": [
        {
          "data": {
            "text/plain": [
              "2"
            ]
          },
          "execution_count": 32,
          "metadata": {},
          "output_type": "execute_result"
        }
      ],
      "source": [
        "l=[(4,5,6),(1,2,3),(0,4,6),(8,9,1)]\n",
        "def find_element_tuple(list_input,position):\n",
        "  return sorted(list_input,key=lambda x:x[position])[0][position]\n",
        "\n",
        "find_element_tuple(l,1)"
      ]
    },
    {
      "cell_type": "markdown",
      "metadata": {
        "id": "VixMiV3JpQme"
      },
      "source": [
        "### Print space separated elements from list"
      ]
    },
    {
      "cell_type": "code",
      "execution_count": null,
      "metadata": {
        "colab": {
          "base_uri": "https://localhost:8080/"
        },
        "id": "piHxP6aBbYjR",
        "outputId": "c1f3ecf5-84eb-4b11-fefb-84e564e06af9"
      },
      "outputs": [
        {
          "name": "stdout",
          "output_type": "stream",
          "text": [
            "1 2 3 4 5 6 7 8 9 "
          ]
        }
      ],
      "source": [
        "l=[1,2,3,4,5,6,7,8,9]\n",
        "for ele in l:\n",
        "  print(ele,end=' ')"
      ]
    },
    {
      "cell_type": "code",
      "execution_count": null,
      "metadata": {
        "colab": {
          "base_uri": "https://localhost:8080/"
        },
        "id": "E761B9LAohuZ",
        "outputId": "2e7cc5df-1da2-4c8f-a9c3-b2b7ecfbd6fd"
      },
      "outputs": [
        {
          "name": "stdout",
          "output_type": "stream",
          "text": [
            "1 2 3 4 5 6 7 8 9\n"
          ]
        }
      ],
      "source": [
        "print(*l)"
      ]
    },
    {
      "cell_type": "markdown",
      "metadata": {
        "id": "TXKokfSB3l8v"
      },
      "source": [
        "### Move all zero digit to the end of a given list"
      ]
    },
    {
      "cell_type": "code",
      "execution_count": null,
      "metadata": {
        "colab": {
          "base_uri": "https://localhost:8080/"
        },
        "id": "eyjZYfKCwd96",
        "outputId": "ae284a90-ac08-490a-e45b-c8472d5b369e"
      },
      "outputs": [
        {
          "data": {
            "text/plain": [
              "[3, 1, 15, 12, 3, 4, 5, 0, 0, 0, 0, 0]"
            ]
          },
          "execution_count": 76,
          "metadata": {},
          "output_type": "execute_result"
        }
      ],
      "source": [
        "\"\"\"\n",
        "first find occurance of 0 and then check the non zero number and at\n",
        "the last append with the occurence of zeros \n",
        "\"\"\"\n",
        "def append_zero_at_last(list_new):\n",
        "  occurrence=x.count(0)\n",
        "  list_new= [i for i in list_new if i != 0]\n",
        "  list_new.extend([0]*occurrence)\n",
        "  return list_new\n",
        "\n",
        "### Driver code\n",
        "x= [0,0,0,0,3,1,15,0,12,3,4,5]\n",
        "append_zero_at_last(x)"
      ]
    },
    {
      "cell_type": "code",
      "execution_count": null,
      "metadata": {
        "colab": {
          "base_uri": "https://localhost:8080/"
        },
        "id": "SBCKfIYa2PIj",
        "outputId": "28094e4e-5047-4397-ddb0-c949c89e6596"
      },
      "outputs": [
        {
          "data": {
            "text/plain": [
              "[3, 1, 15, 12, 3, 4, 5, 0, 0, 0, 0, 0]"
            ]
          },
          "execution_count": 81,
          "metadata": {},
          "output_type": "execute_result"
        }
      ],
      "source": [
        "\"\"\"\n",
        "Create 2 different list one for non zero number and other for zero and \n",
        "at the last merge both the list to get the final result\n",
        "\"\"\"\n",
        "def append_zero_at_last(list_new):\n",
        "  l=[]\n",
        "  l_zero=[]\n",
        "  for i in list_new:\n",
        "    if i==0:\n",
        "      l_zero.append(i)\n",
        "    else:\n",
        "      l.append(i)\n",
        "  l.extend(l_zero)\n",
        "  return l\n",
        "\n",
        "### Driver code\n",
        "x= [0,0,0,0,3,1,15,0,12,3,4,5]\n",
        "append_zero_at_last(x)"
      ]
    },
    {
      "cell_type": "code",
      "execution_count": null,
      "metadata": {
        "colab": {
          "base_uri": "https://localhost:8080/"
        },
        "id": "bW-LYPuS2ehO",
        "outputId": "b55a8c62-a2dd-4882-8373-f60fdab1d676"
      },
      "outputs": [
        {
          "data": {
            "text/plain": [
              "[7, 6, 8]"
            ]
          },
          "execution_count": 83,
          "metadata": {},
          "output_type": "execute_result"
        }
      ],
      "source": [
        "def max_within_nested_list(list):\n",
        "  return max(list,key=sum)\n",
        "l=[[2,3,4],[4,5,6],[1,2,0],[7,6,8]]\n",
        "result=max_within_nested_list(l)"
      ]
    },
    {
      "cell_type": "code",
      "execution_count": null,
      "metadata": {
        "colab": {
          "base_uri": "https://localhost:8080/"
        },
        "id": "mXa2qh7l7F5w",
        "outputId": "91fbee7f-c66a-4e4b-901d-8c5d72febd79"
      },
      "outputs": [
        {
          "name": "stdout",
          "output_type": "stream",
          "text": [
            "sum of max value of nested list is 21 and index position is 3 and nested list is [7, 6, 8]\n"
          ]
        }
      ],
      "source": [
        "import numpy as np\n",
        "def max_within_nested_list(list):\n",
        "  list_sum=[]\n",
        "  for i in range(len(l)):\n",
        "    sum=0\n",
        "    for j in range(len(l[1])):\n",
        "      sum=sum+l[i][j]\n",
        "    list_sum.append(sum)\n",
        "  return max(list_sum),np.argmax(list_sum)\n",
        " \n",
        "## Driver code\n",
        "l=[[2,3,4],[4,5,6],[1,2,0],[7,6,8]]\n",
        "result=max_within_nested_list(l)\n",
        "print(f\"sum of max value of nested list is {result[0]} and index position is {result[1]} and nested list is {l[result[1]]}\")"
      ]
    },
    {
      "cell_type": "markdown",
      "metadata": {
        "id": "GFi43EdqIZDY"
      },
      "source": [
        "### Remove duplicate from nested list"
      ]
    },
    {
      "cell_type": "code",
      "execution_count": null,
      "metadata": {
        "colab": {
          "base_uri": "https://localhost:8080/"
        },
        "id": "G7H__h-bBi3T",
        "outputId": "7731e0ce-d6af-4688-ed65-aa0a7ebc8195"
      },
      "outputs": [
        {
          "name": "stdout",
          "output_type": "stream",
          "text": [
            "[5]\n",
            "[10, 20]\n",
            "[50]\n"
          ]
        }
      ],
      "source": [
        "import itertools\n",
        "l=[[10,20],[50],[10,20],[5]]\n",
        "\n",
        "l.sort()\n",
        "for x,_ in itertools.groupby(l):\n",
        "  print(x)"
      ]
    },
    {
      "cell_type": "markdown",
      "metadata": {
        "id": "cy_rKaYSbCU9"
      },
      "source": [
        "### Find the items start with specific character from a given list"
      ]
    },
    {
      "cell_type": "code",
      "execution_count": null,
      "metadata": {
        "id": "VKXo41Uya4e7"
      },
      "outputs": [],
      "source": [
        "l=['aa','bb','abc']\n",
        "def find_item(l,char):\n",
        "  for i in l:\n",
        "    if i.startswith(char):\n",
        "      print(i)\n",
        "   \n"
      ]
    },
    {
      "cell_type": "code",
      "execution_count": null,
      "metadata": {
        "colab": {
          "base_uri": "https://localhost:8080/"
        },
        "id": "aiGbdg_Pb0kF",
        "outputId": "7405f468-b5a0-41b5-f3d0-75d8e202b1bd"
      },
      "outputs": [
        {
          "name": "stdout",
          "output_type": "stream",
          "text": [
            "aa\n",
            "abc\n"
          ]
        }
      ],
      "source": [
        "find_item(l,'a')"
      ]
    },
    {
      "cell_type": "code",
      "execution_count": null,
      "metadata": {
        "id": "3oeMeniBb25A"
      },
      "outputs": [],
      "source": [
        "import re\n",
        "l=['aa','bb','abc']\n",
        "def find_item(l,char):\n",
        "  for i in l:\n",
        "    if i[0]==char:\n",
        "      print(i)\n",
        "   "
      ]
    },
    {
      "cell_type": "code",
      "execution_count": null,
      "metadata": {
        "colab": {
          "base_uri": "https://localhost:8080/"
        },
        "id": "LFiorJCtcdYf",
        "outputId": "52ca75a9-084b-454f-b089-ec6ff418a161"
      },
      "outputs": [
        {
          "name": "stdout",
          "output_type": "stream",
          "text": [
            "aa\n",
            "abc\n"
          ]
        }
      ],
      "source": [
        "find_item(l,'a')"
      ]
    },
    {
      "cell_type": "markdown",
      "metadata": {
        "id": "bd9vJo2UdtG6"
      },
      "source": [
        "### To check whether all dictionary in list is empty or not\n"
      ]
    },
    {
      "cell_type": "code",
      "execution_count": null,
      "metadata": {
        "id": "k91JaPpwcg6P"
      },
      "outputs": [],
      "source": [
        "d1=[{},{},{}]\n",
        "def find_empty_dict(in_dic):\n",
        "  count=0\n",
        "  for i in in_dic:\n",
        "    if not i:\n",
        "      count+=1\n",
        "    if count==len(in_dic):\n",
        "      return True\n",
        "\n"
      ]
    },
    {
      "cell_type": "code",
      "execution_count": null,
      "metadata": {
        "id": "Qz-1uyasd8Wk"
      },
      "outputs": [],
      "source": [
        "result=find_empty_dict(d1)"
      ]
    },
    {
      "cell_type": "code",
      "execution_count": null,
      "metadata": {
        "colab": {
          "base_uri": "https://localhost:8080/"
        },
        "id": "SjDyDDxtm1Oe",
        "outputId": "9f710dfe-75b4-4ebb-8e01-3dfee7924547"
      },
      "outputs": [
        {
          "name": "stdout",
          "output_type": "stream",
          "text": [
            "Empty List\n"
          ]
        }
      ],
      "source": [
        "if result==True:\n",
        "  print('Empty List')\n",
        "else:\n",
        "  print('Not empty list')"
      ]
    },
    {
      "cell_type": "code",
      "execution_count": null,
      "metadata": {
        "colab": {
          "base_uri": "https://localhost:8080/"
        },
        "id": "FM-gZAjwnw8w",
        "outputId": "bcae5465-887f-4b62-97ac-46323f272eea"
      },
      "outputs": [
        {
          "data": {
            "text/plain": [
              "True"
            ]
          },
          "execution_count": 64,
          "metadata": {},
          "output_type": "execute_result"
        }
      ],
      "source": [
        "def empty_dict_within_list(d1):\n",
        "  return all(not x for x in d1)\n",
        "\n",
        "empty_dict_within_list(d1)"
      ]
    },
    {
      "cell_type": "markdown",
      "metadata": {
        "id": "7XUV-io_tt7x"
      },
      "source": [
        "### Flatten nested list"
      ]
    },
    {
      "cell_type": "code",
      "execution_count": null,
      "metadata": {
        "id": "wf1bHi46sWk9"
      },
      "outputs": [],
      "source": [
        "l_nested=[[0,10],[30,40]]"
      ]
    },
    {
      "cell_type": "code",
      "execution_count": null,
      "metadata": {
        "id": "4BflqpUFs26I"
      },
      "outputs": [],
      "source": [
        "def flatten(l):\n",
        "  return [item for sublist in l for item in sublist]\n",
        "\n",
        "l=flatten(l_nested)"
      ]
    },
    {
      "cell_type": "markdown",
      "metadata": {
        "id": "qUPGnNuheaRc"
      },
      "source": [
        "### Create multidimensional list"
      ]
    },
    {
      "cell_type": "code",
      "execution_count": null,
      "metadata": {
        "id": "5xCjQsk2tS6l"
      },
      "outputs": [],
      "source": [
        "n_row=2\n",
        "n_cols=3\n",
        "l=[]\n",
        "for i in range(n_row):\n",
        "  l.append([])\n",
        "  for j in range(n_cols):\n",
        "    l[i].append(0)\n"
      ]
    },
    {
      "cell_type": "code",
      "execution_count": null,
      "metadata": {
        "colab": {
          "base_uri": "https://localhost:8080/"
        },
        "id": "6__7rIL6thZU",
        "outputId": "fe20e1dd-db17-4e93-a9a0-60940275c0c3"
      },
      "outputs": [
        {
          "data": {
            "text/plain": [
              "[[0, 0, 0], [0, 0, 0]]"
            ]
          },
          "execution_count": 9,
          "metadata": {},
          "output_type": "execute_result"
        }
      ],
      "source": [
        "l"
      ]
    },
    {
      "cell_type": "code",
      "execution_count": null,
      "metadata": {
        "colab": {
          "base_uri": "https://localhost:8080/"
        },
        "id": "CiKnaT1ndgBw",
        "outputId": "8b54a034-12ce-40d9-d870-8f8848d29e91"
      },
      "outputs": [
        {
          "data": {
            "text/plain": [
              "array([[0., 0., 0.],\n",
              "       [0., 0., 0.]])"
            ]
          },
          "execution_count": 11,
          "metadata": {},
          "output_type": "execute_result"
        }
      ],
      "source": [
        "import numpy as np\n",
        "np.zeros((2,3))"
      ]
    },
    {
      "cell_type": "code",
      "execution_count": null,
      "metadata": {
        "id": "61edG6UseyOx"
      },
      "outputs": [],
      "source": [
        "import numpy as np\n",
        "a=np.arange(9).reshape(3,3)"
      ]
    },
    {
      "cell_type": "code",
      "execution_count": null,
      "metadata": {
        "colab": {
          "base_uri": "https://localhost:8080/"
        },
        "id": "nkRdNl_nfD9S",
        "outputId": "2dea1f59-1b00-4375-990d-ebe303a1b400"
      },
      "outputs": [
        {
          "name": "stdout",
          "output_type": "stream",
          "text": [
            "[[0 1 2]\n",
            " [3 4 5]\n",
            " [6 7 8]]\n"
          ]
        }
      ],
      "source": [
        "print(a)"
      ]
    },
    {
      "cell_type": "code",
      "execution_count": null,
      "metadata": {
        "colab": {
          "base_uri": "https://localhost:8080/"
        },
        "id": "lBvXctr5zCVr",
        "outputId": "2aa44c04-f44c-4c6a-a44b-7fe83a5e591a"
      },
      "outputs": [
        {
          "name": "stdout",
          "output_type": "stream",
          "text": [
            "Looking in indexes: https://pypi.org/simple, https://us-python.pkg.dev/colab-wheels/public/simple/\n",
            "Collecting python-string-utils\n",
            "  Downloading python_string_utils-1.0.0-py3-none-any.whl (26 kB)\n",
            "Installing collected packages: python-string-utils\n",
            "Successfully installed python-string-utils-1.0.0\n"
          ]
        }
      ],
      "source": [
        "!pip install python-string-utils"
      ]
    },
    {
      "cell_type": "code",
      "execution_count": null,
      "metadata": {
        "id": "AdmIHHfdfF4R"
      },
      "outputs": [],
      "source": [
        "import string_utils"
      ]
    },
    {
      "cell_type": "code",
      "execution_count": null,
      "metadata": {
        "colab": {
          "base_uri": "https://localhost:8080/",
          "height": 36
        },
        "id": "ncKFMk4wy7l4",
        "outputId": "576fe754-5d01-4cd7-9c80-2b04ad309c3e"
      },
      "outputs": [
        {
          "data": {
            "application/vnd.google.colaboratory.intrinsic+json": {
              "type": "string"
            },
            "text/plain": [
              "'tseihN'"
            ]
          },
          "execution_count": 9,
          "metadata": {},
          "output_type": "execute_result"
        }
      ],
      "source": [
        "## Shuffle character within word\n",
        "string_utils.shuffle('Nitesh')"
      ]
    },
    {
      "cell_type": "code",
      "execution_count": null,
      "metadata": {
        "id": "oH9y-SZKzacn"
      },
      "outputs": [],
      "source": [
        "l=['nitesh',2,4,'pandey']"
      ]
    },
    {
      "cell_type": "code",
      "execution_count": null,
      "metadata": {
        "colab": {
          "base_uri": "https://localhost:8080/"
        },
        "id": "zLE35lw4z0cQ",
        "outputId": "cdce5d8c-beb1-4d84-b8b9-33d6611d5b4e"
      },
      "outputs": [
        {
          "name": "stdout",
          "output_type": "stream",
          "text": [
            "2\n",
            "4\n"
          ]
        }
      ],
      "source": [
        "import numbers\n",
        "for i in l:\n",
        "  if isinstance(i,numbers.Number):\n",
        "    print(i)\n",
        "  "
      ]
    },
    {
      "cell_type": "code",
      "execution_count": null,
      "metadata": {
        "colab": {
          "base_uri": "https://localhost:8080/"
        },
        "id": "-gz2FF5Hz1rv",
        "outputId": "e4834101-0937-451a-e72e-36b0adca85c2"
      },
      "outputs": [
        {
          "name": "stdout",
          "output_type": "stream",
          "text": [
            "2\n",
            "4\n"
          ]
        }
      ],
      "source": [
        "for i in l:\n",
        "  if type(i)==int:\n",
        "    print(i)"
      ]
    },
    {
      "cell_type": "code",
      "execution_count": null,
      "metadata": {
        "id": "ZUGmey621giu"
      },
      "outputs": [],
      "source": []
    }
  ],
  "metadata": {
    "colab": {
      "provenance": []
    },
    "kernelspec": {
      "display_name": "Python 3",
      "name": "python3"
    },
    "language_info": {
      "name": "python"
    }
  },
  "nbformat": 4,
  "nbformat_minor": 0
}
