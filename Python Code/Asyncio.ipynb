{
  "nbformat": 4,
  "nbformat_minor": 0,
  "metadata": {
    "colab": {
      "provenance": []
    },
    "kernelspec": {
      "name": "python3",
      "display_name": "Python 3"
    },
    "language_info": {
      "name": "python"
    }
  },
  "cells": [
    {
      "cell_type": "markdown",
      "source": [
        "#### **Asynchronous I/O**\n",
        "1. Asynchronous I/O ,or async for short,is a programming pattern that allows for high-performance I/O operations in a concurrent and non-blocking manner.\n",
        "\n",
        "2. In python ,async is achieved through the use of the asyncio module and asynchronous function\n",
        "\n",
        "3. asyncio is often a perfect fit for IO-bound and high-level structured network code."
      ],
      "metadata": {
        "id": "-teN-BQ9eT9A"
      }
    },
    {
      "cell_type": "code",
      "execution_count": 7,
      "metadata": {
        "id": "0YI-FZ8tTpLX"
      },
      "outputs": [],
      "source": [
        "#Normal Function \n",
        "import time\n",
        "def function1():\n",
        "  time.sleep(2)\n",
        "  print('func1')\n",
        "\n",
        "def function2():\n",
        "  time.sleep(2)\n",
        "  print('func2')\n",
        "\n",
        "def function3():\n",
        "  time.sleep(2) \n",
        "  print('func3')"
      ]
    },
    {
      "cell_type": "code",
      "source": [
        "function1()\n",
        "function2()\n",
        "function3()"
      ],
      "metadata": {
        "colab": {
          "base_uri": "https://localhost:8080/"
        },
        "id": "jk2eWqFfYPC6",
        "outputId": "b9a41b24-abc5-4823-a795-1ffcdc402c12"
      },
      "execution_count": null,
      "outputs": [
        {
          "output_type": "stream",
          "name": "stdout",
          "text": [
            "func1\n",
            "func2\n",
            "func3\n"
          ]
        }
      ]
    },
    {
      "cell_type": "code",
      "source": [
        "import time\n",
        "import asyncio\n",
        "\n",
        "async def function1():\n",
        "  await asyncio.sleep(3)\n",
        "  #print('func1')\n",
        "  return 'Hi'\n",
        "\n",
        "async def function2():\n",
        "  await asyncio.sleep(1)\n",
        "  #print('func2')\n",
        "  return 'Hello'\n",
        "\n",
        "async def function3():\n",
        "  await asyncio.sleep(4)\n",
        "  print('func3')\n",
        "  return 'Good Morning'"
      ],
      "metadata": {
        "id": "3evbuf8IYT_o"
      },
      "execution_count": null,
      "outputs": []
    },
    {
      "cell_type": "markdown",
      "source": [
        "* asyncio.run() is a high-level API in the asyncio library. \n",
        "* asyncio.loop.run_until_complete() is a low-level API in the asyncio native Python library. "
      ],
      "metadata": {
        "id": "G5XvX5px8C37"
      }
    },
    {
      "cell_type": "code",
      "source": [
        "async def main():\n",
        "  # task=asyncio.create_task(function1())\n",
        "  # function2()\n",
        "  # function3()\n",
        "#asyncio.run(main())\n",
        "\n",
        "  l=await asyncio.gather(function1(),\n",
        "                         function2(),\n",
        "                         function3())\n",
        "  print(l)\n",
        "\n",
        "asyncio.run(main())"
      ],
      "metadata": {
        "colab": {
          "base_uri": "https://localhost:8080/"
        },
        "id": "7lzsUW_FYqs-",
        "outputId": "289f5343-0788-4cfa-e5b0-0622b2e821a7"
      },
      "execution_count": null,
      "outputs": [
        {
          "output_type": "stream",
          "name": "stdout",
          "text": [
            "func3\n",
            "['Hi', 'Hello', 'Good Morning']\n"
          ]
        }
      ]
    },
    {
      "cell_type": "code",
      "source": [
        "import time\n",
        "import asyncio\n",
        "\n",
        "async def demo(msg,delay):\n",
        "  await asyncio.sleep(delay)\n",
        "  print(msg)\n",
        "\n",
        "async def main():\n",
        "  print(f\"start time is {time.time()}\")\n",
        "  await demo('Hello',1)\n",
        "  await demo('Hi',2)\n",
        "  print(f\"end time is {time.time()}\")\n",
        "\n",
        "asyncio.run(main())"
      ],
      "metadata": {
        "id": "Iuz2zdHD-KRd"
      },
      "execution_count": null,
      "outputs": []
    },
    {
      "cell_type": "code",
      "source": [
        "async def main():\n",
        "    task1 = asyncio.create_task(\n",
        "        demo('hello',1))\n",
        "\n",
        "    task2 = asyncio.create_task(\n",
        "        demo('world',2))\n",
        "\n",
        "    print(f\"started at {time.strftime('%X')}\")\n",
        "\n",
        "    # Wait until both tasks are completed (should take\n",
        "    # around 2 seconds.)\n",
        "    await task1\n",
        "    await task2\n",
        "\n",
        "    print(f\"finished at {time.strftime('%X')}\")\n",
        "    \n",
        "nest_asyncio.apply()\n",
        "asyncio.run(main())"
      ],
      "metadata": {
        "colab": {
          "base_uri": "https://localhost:8080/"
        },
        "id": "AEfaSHWU-SeW",
        "outputId": "9dd75876-bc67-4875-8b05-8e90388ed00c"
      },
      "execution_count": null,
      "outputs": [
        {
          "output_type": "stream",
          "name": "stdout",
          "text": [
            "started at 10:10:04\n",
            "hello\n",
            "world\n",
            "finished at 10:10:06\n"
          ]
        }
      ]
    },
    {
      "cell_type": "code",
      "source": [
        "import asyncio\n",
        "\n",
        "async def nested():\n",
        "    return 42\n",
        "\n",
        "async def main():\n",
        "    # Nothing happens if we just call \"nested()\".\n",
        "    # A coroutine object is created but not awaited,\n",
        "    # so it *won't run at all*.\n",
        "    nested()\n",
        "\n",
        "    # Let's do it differently now and await it:\n",
        "    print(await nested())  # will print \"42\".\n",
        "\n",
        "asyncio.run(main())"
      ],
      "metadata": {
        "colab": {
          "base_uri": "https://localhost:8080/"
        },
        "id": "tRma_toc-SX3",
        "outputId": "a5e55549-d781-4e15-cae2-4259123bc5c1"
      },
      "execution_count": null,
      "outputs": [
        {
          "output_type": "stream",
          "name": "stdout",
          "text": [
            "42\n"
          ]
        },
        {
          "output_type": "stream",
          "name": "stderr",
          "text": [
            "<ipython-input-15-b74b49bdfc0e>:10: RuntimeWarning: coroutine 'nested' was never awaited\n",
            "  nested()\n",
            "RuntimeWarning: Enable tracemalloc to get the object allocation traceback\n"
          ]
        }
      ]
    },
    {
      "cell_type": "markdown",
      "source": [
        "#### A more modern way to create and run tasks concurrently and wait for their completion is asyncio.TaskGroup.\n",
        "\n",
        "      async def main():\n",
        "          async with asyncio.TaskGroup() as tg:\n",
        "              task1 = tg.create_task(some_coro(...))\n",
        "              task2 = tg.create_task(another_coro(...))\n",
        "          print(\"Both tasks have completed now.\")"
      ],
      "metadata": {
        "id": "HBBhOlnYXcy_"
      }
    },
    {
      "cell_type": "code",
      "source": [
        "import asyncio\n",
        "import nest_asyncio\n",
        "import time\n",
        "nest_asyncio.apply()"
      ],
      "metadata": {
        "id": "w1mlu6tNU7c2"
      },
      "execution_count": 3,
      "outputs": []
    },
    {
      "cell_type": "markdown",
      "source": [
        "The **asyncio.gather()** module function allows the caller to group multiple awaitables together."
      ],
      "metadata": {
        "id": "b_ouJcmMYbH7"
      }
    },
    {
      "cell_type": "code",
      "source": [
        "import asyncio\n",
        "\n",
        "async def factorial(name, number):\n",
        "    f = 1\n",
        "    for i in range(2, number + 1):\n",
        "        print(f\"Task {name}: Compute factorial({number}), currently i={i}...\")\n",
        "        await asyncio.sleep(1)\n",
        "        f *= i\n",
        "    print(f\"Task {name}: factorial({number}) = {f}\")\n",
        "    return f\n",
        "\n",
        "async def main():\n",
        "    # Schedule three calls *concurrently*:\n",
        "    L = await asyncio.gather(\n",
        "        factorial(\"A\", 2),\n",
        "        factorial(\"B\", 3),\n",
        "        factorial(\"C\", 4),\n",
        "    )\n",
        "    print(L)\n",
        "\n",
        "asyncio.run(main())"
      ],
      "metadata": {
        "id": "VdxZ2GB5_I_W",
        "colab": {
          "base_uri": "https://localhost:8080/"
        },
        "outputId": "93cab408-9c62-4252-e4fb-5aa32dd131f6"
      },
      "execution_count": 6,
      "outputs": [
        {
          "output_type": "stream",
          "name": "stdout",
          "text": [
            "Task A: Compute factorial(2), currently i=2...\n",
            "Task B: Compute factorial(3), currently i=2...\n",
            "Task C: Compute factorial(4), currently i=2...\n",
            "Task A: factorial(2) = 2\n",
            "Task B: Compute factorial(3), currently i=3...\n",
            "Task C: Compute factorial(4), currently i=3...\n",
            "Task B: factorial(3) = 6\n",
            "Task C: Compute factorial(4), currently i=4...\n",
            "Task C: factorial(4) = 24\n",
            "[2, 6, 24]\n"
          ]
        }
      ]
    },
    {
      "cell_type": "code",
      "source": [],
      "metadata": {
        "id": "rjbMYFsuXSnk"
      },
      "execution_count": null,
      "outputs": []
    }
  ]
}