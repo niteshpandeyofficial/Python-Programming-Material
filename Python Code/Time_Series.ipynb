{
  "nbformat": 4,
  "nbformat_minor": 0,
  "metadata": {
    "colab": {
      "provenance": []
    },
    "kernelspec": {
      "name": "python3",
      "display_name": "Python 3"
    },
    "language_info": {
      "name": "python"
    }
  },
  "cells": [
    {
      "cell_type": "markdown",
      "source": [
        "**Time series may be regular or irregular.**\n",
        "\n",
        "* Many time series are fixed frequency, which is to say that data points occur at regular intervals according to some rule, such as every 15 seconds, every 5 minutes, or once per month.\n",
        "\n",
        "* Time series can also be irregular without a fixed unit of time or offset between units. How you mark and refer to time series data depends on the application."
      ],
      "metadata": {
        "id": "gTxBbY0wIr_w"
      }
    },
    {
      "cell_type": "code",
      "source": [
        "import calender\n",
        "from datetime import datetime\n"
      ],
      "metadata": {
        "id": "-EY4LTKAI9ni"
      },
      "execution_count": null,
      "outputs": []
    },
    {
      "cell_type": "markdown",
      "source": [
        "datetime stores both the date and time down to the microsecond. datetime.time.\n"
      ],
      "metadata": {
        "id": "_BcxTh7AL60T"
      }
    },
    {
      "cell_type": "code",
      "source": [
        "datetime.now()"
      ],
      "metadata": {
        "colab": {
          "base_uri": "https://localhost:8080/"
        },
        "id": "YiQDuWnBLQeC",
        "outputId": "75707b2b-b413-4470-9e1d-e4882dfc86df"
      },
      "execution_count": null,
      "outputs": [
        {
          "output_type": "execute_result",
          "data": {
            "text/plain": [
              "datetime.datetime(2023, 5, 9, 6, 24, 17, 451992)"
            ]
          },
          "metadata": {},
          "execution_count": 8
        }
      ]
    },
    {
      "cell_type": "code",
      "source": [
        "print(f'year {datetime.now().year}')\n",
        "print(f'month {datetime.now().month}')\n",
        "print(f'day {datetime.now().day}')"
      ],
      "metadata": {
        "colab": {
          "base_uri": "https://localhost:8080/"
        },
        "id": "QPE7w-i8LaPO",
        "outputId": "3b50e584-fb21-4ff9-9b15-1f48d5e6664d"
      },
      "execution_count": null,
      "outputs": [
        {
          "output_type": "stream",
          "name": "stdout",
          "text": [
            "year 2023\n",
            "month 5\n",
            "day 9\n"
          ]
        }
      ]
    },
    {
      "cell_type": "markdown",
      "source": [
        "delta, or simply timedelta, represents the temporal difference between two date time objects."
      ],
      "metadata": {
        "id": "EwGAU5syL-IM"
      }
    },
    {
      "cell_type": "code",
      "source": [
        "delta = datetime(2023,1,8) - datetime(1992,1,8)\n",
        "delta"
      ],
      "metadata": {
        "colab": {
          "base_uri": "https://localhost:8080/"
        },
        "id": "_lHyRAZIL95a",
        "outputId": "caa2486a-cd4c-4cda-cf79-78570e7282fc"
      },
      "execution_count": null,
      "outputs": [
        {
          "output_type": "execute_result",
          "data": {
            "text/plain": [
              "datetime.timedelta(days=11323)"
            ]
          },
          "metadata": {},
          "execution_count": 10
        }
      ]
    },
    {
      "cell_type": "code",
      "source": [
        "delta.days"
      ],
      "metadata": {
        "colab": {
          "base_uri": "https://localhost:8080/"
        },
        "id": "HRXYEdx4L06s",
        "outputId": "7f20f813-d1f2-4708-c008-4177c0659139"
      },
      "execution_count": null,
      "outputs": [
        {
          "output_type": "execute_result",
          "data": {
            "text/plain": [
              "11323"
            ]
          },
          "metadata": {},
          "execution_count": 11
        }
      ]
    },
    {
      "cell_type": "markdown",
      "source": [
        "#### **Types in the datetime module**\n",
        "\n",
        "* **date** Store calendar date (year, month, day) using the Gregorian calendar.\n",
        "* **time** Store time of day as hours, minutes, seconds, and microseconds\n",
        "* **datetime** Store both date and time.\n",
        "* **timedelta** The difference between two datetime values (as days, seconds, and microseconds).\n",
        "* **tzinfo** Base type for storing time zone information."
      ],
      "metadata": {
        "id": "K32rOX0_MpUi"
      }
    },
    {
      "cell_type": "code",
      "source": [
        "stamp=datetime(2023,1,5)"
      ],
      "metadata": {
        "id": "-sMiGDsaMWzV"
      },
      "execution_count": null,
      "outputs": []
    },
    {
      "cell_type": "code",
      "source": [
        "str(stamp)"
      ],
      "metadata": {
        "colab": {
          "base_uri": "https://localhost:8080/",
          "height": 35
        },
        "id": "y2SLid_1MZSd",
        "outputId": "e3d982c2-99fc-42a7-d378-2b5ce2f8cdf3"
      },
      "execution_count": null,
      "outputs": [
        {
          "output_type": "execute_result",
          "data": {
            "text/plain": [
              "'2023-01-05 00:00:00'"
            ],
            "application/vnd.google.colaboratory.intrinsic+json": {
              "type": "string"
            }
          },
          "metadata": {},
          "execution_count": 17
        }
      ]
    },
    {
      "cell_type": "code",
      "source": [
        "stamp.strftime('%d-%m-%Y')"
      ],
      "metadata": {
        "colab": {
          "base_uri": "https://localhost:8080/",
          "height": 35
        },
        "id": "n39N-kvVNPJZ",
        "outputId": "c428f0f1-b54b-4784-ec84-066d8264885e"
      },
      "execution_count": null,
      "outputs": [
        {
          "output_type": "execute_result",
          "data": {
            "text/plain": [
              "'05-01-2023'"
            ],
            "application/vnd.google.colaboratory.intrinsic+json": {
              "type": "string"
            }
          },
          "metadata": {},
          "execution_count": 20
        }
      ]
    },
    {
      "cell_type": "markdown",
      "source": [
        "#### **datetime format specification**\n",
        "\n",
        "**%Y** Four-digit year.  \n",
        "**%y** Two-digit year.  \n",
        "**%m** Two-digit month [01, 12].  \n",
        "**%d** Two-digit day [01, 31].  \n",
        "**%H** Hour (24-hour clock) [00, 23].  \n",
        "**%I** Hour (12-hour clock) [01, 12].  \n",
        "**%M** Two-digit minute [00, 59].  \n",
        "**%S** Second [00, 61] (seconds 60, 61 account for leap seconds).  \n"
      ],
      "metadata": {
        "id": "azrcAi9PNoI1"
      }
    },
    {
      "cell_type": "code",
      "source": [
        "# convert strings to dates using date time.strptime\n",
        "date_val='2023-05-06'\n",
        "datetime.strptime(date_val,'%Y-%m-%d')"
      ],
      "metadata": {
        "colab": {
          "base_uri": "https://localhost:8080/"
        },
        "id": "HlERAw4YNZjE",
        "outputId": "6f2731cf-545e-420b-d405-b35cc00bdbbc"
      },
      "execution_count": null,
      "outputs": [
        {
          "output_type": "execute_result",
          "data": {
            "text/plain": [
              "datetime.datetime(2023, 5, 6, 0, 0)"
            ]
          },
          "metadata": {},
          "execution_count": 22
        }
      ]
    },
    {
      "cell_type": "code",
      "source": [
        "datestrs = [\"7/6/2023\", \"8/6/2023\"]\n",
        "\n",
        "for i in datestrs:\n",
        "  print(datetime.strptime(i,'%d/%m/%Y'))\n",
        "\n",
        "date_val_list=[datetime.strptime(dt_value,'%d/%m/%Y') for dt_value in datestrs]\n",
        "print(f'Value using list comprehension {date_val_list}')\n",
        "  "
      ],
      "metadata": {
        "colab": {
          "base_uri": "https://localhost:8080/"
        },
        "id": "Nuz3OfUHObuM",
        "outputId": "4fcd66c3-6223-4ec7-c629-0f34186157ba"
      },
      "execution_count": null,
      "outputs": [
        {
          "output_type": "stream",
          "name": "stdout",
          "text": [
            "2023-06-07 00:00:00\n",
            "2023-06-08 00:00:00\n",
            "Value using list comprehension [datetime.datetime(2023, 6, 7, 0, 0), datetime.datetime(2023, 6, 8, 0, 0)]\n"
          ]
        }
      ]
    },
    {
      "cell_type": "markdown",
      "source": [
        "Pandas has a built-in function called to_datetime()that converts date and time in string format to a DateTime object."
      ],
      "metadata": {
        "id": "IpYzwr6kYrz3"
      }
    },
    {
      "cell_type": "code",
      "source": [
        "import pandas as pd\n",
        "pd.to_datetime(datestrs)"
      ],
      "metadata": {
        "colab": {
          "base_uri": "https://localhost:8080/"
        },
        "id": "829aRUa0OrLt",
        "outputId": "c10875fc-febb-4431-fa17-48be6006da8c"
      },
      "execution_count": null,
      "outputs": [
        {
          "output_type": "execute_result",
          "data": {
            "text/plain": [
              "DatetimeIndex(['2023-07-06', '2023-08-06'], dtype='datetime64[ns]', freq=None)"
            ]
          },
          "metadata": {},
          "execution_count": 35
        }
      ]
    },
    {
      "cell_type": "code",
      "source": [
        "pd.to_datetime(datestrs+[None])"
      ],
      "metadata": {
        "colab": {
          "base_uri": "https://localhost:8080/"
        },
        "id": "s_mq7V2fYU2L",
        "outputId": "5d0fc576-c279-4cf4-eb56-e6d0ad7ece1b"
      },
      "execution_count": null,
      "outputs": [
        {
          "output_type": "execute_result",
          "data": {
            "text/plain": [
              "DatetimeIndex(['2023-07-06', '2023-08-06', 'NaT'], dtype='datetime64[ns]', freq=None)"
            ]
          },
          "metadata": {},
          "execution_count": 37
        }
      ]
    },
    {
      "cell_type": "code",
      "source": [
        "dates = [datetime(2011, 1, 2), datetime(2011, 1, 5),\n",
        "         datetime(2011, 1, 7), datetime(2011, 1, 8),\n",
        "         datetime(2011, 1, 10), datetime(2011, 1, 12)]\n"
      ],
      "metadata": {
        "id": "ogR-UOPkYxIn"
      },
      "execution_count": null,
      "outputs": []
    },
    {
      "cell_type": "code",
      "source": [
        "import numpy as np\n",
        "df=pd.Series(np.random.standard_normal(6),index=dates)"
      ],
      "metadata": {
        "id": "WxTnwjNOZEgG"
      },
      "execution_count": null,
      "outputs": []
    },
    {
      "cell_type": "code",
      "source": [
        "df"
      ],
      "metadata": {
        "colab": {
          "base_uri": "https://localhost:8080/"
        },
        "id": "4jh8eHYIZQfJ",
        "outputId": "255d92e9-75d3-48c3-c926-a7cb8dafda83"
      },
      "execution_count": null,
      "outputs": [
        {
          "output_type": "execute_result",
          "data": {
            "text/plain": [
              "2011-01-02   -2.134755\n",
              "2011-01-05    0.803260\n",
              "2011-01-07    0.309928\n",
              "2011-01-08    0.008767\n",
              "2011-01-10   -1.637279\n",
              "2011-01-12   -2.129953\n",
              "dtype: float64"
            ]
          },
          "metadata": {},
          "execution_count": 43
        }
      ]
    },
    {
      "cell_type": "code",
      "source": [
        "df.index"
      ],
      "metadata": {
        "colab": {
          "base_uri": "https://localhost:8080/"
        },
        "id": "Lnr5znz9ZTRu",
        "outputId": "8c6bafa2-4e96-46eb-eb5d-7f38f399586c"
      },
      "execution_count": null,
      "outputs": [
        {
          "output_type": "execute_result",
          "data": {
            "text/plain": [
              "DatetimeIndex(['2011-01-02', '2011-01-05', '2011-01-07', '2011-01-08',\n",
              "               '2011-01-10', '2011-01-12'],\n",
              "              dtype='datetime64[ns]', freq=None)"
            ]
          },
          "metadata": {},
          "execution_count": 44
        }
      ]
    },
    {
      "cell_type": "markdown",
      "source": [
        "pandas stores timestamps using NumPy’s datetime64 data type at the nanosecond resolution:"
      ],
      "metadata": {
        "id": "YiedEVnfZvTQ"
      }
    },
    {
      "cell_type": "code",
      "source": [
        "df.index.dtype"
      ],
      "metadata": {
        "colab": {
          "base_uri": "https://localhost:8080/"
        },
        "id": "bxStXkhYZdzo",
        "outputId": "b92039be-55ef-4f90-cefc-99f825af281b"
      },
      "execution_count": null,
      "outputs": [
        {
          "output_type": "execute_result",
          "data": {
            "text/plain": [
              "dtype('<M8[ns]')"
            ]
          },
          "metadata": {},
          "execution_count": 48
        }
      ]
    },
    {
      "cell_type": "code",
      "source": [
        "df.index[0]"
      ],
      "metadata": {
        "colab": {
          "base_uri": "https://localhost:8080/"
        },
        "id": "xsw-zJGiZmTn",
        "outputId": "b4b31a7c-9529-429d-b227-49d537924371"
      },
      "execution_count": null,
      "outputs": [
        {
          "output_type": "execute_result",
          "data": {
            "text/plain": [
              "Timestamp('2011-01-02 00:00:00')"
            ]
          },
          "metadata": {},
          "execution_count": 49
        }
      ]
    },
    {
      "cell_type": "code",
      "source": [
        "#accessing value using index\n",
        "ts=df.index[0]\n",
        "df[ts]"
      ],
      "metadata": {
        "colab": {
          "base_uri": "https://localhost:8080/"
        },
        "id": "st_a8ZqOZ38r",
        "outputId": "18cc7c1c-c2e8-43ed-df55-6f38cdf72e20"
      },
      "execution_count": null,
      "outputs": [
        {
          "output_type": "execute_result",
          "data": {
            "text/plain": [
              "-2.1347547036383188"
            ]
          },
          "metadata": {},
          "execution_count": 51
        }
      ]
    },
    {
      "cell_type": "markdown",
      "source": [
        "**pandas.date_range** is responsible for generating a DatetimeIndex with an indicated length according to a particular frequency:"
      ],
      "metadata": {
        "id": "OBkcOJNffwIb"
      }
    },
    {
      "cell_type": "code",
      "source": [
        "df_ts=pd.Series(np.random.standard_normal(10),index=pd.date_range('2023-01-01',periods=10))\n",
        "df_ts"
      ],
      "metadata": {
        "colab": {
          "base_uri": "https://localhost:8080/"
        },
        "id": "1uUxMKCzaxy8",
        "outputId": "38c9e50b-3149-4784-a4ff-a355b4f112fe"
      },
      "execution_count": null,
      "outputs": [
        {
          "output_type": "execute_result",
          "data": {
            "text/plain": [
              "2023-01-01   -0.106901\n",
              "2023-01-02    0.648031\n",
              "2023-01-03   -0.329163\n",
              "2023-01-04    0.145729\n",
              "2023-01-05   -0.550669\n",
              "2023-01-06    2.164763\n",
              "2023-01-07   -1.044961\n",
              "2023-01-08    0.776637\n",
              "2023-01-09   -0.940898\n",
              "2023-01-10   -0.471904\n",
              "Freq: D, dtype: float64"
            ]
          },
          "metadata": {},
          "execution_count": 53
        }
      ]
    },
    {
      "cell_type": "markdown",
      "source": [
        "By default, **pandas.date_range** generates daily timestamps. If you pass only a start or end date,you must pass a number of periods to generate:"
      ],
      "metadata": {
        "id": "j4jtqij6gB3T"
      }
    },
    {
      "cell_type": "code",
      "source": [
        "#The start and end dates define strict boundaries for the generated date index.\n",
        "pd.date_range('2023-01-01',periods=10) #pd.date_range(start='2023-01-01',periods=10)"
      ],
      "metadata": {
        "colab": {
          "base_uri": "https://localhost:8080/"
        },
        "id": "0wWDl_UdgFoa",
        "outputId": "b669a9ea-7cc2-4ca7-9099-2dc4d2b0f07e"
      },
      "execution_count": null,
      "outputs": [
        {
          "output_type": "execute_result",
          "data": {
            "text/plain": [
              "DatetimeIndex(['2023-01-01', '2023-01-02', '2023-01-03', '2023-01-04',\n",
              "               '2023-01-05', '2023-01-06', '2023-01-07', '2023-01-08',\n",
              "               '2023-01-09', '2023-01-10'],\n",
              "              dtype='datetime64[ns]', freq='D')"
            ]
          },
          "metadata": {},
          "execution_count": 80
        }
      ]
    },
    {
      "cell_type": "code",
      "source": [
        "pd.date_range(end='2023-05-07',periods=10)"
      ],
      "metadata": {
        "colab": {
          "base_uri": "https://localhost:8080/"
        },
        "id": "bCr15tGzgT68",
        "outputId": "621a5d05-9d1a-435c-8d1c-6e652fd3987c"
      },
      "execution_count": null,
      "outputs": [
        {
          "output_type": "execute_result",
          "data": {
            "text/plain": [
              "DatetimeIndex(['2023-04-28', '2023-04-29', '2023-04-30', '2023-05-01',\n",
              "               '2023-05-02', '2023-05-03', '2023-05-04', '2023-05-05',\n",
              "               '2023-05-06', '2023-05-07'],\n",
              "              dtype='datetime64[ns]', freq='D')"
            ]
          },
          "metadata": {},
          "execution_count": 79
        }
      ]
    },
    {
      "cell_type": "code",
      "source": [
        "#you can pass frequency strings, like \"1h20min\", that will effectively be parsed to the same expression:\n",
        "pd.date_range(\"2000-01-01\", periods=10, freq=\"1h20min\")\n"
      ],
      "metadata": {
        "colab": {
          "base_uri": "https://localhost:8080/"
        },
        "id": "OInwZoWdhE_1",
        "outputId": "b6c74b21-23c6-4b1b-e5a6-bcd099362913"
      },
      "execution_count": null,
      "outputs": [
        {
          "output_type": "execute_result",
          "data": {
            "text/plain": [
              "DatetimeIndex(['2000-01-01 00:00:00', '2000-01-01 01:20:00',\n",
              "               '2000-01-01 02:40:00', '2000-01-01 04:00:00',\n",
              "               '2000-01-01 05:20:00', '2000-01-01 06:40:00',\n",
              "               '2000-01-01 08:00:00', '2000-01-01 09:20:00',\n",
              "               '2000-01-01 10:40:00', '2000-01-01 12:00:00'],\n",
              "              dtype='datetime64[ns]', freq='80T')"
            ]
          },
          "metadata": {},
          "execution_count": 82
        }
      ]
    },
    {
      "cell_type": "code",
      "source": [
        "df_ts['2023']"
      ],
      "metadata": {
        "colab": {
          "base_uri": "https://localhost:8080/"
        },
        "id": "5dXobfFfbN3y",
        "outputId": "3b544d8c-e7d2-4a4c-f24d-74eee1dce375"
      },
      "execution_count": null,
      "outputs": [
        {
          "output_type": "execute_result",
          "data": {
            "text/plain": [
              "2023-01-01   -0.106901\n",
              "2023-01-02    0.648031\n",
              "2023-01-03   -0.329163\n",
              "2023-01-04    0.145729\n",
              "2023-01-05   -0.550669\n",
              "2023-01-06    2.164763\n",
              "2023-01-07   -1.044961\n",
              "2023-01-08    0.776637\n",
              "2023-01-09   -0.940898\n",
              "2023-01-10   -0.471904\n",
              "Freq: D, dtype: float64"
            ]
          },
          "metadata": {},
          "execution_count": 55
        }
      ]
    },
    {
      "cell_type": "code",
      "source": [
        "df_ts['2023-01']"
      ],
      "metadata": {
        "colab": {
          "base_uri": "https://localhost:8080/"
        },
        "id": "lEw3-qzKbliF",
        "outputId": "9835acc7-31d8-4cb7-9fc5-ac5cd780bcff"
      },
      "execution_count": null,
      "outputs": [
        {
          "output_type": "execute_result",
          "data": {
            "text/plain": [
              "2023-01-01   -0.106901\n",
              "2023-01-02    0.648031\n",
              "2023-01-03   -0.329163\n",
              "2023-01-04    0.145729\n",
              "2023-01-05   -0.550669\n",
              "2023-01-06    2.164763\n",
              "2023-01-07   -1.044961\n",
              "2023-01-08    0.776637\n",
              "2023-01-09   -0.940898\n",
              "2023-01-10   -0.471904\n",
              "Freq: D, dtype: float64"
            ]
          },
          "metadata": {},
          "execution_count": 56
        }
      ]
    },
    {
      "cell_type": "code",
      "source": [
        "df_ts['2023-01-07']"
      ],
      "metadata": {
        "colab": {
          "base_uri": "https://localhost:8080/"
        },
        "id": "EMlUuRzVbvPU",
        "outputId": "96ab7686-a7a9-4042-c62c-62811f06c41b"
      },
      "execution_count": null,
      "outputs": [
        {
          "output_type": "execute_result",
          "data": {
            "text/plain": [
              "-1.04496052635202"
            ]
          },
          "metadata": {},
          "execution_count": 57
        }
      ]
    },
    {
      "cell_type": "code",
      "source": [
        "df_ts[datetime(2023,1,7):]"
      ],
      "metadata": {
        "colab": {
          "base_uri": "https://localhost:8080/"
        },
        "id": "48lpROqOb1L3",
        "outputId": "e25a659b-c175-4708-c6c7-5400273341be"
      },
      "execution_count": null,
      "outputs": [
        {
          "output_type": "execute_result",
          "data": {
            "text/plain": [
              "2023-01-07   -1.044961\n",
              "2023-01-08    0.776637\n",
              "2023-01-09   -0.940898\n",
              "2023-01-10   -0.471904\n",
              "Freq: D, dtype: float64"
            ]
          },
          "metadata": {},
          "execution_count": 61
        }
      ]
    },
    {
      "cell_type": "code",
      "source": [
        "dates=pd.DatetimeIndex(['2023-01-02','2023-01-01','2023-01-02','2023-01-04','2023-01-06'])\n",
        "ser_date=pd.Series(np.random.standard_normal(5),index=dates)\n",
        "ser_date"
      ],
      "metadata": {
        "colab": {
          "base_uri": "https://localhost:8080/"
        },
        "id": "AC4kOjkhb81P",
        "outputId": "1f9f4041-6e19-45ed-a181-0a57b3f57249"
      },
      "execution_count": null,
      "outputs": [
        {
          "output_type": "execute_result",
          "data": {
            "text/plain": [
              "2023-01-02    0.243984\n",
              "2023-01-01    0.237766\n",
              "2023-01-02   -0.253486\n",
              "2023-01-04   -1.645632\n",
              "2023-01-06    0.169770\n",
              "dtype: float64"
            ]
          },
          "metadata": {},
          "execution_count": 62
        }
      ]
    },
    {
      "cell_type": "code",
      "source": [
        "ser_date.index.is_unique"
      ],
      "metadata": {
        "colab": {
          "base_uri": "https://localhost:8080/"
        },
        "id": "7TgfKxonc2OQ",
        "outputId": "60df4b3b-29ca-431a-e327-e0600b99266c"
      },
      "execution_count": null,
      "outputs": [
        {
          "output_type": "execute_result",
          "data": {
            "text/plain": [
              "False"
            ]
          },
          "metadata": {},
          "execution_count": 65
        }
      ]
    },
    {
      "cell_type": "code",
      "source": [
        "ser_date.groupby(level=0).mean()"
      ],
      "metadata": {
        "colab": {
          "base_uri": "https://localhost:8080/"
        },
        "id": "rgFTF7Eoc5jM",
        "outputId": "4da75222-2918-480c-f199-20e44e93e7e3"
      },
      "execution_count": null,
      "outputs": [
        {
          "output_type": "execute_result",
          "data": {
            "text/plain": [
              "2023-01-01    0.237766\n",
              "2023-01-02   -0.004751\n",
              "2023-01-04   -1.645632\n",
              "2023-01-06    0.169770\n",
              "dtype: float64"
            ]
          },
          "metadata": {},
          "execution_count": 67
        }
      ]
    },
    {
      "cell_type": "code",
      "source": [
        "ser_date['2023-01-02'] #duplicates value"
      ],
      "metadata": {
        "colab": {
          "base_uri": "https://localhost:8080/"
        },
        "id": "QrArT6ppdC1J",
        "outputId": "1cdf71a7-3342-485e-d42e-afc101711b10"
      },
      "execution_count": null,
      "outputs": [
        {
          "output_type": "execute_result",
          "data": {
            "text/plain": [
              "2023-01-02    0.243984\n",
              "2023-01-02   -0.253486\n",
              "dtype: float64"
            ]
          },
          "metadata": {},
          "execution_count": 68
        }
      ]
    },
    {
      "cell_type": "code",
      "source": [
        "ser_date['2023-01-04'] #not duplicate value"
      ],
      "metadata": {
        "colab": {
          "base_uri": "https://localhost:8080/"
        },
        "id": "SMNFzvb8dLFE",
        "outputId": "60857ab8-82c7-4dcb-dda7-d077c8f6a29e"
      },
      "execution_count": null,
      "outputs": [
        {
          "output_type": "execute_result",
          "data": {
            "text/plain": [
              "-1.645632496769876"
            ]
          },
          "metadata": {},
          "execution_count": 70
        }
      ]
    },
    {
      "cell_type": "code",
      "source": [
        "resampler=ser_date.resample('D')\n",
        "val=[i for i in resampler]\n",
        "val"
      ],
      "metadata": {
        "colab": {
          "base_uri": "https://localhost:8080/"
        },
        "id": "SRySuRcVdNtY",
        "outputId": "92adc7b2-f775-43d4-def6-d06ce37bd73e"
      },
      "execution_count": null,
      "outputs": [
        {
          "output_type": "execute_result",
          "data": {
            "text/plain": [
              "[(Timestamp('2023-01-01 00:00:00', freq='D'),\n",
              "  2023-01-01    0.237766\n",
              "  dtype: float64),\n",
              " (Timestamp('2023-01-02 00:00:00', freq='D'),\n",
              "  2023-01-02    0.243984\n",
              "  2023-01-02   -0.253486\n",
              "  dtype: float64),\n",
              " (Timestamp('2023-01-03 00:00:00', freq='D'), Series([], dtype: float64)),\n",
              " (Timestamp('2023-01-04 00:00:00', freq='D'),\n",
              "  2023-01-04   -1.645632\n",
              "  dtype: float64),\n",
              " (Timestamp('2023-01-05 00:00:00', freq='D'), Series([], dtype: float64)),\n",
              " (Timestamp('2023-01-06 00:00:00', freq='D'),\n",
              "  2023-01-06    0.16977\n",
              "  dtype: float64)]"
            ]
          },
          "metadata": {},
          "execution_count": 75
        }
      ]
    },
    {
      "cell_type": "markdown",
      "source": [
        "One useful frequency class is “week of month,” starting with WOM. This enables you to get dates like the third Friday of each month:"
      ],
      "metadata": {
        "id": "DXeYXCq1hfi8"
      }
    },
    {
      "cell_type": "code",
      "source": [
        "pd.date_range(\"2023-01-01\", \"2023-05-01\", freq=\"WOM-3FRI\")\n"
      ],
      "metadata": {
        "colab": {
          "base_uri": "https://localhost:8080/"
        },
        "id": "SVAtQ9pTdt6b",
        "outputId": "c1de78a7-005a-4f49-94da-5917dc4a80fd"
      },
      "execution_count": null,
      "outputs": [
        {
          "output_type": "execute_result",
          "data": {
            "text/plain": [
              "DatetimeIndex(['2023-01-20', '2023-02-17', '2023-03-17', '2023-04-21'], dtype='datetime64[ns]', freq='WOM-3FRI')"
            ]
          },
          "metadata": {},
          "execution_count": 84
        }
      ]
    },
    {
      "cell_type": "markdown",
      "source": [
        "Shifting refers to moving data backward and forward through time. Both Series and DataFrame have a shift method for doing naive shifts forward or backward, leaving the index unmodified"
      ],
      "metadata": {
        "id": "C7aeWk5RiDts"
      }
    },
    {
      "cell_type": "code",
      "source": [
        "date_ser=pd.Series(np.random.standard_normal(4),index=pd.date_range('2023-01-01',periods=4,freq='M'))\n",
        "date_ser"
      ],
      "metadata": {
        "colab": {
          "base_uri": "https://localhost:8080/"
        },
        "id": "4NEC33X_eABE",
        "outputId": "500f4d82-470f-492c-ca14-ebab90b4d52f"
      },
      "execution_count": null,
      "outputs": [
        {
          "output_type": "execute_result",
          "data": {
            "text/plain": [
              "2023-01-31    2.395762\n",
              "2023-02-28   -1.219732\n",
              "2023-03-31    0.990155\n",
              "2023-04-30    0.844565\n",
              "Freq: M, dtype: float64"
            ]
          },
          "metadata": {},
          "execution_count": 86
        }
      ]
    },
    {
      "cell_type": "code",
      "source": [
        "#shift 2 position in forward direction\n",
        "date_ser.shift(2)"
      ],
      "metadata": {
        "colab": {
          "base_uri": "https://localhost:8080/"
        },
        "id": "u8SRuu7NiXLI",
        "outputId": "3ec58c2c-cd59-4c48-b650-8ddf06a621c1"
      },
      "execution_count": null,
      "outputs": [
        {
          "output_type": "execute_result",
          "data": {
            "text/plain": [
              "2023-01-31         NaN\n",
              "2023-02-28         NaN\n",
              "2023-03-31    2.395762\n",
              "2023-04-30   -1.219732\n",
              "Freq: M, dtype: float64"
            ]
          },
          "metadata": {},
          "execution_count": 87
        }
      ]
    },
    {
      "cell_type": "code",
      "source": [
        "#shift 2 position in backward direction\n",
        "date_ser.shift(-2)"
      ],
      "metadata": {
        "colab": {
          "base_uri": "https://localhost:8080/"
        },
        "id": "7c6q3xUCid8s",
        "outputId": "b029f1e8-087b-4aee-9caa-15432955e323"
      },
      "execution_count": null,
      "outputs": [
        {
          "output_type": "execute_result",
          "data": {
            "text/plain": [
              "2023-01-31    0.990155\n",
              "2023-02-28    0.844565\n",
              "2023-03-31         NaN\n",
              "2023-04-30         NaN\n",
              "Freq: M, dtype: float64"
            ]
          },
          "metadata": {},
          "execution_count": 89
        }
      ]
    },
    {
      "cell_type": "code",
      "source": [
        "date_ser.shift(2,freq='M')"
      ],
      "metadata": {
        "colab": {
          "base_uri": "https://localhost:8080/"
        },
        "id": "NWPLkfghjWFq",
        "outputId": "3aa0a1b2-a7ca-4b74-b838-7bdae48e983b"
      },
      "execution_count": null,
      "outputs": [
        {
          "output_type": "execute_result",
          "data": {
            "text/plain": [
              "2023-03-31    2.395762\n",
              "2023-04-30   -1.219732\n",
              "2023-05-31    0.990155\n",
              "2023-06-30    0.844565\n",
              "Freq: M, dtype: float64"
            ]
          },
          "metadata": {},
          "execution_count": 91
        }
      ]
    },
    {
      "cell_type": "code",
      "source": [
        "#Time Zone\n",
        "import pytz"
      ],
      "metadata": {
        "id": "1eN4oCwcjtDx"
      },
      "execution_count": null,
      "outputs": []
    },
    {
      "cell_type": "code",
      "source": [
        "pytz.common_timezones[5:10]"
      ],
      "metadata": {
        "colab": {
          "base_uri": "https://localhost:8080/"
        },
        "id": "lPhdBvyjkoyF",
        "outputId": "d37508f2-8fbe-4f70-84a5-d6ca2d00d20b"
      },
      "execution_count": null,
      "outputs": [
        {
          "output_type": "execute_result",
          "data": {
            "text/plain": [
              "['Africa/Bamako',\n",
              " 'Africa/Bangui',\n",
              " 'Africa/Banjul',\n",
              " 'Africa/Bissau',\n",
              " 'Africa/Blantyre']"
            ]
          },
          "metadata": {},
          "execution_count": 96
        }
      ]
    },
    {
      "cell_type": "code",
      "source": [
        "date_val=pd.date_range('2023-01-01',periods=10,freq='M',tz='UTC')\n",
        "date_val"
      ],
      "metadata": {
        "colab": {
          "base_uri": "https://localhost:8080/"
        },
        "id": "2xnEvf1yks_F",
        "outputId": "9d954137-3d87-4c88-8fd9-63b9c528981b"
      },
      "execution_count": null,
      "outputs": [
        {
          "output_type": "execute_result",
          "data": {
            "text/plain": [
              "DatetimeIndex(['2023-01-31 00:00:00+00:00', '2023-02-28 00:00:00+00:00',\n",
              "               '2023-03-31 00:00:00+00:00', '2023-04-30 00:00:00+00:00',\n",
              "               '2023-05-31 00:00:00+00:00', '2023-06-30 00:00:00+00:00',\n",
              "               '2023-07-31 00:00:00+00:00', '2023-08-31 00:00:00+00:00',\n",
              "               '2023-09-30 00:00:00+00:00', '2023-10-31 00:00:00+00:00'],\n",
              "              dtype='datetime64[ns, UTC]', freq='M')"
            ]
          },
          "metadata": {},
          "execution_count": 99
        }
      ]
    },
    {
      "cell_type": "code",
      "source": [
        "date_val=pd.date_range('2023-01-01',periods=10,tz='UTC')\n",
        "date_val"
      ],
      "metadata": {
        "colab": {
          "base_uri": "https://localhost:8080/"
        },
        "id": "PPg7u8adlzNK",
        "outputId": "1f4cb7ab-fef8-4415-9828-31f26973a569"
      },
      "execution_count": null,
      "outputs": [
        {
          "output_type": "execute_result",
          "data": {
            "text/plain": [
              "DatetimeIndex(['2023-01-01 00:00:00+00:00', '2023-01-02 00:00:00+00:00',\n",
              "               '2023-01-03 00:00:00+00:00', '2023-01-04 00:00:00+00:00',\n",
              "               '2023-01-05 00:00:00+00:00', '2023-01-06 00:00:00+00:00',\n",
              "               '2023-01-07 00:00:00+00:00', '2023-01-08 00:00:00+00:00',\n",
              "               '2023-01-09 00:00:00+00:00', '2023-01-10 00:00:00+00:00'],\n",
              "              dtype='datetime64[ns, UTC]', freq='D')"
            ]
          },
          "metadata": {},
          "execution_count": 101
        }
      ]
    },
    {
      "cell_type": "markdown",
      "source": [
        "Once a time series has been localized to a particular time zone, it can be converted to another time zone with tz_convert:\n"
      ],
      "metadata": {
        "id": "5zu-qAaslfz9"
      }
    },
    {
      "cell_type": "code",
      "source": [
        "date_val.tz_convert('Africa/Banjul')"
      ],
      "metadata": {
        "colab": {
          "base_uri": "https://localhost:8080/"
        },
        "id": "eYenvmpilO3B",
        "outputId": "597612da-4655-4f43-9558-1a19368f8c49"
      },
      "execution_count": null,
      "outputs": [
        {
          "output_type": "execute_result",
          "data": {
            "text/plain": [
              "DatetimeIndex(['2023-01-01 00:00:00+00:00', '2023-01-02 00:00:00+00:00',\n",
              "               '2023-01-03 00:00:00+00:00', '2023-01-04 00:00:00+00:00',\n",
              "               '2023-01-05 00:00:00+00:00', '2023-01-06 00:00:00+00:00',\n",
              "               '2023-01-07 00:00:00+00:00', '2023-01-08 00:00:00+00:00',\n",
              "               '2023-01-09 00:00:00+00:00', '2023-01-10 00:00:00+00:00'],\n",
              "              dtype='datetime64[ns, Africa/Banjul]', freq='D')"
            ]
          },
          "metadata": {},
          "execution_count": 102
        }
      ]
    },
    {
      "cell_type": "markdown",
      "source": [
        "#### **pandas.Period()**\n",
        "Periods represent time spans, like days, months, quarters, or years. "
      ],
      "metadata": {
        "id": "Gcu7DU5nmeGy"
      }
    },
    {
      "cell_type": "code",
      "source": [
        "per_data=pd.Period('2023',freq='A-DEC')\n",
        "per_data\n"
      ],
      "metadata": {
        "colab": {
          "base_uri": "https://localhost:8080/"
        },
        "id": "OUaYc9LClv-R",
        "outputId": "f17116ba-3b75-43f5-8160-fca2ab152d00"
      },
      "execution_count": null,
      "outputs": [
        {
          "output_type": "execute_result",
          "data": {
            "text/plain": [
              "Period('2023', 'A-DEC')"
            ]
          },
          "metadata": {},
          "execution_count": 104
        }
      ]
    },
    {
      "cell_type": "code",
      "source": [
        "per_data+6"
      ],
      "metadata": {
        "colab": {
          "base_uri": "https://localhost:8080/"
        },
        "id": "TfmVU1BXm48I",
        "outputId": "204b1062-360a-42ee-fc41-6ef8df75faaf"
      },
      "execution_count": null,
      "outputs": [
        {
          "output_type": "execute_result",
          "data": {
            "text/plain": [
              "Period('2029', 'A-DEC')"
            ]
          },
          "metadata": {},
          "execution_count": 105
        }
      ]
    },
    {
      "cell_type": "markdown",
      "source": [
        "Regular ranges of periods can be constructed with the period_range function"
      ],
      "metadata": {
        "id": "iSZNVl22nLJL"
      }
    },
    {
      "cell_type": "code",
      "source": [
        "periods = pd.period_range(\"2000-01-01\", \"2000-06-30\", freq=\"M\")\n",
        "periods"
      ],
      "metadata": {
        "colab": {
          "base_uri": "https://localhost:8080/"
        },
        "id": "IhqQFdnLnESP",
        "outputId": "c3efe50e-b1d7-4720-da13-7c0dc062855a"
      },
      "execution_count": null,
      "outputs": [
        {
          "output_type": "execute_result",
          "data": {
            "text/plain": [
              "PeriodIndex(['2000-01', '2000-02', '2000-03', '2000-04', '2000-05', '2000-06'], dtype='period[M]')"
            ]
          },
          "metadata": {},
          "execution_count": 106
        }
      ]
    },
    {
      "cell_type": "markdown",
      "source": [
        "####**Resampling**\n",
        "\n",
        "* Resampling refers to the process of converting a time series from one frequency to another. Aggregating higher frequency data to lower frequency is called downsampling, while converting lower frequency to higher frequency is called upsampling.\n",
        "\n",
        "* Not all resampling falls into either of these categories; for example, converting W-WED(weekly on Wednesday) to W-FRI is neither upsampling nor downsampling."
      ],
      "metadata": {
        "id": "AMlvqrLdxEL2"
      }
    },
    {
      "cell_type": "code",
      "source": [
        "dates=pd.date_range('2023-01-01',periods=40)\n",
        "date_val_ser=pd.Series(np.random.standard_normal(len(dates)),index=dates)\n",
        "date_val_ser"
      ],
      "metadata": {
        "colab": {
          "base_uri": "https://localhost:8080/"
        },
        "id": "R-C1s9D7nOC6",
        "outputId": "9e2d363d-7bd0-4f2f-a50c-d75f89880c6e"
      },
      "execution_count": null,
      "outputs": [
        {
          "output_type": "execute_result",
          "data": {
            "text/plain": [
              "2023-01-01   -0.284172\n",
              "2023-01-02   -0.107050\n",
              "2023-01-03    0.740696\n",
              "2023-01-04    0.128928\n",
              "2023-01-05   -0.040858\n",
              "2023-01-06   -0.391712\n",
              "2023-01-07    1.436388\n",
              "2023-01-08    1.049136\n",
              "2023-01-09   -1.019158\n",
              "2023-01-10   -0.143170\n",
              "2023-01-11   -0.808677\n",
              "2023-01-12   -0.267000\n",
              "2023-01-13   -0.009802\n",
              "2023-01-14    0.607807\n",
              "2023-01-15    1.157858\n",
              "2023-01-16    0.021471\n",
              "2023-01-17    1.353183\n",
              "2023-01-18   -1.557405\n",
              "2023-01-19    1.201424\n",
              "2023-01-20    0.781977\n",
              "2023-01-21    1.963387\n",
              "2023-01-22    1.483552\n",
              "2023-01-23   -1.074749\n",
              "2023-01-24   -0.087319\n",
              "2023-01-25   -0.324553\n",
              "2023-01-26   -0.651084\n",
              "2023-01-27   -1.110617\n",
              "2023-01-28   -0.516620\n",
              "2023-01-29    0.016698\n",
              "2023-01-30    0.040237\n",
              "2023-01-31   -0.858987\n",
              "2023-02-01   -0.381666\n",
              "2023-02-02   -0.207969\n",
              "2023-02-03   -0.692182\n",
              "2023-02-04   -0.131929\n",
              "2023-02-05   -0.316647\n",
              "2023-02-06    1.073194\n",
              "2023-02-07   -1.728932\n",
              "2023-02-08   -2.559011\n",
              "2023-02-09   -0.867897\n",
              "Freq: D, dtype: float64"
            ]
          },
          "metadata": {},
          "execution_count": 110
        }
      ]
    },
    {
      "cell_type": "code",
      "source": [
        "date_val_ser.resample('M').mean()"
      ],
      "metadata": {
        "colab": {
          "base_uri": "https://localhost:8080/"
        },
        "id": "a8X-10EpxuNV",
        "outputId": "f9454c9a-eb0f-4c35-b682-40ac3fcf02e0"
      },
      "execution_count": null,
      "outputs": [
        {
          "output_type": "execute_result",
          "data": {
            "text/plain": [
              "2023-01-31    0.088058\n",
              "2023-02-28   -0.645893\n",
              "Freq: M, dtype: float64"
            ]
          },
          "metadata": {},
          "execution_count": 111
        }
      ]
    },
    {
      "cell_type": "code",
      "source": [
        "date_val_ser.resample('M',kind='period').mean()"
      ],
      "metadata": {
        "colab": {
          "base_uri": "https://localhost:8080/"
        },
        "id": "Nwiwp34Rx7j3",
        "outputId": "899f2c3f-06d3-4c90-f397-bbdb578eee11"
      },
      "execution_count": null,
      "outputs": [
        {
          "output_type": "execute_result",
          "data": {
            "text/plain": [
              "2023-01    0.088058\n",
              "2023-02   -0.645893\n",
              "Freq: M, dtype: float64"
            ]
          },
          "metadata": {},
          "execution_count": 113
        }
      ]
    },
    {
      "cell_type": "code",
      "source": [
        "dates=pd.date_range('2023-01-01',freq='T',periods=100)\n",
        "data=pd.Series(np.random.standard_normal(len(dates)),index=dates)"
      ],
      "metadata": {
        "id": "Dxaz1_Y9yMA8"
      },
      "execution_count": null,
      "outputs": []
    },
    {
      "cell_type": "code",
      "source": [
        "data"
      ],
      "metadata": {
        "colab": {
          "base_uri": "https://localhost:8080/"
        },
        "id": "NVN7WwZTztJX",
        "outputId": "ab4e7c09-b494-4a45-9b2e-773490fc0a29"
      },
      "execution_count": null,
      "outputs": [
        {
          "output_type": "execute_result",
          "data": {
            "text/plain": [
              "2023-01-01 00:00:00   -0.978643\n",
              "2023-01-01 00:01:00    0.867706\n",
              "2023-01-01 00:02:00    0.616878\n",
              "2023-01-01 00:03:00    0.735095\n",
              "2023-01-01 00:04:00    2.324441\n",
              "                         ...   \n",
              "2023-01-01 01:35:00    0.835695\n",
              "2023-01-01 01:36:00    1.205642\n",
              "2023-01-01 01:37:00   -1.413152\n",
              "2023-01-01 01:38:00    0.525094\n",
              "2023-01-01 01:39:00    1.674724\n",
              "Freq: T, Length: 100, dtype: float64"
            ]
          },
          "metadata": {},
          "execution_count": 115
        }
      ]
    },
    {
      "cell_type": "code",
      "source": [
        "data.resample('5min').sum()"
      ],
      "metadata": {
        "colab": {
          "base_uri": "https://localhost:8080/"
        },
        "id": "uChgt63bzuox",
        "outputId": "cbaadddd-e5a2-4e08-aa0c-28a1806756a5"
      },
      "execution_count": null,
      "outputs": [
        {
          "output_type": "execute_result",
          "data": {
            "text/plain": [
              "2023-01-01 00:00:00    3.565477\n",
              "2023-01-01 00:05:00   -0.103472\n",
              "2023-01-01 00:10:00   -3.138283\n",
              "2023-01-01 00:15:00   -0.985799\n",
              "2023-01-01 00:20:00    0.369708\n",
              "2023-01-01 00:25:00    0.413892\n",
              "2023-01-01 00:30:00   -1.215468\n",
              "2023-01-01 00:35:00   -2.066850\n",
              "2023-01-01 00:40:00    0.229575\n",
              "2023-01-01 00:45:00   -0.449204\n",
              "2023-01-01 00:50:00    2.283471\n",
              "2023-01-01 00:55:00   -0.338266\n",
              "2023-01-01 01:00:00    1.177911\n",
              "2023-01-01 01:05:00   -0.855588\n",
              "2023-01-01 01:10:00    0.958880\n",
              "2023-01-01 01:15:00   -1.591106\n",
              "2023-01-01 01:20:00   -2.643666\n",
              "2023-01-01 01:25:00   -0.974349\n",
              "2023-01-01 01:30:00    2.615890\n",
              "2023-01-01 01:35:00    2.828003\n",
              "Freq: 5T, dtype: float64"
            ]
          },
          "metadata": {},
          "execution_count": 116
        }
      ]
    },
    {
      "cell_type": "code",
      "source": [
        "data.resample('5min',closed='right').sum()"
      ],
      "metadata": {
        "colab": {
          "base_uri": "https://localhost:8080/"
        },
        "id": "pLCuh9-Rz0BJ",
        "outputId": "4686e00c-144f-497e-9ad1-9549c1409803"
      },
      "execution_count": null,
      "outputs": [
        {
          "output_type": "execute_result",
          "data": {
            "text/plain": [
              "2022-12-31 23:55:00   -0.978643\n",
              "2023-01-01 00:00:00    6.104691\n",
              "2023-01-01 00:05:00   -2.536242\n",
              "2023-01-01 00:10:00   -2.420770\n",
              "2023-01-01 00:15:00   -0.486533\n",
              "2023-01-01 00:20:00    0.164826\n",
              "2023-01-01 00:25:00    0.759102\n",
              "2023-01-01 00:30:00   -2.786284\n",
              "2023-01-01 00:35:00   -0.281872\n",
              "2023-01-01 00:40:00   -0.835426\n",
              "2023-01-01 00:45:00    0.498766\n",
              "2023-01-01 00:50:00    3.073949\n",
              "2023-01-01 00:55:00   -1.566386\n",
              "2023-01-01 01:00:00    0.934335\n",
              "2023-01-01 01:05:00    0.177200\n",
              "2023-01-01 01:10:00   -0.807894\n",
              "2023-01-01 01:15:00   -2.056571\n",
              "2023-01-01 01:20:00   -2.593852\n",
              "2023-01-01 01:25:00    0.214570\n",
              "2023-01-01 01:30:00    3.511480\n",
              "2023-01-01 01:35:00    1.992308\n",
              "Freq: 5T, dtype: float64"
            ]
          },
          "metadata": {},
          "execution_count": 117
        }
      ]
    },
    {
      "cell_type": "code",
      "source": [
        "data.resample('5min',closed='left').sum()"
      ],
      "metadata": {
        "colab": {
          "base_uri": "https://localhost:8080/"
        },
        "id": "VXGv8xKWz6zG",
        "outputId": "f25eb7b3-569b-4435-9419-0955d03102e9"
      },
      "execution_count": null,
      "outputs": [
        {
          "output_type": "execute_result",
          "data": {
            "text/plain": [
              "2023-01-01 00:00:00    3.565477\n",
              "2023-01-01 00:05:00   -0.103472\n",
              "2023-01-01 00:10:00   -3.138283\n",
              "2023-01-01 00:15:00   -0.985799\n",
              "2023-01-01 00:20:00    0.369708\n",
              "2023-01-01 00:25:00    0.413892\n",
              "2023-01-01 00:30:00   -1.215468\n",
              "2023-01-01 00:35:00   -2.066850\n",
              "2023-01-01 00:40:00    0.229575\n",
              "2023-01-01 00:45:00   -0.449204\n",
              "2023-01-01 00:50:00    2.283471\n",
              "2023-01-01 00:55:00   -0.338266\n",
              "2023-01-01 01:00:00    1.177911\n",
              "2023-01-01 01:05:00   -0.855588\n",
              "2023-01-01 01:10:00    0.958880\n",
              "2023-01-01 01:15:00   -1.591106\n",
              "2023-01-01 01:20:00   -2.643666\n",
              "2023-01-01 01:25:00   -0.974349\n",
              "2023-01-01 01:30:00    2.615890\n",
              "2023-01-01 01:35:00    2.828003\n",
              "Freq: 5T, dtype: float64"
            ]
          },
          "metadata": {},
          "execution_count": 118
        }
      ]
    },
    {
      "cell_type": "markdown",
      "source": [
        "#### **Upsampling**\n",
        "Upsampling is converting from a lower frequency to a higher frequency, where no aggregation is needed."
      ],
      "metadata": {
        "id": "jDTFTQ0mM4s0"
      }
    },
    {
      "cell_type": "code",
      "source": [
        "frame = pd.DataFrame(np.random.standard_normal((2, 4)),\n",
        "                     index=pd.date_range(\"2000-01-01\", periods=2,freq=\"W-WED\"),\n",
        "                     columns=[\"Colorado\", \"Texas\", \"New York\", \"Ohio\"])\n"
      ],
      "metadata": {
        "id": "K658o_eZAkRm"
      },
      "execution_count": 4,
      "outputs": []
    },
    {
      "cell_type": "code",
      "source": [
        "frame"
      ],
      "metadata": {
        "colab": {
          "base_uri": "https://localhost:8080/",
          "height": 112
        },
        "id": "KEAjJqkSAtlU",
        "outputId": "f4b18021-7e3c-482c-b9d9-c3fc04b622ee"
      },
      "execution_count": 5,
      "outputs": [
        {
          "output_type": "execute_result",
          "data": {
            "text/plain": [
              "            Colorado     Texas  New York      Ohio\n",
              "2000-01-05  0.226110 -1.452498  0.338678  0.663561\n",
              "2000-01-12  0.757081 -0.482177 -1.361902  1.033345"
            ],
            "text/html": [
              "\n",
              "  <div id=\"df-36e3625b-8d38-4651-bb61-87cc4d511b00\">\n",
              "    <div class=\"colab-df-container\">\n",
              "      <div>\n",
              "<style scoped>\n",
              "    .dataframe tbody tr th:only-of-type {\n",
              "        vertical-align: middle;\n",
              "    }\n",
              "\n",
              "    .dataframe tbody tr th {\n",
              "        vertical-align: top;\n",
              "    }\n",
              "\n",
              "    .dataframe thead th {\n",
              "        text-align: right;\n",
              "    }\n",
              "</style>\n",
              "<table border=\"1\" class=\"dataframe\">\n",
              "  <thead>\n",
              "    <tr style=\"text-align: right;\">\n",
              "      <th></th>\n",
              "      <th>Colorado</th>\n",
              "      <th>Texas</th>\n",
              "      <th>New York</th>\n",
              "      <th>Ohio</th>\n",
              "    </tr>\n",
              "  </thead>\n",
              "  <tbody>\n",
              "    <tr>\n",
              "      <th>2000-01-05</th>\n",
              "      <td>0.226110</td>\n",
              "      <td>-1.452498</td>\n",
              "      <td>0.338678</td>\n",
              "      <td>0.663561</td>\n",
              "    </tr>\n",
              "    <tr>\n",
              "      <th>2000-01-12</th>\n",
              "      <td>0.757081</td>\n",
              "      <td>-0.482177</td>\n",
              "      <td>-1.361902</td>\n",
              "      <td>1.033345</td>\n",
              "    </tr>\n",
              "  </tbody>\n",
              "</table>\n",
              "</div>\n",
              "      <button class=\"colab-df-convert\" onclick=\"convertToInteractive('df-36e3625b-8d38-4651-bb61-87cc4d511b00')\"\n",
              "              title=\"Convert this dataframe to an interactive table.\"\n",
              "              style=\"display:none;\">\n",
              "        \n",
              "  <svg xmlns=\"http://www.w3.org/2000/svg\" height=\"24px\"viewBox=\"0 0 24 24\"\n",
              "       width=\"24px\">\n",
              "    <path d=\"M0 0h24v24H0V0z\" fill=\"none\"/>\n",
              "    <path d=\"M18.56 5.44l.94 2.06.94-2.06 2.06-.94-2.06-.94-.94-2.06-.94 2.06-2.06.94zm-11 1L8.5 8.5l.94-2.06 2.06-.94-2.06-.94L8.5 2.5l-.94 2.06-2.06.94zm10 10l.94 2.06.94-2.06 2.06-.94-2.06-.94-.94-2.06-.94 2.06-2.06.94z\"/><path d=\"M17.41 7.96l-1.37-1.37c-.4-.4-.92-.59-1.43-.59-.52 0-1.04.2-1.43.59L10.3 9.45l-7.72 7.72c-.78.78-.78 2.05 0 2.83L4 21.41c.39.39.9.59 1.41.59.51 0 1.02-.2 1.41-.59l7.78-7.78 2.81-2.81c.8-.78.8-2.07 0-2.86zM5.41 20L4 18.59l7.72-7.72 1.47 1.35L5.41 20z\"/>\n",
              "  </svg>\n",
              "      </button>\n",
              "      \n",
              "  <style>\n",
              "    .colab-df-container {\n",
              "      display:flex;\n",
              "      flex-wrap:wrap;\n",
              "      gap: 12px;\n",
              "    }\n",
              "\n",
              "    .colab-df-convert {\n",
              "      background-color: #E8F0FE;\n",
              "      border: none;\n",
              "      border-radius: 50%;\n",
              "      cursor: pointer;\n",
              "      display: none;\n",
              "      fill: #1967D2;\n",
              "      height: 32px;\n",
              "      padding: 0 0 0 0;\n",
              "      width: 32px;\n",
              "    }\n",
              "\n",
              "    .colab-df-convert:hover {\n",
              "      background-color: #E2EBFA;\n",
              "      box-shadow: 0px 1px 2px rgba(60, 64, 67, 0.3), 0px 1px 3px 1px rgba(60, 64, 67, 0.15);\n",
              "      fill: #174EA6;\n",
              "    }\n",
              "\n",
              "    [theme=dark] .colab-df-convert {\n",
              "      background-color: #3B4455;\n",
              "      fill: #D2E3FC;\n",
              "    }\n",
              "\n",
              "    [theme=dark] .colab-df-convert:hover {\n",
              "      background-color: #434B5C;\n",
              "      box-shadow: 0px 1px 3px 1px rgba(0, 0, 0, 0.15);\n",
              "      filter: drop-shadow(0px 1px 2px rgba(0, 0, 0, 0.3));\n",
              "      fill: #FFFFFF;\n",
              "    }\n",
              "  </style>\n",
              "\n",
              "      <script>\n",
              "        const buttonEl =\n",
              "          document.querySelector('#df-36e3625b-8d38-4651-bb61-87cc4d511b00 button.colab-df-convert');\n",
              "        buttonEl.style.display =\n",
              "          google.colab.kernel.accessAllowed ? 'block' : 'none';\n",
              "\n",
              "        async function convertToInteractive(key) {\n",
              "          const element = document.querySelector('#df-36e3625b-8d38-4651-bb61-87cc4d511b00');\n",
              "          const dataTable =\n",
              "            await google.colab.kernel.invokeFunction('convertToInteractive',\n",
              "                                                     [key], {});\n",
              "          if (!dataTable) return;\n",
              "\n",
              "          const docLinkHtml = 'Like what you see? Visit the ' +\n",
              "            '<a target=\"_blank\" href=https://colab.research.google.com/notebooks/data_table.ipynb>data table notebook</a>'\n",
              "            + ' to learn more about interactive tables.';\n",
              "          element.innerHTML = '';\n",
              "          dataTable['output_type'] = 'display_data';\n",
              "          await google.colab.output.renderOutput(dataTable, element);\n",
              "          const docLink = document.createElement('div');\n",
              "          docLink.innerHTML = docLinkHtml;\n",
              "          element.appendChild(docLink);\n",
              "        }\n",
              "      </script>\n",
              "    </div>\n",
              "  </div>\n",
              "  "
            ]
          },
          "metadata": {},
          "execution_count": 5
        }
      ]
    },
    {
      "cell_type": "code",
      "source": [
        "df_daily = frame.resample(\"D\").asfreq()\n",
        "df_daily"
      ],
      "metadata": {
        "colab": {
          "base_uri": "https://localhost:8080/",
          "height": 300
        },
        "id": "3ZGHNp7sL8Yn",
        "outputId": "7bdd151d-4d67-4858-e616-ff72196f5626"
      },
      "execution_count": 6,
      "outputs": [
        {
          "output_type": "execute_result",
          "data": {
            "text/plain": [
              "            Colorado     Texas  New York      Ohio\n",
              "2000-01-05  0.226110 -1.452498  0.338678  0.663561\n",
              "2000-01-06       NaN       NaN       NaN       NaN\n",
              "2000-01-07       NaN       NaN       NaN       NaN\n",
              "2000-01-08       NaN       NaN       NaN       NaN\n",
              "2000-01-09       NaN       NaN       NaN       NaN\n",
              "2000-01-10       NaN       NaN       NaN       NaN\n",
              "2000-01-11       NaN       NaN       NaN       NaN\n",
              "2000-01-12  0.757081 -0.482177 -1.361902  1.033345"
            ],
            "text/html": [
              "\n",
              "  <div id=\"df-979b6fbb-2203-494b-9649-940e3c17e679\">\n",
              "    <div class=\"colab-df-container\">\n",
              "      <div>\n",
              "<style scoped>\n",
              "    .dataframe tbody tr th:only-of-type {\n",
              "        vertical-align: middle;\n",
              "    }\n",
              "\n",
              "    .dataframe tbody tr th {\n",
              "        vertical-align: top;\n",
              "    }\n",
              "\n",
              "    .dataframe thead th {\n",
              "        text-align: right;\n",
              "    }\n",
              "</style>\n",
              "<table border=\"1\" class=\"dataframe\">\n",
              "  <thead>\n",
              "    <tr style=\"text-align: right;\">\n",
              "      <th></th>\n",
              "      <th>Colorado</th>\n",
              "      <th>Texas</th>\n",
              "      <th>New York</th>\n",
              "      <th>Ohio</th>\n",
              "    </tr>\n",
              "  </thead>\n",
              "  <tbody>\n",
              "    <tr>\n",
              "      <th>2000-01-05</th>\n",
              "      <td>0.226110</td>\n",
              "      <td>-1.452498</td>\n",
              "      <td>0.338678</td>\n",
              "      <td>0.663561</td>\n",
              "    </tr>\n",
              "    <tr>\n",
              "      <th>2000-01-06</th>\n",
              "      <td>NaN</td>\n",
              "      <td>NaN</td>\n",
              "      <td>NaN</td>\n",
              "      <td>NaN</td>\n",
              "    </tr>\n",
              "    <tr>\n",
              "      <th>2000-01-07</th>\n",
              "      <td>NaN</td>\n",
              "      <td>NaN</td>\n",
              "      <td>NaN</td>\n",
              "      <td>NaN</td>\n",
              "    </tr>\n",
              "    <tr>\n",
              "      <th>2000-01-08</th>\n",
              "      <td>NaN</td>\n",
              "      <td>NaN</td>\n",
              "      <td>NaN</td>\n",
              "      <td>NaN</td>\n",
              "    </tr>\n",
              "    <tr>\n",
              "      <th>2000-01-09</th>\n",
              "      <td>NaN</td>\n",
              "      <td>NaN</td>\n",
              "      <td>NaN</td>\n",
              "      <td>NaN</td>\n",
              "    </tr>\n",
              "    <tr>\n",
              "      <th>2000-01-10</th>\n",
              "      <td>NaN</td>\n",
              "      <td>NaN</td>\n",
              "      <td>NaN</td>\n",
              "      <td>NaN</td>\n",
              "    </tr>\n",
              "    <tr>\n",
              "      <th>2000-01-11</th>\n",
              "      <td>NaN</td>\n",
              "      <td>NaN</td>\n",
              "      <td>NaN</td>\n",
              "      <td>NaN</td>\n",
              "    </tr>\n",
              "    <tr>\n",
              "      <th>2000-01-12</th>\n",
              "      <td>0.757081</td>\n",
              "      <td>-0.482177</td>\n",
              "      <td>-1.361902</td>\n",
              "      <td>1.033345</td>\n",
              "    </tr>\n",
              "  </tbody>\n",
              "</table>\n",
              "</div>\n",
              "      <button class=\"colab-df-convert\" onclick=\"convertToInteractive('df-979b6fbb-2203-494b-9649-940e3c17e679')\"\n",
              "              title=\"Convert this dataframe to an interactive table.\"\n",
              "              style=\"display:none;\">\n",
              "        \n",
              "  <svg xmlns=\"http://www.w3.org/2000/svg\" height=\"24px\"viewBox=\"0 0 24 24\"\n",
              "       width=\"24px\">\n",
              "    <path d=\"M0 0h24v24H0V0z\" fill=\"none\"/>\n",
              "    <path d=\"M18.56 5.44l.94 2.06.94-2.06 2.06-.94-2.06-.94-.94-2.06-.94 2.06-2.06.94zm-11 1L8.5 8.5l.94-2.06 2.06-.94-2.06-.94L8.5 2.5l-.94 2.06-2.06.94zm10 10l.94 2.06.94-2.06 2.06-.94-2.06-.94-.94-2.06-.94 2.06-2.06.94z\"/><path d=\"M17.41 7.96l-1.37-1.37c-.4-.4-.92-.59-1.43-.59-.52 0-1.04.2-1.43.59L10.3 9.45l-7.72 7.72c-.78.78-.78 2.05 0 2.83L4 21.41c.39.39.9.59 1.41.59.51 0 1.02-.2 1.41-.59l7.78-7.78 2.81-2.81c.8-.78.8-2.07 0-2.86zM5.41 20L4 18.59l7.72-7.72 1.47 1.35L5.41 20z\"/>\n",
              "  </svg>\n",
              "      </button>\n",
              "      \n",
              "  <style>\n",
              "    .colab-df-container {\n",
              "      display:flex;\n",
              "      flex-wrap:wrap;\n",
              "      gap: 12px;\n",
              "    }\n",
              "\n",
              "    .colab-df-convert {\n",
              "      background-color: #E8F0FE;\n",
              "      border: none;\n",
              "      border-radius: 50%;\n",
              "      cursor: pointer;\n",
              "      display: none;\n",
              "      fill: #1967D2;\n",
              "      height: 32px;\n",
              "      padding: 0 0 0 0;\n",
              "      width: 32px;\n",
              "    }\n",
              "\n",
              "    .colab-df-convert:hover {\n",
              "      background-color: #E2EBFA;\n",
              "      box-shadow: 0px 1px 2px rgba(60, 64, 67, 0.3), 0px 1px 3px 1px rgba(60, 64, 67, 0.15);\n",
              "      fill: #174EA6;\n",
              "    }\n",
              "\n",
              "    [theme=dark] .colab-df-convert {\n",
              "      background-color: #3B4455;\n",
              "      fill: #D2E3FC;\n",
              "    }\n",
              "\n",
              "    [theme=dark] .colab-df-convert:hover {\n",
              "      background-color: #434B5C;\n",
              "      box-shadow: 0px 1px 3px 1px rgba(0, 0, 0, 0.15);\n",
              "      filter: drop-shadow(0px 1px 2px rgba(0, 0, 0, 0.3));\n",
              "      fill: #FFFFFF;\n",
              "    }\n",
              "  </style>\n",
              "\n",
              "      <script>\n",
              "        const buttonEl =\n",
              "          document.querySelector('#df-979b6fbb-2203-494b-9649-940e3c17e679 button.colab-df-convert');\n",
              "        buttonEl.style.display =\n",
              "          google.colab.kernel.accessAllowed ? 'block' : 'none';\n",
              "\n",
              "        async function convertToInteractive(key) {\n",
              "          const element = document.querySelector('#df-979b6fbb-2203-494b-9649-940e3c17e679');\n",
              "          const dataTable =\n",
              "            await google.colab.kernel.invokeFunction('convertToInteractive',\n",
              "                                                     [key], {});\n",
              "          if (!dataTable) return;\n",
              "\n",
              "          const docLinkHtml = 'Like what you see? Visit the ' +\n",
              "            '<a target=\"_blank\" href=https://colab.research.google.com/notebooks/data_table.ipynb>data table notebook</a>'\n",
              "            + ' to learn more about interactive tables.';\n",
              "          element.innerHTML = '';\n",
              "          dataTable['output_type'] = 'display_data';\n",
              "          await google.colab.output.renderOutput(dataTable, element);\n",
              "          const docLink = document.createElement('div');\n",
              "          docLink.innerHTML = docLinkHtml;\n",
              "          element.appendChild(docLink);\n",
              "        }\n",
              "      </script>\n",
              "    </div>\n",
              "  </div>\n",
              "  "
            ]
          },
          "metadata": {},
          "execution_count": 6
        }
      ]
    },
    {
      "cell_type": "markdown",
      "source": [
        "Suppose you wanted to fill forward each weekly value on the non-Wednesdays.The same filling or interpolation methods available in the fillna and reindex methods are available for resampling:"
      ],
      "metadata": {
        "id": "FNY3sNKyNlRL"
      }
    },
    {
      "cell_type": "code",
      "source": [
        "frame.resample('D').ffill()"
      ],
      "metadata": {
        "colab": {
          "base_uri": "https://localhost:8080/",
          "height": 300
        },
        "id": "I0TUlcH5NgWt",
        "outputId": "d5ad3506-936f-4092-c82a-3ba0629d0799"
      },
      "execution_count": 7,
      "outputs": [
        {
          "output_type": "execute_result",
          "data": {
            "text/plain": [
              "            Colorado     Texas  New York      Ohio\n",
              "2000-01-05  0.226110 -1.452498  0.338678  0.663561\n",
              "2000-01-06  0.226110 -1.452498  0.338678  0.663561\n",
              "2000-01-07  0.226110 -1.452498  0.338678  0.663561\n",
              "2000-01-08  0.226110 -1.452498  0.338678  0.663561\n",
              "2000-01-09  0.226110 -1.452498  0.338678  0.663561\n",
              "2000-01-10  0.226110 -1.452498  0.338678  0.663561\n",
              "2000-01-11  0.226110 -1.452498  0.338678  0.663561\n",
              "2000-01-12  0.757081 -0.482177 -1.361902  1.033345"
            ],
            "text/html": [
              "\n",
              "  <div id=\"df-1f89c233-5a61-401e-98fb-8ac609a739e5\">\n",
              "    <div class=\"colab-df-container\">\n",
              "      <div>\n",
              "<style scoped>\n",
              "    .dataframe tbody tr th:only-of-type {\n",
              "        vertical-align: middle;\n",
              "    }\n",
              "\n",
              "    .dataframe tbody tr th {\n",
              "        vertical-align: top;\n",
              "    }\n",
              "\n",
              "    .dataframe thead th {\n",
              "        text-align: right;\n",
              "    }\n",
              "</style>\n",
              "<table border=\"1\" class=\"dataframe\">\n",
              "  <thead>\n",
              "    <tr style=\"text-align: right;\">\n",
              "      <th></th>\n",
              "      <th>Colorado</th>\n",
              "      <th>Texas</th>\n",
              "      <th>New York</th>\n",
              "      <th>Ohio</th>\n",
              "    </tr>\n",
              "  </thead>\n",
              "  <tbody>\n",
              "    <tr>\n",
              "      <th>2000-01-05</th>\n",
              "      <td>0.226110</td>\n",
              "      <td>-1.452498</td>\n",
              "      <td>0.338678</td>\n",
              "      <td>0.663561</td>\n",
              "    </tr>\n",
              "    <tr>\n",
              "      <th>2000-01-06</th>\n",
              "      <td>0.226110</td>\n",
              "      <td>-1.452498</td>\n",
              "      <td>0.338678</td>\n",
              "      <td>0.663561</td>\n",
              "    </tr>\n",
              "    <tr>\n",
              "      <th>2000-01-07</th>\n",
              "      <td>0.226110</td>\n",
              "      <td>-1.452498</td>\n",
              "      <td>0.338678</td>\n",
              "      <td>0.663561</td>\n",
              "    </tr>\n",
              "    <tr>\n",
              "      <th>2000-01-08</th>\n",
              "      <td>0.226110</td>\n",
              "      <td>-1.452498</td>\n",
              "      <td>0.338678</td>\n",
              "      <td>0.663561</td>\n",
              "    </tr>\n",
              "    <tr>\n",
              "      <th>2000-01-09</th>\n",
              "      <td>0.226110</td>\n",
              "      <td>-1.452498</td>\n",
              "      <td>0.338678</td>\n",
              "      <td>0.663561</td>\n",
              "    </tr>\n",
              "    <tr>\n",
              "      <th>2000-01-10</th>\n",
              "      <td>0.226110</td>\n",
              "      <td>-1.452498</td>\n",
              "      <td>0.338678</td>\n",
              "      <td>0.663561</td>\n",
              "    </tr>\n",
              "    <tr>\n",
              "      <th>2000-01-11</th>\n",
              "      <td>0.226110</td>\n",
              "      <td>-1.452498</td>\n",
              "      <td>0.338678</td>\n",
              "      <td>0.663561</td>\n",
              "    </tr>\n",
              "    <tr>\n",
              "      <th>2000-01-12</th>\n",
              "      <td>0.757081</td>\n",
              "      <td>-0.482177</td>\n",
              "      <td>-1.361902</td>\n",
              "      <td>1.033345</td>\n",
              "    </tr>\n",
              "  </tbody>\n",
              "</table>\n",
              "</div>\n",
              "      <button class=\"colab-df-convert\" onclick=\"convertToInteractive('df-1f89c233-5a61-401e-98fb-8ac609a739e5')\"\n",
              "              title=\"Convert this dataframe to an interactive table.\"\n",
              "              style=\"display:none;\">\n",
              "        \n",
              "  <svg xmlns=\"http://www.w3.org/2000/svg\" height=\"24px\"viewBox=\"0 0 24 24\"\n",
              "       width=\"24px\">\n",
              "    <path d=\"M0 0h24v24H0V0z\" fill=\"none\"/>\n",
              "    <path d=\"M18.56 5.44l.94 2.06.94-2.06 2.06-.94-2.06-.94-.94-2.06-.94 2.06-2.06.94zm-11 1L8.5 8.5l.94-2.06 2.06-.94-2.06-.94L8.5 2.5l-.94 2.06-2.06.94zm10 10l.94 2.06.94-2.06 2.06-.94-2.06-.94-.94-2.06-.94 2.06-2.06.94z\"/><path d=\"M17.41 7.96l-1.37-1.37c-.4-.4-.92-.59-1.43-.59-.52 0-1.04.2-1.43.59L10.3 9.45l-7.72 7.72c-.78.78-.78 2.05 0 2.83L4 21.41c.39.39.9.59 1.41.59.51 0 1.02-.2 1.41-.59l7.78-7.78 2.81-2.81c.8-.78.8-2.07 0-2.86zM5.41 20L4 18.59l7.72-7.72 1.47 1.35L5.41 20z\"/>\n",
              "  </svg>\n",
              "      </button>\n",
              "      \n",
              "  <style>\n",
              "    .colab-df-container {\n",
              "      display:flex;\n",
              "      flex-wrap:wrap;\n",
              "      gap: 12px;\n",
              "    }\n",
              "\n",
              "    .colab-df-convert {\n",
              "      background-color: #E8F0FE;\n",
              "      border: none;\n",
              "      border-radius: 50%;\n",
              "      cursor: pointer;\n",
              "      display: none;\n",
              "      fill: #1967D2;\n",
              "      height: 32px;\n",
              "      padding: 0 0 0 0;\n",
              "      width: 32px;\n",
              "    }\n",
              "\n",
              "    .colab-df-convert:hover {\n",
              "      background-color: #E2EBFA;\n",
              "      box-shadow: 0px 1px 2px rgba(60, 64, 67, 0.3), 0px 1px 3px 1px rgba(60, 64, 67, 0.15);\n",
              "      fill: #174EA6;\n",
              "    }\n",
              "\n",
              "    [theme=dark] .colab-df-convert {\n",
              "      background-color: #3B4455;\n",
              "      fill: #D2E3FC;\n",
              "    }\n",
              "\n",
              "    [theme=dark] .colab-df-convert:hover {\n",
              "      background-color: #434B5C;\n",
              "      box-shadow: 0px 1px 3px 1px rgba(0, 0, 0, 0.15);\n",
              "      filter: drop-shadow(0px 1px 2px rgba(0, 0, 0, 0.3));\n",
              "      fill: #FFFFFF;\n",
              "    }\n",
              "  </style>\n",
              "\n",
              "      <script>\n",
              "        const buttonEl =\n",
              "          document.querySelector('#df-1f89c233-5a61-401e-98fb-8ac609a739e5 button.colab-df-convert');\n",
              "        buttonEl.style.display =\n",
              "          google.colab.kernel.accessAllowed ? 'block' : 'none';\n",
              "\n",
              "        async function convertToInteractive(key) {\n",
              "          const element = document.querySelector('#df-1f89c233-5a61-401e-98fb-8ac609a739e5');\n",
              "          const dataTable =\n",
              "            await google.colab.kernel.invokeFunction('convertToInteractive',\n",
              "                                                     [key], {});\n",
              "          if (!dataTable) return;\n",
              "\n",
              "          const docLinkHtml = 'Like what you see? Visit the ' +\n",
              "            '<a target=\"_blank\" href=https://colab.research.google.com/notebooks/data_table.ipynb>data table notebook</a>'\n",
              "            + ' to learn more about interactive tables.';\n",
              "          element.innerHTML = '';\n",
              "          dataTable['output_type'] = 'display_data';\n",
              "          await google.colab.output.renderOutput(dataTable, element);\n",
              "          const docLink = document.createElement('div');\n",
              "          docLink.innerHTML = docLinkHtml;\n",
              "          element.appendChild(docLink);\n",
              "        }\n",
              "      </script>\n",
              "    </div>\n",
              "  </div>\n",
              "  "
            ]
          },
          "metadata": {},
          "execution_count": 7
        }
      ]
    },
    {
      "cell_type": "code",
      "source": [
        " frame.resample(\"D\").ffill(limit=2)"
      ],
      "metadata": {
        "colab": {
          "base_uri": "https://localhost:8080/",
          "height": 300
        },
        "id": "4mV1N9GgN3Xg",
        "outputId": "ddd2ceb0-3383-477c-dad1-536159de0747"
      },
      "execution_count": 8,
      "outputs": [
        {
          "output_type": "execute_result",
          "data": {
            "text/plain": [
              "            Colorado     Texas  New York      Ohio\n",
              "2000-01-05  0.226110 -1.452498  0.338678  0.663561\n",
              "2000-01-06  0.226110 -1.452498  0.338678  0.663561\n",
              "2000-01-07  0.226110 -1.452498  0.338678  0.663561\n",
              "2000-01-08       NaN       NaN       NaN       NaN\n",
              "2000-01-09       NaN       NaN       NaN       NaN\n",
              "2000-01-10       NaN       NaN       NaN       NaN\n",
              "2000-01-11       NaN       NaN       NaN       NaN\n",
              "2000-01-12  0.757081 -0.482177 -1.361902  1.033345"
            ],
            "text/html": [
              "\n",
              "  <div id=\"df-b5bb61ef-1886-4e24-9cfb-d42051e50aa4\">\n",
              "    <div class=\"colab-df-container\">\n",
              "      <div>\n",
              "<style scoped>\n",
              "    .dataframe tbody tr th:only-of-type {\n",
              "        vertical-align: middle;\n",
              "    }\n",
              "\n",
              "    .dataframe tbody tr th {\n",
              "        vertical-align: top;\n",
              "    }\n",
              "\n",
              "    .dataframe thead th {\n",
              "        text-align: right;\n",
              "    }\n",
              "</style>\n",
              "<table border=\"1\" class=\"dataframe\">\n",
              "  <thead>\n",
              "    <tr style=\"text-align: right;\">\n",
              "      <th></th>\n",
              "      <th>Colorado</th>\n",
              "      <th>Texas</th>\n",
              "      <th>New York</th>\n",
              "      <th>Ohio</th>\n",
              "    </tr>\n",
              "  </thead>\n",
              "  <tbody>\n",
              "    <tr>\n",
              "      <th>2000-01-05</th>\n",
              "      <td>0.226110</td>\n",
              "      <td>-1.452498</td>\n",
              "      <td>0.338678</td>\n",
              "      <td>0.663561</td>\n",
              "    </tr>\n",
              "    <tr>\n",
              "      <th>2000-01-06</th>\n",
              "      <td>0.226110</td>\n",
              "      <td>-1.452498</td>\n",
              "      <td>0.338678</td>\n",
              "      <td>0.663561</td>\n",
              "    </tr>\n",
              "    <tr>\n",
              "      <th>2000-01-07</th>\n",
              "      <td>0.226110</td>\n",
              "      <td>-1.452498</td>\n",
              "      <td>0.338678</td>\n",
              "      <td>0.663561</td>\n",
              "    </tr>\n",
              "    <tr>\n",
              "      <th>2000-01-08</th>\n",
              "      <td>NaN</td>\n",
              "      <td>NaN</td>\n",
              "      <td>NaN</td>\n",
              "      <td>NaN</td>\n",
              "    </tr>\n",
              "    <tr>\n",
              "      <th>2000-01-09</th>\n",
              "      <td>NaN</td>\n",
              "      <td>NaN</td>\n",
              "      <td>NaN</td>\n",
              "      <td>NaN</td>\n",
              "    </tr>\n",
              "    <tr>\n",
              "      <th>2000-01-10</th>\n",
              "      <td>NaN</td>\n",
              "      <td>NaN</td>\n",
              "      <td>NaN</td>\n",
              "      <td>NaN</td>\n",
              "    </tr>\n",
              "    <tr>\n",
              "      <th>2000-01-11</th>\n",
              "      <td>NaN</td>\n",
              "      <td>NaN</td>\n",
              "      <td>NaN</td>\n",
              "      <td>NaN</td>\n",
              "    </tr>\n",
              "    <tr>\n",
              "      <th>2000-01-12</th>\n",
              "      <td>0.757081</td>\n",
              "      <td>-0.482177</td>\n",
              "      <td>-1.361902</td>\n",
              "      <td>1.033345</td>\n",
              "    </tr>\n",
              "  </tbody>\n",
              "</table>\n",
              "</div>\n",
              "      <button class=\"colab-df-convert\" onclick=\"convertToInteractive('df-b5bb61ef-1886-4e24-9cfb-d42051e50aa4')\"\n",
              "              title=\"Convert this dataframe to an interactive table.\"\n",
              "              style=\"display:none;\">\n",
              "        \n",
              "  <svg xmlns=\"http://www.w3.org/2000/svg\" height=\"24px\"viewBox=\"0 0 24 24\"\n",
              "       width=\"24px\">\n",
              "    <path d=\"M0 0h24v24H0V0z\" fill=\"none\"/>\n",
              "    <path d=\"M18.56 5.44l.94 2.06.94-2.06 2.06-.94-2.06-.94-.94-2.06-.94 2.06-2.06.94zm-11 1L8.5 8.5l.94-2.06 2.06-.94-2.06-.94L8.5 2.5l-.94 2.06-2.06.94zm10 10l.94 2.06.94-2.06 2.06-.94-2.06-.94-.94-2.06-.94 2.06-2.06.94z\"/><path d=\"M17.41 7.96l-1.37-1.37c-.4-.4-.92-.59-1.43-.59-.52 0-1.04.2-1.43.59L10.3 9.45l-7.72 7.72c-.78.78-.78 2.05 0 2.83L4 21.41c.39.39.9.59 1.41.59.51 0 1.02-.2 1.41-.59l7.78-7.78 2.81-2.81c.8-.78.8-2.07 0-2.86zM5.41 20L4 18.59l7.72-7.72 1.47 1.35L5.41 20z\"/>\n",
              "  </svg>\n",
              "      </button>\n",
              "      \n",
              "  <style>\n",
              "    .colab-df-container {\n",
              "      display:flex;\n",
              "      flex-wrap:wrap;\n",
              "      gap: 12px;\n",
              "    }\n",
              "\n",
              "    .colab-df-convert {\n",
              "      background-color: #E8F0FE;\n",
              "      border: none;\n",
              "      border-radius: 50%;\n",
              "      cursor: pointer;\n",
              "      display: none;\n",
              "      fill: #1967D2;\n",
              "      height: 32px;\n",
              "      padding: 0 0 0 0;\n",
              "      width: 32px;\n",
              "    }\n",
              "\n",
              "    .colab-df-convert:hover {\n",
              "      background-color: #E2EBFA;\n",
              "      box-shadow: 0px 1px 2px rgba(60, 64, 67, 0.3), 0px 1px 3px 1px rgba(60, 64, 67, 0.15);\n",
              "      fill: #174EA6;\n",
              "    }\n",
              "\n",
              "    [theme=dark] .colab-df-convert {\n",
              "      background-color: #3B4455;\n",
              "      fill: #D2E3FC;\n",
              "    }\n",
              "\n",
              "    [theme=dark] .colab-df-convert:hover {\n",
              "      background-color: #434B5C;\n",
              "      box-shadow: 0px 1px 3px 1px rgba(0, 0, 0, 0.15);\n",
              "      filter: drop-shadow(0px 1px 2px rgba(0, 0, 0, 0.3));\n",
              "      fill: #FFFFFF;\n",
              "    }\n",
              "  </style>\n",
              "\n",
              "      <script>\n",
              "        const buttonEl =\n",
              "          document.querySelector('#df-b5bb61ef-1886-4e24-9cfb-d42051e50aa4 button.colab-df-convert');\n",
              "        buttonEl.style.display =\n",
              "          google.colab.kernel.accessAllowed ? 'block' : 'none';\n",
              "\n",
              "        async function convertToInteractive(key) {\n",
              "          const element = document.querySelector('#df-b5bb61ef-1886-4e24-9cfb-d42051e50aa4');\n",
              "          const dataTable =\n",
              "            await google.colab.kernel.invokeFunction('convertToInteractive',\n",
              "                                                     [key], {});\n",
              "          if (!dataTable) return;\n",
              "\n",
              "          const docLinkHtml = 'Like what you see? Visit the ' +\n",
              "            '<a target=\"_blank\" href=https://colab.research.google.com/notebooks/data_table.ipynb>data table notebook</a>'\n",
              "            + ' to learn more about interactive tables.';\n",
              "          element.innerHTML = '';\n",
              "          dataTable['output_type'] = 'display_data';\n",
              "          await google.colab.output.renderOutput(dataTable, element);\n",
              "          const docLink = document.createElement('div');\n",
              "          docLink.innerHTML = docLinkHtml;\n",
              "          element.appendChild(docLink);\n",
              "        }\n",
              "      </script>\n",
              "    </div>\n",
              "  </div>\n",
              "  "
            ]
          },
          "metadata": {},
          "execution_count": 8
        }
      ]
    },
    {
      "cell_type": "code",
      "source": [],
      "metadata": {
        "id": "TDvoW87ZN74F"
      },
      "execution_count": null,
      "outputs": []
    }
  ]
}