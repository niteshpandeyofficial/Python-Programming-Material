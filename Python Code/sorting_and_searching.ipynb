{
  "cells": [
    {
      "cell_type": "markdown",
      "metadata": {
        "id": "u8Rv6UbI23qE"
      },
      "source": [
        "Searching is the process of fetching a specific element in a collection of elements. The collection can be an array or a linked list. If you find the element in the list, the process is considered successful, and it returns the location of that element.\n",
        "\n",
        "And in contrast, if you do not find the element, it deems the search unsuccessful.Two prominent search strategies are extensively used to find a specific item on a list. However, the algorithm chosen is determined by the list's organization.\n",
        "\n",
        "1. Linear Search\n",
        "2. Binary Search \n",
        "3. Ternary Search"
      ]
    },
    {
      "cell_type": "markdown",
      "metadata": {
        "id": "17NtK9LfOUwB"
      },
      "source": [
        "### Linear Search Implementation\n",
        "\n",
        "Linear search, often known as sequential search, is the most basic search technique. In this type of search, you go through the entire list and try to fetch a match for a single element. If you find a match, then the address of the matching target element is returned. \n",
        "\n",
        "On the other hand, if the element is not found, then it returns a NULL value. "
      ]
    },
    {
      "cell_type": "markdown",
      "metadata": {
        "id": "NKCNdSnC3Yk5"
      },
      "source": [
        "### The Complexity of Linear Search Algorithm.\n",
        "\n",
        "Best Case Complexity-O(1)   \n",
        "Worst Case Complexity-O(n)  \n",
        "Average Case Complexity-O(n/2)"
      ]
    },
    {
      "cell_type": "code",
      "execution_count": null,
      "metadata": {
        "id": "e6DW3s88MNtU"
      },
      "outputs": [],
      "source": [
        "def linear_search(arr,usr_in):\n",
        "  #l=[1,9,7,9,3];\n",
        "  for i in range(len(arr)):\n",
        "    if arr[i]==usr_in:\n",
        "      print(f\"data present at index position {i}\")\n",
        "      break;\n",
        "  else:\n",
        "    print('Data not found')\n"
      ]
    },
    {
      "cell_type": "code",
      "execution_count": null,
      "metadata": {
        "colab": {
          "base_uri": "https://localhost:8080/"
        },
        "id": "1qCJL8CMMpqt",
        "outputId": "65b2fb83-328e-4d63-e0b8-1aca5940aa2e"
      },
      "outputs": [
        {
          "name": "stdout",
          "output_type": "stream",
          "text": [
            "Enter array:1 3 5 7\n",
            "Enter the number which you want to find:7\n",
            "data present at index position 3\n"
          ]
        }
      ],
      "source": [
        "arr = list(map(int, input('Enter array:').split()));\n",
        "usr_in=int(input('Enter the number which you want to find:'))\n",
        "linear_search(arr,usr_in)"
      ]
    },
    {
      "cell_type": "markdown",
      "metadata": {
        "id": "K_veQKRKOkba"
      },
      "source": [
        "### Binary Search Implementation"
      ]
    },
    {
      "cell_type": "markdown",
      "metadata": {
        "id": "tp-oH1m8BI3k"
      },
      "source": [
        "A binary search is an advanced type of search algorithm that finds and fetches data from a sorted list of items. Its core working principle involves dividing the data in the list to half until the required value is located and displayed to the user in the search result. Binary search is commonly known as a half-interval search or a logarithmic search.\n",
        "\n",
        "\n",
        "Binary search performs comparisons of the sorted data based on an ordering principle than using equality comparisons that are slow and inaccurate.\n",
        "A binary search is not suitable for unsorted data.\n",
        "\n",
        "\n",
        "* Best Case Time Complexity: O(1)\n",
        "* Worst Case Time Complexity: O(log2N)\n",
        "* Average Case Time Complexity: O(log2N)\n",
        "\n",
        "calculating the middle index   \n",
        "**int mid = low + (high - low)//2;**"
      ]
    },
    {
      "cell_type": "code",
      "execution_count": null,
      "metadata": {
        "id": "OAlZJJpDQQr4"
      },
      "outputs": [],
      "source": [
        "## Sorting the array\n",
        "\n",
        "def sorting_list(l):\n",
        "  array_len=len(l)\n",
        "  for i in range(0,array_len):\n",
        "    for j in range(i,array_len-1):\n",
        "      if l[i]>l[j+1]:\n",
        "        l[i],l[j+1]=l[j+1],l[i]\n",
        "      else:\n",
        "        pass\n",
        "  return l\n",
        "\n",
        "## Searching the value from array\n",
        "def binary_search(final_arr,data,low,high):\n",
        "  print('low',low,'high',high)\n",
        "  if high>=low:\n",
        "    mid=low + (high - low)//2\n",
        "    print(mid)\n",
        "    if final_arr[mid]==data: #mid value of the array\n",
        "      return mid\n",
        "    \n",
        "    elif final_arr[mid] > data:  # Search the left half\n",
        "      return binary_search(final_arr, data, low , mid-1)\n",
        "\n",
        "    else:              # Search the right half\n",
        "      return binary_search(final_arr, data, mid + 1, high)\n",
        "  else:\n",
        "    return -1;"
      ]
    },
    {
      "cell_type": "code",
      "execution_count": null,
      "metadata": {
        "colab": {
          "base_uri": "https://localhost:8080/"
        },
        "id": "Jv87zC8fSi34",
        "outputId": "8df48fb7-ea5c-4cb7-cdc0-865b6cd494da"
      },
      "outputs": [
        {
          "name": "stdout",
          "output_type": "stream",
          "text": [
            "Enter array:1 3 5 6 8\n",
            "Enter the number which you want to find:5\n",
            "low 0 high 4\n",
            "2\n",
            "Element is present at index 2\n"
          ]
        }
      ],
      "source": [
        "arr = list(map(int, input('Enter array:').split()));\n",
        "final_arr=sorting_list(arr)  ##Sorting array first then proceed for searching\n",
        "usr_in=int(input('Enter the number which you want to find:'))\n",
        "result =binary_search(final_arr,usr_in,0,len(final_arr)-1)\n",
        "\n",
        "if result != -1:\n",
        "    print(\"Element is present at index \" + str(result))\n",
        "else:\n",
        "    print(\"Not found\")"
      ]
    },
    {
      "cell_type": "markdown",
      "metadata": {},
      "source": [
        "### Ternary Tree\n",
        "* A ternary tree is a type of tree data structure where each node can have up to three derivative nodes.  \n",
        "* Ternary search might be faster than binary search as its time complexity on an input containing n items should be \n",
        "   O(log3n)\n",
        "   \n",
        "   * Best Case Time Complexity: O(1)\n",
        "   * Worst Case Time Complexity: O(log3n)\n",
        "   * Average Case Time Complexity: O(log3n)\n"
      ]
    },
    {
      "cell_type": "code",
      "execution_count": null,
      "metadata": {},
      "outputs": [],
      "source": [
        "def ternarySearch(l,r,x,arr):\n",
        "  while l<=r:\n",
        "    mid1=l+(r-l)//3\n",
        "    mid2=r-(r-l)//3\n",
        "\n",
        "    if arr[mid1]==x:\n",
        "      return mid1\n",
        "    elif arr[mid2]==x:\n",
        "      return mid2\n",
        "    elif x<arr[mid1]:\n",
        "      return ternarySearch(l,mid1-1,x,arr)\n",
        "    elif x>arr[mid2]:\n",
        "      return ternarySearch(mid2+1,r,x,arr)\n",
        "    else:\n",
        "      return ternarySearch(mid1+1,mid2-1,x,arr)\n",
        "  return -1\n"
      ]
    },
    {
      "cell_type": "code",
      "execution_count": null,
      "metadata": {},
      "outputs": [],
      "source": [
        "arr=[1,2,3,4,5,6,7,8,9,10]\n",
        "l=0\n",
        "r=len(arr)-1\n",
        "x=2\n",
        "result=ternarySearch(l,r,x,arr)\n",
        "print(f\"element present at index position of {result}\")"
      ]
    },
    {
      "cell_type": "markdown",
      "metadata": {
        "id": "aYWuuXAFXixl"
      },
      "source": [
        "### Sorting"
      ]
    },
    {
      "cell_type": "markdown",
      "metadata": {
        "id": "69tRXpp3XsZ0"
      },
      "source": [
        "#### 1. Bubble Sort\n",
        "\n",
        "It is a simple sorting algorithm that repeatedly steps through the list to be sorted, compares each pair of adjacent items and swaps them if they are in the wrong order.      \n",
        "\n",
        "The pass through the list is repeated until no swaps are needed, which indicates that the list is sorted. The algorithm, which is a comparison sort, is named for the way smaller elements \"bubble\" to the top of the list. \n",
        "\n",
        "Although the algorithm is simple, it is too slow and impractical for most problems even when compared to insertion sort. \n",
        "\n",
        "\n",
        "#### Time Complexity:  \n",
        "Worst Case:-O(n2)    \n",
        "Best Case:-O(n)    \n",
        "Average Case:-O(n/2 x n)"
      ]
    },
    {
      "cell_type": "code",
      "execution_count": null,
      "metadata": {
        "id": "UA8O0S3pWxk2"
      },
      "outputs": [],
      "source": [
        "def bubble_sort(l):\n",
        "  array_len=len(l)\n",
        "  for i in range(0,array_len):\n",
        "    for j in range(i,array_len-1):\n",
        "      if l[i]>l[j+1]:\n",
        "        l[i],l[j+1]=l[j+1],l[i]\n",
        "      else:\n",
        "        pass\n",
        "  return l"
      ]
    },
    {
      "cell_type": "code",
      "execution_count": null,
      "metadata": {
        "colab": {
          "base_uri": "https://localhost:8080/"
        },
        "id": "7KKeDWPxX3Vd",
        "outputId": "b1cdae54-a2d5-4533-f3a2-26160d85891f"
      },
      "outputs": [
        {
          "name": "stdout",
          "output_type": "stream",
          "text": [
            "Enter array:1 4 7 6 2\n",
            "[1, 2, 4, 6, 7]\n"
          ]
        }
      ],
      "source": [
        "arr = list(map(int, input('Enter array:').split()));\n",
        "final_arr=bubble_sort(arr)\n",
        "print(final_arr)"
      ]
    },
    {
      "cell_type": "markdown",
      "metadata": {
        "id": "gUvLF83HakQd"
      },
      "source": [
        "### 2.Selection Sort\n",
        "\n",
        "\n",
        "*   we select the smallest element from an unsorted array in each pass and swap with the beginning of the unsorted array. This process will continue until all the elements are placed at right place. It is simple and an **in-place** comparison sorting algorithm.\n",
        "\n",
        "*   The selection sort is best used when you have a small list of items to sort, the cost of swapping values does not matter, and checking of all the values is mandatory.\n",
        "\n",
        "*   The selection sort does not perform well on huge lists.\n",
        "*   Other sorting algorithms, such as quicksort, have better performance when compared to the selection sort.\n",
        "* Not stable as compared to bubble sort.\n",
        "\n",
        "\n",
        "\n",
        "\n",
        "#### Time complexity:\n",
        "* Worst Case:-O(n2)    \n",
        "* Best Case:-O(n2)     \n",
        "* Average Case:-O(n2) "
      ]
    },
    {
      "cell_type": "code",
      "execution_count": null,
      "metadata": {
        "id": "Ma4k15WrYAJ3"
      },
      "outputs": [],
      "source": [
        "def selection_sort(array,size):\n",
        "  for step in range(size):\n",
        "    min_id=step\n",
        "\n",
        "    for i in range(step+1,size):\n",
        "      if array[min_id]>array[i]:\n",
        "        min_id=i\n",
        "    \n",
        "    array[min_id],array[step]=array[step],array[min_id]"
      ]
    },
    {
      "cell_type": "code",
      "execution_count": null,
      "metadata": {
        "colab": {
          "base_uri": "https://localhost:8080/"
        },
        "id": "C_qnDYc-bxvj",
        "outputId": "3001bdd6-9370-4d85-af8a-9817c7e946d5"
      },
      "outputs": [
        {
          "name": "stdout",
          "output_type": "stream",
          "text": [
            "Enter array:1 3 6 9 5\n",
            "Sorted Array in Ascending Order:\n",
            "[1, 3, 5, 6, 9]\n"
          ]
        }
      ],
      "source": [
        "arr = list(map(int, input('Enter array:').split()));\n",
        "size = len(arr)\n",
        "selection_sort(arr, size)\n",
        "print('Sorted Array in Ascending Order:')\n",
        "print(arr)"
      ]
    },
    {
      "cell_type": "code",
      "execution_count": null,
      "metadata": {
        "colab": {
          "base_uri": "https://localhost:8080/"
        },
        "id": "dAxTRa3doqDQ",
        "outputId": "fa7a4c3a-4304-4b65-a180-f37d51db5a73"
      },
      "outputs": [
        {
          "name": "stdout",
          "output_type": "stream",
          "text": [
            "3\n",
            "1 3 6 9\n",
            "[1, 3, 6]\n"
          ]
        }
      ],
      "source": [
        "n = int(input().strip())\n",
        "a = list(map(int, input().rstrip().split()))[:n]\n",
        "print(a)"
      ]
    },
    {
      "cell_type": "code",
      "execution_count": null,
      "metadata": {
        "colab": {
          "base_uri": "https://localhost:8080/"
        },
        "id": "4tCsQEyUOMDi",
        "outputId": "98263950-54a5-47c9-8b00-af76f7376425"
      },
      "outputs": [
        {
          "name": "stdout",
          "output_type": "stream",
          "text": [
            "20\n"
          ]
        }
      ],
      "source": [
        "a=[15,60 ,74 ,1 ,94, 93 ,28, 48, 70, 98, 45, 94, 42, 45, 48, 1, 72, 9, 24, 93, 41, 70, 60, 28, 11, 20, 72, 35, 11, 98, 31, 74, 31, 41, 9, 42, 20, 35, 24]\n",
        "b=set()\n",
        "count=0\n",
        "final_output=[]\n",
        "for i in range(len(a)):\n",
        "  if a[i]==0:\n",
        "    pass\n",
        "  else:\n",
        "    b.add(a[i])\n",
        "print(len(b))"
      ]
    },
    {
      "cell_type": "code",
      "execution_count": null,
      "metadata": {
        "colab": {
          "base_uri": "https://localhost:8080/"
        },
        "id": "G3G5z1r3z6ZS",
        "outputId": "c626aa3e-5bbc-40a0-f95c-03c43e2206ca"
      },
      "outputs": [
        {
          "name": "stdout",
          "output_type": "stream",
          "text": [
            "20\n"
          ]
        }
      ],
      "source": [
        "final_output=len(set(a))\n",
        "print(final_output)"
      ]
    },
    {
      "cell_type": "code",
      "execution_count": null,
      "metadata": {
        "colab": {
          "base_uri": "https://localhost:8080/"
        },
        "id": "Y2U927yMR61a",
        "outputId": "a99bbf70-55da-4ccf-fe14-7037b0f499ec"
      },
      "outputs": [
        {
          "name": "stdout",
          "output_type": "stream",
          "text": [
            "Sorted Array in Ascending Order:\n",
            "[1, 1, 9, 9, 11, 11, 15, 20, 20, 24, 24, 28, 28, 31, 31, 35, 35, 41, 41, 42, 42, 45, 45, 48, 48, 60, 60, 70, 70, 72, 72, 74, 74, 93, 93, 94, 94, 98, 98]\n"
          ]
        }
      ],
      "source": [
        "#arr = list(map(int, input('Enter array:').split()));\n",
        "size = len(a)\n",
        "selection_sort(a, size)\n",
        "print('Sorted Array in Ascending Order:')\n",
        "print(a)"
      ]
    },
    {
      "cell_type": "code",
      "execution_count": null,
      "metadata": {
        "colab": {
          "base_uri": "https://localhost:8080/"
        },
        "id": "d2KTl_mbSQQq",
        "outputId": "67dfb79e-cd49-4013-daeb-aa2c4886d239"
      },
      "outputs": [
        {
          "data": {
            "text/plain": [
              "{1, 9, 11, 15, 20, 24, 28, 31, 35, 41, 42, 45, 48, 60, 70, 72, 74, 93, 94, 98}"
            ]
          },
          "execution_count": 23,
          "metadata": {},
          "output_type": "execute_result"
        }
      ],
      "source": [
        "set([15,60 ,74 ,1 ,94, 93 ,28, 48, 70, 98, 45, 94, 42, 45, 48, 1, 72, 9, 24, 93, 41, 70, 60, 28, 11, 20, 72, 35, 11, 98, 31, 74, 31, 41, 9, 42, 20, 35, 24])"
      ]
    },
    {
      "cell_type": "code",
      "execution_count": null,
      "metadata": {
        "id": "WNQr42dYR8fl"
      },
      "outputs": [],
      "source": [
        "def selection_sort(a,size):\n",
        "  for step in range(size):\n",
        "    min_id=step\n",
        "\n",
        "    for i in range(step+1,size):\n",
        "      if a[min_id]>a[i]:\n",
        "        min_id=i\n",
        "    \n",
        "    a[min_id],a[step]=a[step],a[min_id]"
      ]
    },
    {
      "cell_type": "code",
      "execution_count": null,
      "metadata": {
        "colab": {
          "base_uri": "https://localhost:8080/"
        },
        "id": "Gs8-xeBZVk03",
        "outputId": "a626e218-5c2a-4c8e-d1bd-0a1757896a85"
      },
      "outputs": [
        {
          "name": "stdout",
          "output_type": "stream",
          "text": [
            "15\n",
            "value of r 51\n",
            "value of r 121\n",
            "value of r 120\n",
            "value of r 38\n",
            "value of r 123\n",
            "value of r 103\n",
            "value of r 87\n",
            "value of r 17\n",
            "value of r 115\n",
            "value of r 94\n",
            "value of r 0\n",
            "value of r 42\n",
            "value of r 7\n",
            "value of r 55\n",
            "value of r 54\n",
            "value of r 126\n",
            "value of r 119\n",
            "value of r 111\n",
            "value of r 50\n",
            "value of r 27\n",
            "value of r 93\n",
            "value of r 97\n",
            "value of r 125\n",
            "value of r 118\n",
            "value of r 98\n",
            "value of r 42\n",
            "value of r 9\n",
            "value of r 2\n",
            "value of r 96\n",
            "value of r 127\n",
            "value of r 53\n",
            "value of r 42\n",
            "value of r 3\n",
            "value of r 10\n",
            "value of r 32\n",
            "value of r 52\n",
            "value of r 23\n",
            "value of r 15\n",
            "15\n"
          ]
        }
      ],
      "source": [
        "a=[15,60 ,74 ,1 ,94, 93 ,28, 48, 70, 98, 45, 94, 42, 45, 48, 1, 72, 9, 24, 93, 41, 70, 60, 28, 11, 20, 72, 35, 11, 98, 31, 74, 31, 41, 9, 42, 20, 35, 24]\n",
        "r=a[0]\n",
        "print(r)\n",
        "for i in range(1,n):\n",
        "    r=r^a[i] #XOR\n",
        "print(r)"
      ]
    },
    {
      "cell_type": "markdown",
      "metadata": {
        "id": "f0YO4wlBoaDv"
      },
      "source": [
        "### 3.Merge Sort\n",
        "\n",
        "Merge sort is one of the most prominent divide-and-conquer sorting algorithms in the modern era. It can be used to sort the values in any traversable data structure such as a list.\n",
        "\n",
        "Merge sort works by splitting the input list into two halves, repeating the process on those halves, and finally merging the two sorted halves together.\n",
        "\n",
        "### Time Complexity:\n",
        "Best:-O(n*log n)   \n",
        "Worst:-O(n*log n)  \n",
        "Average:-O(n*log n)  "
      ]
    },
    {
      "cell_type": "code",
      "execution_count": null,
      "metadata": {
        "colab": {
          "base_uri": "https://localhost:8080/"
        },
        "id": "RP8IAWfCoZva",
        "outputId": "6c8c4b8d-b724-4798-c4f2-6a1247560f48"
      },
      "outputs": [
        {
          "name": "stdout",
          "output_type": "stream",
          "text": [
            "Sorted array is: \n",
            "1 2 5 6 9 10 \n"
          ]
        }
      ],
      "source": [
        "# MergeSort in Python\n",
        "\n",
        "\n",
        "def mergeSort(array):\n",
        "    if len(array) > 1:\n",
        "\n",
        "        #  r is the point where the array is divided into two subarrays\n",
        "        r = len(array)//2\n",
        "        L = array[:r]\n",
        "        M = array[r:]\n",
        "\n",
        "        # Sort the two halves\n",
        "        mergeSort(L)\n",
        "        mergeSort(M)\n",
        "\n",
        "        i = j = k = 0\n",
        "\n",
        "        while i < len(L) and j < len(M):\n",
        "            if L[i] < M[j]:\n",
        "                array[k] = L[i]\n",
        "                i += 1\n",
        "            else:\n",
        "                array[k] = M[j]\n",
        "                j += 1\n",
        "            k += 1\n",
        "\n",
        "        while i < len(L):\n",
        "            array[k] = L[i]\n",
        "            i += 1\n",
        "            k += 1\n",
        "\n",
        "        while j < len(M):\n",
        "            array[k] = M[j]\n",
        "            j += 1\n",
        "            k += 1\n",
        "\n",
        "\n",
        "# Print the array\n",
        "def printList(array):\n",
        "    for i in range(len(array)):\n",
        "        print(array[i], end=\" \")\n",
        "    print()\n",
        "\n",
        "\n",
        "# Driver program\n",
        "if __name__ == '__main__':\n",
        "    array = [6, 5, 2, 10, 9, 1]\n",
        "\n",
        "    mergeSort(array)\n",
        "\n",
        "    print(\"Sorted array is: \")\n",
        "    printList(array)"
      ]
    },
    {
      "cell_type": "markdown",
      "metadata": {
        "id": "iEAZENuK6yyV"
      },
      "source": [
        "### 3.Quick Sort\n",
        "\n",
        "Quick sort is a fast sorting algorithm used to sort a list of elements.\n",
        "The quick sort algorithm attempts to separate the list of elements into two parts and then sort each part recursively. That means it use divide and conquer strategy.\n",
        "\n",
        "In quick sort, the partition of the list is performed based on the element called pivot.It is also called partition-exchange sort. This algorithm divides the list into three main parts:\n",
        "\n",
        "* Elements less than the Pivot element\n",
        "* Pivot element(Central element)\n",
        "* Elements greater than the pivot element\n",
        "\n",
        "Pivot element can be any element from the array, it can be the first element, the last element or any random element.\n",
        "\n",
        "\n",
        "#### Time Complexity\n",
        "* Worst Case Time Complexity [ Big-O ]: O(n2)   \n",
        "* Best Case Time Complexity [Big-omega]: O(n*log n)   \n",
        "* Average Time Complexity [Big-theta]: O(n*log n)  \n",
        "\n",
        "#### Space Complexity\n",
        "O(n*log n)"
      ]
    },
    {
      "cell_type": "code",
      "execution_count": null,
      "metadata": {
        "id": "yfXhnTtToZr0"
      },
      "outputs": [],
      "source": [
        "def partition(array, start, end):\n",
        "    pivot = array[start]\n",
        "    low = start + 1\n",
        "    high = end\n",
        "\n",
        "    while True:\n",
        "        # If the current value we're looking at is larger than the pivot\n",
        "        # it's in the right place (right side of pivot) and we can move left,\n",
        "        # to the next element.\n",
        "        # We also need to make sure we haven't surpassed the low pointer, since that\n",
        "        # indicates we have already moved all the elements to their correct side of the pivot\n",
        "        while low <= high and array[high] >= pivot:\n",
        "            high = high - 1\n",
        "\n",
        "        # Opposite process of the one above\n",
        "        while low <= high and array[low] <= pivot:\n",
        "            low = low + 1\n",
        "\n",
        "        # We either found a value for both high and low that is out of order\n",
        "        # or low is higher than high, in which case we exit the loop\n",
        "        if low <= high:\n",
        "            array[low], array[high] = array[high], array[low]\n",
        "            # The loop continues\n",
        "        else:\n",
        "            # We exit out of the loop\n",
        "            break\n",
        "\n",
        "    array[start], array[high] = array[high], array[start]\n",
        "\n",
        "    return high\n",
        "\n",
        "\n",
        "def quick_sort(array, start, end):\n",
        "  if start >= end:\n",
        "    return\n",
        "\n",
        "  p = partition(array, start, end)\n",
        "  quick_sort(array, start, p - 1)\n",
        "  quick_sort(array, p + 1, end)\n",
        "\n",
        "array = [29,99,27,41,66,28]\n",
        "\n",
        "quick_sort(array, 0, len(array) - 1)\n",
        "print(array)"
      ]
    },
    {
      "cell_type": "markdown",
      "metadata": {
        "id": "pNtzYhpZUGAL"
      },
      "source": [
        "### 4.HeapSort\n",
        "\n",
        "Heap sort is a comparison-based sorting technique based on Binary Heap data structure. It is similar to selection sort where we first find the minimum element and place the minimum element at the beginning. We repeat the same process for the remaining elements.\n",
        "\n",
        "The process of reshaping a binary tree into a Heap data structure is known as ‘heapify’\n",
        "\n",
        "The time complexity of heap sort is non-quadratic and comes out the same in the best, worst and average cases: **O(nlogn)**"
      ]
    },
    {
      "cell_type": "code",
      "execution_count": null,
      "metadata": {
        "colab": {
          "base_uri": "https://localhost:8080/"
        },
        "id": "XvU5CRp6oZpI",
        "outputId": "c74ba3f4-8499-4253-b414-1ff079497565"
      },
      "outputs": [
        {
          "data": {
            "text/plain": [
              "1"
            ]
          },
          "execution_count": 5,
          "metadata": {},
          "output_type": "execute_result"
        }
      ],
      "source": [
        "# Heap Sort in python\n",
        "\n",
        "\n",
        "def heapify(arr, n, i):\n",
        "    # Find largest among root and children\n",
        "    largest = i\n",
        "    l = 2 * i +1;\n",
        "    r = 2 * i + 2;\n",
        "\n",
        "    if l < n and arr[i] < arr[l]:\n",
        "        largest = l\n",
        "\n",
        "    if r < n and arr[largest] < arr[r]:\n",
        "        largest = r\n",
        "\n",
        "    # If root is not largest, swap with largest and continue heapifying\n",
        "    if largest != i:\n",
        "        arr[i], arr[largest] = arr[largest], arr[i]\n",
        "        heapify(arr, n, largest)\n",
        "\n",
        "\n",
        "def heapSort(arr):\n",
        "    n = len(arr)\n",
        "\n",
        "    # Build max heap\n",
        "    for i in range(n // 2, -1, -1):\n",
        "        heapify(arr, n, i)\n",
        "\n",
        "    for i in range(n - 1, 0, -1):\n",
        "        # Swap\n",
        "        arr[i], arr[0] = arr[0], arr[i]\n",
        "\n",
        "        # Heapify root element\n",
        "        heapify(arr, i, 0)\n",
        "\n",
        "\n",
        "arr = [15, 5, 20, 1, 17, 10,30]\n",
        "heapSort(arr)\n",
        "n = len(arr)\n",
        "print(\"Sorted array is\")\n",
        "for i in range(n):\n",
        "    print(\"%d \" % arr[i], end='')\n"
      ]
    }
  ],
  "metadata": {
    "colab": {
      "collapsed_sections": [],
      "name": "sorting and searching.ipynb",
      "provenance": []
    },
    "kernelspec": {
      "display_name": "Python 3",
      "name": "python3"
    },
    "language_info": {
      "name": "python"
    }
  },
  "nbformat": 4,
  "nbformat_minor": 0
}
