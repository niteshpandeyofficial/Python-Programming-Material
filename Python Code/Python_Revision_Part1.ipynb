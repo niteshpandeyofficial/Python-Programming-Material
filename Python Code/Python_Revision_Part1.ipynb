{
  "cells": [
    {
      "cell_type": "code",
      "execution_count": null,
      "metadata": {
        "id": "yn2PyXlhvgCb"
      },
      "outputs": [],
      "source": [
        "import numpy as np\n",
        "import pandas as pd\n",
        "import matplotlib.pyplot as plt\n",
        "import seaborn as sns\n",
        "import statsmodels as sm"
      ]
    },
    {
      "cell_type": "code",
      "execution_count": null,
      "metadata": {
        "id": "xDMgWIvUe6yH"
      },
      "outputs": [],
      "source": [
        "pd.options.display.max_columns=20\n",
        "pd.options.display.max_rows=20\n",
        "pd.options.display.max_colwidth=80\n",
        "np.set_printoptions(precision=4,suppress=True)"
      ]
    },
    {
      "cell_type": "code",
      "execution_count": null,
      "metadata": {
        "colab": {
          "base_uri": "https://localhost:8080/"
        },
        "id": "RsO8cjIGfgsA",
        "outputId": "5a5e6aa4-7498-43f3-c998-e0857354fc71"
      },
      "outputs": [
        {
          "name": "stdout",
          "output_type": "stream",
          "text": [
            "1.793580034043045\n",
            "-0.4921089486267524\n",
            "-0.2211857520855939\n",
            "-0.22037323818488616\n",
            "0.8579260895540891\n",
            "0.22624571555399853\n",
            "-0.11687295419510949\n"
          ]
        }
      ],
      "source": [
        "for i in range(7):\n",
        "  print(np.random.standard_normal())"
      ]
    },
    {
      "cell_type": "code",
      "execution_count": null,
      "metadata": {
        "colab": {
          "base_uri": "https://localhost:8080/"
        },
        "id": "CaxqXEGngeyw",
        "outputId": "61f5487b-15d1-403f-abf5-5626bf3799d5"
      },
      "outputs": [
        {
          "name": "stdout",
          "output_type": "stream",
          "text": [
            "[-2.24315851087762, -0.45768777866778215, -2.9610212639830844, 1.1965059242626186, -0.12908960523561663, -0.6303120286122379, -0.4808989551079026]\n"
          ]
        }
      ],
      "source": [
        "#List Comprehension\n",
        "data=[np.random.standard_normal() for i in range(7)]\n",
        "print(data)"
      ]
    },
    {
      "cell_type": "code",
      "execution_count": null,
      "metadata": {
        "id": "rtNLAqBOg5iT"
      },
      "outputs": [],
      "source": [
        "an_apple=12\n",
        "an_mango=30\n"
      ]
    },
    {
      "cell_type": "code",
      "execution_count": null,
      "metadata": {
        "id": "bm2mAIFJht68"
      },
      "outputs": [],
      "source": [
        "b=[1,2,3]"
      ]
    },
    {
      "cell_type": "markdown",
      "metadata": {
        "id": "lruvF5-ViufO"
      },
      "source": [
        "####  This is referred to as object introspection.\n",
        "Using a question mark (?) before or after a variable will display some general information about the object:\n"
      ]
    },
    {
      "cell_type": "code",
      "execution_count": null,
      "metadata": {
        "id": "ORzjtDUNhzvI"
      },
      "outputs": [],
      "source": [
        "b?"
      ]
    },
    {
      "cell_type": "code",
      "execution_count": null,
      "metadata": {
        "id": "0mha9Gq8ioZD"
      },
      "outputs": [],
      "source": [
        "def sum(a,b):\n",
        "  \"return sum of 2 number\"\n",
        "  return a+b\n"
      ]
    },
    {
      "cell_type": "markdown",
      "metadata": {
        "id": "yyJYxRBcjTF-"
      },
      "source": [
        "using ? shows us the docstring:"
      ]
    },
    {
      "cell_type": "code",
      "execution_count": null,
      "metadata": {
        "colab": {
          "base_uri": "https://localhost:8080/"
        },
        "id": "iuJIPYTsiq65",
        "outputId": "97e646af-c117-499b-fbb0-8046e13ff853"
      },
      "outputs": [
        {
          "name": "stdout",
          "output_type": "stream",
          "text": [
            "return sum of 2 number\n"
          ]
        }
      ],
      "source": [
        "sum?\n",
        "print(sum.__doc__)"
      ]
    },
    {
      "cell_type": "markdown",
      "metadata": {
        "id": "YRf19XXjjrnm"
      },
      "source": [
        "#### A number of characters combined with the wildcard (*) will show all names matching the wildcard expression."
      ]
    },
    {
      "cell_type": "code",
      "execution_count": null,
      "metadata": {
        "id": "t1C6wAF1jJWm"
      },
      "outputs": [],
      "source": [
        "np.*load*?\n",
        "\n",
        "o/p-\n",
        "np.__loader__\n",
        "np.load\n",
        "np.loadtxt"
      ]
    },
    {
      "cell_type": "markdown",
      "metadata": {
        "id": "9bseQeYBklRE"
      },
      "source": [
        "#### Assignment is also referred to as binding, as we are binding a name to an object. Variable names that have been assigned may occasionally be referred to as bound variables"
      ]
    },
    {
      "cell_type": "code",
      "execution_count": null,
      "metadata": {
        "id": "SSazF3OTl0J3"
      },
      "outputs": [],
      "source": [
        "a='nitesh'"
      ]
    },
    {
      "cell_type": "code",
      "execution_count": null,
      "metadata": {
        "id": "Kv3N_585l8TS"
      },
      "outputs": [],
      "source": []
    },
    {
      "cell_type": "markdown",
      "metadata": {
        "id": "xCzl0zM0l880"
      },
      "source": [
        "#### Attributes and methods can also be accessed by name via the getattr function:"
      ]
    },
    {
      "cell_type": "code",
      "execution_count": null,
      "metadata": {
        "colab": {
          "base_uri": "https://localhost:8080/"
        },
        "id": "zonHGBoRjNG7",
        "outputId": "0eaf9c0f-503f-4a3a-98be-878c9b828fe1"
      },
      "outputs": [
        {
          "data": {
            "text/plain": [
              "<function str.split(sep=None, maxsplit=-1)>"
            ]
          },
          "execution_count": 19,
          "metadata": {},
          "output_type": "execute_result"
        }
      ],
      "source": [
        "getattr(a,'split')"
      ]
    },
    {
      "cell_type": "code",
      "execution_count": null,
      "metadata": {
        "id": "WFNzFGupl45I"
      },
      "outputs": [],
      "source": [
        "#To check if two variables refer to the same object, use the is keyword. Use is not to\n",
        "#check that two objects are not the same:\n",
        "\n",
        "a=[1,2,3]\n",
        "b=a\n",
        "c=list(a)\n"
      ]
    },
    {
      "cell_type": "code",
      "execution_count": null,
      "metadata": {
        "colab": {
          "base_uri": "https://localhost:8080/"
        },
        "id": "1-mJ2OQvnfSN",
        "outputId": "fab48a14-fdaa-4628-de60-c35da5f37103"
      },
      "outputs": [
        {
          "data": {
            "text/plain": [
              "True"
            ]
          },
          "execution_count": 21,
          "metadata": {},
          "output_type": "execute_result"
        }
      ],
      "source": [
        "a is b"
      ]
    },
    {
      "cell_type": "code",
      "execution_count": null,
      "metadata": {
        "colab": {
          "base_uri": "https://localhost:8080/"
        },
        "id": "UGKhZuS-ngDB",
        "outputId": "e58f1371-1885-47de-cc14-605f12be3056"
      },
      "outputs": [
        {
          "data": {
            "text/plain": [
              "False"
            ]
          },
          "execution_count": 22,
          "metadata": {},
          "output_type": "execute_result"
        }
      ],
      "source": [
        "a is c"
      ]
    },
    {
      "cell_type": "code",
      "execution_count": null,
      "metadata": {
        "colab": {
          "base_uri": "https://localhost:8080/"
        },
        "id": "jZCLchFJnhVy",
        "outputId": "6d6d9024-5aca-4c54-cc84-534eddfc1eb7"
      },
      "outputs": [
        {
          "data": {
            "text/plain": [
              "True"
            ]
          },
          "execution_count": 23,
          "metadata": {},
          "output_type": "execute_result"
        }
      ],
      "source": [
        "# Comparing with is is not the same as the == operator\n",
        "a==c"
      ]
    },
    {
      "cell_type": "code",
      "execution_count": null,
      "metadata": {
        "colab": {
          "base_uri": "https://localhost:8080/"
        },
        "id": "z0Tx2A67noIu",
        "outputId": "ae6b7d6a-3f24-4317-f632-adf33eac5a1a"
      },
      "outputs": [
        {
          "data": {
            "text/plain": [
              "True"
            ]
          },
          "execution_count": 24,
          "metadata": {},
          "output_type": "execute_result"
        }
      ],
      "source": [
        "#A common use of is and is not is to check if a variable is None, since there is only one instance of None:\n",
        "a=None\n",
        "a is None\n"
      ]
    },
    {
      "cell_type": "code",
      "execution_count": null,
      "metadata": {
        "colab": {
          "base_uri": "https://localhost:8080/"
        },
        "id": "wCvYY3d7n2u9",
        "outputId": "27fa6acb-1b51-4271-a73b-1ba2f4564a5b"
      },
      "outputs": [
        {
          "data": {
            "text/plain": [
              "13094811226427701098032226848170118913275798988218088943760507394821471757763133456661996612699586253400201140280721065740690646142413399669123817828339866764508769847452640533447265625"
            ]
          },
          "execution_count": 25,
          "metadata": {},
          "output_type": "execute_result"
        }
      ],
      "source": [
        "#The primary Python types for numbers are int and float. An int can store arbitrarily large numbers:\n",
        "val=12345\n",
        "val**45"
      ]
    },
    {
      "cell_type": "code",
      "execution_count": null,
      "metadata": {
        "id": "fWR6kpbVoWqr"
      },
      "outputs": [],
      "source": [
        "#Floating-point numbers are represented with the Python float type.\n",
        "s=5.568\n",
        "n=5.8e-2 #They can also be expressed with scientific notation"
      ]
    },
    {
      "cell_type": "code",
      "execution_count": null,
      "metadata": {
        "colab": {
          "base_uri": "https://localhost:8080/"
        },
        "id": "xRaB46x5oh3T",
        "outputId": "9cd11f3c-8f6a-422a-d8d7-06db44f62764"
      },
      "outputs": [
        {
          "name": "stdout",
          "output_type": "stream",
          "text": [
            "0.058\n"
          ]
        }
      ],
      "source": [
        "print(n)"
      ]
    },
    {
      "cell_type": "code",
      "execution_count": null,
      "metadata": {
        "colab": {
          "base_uri": "https://localhost:8080/"
        },
        "id": "tm4lOsHKokD9",
        "outputId": "90247768-e351-49ba-fb8b-863c9c3f6a09"
      },
      "outputs": [
        {
          "name": "stdout",
          "output_type": "stream",
          "text": [
            "1.5\n"
          ]
        }
      ],
      "source": [
        "#Integer division not resulting in a whole number will always yield a floating-point number:\n",
        "\n",
        "a=3\n",
        "b=2\n",
        "print(a/b)"
      ]
    },
    {
      "cell_type": "code",
      "execution_count": null,
      "metadata": {
        "colab": {
          "base_uri": "https://localhost:8080/"
        },
        "id": "8HmkmttgowdU",
        "outputId": "c400e476-5398-454a-fa0f-4cbd0ffb592a"
      },
      "outputs": [
        {
          "name": "stdout",
          "output_type": "stream",
          "text": [
            "2.0\n"
          ]
        }
      ],
      "source": [
        "a=3\n",
        "b=6.0\n",
        "print(b/a)"
      ]
    },
    {
      "cell_type": "code",
      "execution_count": null,
      "metadata": {
        "colab": {
          "base_uri": "https://localhost:8080/"
        },
        "id": "v7YAhK6Fo01r",
        "outputId": "4f46ac1c-665c-487c-8090-adceeedde7cc"
      },
      "outputs": [
        {
          "data": {
            "text/plain": [
              "1"
            ]
          },
          "execution_count": 30,
          "metadata": {},
          "output_type": "execute_result"
        }
      ],
      "source": [
        "#To get C-style integer division (which drops the fractional part if the result is not a whole number), use the floor division operator //:\n",
        "\n",
        "3//2"
      ]
    },
    {
      "cell_type": "code",
      "execution_count": null,
      "metadata": {
        "colab": {
          "base_uri": "https://localhost:8080/"
        },
        "id": "VNShl6cHpU70",
        "outputId": "98e558ef-f01c-40c1-e9a9-d5aa757a902b"
      },
      "outputs": [
        {
          "name": "stdout",
          "output_type": "stream",
          "text": [
            "hello\n",
            "hi\n",
            "good\n"
          ]
        }
      ],
      "source": [
        "#Many people use Python for its built-in string handling capabilities. You can write\n",
        "#string literals using either single quotes ' or double quotes \"\n",
        "s=\"hello\"\n",
        "n='hi'\n",
        "p='''good'''\n",
        "\n",
        "print(s)\n",
        "print(n)\n",
        "print(p)"
      ]
    },
    {
      "cell_type": "code",
      "execution_count": null,
      "metadata": {
        "colab": {
          "base_uri": "https://localhost:8080/",
          "height": 183
        },
        "id": "26Ti6eMhptSZ",
        "outputId": "e9eec9b0-22e3-4957-85a6-0d84174c0584"
      },
      "outputs": [
        {
          "ename": "TypeError",
          "evalue": "ignored",
          "output_type": "error",
          "traceback": [
            "\u001b[0;31m---------------------------------------------------------------------------\u001b[0m",
            "\u001b[0;31mTypeError\u001b[0m                                 Traceback (most recent call last)",
            "\u001b[0;32m<ipython-input-33-c0f1151f927e>\u001b[0m in \u001b[0;36m<cell line: 2>\u001b[0;34m()\u001b[0m\n\u001b[1;32m      1\u001b[0m \u001b[0;31m#Python strings are immutable; you cannot modify a string\u001b[0m\u001b[0;34m\u001b[0m\u001b[0;34m\u001b[0m\u001b[0m\n\u001b[0;32m----> 2\u001b[0;31m \u001b[0ms\u001b[0m\u001b[0;34m[\u001b[0m\u001b[0;36m0\u001b[0m\u001b[0;34m]\u001b[0m\u001b[0;34m=\u001b[0m\u001b[0;34m'k'\u001b[0m\u001b[0;34m\u001b[0m\u001b[0;34m\u001b[0m\u001b[0m\n\u001b[0m",
            "\u001b[0;31mTypeError\u001b[0m: 'str' object does not support item assignment"
          ]
        }
      ],
      "source": [
        "#Python strings are immutable; you cannot modify a string\n",
        "s[0]='k'"
      ]
    },
    {
      "cell_type": "code",
      "execution_count": null,
      "metadata": {
        "colab": {
          "base_uri": "https://localhost:8080/"
        },
        "id": "qNDD3mamqAFs",
        "outputId": "3a538007-3251-40f3-d9b2-5acd95da1784"
      },
      "outputs": [
        {
          "name": "stdout",
          "output_type": "stream",
          "text": [
            "['p', 'y', 't', 'h', 'o', 'n']\n"
          ]
        }
      ],
      "source": [
        "s='python'\n",
        "print(list(s))"
      ]
    },
    {
      "cell_type": "code",
      "execution_count": null,
      "metadata": {
        "colab": {
          "base_uri": "https://localhost:8080/",
          "height": 35
        },
        "id": "CAWmM1osqQ2C",
        "outputId": "3aa0fcfb-3e49-4ed2-d900-3ee34fd419ca"
      },
      "outputs": [
        {
          "data": {
            "application/vnd.google.colaboratory.intrinsic+json": {
              "type": "string"
            },
            "text/plain": [
              "'12.68 and nitesh and 333'"
            ]
          },
          "execution_count": 35,
          "metadata": {},
          "output_type": "execute_result"
        }
      ],
      "source": [
        "#string format\n",
        "template=\"{0:.2f} and {1:s} and {2:d}\"\n",
        "template.format(12.6789,'nitesh',333)"
      ]
    },
    {
      "cell_type": "code",
      "execution_count": null,
      "metadata": {
        "colab": {
          "base_uri": "https://localhost:8080/"
        },
        "id": "kgdshrGGrr6Z",
        "outputId": "c5f144c5-f9ba-4ba4-9ba8-57d139cd4e89"
      },
      "outputs": [
        {
          "name": "stdout",
          "output_type": "stream",
          "text": [
            "12 and 4.58 anddollar\n"
          ]
        }
      ],
      "source": [
        "#Python 3.6 introduced a new feature called f-strings\n",
        "amount=12\n",
        "rate=4.57777\n",
        "currency ='dollar'\n",
        "print(f\"{amount} and {rate:.2f} and{currency}\")"
      ]
    },
    {
      "cell_type": "code",
      "execution_count": null,
      "metadata": {
        "id": "v1tFqUCPsS0U"
      },
      "outputs": [],
      "source": [
        "#None is also a common default value for function arguments:\n",
        "def add_and_multiply(a,b,c=None):\n",
        "  res=a+b\n",
        "  if c is not None:\n",
        "    res=res*c\n",
        "  return res\n"
      ]
    },
    {
      "cell_type": "code",
      "execution_count": null,
      "metadata": {
        "colab": {
          "base_uri": "https://localhost:8080/"
        },
        "id": "grhhmfxjqEDW",
        "outputId": "ac01a131-c31b-418c-9752-789f365de723"
      },
      "outputs": [
        {
          "name": "stdout",
          "output_type": "stream",
          "text": [
            "12\n",
            "9\n"
          ]
        }
      ],
      "source": [
        "print(add_and_multiply(1,2,4))  #Multiplication \n",
        "print(add_and_multiply(4,5))    #Addition"
      ]
    },
    {
      "cell_type": "code",
      "execution_count": null,
      "metadata": {
        "colab": {
          "base_uri": "https://localhost:8080/"
        },
        "id": "2PZ8m-F1qMUg",
        "outputId": "6bf7f7b0-4870-4dd9-81d6-abba0f2ac4a4"
      },
      "outputs": [
        {
          "name": "stdout",
          "output_type": "stream",
          "text": [
            "29\n",
            "10\n",
            "2011\n",
            "21\n",
            "20\n",
            "30\n"
          ]
        }
      ],
      "source": [
        "import datetime \n",
        "dt=datetime.datetime(2011, 10, 29, 20, 30, 21)\n",
        "print(dt.day) #day fetch\n",
        "#print(dt.date)\n",
        "print(dt.month)  #month fetch\n",
        "print(dt.year)   #year fetch\n",
        "print(dt.second) #second fetch\n",
        "print(dt.hour)   #hours fetch\n",
        "print(dt.minute) #minute fetch"
      ]
    },
    {
      "cell_type": "code",
      "execution_count": null,
      "metadata": {
        "colab": {
          "base_uri": "https://localhost:8080/"
        },
        "id": "s188RjU1q9re",
        "outputId": "4b67554f-d9c6-4ede-a1b1-fbfe29400862"
      },
      "outputs": [
        {
          "name": "stdout",
          "output_type": "stream",
          "text": [
            "2011-10-29\n",
            "20:30:21\n"
          ]
        }
      ],
      "source": [
        "print(dt.date())\n",
        "print(dt.time())"
      ]
    },
    {
      "cell_type": "code",
      "execution_count": null,
      "metadata": {
        "colab": {
          "base_uri": "https://localhost:8080/",
          "height": 35
        },
        "id": "ICW4zNuVrtmf",
        "outputId": "e10d7449-b402-4c91-d878-3a3acb44226f"
      },
      "outputs": [
        {
          "data": {
            "application/vnd.google.colaboratory.intrinsic+json": {
              "type": "string"
            },
            "text/plain": [
              "'2011-10-29 20:30'"
            ]
          },
          "execution_count": 17,
          "metadata": {},
          "output_type": "execute_result"
        }
      ],
      "source": [
        "#The strftime method formats a datetime as a string:\n",
        "dt.strftime(\"%Y-%m-%d %H:%M\")"
      ]
    },
    {
      "cell_type": "markdown",
      "metadata": {},
      "source": [
        "strptime is short for \"parse time\" where strftime is for \"formatting time\"."
      ]
    },
    {
      "cell_type": "code",
      "execution_count": null,
      "metadata": {
        "colab": {
          "base_uri": "https://localhost:8080/"
        },
        "id": "vI2AUK4OsQrk",
        "outputId": "ca9e73e3-d1dd-42b8-a70e-fef2d2c29d58"
      },
      "outputs": [
        {
          "data": {
            "text/plain": [
              "datetime.datetime(2009, 10, 31, 0, 0)"
            ]
          },
          "execution_count": 21,
          "metadata": {},
          "output_type": "execute_result"
        }
      ],
      "source": [
        "datetime.datetime.strptime(\"20091031\", \"%Y%m%d\")"
      ]
    },
    {
      "cell_type": "markdown",
      "metadata": {
        "id": "NdjRTQ8ktC5N"
      },
      "source": [
        "#### **Control Flow**\n",
        "* if, elif, and else\n",
        "* for loops\n",
        "* while loops\n",
        "* pass\n",
        "* range"
      ]
    },
    {
      "cell_type": "code",
      "execution_count": null,
      "metadata": {
        "colab": {
          "base_uri": "https://localhost:8080/"
        },
        "id": "WgC6DftQsiR2",
        "outputId": "5f0b063d-5ae5-4188-c83c-9b5f0e640c04"
      },
      "outputs": [
        {
          "name": "stdout",
          "output_type": "stream",
          "text": [
            "Enter the value:-5\n",
            "Less then Zero\n"
          ]
        }
      ],
      "source": [
        "#If else statement \n",
        "#The if statement is one of the most well-known control flow statement types. It\n",
        "#checks a condition that, if True, evaluates the code in the block that follows:\n",
        "\n",
        "inp=int(input('Enter the value:'))\n",
        "if inp>0:\n",
        "  print('Greater then zero')\n",
        "elif inp<0:\n",
        "  print('Less then Zero')\n",
        "else:\n",
        "  print('equals to zero')"
      ]
    },
    {
      "cell_type": "code",
      "execution_count": null,
      "metadata": {
        "colab": {
          "base_uri": "https://localhost:8080/"
        },
        "id": "BDXEwW6wuDP-",
        "outputId": "c3a284dc-99d6-4227-ef45-8b2a2c7394f8"
      },
      "outputs": [
        {
          "name": "stdout",
          "output_type": "stream",
          "text": [
            "19\n"
          ]
        }
      ],
      "source": [
        "#For loop  are for iterating over a collection (like a list or tuple) or an iterator\n",
        "l=[1,3,4,5,6]\n",
        "sum=0\n",
        "for i in l:\n",
        "  sum=sum+i\n",
        "print(sum)"
      ]
    },
    {
      "cell_type": "code",
      "execution_count": null,
      "metadata": {
        "colab": {
          "base_uri": "https://localhost:8080/"
        },
        "id": "9GUtyjdSugLT",
        "outputId": "60b402d4-841c-4bf6-c15a-b58c8cadecbb"
      },
      "outputs": [
        {
          "name": "stdout",
          "output_type": "stream",
          "text": [
            "5\n",
            "4\n",
            "3\n",
            "2\n",
            "1\n"
          ]
        }
      ],
      "source": [
        "#A while loop specifies a condition and a block of code that is to be executed until the\n",
        "#condition evaluates to False or the loop is explicitly ended with break\n",
        "\n",
        "val=5\n",
        "while val>0: \n",
        "  print(val)\n",
        "  val=val-1   \n"
      ]
    },
    {
      "cell_type": "code",
      "execution_count": null,
      "metadata": {
        "colab": {
          "base_uri": "https://localhost:8080/"
        },
        "id": "t13JdhsOvFNQ",
        "outputId": "ebb65142-c599-435a-f50b-58c33e1396ac"
      },
      "outputs": [
        {
          "name": "stdout",
          "output_type": "stream",
          "text": [
            "Enter the number:0\n"
          ]
        }
      ],
      "source": [
        "#pass is the “no-op” (or “do nothing”) statement in Python.\n",
        "x=int(input('Enter the number:'))\n",
        "if x>0:\n",
        "  print('Positive')\n",
        "elif x<0:\n",
        "  print('Negative')\n",
        "else:\n",
        "  pass\n"
      ]
    },
    {
      "cell_type": "code",
      "execution_count": null,
      "metadata": {
        "colab": {
          "base_uri": "https://localhost:8080/"
        },
        "id": "HIHrDr00vlOs",
        "outputId": "ce4490dd-f753-4ef7-c910-f45bdc14eb29"
      },
      "outputs": [
        {
          "data": {
            "text/plain": [
              "[0, 1, 2, 3, 4, 5, 6, 7, 8, 9]"
            ]
          },
          "execution_count": 30,
          "metadata": {},
          "output_type": "execute_result"
        }
      ],
      "source": [
        "#range\n",
        "#The range function generates a sequence of evenly spaced integers:\n",
        "list(range(10))"
      ]
    },
    {
      "cell_type": "markdown",
      "metadata": {
        "id": "KIfSchT8wbeV"
      },
      "source": [
        "#### **Data Structure**\n",
        "Python’s data structures are simple but powerful.\n",
        "\n",
        "* Tuple\n",
        "* List\n",
        "* Dictionary\n",
        "* Set\n"
      ]
    },
    {
      "cell_type": "code",
      "execution_count": null,
      "metadata": {
        "colab": {
          "base_uri": "https://localhost:8080/"
        },
        "id": "1ec5qLWavwhN",
        "outputId": "967fe4c8-e081-430e-8404-8715525bf3a7"
      },
      "outputs": [
        {
          "name": "stdout",
          "output_type": "stream",
          "text": [
            "(1, 2, 3)\n"
          ]
        }
      ],
      "source": [
        "#A tuple is a fixed-length, immutable sequence of Python objects which, once assigned,cannot be changed.\n",
        "tup=(1,2,3)\n",
        "print(tup)"
      ]
    },
    {
      "cell_type": "code",
      "execution_count": null,
      "metadata": {
        "id": "ofnuw5ANxLkk"
      },
      "outputs": [],
      "source": [
        "tup=1,2,3"
      ]
    },
    {
      "cell_type": "code",
      "execution_count": null,
      "metadata": {
        "colab": {
          "base_uri": "https://localhost:8080/"
        },
        "id": "dpWDJR2CxQPh",
        "outputId": "3ac10311-744d-4f08-ec79-f2c8c32b30b0"
      },
      "outputs": [
        {
          "name": "stdout",
          "output_type": "stream",
          "text": [
            "('n', 'i', 't', 'e', 's', 'h')\n"
          ]
        }
      ],
      "source": [
        "tup=tuple('nitesh')\n",
        "print(tup)"
      ]
    },
    {
      "cell_type": "code",
      "execution_count": null,
      "metadata": {
        "colab": {
          "base_uri": "https://localhost:8080/",
          "height": 35
        },
        "id": "Hwj82xOlxXBg",
        "outputId": "00de225b-9464-4c64-f5c5-616b5b44b241"
      },
      "outputs": [
        {
          "data": {
            "application/vnd.google.colaboratory.intrinsic+json": {
              "type": "string"
            },
            "text/plain": [
              "'n'"
            ]
          },
          "execution_count": 36,
          "metadata": {},
          "output_type": "execute_result"
        }
      ],
      "source": [
        "#slicing\n",
        "tup[0]"
      ]
    },
    {
      "cell_type": "code",
      "execution_count": null,
      "metadata": {
        "colab": {
          "base_uri": "https://localhost:8080/"
        },
        "id": "pdy8xtOQxc9x",
        "outputId": "dfd36a9e-d908-4008-9a90-f8799d16c0ca"
      },
      "outputs": [
        {
          "name": "stdout",
          "output_type": "stream",
          "text": [
            "((1, 2, 3), (4, 5))\n"
          ]
        }
      ],
      "source": [
        "nested_tuple=(1,2,3),(4,5)\n",
        "print(nested_tuple)"
      ]
    },
    {
      "cell_type": "code",
      "execution_count": null,
      "metadata": {
        "colab": {
          "base_uri": "https://localhost:8080/"
        },
        "id": "FIfOdQ68xoQK",
        "outputId": "a8ccd059-f48c-453f-b5a1-34d1a1903bf7"
      },
      "outputs": [
        {
          "name": "stdout",
          "output_type": "stream",
          "text": [
            "(1, 2, 3)\n",
            "(4, 5)\n"
          ]
        }
      ],
      "source": [
        "#print(nested_tuple[0])\n",
        "#print(nested_tuple[1])\n",
        "\n",
        "for i in nested_tuple:\n",
        "  print(i)"
      ]
    },
    {
      "cell_type": "code",
      "execution_count": null,
      "metadata": {
        "id": "YF24FF3fxs-l"
      },
      "outputs": [],
      "source": [
        "tup=([1,2],4,6)"
      ]
    },
    {
      "cell_type": "code",
      "execution_count": null,
      "metadata": {
        "colab": {
          "base_uri": "https://localhost:8080/",
          "height": 166
        },
        "id": "B62Wm1vpx_n3",
        "outputId": "36c7c239-f2b3-4279-e2ba-69a5f1528e8f"
      },
      "outputs": [
        {
          "ename": "TypeError",
          "evalue": "ignored",
          "output_type": "error",
          "traceback": [
            "\u001b[0;31m---------------------------------------------------------------------------\u001b[0m",
            "\u001b[0;31mTypeError\u001b[0m                                 Traceback (most recent call last)",
            "\u001b[0;32m<ipython-input-46-4e484e11941b>\u001b[0m in \u001b[0;36m<cell line: 1>\u001b[0;34m()\u001b[0m\n\u001b[0;32m----> 1\u001b[0;31m \u001b[0mtup\u001b[0m\u001b[0;34m[\u001b[0m\u001b[0;36m0\u001b[0m\u001b[0;34m]\u001b[0m\u001b[0;34m=\u001b[0m\u001b[0;36m45\u001b[0m\u001b[0;34m\u001b[0m\u001b[0;34m\u001b[0m\u001b[0m\n\u001b[0m",
            "\u001b[0;31mTypeError\u001b[0m: 'tuple' object does not support item assignment"
          ]
        }
      ],
      "source": [
        "tup[0]=45 #not able to modify the tuple object"
      ]
    },
    {
      "cell_type": "code",
      "execution_count": null,
      "metadata": {
        "colab": {
          "base_uri": "https://localhost:8080/"
        },
        "id": "MQkOd-N7yKWt",
        "outputId": "5aca637a-e80f-4505-96fa-7e3bbc31a0c2"
      },
      "outputs": [
        {
          "name": "stdout",
          "output_type": "stream",
          "text": [
            "(1, 2, 3, 4, 5, 6)\n"
          ]
        }
      ],
      "source": [
        "#tuple concatenation\n",
        "tup1=(1,2,3)\n",
        "tup2=(4,5,6)\n",
        "tup=tup1+tup2\n",
        "print(tup)"
      ]
    },
    {
      "cell_type": "code",
      "execution_count": null,
      "metadata": {
        "colab": {
          "base_uri": "https://localhost:8080/"
        },
        "id": "p6D9BvBPyaUE",
        "outputId": "70ff81b5-24da-44eb-e6c1-6b3ee748b7e5"
      },
      "outputs": [
        {
          "name": "stdout",
          "output_type": "stream",
          "text": [
            "(1, 2, 3)\n"
          ]
        }
      ],
      "source": [
        "#packing and unpacking tuple\n",
        "pack_tup=1,2,3\n",
        "print(pack_tup)"
      ]
    },
    {
      "cell_type": "code",
      "execution_count": null,
      "metadata": {
        "colab": {
          "base_uri": "https://localhost:8080/"
        },
        "id": "dJMHutbNywEs",
        "outputId": "763e0326-084e-4aa0-e131-46242c378f35"
      },
      "outputs": [
        {
          "name": "stdout",
          "output_type": "stream",
          "text": [
            "1 2 3\n"
          ]
        }
      ],
      "source": [
        "x,y,z=pack_tup #unpacking tuple\n",
        "print(x,y,z)"
      ]
    },
    {
      "cell_type": "code",
      "execution_count": null,
      "metadata": {
        "colab": {
          "base_uri": "https://localhost:8080/"
        },
        "id": "m8NjdhDzy2ze",
        "outputId": "a56e433f-c561-4c22-cbdb-66b54f9752a0"
      },
      "outputs": [
        {
          "name": "stdout",
          "output_type": "stream",
          "text": [
            "1 2\n",
            "[3, 4, 5]\n"
          ]
        }
      ],
      "source": [
        "val=1,2,3,4,5\n",
        "a,b,*rest=val\n",
        "print(a,b)\n",
        "print(rest)"
      ]
    },
    {
      "cell_type": "code",
      "execution_count": null,
      "metadata": {
        "id": "-pfXuwo8zNvV"
      },
      "outputs": [],
      "source": [
        "val=1,2,3,4,5\n",
        "a,b,*_=val"
      ]
    },
    {
      "cell_type": "code",
      "execution_count": null,
      "metadata": {
        "colab": {
          "base_uri": "https://localhost:8080/"
        },
        "id": "ZwXQNTHGzW3x",
        "outputId": "cd5f3c1f-c547-4b97-b252-4e3eda45ddad"
      },
      "outputs": [
        {
          "name": "stdout",
          "output_type": "stream",
          "text": [
            "1 2 [3, 4, 5]\n"
          ]
        }
      ],
      "source": [
        "print(a,b,_)"
      ]
    },
    {
      "cell_type": "code",
      "execution_count": null,
      "metadata": {
        "colab": {
          "base_uri": "https://localhost:8080/"
        },
        "id": "6dPcV_Q1zaBq",
        "outputId": "62ce6955-1e40-4a1f-a727-f92dd2a56d73"
      },
      "outputs": [
        {
          "name": "stdout",
          "output_type": "stream",
          "text": [
            "<class 'tuple'>\n"
          ]
        }
      ],
      "source": [
        "tup=(1,)\n",
        "print(type(tup))"
      ]
    },
    {
      "cell_type": "code",
      "execution_count": null,
      "metadata": {
        "id": "EQkUZ1FJznOg"
      },
      "outputs": [],
      "source": [
        "#Tuple Method\n",
        "t=(1,4,6,8,9,1)"
      ]
    },
    {
      "cell_type": "code",
      "execution_count": null,
      "metadata": {
        "colab": {
          "base_uri": "https://localhost:8080/"
        },
        "id": "o6anrqz5zwp9",
        "outputId": "f58dfa28-6454-4576-e132-648a749a4e4e"
      },
      "outputs": [
        {
          "data": {
            "text/plain": [
              "2"
            ]
          },
          "execution_count": 61,
          "metadata": {},
          "output_type": "execute_result"
        }
      ],
      "source": [
        "t.count(1)"
      ]
    },
    {
      "cell_type": "code",
      "execution_count": null,
      "metadata": {
        "colab": {
          "base_uri": "https://localhost:8080/"
        },
        "id": "SjHI21yLz1ly",
        "outputId": "1767a036-5da0-4320-8547-1281d8101102"
      },
      "outputs": [
        {
          "data": {
            "text/plain": [
              "1"
            ]
          },
          "execution_count": 62,
          "metadata": {},
          "output_type": "execute_result"
        }
      ],
      "source": [
        "t.index(4)"
      ]
    },
    {
      "cell_type": "code",
      "execution_count": null,
      "metadata": {
        "colab": {
          "base_uri": "https://localhost:8080/"
        },
        "id": "VabD4mTBz5xm",
        "outputId": "df200e80-d5f1-49ec-d0a2-ce0d1eb66046"
      },
      "outputs": [
        {
          "data": {
            "text/plain": [
              "6"
            ]
          },
          "execution_count": 63,
          "metadata": {},
          "output_type": "execute_result"
        }
      ],
      "source": [
        "len(t)"
      ]
    },
    {
      "cell_type": "markdown",
      "metadata": {
        "id": "S_8FZHxS0s1R"
      },
      "source": [
        "#### **List**\n",
        "Lists are mutable. You can define them using square brackets [] or using the list type function"
      ]
    },
    {
      "cell_type": "code",
      "execution_count": null,
      "metadata": {
        "colab": {
          "base_uri": "https://localhost:8080/"
        },
        "id": "HZnTFlgf0nyI",
        "outputId": "7119f4d2-0426-4d6a-c26a-63c91afd10e3"
      },
      "outputs": [
        {
          "name": "stdout",
          "output_type": "stream",
          "text": [
            "[1, 5, 3, 4, None]\n"
          ]
        }
      ],
      "source": [
        "l=[1,2,3,4,None]\n",
        "l[1]=5\n",
        "print(l)"
      ]
    },
    {
      "cell_type": "markdown",
      "metadata": {
        "id": "ehM51lbF3YJz"
      },
      "source": [
        "#List Method\n",
        "* append\n",
        "* clear\n",
        "* copy\n",
        "* count\n",
        "* extend\n",
        "* index\n",
        "* insert\n",
        "* pop\n",
        "* remove\n",
        "* reverse\n",
        "* sort"
      ]
    },
    {
      "cell_type": "code",
      "execution_count": null,
      "metadata": {
        "colab": {
          "base_uri": "https://localhost:8080/"
        },
        "id": "nvA6-zib1mwr",
        "outputId": "c5ae573f-1580-4858-df8b-13459ab24426"
      },
      "outputs": [
        {
          "name": "stdout",
          "output_type": "stream",
          "text": [
            "[1, 2, 3, 4, None, 9]\n"
          ]
        }
      ],
      "source": [
        "#Append\n",
        "l=[1,2,3,4,None]\n",
        "l.append(9)\n",
        "print(l)"
      ]
    },
    {
      "cell_type": "code",
      "execution_count": null,
      "metadata": {
        "colab": {
          "base_uri": "https://localhost:8080/"
        },
        "id": "zxutmrtK4Ubt",
        "outputId": "602d2cdd-080f-474a-da4b-7827f0a5b290"
      },
      "outputs": [
        {
          "name": "stdout",
          "output_type": "stream",
          "text": [
            "[]\n"
          ]
        }
      ],
      "source": [
        "#Clear\n",
        "l.clear()\n",
        "print(l)"
      ]
    },
    {
      "cell_type": "code",
      "execution_count": null,
      "metadata": {
        "colab": {
          "base_uri": "https://localhost:8080/"
        },
        "id": "h1iLlIr65MG0",
        "outputId": "2845f88b-7586-4d78-d6e5-46217a177910"
      },
      "outputs": [
        {
          "name": "stdout",
          "output_type": "stream",
          "text": [
            "[1, 4, 6, 8]\n"
          ]
        }
      ],
      "source": [
        "#Copy\n",
        "l=[1,4,6,8]\n",
        "m=l.copy()\n",
        "print(m)"
      ]
    },
    {
      "cell_type": "code",
      "execution_count": null,
      "metadata": {
        "id": "Ei6JZMPD5Xt5"
      },
      "outputs": [],
      "source": [
        "l=[1,2,3,4,4,4]\n",
        "l.count(4)"
      ]
    },
    {
      "cell_type": "code",
      "execution_count": null,
      "metadata": {
        "colab": {
          "base_uri": "https://localhost:8080/"
        },
        "id": "nRktCtWK5pwl",
        "outputId": "bdd52ffb-228c-4d76-dd37-570dc780a222"
      },
      "outputs": [
        {
          "data": {
            "text/plain": [
              "1"
            ]
          },
          "execution_count": 90,
          "metadata": {},
          "output_type": "execute_result"
        }
      ],
      "source": [
        "#index\n",
        "l.index(2)"
      ]
    },
    {
      "cell_type": "code",
      "execution_count": null,
      "metadata": {
        "colab": {
          "base_uri": "https://localhost:8080/"
        },
        "id": "cJOqYT-n5xKc",
        "outputId": "9dc79c30-48a5-414b-a411-bf29fa9dd6b7"
      },
      "outputs": [
        {
          "name": "stdout",
          "output_type": "stream",
          "text": [
            "List Before Insert [1, 2, 3, 4, 4, 4]\n",
            "List after insert [1, 0, 2, 3, 4, 4, 4]\n"
          ]
        }
      ],
      "source": [
        "#Insert (Takes 2 argument(1.index position 2.value))\n",
        "print('List Before Insert',l)\n",
        "l.insert(1,0)\n",
        "print('List after insert',l)"
      ]
    },
    {
      "cell_type": "code",
      "execution_count": null,
      "metadata": {
        "colab": {
          "base_uri": "https://localhost:8080/"
        },
        "id": "5fzqSgAU6P7n",
        "outputId": "02a5a117-211f-4b2c-b0b0-19badef2f85c"
      },
      "outputs": [
        {
          "name": "stdout",
          "output_type": "stream",
          "text": [
            "[1, 0, 2, 3, 4, 4, 4, 'n', 'i', 't', 0, 1, 2, 3]\n"
          ]
        }
      ],
      "source": [
        "l.extend('nit')\n",
        "l.extend([0,1,2,3])\n",
        "print(l)"
      ]
    },
    {
      "cell_type": "code",
      "execution_count": null,
      "metadata": {
        "colab": {
          "base_uri": "https://localhost:8080/",
          "height": 166
        },
        "id": "j59OQz196pgU",
        "outputId": "6c3cc132-db7b-468a-9065-516846f8fe41"
      },
      "outputs": [
        {
          "ename": "TypeError",
          "evalue": "ignored",
          "output_type": "error",
          "traceback": [
            "\u001b[0;31m---------------------------------------------------------------------------\u001b[0m",
            "\u001b[0;31mTypeError\u001b[0m                                 Traceback (most recent call last)",
            "\u001b[0;32m<ipython-input-97-a6337e3663e6>\u001b[0m in \u001b[0;36m<cell line: 1>\u001b[0;34m()\u001b[0m\n\u001b[0;32m----> 1\u001b[0;31m \u001b[0ml\u001b[0m\u001b[0;34m.\u001b[0m\u001b[0mextend\u001b[0m\u001b[0;34m(\u001b[0m\u001b[0;36m0\u001b[0m\u001b[0;34m)\u001b[0m\u001b[0;34m\u001b[0m\u001b[0;34m\u001b[0m\u001b[0m\n\u001b[0m",
            "\u001b[0;31mTypeError\u001b[0m: 'int' object is not iterable"
          ]
        }
      ],
      "source": [
        "l.extend(0) #not allow to insert the scaler value"
      ]
    },
    {
      "cell_type": "code",
      "execution_count": null,
      "metadata": {
        "colab": {
          "base_uri": "https://localhost:8080/"
        },
        "id": "bKFnRgvC6yg9",
        "outputId": "69a54ba5-4c27-4513-e4fc-5e5e7b303506"
      },
      "outputs": [
        {
          "name": "stdout",
          "output_type": "stream",
          "text": [
            "Before sorting list are [9, 7, 1, 2, 3, 0]\n",
            "after sorting list are [0, 1, 2, 3, 7, 9]\n"
          ]
        }
      ],
      "source": [
        "l=[9,7,1,2,3,0]\n",
        "print(f'Before sorting list are {l}')\n",
        "l.sort()\n",
        "print(f'after sorting list are {l}')"
      ]
    },
    {
      "cell_type": "code",
      "execution_count": null,
      "metadata": {
        "colab": {
          "base_uri": "https://localhost:8080/"
        },
        "id": "VV1nVBEV7OGZ",
        "outputId": "088e8a69-bb58-48b1-ce57-447fbfeaac94"
      },
      "outputs": [
        {
          "name": "stdout",
          "output_type": "stream",
          "text": [
            "[1, 2, 3, 7, 9]\n"
          ]
        }
      ],
      "source": [
        "#delete based on index position\n",
        "del l[0]\n",
        "print(l)"
      ]
    },
    {
      "cell_type": "code",
      "execution_count": null,
      "metadata": {
        "id": "BXN1J-HU7X1b"
      },
      "outputs": [],
      "source": [
        "#remove is used to remove based on element value\n",
        "l.remove(9)"
      ]
    },
    {
      "cell_type": "code",
      "execution_count": null,
      "metadata": {
        "colab": {
          "base_uri": "https://localhost:8080/"
        },
        "id": "wf-HCEjP7jBh",
        "outputId": "728ce0fc-12c6-4838-e13d-bea04493c02b"
      },
      "outputs": [
        {
          "name": "stdout",
          "output_type": "stream",
          "text": [
            "[1, 2, 3, 7]\n",
            "after pop [1, 2, 3]\n"
          ]
        }
      ],
      "source": [
        "#pop is used to to remove the element using index position or if index is not mention then remove last element\n",
        "print(l)\n",
        "l.pop()\n",
        "print('after pop',l)"
      ]
    },
    {
      "cell_type": "code",
      "execution_count": null,
      "metadata": {
        "colab": {
          "base_uri": "https://localhost:8080/"
        },
        "id": "8_5RTPkb72VP",
        "outputId": "1eefd525-f850-4478-d62f-d9c6c2b930b9"
      },
      "outputs": [
        {
          "name": "stdout",
          "output_type": "stream",
          "text": [
            "befor pop [1, 2, 3]\n",
            "After pop [1, 2]\n"
          ]
        }
      ],
      "source": [
        "print('befor pop',l)\n",
        "l.pop(2)\n",
        "print('After pop',l)"
      ]
    },
    {
      "cell_type": "code",
      "execution_count": null,
      "metadata": {
        "id": "UMj6qzj-7-y6"
      },
      "outputs": [],
      "source": [
        "#reverse function is used to reverse the list.\n",
        "l.reverse()"
      ]
    },
    {
      "cell_type": "code",
      "execution_count": null,
      "metadata": {
        "colab": {
          "base_uri": "https://localhost:8080/"
        },
        "id": "jafW3hqd8zyL",
        "outputId": "0eab7934-cef2-4fb6-c3af-a8c872f3888c"
      },
      "outputs": [
        {
          "name": "stdout",
          "output_type": "stream",
          "text": [
            "[2, 1]\n"
          ]
        }
      ],
      "source": [
        "print(l)"
      ]
    },
    {
      "cell_type": "markdown",
      "metadata": {
        "id": "0hDk_F-T9ZLt"
      },
      "source": [
        "#### Slicing\n",
        "You can select sections of most sequence types by using slice notation, which in its\n",
        "basic form consists of start:stop passed to the indexing operator []:"
      ]
    },
    {
      "cell_type": "code",
      "execution_count": null,
      "metadata": {
        "colab": {
          "base_uri": "https://localhost:8080/"
        },
        "id": "8D546wxv882p",
        "outputId": "18396778-4433-463d-ad65-a1c50717120d"
      },
      "outputs": [
        {
          "name": "stdout",
          "output_type": "stream",
          "text": [
            "[1, 2, 3, 4]\n"
          ]
        }
      ],
      "source": [
        "s=[1,2,3,4]\n",
        "print(s)"
      ]
    },
    {
      "cell_type": "code",
      "execution_count": null,
      "metadata": {
        "colab": {
          "base_uri": "https://localhost:8080/"
        },
        "id": "JOWDf2t49goy",
        "outputId": "041bb69f-9d34-4e2d-e115-16696613a7f5"
      },
      "outputs": [
        {
          "data": {
            "text/plain": [
              "[2, 3]"
            ]
          },
          "execution_count": 112,
          "metadata": {},
          "output_type": "execute_result"
        }
      ],
      "source": [
        "s[1:3]"
      ]
    },
    {
      "cell_type": "code",
      "execution_count": null,
      "metadata": {
        "colab": {
          "base_uri": "https://localhost:8080/"
        },
        "id": "PVna5Spj9lDd",
        "outputId": "a17e388e-edbc-48ab-ad73-9a5ed71a12e8"
      },
      "outputs": [
        {
          "name": "stdout",
          "output_type": "stream",
          "text": [
            "[1, 4, 5, 4]\n"
          ]
        }
      ],
      "source": [
        "#Slices can also be assigned with a sequence:\n",
        "s[1:3]=[4,5]\n",
        "print(s)"
      ]
    },
    {
      "cell_type": "code",
      "execution_count": null,
      "metadata": {
        "colab": {
          "base_uri": "https://localhost:8080/"
        },
        "id": "jPM0QJpe9y72",
        "outputId": "bd9aa7e4-8696-4d55-e505-47320bd0043e"
      },
      "outputs": [
        {
          "data": {
            "text/plain": [
              "[4, 4]"
            ]
          },
          "execution_count": 118,
          "metadata": {},
          "output_type": "execute_result"
        }
      ],
      "source": [
        "s[1:4:2] #steps of 2"
      ]
    },
    {
      "cell_type": "code",
      "execution_count": null,
      "metadata": {
        "colab": {
          "base_uri": "https://localhost:8080/"
        },
        "id": "1w8HcflE-BIN",
        "outputId": "6728d208-9cd4-4ea2-a00b-6c48e5da3902"
      },
      "outputs": [
        {
          "data": {
            "text/plain": [
              "[1, 4, 5, 4]"
            ]
          },
          "execution_count": 119,
          "metadata": {},
          "output_type": "execute_result"
        }
      ],
      "source": [
        "#Negative index\n",
        "s[-4:]"
      ]
    },
    {
      "cell_type": "code",
      "execution_count": null,
      "metadata": {
        "colab": {
          "base_uri": "https://localhost:8080/"
        },
        "id": "E_zvC81i-Rli",
        "outputId": "9ca65c04-7b42-4a95-9321-f7b094e4b6fa"
      },
      "outputs": [
        {
          "data": {
            "text/plain": [
              "[1, 4]"
            ]
          },
          "execution_count": 120,
          "metadata": {},
          "output_type": "execute_result"
        }
      ],
      "source": [
        "s[-4:-2]"
      ]
    },
    {
      "cell_type": "markdown",
      "metadata": {
        "id": "Y82TQhv0-i_3"
      },
      "source": [
        "#### Dictionary\n",
        "1. The dictionary or dict may be the most important built-in Python data structure.\n",
        "2. A dictionary stores a collection of key-value pairs, where key and\n",
        "value are Python objects. \n",
        "3. Each key is associated with a value so that a value can be conveniently retrieved, inserted, modified, or deleted given a particular key.\n",
        "4. creating a dictionary is to use curly braces {} and colons to separate\n",
        "keys and values\n",
        "5. Dictionary in Python is an unordered collection of data values that are used to store data values like a map."
      ]
    },
    {
      "cell_type": "code",
      "execution_count": null,
      "metadata": {
        "colab": {
          "base_uri": "https://localhost:8080/"
        },
        "id": "yJdQRPHX-Wcn",
        "outputId": "9a7a3e3b-4731-4579-87a5-c292bf0206d0"
      },
      "outputs": [
        {
          "name": "stdout",
          "output_type": "stream",
          "text": [
            "{}\n"
          ]
        }
      ],
      "source": [
        "d={}\n",
        "print(d)"
      ]
    },
    {
      "cell_type": "code",
      "execution_count": null,
      "metadata": {
        "id": "RzmE6SaJ-6Sj"
      },
      "outputs": [],
      "source": [
        "d={\"name\":\"Nitesh\",\"Age\":28,\"Gender\":\"Male\"}"
      ]
    },
    {
      "cell_type": "code",
      "execution_count": null,
      "metadata": {
        "colab": {
          "base_uri": "https://localhost:8080/"
        },
        "id": "VqxF_zuG_CpZ",
        "outputId": "88cff4eb-6b6a-4a9b-f5f9-4431daf02350"
      },
      "outputs": [
        {
          "name": "stdout",
          "output_type": "stream",
          "text": [
            "{'name': 'Nitesh', 'Age': 28, 'Gender': 'Male'}\n"
          ]
        }
      ],
      "source": [
        "print(d)"
      ]
    },
    {
      "cell_type": "code",
      "execution_count": null,
      "metadata": {
        "colab": {
          "base_uri": "https://localhost:8080/"
        },
        "id": "2RFiTpRb_FX7",
        "outputId": "dce16acd-d22f-41bf-eee4-1d9fe2b0b946"
      },
      "outputs": [
        {
          "name": "stdout",
          "output_type": "stream",
          "text": [
            "name Nitesh\n",
            "Age 28\n",
            "Gender Male\n"
          ]
        }
      ],
      "source": [
        "for key,value in d.items(): #accessing the dictionary key and value using items keyword\n",
        "  print(key,value)"
      ]
    },
    {
      "cell_type": "code",
      "execution_count": null,
      "metadata": {
        "colab": {
          "base_uri": "https://localhost:8080/"
        },
        "id": "3IjdyALH_MCP",
        "outputId": "b9ad9be4-3664-4cbd-ac32-b9e66ec6b0b8"
      },
      "outputs": [
        {
          "data": {
            "text/plain": [
              "dict_keys(['name', 'Age', 'Gender'])"
            ]
          },
          "execution_count": 125,
          "metadata": {},
          "output_type": "execute_result"
        }
      ],
      "source": [
        "#dictionary key is access using keys keyword\n",
        "d.keys()"
      ]
    },
    {
      "cell_type": "code",
      "execution_count": null,
      "metadata": {
        "colab": {
          "base_uri": "https://localhost:8080/"
        },
        "id": "z1r_s6vW_Vlw",
        "outputId": "954fc9a3-8fb5-4a2b-a95d-9901436beb2a"
      },
      "outputs": [
        {
          "data": {
            "text/plain": [
              "dict_values(['Nitesh', 28, 'Male'])"
            ]
          },
          "execution_count": 126,
          "metadata": {},
          "output_type": "execute_result"
        }
      ],
      "source": [
        "#dictionary value can be access using values keyword\n",
        "d.values()"
      ]
    },
    {
      "cell_type": "code",
      "execution_count": null,
      "metadata": {
        "colab": {
          "base_uri": "https://localhost:8080/",
          "height": 35
        },
        "id": "Iw1wM77I_gcV",
        "outputId": "850116e1-8237-453b-ef32-bc6d66225bca"
      },
      "outputs": [
        {
          "data": {
            "application/vnd.google.colaboratory.intrinsic+json": {
              "type": "string"
            },
            "text/plain": [
              "'Nitesh'"
            ]
          },
          "execution_count": 128,
          "metadata": {},
          "output_type": "execute_result"
        }
      ],
      "source": [
        "#element of dictionary is access by key\n",
        "d['name']"
      ]
    },
    {
      "cell_type": "code",
      "execution_count": null,
      "metadata": {
        "colab": {
          "base_uri": "https://localhost:8080/"
        },
        "id": "b4ytFW8T_q9G",
        "outputId": "8bf8919b-7909-4aa7-ff94-9f43276f16f1"
      },
      "outputs": [
        {
          "name": "stdout",
          "output_type": "stream",
          "text": [
            "{'name': 'Nitesh', 'Age': 28, 'Gender': 'Male', 'Country': 'India'}\n"
          ]
        }
      ],
      "source": [
        "#if key is not present in dictionary then it create new key with given value\n",
        "d['Country']='India'\n",
        "print(d)"
      ]
    },
    {
      "cell_type": "code",
      "execution_count": null,
      "metadata": {
        "id": "3IlwsA0a_0Fk"
      },
      "outputs": [],
      "source": [
        "#we can modify the keys value using below code\n",
        "d['name']='Nit'"
      ]
    },
    {
      "cell_type": "code",
      "execution_count": null,
      "metadata": {
        "colab": {
          "base_uri": "https://localhost:8080/"
        },
        "id": "4lz3CCgBABJa",
        "outputId": "02b6f711-b77b-4d04-f1eb-c4bccf4f5ec1"
      },
      "outputs": [
        {
          "name": "stdout",
          "output_type": "stream",
          "text": [
            "{'name': 'Nit', 'Age': 28, 'Gender': 'Male', 'Country': 'India'}\n"
          ]
        }
      ],
      "source": [
        "print(d)"
      ]
    },
    {
      "cell_type": "code",
      "execution_count": null,
      "metadata": {
        "colab": {
          "base_uri": "https://localhost:8080/"
        },
        "id": "x1UJoORTACXL",
        "outputId": "482d49a7-39c0-4217-e1dd-40d01f0a6081"
      },
      "outputs": [
        {
          "data": {
            "text/plain": [
              "True"
            ]
          },
          "execution_count": 133,
          "metadata": {},
          "output_type": "execute_result"
        }
      ],
      "source": [
        "#We can also check if keys is present in dictionary or not\n",
        "'name' in d\n"
      ]
    },
    {
      "cell_type": "code",
      "execution_count": null,
      "metadata": {
        "id": "mlobA0RhAHlG"
      },
      "outputs": [],
      "source": [
        "#You can merge one dictionary into another using the update method.\n",
        "#The update method changes dictionaries in place, so any existing keys in the data passed to update will have their old values discarded\n",
        "d.update({'a':1,'b':2})"
      ]
    },
    {
      "cell_type": "code",
      "execution_count": null,
      "metadata": {
        "colab": {
          "base_uri": "https://localhost:8080/"
        },
        "id": "_S8vvZWvAc2k",
        "outputId": "0ee3eb00-7d3d-47ff-d94a-cdf720da8d5a"
      },
      "outputs": [
        {
          "name": "stdout",
          "output_type": "stream",
          "text": [
            "{'name': 'Nit', 'Age': 28, 'Gender': 'Male', 'Country': 'India', 'a': 1, 'b': 2}\n"
          ]
        }
      ],
      "source": [
        "print(d)"
      ]
    },
    {
      "cell_type": "code",
      "execution_count": null,
      "metadata": {
        "colab": {
          "base_uri": "https://localhost:8080/"
        },
        "id": "_MAlCvk_Ad5s",
        "outputId": "9a6aba76-b084-4d9d-c595-3046a5cada0e"
      },
      "outputs": [
        {
          "data": {
            "text/plain": [
              "{'name': 'Nit',\n",
              " 'Age': 28,\n",
              " 'Gender': 'Male',\n",
              " 'Country': 'India',\n",
              " 'a': 1,\n",
              " 'b': 2}"
            ]
          },
          "execution_count": 136,
          "metadata": {},
          "output_type": "execute_result"
        }
      ],
      "source": [
        "d"
      ]
    },
    {
      "cell_type": "code",
      "execution_count": null,
      "metadata": {
        "colab": {
          "base_uri": "https://localhost:8080/"
        },
        "id": "k6HAGCuyA2gP",
        "outputId": "afa14f9b-a9ae-4c54-ce75-e4030703476e"
      },
      "outputs": [
        {
          "name": "stdout",
          "output_type": "stream",
          "text": [
            "Nit\n",
            "Sorry mention key not present\n"
          ]
        }
      ],
      "source": [
        "#get by default will return None if the key is not present but if we specify the default value then it return the specified value.\n",
        "print(d.get('name','Sorry mention key not present'))\n",
        "print(d.get('dept','Sorry mention key not present'))"
      ]
    },
    {
      "cell_type": "code",
      "execution_count": null,
      "metadata": {
        "colab": {
          "base_uri": "https://localhost:8080/"
        },
        "id": "pHj8xietA9Uj",
        "outputId": "f7d82a3c-7c64-4541-d1f5-a31d11cd8d17"
      },
      "outputs": [
        {
          "name": "stdout",
          "output_type": "stream",
          "text": [
            "defaultdict(None, {1: [1, 2], 2: [7, 8]})\n"
          ]
        }
      ],
      "source": [
        "#The built-in collections module has a useful class, defaultdict\n",
        "#Sometimes, when the KeyError is raised, it might become a problem. \n",
        "#To overcome this Python introduces another dictionary like container known as Defaultdict which is present inside the collections module.\n",
        "from collections import defaultdict\n",
        "\n",
        "my_dict = defaultdict()\n",
        "my_dict[1]=[1,2]\n",
        "my_dict[2]=[7,8]\n",
        "print(my_dict)\n"
      ]
    },
    {
      "cell_type": "code",
      "execution_count": null,
      "metadata": {
        "colab": {
          "base_uri": "https://localhost:8080/"
        },
        "id": "ZEJ5JP3DBiIZ",
        "outputId": "49b13031-4c53-4e32-cfbc-2c5121275e63"
      },
      "outputs": [
        {
          "name": "stdout",
          "output_type": "stream",
          "text": [
            "[7, 8]\n",
            "None\n"
          ]
        }
      ],
      "source": [
        "print(my_dict.get(2))\n",
        "print(my_dict.get(3)) #if value not present then return None instead of any error.\n"
      ]
    },
    {
      "cell_type": "markdown",
      "metadata": {
        "id": "nG4mzuZRFPy9"
      },
      "source": [
        "#### **Set**\n",
        "Set is similar to list except below point.\n",
        "\n",
        "1. collection of items.\n",
        "2. represent as curley braces({})\n",
        "3. duplicate not allowed.\n",
        "4. indexing ,slicing not allowed.\n",
        "5. Used as key in dictionary.\n",
        "6. Add,remove allowed but append not allowed. \n",
        "\n",
        "A set can be created in two ways:via the set function or via a set literal with curly braces."
      ]
    },
    {
      "cell_type": "code",
      "execution_count": null,
      "metadata": {
        "colab": {
          "base_uri": "https://localhost:8080/"
        },
        "id": "ZRO9_UEsE4QM",
        "outputId": "e5306bc5-fc27-417b-e3d3-c88f5f4f2f53"
      },
      "outputs": [
        {
          "data": {
            "text/plain": [
              "{1, 2, 3, 4, 5}"
            ]
          },
          "execution_count": 146,
          "metadata": {},
          "output_type": "execute_result"
        }
      ],
      "source": [
        "set((1,2,3,4,5,3,4))"
      ]
    },
    {
      "cell_type": "code",
      "execution_count": null,
      "metadata": {
        "colab": {
          "base_uri": "https://localhost:8080/"
        },
        "id": "iuVgKZvwIc8v",
        "outputId": "74b22896-1d84-44fe-f91c-38fed03fc65e"
      },
      "outputs": [
        {
          "name": "stdout",
          "output_type": "stream",
          "text": [
            "<class 'set'> {1, 2, 3, 4}\n"
          ]
        }
      ],
      "source": [
        "a={1,2,3,4}\n",
        "print(type(a),a)"
      ]
    },
    {
      "cell_type": "markdown",
      "metadata": {
        "id": "GtQNJJPWIr3P"
      },
      "source": [
        "Sets support mathematical set operations like union, intersection, difference, and symmetric difference. Consider these example  of sets:\n"
      ]
    },
    {
      "cell_type": "code",
      "execution_count": null,
      "metadata": {
        "id": "zDhwVSH5IkG9"
      },
      "outputs": [],
      "source": [
        "s1={1,2,3,4}\n",
        "s2={4,5,6,7}"
      ]
    },
    {
      "cell_type": "code",
      "execution_count": null,
      "metadata": {
        "colab": {
          "base_uri": "https://localhost:8080/"
        },
        "id": "9YRF28wPI3QT",
        "outputId": "d427f2de-a052-4262-baf5-03d4a312427b"
      },
      "outputs": [
        {
          "data": {
            "text/plain": [
              "{1, 2, 3, 4, 5, 6, 7}"
            ]
          },
          "execution_count": 150,
          "metadata": {},
          "output_type": "execute_result"
        }
      ],
      "source": [
        "#adding two set  element(without duplicates)\n",
        "s1.union(s2)"
      ]
    },
    {
      "cell_type": "code",
      "execution_count": null,
      "metadata": {
        "colab": {
          "base_uri": "https://localhost:8080/"
        },
        "id": "uXOvuUpeI4-g",
        "outputId": "9ab95a89-30c3-4f57-c621-7251b90e9fa4"
      },
      "outputs": [
        {
          "data": {
            "text/plain": [
              "{4}"
            ]
          },
          "execution_count": 151,
          "metadata": {},
          "output_type": "execute_result"
        }
      ],
      "source": [
        "#fetch only common value present in both the set\n",
        "s1.intersection(s2)"
      ]
    },
    {
      "cell_type": "code",
      "execution_count": null,
      "metadata": {
        "colab": {
          "base_uri": "https://localhost:8080/"
        },
        "id": "xH2A1buzI9oE",
        "outputId": "a7746e06-79e9-4e78-ee08-e64acc250155"
      },
      "outputs": [
        {
          "data": {
            "text/plain": [
              "{1, 2, 3}"
            ]
          },
          "execution_count": 152,
          "metadata": {},
          "output_type": "execute_result"
        }
      ],
      "source": [
        "#it is like minus function.The elements in s1 that are not in s2\n",
        "s1.difference(s2)"
      ]
    },
    {
      "cell_type": "code",
      "execution_count": null,
      "metadata": {
        "id": "JNfXHVPhJAsA"
      },
      "outputs": [],
      "source": [
        "#Set the contents of s1 to be the intersection of the elements in s1 and s2\n",
        "s1.intersection_update(s2)"
      ]
    },
    {
      "cell_type": "code",
      "execution_count": null,
      "metadata": {
        "colab": {
          "base_uri": "https://localhost:8080/"
        },
        "id": "XI5c4hE8JQ_-",
        "outputId": "820ef562-f242-4ef0-a264-2085eca3728e"
      },
      "outputs": [
        {
          "name": "stdout",
          "output_type": "stream",
          "text": [
            "{4}\n",
            "{4, 5, 6, 7}\n"
          ]
        }
      ],
      "source": [
        "print(s1)\n",
        "print(s2)"
      ]
    },
    {
      "cell_type": "code",
      "execution_count": null,
      "metadata": {
        "id": "fgjHy7o8JVL_"
      },
      "outputs": [],
      "source": [
        "s1={1,2,3,4,5}\n",
        "s2={3,4,5,6,7}"
      ]
    },
    {
      "cell_type": "code",
      "execution_count": null,
      "metadata": {
        "id": "gEGQjlLDJcHu"
      },
      "outputs": [],
      "source": [
        "#Set a to the elements in a that are not in b\n",
        "s1.difference_update(s2)"
      ]
    },
    {
      "cell_type": "code",
      "execution_count": null,
      "metadata": {
        "colab": {
          "base_uri": "https://localhost:8080/"
        },
        "id": "2N6EamK8JfUe",
        "outputId": "9fabb242-3c76-487b-f662-6d0c9707e566"
      },
      "outputs": [
        {
          "name": "stdout",
          "output_type": "stream",
          "text": [
            "{1, 2}\n",
            "{3, 4, 5, 6, 7}\n"
          ]
        }
      ],
      "source": [
        "print(s1)\n",
        "print(s2)"
      ]
    },
    {
      "cell_type": "code",
      "execution_count": null,
      "metadata": {
        "colab": {
          "base_uri": "https://localhost:8080/"
        },
        "id": "7d2ihBtbJh9w",
        "outputId": "adb4c5ce-ac09-4cbd-fe60-bd5f8af0fc23"
      },
      "outputs": [
        {
          "name": "stdout",
          "output_type": "stream",
          "text": [
            "{1, 2, 3}\n"
          ]
        }
      ],
      "source": [
        "#Add element 3 to set s1 \n",
        "s1.add(3)\n",
        "print(s1)"
      ]
    },
    {
      "cell_type": "code",
      "execution_count": null,
      "metadata": {
        "colab": {
          "base_uri": "https://localhost:8080/"
        },
        "id": "cwfgM2tOJmGV",
        "outputId": "3870aecd-3be9-4e5c-f01d-1f7c94e92f58"
      },
      "outputs": [
        {
          "name": "stdout",
          "output_type": "stream",
          "text": [
            "set()\n"
          ]
        }
      ],
      "source": [
        "#Reset set a to an empty state, discarding all of its elements\n",
        "s1.clear()\n",
        "print(s1)"
      ]
    },
    {
      "cell_type": "code",
      "execution_count": null,
      "metadata": {
        "id": "rqHf9y2mJs9B"
      },
      "outputs": [],
      "source": [
        "s1={1,2,3,4,5}"
      ]
    },
    {
      "cell_type": "code",
      "execution_count": null,
      "metadata": {
        "colab": {
          "base_uri": "https://localhost:8080/"
        },
        "id": "2ORpNeZwJxHs",
        "outputId": "f3808319-d2ba-4184-f103-19cddece8d9c"
      },
      "outputs": [
        {
          "name": "stdout",
          "output_type": "stream",
          "text": [
            "{1, 2, 3, 4}\n"
          ]
        }
      ],
      "source": [
        "#Remove element 5 from set s1\n",
        "s1.remove(5)\n",
        "print(s1)"
      ]
    },
    {
      "cell_type": "code",
      "execution_count": null,
      "metadata": {
        "colab": {
          "base_uri": "https://localhost:8080/"
        },
        "id": "z63vxuEbJ0Mx",
        "outputId": "5479208e-9a7a-49c5-9b98-5f2db9791db8"
      },
      "outputs": [
        {
          "name": "stdout",
          "output_type": "stream",
          "text": [
            "{2, 3, 4}\n"
          ]
        }
      ],
      "source": [
        "s1.pop()\n",
        "print(s1)"
      ]
    },
    {
      "cell_type": "code",
      "execution_count": null,
      "metadata": {
        "colab": {
          "base_uri": "https://localhost:8080/"
        },
        "id": "iwdBNrcGJ5yQ",
        "outputId": "85f8944f-7b72-4a6d-a69d-e1d47df5438c"
      },
      "outputs": [
        {
          "data": {
            "text/plain": [
              "{2, 5, 6, 7}"
            ]
          },
          "execution_count": 169,
          "metadata": {},
          "output_type": "execute_result"
        }
      ],
      "source": [
        "s1.symmetric_difference(s2) #except the common elements"
      ]
    },
    {
      "cell_type": "code",
      "execution_count": null,
      "metadata": {
        "colab": {
          "base_uri": "https://localhost:8080/"
        },
        "id": "SPGF6liFKBLL",
        "outputId": "085a0214-c82b-448f-83e8-75815efb20f4"
      },
      "outputs": [
        {
          "data": {
            "text/plain": [
              "False"
            ]
          },
          "execution_count": 172,
          "metadata": {},
          "output_type": "execute_result"
        }
      ],
      "source": [
        "s1.issubset(s2) #True if the elements of s1 are all contained in s2\n"
      ]
    },
    {
      "cell_type": "code",
      "execution_count": null,
      "metadata": {
        "colab": {
          "base_uri": "https://localhost:8080/"
        },
        "id": "xBmwJHqPKKDe",
        "outputId": "e136994b-a8f0-49cd-dbfb-c14b08bc41f3"
      },
      "outputs": [
        {
          "data": {
            "text/plain": [
              "False"
            ]
          },
          "execution_count": 173,
          "metadata": {},
          "output_type": "execute_result"
        }
      ],
      "source": [
        "s1.issuperset(s2) #True if the elements of s2 are all contained in s1"
      ]
    },
    {
      "cell_type": "markdown",
      "metadata": {
        "id": "NI2g41JUPuuh"
      },
      "source": [
        "#### **Built-In Sequence Functions**\n",
        "* enumerate.\n",
        "* sorted\n",
        "* zip\n",
        "* reversed\n",
        "\n"
      ]
    },
    {
      "cell_type": "code",
      "execution_count": null,
      "metadata": {
        "colab": {
          "base_uri": "https://localhost:8080/"
        },
        "id": "CqEXlCnxLbi2",
        "outputId": "6b15551f-4ed0-4422-f6c4-a3a4c25e9ee9"
      },
      "outputs": [
        {
          "name": "stdout",
          "output_type": "stream",
          "text": [
            "0 Apple\n",
            "1 Mango\n",
            "2 Banana\n"
          ]
        }
      ],
      "source": [
        "#It’s common when iterating over a sequence to want to keep track of the index of the current item.\n",
        "fruits=['Apple','Mango','Banana']\n",
        "for i,j in enumerate(fruits): #i represent index position,j represent actual value.\n",
        "  print(i,j)"
      ]
    },
    {
      "cell_type": "code",
      "execution_count": null,
      "metadata": {
        "colab": {
          "base_uri": "https://localhost:8080/"
        },
        "id": "GUr4joXZQNLG",
        "outputId": "591e6836-717f-4f61-da97-45c8080d0e42"
      },
      "outputs": [
        {
          "name": "stdout",
          "output_type": "stream",
          "text": [
            "[0, 1, 2, 3, 6, 8]\n",
            "['e', 'h', 'i', 'n', 's', 't']\n"
          ]
        }
      ],
      "source": [
        "#The sorted function returns a new sorted list from the elements of any sequence:\n",
        "l=[1,3,6,8,0,2]\n",
        "print(sorted(l))\n",
        "print(sorted('nitesh'))\n"
      ]
    },
    {
      "cell_type": "code",
      "execution_count": null,
      "metadata": {
        "colab": {
          "base_uri": "https://localhost:8080/"
        },
        "id": "pr7BUfiYQgAw",
        "outputId": "d7c9cce2-50d3-4fb3-a26f-be45649e8bd9"
      },
      "outputs": [
        {
          "name": "stdout",
          "output_type": "stream",
          "text": [
            "('x', 1)\n",
            "('y', 2)\n",
            "('z', 3)\n"
          ]
        }
      ],
      "source": [
        "#zip “pairs” up the elements of a number of lists, tuples, or other sequences to create a list of tuples:\n",
        "tup1=('x','y','z')\n",
        "tup2=(1,2,3)\n",
        "\n",
        "for i in zip(tup1,tup2):\n",
        "  print(i)\n"
      ]
    },
    {
      "cell_type": "code",
      "execution_count": null,
      "metadata": {
        "colab": {
          "base_uri": "https://localhost:8080/"
        },
        "id": "5-Om4dj3Q17f",
        "outputId": "bedc703d-57d9-46ee-b72e-a668ccba5dc9"
      },
      "outputs": [
        {
          "name": "stdout",
          "output_type": "stream",
          "text": [
            "0 ('x', 1)\n",
            "1 ('y', 2)\n",
            "2 ('z', 3)\n"
          ]
        }
      ],
      "source": [
        "for a,b in enumerate(zip(tup1,tup2)):\n",
        "  print(a,b)"
      ]
    },
    {
      "cell_type": "code",
      "execution_count": null,
      "metadata": {
        "colab": {
          "base_uri": "https://localhost:8080/"
        },
        "id": "RO9S5j-eQ_Lc",
        "outputId": "487a2a74-5a27-4cbc-8d42-d7675a8c4eaa"
      },
      "outputs": [
        {
          "name": "stdout",
          "output_type": "stream",
          "text": [
            "type of reversed function is <class 'list_reverseiterator'>\n",
            "[2, 1, 8, 7, 6, 4]\n"
          ]
        }
      ],
      "source": [
        "#reversed iterates over the elements of a sequence in reverse order\n",
        "l=[4,6,7,8,1,2]\n",
        "print('type of reversed function is',type(reversed(l)))\n",
        "print(list(reversed(l))) #it does not create sequence of value till we not use any iterable function like list,for loop etc."
      ]
    },
    {
      "cell_type": "markdown",
      "metadata": {
        "id": "mfH54Gy3hl82"
      },
      "source": [
        "#### **Different Comprehnsions technique**\n",
        "* List Comprehension\n",
        "* Set Comprehension\n",
        "* Dictionary Comprehension"
      ]
    },
    {
      "cell_type": "code",
      "execution_count": null,
      "metadata": {
        "colab": {
          "base_uri": "https://localhost:8080/"
        },
        "id": "T1FKEoq9RTZQ",
        "outputId": "3818530a-3897-40e7-a860-4d90a7c8ad0c"
      },
      "outputs": [
        {
          "data": {
            "text/plain": [
              "['NITESH', 'PANDEY', 'PYTHON']"
            ]
          },
          "execution_count": 182,
          "metadata": {},
          "output_type": "execute_result"
        }
      ],
      "source": [
        "#List comprehension\n",
        "#[expr for value in collection if condition]\n",
        "\n",
        "s=['nitesh','pandey','python']\n",
        "[x.upper() for x in s]"
      ]
    },
    {
      "cell_type": "code",
      "execution_count": null,
      "metadata": {
        "colab": {
          "base_uri": "https://localhost:8080/"
        },
        "id": "X5Ig3wGBSI1h",
        "outputId": "fd7433ec-6d31-4a9f-fca7-ac77f0fa3d11"
      },
      "outputs": [
        {
          "name": "stdout",
          "output_type": "stream",
          "text": [
            "{0: 'n', 1: 'bb', 2: 'ccc'}\n"
          ]
        }
      ],
      "source": [
        "#A dictionary comprehension looks like this:\n",
        "#dict_comp = {key-expr: value-expr for value in collection if condition}\n",
        "d={ind:val for ind,val in enumerate(s)}\n",
        "print(d)\n",
        "\n"
      ]
    },
    {
      "cell_type": "code",
      "execution_count": null,
      "metadata": {
        "colab": {
          "base_uri": "https://localhost:8080/"
        },
        "id": "LqrR6ioOSdar",
        "outputId": "dfc8282c-ee8d-4d99-f18f-e237ed108f61"
      },
      "outputs": [
        {
          "name": "stdout",
          "output_type": "stream",
          "text": [
            "{1, 2, 3}\n"
          ]
        }
      ],
      "source": [
        "#Set_comp = {expr for value in collection if condition}\n",
        "s=[\"n\",\"bb\",\"ccc\"]\n",
        "s1={len(x) for x in s}\n",
        "print(s1)"
      ]
    },
    {
      "cell_type": "markdown",
      "metadata": {
        "id": "oWw5RLBciRVO"
      },
      "source": [
        "#### **Function**\n",
        "* Function is a block of code which is executed only when it is called.\n",
        "* To define a function in python a def keyword is used\n",
        "* Function does not deal with class and instance comcept.\n",
        "* Functions are the primary and most important method of code organization and reuse in Python. "
      ]
    },
    {
      "cell_type": "code",
      "execution_count": null,
      "metadata": {
        "colab": {
          "base_uri": "https://localhost:8080/"
        },
        "id": "Xm4T3Le2Trnc",
        "outputId": "986f7f13-242c-4b64-b083-72de64c08fa4"
      },
      "outputs": [
        {
          "data": {
            "text/plain": [
              "30"
            ]
          },
          "execution_count": 210,
          "metadata": {},
          "output_type": "execute_result"
        }
      ],
      "source": [
        "#Function with return statement\n",
        "def myFunction(x,y):\n",
        "  return x*y\n",
        "\n",
        "#call to function\n",
        "myFunction(5,6)\n"
      ]
    },
    {
      "cell_type": "code",
      "execution_count": null,
      "metadata": {
        "colab": {
          "base_uri": "https://localhost:8080/"
        },
        "id": "VgdgdmV1hRXa",
        "outputId": "abe246d6-5c03-4f97-f06e-8726a1133015"
      },
      "outputs": [
        {
          "name": "stdout",
          "output_type": "stream",
          "text": [
            "7\n"
          ]
        }
      ],
      "source": [
        "#function without return\n",
        "def myFunction(a,b):\n",
        "  print(a+b)\n",
        "\n",
        "myFunction(2,5)"
      ]
    },
    {
      "cell_type": "markdown",
      "metadata": {
        "id": "NUJ7p06GkEQm"
      },
      "source": [
        "#### Scope of variable\n",
        "* Global\n",
        "* Local"
      ]
    },
    {
      "cell_type": "code",
      "execution_count": null,
      "metadata": {
        "id": "S6VtrkJKjv_V"
      },
      "outputs": [],
      "source": [
        "#variable which is declared outside the function or in global space is called global variables\n",
        "\n",
        "a=6 #Global Variable\n",
        "def scope_variable():\n",
        "  b=5 #Local Variable\n",
        "  print(f\"value of variable b is {b}\")\n",
        "  print(f\"value of variable a is {a}\")\n",
        "\n"
      ]
    },
    {
      "cell_type": "code",
      "execution_count": null,
      "metadata": {
        "colab": {
          "base_uri": "https://localhost:8080/"
        },
        "id": "gvj8ZyRuk6py",
        "outputId": "7af0ae20-9cbd-4eab-903a-dd25b7d05c29"
      },
      "outputs": [
        {
          "name": "stdout",
          "output_type": "stream",
          "text": [
            "value of variable b is 5\n",
            "value of variable a is 6\n"
          ]
        }
      ],
      "source": [
        "scope_variable()"
      ]
    },
    {
      "cell_type": "code",
      "execution_count": null,
      "metadata": {
        "id": "s4qG_0-rlAA5"
      },
      "outputs": [],
      "source": [
        "a=6 \n",
        "def scope_variable():\n",
        "  global a #global variable can be declare using global keyword also\n",
        "  a=5 #update the global variable value from 6 to 5\n",
        "  print(f\"value of variable a is {a}\")\n"
      ]
    },
    {
      "cell_type": "code",
      "execution_count": null,
      "metadata": {
        "colab": {
          "base_uri": "https://localhost:8080/"
        },
        "id": "eDYBfTWzlUZA",
        "outputId": "fae84677-f955-4276-9f64-f49c0e4eb931"
      },
      "outputs": [
        {
          "name": "stdout",
          "output_type": "stream",
          "text": [
            "value of variable a is 5\n"
          ]
        }
      ],
      "source": [
        "scope_variable()"
      ]
    },
    {
      "cell_type": "code",
      "execution_count": null,
      "metadata": {
        "colab": {
          "base_uri": "https://localhost:8080/"
        },
        "id": "EVgIGFnylWjJ",
        "outputId": "2e880aa4-8510-44d4-ee3b-891bcca65494"
      },
      "outputs": [
        {
          "name": "stdout",
          "output_type": "stream",
          "text": [
            "30 40 50\n"
          ]
        }
      ],
      "source": [
        "# Return multiple value from function\n",
        "def returnExample(a,b,c):\n",
        "  a=a+10\n",
        "  b=b+10\n",
        "  c=c+10\n",
        "  return a,b,c\n",
        "\n",
        "#returnExample(10,20,30) #20,30,40\n",
        "x,y,z=returnExample(20,30,40)\n",
        "print(x,y,z)\n"
      ]
    },
    {
      "cell_type": "markdown",
      "metadata": {
        "id": "xqNg9sAipnJ6"
      },
      "source": [
        "#### **Anonymous (Lambda) Functions**\n",
        "* an Anonymous function is known as Lambda function\n",
        "* It is also called as no name or nameless or without name function\n",
        "* It is used as inline function.\n",
        "* This function can have any number of  parameter but can have just one statement\n",
        "* Lambda is a keyword that return a function object and does not create a name in the local namespace"
      ]
    },
    {
      "cell_type": "code",
      "execution_count": null,
      "metadata": {
        "colab": {
          "base_uri": "https://localhost:8080/"
        },
        "id": "caHW6SSVpDfU",
        "outputId": "7a6a7cb4-7970-434c-ee3c-712b69f7f5d1"
      },
      "outputs": [
        {
          "data": {
            "text/plain": [
              "4"
            ]
          },
          "execution_count": 222,
          "metadata": {},
          "output_type": "execute_result"
        }
      ],
      "source": [
        "def square_func(x):\n",
        "  return x**2\n",
        "\n",
        "square_func(2)"
      ]
    },
    {
      "cell_type": "code",
      "execution_count": null,
      "metadata": {
        "id": "Tk2Nf_2sqlgZ"
      },
      "outputs": [],
      "source": [
        "#equivalent to above function\n",
        "square_num=lambda x:x**2"
      ]
    },
    {
      "cell_type": "code",
      "execution_count": null,
      "metadata": {
        "colab": {
          "base_uri": "https://localhost:8080/"
        },
        "id": "zN7uooL3qsBS",
        "outputId": "f84166e8-7f70-4f29-da92-dba7a2939056"
      },
      "outputs": [
        {
          "data": {
            "text/plain": [
              "4"
            ]
          },
          "execution_count": 226,
          "metadata": {},
          "output_type": "execute_result"
        }
      ],
      "source": [
        "square_num(2)"
      ]
    },
    {
      "cell_type": "markdown",
      "metadata": {
        "id": "K4L2E9-4sHAX"
      },
      "source": [
        "**Generator**\n",
        "1. Python Generator are simple way of creating iterators.\n",
        "2. It is used to generate the sequence of number.\n",
        "3. A generator in python makes use of the yield keyword.\n",
        "4. if we define a function with yield statement then it treated as generator function.\n",
        "5. A generator may have any number of ‘yield’ statements.\n",
        "6. A generator does not need a class in python.\n",
        "7. To write a python generator, you can either use a Python function or a comprehension.\n",
        "8. Generator in python let us write fast and compact code.\n",
        "9. A generator returns a generator object\n",
        "\n",
        "**Application**\n",
        "\n",
        "1. To Implement countdown.\n",
        "2. To Generate first n number.\n",
        "3. To generate fibonacci Series.\n",
        "\n",
        "**Advantages**\n",
        "1. best suitable for web scappring\n",
        "2. performance will be improved\n",
        "3. memory utilization is improved when compared with normal iterators\n",
        "generators are easy to use"
      ]
    },
    {
      "cell_type": "markdown",
      "metadata": {
        "id": "dR48cWblrUyv"
      },
      "source": [
        "Normal functions execute and return a single result at a time, generators can return a sequence of multiple values by pausing and resuming execution each time the generator is used. To create a generator, use the **yield** keyword instead of return in a function:"
      ]
    },
    {
      "cell_type": "code",
      "execution_count": null,
      "metadata": {
        "id": "Ro-cY_8wqtnl"
      },
      "outputs": [],
      "source": [
        "def countdown(num):\n",
        "  n=1\n",
        "  while n<=num:\n",
        "    yield n\n",
        "    n=n+1"
      ]
    },
    {
      "cell_type": "code",
      "execution_count": null,
      "metadata": {
        "colab": {
          "base_uri": "https://localhost:8080/"
        },
        "id": "4NjEW-ycs7yl",
        "outputId": "4a68b739-6d12-4d3a-fc93-782ced9cd3d3"
      },
      "outputs": [
        {
          "name": "stdout",
          "output_type": "stream",
          "text": [
            "<generator object countdown at 0x7f7db79f45f0>\n"
          ]
        }
      ],
      "source": [
        "count=countdown(5)\n",
        "print(count)"
      ]
    },
    {
      "cell_type": "code",
      "execution_count": null,
      "metadata": {
        "colab": {
          "base_uri": "https://localhost:8080/"
        },
        "id": "nskoCiKBshda",
        "outputId": "dc750316-9815-4d6a-fa08-504a423ae845"
      },
      "outputs": [
        {
          "name": "stdout",
          "output_type": "stream",
          "text": [
            "<class 'function'>\n",
            "1\n",
            "2\n",
            "3\n",
            "4\n",
            "5\n"
          ]
        }
      ],
      "source": [
        "for i in countdown(5):\n",
        "    print(i)"
      ]
    },
    {
      "cell_type": "markdown",
      "metadata": {
        "id": "QkXpP8-RurNL"
      },
      "source": [
        "#### **itertools module**\n",
        "The standard library itertools module has a collection of generators for many common data algorithms.\n",
        "* combinations\n",
        "* groupby\n",
        "* permutations\n",
        "* product"
      ]
    },
    {
      "cell_type": "code",
      "execution_count": null,
      "metadata": {
        "id": "cnRH9l3msmqD"
      },
      "outputs": [],
      "source": [
        "import itertools\n",
        "def first_letter(x):\n",
        "  return x[0]\n"
      ]
    },
    {
      "cell_type": "code",
      "execution_count": null,
      "metadata": {
        "colab": {
          "base_uri": "https://localhost:8080/"
        },
        "id": "krVfLYBlvJ4Q",
        "outputId": "158b6649-dc00-4c31-f686-4d24b7eb6515"
      },
      "outputs": [
        {
          "name": "stdout",
          "output_type": "stream",
          "text": [
            "N ['Nitesh', 'Nit']\n",
            "S ['Sam', 'Steve']\n",
            "W ['Wick']\n",
            "Z ['Zoo']\n"
          ]
        }
      ],
      "source": [
        "name=[\"Nitesh\",\"Nit\",\"Sam\",\"Steve\",\"Wick\",\"Zoo\"]\n",
        "for letter,names in itertools.groupby(name,first_letter):\n",
        "  print(letter,list(names))\n"
      ]
    },
    {
      "cell_type": "markdown",
      "metadata": {
        "id": "kdNYtpHkwYVL"
      },
      "source": [
        "#### **Exception Handling**\n",
        "Error in Python can be of two types i.e. Syntax errors and Exceptions. \n",
        "\n",
        "**Errors** are problems in a program due to which the program will stop the execution. On the other hand, **exceptions** are raised when some internal events occur which change the normal flow of the program."
      ]
    },
    {
      "cell_type": "markdown",
      "metadata": {
        "id": "3Jtx64WA18Ww"
      },
      "source": [
        "In Python, there are several built-in exceptions that can be raised when an error occurs during the execution of a program. Here are some of the most common types of exceptions in Python:\n",
        "\n",
        "**SyntaxError:** This exception is raised when the interpreter encounters a syntax error in the code, such as a misspelled keyword, a missing colon, or an unbalanced parenthesis.\n",
        "\n",
        "**TypeError:** This exception is raised when an operation or function is applied to an object of the wrong type, such as adding a string to an integer.\n",
        "\n",
        "**NameError:** This exception is raised when a variable or function name is not found in the current scope.\n",
        "\n",
        "**IndexError:** This exception is raised when an index is out of range for a list, tuple, or other sequence types.\n",
        "\n",
        "**KeyError:** This exception is raised when a key is not found in a dictionary.\n",
        "\n",
        "**ValueError:** This exception is raised when a function or method is called with an invalid argument or input, such as trying to convert a string to an integer when the string does not represent a valid integer.\n",
        "\n",
        "**AttributeError:** This exception is raised when an attribute or method is not found on an object, such as trying to access a non-existent attribute of a class instance.\n",
        "\n",
        "**IOError:** This exception is raised when an I/O operation, such as reading or writing a file, fails due to an input/output error.\n",
        "\n",
        "**ZeroDivisionError:** This exception is raised when an attempt is made to divide a number by zero.\n",
        "\n",
        "**ImportError:** This exception is raised when an import statement fails to find or load a module."
      ]
    },
    {
      "cell_type": "markdown",
      "metadata": {
        "id": "cY_nSEdW18T-"
      },
      "source": [
        "Try,raise and finally keywords is used with exception handling.\n",
        "we put risky code under a try block"
      ]
    },
    {
      "cell_type": "code",
      "execution_count": null,
      "metadata": {
        "colab": {
          "base_uri": "https://localhost:8080/",
          "height": 322
        },
        "id": "sLQJvD_LvoHA",
        "outputId": "81472d10-1d23-4d50-80e8-72902344d369"
      },
      "outputs": [
        {
          "ename": "ZeroDivisionError",
          "evalue": "ignored",
          "output_type": "error",
          "traceback": [
            "\u001b[0;31m---------------------------------------------------------------------------\u001b[0m",
            "\u001b[0;31mZeroDivisionError\u001b[0m                         Traceback (most recent call last)",
            "\u001b[0;32m<ipython-input-235-a10605c65b8c>\u001b[0m in \u001b[0;36m<cell line: 6>\u001b[0;34m()\u001b[0m\n\u001b[1;32m      4\u001b[0m   \u001b[0;32mreturn\u001b[0m \u001b[0mmarks\u001b[0m\u001b[0;34m/\u001b[0m\u001b[0;36m0\u001b[0m\u001b[0;34m\u001b[0m\u001b[0;34m\u001b[0m\u001b[0m\n\u001b[1;32m      5\u001b[0m \u001b[0;34m\u001b[0m\u001b[0m\n\u001b[0;32m----> 6\u001b[0;31m \u001b[0mmark_cal\u001b[0m\u001b[0;34m(\u001b[0m\u001b[0;36m100\u001b[0m\u001b[0;34m)\u001b[0m\u001b[0;34m\u001b[0m\u001b[0;34m\u001b[0m\u001b[0m\n\u001b[0m",
            "\u001b[0;32m<ipython-input-235-a10605c65b8c>\u001b[0m in \u001b[0;36mmark_cal\u001b[0;34m(marks)\u001b[0m\n\u001b[1;32m      2\u001b[0m \u001b[0;34m\u001b[0m\u001b[0m\n\u001b[1;32m      3\u001b[0m \u001b[0;32mdef\u001b[0m \u001b[0mmark_cal\u001b[0m\u001b[0;34m(\u001b[0m\u001b[0mmarks\u001b[0m\u001b[0;34m)\u001b[0m\u001b[0;34m:\u001b[0m\u001b[0;34m\u001b[0m\u001b[0;34m\u001b[0m\u001b[0m\n\u001b[0;32m----> 4\u001b[0;31m   \u001b[0;32mreturn\u001b[0m \u001b[0mmarks\u001b[0m\u001b[0;34m/\u001b[0m\u001b[0;36m0\u001b[0m\u001b[0;34m\u001b[0m\u001b[0;34m\u001b[0m\u001b[0m\n\u001b[0m\u001b[1;32m      5\u001b[0m \u001b[0;34m\u001b[0m\u001b[0m\n\u001b[1;32m      6\u001b[0m \u001b[0mmark_cal\u001b[0m\u001b[0;34m(\u001b[0m\u001b[0;36m100\u001b[0m\u001b[0;34m)\u001b[0m\u001b[0;34m\u001b[0m\u001b[0;34m\u001b[0m\u001b[0m\n",
            "\u001b[0;31mZeroDivisionError\u001b[0m: division by zero"
          ]
        }
      ],
      "source": [
        "#Exceptions are raised when the program is syntactically correct, but the code results in an error. \n",
        "\n",
        "def mark_cal(marks):\n",
        "  return marks/0\n",
        "\n",
        "mark_cal(100)"
      ]
    },
    {
      "cell_type": "code",
      "execution_count": null,
      "metadata": {
        "colab": {
          "base_uri": "https://localhost:8080/",
          "height": 201
        },
        "id": "e9Q1zuuk3mg7",
        "outputId": "62a5f4a7-8fb7-4b39-bba9-ab0d46d673ae"
      },
      "outputs": [
        {
          "ename": "TypeError",
          "evalue": "ignored",
          "output_type": "error",
          "traceback": [
            "\u001b[0;31m---------------------------------------------------------------------------\u001b[0m",
            "\u001b[0;31mTypeError\u001b[0m                                 Traceback (most recent call last)",
            "\u001b[0;32m<ipython-input-236-de8be33ac5bb>\u001b[0m in \u001b[0;36m<cell line: 3>\u001b[0;34m()\u001b[0m\n\u001b[1;32m      1\u001b[0m \u001b[0ma\u001b[0m\u001b[0;34m=\u001b[0m\u001b[0;36m10\u001b[0m\u001b[0;34m\u001b[0m\u001b[0;34m\u001b[0m\u001b[0m\n\u001b[1;32m      2\u001b[0m \u001b[0mb\u001b[0m\u001b[0;34m=\u001b[0m\u001b[0;34m'Nitesh'\u001b[0m\u001b[0;34m\u001b[0m\u001b[0;34m\u001b[0m\u001b[0m\n\u001b[0;32m----> 3\u001b[0;31m \u001b[0mprint\u001b[0m\u001b[0;34m(\u001b[0m\u001b[0ma\u001b[0m\u001b[0;34m+\u001b[0m\u001b[0mb\u001b[0m\u001b[0;34m)\u001b[0m\u001b[0;34m\u001b[0m\u001b[0;34m\u001b[0m\u001b[0m\n\u001b[0m",
            "\u001b[0;31mTypeError\u001b[0m: unsupported operand type(s) for +: 'int' and 'str'"
          ]
        }
      ],
      "source": [
        "a=10\n",
        "b='Nitesh'\n",
        "print(a+b)"
      ]
    },
    {
      "cell_type": "code",
      "execution_count": null,
      "metadata": {
        "id": "qiWQNKT63tKL"
      },
      "outputs": [],
      "source": [
        "#try catch block is used to resolve the above problem\n",
        "def mark_cal(a,b):\n",
        "  try:\n",
        "    return a/b\n",
        "  except:\n",
        "    return 'please enter valid value of b'\n",
        "\n"
      ]
    },
    {
      "cell_type": "code",
      "execution_count": null,
      "metadata": {
        "colab": {
          "base_uri": "https://localhost:8080/",
          "height": 35
        },
        "id": "2HpcLtcx4C5J",
        "outputId": "c1f74149-2e8a-499a-d78c-d4756c7b8f24"
      },
      "outputs": [
        {
          "data": {
            "application/vnd.google.colaboratory.intrinsic+json": {
              "type": "string"
            },
            "text/plain": [
              "'please enter valid value of b'"
            ]
          },
          "execution_count": 238,
          "metadata": {},
          "output_type": "execute_result"
        }
      ],
      "source": [
        "mark_cal(10,0)"
      ]
    },
    {
      "cell_type": "code",
      "execution_count": null,
      "metadata": {
        "id": "n7GCLcZ64FI7"
      },
      "outputs": [],
      "source": [
        "def mark_cal(a,b):\n",
        "  try:\n",
        "    if a>b:\n",
        "      return a/b\n",
        "    else:\n",
        "      return a+b\n",
        "\n",
        "  except ZeroDivisionError:\n",
        "    return 'ZeroDivisionError Occurred and Handled'\n",
        "  except TypeError:\n",
        "    return 'NameError Occurred and Handled'\n",
        "  except Exception as e:\n",
        "    return f'error occurred due to {str(e)}'"
      ]
    },
    {
      "cell_type": "code",
      "execution_count": null,
      "metadata": {
        "colab": {
          "base_uri": "https://localhost:8080/",
          "height": 35
        },
        "id": "NT4itWks49xX",
        "outputId": "a04786ad-bb6e-48fc-8a4b-666d7e26d19d"
      },
      "outputs": [
        {
          "data": {
            "application/vnd.google.colaboratory.intrinsic+json": {
              "type": "string"
            },
            "text/plain": [
              "'ZeroDivisionError Occurred and Handled'"
            ]
          },
          "execution_count": 261,
          "metadata": {},
          "output_type": "execute_result"
        }
      ],
      "source": [
        "mark_cal(10,0)"
      ]
    },
    {
      "cell_type": "code",
      "execution_count": null,
      "metadata": {
        "colab": {
          "base_uri": "https://localhost:8080/",
          "height": 35
        },
        "id": "fyFYxmVj5AE0",
        "outputId": "17c943ab-5746-4eee-85d6-0782d4a8ddb4"
      },
      "outputs": [
        {
          "data": {
            "application/vnd.google.colaboratory.intrinsic+json": {
              "type": "string"
            },
            "text/plain": [
              "'NameError Occurred and Handled'"
            ]
          },
          "execution_count": 263,
          "metadata": {},
          "output_type": "execute_result"
        }
      ],
      "source": [
        "mark_cal(10,'Nitesh')"
      ]
    },
    {
      "cell_type": "markdown",
      "metadata": {
        "id": "SHupfxM76WJx"
      },
      "source": [
        "Python provides a keyword **finally,** which is always executed after the try and except blocks. "
      ]
    },
    {
      "cell_type": "code",
      "execution_count": null,
      "metadata": {
        "id": "ccnP7XMr5bog"
      },
      "outputs": [],
      "source": [
        "def exceptDemo(a,b):\n",
        "  try:\n",
        "    print(a/b)\n",
        "  except Exception as e:\n",
        "     print('Error Occurred due to',str(e))\n",
        "  finally:\n",
        "    print('Finally Executed')\n"
      ]
    },
    {
      "cell_type": "code",
      "execution_count": null,
      "metadata": {
        "colab": {
          "base_uri": "https://localhost:8080/"
        },
        "id": "dT0uSvZ86yJJ",
        "outputId": "1ce78453-f23c-4b4c-9079-65ae91562133"
      },
      "outputs": [
        {
          "name": "stdout",
          "output_type": "stream",
          "text": [
            "2.5\n",
            "Finally Executed\n"
          ]
        }
      ],
      "source": [
        "exceptDemo(10,4)"
      ]
    },
    {
      "cell_type": "markdown",
      "metadata": {
        "id": "FWgBTHhZ7QNu"
      },
      "source": [
        "#### Raising Exception\n",
        "The raise statement allows the programmer to force a specific exception to occur. "
      ]
    },
    {
      "cell_type": "code",
      "execution_count": null,
      "metadata": {
        "id": "PoClURH663PT"
      },
      "outputs": [],
      "source": [
        "def Raise_Exception():    \n",
        "    try:\n",
        "        raise NameError(\"Hi there\")  # Raise Error\n",
        "    except NameError:\n",
        "        print (\"An exception caught which is raised by user\")"
      ]
    },
    {
      "cell_type": "code",
      "execution_count": null,
      "metadata": {
        "colab": {
          "base_uri": "https://localhost:8080/"
        },
        "id": "rMJlc6eQ7vd6",
        "outputId": "4ade2789-d06e-4697-a4d5-27f3584a714d"
      },
      "outputs": [
        {
          "name": "stdout",
          "output_type": "stream",
          "text": [
            "An exception caught which is raised by user\n"
          ]
        }
      ],
      "source": [
        "Raise_Exception()"
      ]
    },
    {
      "cell_type": "markdown",
      "metadata": {
        "id": "eypHMDF7Afju"
      },
      "source": [
        "#### Files and the Operating System\n"
      ]
    },
    {
      "cell_type": "markdown",
      "metadata": {
        "id": "MyhF1eNyBCzi"
      },
      "source": [
        "**Types of data used for I/O :**\n",
        "* Text\n",
        "* Binary\n",
        "\n",
        "**Type of file deal with**\n",
        "* Binary File --images,video,audio etc.\n",
        "* Text File --all program file.\n",
        "\n",
        "**Steps need to follow for any file operation**\n",
        "* Open File\n",
        "* Read/Write on file\n",
        "* Close File"
      ]
    },
    {
      "cell_type": "markdown",
      "metadata": {
        "id": "nIeC7ZdJBpI1"
      },
      "source": [
        "To open a file for reading or writing, use the built-in open function with either a relative or absolute file path and an optional file encoding:"
      ]
    },
    {
      "cell_type": "code",
      "execution_count": 1,
      "metadata": {
        "id": "cvtdrAbf7ww2"
      },
      "outputs": [],
      "source": [
        "f=open('temp.txt','w')\n",
        "f.write('Hello')\n",
        "f.close()"
      ]
    },
    {
      "cell_type": "code",
      "execution_count": 2,
      "metadata": {
        "colab": {
          "base_uri": "https://localhost:8080/"
        },
        "id": "jTeBLjBJB4Jk",
        "outputId": "3f5b641e-5d0c-4a51-95a2-ae9111b306b7"
      },
      "outputs": [
        {
          "name": "stdout",
          "output_type": "stream",
          "text": [
            "Hello\n"
          ]
        }
      ],
      "source": [
        "f=open('temp.txt','r')\n",
        "print(f.read())\n",
        "f.close()"
      ]
    },
    {
      "cell_type": "markdown",
      "metadata": {
        "id": "q0P2Z4hoCKtq"
      },
      "source": [
        "**r-**  Read-only mode.  \n",
        "\n",
        "**w**  Write-only mode; creates a new file (erasing the data for any file with the same name)\n",
        "\n",
        "**x** Write-only mode; creates a new file but fails if the file path already exists\n",
        "\n",
        "**a** Append to existing file (creates the file if it does not already exist)\n",
        "\n",
        "**r+** Read and write.\n",
        "\n",
        "**b** Add to mode for binary files (i.e., \"rb\" or \"wb\")\n",
        "\n",
        "**t** Text mode for files (automatically decoding bytes to Unicode); this is the default if not specified"
      ]
    },
    {
      "cell_type": "code",
      "execution_count": 4,
      "metadata": {
        "id": "Nls2G65UCCg1"
      },
      "outputs": [],
      "source": [
        "#For readable files, some of the most commonly used methods are read, seek, and\n",
        "#tell. read returns a certain number of characters from the file. \n",
        "\n",
        "f=open('temp.txt','w')\n",
        "f.write('New Line Added ')\n",
        "f.close()"
      ]
    },
    {
      "cell_type": "code",
      "execution_count": 6,
      "metadata": {
        "colab": {
          "base_uri": "https://localhost:8080/"
        },
        "id": "pnJCM9F6C_Ub",
        "outputId": "a78e0ad8-bbec-4787-ae5f-846325212d3b"
      },
      "outputs": [
        {
          "name": "stdout",
          "output_type": "stream",
          "text": [
            "New L\n"
          ]
        }
      ],
      "source": [
        "f=open('temp.txt','r')\n",
        "print(f.read(5))\n",
        "f.close()"
      ]
    },
    {
      "cell_type": "code",
      "execution_count": 8,
      "metadata": {
        "colab": {
          "base_uri": "https://localhost:8080/"
        },
        "id": "Y6JDgUFGDJQx",
        "outputId": "4bee5d4f-b4a0-4d15-8e33-2f81c8fad3f5"
      },
      "outputs": [
        {
          "name": "stdout",
          "output_type": "stream",
          "text": [
            "0\n"
          ]
        }
      ],
      "source": [
        "f=open('temp.txt','r')\n",
        "print(f.tell())  #tell gives you the current position\n",
        "f.close()"
      ]
    },
    {
      "cell_type": "code",
      "execution_count": 9,
      "metadata": {
        "colab": {
          "base_uri": "https://localhost:8080/"
        },
        "id": "TvABgZ6YDTyg",
        "outputId": "4ddc1059-7ea2-4d6f-f292-df4c050f3a75"
      },
      "outputs": [
        {
          "name": "stdout",
          "output_type": "stream",
          "text": [
            "5\n",
            "5\n",
            "ine Added \n"
          ]
        }
      ],
      "source": [
        "f=open('temp.txt','r') # open the file in read mode\n",
        "print(f.seek(5)) # seek changes the file position to the indicated byte in the file\n",
        "print(f.tell())  # tell gives you the current position\n",
        "print(f.read())  # reading file\n",
        "f.close()        # close the file\n"
      ]
    },
    {
      "cell_type": "code",
      "execution_count": 11,
      "metadata": {
        "id": "Y2griYC5D0wI"
      },
      "outputs": [],
      "source": [
        "#when we use with keyword we dont need to close the file manually it close automatically when we done our work\n",
        "\n",
        "with open('first_demo.txt','w') as f:\n",
        "  f.write('Hello New File is Created')\n"
      ]
    },
    {
      "cell_type": "code",
      "execution_count": 13,
      "metadata": {
        "colab": {
          "base_uri": "https://localhost:8080/"
        },
        "id": "t5u-WN8dEVg8",
        "outputId": "fd65df7b-9752-422b-fe03-ec35d393f4a3"
      },
      "outputs": [
        {
          "name": "stdout",
          "output_type": "stream",
          "text": [
            "Hello New File is Created\n"
          ]
        }
      ],
      "source": [
        "with open('first_demo.txt','r') as f:\n",
        "  print(f.read())"
      ]
    },
    {
      "cell_type": "code",
      "execution_count": 14,
      "metadata": {
        "id": "xP5NFTl0EeZU"
      },
      "outputs": [],
      "source": [
        "with open('first_demo.txt','a') as f:\n",
        "  f.write(' new line added')"
      ]
    },
    {
      "cell_type": "code",
      "execution_count": 15,
      "metadata": {
        "colab": {
          "base_uri": "https://localhost:8080/"
        },
        "id": "mQLaNjF9F3mt",
        "outputId": "9e639088-a306-4136-d3d5-087e647232e5"
      },
      "outputs": [
        {
          "name": "stdout",
          "output_type": "stream",
          "text": [
            "Hello New File is Created new line added\n"
          ]
        }
      ],
      "source": [
        "with open('first_demo.txt','r') as f:\n",
        "  print(f.read())"
      ]
    },
    {
      "cell_type": "markdown",
      "metadata": {
        "id": "oL634UY7F_s1"
      },
      "source": [
        "**read([size])**   \n",
        "Return data from file as bytes or string depending on the file mode, with optional size argument indicating the number of bytes or string characters to read.\n",
        "\n",
        "**readable()**  \n",
        "Return True if the file supports read operations.\n",
        "\n",
        "**readlines([size])**   \n",
        "Return list of lines in the file, with optional size argument.\n",
        "\n",
        "**write(string)**  \n",
        "Write passed string to file.\n",
        "\n",
        "**writable()**  \n",
        "Return True if the file supports write operations.\n",
        "\n",
        "**writelines(strings)**  \n",
        "Write passed sequence of strings to the file.\n",
        "\n",
        "**close()**  \n",
        "Close the file object.\n",
        "\n",
        "**flush()** \n",
        "Flush the internal I/O buffer to disk.\n",
        "\n",
        "**seek(pos)**  \n",
        "Move to indicated file position (integer).\n",
        "\n",
        "**seekable()**  \n",
        "Return True if the file object supports seeking and thus random access (some file-like objects do not)\n",
        "\n",
        "**tell()**  \n",
        "Return current file position as integer\n",
        "\n",
        "**closed** \n",
        "True if the file is closed.\n",
        "\n",
        "**encoding** \n",
        "The encoding used to interpret bytes in the file as Unicode (typically UTF-8)\n",
        "\n",
        "\n",
        "\n"
      ]
    },
    {
      "cell_type": "code",
      "execution_count": 16,
      "metadata": {
        "colab": {
          "base_uri": "https://localhost:8080/"
        },
        "id": "JOA0UbblF5Os",
        "outputId": "c82168e0-c104-4ce1-94f7-c987660ce882"
      },
      "outputs": [
        {
          "name": "stdout",
          "output_type": "stream",
          "text": [
            "Hello New File is Created new line added\n"
          ]
        }
      ],
      "source": [
        "with open('first_demo.txt','r') as f:\n",
        "  print(f.readline())"
      ]
    },
    {
      "cell_type": "code",
      "execution_count": null,
      "metadata": {
        "id": "wtt_yMjxHrmu"
      },
      "outputs": [],
      "source": []
    }
  ],
  "metadata": {
    "colab": {
      "provenance": []
    },
    "kernelspec": {
      "display_name": "Python 3",
      "name": "python3"
    },
    "language_info": {
      "name": "python"
    }
  },
  "nbformat": 4,
  "nbformat_minor": 0
}
