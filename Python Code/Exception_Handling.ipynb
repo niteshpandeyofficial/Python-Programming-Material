{
  "cells": [
    {
      "cell_type": "markdown",
      "metadata": {
        "id": "PTZrQ0JzL7TP"
      },
      "source": [
        "In Any programming language there are 2 type of possible errors.\n",
        "1. Syntax Error(Compile time Error)\n",
        "2. Runtime Error(Exception)"
      ]
    },
    {
      "cell_type": "markdown",
      "metadata": {
        "id": "EAIh_ZKaHpy9"
      },
      "source": [
        "#### Compile Time Error(Syntax Error)\n",
        "\n",
        "1. The errors which occurs because of invalid syntax,such type of error are considered as syntax errors.\n",
        "\n",
        "2. Programmer is responsible to correct these syntax errors.once all syntax errors are corrected ,then only program execution will be started.\n"
      ]
    },
    {
      "cell_type": "code",
      "execution_count": null,
      "metadata": {
        "colab": {
          "base_uri": "https://localhost:8080/",
          "height": 141
        },
        "id": "BAEL26gZG4fP",
        "outputId": "4879830e-4cd7-4144-c385-35a493979b6c"
      },
      "outputs": [
        {
          "ename": "SyntaxError",
          "evalue": "ignored",
          "output_type": "error",
          "traceback": [
            "\u001b[0;36m  File \u001b[0;32m\"<ipython-input-1-61d899e26740>\"\u001b[0;36m, line \u001b[0;32m3\u001b[0m\n\u001b[0;31m    print('Hello Friends)\u001b[0m\n\u001b[0m          ^\u001b[0m\n\u001b[0;31mSyntaxError\u001b[0m\u001b[0;31m:\u001b[0m unterminated string literal (detected at line 3)\n"
          ]
        }
      ],
      "source": [
        "x=10;\n",
        "if x==10:\n",
        "  print('Hello Friends)"
      ]
    },
    {
      "cell_type": "code",
      "execution_count": null,
      "metadata": {
        "colab": {
          "base_uri": "https://localhost:8080/",
          "height": 163
        },
        "id": "S4q7tl3hLZBF",
        "outputId": "763957c3-9c33-4f21-fcdc-78a54eb184eb"
      },
      "outputs": [
        {
          "ename": "NameError",
          "evalue": "ignored",
          "output_type": "error",
          "traceback": [
            "\u001b[0;31m---------------------------------------------------------------------------\u001b[0m",
            "\u001b[0;31mNameError\u001b[0m                                 Traceback (most recent call last)",
            "\u001b[0;32m<ipython-input-1-bb6465ea8c94>\u001b[0m in \u001b[0;36m<module>\u001b[0;34m()\u001b[0m\n\u001b[0;32m----> 1\u001b[0;31m \u001b[0mdf\u001b[0m\u001b[0;34m=\u001b[0m\u001b[0mpd\u001b[0m\u001b[0;34m.\u001b[0m\u001b[0mread_csv\u001b[0m\u001b[0;34m(\u001b[0m\u001b[0;34m''\u001b[0m\u001b[0;34m)\u001b[0m\u001b[0;34m\u001b[0m\u001b[0;34m\u001b[0m\u001b[0m\n\u001b[0m",
            "\u001b[0;31mNameError\u001b[0m: name 'pd' is not defined"
          ]
        }
      ],
      "source": [
        "#Example of compile time error\n",
        "df=pd.read_csv(' ')"
      ]
    },
    {
      "cell_type": "code",
      "execution_count": null,
      "metadata": {
        "colab": {
          "base_uri": "https://localhost:8080/",
          "height": 129
        },
        "id": "xwqL5XsWLpA2",
        "outputId": "003a4132-84a0-4b20-9a2b-f67d689a9e79"
      },
      "outputs": [
        {
          "ename": "SyntaxError",
          "evalue": "ignored",
          "output_type": "error",
          "traceback": [
            "\u001b[0;36m  File \u001b[0;32m\"<ipython-input-2-e15eb840bf47>\"\u001b[0;36m, line \u001b[0;32m1\u001b[0m\n\u001b[0;31m    print(\"Nitesh Pandey)\u001b[0m\n\u001b[0m                         ^\u001b[0m\n\u001b[0;31mSyntaxError\u001b[0m\u001b[0;31m:\u001b[0m EOL while scanning string literal\n"
          ]
        }
      ],
      "source": [
        "print(\"Nitesh Pandey)"
      ]
    },
    {
      "cell_type": "markdown",
      "metadata": {
        "id": "mLkjv5rOHuPj"
      },
      "source": [
        "#### Runtime Error(Exception)\n",
        "1. Also knows as Exceptions.\n",
        "2. while executing the program,at runtime if something goes wrong because of end user input,memory problems,programming logic etc,then we will get Runtime Errors.\n",
        "\n",
        "3. Exception handling concept applicable for runtime errors but not for syntax errors."
      ]
    },
    {
      "cell_type": "markdown",
      "metadata": {
        "id": "6Y_HyuutOk2j"
      },
      "source": [
        "#### Exception\n",
        "An unwanted and unexpected event that disturbs normal flow of program is called Exception.\n",
        "\n",
        "Eg:  \n",
        "1. Zero Division Error.\n",
        "2. Value Error.\n",
        "3. File Not Found Error.\n",
        "\n",
        "The Main Objective of exception handling is graceful/normal termination of the application(i.e we should not block our resources and we should not miss anything.)"
      ]
    },
    {
      "cell_type": "code",
      "execution_count": null,
      "metadata": {
        "colab": {
          "base_uri": "https://localhost:8080/",
          "height": 245
        },
        "id": "NSwGvZD-G4b-",
        "outputId": "c0723c6c-9198-45f6-c7f3-8eb757742cc1"
      },
      "outputs": [
        {
          "name": "stdout",
          "output_type": "stream",
          "text": [
            "Enter the first number:4\n",
            "Enter the second number:0\n"
          ]
        },
        {
          "ename": "ZeroDivisionError",
          "evalue": "ignored",
          "output_type": "error",
          "traceback": [
            "\u001b[0;31m---------------------------------------------------------------------------\u001b[0m",
            "\u001b[0;31mZeroDivisionError\u001b[0m                         Traceback (most recent call last)",
            "\u001b[0;32m<ipython-input-3-52b4f011509f>\u001b[0m in \u001b[0;36m<cell line: 4>\u001b[0;34m()\u001b[0m\n\u001b[1;32m      2\u001b[0m \u001b[0my\u001b[0m\u001b[0;34m=\u001b[0m\u001b[0mint\u001b[0m\u001b[0;34m(\u001b[0m\u001b[0minput\u001b[0m\u001b[0;34m(\u001b[0m\u001b[0;34m'Enter the second number:'\u001b[0m\u001b[0;34m)\u001b[0m\u001b[0;34m)\u001b[0m\u001b[0;34m\u001b[0m\u001b[0;34m\u001b[0m\u001b[0m\n\u001b[1;32m      3\u001b[0m \u001b[0;34m\u001b[0m\u001b[0m\n\u001b[0;32m----> 4\u001b[0;31m \u001b[0mprint\u001b[0m\u001b[0;34m(\u001b[0m\u001b[0mx\u001b[0m\u001b[0;34m/\u001b[0m\u001b[0my\u001b[0m\u001b[0;34m)\u001b[0m\u001b[0;34m\u001b[0m\u001b[0;34m\u001b[0m\u001b[0m\n\u001b[0m",
            "\u001b[0;31mZeroDivisionError\u001b[0m: division by zero"
          ]
        }
      ],
      "source": [
        "x=int(input('Enter the first number:'))\n",
        "y=int(input('Enter the second number:'))\n",
        "\n",
        "print(x/y)"
      ]
    },
    {
      "cell_type": "markdown",
      "metadata": {
        "id": "nc-wAvZQTsob"
      },
      "source": [
        "#### Python Exception Hierarchy\n",
        "![abc.png](data:image/png;base64,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)"
      ]
    },
    {
      "cell_type": "markdown",
      "metadata": {
        "id": "shQarRWGR7Fi"
      },
      "source": [
        "1. Whenever an exception occurs PVM will create the cooresponding exception object and will check for handling code.if handling code is available then it will be executed and rest of the program will be executed normally.\n",
        "\n",
        "2. If handling code is not available then PVM will terminates program abnormally and print corresponding exception information to the consol.The rest of the program won't be executed.\n",
        "\n",
        "3. It is highly recommended to handle exceptions.the code which may raise an exception is called risky code and we have to take that risky code inside try block.\n",
        "\n",
        "4. The corresponding handling code we have to take inside except block."
      ]
    },
    {
      "cell_type": "markdown",
      "metadata": {
        "id": "D6MszfLFQB_H"
      },
      "source": [
        "try and except always handle run time exception not compile time error.\n",
        "1. try--except\n",
        "2. try--except--else\n",
        "3. try--except-else-finally"
      ]
    },
    {
      "cell_type": "markdown",
      "metadata": {
        "id": "OfjNNcxdgRsi"
      },
      "source": [
        "#### try--except"
      ]
    },
    {
      "cell_type": "code",
      "execution_count": null,
      "metadata": {
        "colab": {
          "base_uri": "https://localhost:8080/"
        },
        "id": "hXjVhmAmXYZb",
        "outputId": "5688d4a7-6178-4e60-aa76-07fb57fd89c8"
      },
      "outputs": [
        {
          "name": "stdout",
          "output_type": "stream",
          "text": [
            "Enter the number:0\n",
            "Divided by zero error\n"
          ]
        }
      ],
      "source": [
        "try:\n",
        "  a=10\n",
        "  b=int(input('Enter the number:'))\n",
        "  print(a/b)\n",
        "\n",
        "except:\n",
        "  print('Divided by zero error')"
      ]
    },
    {
      "cell_type": "code",
      "execution_count": null,
      "metadata": {
        "colab": {
          "base_uri": "https://localhost:8080/"
        },
        "id": "fBgaqhuqliNq",
        "outputId": "19342f97-d79b-4c7a-9dc1-45ff07a94ffe"
      },
      "outputs": [
        {
          "name": "stdout",
          "output_type": "stream",
          "text": [
            "Exception type is <class 'ZeroDivisionError'>\n",
            "Exception class is <class 'ZeroDivisionError'>\n",
            "Exception class Name is ZeroDivisionError\n",
            "Description of exception division by zero\n"
          ]
        }
      ],
      "source": [
        "try:\n",
        "  print(10/0)\n",
        "except ZeroDivisionError as msg: #zero division error exception\n",
        "  print('Exception type is',type(msg))\n",
        "  print('Exception class is',msg.__class__)\n",
        "  print('Exception class Name is',msg.__class__.__name__)\n",
        "  print('Description of exception',msg)"
      ]
    },
    {
      "cell_type": "code",
      "execution_count": null,
      "metadata": {
        "colab": {
          "base_uri": "https://localhost:8080/"
        },
        "id": "OeBrgtN6mhJb",
        "outputId": "2f9f2ade-2f56-4081-a7a4-7e5f0adad1f9"
      },
      "outputs": [
        {
          "name": "stdout",
          "output_type": "stream",
          "text": [
            "Exception type is <class 'ZeroDivisionError'>\n",
            "Exception class is <class 'ZeroDivisionError'>\n",
            "Exception class Name is ZeroDivisionError\n",
            "Description of exception division by zero\n"
          ]
        }
      ],
      "source": [
        "try:\n",
        "  print(10/0)\n",
        "except BaseException as msg: ##base exception\n",
        "  print('Exception type is',type(msg))\n",
        "  print('Exception class is',msg.__class__)\n",
        "  print('Exception class Name is',msg.__class__.__name__)\n",
        "  print('Description of exception',msg)"
      ]
    },
    {
      "cell_type": "code",
      "execution_count": null,
      "metadata": {
        "colab": {
          "base_uri": "https://localhost:8080/"
        },
        "id": "-BARzJbNm2z_",
        "outputId": "1acdadc6-e42d-40bb-c9e2-dd1cd1c027df"
      },
      "outputs": [
        {
          "name": "stdout",
          "output_type": "stream",
          "text": [
            "enter the number:rf\n",
            "Exception type is <class 'ValueError'>\n",
            "Exception class is <class 'ValueError'>\n",
            "Exception class Name is ValueError\n",
            "Description of exception invalid literal for int() with base 10: 'rf'\n"
          ]
        }
      ],
      "source": [
        "try:\n",
        "  n=int(input('enter the number:')) ##error occurred due to input data\n",
        "  print(10/0)\n",
        "except BaseException as msg: ##base exception\n",
        "  print('Exception type is',type(msg))\n",
        "  print('Exception class is',msg.__class__)\n",
        "  print('Exception class Name is',msg.__class__.__name__)\n",
        "  print('Description of exception',msg)"
      ]
    },
    {
      "cell_type": "markdown",
      "metadata": {
        "id": "sn-kQK28pg8X"
      },
      "source": [
        "If we try with multiple except blocks available then the order of these except block is important.Python virtual machine will always consider from top to bottom until match except block identified."
      ]
    },
    {
      "cell_type": "code",
      "execution_count": null,
      "metadata": {
        "colab": {
          "base_uri": "https://localhost:8080/"
        },
        "id": "ihusk2MFo9jr",
        "outputId": "90b206f3-5e6d-4cdd-ab2b-394a3d8efb60"
      },
      "outputs": [
        {
          "name": "stdout",
          "output_type": "stream",
          "text": [
            "Enter first number:2\n",
            "Enter second number:t\n",
            "please provide valid value only\n"
          ]
        }
      ],
      "source": [
        "try:\n",
        "  x=int(input('Enter first number:'))\n",
        "  y=int(input('Enter second number:'))\n",
        "  print(x/y)\n",
        "\n",
        "except ZeroDivisionError :\n",
        "  print('Can not divide by zero')\n",
        "\n",
        "except ValueError:\n",
        "  print('please provide valid value only')"
      ]
    },
    {
      "cell_type": "code",
      "execution_count": null,
      "metadata": {
        "colab": {
          "base_uri": "https://localhost:8080/"
        },
        "id": "kzd44U4IpXKN",
        "outputId": "cc2a53ed-ee62-4c9c-e32c-723159ee7aff"
      },
      "outputs": [
        {
          "name": "stdout",
          "output_type": "stream",
          "text": [
            "Enter first number:2\n",
            "Enter second number:0\n",
            "Can not divide by zero\n"
          ]
        }
      ],
      "source": [
        "try:\n",
        "  x=int(input('Enter first number:'))\n",
        "  y=int(input('Enter second number:'))\n",
        "  print(x/y)\n",
        "\n",
        "except ZeroDivisionError :\n",
        "  print('Can not divide by zero')\n",
        "\n",
        "except ValueError:\n",
        "  print('please provide valid value only')"
      ]
    },
    {
      "cell_type": "markdown",
      "metadata": {
        "id": "c3hAtNQfrGkr"
      },
      "source": [
        "#### Multi except block for handling the exception"
      ]
    },
    {
      "cell_type": "code",
      "execution_count": null,
      "metadata": {
        "colab": {
          "base_uri": "https://localhost:8080/"
        },
        "id": "NGJ7FT22qzi0",
        "outputId": "d5c8ec57-ba0e-43ff-819d-56e0313f45c7"
      },
      "outputs": [
        {
          "name": "stdout",
          "output_type": "stream",
          "text": [
            "Enter first number:1\n",
            "Enter second number:0\n",
            "class of exception <class 'ZeroDivisionError'>\n",
            "description of error division by zero\n"
          ]
        }
      ],
      "source": [
        "try:\n",
        "  x=int(input('Enter first number:'))\n",
        "  y=int(input('Enter second number:'))\n",
        "  print(x/y)\n",
        "\n",
        "except (ZeroDivisionError,ValueError) as msg:\n",
        "\n",
        "  print('class of exception',msg.__class__)\n",
        "  print('description of error',msg)\n"
      ]
    },
    {
      "cell_type": "code",
      "execution_count": null,
      "metadata": {
        "colab": {
          "base_uri": "https://localhost:8080/"
        },
        "id": "0brJnLAWq_vv",
        "outputId": "033f9a19-6cd4-4cb4-88fe-6ccae1b512d6"
      },
      "outputs": [
        {
          "name": "stdout",
          "output_type": "stream",
          "text": [
            "Enter first number:t\n",
            "class of exception <class 'ValueError'>\n",
            "description of error invalid literal for int() with base 10: 't'\n"
          ]
        }
      ],
      "source": [
        "try:\n",
        "  x=int(input('Enter first number:'))\n",
        "  y=int(input('Enter second number:'))\n",
        "  print(x/y)\n",
        "\n",
        "except (ZeroDivisionError,ValueError) as msg:\n",
        "  print('class of exception',msg.__class__)\n",
        "  print('description of error',msg)"
      ]
    },
    {
      "cell_type": "markdown",
      "metadata": {
        "id": "KOSwbMXCzZ_X"
      },
      "source": [
        "#### Default Except Block\n",
        "1. If default except block is defined then compulsory it must be last except block,otherwise we will get syntax error.\n",
        "2. This restriction is applicable only for default except block but not for normal except block. i.e normal except blocks can be in any order."
      ]
    },
    {
      "cell_type": "code",
      "execution_count": null,
      "metadata": {
        "colab": {
          "base_uri": "https://localhost:8080/"
        },
        "id": "A06Re2iQy8V9",
        "outputId": "afc7f086-b387-43fe-b6ac-f132e24e3b69"
      },
      "outputs": [
        {
          "name": "stdout",
          "output_type": "stream",
          "text": [
            "Enter number:r\n",
            "Error occurred due to invalid literal for int() with base 10: 'r'\n"
          ]
        }
      ],
      "source": [
        "try:\n",
        "  x=int(input('Enter number:'))\n",
        "  y=int(input('Enter number:'))\n",
        "\n",
        "except ZeroDivisionError :\n",
        "  print('Division by zero error')\n",
        "\n",
        "except Exception as e:\n",
        "  print('Error occurred due to',str(e))"
      ]
    },
    {
      "cell_type": "markdown",
      "metadata": {
        "id": "hLnoYGsD2Rn4"
      },
      "source": [
        "1. It is not recommended to place cleanup code inside try block, because there is no guarantee for execution of every statement inside try block.\n",
        "\n",
        "2. It is not recommended to place cleanup code inside except block,because if there is no exception then except block won't be executed.\n",
        "\n",
        "3. Hence we required some place to maintain the cleanup code which is finally block.\n",
        "\n",
        "4. The speciality of finalyy block is,it will be executed always irrespective of whether exception raised or not and whether exception handled or not."
      ]
    },
    {
      "cell_type": "code",
      "execution_count": null,
      "metadata": {
        "colab": {
          "base_uri": "https://localhost:8080/"
        },
        "id": "MGv21zEF3q3N",
        "outputId": "fefb9e21-e6ca-44fb-bf64-916899b761b0"
      },
      "outputs": [
        {
          "name": "stdout",
          "output_type": "stream",
          "text": [
            "2.5\n",
            "This block is always executed\n"
          ]
        }
      ],
      "source": [
        "#Case-1\n",
        "x=10\n",
        "y=4\n",
        "try:\n",
        "  print(x/y)\n",
        "except Exception :\n",
        "  print('Error Occurred')\n",
        "\n",
        "finally:\n",
        "  print('This block is always executed')"
      ]
    },
    {
      "cell_type": "code",
      "execution_count": null,
      "metadata": {
        "colab": {
          "base_uri": "https://localhost:8080/"
        },
        "id": "_dLWbITC37WZ",
        "outputId": "daabf4aa-a500-4501-9a04-9b4d84c33acc"
      },
      "outputs": [
        {
          "name": "stdout",
          "output_type": "stream",
          "text": [
            "Error Occurred\n",
            "This block is always executed\n"
          ]
        }
      ],
      "source": [
        "#Case-2\n",
        "x=10\n",
        "y=0\n",
        "try:\n",
        "  print(x/y)\n",
        "except Exception :\n",
        "  print('Error Occurred')\n",
        "\n",
        "finally:\n",
        "  print('This block is always executed')"
      ]
    },
    {
      "cell_type": "markdown",
      "metadata": {
        "id": "m3nzLSt-Omnx"
      },
      "source": [
        "#### else block\n",
        "\n",
        "1. if-else --> if condition is false then only else will be executed.\n",
        "2. for-else -->if loop executed without break then only else will be executed.\n",
        "3. while-else -->if loop executed without break then only else will be executed.\n",
        "\n"
      ]
    },
    {
      "cell_type": "code",
      "execution_count": null,
      "metadata": {
        "colab": {
          "base_uri": "https://localhost:8080/"
        },
        "id": "cpM3dL8zPKas",
        "outputId": "be44682f-89cc-4593-c130-8e53414e795c"
      },
      "outputs": [
        {
          "name": "stdout",
          "output_type": "stream",
          "text": [
            "Enter the value:5\n",
            "Good Bye\n"
          ]
        }
      ],
      "source": [
        "### if-else example\n",
        "a=int(input('Enter the value:'))\n",
        "if a>5:\n",
        "  print('Hello')\n",
        "else:\n",
        "  print('Good Bye')"
      ]
    },
    {
      "cell_type": "code",
      "execution_count": null,
      "metadata": {
        "colab": {
          "base_uri": "https://localhost:8080/"
        },
        "id": "y07XgsyyPxUG",
        "outputId": "f4eefe40-1d52-4557-b365-1c29983381ab"
      },
      "outputs": [
        {
          "name": "stdout",
          "output_type": "stream",
          "text": [
            "value of i is 0\n",
            "value of i is 1\n",
            "Else block executed.\n"
          ]
        }
      ],
      "source": [
        "### for-else example\n",
        "for i in range(2):\n",
        "  if i>3:\n",
        "    break\n",
        "  print('value of i is',i)\n",
        "else:\n",
        "  print('Else block executed.')"
      ]
    },
    {
      "cell_type": "code",
      "execution_count": null,
      "metadata": {
        "colab": {
          "base_uri": "https://localhost:8080/"
        },
        "id": "WQI92xP-Y471",
        "outputId": "9dd58ee2-5cd8-44fd-a95b-aff575450a09"
      },
      "outputs": [
        {
          "name": "stdout",
          "output_type": "stream",
          "text": [
            "7\n",
            "6\n",
            "5\n"
          ]
        }
      ],
      "source": [
        "### while else example\n",
        "n=7\n",
        "while True:\n",
        "  if n<=4:\n",
        "    break\n",
        "  print(n)\n",
        "  n=n-1\n",
        "else:\n",
        "  print('Else part executed') #not executed because loop terminate abnormally\n"
      ]
    },
    {
      "cell_type": "markdown",
      "metadata": {
        "id": "drc_gXyidnU_"
      },
      "source": [
        "1. We can use else block with try-except-finally blocks.\n",
        "2. If there is no exception in try block then only else will be executed."
      ]
    },
    {
      "cell_type": "code",
      "execution_count": null,
      "metadata": {
        "colab": {
          "base_uri": "https://localhost:8080/"
        },
        "id": "TLKLBa4aeail",
        "outputId": "b08f580d-f343-4615-e63a-1602047e10e7"
      },
      "outputs": [
        {
          "name": "stdout",
          "output_type": "stream",
          "text": [
            "Risky Code\n",
            "will be executed if there is no exception inside try\n",
            "clean up code.will be executed whether exception raised or not raised and handled or not\n"
          ]
        }
      ],
      "source": [
        "try:\n",
        "  print('Risky Code')\n",
        "except:\n",
        "  print('Handling code will be executed if an exception inside try')\n",
        "else:\n",
        "  print('will be executed if there is no exception inside try')\n",
        "\n",
        "finally:\n",
        "  print('clean up code.will be executed whether exception raised or not raised and handled or not')"
      ]
    },
    {
      "cell_type": "code",
      "execution_count": null,
      "metadata": {
        "colab": {
          "base_uri": "https://localhost:8080/"
        },
        "id": "ynyVXp3vXo8z",
        "outputId": "d11614af-5835-4223-c21f-e87bc6554504"
      },
      "outputs": [
        {
          "name": "stdout",
          "output_type": "stream",
          "text": [
            "This file is not available\n",
            "Please check the file once again\n"
          ]
        }
      ],
      "source": [
        "#else is always work when we place it after except block--order should be fixed\n",
        "\n",
        "#case1: if error occurred in try block then the flow of execution will be except-finally.\n",
        "try :\n",
        "  f=open('xyz.txt','r')\n",
        "  f.write('This is new document')\n",
        "\n",
        "except:\n",
        "  print('This file is not available')\n",
        "\n",
        "else:\n",
        "  print('Try is working fine')\n",
        "\n",
        "finally:\n",
        "  print('Please check the file once again')\n"
      ]
    },
    {
      "cell_type": "code",
      "execution_count": null,
      "metadata": {
        "colab": {
          "base_uri": "https://localhost:8080/"
        },
        "id": "RT3GHSN6YCgk",
        "outputId": "2e49ed60-26d5-47b2-83fd-99e520ef1640"
      },
      "outputs": [
        {
          "name": "stdout",
          "output_type": "stream",
          "text": [
            "9\n",
            "Try is working fine\n",
            "Please check the file once again\n"
          ]
        }
      ],
      "source": [
        "#case2- If there is no issue in try block then flow of execution is try-->else-->finally.\n",
        "\n",
        "try :\n",
        "    print(4+5)\n",
        "\n",
        "except:\n",
        "  print('This file is not available')\n",
        "\n",
        "else:\n",
        "  print('Try is working fine')\n",
        "\n",
        "finally:\n",
        "  print('Please check the file once again')"
      ]
    },
    {
      "cell_type": "code",
      "execution_count": null,
      "metadata": {
        "colab": {
          "base_uri": "https://localhost:8080/",
          "height": 129
        },
        "id": "lXj6qNN3YzJV",
        "outputId": "b410e58f-295c-422e-b275-2abb51258698"
      },
      "outputs": [
        {
          "ename": "SyntaxError",
          "evalue": "ignored",
          "output_type": "error",
          "traceback": [
            "\u001b[0;36m  File \u001b[0;32m\"<ipython-input-10-9a27e8e98ea7>\"\u001b[0;36m, line \u001b[0;32m5\u001b[0m\n\u001b[0;31m    else:\u001b[0m\n\u001b[0m       ^\u001b[0m\n\u001b[0;31mSyntaxError\u001b[0m\u001b[0;31m:\u001b[0m invalid syntax\n"
          ]
        }
      ],
      "source": [
        "#case3-order should be restricted for else block else block must be follow by except block.\n",
        "\n",
        "try :\n",
        "    print(4+5)\n",
        "\n",
        "else:\n",
        "  print('Try is working fine')\n",
        "\n",
        "\n",
        "except:\n",
        "  print('This file is not available')\n",
        "\n",
        "finally:\n",
        "  print('Please check the file once again')"
      ]
    },
    {
      "cell_type": "code",
      "execution_count": null,
      "metadata": {
        "colab": {
          "base_uri": "https://localhost:8080/"
        },
        "id": "wCF6NgsIZHVW",
        "outputId": "9098fe16-75c8-4352-fd57-bd29fc987a55"
      },
      "outputs": [
        {
          "name": "stdout",
          "output_type": "stream",
          "text": [
            "9\n",
            "Please check the file once again\n"
          ]
        }
      ],
      "source": [
        "#case4--there is no compulsion that the try is not run without except so flow of execution is try-->finally\n",
        "try :\n",
        "    print(4+5)\n",
        "\n",
        "finally:\n",
        "  print('Please check the file once again')"
      ]
    },
    {
      "cell_type": "code",
      "execution_count": null,
      "metadata": {
        "colab": {
          "base_uri": "https://localhost:8080/",
          "height": 248
        },
        "id": "OszNlGGdZLBh",
        "outputId": "3e9596a6-fa4e-4b84-8494-f3f2d687260c"
      },
      "outputs": [
        {
          "name": "stdout",
          "output_type": "stream",
          "text": [
            "Please check the file once again\n"
          ]
        },
        {
          "ename": "TypeError",
          "evalue": "ignored",
          "output_type": "error",
          "traceback": [
            "\u001b[0;31m---------------------------------------------------------------------------\u001b[0m",
            "\u001b[0;31mTypeError\u001b[0m                                 Traceback (most recent call last)",
            "\u001b[0;32m<ipython-input-12-8e64502f463f>\u001b[0m in \u001b[0;36m<module>\u001b[0;34m()\u001b[0m\n\u001b[1;32m      1\u001b[0m \u001b[0;32mtry\u001b[0m \u001b[0;34m:\u001b[0m\u001b[0;34m\u001b[0m\u001b[0;34m\u001b[0m\u001b[0m\n\u001b[0;32m----> 2\u001b[0;31m     \u001b[0mprint\u001b[0m\u001b[0;34m(\u001b[0m\u001b[0;36m4\u001b[0m\u001b[0;34m+\u001b[0m\u001b[0;34m'5'\u001b[0m\u001b[0;34m)\u001b[0m\u001b[0;34m\u001b[0m\u001b[0;34m\u001b[0m\u001b[0m\n\u001b[0m\u001b[1;32m      3\u001b[0m \u001b[0;34m\u001b[0m\u001b[0m\n\u001b[1;32m      4\u001b[0m \u001b[0;32mfinally\u001b[0m\u001b[0;34m:\u001b[0m\u001b[0;34m\u001b[0m\u001b[0;34m\u001b[0m\u001b[0m\n\u001b[1;32m      5\u001b[0m   \u001b[0mprint\u001b[0m\u001b[0;34m(\u001b[0m\u001b[0;34m'Please check the file once again'\u001b[0m\u001b[0;34m)\u001b[0m\u001b[0;34m\u001b[0m\u001b[0;34m\u001b[0m\u001b[0m\n",
            "\u001b[0;31mTypeError\u001b[0m: unsupported operand type(s) for +: 'int' and 'str'"
          ]
        }
      ],
      "source": [
        "#case5-try with finally combination is working but when error occurred then it not be handled by code.\n",
        "try :\n",
        "    print(4+'5')\n",
        "\n",
        "finally:\n",
        "  print('Please check the file once again')"
      ]
    },
    {
      "cell_type": "code",
      "execution_count": null,
      "metadata": {
        "colab": {
          "base_uri": "https://localhost:8080/"
        },
        "id": "3VDGJATrZO53",
        "outputId": "b6acc8cb-5d5d-4a9f-865a-49745dc28bb6"
      },
      "outputs": [
        {
          "name": "stdout",
          "output_type": "stream",
          "text": [
            "[Errno 2] No such file or directory: 'xyz.txt'\n",
            "Please check the file once again\n"
          ]
        }
      ],
      "source": [
        "#case6- flow of execution if error ocurred in try block is except-->finally.\n",
        "try :\n",
        "  f=open('xyz.txt','r')\n",
        "  f.write('This is new document')\n",
        "\n",
        "except Exception as e:\n",
        "  print(e)\n",
        "\n",
        "else:\n",
        "  print('Try is working fine')\n",
        "\n",
        "finally:\n",
        "  print('Please check the file once again')"
      ]
    },
    {
      "cell_type": "code",
      "execution_count": null,
      "metadata": {
        "id": "crbzwJaPZlQ8"
      },
      "outputs": [],
      "source": [
        "#continue always used with loop\n",
        "def test_input():\n",
        "  while True:\n",
        "      value=int(input('Enter the integer input:'))\n",
        "      print(type(value))\n",
        "      if type(value) ==int:\n",
        "        break\n",
        "      else:\n",
        "        continue"
      ]
    },
    {
      "cell_type": "code",
      "execution_count": null,
      "metadata": {
        "colab": {
          "base_uri": "https://localhost:8080/",
          "height": 299
        },
        "id": "ypHkDDQaC9iA",
        "outputId": "73b96454-d56d-4719-dbff-c53208e3e291"
      },
      "outputs": [
        {
          "name": "stdout",
          "output_type": "stream",
          "text": [
            "Enter the integer input:r\n"
          ]
        },
        {
          "ename": "ValueError",
          "evalue": "ignored",
          "output_type": "error",
          "traceback": [
            "\u001b[0;31m---------------------------------------------------------------------------\u001b[0m",
            "\u001b[0;31mValueError\u001b[0m                                Traceback (most recent call last)",
            "\u001b[0;32m<ipython-input-20-697b957b13f6>\u001b[0m in \u001b[0;36m<module>\u001b[0;34m()\u001b[0m\n\u001b[0;32m----> 1\u001b[0;31m \u001b[0mtest_input\u001b[0m\u001b[0;34m(\u001b[0m\u001b[0;34m)\u001b[0m\u001b[0;34m\u001b[0m\u001b[0;34m\u001b[0m\u001b[0m\n\u001b[0m",
            "\u001b[0;32m<ipython-input-18-e60fec5be277>\u001b[0m in \u001b[0;36mtest_input\u001b[0;34m()\u001b[0m\n\u001b[1;32m      2\u001b[0m \u001b[0;32mdef\u001b[0m \u001b[0mtest_input\u001b[0m\u001b[0;34m(\u001b[0m\u001b[0;34m)\u001b[0m\u001b[0;34m:\u001b[0m\u001b[0;34m\u001b[0m\u001b[0;34m\u001b[0m\u001b[0m\n\u001b[1;32m      3\u001b[0m   \u001b[0;32mwhile\u001b[0m \u001b[0;32mTrue\u001b[0m\u001b[0;34m:\u001b[0m\u001b[0;34m\u001b[0m\u001b[0;34m\u001b[0m\u001b[0m\n\u001b[0;32m----> 4\u001b[0;31m       \u001b[0mvalue\u001b[0m\u001b[0;34m=\u001b[0m\u001b[0mint\u001b[0m\u001b[0;34m(\u001b[0m\u001b[0minput\u001b[0m\u001b[0;34m(\u001b[0m\u001b[0;34m'Enter the integer input:'\u001b[0m\u001b[0;34m)\u001b[0m\u001b[0;34m)\u001b[0m\u001b[0;34m\u001b[0m\u001b[0;34m\u001b[0m\u001b[0m\n\u001b[0m\u001b[1;32m      5\u001b[0m       \u001b[0mprint\u001b[0m\u001b[0;34m(\u001b[0m\u001b[0mtype\u001b[0m\u001b[0;34m(\u001b[0m\u001b[0mvalue\u001b[0m\u001b[0;34m)\u001b[0m\u001b[0;34m)\u001b[0m\u001b[0;34m\u001b[0m\u001b[0;34m\u001b[0m\u001b[0m\n\u001b[1;32m      6\u001b[0m       \u001b[0;32mif\u001b[0m \u001b[0mtype\u001b[0m\u001b[0;34m(\u001b[0m\u001b[0mvalue\u001b[0m\u001b[0;34m)\u001b[0m \u001b[0;34m==\u001b[0m\u001b[0mint\u001b[0m\u001b[0;34m:\u001b[0m\u001b[0;34m\u001b[0m\u001b[0;34m\u001b[0m\u001b[0m\n",
            "\u001b[0;31mValueError\u001b[0m: invalid literal for int() with base 10: 'r'"
          ]
        }
      ],
      "source": [
        "test_input()"
      ]
    },
    {
      "cell_type": "code",
      "execution_count": null,
      "metadata": {
        "id": "T9_cdzJ4DbAL"
      },
      "outputs": [],
      "source": [
        "def test_input():\n",
        "  while True:\n",
        "      try:\n",
        "        value=int(input('Enter the integer input:'))\n",
        "        break\n",
        "      except Exception as e:\n",
        "        print(e)\n",
        "        continue"
      ]
    },
    {
      "cell_type": "code",
      "execution_count": null,
      "metadata": {
        "colab": {
          "base_uri": "https://localhost:8080/"
        },
        "id": "D7gfyHhcFlAU",
        "outputId": "d8dc4439-aaf1-451e-dce0-a3a4aafb9bbb"
      },
      "outputs": [
        {
          "name": "stdout",
          "output_type": "stream",
          "text": [
            "Enter the integer input:e\n",
            "invalid literal for int() with base 10: 'e'\n",
            "Enter the integer input:4\n"
          ]
        }
      ],
      "source": [
        "test_input()"
      ]
    },
    {
      "cell_type": "code",
      "execution_count": null,
      "metadata": {
        "id": "5rvdrLjUFnaB"
      },
      "outputs": [],
      "source": [
        "def test_input1():\n",
        "  while True:\n",
        "      try:\n",
        "        value=int(input('Enter the integer input:'))\n",
        "      except Exception as e:\n",
        "        print(e)\n",
        "        continue\n",
        "      else:\n",
        "        print('Thank you for entering integere value')\n",
        "        break\n"
      ]
    },
    {
      "cell_type": "code",
      "execution_count": null,
      "metadata": {
        "colab": {
          "base_uri": "https://localhost:8080/"
        },
        "id": "7JKLZOdaGyoB",
        "outputId": "32cffc77-1da9-4d4f-de86-a9295ab5ee8b"
      },
      "outputs": [
        {
          "name": "stdout",
          "output_type": "stream",
          "text": [
            "Enter the integer input:e\n",
            "invalid literal for int() with base 10: 'e'\n",
            "Enter the integer input:g\n",
            "invalid literal for int() with base 10: 'g'\n",
            "Enter the integer input:12\n",
            "Thank you ffor entering integere value\n"
          ]
        }
      ],
      "source": [
        "test_input1()"
      ]
    },
    {
      "cell_type": "markdown",
      "metadata": {
        "id": "3wWJKeMOjrI1"
      },
      "source": [
        "1.  There is no chance of executing both except and else simultaneously.\n",
        "2. if we want to take else block compulsory except block should be there.i.e else without except block is always invalid. **SyntaxError**:invalid syntax ."
      ]
    },
    {
      "cell_type": "code",
      "execution_count": null,
      "metadata": {
        "colab": {
          "base_uri": "https://localhost:8080/"
        },
        "id": "DD5eDzn_G1hj",
        "outputId": "f45c0049-4960-493f-a99a-bd1ead969f86"
      },
      "outputs": [
        {
          "name": "stdout",
          "output_type": "stream",
          "text": [
            "Please check if File is available or not\n"
          ]
        }
      ],
      "source": [
        "try:\n",
        "  f=open('xyz.txt')\n",
        "  f.read()\n",
        "\n",
        "except:\n",
        "  print('Please check if File is available or not')"
      ]
    },
    {
      "cell_type": "code",
      "execution_count": null,
      "metadata": {
        "colab": {
          "base_uri": "https://localhost:8080/"
        },
        "id": "R7x70wV4Ls2t",
        "outputId": "802a3c08-6c14-4364-c865-e02925e6e74e"
      },
      "outputs": [
        {
          "name": "stdout",
          "output_type": "stream",
          "text": [
            "File Related Error\n"
          ]
        }
      ],
      "source": [
        "## We can declare n number of exception in except block to catch the occurred error in try block.\n",
        "try:\n",
        "  f=open('xyz.txt')\n",
        "  f.read()\n",
        "except FileNotFoundError as e:\n",
        "  print('File Related Error')\n",
        "except IOError as e:\n",
        "  print('This is file related issue please check once again and then proceed',e)\n",
        "except OSError as e:\n",
        "  print('OS related exception')\n",
        "except ValueError as e:\n",
        "  print('Value error exception')\n",
        "except FloatingPointError  as e:\n",
        "  print('Floating point exception')\n",
        "except Exception as e:\n",
        "  print('Super class exception')"
      ]
    },
    {
      "cell_type": "code",
      "execution_count": null,
      "metadata": {
        "colab": {
          "base_uri": "https://localhost:8080/"
        },
        "id": "xrOH5-S8L0ND",
        "outputId": "91eddd62-933d-46bd-b4bb-c0a7cf23a5bb"
      },
      "outputs": [
        {
          "name": "stdout",
          "output_type": "stream",
          "text": [
            "OS related exception\n"
          ]
        }
      ],
      "source": [
        "try:\n",
        "  f=open('xyz.txt')\n",
        "  f.read()\n",
        "except OSError as e:\n",
        "  print('OS related exception')\n",
        "except FileNotFoundError as e:\n",
        "  print('File Related Error')\n",
        "except IOError as e:\n",
        "  print('This is file related issue please check once again and then proceed',e)\n",
        "except ValueError as e:\n",
        "  print('Value error exception')\n",
        "except FloatingPointError  as e:\n",
        "  print('Floating point exception')\n",
        "except Exception as e:\n",
        "  print('Super class exception')"
      ]
    },
    {
      "cell_type": "code",
      "execution_count": null,
      "metadata": {
        "colab": {
          "base_uri": "https://localhost:8080/"
        },
        "id": "QLIdbIQkNgbw",
        "outputId": "7a0fd70c-8b26-48ff-ffbb-b9982f6b0d44"
      },
      "outputs": [
        {
          "name": "stdout",
          "output_type": "stream",
          "text": [
            "This is file related issue please check once again and then proceed\n"
          ]
        }
      ],
      "source": [
        "try:\n",
        "  f=open('xyz.txt')\n",
        "  f.read()\n",
        "\n",
        "except IOError as e:\n",
        "  print('This is file related issue please check once again and then proceed')\n",
        "except OSError as e:\n",
        "  print('OS related exception')\n",
        "except FileNotFoundError as e:\n",
        "  print('File Related Error')\n",
        "except ValueError as e:\n",
        "  print('Value error exception')\n",
        "except FloatingPointError  as e:\n",
        "  print('Floating point exception')\n",
        "except Exception as e:\n",
        "  print('Super class exception')"
      ]
    },
    {
      "cell_type": "code",
      "execution_count": null,
      "metadata": {
        "colab": {
          "base_uri": "https://localhost:8080/"
        },
        "id": "H5Q0mj8xNopA",
        "outputId": "6d2ff3a2-faa0-43f8-9972-3f7addba3b66"
      },
      "outputs": [
        {
          "name": "stdout",
          "output_type": "stream",
          "text": [
            "Super class exception\n"
          ]
        }
      ],
      "source": [
        "### Order of exception is also important because if we place base class exception first then it executed first and ignore all other exception.\n",
        "try:\n",
        "  f=open('xyz.txt')\n",
        "  f.read()\n",
        "\n",
        "except Exception as e:\n",
        "  print('Super class exception')\n",
        "except IOError as e:\n",
        "  print('This is file related issue please check once again and then proceed')\n",
        "except OSError as e:\n",
        "  print('OS related exception')\n",
        "except FileNotFoundError as e:\n",
        "  print('File Related Error')\n",
        "except ValueError as e:\n",
        "  print('Value error exception')\n",
        "except FloatingPointError  as e:\n",
        "  print('Floating point exception')"
      ]
    },
    {
      "cell_type": "code",
      "execution_count": null,
      "metadata": {
        "colab": {
          "base_uri": "https://localhost:8080/"
        },
        "id": "kJbRTnPJN4MQ",
        "outputId": "92cd00b4-a45b-460f-bedf-9d03e1cfd389"
      },
      "outputs": [
        {
          "name": "stdout",
          "output_type": "stream",
          "text": [
            "[Errno 2] No such file or directory: 'xyz.txt'\n"
          ]
        }
      ],
      "source": [
        "## We can declare exception name in tuple format also\n",
        "try:\n",
        "  f=open('xyz.txt')\n",
        "  f.read()\n",
        "\n",
        "except (IOError,OSError,ValueError,FileNotFoundError,FloatingPointError) as e:\n",
        "  print(e)"
      ]
    },
    {
      "cell_type": "code",
      "execution_count": null,
      "metadata": {
        "colab": {
          "base_uri": "https://localhost:8080/"
        },
        "id": "BMfyEZRJOHP1",
        "outputId": "01091a1e-6bb5-4472-9f99-692955ce2432"
      },
      "outputs": [
        {
          "name": "stdout",
          "output_type": "stream",
          "text": [
            "[Errno 2] No such file or directory: 'xyz.txt'\n"
          ]
        }
      ],
      "source": [
        "### as is always outside of tuple\n",
        "try:\n",
        "  f=open('xyz.txt')\n",
        "  f.read()\n",
        "\n",
        "except (IOError,OSError,ValueError,FileNotFoundError,FloatingPointError,Exception) as e:\n",
        "  print(e)"
      ]
    },
    {
      "cell_type": "code",
      "execution_count": null,
      "metadata": {
        "colab": {
          "base_uri": "https://localhost:8080/"
        },
        "id": "4YD0fzIQOUXO",
        "outputId": "618b9c2b-290c-4b11-9235-53db3823191b"
      },
      "outputs": [
        {
          "name": "stdout",
          "output_type": "stream",
          "text": [
            "This is file related issue please verify the file before process\n"
          ]
        }
      ],
      "source": [
        "try:\n",
        "  f=open('xyz.txt')\n",
        "  f.read()\n",
        "\n",
        "except (IOError,OSError,ValueError,FileNotFoundError,FloatingPointError,Exception):\n",
        "  print('This is file related issue please verify the file before process')"
      ]
    },
    {
      "cell_type": "code",
      "execution_count": null,
      "metadata": {
        "colab": {
          "base_uri": "https://localhost:8080/"
        },
        "id": "Sm-c5BY6OimB",
        "outputId": "c25b276f-2684-4259-ea60-6fe72c877167"
      },
      "outputs": [
        {
          "name": "stdout",
          "output_type": "stream",
          "text": [
            "Enter integere value:2\n",
            "This override the message of raise\n"
          ]
        }
      ],
      "source": [
        "### Raise value using raise keyword\n",
        "try:\n",
        "  a=int(input('Enter integere value:'))\n",
        "  b=5/a\n",
        "\n",
        "  if a==2:\n",
        "    raise ValueError('Please enter valid integer value')\n",
        "except ValueError:\n",
        "  print('This override the message of raise')\n",
        "\n",
        "\n"
      ]
    },
    {
      "cell_type": "code",
      "execution_count": null,
      "metadata": {
        "colab": {
          "base_uri": "https://localhost:8080/"
        },
        "id": "_leFCq6ipPCb",
        "outputId": "a5e3e6ab-27ac-4044-8184-2d9ab9f0fb3e"
      },
      "outputs": [
        {
          "name": "stdout",
          "output_type": "stream",
          "text": [
            "Enter integere value:2\n",
            "Please enter valid integer value\n"
          ]
        }
      ],
      "source": [
        "# We can use raise keyword to raise the user defind exception\n",
        "# When we use raise then we should use exception of the same otherwise it give compile time error\n",
        "try:\n",
        "  a=int(input('Enter integere value:'))\n",
        "  b=5/a\n",
        "\n",
        "  if a==2:\n",
        "    raise ValueError('Please enter valid integer value')\n",
        "except ValueError as e:\n",
        "  print(e)"
      ]
    },
    {
      "cell_type": "code",
      "execution_count": null,
      "metadata": {
        "colab": {
          "base_uri": "https://localhost:8080/"
        },
        "id": "2jZ2Q1oeqN7G",
        "outputId": "45b72fcb-7a0d-4d05-ada3-06ef5ddac3b8"
      },
      "outputs": [
        {
          "name": "stdout",
          "output_type": "stream",
          "text": [
            "Enter integere value:2\n",
            "This override the message of raise\n"
          ]
        }
      ],
      "source": [
        "try:\n",
        "  a=int(input('Enter integere value:'))\n",
        "  b=5/a\n",
        "\n",
        "  if a==2:\n",
        "    raise ValueError()\n",
        "except ValueError:\n",
        "  print('This override the message of raise')"
      ]
    },
    {
      "cell_type": "markdown",
      "metadata": {
        "id": "H95ak7tg58Ij"
      },
      "source": [
        "#### There is only one situation where finally block won't be executed i.e whenever we are using os._exit(0)\n",
        "\n",
        "1. Hero zero represent status code\n",
        "2. zero means normal termination\n",
        "3. non zero means abnormal termination.\n",
        "4. This status code internally used by PVM"
      ]
    },
    {
      "cell_type": "code",
      "execution_count": null,
      "metadata": {
        "colab": {
          "base_uri": "https://localhost:8080/"
        },
        "id": "3kqRVbZPqRKX",
        "outputId": "783bb0db-4f20-4030-cd50-a9ef3ae02f64"
      },
      "outputs": [
        {
          "name": "stdout",
          "output_type": "stream",
          "text": [
            "try\n",
            "Finally block\n"
          ]
        }
      ],
      "source": [
        "import os\n",
        "try:\n",
        "  print('try')\n",
        "  os._exit(0) #normal termination\n",
        "except ZeroDivisionError:\n",
        "  print('Except code')\n",
        "finally:\n",
        "  print('Finally block')"
      ]
    },
    {
      "cell_type": "markdown",
      "metadata": {
        "id": "3pFXbwm8AB59"
      },
      "source": [
        "#### Finally Block vs Destructor\n",
        "\n",
        "* Finally block meant for cleanup activities related to try block i.e whatever resources we oppend as the part of try block will be closed inside finally block.\n",
        "\n",
        "* Destructor meant for cleanup activities related to object.what ever resources associated with the object should be deallocated inside destructor,which will be executed before destroying object."
      ]
    },
    {
      "cell_type": "markdown",
      "metadata": {
        "id": "-Kng2T6WszUr"
      },
      "source": [
        "### **Type of Exception**\n",
        "1. Predefined or system defined Exception.\n",
        "2. User defined Exception."
      ]
    },
    {
      "cell_type": "markdown",
      "metadata": {
        "id": "SSBRuVVYs90o"
      },
      "source": [
        "### Predefined Exception.\n",
        "1. Also know inbuilt exception or PVM Exception.\n",
        "2. These will be raised automatically by python virtual machine whenever a particulat event occurs.\n",
        "\n",
        "example :\n",
        "* ZeroDivisionError\n",
        "* ValueError"
      ]
    },
    {
      "cell_type": "markdown",
      "metadata": {
        "id": "nzSjMf9Ltrlh"
      },
      "source": [
        "#### **User defined Exception**\n",
        "\n",
        "1. Also know an customized exceptions or programmatic exceptions.\n",
        "2. Sometime we have to define and raise exceptions explicitly to indicate that something goes wrong,such type of exception are called userdefined exception or customized exception or programmatic exception.\n",
        "3. Programmer is responsible to define these exceptions and PVM does not have any idea abour these.\n",
        "4. We case define exception by using raise keyword.\n"
      ]
    },
    {
      "cell_type": "code",
      "execution_count": 3,
      "metadata": {
        "id": "FwJ6C0Aj5jeD"
      },
      "outputs": [],
      "source": [
        "class ToYoungException(Exception):\n",
        "  def __init__(self,msg):\n",
        "    self.msg=msg\n",
        "\n",
        "class ToOldException(Exception):\n",
        "  def __init__(self,msg):\n",
        "    self.msg=msg\n",
        "\n",
        "\n"
      ]
    },
    {
      "cell_type": "code",
      "execution_count": 4,
      "metadata": {
        "colab": {
          "base_uri": "https://localhost:8080/",
          "height": 263
        },
        "id": "6bxi8q1vw5XA",
        "outputId": "dd1a5cc4-878e-419d-8737-fc889113dff3"
      },
      "outputs": [
        {
          "name": "stdout",
          "output_type": "stream",
          "text": [
            "Enter the age:5\n"
          ]
        },
        {
          "ename": "ToYoungException",
          "evalue": "ignored",
          "output_type": "error",
          "traceback": [
            "\u001b[0;31m---------------------------------------------------------------------------\u001b[0m",
            "\u001b[0;31mToYoungException\u001b[0m                          Traceback (most recent call last)",
            "\u001b[0;32m<ipython-input-4-d13c683b0a58>\u001b[0m in \u001b[0;36m<cell line: 2>\u001b[0;34m()\u001b[0m\n\u001b[1;32m      3\u001b[0m   \u001b[0;32mraise\u001b[0m  \u001b[0mToOldException\u001b[0m\u001b[0;34m(\u001b[0m\u001b[0;34m'Your age already crossed marriage age,no chance of getting marriage'\u001b[0m\u001b[0;34m)\u001b[0m\u001b[0;34m\u001b[0m\u001b[0;34m\u001b[0m\u001b[0m\n\u001b[1;32m      4\u001b[0m \u001b[0;32melif\u001b[0m \u001b[0mage\u001b[0m\u001b[0;34m<\u001b[0m\u001b[0;36m18\u001b[0m\u001b[0;34m:\u001b[0m\u001b[0;34m\u001b[0m\u001b[0;34m\u001b[0m\u001b[0m\n\u001b[0;32m----> 5\u001b[0;31m   \u001b[0;32mraise\u001b[0m \u001b[0mToYoungException\u001b[0m\u001b[0;34m(\u001b[0m\u001b[0;34m'Please wait some more time,definitely you will get best match'\u001b[0m\u001b[0;34m)\u001b[0m\u001b[0;34m\u001b[0m\u001b[0;34m\u001b[0m\u001b[0m\n\u001b[0m\u001b[1;32m      6\u001b[0m \u001b[0;32melse\u001b[0m\u001b[0;34m:\u001b[0m\u001b[0;34m\u001b[0m\u001b[0;34m\u001b[0m\u001b[0m\n\u001b[1;32m      7\u001b[0m   \u001b[0mprint\u001b[0m\u001b[0;34m(\u001b[0m\u001b[0;34m'You will get best match soon'\u001b[0m\u001b[0;34m)\u001b[0m\u001b[0;34m\u001b[0m\u001b[0;34m\u001b[0m\u001b[0m\n",
            "\u001b[0;31mToYoungException\u001b[0m: Please wait some more time,definitely you will get best match"
          ]
        }
      ],
      "source": [
        "age=int(input('Enter the age:'))\n",
        "if age>+60:\n",
        "  raise  ToOldException('Your age already crossed marriage age,no chance of getting marriage')\n",
        "elif age<18:\n",
        "  raise ToYoungException('Please wait some more time,definitely you will get best match')\n",
        "else:\n",
        "  print('You will get best match soon')\n"
      ]
    },
    {
      "cell_type": "code",
      "execution_count": null,
      "metadata": {
        "id": "Q-y0rm4RzbZ3"
      },
      "outputs": [],
      "source": [
        "#Display all inbuilt exceptions\n",
        "dir(locals()['__builtins__'])"
      ]
    }
  ],
  "metadata": {
    "colab": {
      "provenance": []
    },
    "kernelspec": {
      "display_name": "Python 3",
      "name": "python3"
    },
    "language_info": {
      "name": "python"
    }
  },
  "nbformat": 4,
  "nbformat_minor": 0
}
