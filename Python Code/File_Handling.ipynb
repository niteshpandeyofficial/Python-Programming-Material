{
  "cells": [
    {
      "cell_type": "markdown",
      "metadata": {
        "id": "znUMjj-lYYIS"
      },
      "source": [
        "###Types of data used for I/O :\n",
        "\n",
        "1.   Text\n",
        "2.   Binary\n",
        "\n"
      ]
    },
    {
      "cell_type": "markdown",
      "metadata": {
        "id": "8oHlBWUGYtHn"
      },
      "source": [
        "Type of file deal with\n",
        "\n",
        "\n",
        "1.   Binary File --images,video,audio etc\n",
        "2.   Text File  --all program file\n",
        "\n"
      ]
    },
    {
      "cell_type": "markdown",
      "metadata": {
        "id": "rfKbSIUDY_7O"
      },
      "source": [
        "### Steps need to follow for any file operation \n",
        "\n",
        "\n",
        "1.   Open File\n",
        "2.   Read/Write on file\n",
        "3.   Close File\n",
        "\n"
      ]
    },
    {
      "cell_type": "markdown",
      "metadata": {
        "id": "rUOk8_gnYCno"
      },
      "source": [
        "#### Writing to file"
      ]
    },
    {
      "cell_type": "code",
      "execution_count": null,
      "metadata": {
        "id": "9zLd9M9IX7zt"
      },
      "outputs": [],
      "source": [
        "f=open('sample.txt','w')\n",
        "f.write('Hi I am nitesh')\n",
        "f.close()"
      ]
    },
    {
      "cell_type": "code",
      "execution_count": null,
      "metadata": {
        "id": "3XZ8l-YnYONM"
      },
      "outputs": [],
      "source": [
        "### write multiline strings\n",
        "f=open('sample.txt','w')\n",
        "f.write('Hi I am nitesh')\n",
        "f.write('\\nI am 29 year old')\n",
        "f.close()"
      ]
    },
    {
      "cell_type": "code",
      "execution_count": null,
      "metadata": {
        "id": "BpHUD4lZeKp0"
      },
      "outputs": [],
      "source": [
        "f=open('sample1.txt','w')\n",
        "f.write('Hi I am nitesh \\ni am 29 years old \\ni am a sw engg')\n",
        "f.close()"
      ]
    },
    {
      "cell_type": "code",
      "execution_count": null,
      "metadata": {
        "id": "oayBbUB4enVZ"
      },
      "outputs": [],
      "source": [
        "f=open('sample.txt','a')\n",
        "f.write('\\nnew line added')\n",
        "f.close()"
      ]
    },
    {
      "cell_type": "code",
      "execution_count": null,
      "metadata": {
        "id": "QaZpgUf5fXgI"
      },
      "outputs": [],
      "source": [
        "l=['\\nHello','\\nPython','\\nDS']\n",
        "\n",
        "for word in l:\n",
        "  f=open('sample.txt','a')\n",
        "  f.write(word)\n",
        "f.close()"
      ]
    },
    {
      "attachments": {},
      "cell_type": "markdown",
      "metadata": {},
      "source": [
        "##### The write() method accepts a string as an argument and writes this string to the text file. Whereas, the writelines() method accepts an iterable i.e. a string or the list of strings as an argument and writes these strings to the text file"
      ]
    },
    {
      "cell_type": "code",
      "execution_count": null,
      "metadata": {
        "id": "OoL8OKU4f3_z"
      },
      "outputs": [],
      "source": [
        "l=['Nitesh','\\nSarvesh','\\nPandey']\n",
        "f=open('test.txt','w')\n",
        "f.writelines(l)\n",
        "f.close()"
      ]
    },
    {
      "cell_type": "markdown",
      "metadata": {
        "id": "7VapyJ6jjFO8"
      },
      "source": [
        "### Reading File"
      ]
    },
    {
      "cell_type": "code",
      "execution_count": null,
      "metadata": {
        "colab": {
          "base_uri": "https://localhost:8080/"
        },
        "id": "yZdglPj2grTu",
        "outputId": "f7380e79-0144-4356-d8c9-c2f8cac49ae9"
      },
      "outputs": [
        {
          "name": "stdout",
          "output_type": "stream",
          "text": [
            "Hi I am nitesh\n",
            "I am 29 year old\n",
            " new line added\n",
            "new line addedHelloPythonDS\n",
            "Hello\n",
            "Python\n",
            "DS\n"
          ]
        }
      ],
      "source": [
        "f=open('sample.txt','r')\n",
        "print(f.read())\n",
        "f.close() "
      ]
    },
    {
      "cell_type": "code",
      "execution_count": null,
      "metadata": {
        "colab": {
          "base_uri": "https://localhost:8080/"
        },
        "id": "5ckyTL1MjM9x",
        "outputId": "f514bd24-d9f5-450e-dc8c-3c958aa5b162"
      },
      "outputs": [
        {
          "name": "stdout",
          "output_type": "stream",
          "text": [
            "Hi I am ni\n"
          ]
        }
      ],
      "source": [
        "f=open('sample.txt','r')\n",
        "print(f.read(10))\n",
        "f.close() "
      ]
    },
    {
      "cell_type": "code",
      "execution_count": null,
      "metadata": {
        "colab": {
          "base_uri": "https://localhost:8080/"
        },
        "id": "99bkSXp1jVdL",
        "outputId": "d9ce525f-aa88-4682-dec9-fb080b42781c"
      },
      "outputs": [
        {
          "name": "stdout",
          "output_type": "stream",
          "text": [
            "Hi I am nitesh\n",
            "I am 29 year old\n"
          ]
        }
      ],
      "source": [
        "##Line by line reading\n",
        "f=open('sample.txt','r')\n",
        "print(f.readline(),end='')\n",
        "print(f.readline(),end='')\n",
        "f.close() "
      ]
    },
    {
      "cell_type": "markdown",
      "metadata": {
        "id": "1XEuNuSKlCqN"
      },
      "source": [
        "### Using Context Manager(With)\n",
        "\n",
        "\n",
        "*   Its good idea to close a file after usage as it will free up the resources.\n",
        "*   If we dont close it.garbage collector would close it.\n",
        "*   with keyword closes the file as soon as the usage is over\n",
        "\n"
      ]
    },
    {
      "cell_type": "code",
      "execution_count": null,
      "metadata": {
        "id": "qdsJdadZjcr-"
      },
      "outputs": [],
      "source": [
        "with open('sample.txt','w') as f:\n",
        "  f.write('\\nusing with keyword')"
      ]
    },
    {
      "cell_type": "code",
      "execution_count": null,
      "metadata": {
        "colab": {
          "base_uri": "https://localhost:8080/"
        },
        "id": "7cGJNYvjl3TP",
        "outputId": "12e64966-d197-458e-c481-ce7d250b101e"
      },
      "outputs": [
        {
          "name": "stdout",
          "output_type": "stream",
          "text": [
            "Hi I am ni\n",
            "tesh \n",
            "i am\n"
          ]
        }
      ],
      "source": [
        "with open('sample1.txt','r') as f:\n",
        "  print(f.read(10))\n",
        "  print(f.read(10))"
      ]
    },
    {
      "cell_type": "code",
      "execution_count": 2,
      "metadata": {
        "id": "Cdc7Od3bFhTB"
      },
      "outputs": [],
      "source": [
        "f=open('sample1.txt','w')\n",
        "f.write('Hi I am nitesh \\ni am 29 years old \\ni am a sw engg')\n",
        "f.close()"
      ]
    },
    {
      "cell_type": "markdown",
      "metadata": {
        "id": "48FfpOr5Fj6I"
      },
      "source": [
        "#### Seek and Tell re 2 method which help to move the pointer within the given text or pointer position"
      ]
    },
    {
      "cell_type": "code",
      "execution_count": 3,
      "metadata": {
        "colab": {
          "base_uri": "https://localhost:8080/"
        },
        "id": "k6I2qnnGmncI",
        "outputId": "bc359a23-bd69-46c9-de53-31aa7701f602"
      },
      "outputs": [
        {
          "name": "stdout",
          "output_type": "stream",
          "text": [
            "Hi I am ni\n",
            "0\n",
            "Hi I am ni\n"
          ]
        }
      ],
      "source": [
        "with open('sample1.txt','r') as f:\n",
        "  print(f.read(10))\n",
        "  print(f.seek(0))\n",
        "  print(f.read(10))"
      ]
    },
    {
      "cell_type": "code",
      "execution_count": 5,
      "metadata": {
        "colab": {
          "base_uri": "https://localhost:8080/"
        },
        "id": "lhwvC5d-Fa6T",
        "outputId": "ed76681f-fd34-4ebd-f120-6f5d4a55c55c"
      },
      "outputs": [
        {
          "name": "stdout",
          "output_type": "stream",
          "text": [
            "Hi I am ni\n",
            "10\n"
          ]
        }
      ],
      "source": [
        "with open('sample1.txt','r') as f:\n",
        "  print(f.read(10))\n",
        "  print(f.tell())"
      ]
    },
    {
      "cell_type": "markdown",
      "metadata": {
        "id": "BeMKUtQbG32Q"
      },
      "source": [
        "### Reading binary file"
      ]
    },
    {
      "cell_type": "code",
      "execution_count": 7,
      "metadata": {
        "id": "KzrQxm2wF3yc"
      },
      "outputs": [],
      "source": [
        "with open('/content/Cracklogic.png','rb') as f:\n",
        "  with open('Cracklogic_copy.png','wb') as wf:\n",
        "    wf.write(f.read())"
      ]
    },
    {
      "cell_type": "markdown",
      "metadata": {
        "id": "oSeFQCoWHHXs"
      },
      "source": [
        "In file operation we should only write string not any othr data type"
      ]
    },
    {
      "cell_type": "code",
      "execution_count": 8,
      "metadata": {
        "colab": {
          "base_uri": "https://localhost:8080/",
          "height": 183
        },
        "id": "B86P-qb8GxNH",
        "outputId": "9b976a67-2eea-409c-e214-cd3c39aa97d5"
      },
      "outputs": [
        {
          "ename": "TypeError",
          "evalue": "ignored",
          "output_type": "error",
          "traceback": [
            "\u001b[0;31m---------------------------------------------------------------------------\u001b[0m",
            "\u001b[0;31mTypeError\u001b[0m                                 Traceback (most recent call last)",
            "\u001b[0;32m<ipython-input-8-9671ea37ce83>\u001b[0m in \u001b[0;36m<module>\u001b[0;34m\u001b[0m\n\u001b[1;32m      1\u001b[0m \u001b[0;32mwith\u001b[0m \u001b[0mopen\u001b[0m\u001b[0;34m(\u001b[0m\u001b[0;34m'int_op_check'\u001b[0m\u001b[0;34m,\u001b[0m\u001b[0;34m'w'\u001b[0m\u001b[0;34m)\u001b[0m \u001b[0;32mas\u001b[0m \u001b[0mf\u001b[0m\u001b[0;34m:\u001b[0m\u001b[0;34m\u001b[0m\u001b[0;34m\u001b[0m\u001b[0m\n\u001b[0;32m----> 2\u001b[0;31m   \u001b[0mf\u001b[0m\u001b[0;34m.\u001b[0m\u001b[0mwrite\u001b[0m\u001b[0;34m(\u001b[0m\u001b[0;36m5\u001b[0m\u001b[0;34m)\u001b[0m\u001b[0;34m\u001b[0m\u001b[0;34m\u001b[0m\u001b[0m\n\u001b[0m",
            "\u001b[0;31mTypeError\u001b[0m: write() argument must be str, not int"
          ]
        }
      ],
      "source": [
        "with open('int_op_check','w') as f:\n",
        "  f.write(5)"
      ]
    },
    {
      "cell_type": "code",
      "execution_count": 9,
      "metadata": {
        "id": "LiM_QuQTHdPU"
      },
      "outputs": [],
      "source": [
        "with open('int_op_check','w') as f:\n",
        "  f.write('5')"
      ]
    },
    {
      "cell_type": "code",
      "execution_count": 11,
      "metadata": {
        "colab": {
          "base_uri": "https://localhost:8080/",
          "height": 183
        },
        "id": "H24vKykcHiS9",
        "outputId": "96dfcf9b-b8e8-4cd2-d46c-d1be7982e53d"
      },
      "outputs": [
        {
          "ename": "TypeError",
          "evalue": "ignored",
          "output_type": "error",
          "traceback": [
            "\u001b[0;31m---------------------------------------------------------------------------\u001b[0m",
            "\u001b[0;31mTypeError\u001b[0m                                 Traceback (most recent call last)",
            "\u001b[0;32m<ipython-input-11-55b960b61ca6>\u001b[0m in \u001b[0;36m<module>\u001b[0;34m\u001b[0m\n\u001b[1;32m      1\u001b[0m \u001b[0;32mwith\u001b[0m \u001b[0mopen\u001b[0m\u001b[0;34m(\u001b[0m\u001b[0;34m'int_op_check'\u001b[0m\u001b[0;34m,\u001b[0m\u001b[0;34m'r'\u001b[0m\u001b[0;34m)\u001b[0m \u001b[0;32mas\u001b[0m \u001b[0mf\u001b[0m\u001b[0;34m:\u001b[0m\u001b[0;34m\u001b[0m\u001b[0;34m\u001b[0m\u001b[0m\n\u001b[0;32m----> 2\u001b[0;31m   \u001b[0mprint\u001b[0m\u001b[0;34m(\u001b[0m\u001b[0mf\u001b[0m\u001b[0;34m.\u001b[0m\u001b[0mread\u001b[0m\u001b[0;34m(\u001b[0m\u001b[0;34m'5'\u001b[0m\u001b[0;34m)\u001b[0m\u001b[0;34m+\u001b[0m\u001b[0;36m5\u001b[0m\u001b[0;34m)\u001b[0m\u001b[0;34m\u001b[0m\u001b[0;34m\u001b[0m\u001b[0m\n\u001b[0m",
            "\u001b[0;31mTypeError\u001b[0m: argument should be integer or None, not 'str'"
          ]
        }
      ],
      "source": [
        "with open('int_op_check','r') as f:\n",
        "  print(f.read('5')+5)"
      ]
    },
    {
      "cell_type": "code",
      "execution_count": 15,
      "metadata": {
        "colab": {
          "base_uri": "https://localhost:8080/"
        },
        "id": "ObSPeWoIHuYj",
        "outputId": "aae000aa-8553-4415-cf9c-97a22b6dc5a9"
      },
      "outputs": [
        {
          "name": "stdout",
          "output_type": "stream",
          "text": [
            "10\n"
          ]
        }
      ],
      "source": [
        "### At the time of reading we need to explictly type casting to get correct result\n",
        "with open('int_op_check','r') as f:\n",
        "  print(int(f.read())+5)"
      ]
    },
    {
      "cell_type": "code",
      "execution_count": 16,
      "metadata": {
        "colab": {
          "base_uri": "https://localhost:8080/",
          "height": 200
        },
        "id": "-RY7RZYUINqH",
        "outputId": "ad9bcbf3-094f-46db-a116-6a521387c397"
      },
      "outputs": [
        {
          "ename": "TypeError",
          "evalue": "ignored",
          "output_type": "error",
          "traceback": [
            "\u001b[0;31m---------------------------------------------------------------------------\u001b[0m",
            "\u001b[0;31mTypeError\u001b[0m                                 Traceback (most recent call last)",
            "\u001b[0;32m<ipython-input-16-e63b962e96d0>\u001b[0m in \u001b[0;36m<module>\u001b[0;34m\u001b[0m\n\u001b[1;32m      3\u001b[0m \u001b[0;34m\u001b[0m\u001b[0m\n\u001b[1;32m      4\u001b[0m \u001b[0;32mwith\u001b[0m \u001b[0mopen\u001b[0m\u001b[0;34m(\u001b[0m\u001b[0;34m\"dict_sample.txt\"\u001b[0m\u001b[0;34m,\u001b[0m\u001b[0;34m'w'\u001b[0m\u001b[0;34m)\u001b[0m \u001b[0;32mas\u001b[0m \u001b[0mf\u001b[0m\u001b[0;34m:\u001b[0m\u001b[0;34m\u001b[0m\u001b[0;34m\u001b[0m\u001b[0m\n\u001b[0;32m----> 5\u001b[0;31m   \u001b[0mf\u001b[0m\u001b[0;34m.\u001b[0m\u001b[0mwrite\u001b[0m\u001b[0;34m(\u001b[0m\u001b[0md\u001b[0m\u001b[0;34m)\u001b[0m\u001b[0;34m\u001b[0m\u001b[0;34m\u001b[0m\u001b[0m\n\u001b[0m",
            "\u001b[0;31mTypeError\u001b[0m: write() argument must be str, not dict"
          ]
        }
      ],
      "source": [
        "###We can not write dictionary data type directly we need to first convert it into string and then write\n",
        "d={\"name\":\"Nitesh\",\"age\":29,\"gender\":\"Male\"}\n",
        "\n",
        "with open(\"dict_sample.txt\",'w') as f:\n",
        "  f.write(d)"
      ]
    },
    {
      "cell_type": "code",
      "execution_count": 17,
      "metadata": {
        "id": "jMs1PlM4SPUR"
      },
      "outputs": [],
      "source": [
        "### Once we convert it into str then backword is not possible  \n",
        "d={\"name\":\"Nitesh\",\"age\":29,\"gender\":\"Male\"}\n",
        "\n",
        "with open(\"dict_sample.txt\",'w') as f:\n",
        "  f.write(str(d))"
      ]
    },
    {
      "cell_type": "markdown",
      "metadata": {
        "id": "OL-6xUbQSyUO"
      },
      "source": [
        "### Serialization and Deserialization\n",
        "\n",
        "Serialization-process of converting python data type to JSON object.    \n",
        "Deserialization-Process of converting JSON to python data type."
      ]
    },
    {
      "cell_type": "code",
      "execution_count": 18,
      "metadata": {
        "id": "0bxAUrqeSTZ3"
      },
      "outputs": [],
      "source": [
        "## Serialization ---List\n",
        "import json\n",
        "l=[1,2,3]\n",
        "with open('demo.json','w') as f:\n",
        "  json.dump(l,f)"
      ]
    },
    {
      "cell_type": "code",
      "execution_count": 20,
      "metadata": {
        "id": "6YpNhwzIUMK_"
      },
      "outputs": [],
      "source": [
        "## Dictionary\n",
        "d={\"name\":\"Nitesh\",\"age\":29,\"gender\":\"Male\"}\n",
        "with open('demo.json','w') as f:\n",
        "  json.dump(d,f,indent=4)"
      ]
    },
    {
      "cell_type": "code",
      "execution_count": 24,
      "metadata": {
        "colab": {
          "base_uri": "https://localhost:8080/"
        },
        "id": "3VSujNlLUuf5",
        "outputId": "0b6af246-aecc-4357-fdc6-dc935838eb87"
      },
      "outputs": [
        {
          "name": "stdout",
          "output_type": "stream",
          "text": [
            "{'name': 'Nitesh', 'age': 29, 'gender': 'Male'}\n",
            "<class 'dict'>\n"
          ]
        }
      ],
      "source": [
        "### Read dict value\n",
        "with open('demo.json','r') as f:\n",
        "  op=json.load(f)\n",
        "  print(op)\n",
        "  print(type(op))"
      ]
    },
    {
      "cell_type": "code",
      "execution_count": 25,
      "metadata": {
        "id": "AOlnccmYVCDi"
      },
      "outputs": [],
      "source": [
        "### when we dump the tuple then it store as list value and also return list value\n",
        "t=(1,2,3)\n",
        "with open(\"demo.json\",'w') as f:\n",
        "  json.dump(t,f) "
      ]
    },
    {
      "cell_type": "code",
      "execution_count": 26,
      "metadata": {
        "id": "fgxod5LWWbcN"
      },
      "outputs": [],
      "source": [
        "class Person:\n",
        "  def __init__(self,fname,lname,age,gender):\n",
        "    self.fname=fname,\n",
        "    self.lname=lname\n",
        "    self.age=age\n",
        "    self.gender=gender\n",
        "  "
      ]
    },
    {
      "cell_type": "code",
      "execution_count": 27,
      "metadata": {
        "id": "zn3buOhMZMem"
      },
      "outputs": [],
      "source": [
        "per=Person('Nitesh','Pandey',29,'Male')"
      ]
    },
    {
      "cell_type": "code",
      "execution_count": 31,
      "metadata": {
        "colab": {
          "base_uri": "https://localhost:8080/",
          "height": 328
        },
        "id": "mT-pDyj-ZbXw",
        "outputId": "d89873b3-d607-4db0-fd89-4d9b68d1af92"
      },
      "outputs": [
        {
          "ename": "TypeError",
          "evalue": "ignored",
          "output_type": "error",
          "traceback": [
            "\u001b[0;31m---------------------------------------------------------------------------\u001b[0m",
            "\u001b[0;31mTypeError\u001b[0m                                 Traceback (most recent call last)",
            "\u001b[0;32m<ipython-input-31-851f7802736b>\u001b[0m in \u001b[0;36m<module>\u001b[0;34m\u001b[0m\n\u001b[1;32m      1\u001b[0m \u001b[0;32mwith\u001b[0m \u001b[0mopen\u001b[0m\u001b[0;34m(\u001b[0m\u001b[0;34m'class.json'\u001b[0m\u001b[0;34m,\u001b[0m\u001b[0;34m'w'\u001b[0m\u001b[0;34m)\u001b[0m \u001b[0;32mas\u001b[0m \u001b[0mf\u001b[0m\u001b[0;34m:\u001b[0m\u001b[0;34m\u001b[0m\u001b[0;34m\u001b[0m\u001b[0m\n\u001b[0;32m----> 2\u001b[0;31m   \u001b[0mjson\u001b[0m\u001b[0;34m.\u001b[0m\u001b[0mdump\u001b[0m\u001b[0;34m(\u001b[0m\u001b[0mper\u001b[0m\u001b[0;34m,\u001b[0m\u001b[0mf\u001b[0m\u001b[0;34m)\u001b[0m\u001b[0;34m\u001b[0m\u001b[0;34m\u001b[0m\u001b[0m\n\u001b[0m",
            "\u001b[0;32m/usr/lib/python3.8/json/__init__.py\u001b[0m in \u001b[0;36mdump\u001b[0;34m(obj, fp, skipkeys, ensure_ascii, check_circular, allow_nan, cls, indent, separators, default, sort_keys, **kw)\u001b[0m\n\u001b[1;32m    177\u001b[0m     \u001b[0;31m# could accelerate with writelines in some versions of Python, at\u001b[0m\u001b[0;34m\u001b[0m\u001b[0;34m\u001b[0m\u001b[0;34m\u001b[0m\u001b[0m\n\u001b[1;32m    178\u001b[0m     \u001b[0;31m# a debuggability cost\u001b[0m\u001b[0;34m\u001b[0m\u001b[0;34m\u001b[0m\u001b[0;34m\u001b[0m\u001b[0m\n\u001b[0;32m--> 179\u001b[0;31m     \u001b[0;32mfor\u001b[0m \u001b[0mchunk\u001b[0m \u001b[0;32min\u001b[0m \u001b[0miterable\u001b[0m\u001b[0;34m:\u001b[0m\u001b[0;34m\u001b[0m\u001b[0;34m\u001b[0m\u001b[0m\n\u001b[0m\u001b[1;32m    180\u001b[0m         \u001b[0mfp\u001b[0m\u001b[0;34m.\u001b[0m\u001b[0mwrite\u001b[0m\u001b[0;34m(\u001b[0m\u001b[0mchunk\u001b[0m\u001b[0;34m)\u001b[0m\u001b[0;34m\u001b[0m\u001b[0;34m\u001b[0m\u001b[0m\n\u001b[1;32m    181\u001b[0m \u001b[0;34m\u001b[0m\u001b[0m\n",
            "\u001b[0;32m/usr/lib/python3.8/json/encoder.py\u001b[0m in \u001b[0;36m_iterencode\u001b[0;34m(o, _current_indent_level)\u001b[0m\n\u001b[1;32m    436\u001b[0m                     \u001b[0;32mraise\u001b[0m \u001b[0mValueError\u001b[0m\u001b[0;34m(\u001b[0m\u001b[0;34m\"Circular reference detected\"\u001b[0m\u001b[0;34m)\u001b[0m\u001b[0;34m\u001b[0m\u001b[0;34m\u001b[0m\u001b[0m\n\u001b[1;32m    437\u001b[0m                 \u001b[0mmarkers\u001b[0m\u001b[0;34m[\u001b[0m\u001b[0mmarkerid\u001b[0m\u001b[0;34m]\u001b[0m \u001b[0;34m=\u001b[0m \u001b[0mo\u001b[0m\u001b[0;34m\u001b[0m\u001b[0;34m\u001b[0m\u001b[0m\n\u001b[0;32m--> 438\u001b[0;31m             \u001b[0mo\u001b[0m \u001b[0;34m=\u001b[0m \u001b[0m_default\u001b[0m\u001b[0;34m(\u001b[0m\u001b[0mo\u001b[0m\u001b[0;34m)\u001b[0m\u001b[0;34m\u001b[0m\u001b[0;34m\u001b[0m\u001b[0m\n\u001b[0m\u001b[1;32m    439\u001b[0m             \u001b[0;32myield\u001b[0m \u001b[0;32mfrom\u001b[0m \u001b[0m_iterencode\u001b[0m\u001b[0;34m(\u001b[0m\u001b[0mo\u001b[0m\u001b[0;34m,\u001b[0m \u001b[0m_current_indent_level\u001b[0m\u001b[0;34m)\u001b[0m\u001b[0;34m\u001b[0m\u001b[0;34m\u001b[0m\u001b[0m\n\u001b[1;32m    440\u001b[0m             \u001b[0;32mif\u001b[0m \u001b[0mmarkers\u001b[0m \u001b[0;32mis\u001b[0m \u001b[0;32mnot\u001b[0m \u001b[0;32mNone\u001b[0m\u001b[0;34m:\u001b[0m\u001b[0;34m\u001b[0m\u001b[0;34m\u001b[0m\u001b[0m\n",
            "\u001b[0;32m/usr/lib/python3.8/json/encoder.py\u001b[0m in \u001b[0;36mdefault\u001b[0;34m(self, o)\u001b[0m\n\u001b[1;32m    177\u001b[0m \u001b[0;34m\u001b[0m\u001b[0m\n\u001b[1;32m    178\u001b[0m         \"\"\"\n\u001b[0;32m--> 179\u001b[0;31m         raise TypeError(f'Object of type {o.__class__.__name__} '\n\u001b[0m\u001b[1;32m    180\u001b[0m                         f'is not JSON serializable')\n\u001b[1;32m    181\u001b[0m \u001b[0;34m\u001b[0m\u001b[0m\n",
            "\u001b[0;31mTypeError\u001b[0m: Object of type Person is not JSON serializable"
          ]
        }
      ],
      "source": [
        "### to dump the object of any class we need to formating first and then needs to dump the data\n",
        "with open('class.json','w') as f:\n",
        "  json.dump(per,f)"
      ]
    },
    {
      "cell_type": "code",
      "execution_count": 34,
      "metadata": {
        "id": "Vu5clF2ZZtPd"
      },
      "outputs": [],
      "source": [
        "def show_object(person):\n",
        "  if isinstance(person,Person):\n",
        "    return {\"First_Name\":person.fname,\"Last_name\":person.lname,\"age\":person.age,\"gender\":person.gender}\n",
        "    \n",
        "with open('per_dump.json','w') as f:\n",
        "  json.dump(per,f,default=show_object,indent=4)\n",
        "  "
      ]
    },
    {
      "cell_type": "markdown",
      "metadata": {
        "id": "8A5QV2rQizxy"
      },
      "source": [
        "#### Pickling and Unpickling\n",
        "picking is the process of converting python object into binary string representation and unpickling is the process converting binary string representation to origin python object"
      ]
    },
    {
      "cell_type": "code",
      "execution_count": 35,
      "metadata": {
        "id": "-G09q0pfbD5z"
      },
      "outputs": [],
      "source": [
        "import pickle"
      ]
    },
    {
      "cell_type": "code",
      "execution_count": 36,
      "metadata": {
        "id": "gWusA7FZjj7I"
      },
      "outputs": [],
      "source": [
        "class Person:\n",
        "  def __init__(self,name,gender):\n",
        "    self.name=name\n",
        "    self.gender=gender\n",
        "  def display_func(self):\n",
        "    print('Hello i am nitesh pandey')"
      ]
    },
    {
      "cell_type": "code",
      "execution_count": 37,
      "metadata": {
        "id": "b3l-atjEklpL"
      },
      "outputs": [],
      "source": [
        "p1=Person('Nitesh','Male')"
      ]
    },
    {
      "cell_type": "code",
      "execution_count": 38,
      "metadata": {
        "id": "z-9jPE1Xkq8-"
      },
      "outputs": [],
      "source": [
        "with open('class_demo.pkl','wb') as f:\n",
        "  pickle.dump(p1,f)"
      ]
    },
    {
      "cell_type": "code",
      "execution_count": 40,
      "metadata": {
        "id": "lYDISkV1kq5d"
      },
      "outputs": [],
      "source": [
        "with open('class_demo.pkl','rb') as f:\n",
        "  obj=pickle.load(f)\n"
      ]
    },
    {
      "cell_type": "code",
      "execution_count": 41,
      "metadata": {
        "colab": {
          "base_uri": "https://localhost:8080/"
        },
        "id": "dcXbiK3akq0H",
        "outputId": "f058ce0e-37dc-49bc-b171-5246472acbd4"
      },
      "outputs": [
        {
          "name": "stdout",
          "output_type": "stream",
          "text": [
            "Hello i am nitesh pandey\n"
          ]
        }
      ],
      "source": [
        "obj.display_func()"
      ]
    },
    {
      "cell_type": "markdown",
      "metadata": {
        "id": "bqIV8M-ckIGs"
      },
      "source": [
        "#### Pickle vs JSON\n",
        "pickle lets the user tostore data in binary format.  \n",
        "json lets the user store data in a human-readable text format."
      ]
    },
    {
      "cell_type": "code",
      "execution_count": 46,
      "metadata": {
        "id": "uuHYyxhzkbyT"
      },
      "outputs": [],
      "source": [
        "##In case of json it is not possible to dump the tuple in its own base dtype but in pickle it is possible\n",
        "t=(1,2,3)\n",
        "with open('tuple_demo.pkl','wb') as f:\n",
        "  pickle.dump(t,f)"
      ]
    },
    {
      "cell_type": "code",
      "execution_count": 44,
      "metadata": {
        "id": "_tmpjE_PlhPh"
      },
      "outputs": [],
      "source": [
        "with open('tuple_demo.pkl','rb') as f:\n",
        "  op=pickle.load(f)"
      ]
    },
    {
      "cell_type": "code",
      "execution_count": 45,
      "metadata": {
        "colab": {
          "base_uri": "https://localhost:8080/"
        },
        "id": "uvuPKqNplmhV",
        "outputId": "39ae16f1-589a-4f73-9052-3db8236a8576"
      },
      "outputs": [
        {
          "data": {
            "text/plain": [
              "(1, 2, 3)"
            ]
          },
          "execution_count": 45,
          "metadata": {},
          "output_type": "execute_result"
        }
      ],
      "source": [
        "op"
      ]
    },
    {
      "cell_type": "code",
      "execution_count": null,
      "metadata": {
        "id": "9QeClHmClpto"
      },
      "outputs": [],
      "source": []
    }
  ],
  "metadata": {
    "colab": {
      "provenance": []
    },
    "kernelspec": {
      "display_name": "Python 3",
      "name": "python3"
    },
    "language_info": {
      "name": "python"
    }
  },
  "nbformat": 4,
  "nbformat_minor": 0
}
