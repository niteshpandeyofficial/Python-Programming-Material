{
  "nbformat": 4,
  "nbformat_minor": 0,
  "metadata": {
    "colab": {
      "provenance": []
    },
    "kernelspec": {
      "name": "python3",
      "display_name": "Python 3"
    },
    "language_info": {
      "name": "python"
    }
  },
  "cells": [
    {
      "cell_type": "markdown",
      "source": [
        "####**List**\n",
        "1. List are mutable\n",
        "2. List are slower then tuple.\n",
        "3. List having more functionality as compare to tuple\n",
        "4. Used when we don't know the exact no of element\n",
        "5. Index start from position 0\n",
        "6. Value enclosed in []\n",
        "7. Collection of different type of element\n"
      ],
      "metadata": {
        "id": "LDHmRxH5bZYh"
      }
    },
    {
      "cell_type": "code",
      "metadata": {
        "id": "CVpUcztdloHc"
      },
      "source": [
        "#List,tuple is type of collection\n",
        "ls=[1,2,3]"
      ],
      "execution_count": 41,
      "outputs": []
    },
    {
      "cell_type": "code",
      "metadata": {
        "colab": {
          "base_uri": "https://localhost:8080/"
        },
        "id": "8ob7Z26UmcLj",
        "outputId": "9f16c3b5-c400-471e-b30d-82dee766cca4"
      },
      "source": [
        "# Reverse of the list element\n",
        "ls[::-1]"
      ],
      "execution_count": null,
      "outputs": [
        {
          "output_type": "execute_result",
          "data": {
            "text/plain": [
              "[3, 2, 1]"
            ]
          },
          "metadata": {
            "tags": []
          },
          "execution_count": 11
        }
      ]
    },
    {
      "cell_type": "code",
      "metadata": {
        "id": "BYMMgRS0nYbG",
        "colab": {
          "base_uri": "https://localhost:8080/"
        },
        "outputId": "8bf81cbc-d062-455f-d1d6-062149c8eb98"
      },
      "source": [
        "# list function\n",
        "ls.append(9)\n",
        "print(ls)\n",
        "print(len(ls))\n",
        "print(ls.index(3))\n",
        "print(ls.count(3))"
      ],
      "execution_count": 39,
      "outputs": [
        {
          "output_type": "stream",
          "name": "stdout",
          "text": [
            "[1, 2, 3, 9, 9, 9, 9, 9]\n",
            "8\n",
            "2\n",
            "1\n"
          ]
        }
      ]
    },
    {
      "cell_type": "code",
      "source": [
        "ls[0]='Nitesh' #item re-assignment operation supported by list\n",
        "print(ls)"
      ],
      "metadata": {
        "colab": {
          "base_uri": "https://localhost:8080/"
        },
        "id": "mlDABUUHbILs",
        "outputId": "c07b3fd3-e2fc-4a91-ea76-219070ffcfbf"
      },
      "execution_count": 46,
      "outputs": [
        {
          "output_type": "stream",
          "name": "stdout",
          "text": [
            "['Nitesh', 2, 3]\n"
          ]
        }
      ]
    },
    {
      "cell_type": "code",
      "source": [
        "ls=[1,2,3]\n",
        "ls.append([4,5])\n",
        "print(ls)\n",
        "ls.append('nitesh')\n",
        "ls.append(['Pandey'])\n",
        "ls.append(7)\n",
        "print(ls)"
      ],
      "metadata": {
        "colab": {
          "base_uri": "https://localhost:8080/"
        },
        "id": "-HcMrkj3fZUp",
        "outputId": "28931975-61bf-452b-f45f-350c493c9724"
      },
      "execution_count": 53,
      "outputs": [
        {
          "output_type": "stream",
          "name": "stdout",
          "text": [
            "[1, 2, 3, [4, 5]]\n",
            "[1, 2, 3, [4, 5], 'nitesh', ['Pandey'], 7]\n"
          ]
        }
      ]
    },
    {
      "cell_type": "code",
      "source": [
        "ls.clear() #to make list empty\n",
        "print(ls)"
      ],
      "metadata": {
        "colab": {
          "base_uri": "https://localhost:8080/"
        },
        "id": "IfuvJe--fZRW",
        "outputId": "904d2c98-67b1-4658-bafd-5d619e3c0a6d"
      },
      "execution_count": 56,
      "outputs": [
        {
          "output_type": "stream",
          "name": "stdout",
          "text": [
            "[]\n"
          ]
        }
      ]
    },
    {
      "cell_type": "code",
      "source": [
        "# The copy() of object in other object.\n",
        "ls=[1,2,3]\n",
        "num=ls.copy()\n",
        "print(num)"
      ],
      "metadata": {
        "colab": {
          "base_uri": "https://localhost:8080/"
        },
        "id": "fjSEy8gmij2x",
        "outputId": "467b0035-3da7-4108-deff-07c4c4b79a60"
      },
      "execution_count": 65,
      "outputs": [
        {
          "output_type": "stream",
          "name": "stdout",
          "text": [
            "[1, 2, 3]\n"
          ]
        }
      ]
    },
    {
      "cell_type": "code",
      "source": [
        "num.extend([4]) # changes made to a copy of object do not reflect in the original object\n",
        "print(num)\n",
        "print(ls) "
      ],
      "metadata": {
        "colab": {
          "base_uri": "https://localhost:8080/"
        },
        "id": "N-CB5uv2jnDU",
        "outputId": "5cc53f98-6e30-478e-8d5d-a0617a431a5a"
      },
      "execution_count": 66,
      "outputs": [
        {
          "output_type": "stream",
          "name": "stdout",
          "text": [
            "[1, 2, 3, 4]\n",
            "[1, 2, 3]\n"
          ]
        }
      ]
    },
    {
      "cell_type": "code",
      "source": [
        "num.count(3)  # count the occurrance of element within the list"
      ],
      "metadata": {
        "colab": {
          "base_uri": "https://localhost:8080/"
        },
        "id": "pgy09lTtfZOo",
        "outputId": "30e9c0be-65d3-4b6e-c657-6f5bec053ec9"
      },
      "execution_count": 68,
      "outputs": [
        {
          "output_type": "execute_result",
          "data": {
            "text/plain": [
              "1"
            ]
          },
          "metadata": {},
          "execution_count": 68
        }
      ]
    },
    {
      "cell_type": "code",
      "source": [
        "num.index(2) # fetch index position of provided element"
      ],
      "metadata": {
        "colab": {
          "base_uri": "https://localhost:8080/"
        },
        "id": "MWM2FfROfZLy",
        "outputId": "d2368376-0cf7-43fc-b7fd-edaf207cb62e"
      },
      "execution_count": 69,
      "outputs": [
        {
          "output_type": "execute_result",
          "data": {
            "text/plain": [
              "1"
            ]
          },
          "metadata": {},
          "execution_count": 69
        }
      ]
    },
    {
      "cell_type": "code",
      "source": [
        "print(ls)\n",
        "ls.pop() #By default last element deleted within the list\n",
        "print(ls)"
      ],
      "metadata": {
        "colab": {
          "base_uri": "https://localhost:8080/"
        },
        "id": "FOFxSjkzfZIx",
        "outputId": "402f4b51-822f-43c1-87da-5d3f1af1b5f8"
      },
      "execution_count": 70,
      "outputs": [
        {
          "output_type": "stream",
          "name": "stdout",
          "text": [
            "[1, 2, 3]\n",
            "[1, 2]\n"
          ]
        }
      ]
    },
    {
      "cell_type": "code",
      "source": [
        "ls.remove(1) #Specify the value which need to be remove\n",
        "print(ls)\n"
      ],
      "metadata": {
        "colab": {
          "base_uri": "https://localhost:8080/"
        },
        "id": "XniWqrOLnDZh",
        "outputId": "aee38295-f2c6-4eea-d28b-e646b18a652c"
      },
      "execution_count": 72,
      "outputs": [
        {
          "output_type": "stream",
          "name": "stdout",
          "text": [
            "[2]\n"
          ]
        }
      ]
    },
    {
      "cell_type": "code",
      "source": [
        "l=[1,2,3,4,9,8]\n",
        "l.reverse() #reverse the order of list element\n",
        "print(l)"
      ],
      "metadata": {
        "colab": {
          "base_uri": "https://localhost:8080/"
        },
        "id": "59sBWGI4FHXk",
        "outputId": "9a01a8b8-fbb0-4586-8ed3-48df2f750fc3"
      },
      "execution_count": 75,
      "outputs": [
        {
          "output_type": "stream",
          "name": "stdout",
          "text": [
            "[8, 9, 4, 3, 2, 1]\n"
          ]
        }
      ]
    },
    {
      "cell_type": "code",
      "source": [
        "del l[2] \n",
        "print(f'list after deletion of value from index {l}')"
      ],
      "metadata": {
        "colab": {
          "base_uri": "https://localhost:8080/"
        },
        "id": "57MS3HJrGYw6",
        "outputId": "09bfbe86-ca88-4781-a07b-801763227970"
      },
      "execution_count": 78,
      "outputs": [
        {
          "output_type": "stream",
          "name": "stdout",
          "text": [
            "list after deletion of value from index [1, 2, 8, 9]\n"
          ]
        }
      ]
    },
    {
      "cell_type": "code",
      "source": [
        "print('Before Sort of list',l)\n",
        "l.sort() # This function can be used to sort a list in ascending order by default\n",
        "print('After Sort of list',l)"
      ],
      "metadata": {
        "colab": {
          "base_uri": "https://localhost:8080/"
        },
        "id": "2KFcqHSaFHQA",
        "outputId": "b837d0ad-e018-47eb-ee9f-de18b86c9791"
      },
      "execution_count": 76,
      "outputs": [
        {
          "output_type": "stream",
          "name": "stdout",
          "text": [
            "Before Sort of list [8, 9, 4, 3, 2, 1]\n",
            "After Sort of list [1, 2, 3, 4, 8, 9]\n"
          ]
        }
      ]
    },
    {
      "cell_type": "markdown",
      "source": [
        "#### Tuple\n",
        "1. Tuple are immutable\n",
        "2. Tuple are faster then list\n",
        "3. Tuple are used as keys in dictionary\n",
        "4. Item can be access through index position\n",
        "5. Represent using ()(Paranthesis)\n",
        "6. Indexing from position 0\n",
        "7. Tuple having less functionality as compare to list"
      ],
      "metadata": {
        "id": "pYKV1C7RZVmP"
      }
    },
    {
      "cell_type": "code",
      "source": [
        "tup=() #empty tuple\n",
        "print(type(tup))"
      ],
      "metadata": {
        "colab": {
          "base_uri": "https://localhost:8080/"
        },
        "id": "2ZUg6ZcYa7GG",
        "outputId": "8b20b67a-a892-4a76-d8f7-355e1ee14fda"
      },
      "execution_count": 34,
      "outputs": [
        {
          "output_type": "stream",
          "name": "stdout",
          "text": [
            "<class 'tuple'>\n"
          ]
        }
      ]
    },
    {
      "cell_type": "code",
      "source": [
        "tup=(1,2,3)"
      ],
      "metadata": {
        "id": "RziFfA_NelnS"
      },
      "execution_count": 79,
      "outputs": []
    },
    {
      "cell_type": "code",
      "source": [
        "#tuple is used when we need to restrict from overriding \n",
        "tup=(1,2,3,'Nitesh')\n",
        "tup[1]  #tuple slicing "
      ],
      "metadata": {
        "colab": {
          "base_uri": "https://localhost:8080/"
        },
        "id": "7fa1zwWgevP3",
        "outputId": "328a3fcf-4098-4570-eb5d-998fd664b454"
      },
      "execution_count": 42,
      "outputs": [
        {
          "output_type": "execute_result",
          "data": {
            "text/plain": [
              "2"
            ]
          },
          "metadata": {},
          "execution_count": 42
        }
      ]
    },
    {
      "cell_type": "code",
      "source": [
        "#Iterate over tuple element\n",
        "for i in tup:\n",
        "  print(i)"
      ],
      "metadata": {
        "colab": {
          "base_uri": "https://localhost:8080/"
        },
        "id": "MMMmugKLevCU",
        "outputId": "3a3aca44-6e26-4742-c4aa-2dc99a882e58"
      },
      "execution_count": 43,
      "outputs": [
        {
          "output_type": "stream",
          "name": "stdout",
          "text": [
            "1\n",
            "2\n",
            "3\n",
            "Nitesh\n"
          ]
        }
      ]
    },
    {
      "cell_type": "code",
      "metadata": {
        "colab": {
          "base_uri": "https://localhost:8080/",
          "height": 167
        },
        "id": "73Hpgr1DnggT",
        "outputId": "3541fb6a-817e-45c8-af4b-21cfba851f69"
      },
      "source": [
        "tup.append(6) "
      ],
      "execution_count": null,
      "outputs": [
        {
          "output_type": "error",
          "ename": "AttributeError",
          "evalue": "ignored",
          "traceback": [
            "\u001b[0;31m---------------------------------------------------------------------------\u001b[0m",
            "\u001b[0;31mAttributeError\u001b[0m                            Traceback (most recent call last)",
            "\u001b[0;32m<ipython-input-15-c629cf34c834>\u001b[0m in \u001b[0;36m<module>\u001b[0;34m()\u001b[0m\n\u001b[0;32m----> 1\u001b[0;31m \u001b[0mtup\u001b[0m\u001b[0;34m.\u001b[0m\u001b[0mappend\u001b[0m\u001b[0;34m(\u001b[0m\u001b[0;36m6\u001b[0m\u001b[0;34m)\u001b[0m\u001b[0;34m\u001b[0m\u001b[0;34m\u001b[0m\u001b[0m\n\u001b[0m",
            "\u001b[0;31mAttributeError\u001b[0m: 'tuple' object has no attribute 'append'"
          ]
        }
      ]
    },
    {
      "cell_type": "code",
      "metadata": {
        "colab": {
          "base_uri": "https://localhost:8080/"
        },
        "id": "kcVTjSQLni31",
        "outputId": "6e95f141-0b19-4ee8-b51c-384c73ee6486"
      },
      "source": [
        "len(tup)"
      ],
      "execution_count": null,
      "outputs": [
        {
          "output_type": "execute_result",
          "data": {
            "text/plain": [
              "4"
            ]
          },
          "metadata": {
            "tags": []
          },
          "execution_count": 16
        }
      ]
    },
    {
      "cell_type": "code",
      "metadata": {
        "id": "hEgzpMtCnutb",
        "colab": {
          "base_uri": "https://localhost:8080/",
          "height": 166
        },
        "outputId": "3ddf2667-5e3a-498c-e3bc-b08932e77cfc"
      },
      "source": [
        "tup[0]='Nitesh' #item re-assignment operation not supported by tuple"
      ],
      "execution_count": 44,
      "outputs": [
        {
          "output_type": "error",
          "ename": "TypeError",
          "evalue": "ignored",
          "traceback": [
            "\u001b[0;31m---------------------------------------------------------------------------\u001b[0m",
            "\u001b[0;31mTypeError\u001b[0m                                 Traceback (most recent call last)",
            "\u001b[0;32m<ipython-input-44-5225ec9592d0>\u001b[0m in \u001b[0;36m<cell line: 1>\u001b[0;34m()\u001b[0m\n\u001b[0;32m----> 1\u001b[0;31m \u001b[0mtup\u001b[0m\u001b[0;34m[\u001b[0m\u001b[0;36m0\u001b[0m\u001b[0;34m]\u001b[0m\u001b[0;34m=\u001b[0m\u001b[0;34m'Nitesh'\u001b[0m \u001b[0;31m#item re-assignment operation not supported by tuple\u001b[0m\u001b[0;34m\u001b[0m\u001b[0;34m\u001b[0m\u001b[0m\n\u001b[0m",
            "\u001b[0;31mTypeError\u001b[0m: 'tuple' object does not support item assignment"
          ]
        }
      ]
    },
    {
      "cell_type": "code",
      "metadata": {
        "colab": {
          "base_uri": "https://localhost:8080/"
        },
        "id": "ozEVIEhmqoBc",
        "outputId": "94291190-e0cb-475c-eac6-a963431d0309"
      },
      "source": [
        "#Iterate till the length of tuple is exhaust.\n",
        "for i in tup:\n",
        "  print(tup)"
      ],
      "execution_count": 4,
      "outputs": [
        {
          "output_type": "stream",
          "name": "stdout",
          "text": [
            "(1, 2, 3, 'Nitesh')\n",
            "(1, 2, 3, 'Nitesh')\n",
            "(1, 2, 3, 'Nitesh')\n",
            "(1, 2, 3, 'Nitesh')\n"
          ]
        }
      ]
    },
    {
      "cell_type": "code",
      "metadata": {
        "id": "IbOBa8mTrA00"
      },
      "source": [
        "#count and index are only 2 method in tuple \n",
        "tup.index(3)\n",
        "tup.count(3)"
      ],
      "execution_count": null,
      "outputs": []
    },
    {
      "cell_type": "code",
      "metadata": {
        "id": "yXrsWj-41ULV"
      },
      "source": [
        "#concatenation operation performed but append,insert and extend not allowed in tuple \n",
        "\n",
        "tup1=(1,2,3)\n",
        "tup2=(4,5,6)\n"
      ],
      "execution_count": null,
      "outputs": []
    },
    {
      "cell_type": "code",
      "metadata": {
        "colab": {
          "base_uri": "https://localhost:8080/"
        },
        "id": "TzGXwPwO11ou",
        "outputId": "6d7c9cc0-2164-4bc7-a422-66fb18ab2ebc"
      },
      "source": [
        "tup1+tup2"
      ],
      "execution_count": null,
      "outputs": [
        {
          "output_type": "execute_result",
          "data": {
            "text/plain": [
              "(1, 2, 3, 4, 5, 6)"
            ]
          },
          "metadata": {
            "tags": []
          },
          "execution_count": 41
        }
      ]
    },
    {
      "cell_type": "code",
      "metadata": {
        "id": "6D_QhEaU14EK"
      },
      "source": [
        "t=tup[::-1]"
      ],
      "execution_count": null,
      "outputs": []
    },
    {
      "cell_type": "code",
      "metadata": {
        "colab": {
          "base_uri": "https://localhost:8080/"
        },
        "id": "F6P-i1yF30jA",
        "outputId": "81d2e61d-c1db-4ae3-a1ec-cf6a66ff2ff8"
      },
      "source": [
        "for t1 in t:\n",
        "  print(t1)"
      ],
      "execution_count": null,
      "outputs": [
        {
          "output_type": "stream",
          "text": [
            "Nitesh\n",
            "3\n",
            "2\n",
            "1\n"
          ],
          "name": "stdout"
        }
      ]
    },
    {
      "cell_type": "markdown",
      "source": [
        "#### **String**\n",
        "1. String is a sequence of character.\n",
        "2. Strings are a immutable data types which means that its value cannot be updated."
      ],
      "metadata": {
        "id": "5E0I-SDtIf9q"
      }
    },
    {
      "cell_type": "code",
      "source": [
        "s='NiteshPandey'\n",
        "print(s[1])   #String Slicing\n",
        "\n",
        "s[1]='y' #string is immutable"
      ],
      "metadata": {
        "colab": {
          "base_uri": "https://localhost:8080/",
          "height": 218
        },
        "id": "IeHWJoW-IWmR",
        "outputId": "9a33ad6e-e25d-4472-9872-c4a66f6e16c6"
      },
      "execution_count": 89,
      "outputs": [
        {
          "output_type": "stream",
          "name": "stdout",
          "text": [
            "i\n"
          ]
        },
        {
          "output_type": "error",
          "ename": "TypeError",
          "evalue": "ignored",
          "traceback": [
            "\u001b[0;31m---------------------------------------------------------------------------\u001b[0m",
            "\u001b[0;31mTypeError\u001b[0m                                 Traceback (most recent call last)",
            "\u001b[0;32m<ipython-input-89-00d6e1c1921e>\u001b[0m in \u001b[0;36m<cell line: 4>\u001b[0;34m()\u001b[0m\n\u001b[1;32m      2\u001b[0m \u001b[0mprint\u001b[0m\u001b[0;34m(\u001b[0m\u001b[0ms\u001b[0m\u001b[0;34m[\u001b[0m\u001b[0;36m1\u001b[0m\u001b[0;34m]\u001b[0m\u001b[0;34m)\u001b[0m   \u001b[0;31m#String Slicing\u001b[0m\u001b[0;34m\u001b[0m\u001b[0;34m\u001b[0m\u001b[0m\n\u001b[1;32m      3\u001b[0m \u001b[0;34m\u001b[0m\u001b[0m\n\u001b[0;32m----> 4\u001b[0;31m \u001b[0ms\u001b[0m\u001b[0;34m[\u001b[0m\u001b[0;36m1\u001b[0m\u001b[0;34m]\u001b[0m\u001b[0;34m=\u001b[0m\u001b[0;34m'y'\u001b[0m \u001b[0;31m#string is immutable\u001b[0m\u001b[0;34m\u001b[0m\u001b[0;34m\u001b[0m\u001b[0m\n\u001b[0m",
            "\u001b[0;31mTypeError\u001b[0m: 'str' object does not support item assignment"
          ]
        }
      ]
    },
    {
      "cell_type": "markdown",
      "source": [
        "#### **String Methods**\n",
        "**Note:** All string methods returns new values. They do not change the original string"
      ],
      "metadata": {
        "id": "_zVdRpOXRZRU"
      }
    },
    {
      "cell_type": "code",
      "source": [
        "print(s.capitalize()) #Capitalize first character of string\n",
        "print(s.count('e')) # Count number of occurance of character/word withing string"
      ],
      "metadata": {
        "colab": {
          "base_uri": "https://localhost:8080/"
        },
        "id": "wNcLmlBLKPe4",
        "outputId": "404f7dd1-6a27-4a49-cd46-465db07f40f0"
      },
      "execution_count": 90,
      "outputs": [
        {
          "output_type": "stream",
          "name": "stdout",
          "text": [
            "Niteshpandey\n",
            "2\n"
          ]
        }
      ]
    },
    {
      "cell_type": "code",
      "source": [
        "s.endswith('y') #Return Boolean value(True if end with specified character or word else False) "
      ],
      "metadata": {
        "colab": {
          "base_uri": "https://localhost:8080/"
        },
        "id": "SGnMBZZjKPa8",
        "outputId": "8200223a-fa31-4edb-d340-d4b11fb2950d"
      },
      "execution_count": 91,
      "outputs": [
        {
          "output_type": "execute_result",
          "data": {
            "text/plain": [
              "True"
            ]
          },
          "metadata": {},
          "execution_count": 91
        }
      ]
    },
    {
      "cell_type": "code",
      "source": [
        "# Return -1 if specified character/word not found in string  else return the position of where it was found\n",
        "print(s.find('z'))\n",
        "print(s.find('N'))"
      ],
      "metadata": {
        "colab": {
          "base_uri": "https://localhost:8080/"
        },
        "id": "41eYRa3nKPV9",
        "outputId": "e39be744-a59f-4db1-887d-2e24d26fb361"
      },
      "execution_count": 103,
      "outputs": [
        {
          "output_type": "stream",
          "name": "stdout",
          "text": [
            "-1\n",
            "0\n"
          ]
        }
      ]
    },
    {
      "cell_type": "code",
      "source": [
        "print(s.lower())  #Converts a string into lower case\n",
        "print(s.upper())  #Converts a string into upper case\n"
      ],
      "metadata": {
        "colab": {
          "base_uri": "https://localhost:8080/"
        },
        "id": "EaXQC1jrMpQB",
        "outputId": "43d259de-d272-4417-8597-c44d1ecde09f"
      },
      "execution_count": 96,
      "outputs": [
        {
          "output_type": "stream",
          "name": "stdout",
          "text": [
            "niteshpandey\n",
            "NITESHPANDEY\n"
          ]
        }
      ]
    },
    {
      "cell_type": "code",
      "source": [
        "s.replace('e','c')\t#Returns a string where a specified value is replaced with a specified value"
      ],
      "metadata": {
        "colab": {
          "base_uri": "https://localhost:8080/",
          "height": 35
        },
        "id": "RHXiVqltMpMw",
        "outputId": "1ccf2544-76fa-4265-de50-fac9eb79ad6e"
      },
      "execution_count": 97,
      "outputs": [
        {
          "output_type": "execute_result",
          "data": {
            "text/plain": [
              "'NitcshPandcy'"
            ],
            "application/vnd.google.colaboratory.intrinsic+json": {
              "type": "string"
            }
          },
          "metadata": {},
          "execution_count": 97
        }
      ]
    },
    {
      "cell_type": "code",
      "source": [
        "print(s.title())            #Converts the first character of each word to upper case\n",
        "print(s.startswith('N'))    #Returns true if the string starts with the specified value\n",
        "print(s.split(' '))         #Splits the string at the specified separator, and returns a list\n",
        "print(s.strip())            #Returns a trimmed version of the string"
      ],
      "metadata": {
        "colab": {
          "base_uri": "https://localhost:8080/"
        },
        "id": "HP9fDnuJMpKI",
        "outputId": "0469ad47-3e4a-47dd-ba98-3060bd6f1a32"
      },
      "execution_count": 101,
      "outputs": [
        {
          "output_type": "stream",
          "name": "stdout",
          "text": [
            "Niteshpandey\n",
            "True\n",
            "['NiteshPandey']\n",
            "NiteshPandey\n"
          ]
        }
      ]
    },
    {
      "cell_type": "markdown",
      "source": [
        "### Set\n",
        "\n",
        "1. remove duplicate values from list or from given element\n",
        "2. case sensitive\n",
        "3. order not maintained\n",
        "4. The data structure used in this is Hashing, a popular technique to perform insertion, deletion and traversal in O(1) on average.\n",
        "5. represent as {}(curley braces)\n",
        "6. used as key in dictionary\n",
        "7. set is mutable\n",
        "8. add,remove allowed but append not\n"
      ],
      "metadata": {
        "id": "tAlTkAuJQoXT"
      }
    },
    {
      "cell_type": "code",
      "source": [
        "t={}\n",
        "print(type(t)) #if we want to create empty set then we need to specify the keyword set otherwise it treat dict datatype\n",
        "s=set()\n",
        "print(type(s))"
      ],
      "metadata": {
        "colab": {
          "base_uri": "https://localhost:8080/"
        },
        "id": "6SSIdVQtRDvl",
        "outputId": "38b9cc24-4752-4852-885f-56dec91151cf"
      },
      "execution_count": 18,
      "outputs": [
        {
          "output_type": "stream",
          "name": "stdout",
          "text": [
            "<class 'dict'>\n",
            "<class 'set'>\n"
          ]
        }
      ]
    },
    {
      "cell_type": "code",
      "metadata": {
        "colab": {
          "base_uri": "https://localhost:8080/",
          "height": 167
        },
        "id": "gO8cVVwz4-LU",
        "outputId": "4de33fc2-164a-4a95-82b2-61ed61848056"
      },
      "source": [
        "s=set(1,2,3) #always takes value in the form of list"
      ],
      "execution_count": null,
      "outputs": [
        {
          "output_type": "error",
          "ename": "TypeError",
          "evalue": "ignored",
          "traceback": [
            "\u001b[0;31m---------------------------------------------------------------------------\u001b[0m",
            "\u001b[0;31mTypeError\u001b[0m                                 Traceback (most recent call last)",
            "\u001b[0;32m<ipython-input-57-09c55571445d>\u001b[0m in \u001b[0;36m<module>\u001b[0;34m()\u001b[0m\n\u001b[0;32m----> 1\u001b[0;31m \u001b[0ms\u001b[0m\u001b[0;34m=\u001b[0m\u001b[0mset\u001b[0m\u001b[0;34m(\u001b[0m\u001b[0;36m1\u001b[0m\u001b[0;34m,\u001b[0m\u001b[0;36m2\u001b[0m\u001b[0;34m,\u001b[0m\u001b[0;36m3\u001b[0m\u001b[0;34m)\u001b[0m \u001b[0;31m#always tkes value in the form of list\u001b[0m\u001b[0;34m\u001b[0m\u001b[0;34m\u001b[0m\u001b[0m\n\u001b[0m",
            "\u001b[0;31mTypeError\u001b[0m: set expected at most 1 arguments, got 3"
          ]
        }
      ]
    },
    {
      "cell_type": "code",
      "metadata": {
        "colab": {
          "base_uri": "https://localhost:8080/"
        },
        "id": "qt9F7VV75F1d",
        "outputId": "cb56012e-59e2-4ec6-85a3-834cfe2b21cb"
      },
      "source": [
        "s=set([1,2,3])\n",
        "print(s) \n",
        "print(type(s))"
      ],
      "execution_count": null,
      "outputs": [
        {
          "output_type": "stream",
          "text": [
            "{1, 2, 3}\n",
            "<class 'set'>\n"
          ],
          "name": "stdout"
        }
      ]
    },
    {
      "cell_type": "code",
      "metadata": {
        "id": "_GkMkJbi54gW",
        "colab": {
          "base_uri": "https://localhost:8080/"
        },
        "outputId": "f32aa0e0-d417-455b-fe66-48ef6d764dd1"
      },
      "source": [
        "s=set([1,2,3,'Nitesh','Pandey',False,True,True,True,True,0,1])\n",
        "print(s) #it does not return the boolean true for set because 1 occurred before True {True:1,False:0}"
      ],
      "execution_count": 24,
      "outputs": [
        {
          "output_type": "stream",
          "name": "stdout",
          "text": [
            "{False, 1, 2, 3, 'Pandey', 'Nitesh'}\n"
          ]
        }
      ]
    },
    {
      "cell_type": "code",
      "source": [
        "s=set([1,2,3,'Nitesh','Pandey',0,False,True,True,True,True,0,1])\n",
        "print(s) # instead of return False it consider False as 0 and return 0"
      ],
      "metadata": {
        "colab": {
          "base_uri": "https://localhost:8080/"
        },
        "id": "BwAh7lewS3xs",
        "outputId": "92cdc609-3034-4a52-b1a2-fe4feba14f6a"
      },
      "execution_count": 22,
      "outputs": [
        {
          "output_type": "stream",
          "name": "stdout",
          "text": [
            "{0, 1, 2, 3, 'Pandey', 'Nitesh'}\n"
          ]
        }
      ]
    },
    {
      "cell_type": "code",
      "metadata": {
        "id": "HFeTp1RIe5Y2",
        "colab": {
          "base_uri": "https://localhost:8080/"
        },
        "outputId": "5c18b873-139b-47d6-ba81-2383c84b30cc"
      },
      "source": [
        "s=set(['Nitesh',True,True,False])\n",
        "print(s)"
      ],
      "execution_count": 26,
      "outputs": [
        {
          "output_type": "stream",
          "name": "stdout",
          "text": [
            "{False, True, 'Nitesh'}\n"
          ]
        }
      ]
    },
    {
      "cell_type": "code",
      "metadata": {
        "colab": {
          "base_uri": "https://localhost:8080/"
        },
        "id": "Fj2O_L4VrYs3",
        "outputId": "06db99b4-7849-4737-e646-ebe8441c7963"
      },
      "source": [
        "B = set('hello') \n",
        "print(B)\n",
        "\n",
        "A=set('abcdefg')\n",
        "print(A)"
      ],
      "execution_count": 15,
      "outputs": [
        {
          "output_type": "stream",
          "name": "stdout",
          "text": [
            "{'l', 'h', 'o', 'e'}\n",
            "{'f', 'e', 'd', 'c', 'b', 'g', 'a'}\n"
          ]
        }
      ]
    },
    {
      "cell_type": "code",
      "metadata": {
        "colab": {
          "base_uri": "https://localhost:8080/"
        },
        "id": "ZYEYIB2qfOAM",
        "outputId": "bd8f5941-ce96-4374-924f-f05aeef955d7"
      },
      "source": [
        "[i for i in s]"
      ],
      "execution_count": 28,
      "outputs": [
        {
          "output_type": "execute_result",
          "data": {
            "text/plain": [
              "[False, True, 'Nitesh']"
            ]
          },
          "metadata": {},
          "execution_count": 28
        }
      ]
    },
    {
      "cell_type": "code",
      "metadata": {
        "colab": {
          "base_uri": "https://localhost:8080/",
          "height": 166
        },
        "id": "239f3afXfXdO",
        "outputId": "00995a01-a774-474c-9596-001a00dc04eb"
      },
      "source": [
        "s[0] #slicing is not possible for set because set does not preserved any order"
      ],
      "execution_count": 29,
      "outputs": [
        {
          "output_type": "error",
          "ename": "TypeError",
          "evalue": "ignored",
          "traceback": [
            "\u001b[0;31m---------------------------------------------------------------------------\u001b[0m",
            "\u001b[0;31mTypeError\u001b[0m                                 Traceback (most recent call last)",
            "\u001b[0;32m<ipython-input-29-84f509c3744e>\u001b[0m in \u001b[0;36m<cell line: 1>\u001b[0;34m()\u001b[0m\n\u001b[0;32m----> 1\u001b[0;31m \u001b[0ms\u001b[0m\u001b[0;34m[\u001b[0m\u001b[0;36m0\u001b[0m\u001b[0;34m]\u001b[0m \u001b[0;31m#slicing is not possible for set because set does not preserved any order\u001b[0m\u001b[0;34m\u001b[0m\u001b[0;34m\u001b[0m\u001b[0m\n\u001b[0m",
            "\u001b[0;31mTypeError\u001b[0m: 'set' object is not subscriptable"
          ]
        }
      ]
    },
    {
      "cell_type": "code",
      "metadata": {
        "id": "Oqe5fhXwfcIY"
      },
      "source": [
        "d=set((1,3,6,8,8,'Nitesh','Nitesh',True,True,False)) #set uses list and tuple as parameter"
      ],
      "execution_count": null,
      "outputs": []
    },
    {
      "cell_type": "code",
      "metadata": {
        "colab": {
          "base_uri": "https://localhost:8080/"
        },
        "id": "gia4IaT9fqUr",
        "outputId": "893105b3-a06c-4106-e521-0a65beeff1f5"
      },
      "source": [
        "d #very important notes--if we include boolean value in set then instead of returning the value of true or false it doesn`t return because 1 or 0 if already present"
      ],
      "execution_count": null,
      "outputs": [
        {
          "output_type": "execute_result",
          "data": {
            "text/plain": [
              "{1, 3, 6, 8, False, 'Nitesh'}"
            ]
          },
          "metadata": {
            "tags": []
          },
          "execution_count": 13
        }
      ]
    },
    {
      "cell_type": "code",
      "metadata": {
        "colab": {
          "base_uri": "https://localhost:8080/"
        },
        "id": "CJgM4pprfrVg",
        "outputId": "0660d14c-e574-4ffe-c021-5ab8898bcb92"
      },
      "source": [
        "e=set((5,3,6,8,8,'Nitesh','Nitesh',True,True,False))  #now it return true values also because set element does not contain any 0 or 1\n",
        "print(e)"
      ],
      "execution_count": null,
      "outputs": [
        {
          "output_type": "stream",
          "text": [
            "{False, True, 3, 5, 6, 8, 'Nitesh'}\n"
          ],
          "name": "stdout"
        }
      ]
    },
    {
      "cell_type": "code",
      "metadata": {
        "colab": {
          "base_uri": "https://localhost:8080/"
        },
        "id": "gdWJjYplgfA3",
        "outputId": "a7056684-413e-42b3-fb3e-8556375436f9"
      },
      "source": [
        "f=set((0,1,6,8,8,'Nitesh','Nitesh',True,True,False))  #now it return true because set element does not contain any 0 or 1\n",
        "print(f) #now it doesn't return the true and false value because already it's contain 0 and 1"
      ],
      "execution_count": null,
      "outputs": [
        {
          "output_type": "stream",
          "text": [
            "{0, 1, 6, 8, 'Nitesh'}\n"
          ],
          "name": "stdout"
        }
      ]
    },
    {
      "cell_type": "code",
      "metadata": {
        "colab": {
          "base_uri": "https://localhost:8080/"
        },
        "id": "-lncnvM-gzD_",
        "outputId": "2aecca0b-9f9b-429c-c48c-dd75c39da657"
      },
      "source": [
        "tup3=(1,2,3,True,False) #tuple not encode the values of true with 1 as set \n",
        "print(tup3)"
      ],
      "execution_count": null,
      "outputs": [
        {
          "output_type": "stream",
          "text": [
            "(1, 2, 3, True, False)\n"
          ],
          "name": "stdout"
        }
      ]
    },
    {
      "cell_type": "code",
      "metadata": {
        "colab": {
          "base_uri": "https://localhost:8080/"
        },
        "id": "gYziy9XrhGtW",
        "outputId": "635b143f-3763-4f6c-85af-c3d0fc817d0f"
      },
      "source": [
        "list=[1,0,True,False]  #list not encode the values of true with 1 and 0 with False as set \n",
        "print(list)"
      ],
      "execution_count": null,
      "outputs": [
        {
          "output_type": "stream",
          "text": [
            "[1, 0, True, False]\n"
          ],
          "name": "stdout"
        }
      ]
    },
    {
      "cell_type": "code",
      "metadata": {
        "colab": {
          "base_uri": "https://localhost:8080/"
        },
        "id": "ivI6v1QPhWI9",
        "outputId": "8751a549-1a93-44dc-baec-f1b84a3669fa"
      },
      "source": [
        "s.pop()"
      ],
      "execution_count": null,
      "outputs": [
        {
          "output_type": "execute_result",
          "data": {
            "text/plain": [
              "False"
            ]
          },
          "metadata": {
            "tags": []
          },
          "execution_count": 22
        }
      ]
    },
    {
      "cell_type": "code",
      "metadata": {
        "colab": {
          "base_uri": "https://localhost:8080/"
        },
        "id": "yVS2TYEZirPU",
        "outputId": "d97f4736-4322-4806-a6e1-ed77f99713fc"
      },
      "source": [
        "s.pop()"
      ],
      "execution_count": null,
      "outputs": [
        {
          "output_type": "execute_result",
          "data": {
            "text/plain": [
              "True"
            ]
          },
          "metadata": {
            "tags": []
          },
          "execution_count": 24
        }
      ]
    },
    {
      "cell_type": "code",
      "metadata": {
        "colab": {
          "base_uri": "https://localhost:8080/",
          "height": 167
        },
        "id": "d0xrAMc7is38",
        "outputId": "734ce331-d5cf-4191-b865-fa3530966755"
      },
      "source": [
        "s.pop(1)  #specific location element not deleted because set not provide subscript or slicing operation Same has been posible in list"
      ],
      "execution_count": null,
      "outputs": [
        {
          "output_type": "error",
          "ename": "TypeError",
          "evalue": "ignored",
          "traceback": [
            "\u001b[0;31m---------------------------------------------------------------------------\u001b[0m",
            "\u001b[0;31mTypeError\u001b[0m                                 Traceback (most recent call last)",
            "\u001b[0;32m<ipython-input-25-f06e91dfbaaa>\u001b[0m in \u001b[0;36m<module>\u001b[0;34m()\u001b[0m\n\u001b[0;32m----> 1\u001b[0;31m \u001b[0ms\u001b[0m\u001b[0;34m.\u001b[0m\u001b[0mpop\u001b[0m\u001b[0;34m(\u001b[0m\u001b[0;36m1\u001b[0m\u001b[0;34m)\u001b[0m\u001b[0;34m\u001b[0m\u001b[0;34m\u001b[0m\u001b[0m\n\u001b[0m",
            "\u001b[0;31mTypeError\u001b[0m: pop() takes no arguments (1 given)"
          ]
        }
      ]
    },
    {
      "cell_type": "code",
      "metadata": {
        "colab": {
          "base_uri": "https://localhost:8080/"
        },
        "id": "MdbGSh-ZiyB2",
        "outputId": "78053761-217b-42f8-d043-29ea0d9d1bea"
      },
      "source": [
        "n=set([0,9,7,6,8,3,'A',2,4])\n",
        "print(n)"
      ],
      "execution_count": null,
      "outputs": [
        {
          "output_type": "stream",
          "text": [
            "{0, 2, 3, 'A', 4, 6, 7, 8, 9}\n"
          ],
          "name": "stdout"
        }
      ]
    },
    {
      "cell_type": "code",
      "metadata": {
        "colab": {
          "base_uri": "https://localhost:8080/"
        },
        "id": "XM6bbgLojeLz",
        "outputId": "5ad13ec9-781d-4f88-826c-432748fc41c9"
      },
      "source": [
        "n1=set({1,2,3,8,9,0})\n",
        "print(n1)"
      ],
      "execution_count": null,
      "outputs": [
        {
          "output_type": "stream",
          "text": [
            "{0, 1, 2, 3, 8, 9}\n"
          ],
          "name": "stdout"
        }
      ]
    },
    {
      "cell_type": "code",
      "metadata": {
        "colab": {
          "base_uri": "https://localhost:8080/"
        },
        "id": "1xweJaXFjuHT",
        "outputId": "a41db4fa-75bb-4bec-f8cd-0f75ceceb16e"
      },
      "source": [
        "n2={2,3,4,1,1,0,8,'A','B',222,77,11,22,33,678,678,980}\n",
        "print(n2)\n",
        "print(type(n2))"
      ],
      "execution_count": 30,
      "outputs": [
        {
          "output_type": "stream",
          "name": "stdout",
          "text": [
            "{0, 1, 2, 3, 4, 33, 678, 8, 11, 77, 'A', 980, 22, 'B', 222}\n",
            "<class 'set'>\n"
          ]
        }
      ]
    },
    {
      "cell_type": "markdown",
      "source": [
        "#### Dictionary\n",
        "1. It is type of data structure in python. \n",
        "2. It define one-to-one relationship between keys and values.\n",
        "3. dictionary are indexed by keys.\n",
        "4. Order not preserved.\n",
        "5. Contain pair of key and their corresponding values."
      ],
      "metadata": {
        "id": "u4mIPzy9WsoD"
      }
    },
    {
      "cell_type": "code",
      "metadata": {
        "colab": {
          "base_uri": "https://localhost:8080/"
        },
        "id": "iKyckmlxj_N0",
        "outputId": "d29afb83-173d-4ae5-9aa0-bd73f8e5dd7b"
      },
      "source": [
        "s={}  #when we create empty set then it assume the dict but when we pass one values then it treated as set \n",
        "type(s)"
      ],
      "execution_count": null,
      "outputs": [
        {
          "output_type": "execute_result",
          "data": {
            "text/plain": [
              "dict"
            ]
          },
          "metadata": {
            "tags": []
          },
          "execution_count": 36
        }
      ]
    },
    {
      "cell_type": "code",
      "metadata": {
        "colab": {
          "base_uri": "https://localhost:8080/"
        },
        "id": "p3jhGrh4l3lt",
        "outputId": "7cc15628-3e2d-49ad-e2f1-3e1df5e8faa0"
      },
      "source": [
        "s={1} #now it act as set instead of dictionary\n",
        "type(s)"
      ],
      "execution_count": null,
      "outputs": [
        {
          "output_type": "execute_result",
          "data": {
            "text/plain": [
              "set"
            ]
          },
          "metadata": {
            "tags": []
          },
          "execution_count": 37
        }
      ]
    },
    {
      "cell_type": "code",
      "metadata": {
        "colab": {
          "base_uri": "https://localhost:8080/"
        },
        "id": "NZJ3h4Yzl6wq",
        "outputId": "20ecb718-cd6c-4498-bbd4-3dea043b0a56"
      },
      "source": [
        "#empty dictionary can be created using below method\n",
        "d=dict()\n",
        "d\n",
        "s={}  #we can create empty dictionary using this syntax also\n",
        "type(s)"
      ],
      "execution_count": null,
      "outputs": [
        {
          "output_type": "execute_result",
          "data": {
            "text/plain": [
              "{}"
            ]
          },
          "metadata": {
            "tags": []
          },
          "execution_count": 42
        }
      ]
    },
    {
      "cell_type": "code",
      "metadata": {
        "colab": {
          "base_uri": "https://localhost:8080/"
        },
        "id": "fbctckh4mTsk",
        "outputId": "e72dd0cd-62d6-4c01-ce2d-8712fb835387"
      },
      "source": [
        "d=dict({})\n",
        "d"
      ],
      "execution_count": null,
      "outputs": [
        {
          "output_type": "execute_result",
          "data": {
            "text/plain": [
              "{}"
            ]
          },
          "metadata": {
            "tags": []
          },
          "execution_count": 43
        }
      ]
    },
    {
      "cell_type": "code",
      "metadata": {
        "colab": {
          "base_uri": "https://localhost:8080/"
        },
        "id": "boJ6MS76mfX2",
        "outputId": "93eab573-ecd5-413d-b314-cb233b84dcf3"
      },
      "source": [
        "d={'Name':'Nitesh','Surname':'Pandey'}\n",
        "print(d)"
      ],
      "execution_count": null,
      "outputs": [
        {
          "output_type": "stream",
          "text": [
            "{'Name': 'Nitesh', 'Surname': 'Pandey'}\n"
          ],
          "name": "stdout"
        }
      ]
    },
    {
      "cell_type": "code",
      "metadata": {
        "colab": {
          "base_uri": "https://localhost:8080/"
        },
        "id": "1dSdMYYynjD2",
        "outputId": "42565388-39cc-4d81-ed1b-63ef7a5defb4"
      },
      "source": [
        "d={'Name':'Nitesh','Surname':'Pandey','Name':'Nit'} #overwrite the name value to latest value\n",
        "print(d)"
      ],
      "execution_count": 31,
      "outputs": [
        {
          "output_type": "stream",
          "name": "stdout",
          "text": [
            "{'Name': 'Nit', 'Surname': 'Pandey'}\n"
          ]
        }
      ]
    },
    {
      "cell_type": "code",
      "metadata": {
        "colab": {
          "base_uri": "https://localhost:8080/",
          "height": 132
        },
        "id": "YKxkIEr_nx5O",
        "outputId": "0035e5b1-5653-418c-e62c-be7859f3e92b"
      },
      "source": [
        "#special character not allowed as key in dictionary\n",
        "d={'Name':'Nitesh',@:'Nothing'}"
      ],
      "execution_count": null,
      "outputs": [
        {
          "output_type": "error",
          "ename": "SyntaxError",
          "evalue": "ignored",
          "traceback": [
            "\u001b[0;36m  File \u001b[0;32m\"<ipython-input-49-b8c93957cc61>\"\u001b[0;36m, line \u001b[0;32m2\u001b[0m\n\u001b[0;31m    d={'Name':'Nitesh',@:'Nothing'}\u001b[0m\n\u001b[0m                       ^\u001b[0m\n\u001b[0;31mSyntaxError\u001b[0m\u001b[0;31m:\u001b[0m invalid syntax\n"
          ]
        }
      ]
    },
    {
      "cell_type": "code",
      "metadata": {
        "colab": {
          "base_uri": "https://localhost:8080/"
        },
        "id": "R3aod-w7ohhp",
        "outputId": "1674a4e2-9691-4e33-8a1f-bfed57905054"
      },
      "source": [
        "#now special character treated as string hence it allowed\n",
        "d={'Name':'Nitesh','@':'Nothing'}\n",
        "print(d)"
      ],
      "execution_count": null,
      "outputs": [
        {
          "output_type": "stream",
          "text": [
            "{'Name': 'Nitesh', '@': 'Nothing'}\n"
          ],
          "name": "stdout"
        }
      ]
    },
    {
      "cell_type": "code",
      "metadata": {
        "colab": {
          "base_uri": "https://localhost:8080/"
        },
        "id": "hiMwuyXSoniT",
        "outputId": "24a8de09-63c7-4214-d1dc-eb23531b5741"
      },
      "source": [
        "d={'Name':['Nitesh','Sarvesh','Nit'],'Age':(19,23,30),'City':set(['Mumbai','Lucknow','Varanasi'])}  #tuple,set and list allowed as value in dictionary\n",
        "print(d)"
      ],
      "execution_count": null,
      "outputs": [
        {
          "output_type": "stream",
          "text": [
            "{'Name': ['Nitesh', 'Sarvesh', 'Nit'], 'Age': (19, 23, 30), 'City': {'Varanasi', 'Mumbai', 'Lucknow'}}\n"
          ],
          "name": "stdout"
        }
      ]
    },
    {
      "cell_type": "code",
      "metadata": {
        "colab": {
          "base_uri": "https://localhost:8080/"
        },
        "id": "rmeSrv_Ao3nB",
        "outputId": "0d30ddc7-ef9a-48a5-f105-300e3664309a"
      },
      "source": [
        "d={'Name':['Nitesh','Sarvesh','Nit'],'Age':(19,23,30),'City':set(['Mumbai','Lucknow','Varanasi','Mumbai'])}  #tuple,set,dict and list allowed as value in dictionary\n",
        "print(d)"
      ],
      "execution_count": null,
      "outputs": [
        {
          "output_type": "stream",
          "text": [
            "{'Name': ['Nitesh', 'Sarvesh', 'Nit'], 'Age': (19, 23, 30), 'City': {'Varanasi', 'Mumbai', 'Lucknow'}}\n"
          ],
          "name": "stdout"
        }
      ]
    },
    {
      "cell_type": "code",
      "metadata": {
        "id": "LCDd6zRfpdl0"
      },
      "source": [
        "d={(1,2,3):['Nitesh','Sarvesh','Pandey']} #tuple can also used as key in dictionary because tuple is immutable in nature"
      ],
      "execution_count": null,
      "outputs": []
    },
    {
      "cell_type": "code",
      "metadata": {
        "colab": {
          "base_uri": "https://localhost:8080/"
        },
        "id": "B4En7f2CuYZ6",
        "outputId": "f083ed41-15cc-45b6-d94a-51091c3dabf2"
      },
      "source": [
        "type(d)"
      ],
      "execution_count": null,
      "outputs": [
        {
          "output_type": "execute_result",
          "data": {
            "text/plain": [
              "dict"
            ]
          },
          "metadata": {
            "tags": []
          },
          "execution_count": 62
        }
      ]
    },
    {
      "cell_type": "code",
      "metadata": {
        "colab": {
          "base_uri": "https://localhost:8080/"
        },
        "id": "MjdWLh3Luadk",
        "outputId": "c48381f6-5e84-4f2b-bb97-ccb8b0864598"
      },
      "source": [
        "d[(1,2,3)]"
      ],
      "execution_count": null,
      "outputs": [
        {
          "output_type": "execute_result",
          "data": {
            "text/plain": [
              "['Nitesh', 'Sarvesh', 'Pandey']"
            ]
          },
          "metadata": {
            "tags": []
          },
          "execution_count": 65
        }
      ]
    },
    {
      "cell_type": "code",
      "metadata": {
        "colab": {
          "base_uri": "https://localhost:8080/"
        },
        "id": "4SviNzj6uckw",
        "outputId": "a0ca6762-2e40-4926-f3c2-1733765a36a3"
      },
      "source": [
        "d={(1,2,3):['Nitesh','Pandey']}\n",
        "print(d[(1,2,3)])"
      ],
      "execution_count": null,
      "outputs": [
        {
          "output_type": "stream",
          "text": [
            "['Nitesh', 'Pandey']\n"
          ],
          "name": "stdout"
        }
      ]
    },
    {
      "cell_type": "code",
      "metadata": {
        "colab": {
          "base_uri": "https://localhost:8080/"
        },
        "id": "zIo010Rwu7-i",
        "outputId": "d2291ccf-6ab9-471d-bbd3-faecf483927b"
      },
      "source": [
        "d={(1,2,3):'Nit'}\n",
        "print(d[(1,2,3)])"
      ],
      "execution_count": null,
      "outputs": [
        {
          "output_type": "stream",
          "text": [
            "Nit\n"
          ],
          "name": "stdout"
        }
      ]
    },
    {
      "cell_type": "code",
      "metadata": {
        "colab": {
          "base_uri": "https://localhost:8080/",
          "height": 180
        },
        "id": "EC3EmVYPuuPs",
        "outputId": "b1f5fd6e-2c59-45f8-8edc-8b3aab33f7b9"
      },
      "source": [
        "d={(1,2,3):['Nitesh','Pandey'],[1,2,3,4]:'Nit'}  #list can not be used as key in dictionary\n",
        "print(d[(1,2,3)])"
      ],
      "execution_count": null,
      "outputs": [
        {
          "output_type": "error",
          "ename": "TypeError",
          "evalue": "ignored",
          "traceback": [
            "\u001b[0;31m---------------------------------------------------------------------------\u001b[0m",
            "\u001b[0;31mTypeError\u001b[0m                                 Traceback (most recent call last)",
            "\u001b[0;32m<ipython-input-68-712376195fbf>\u001b[0m in \u001b[0;36m<module>\u001b[0;34m()\u001b[0m\n\u001b[0;32m----> 1\u001b[0;31m \u001b[0md\u001b[0m\u001b[0;34m=\u001b[0m\u001b[0;34m{\u001b[0m\u001b[0;34m(\u001b[0m\u001b[0;36m1\u001b[0m\u001b[0;34m,\u001b[0m\u001b[0;36m2\u001b[0m\u001b[0;34m,\u001b[0m\u001b[0;36m3\u001b[0m\u001b[0;34m)\u001b[0m\u001b[0;34m:\u001b[0m\u001b[0;34m[\u001b[0m\u001b[0;34m'Nitesh'\u001b[0m\u001b[0;34m,\u001b[0m\u001b[0;34m'Pandey'\u001b[0m\u001b[0;34m]\u001b[0m\u001b[0;34m,\u001b[0m\u001b[0;34m[\u001b[0m\u001b[0;36m1\u001b[0m\u001b[0;34m,\u001b[0m\u001b[0;36m2\u001b[0m\u001b[0;34m,\u001b[0m\u001b[0;36m3\u001b[0m\u001b[0;34m,\u001b[0m\u001b[0;36m4\u001b[0m\u001b[0;34m]\u001b[0m\u001b[0;34m:\u001b[0m\u001b[0;34m'Nit'\u001b[0m\u001b[0;34m}\u001b[0m\u001b[0;34m\u001b[0m\u001b[0;34m\u001b[0m\u001b[0m\n\u001b[0m\u001b[1;32m      2\u001b[0m \u001b[0mprint\u001b[0m\u001b[0;34m(\u001b[0m\u001b[0md\u001b[0m\u001b[0;34m[\u001b[0m\u001b[0;34m(\u001b[0m\u001b[0;36m1\u001b[0m\u001b[0;34m,\u001b[0m\u001b[0;36m2\u001b[0m\u001b[0;34m,\u001b[0m\u001b[0;36m3\u001b[0m\u001b[0;34m)\u001b[0m\u001b[0;34m]\u001b[0m\u001b[0;34m)\u001b[0m\u001b[0;34m\u001b[0m\u001b[0;34m\u001b[0m\u001b[0m\n",
            "\u001b[0;31mTypeError\u001b[0m: unhashable type: 'list'"
          ]
        }
      ]
    },
    {
      "cell_type": "code",
      "metadata": {
        "colab": {
          "base_uri": "https://localhost:8080/"
        },
        "id": "B7b7SvnRu5LD",
        "outputId": "a6838247-a892-4ef5-a2c8-8bfc8ef3d760"
      },
      "source": [
        "d={'Dest':'UP',(1,2,3):['Nil',3],'Name':'Nitesh','Age':10}\n",
        "print(d)"
      ],
      "execution_count": null,
      "outputs": [
        {
          "output_type": "stream",
          "text": [
            "{'Dest': 'UP', (1, 2, 3): ['Nil', 3], 'Name': 'Nitesh', 'Age': 10}\n"
          ],
          "name": "stdout"
        }
      ]
    },
    {
      "cell_type": "code",
      "metadata": {
        "colab": {
          "base_uri": "https://localhost:8080/"
        },
        "id": "XudF8P9jwin6",
        "outputId": "1fcfe5e0-4ae2-48f2-a3b0-e11a414c33c9"
      },
      "source": [
        "# Keys of dict can be iterate using dict.keys()\n",
        "for i in d.keys():\n",
        "  print(i)\n"
      ],
      "execution_count": null,
      "outputs": [
        {
          "output_type": "stream",
          "text": [
            "Dest\n",
            "(1, 2, 3)\n",
            "Name\n",
            "Age\n"
          ],
          "name": "stdout"
        }
      ]
    },
    {
      "cell_type": "code",
      "metadata": {
        "colab": {
          "base_uri": "https://localhost:8080/"
        },
        "id": "Fr9ENzbXxWVd",
        "outputId": "5e7e0bfb-b0fc-4a81-9db3-aecb3e135bad"
      },
      "source": [
        "# keys and values can be access using dict.items()\n",
        "for key,value in d.items():\n",
        "  print(key,':',value)\n"
      ],
      "execution_count": 32,
      "outputs": [
        {
          "output_type": "stream",
          "name": "stdout",
          "text": [
            "Name : Nit\n",
            "Surname : Pandey\n"
          ]
        }
      ]
    },
    {
      "cell_type": "code",
      "metadata": {
        "colab": {
          "base_uri": "https://localhost:8080/"
        },
        "id": "1Fp3cZO1yJzO",
        "outputId": "86189b09-da77-4544-91fb-5639ffdbee37"
      },
      "source": [
        "d.keys,d.values,d.items #inbuilt function"
      ],
      "execution_count": null,
      "outputs": [
        {
          "output_type": "execute_result",
          "data": {
            "text/plain": [
              "<function dict.keys>"
            ]
          },
          "metadata": {
            "tags": []
          },
          "execution_count": 84
        }
      ]
    },
    {
      "cell_type": "code",
      "metadata": {
        "id": "ulH0fXB5zoFE"
      },
      "source": [
        "d={}\n",
        "\n",
        "for i in range(1,10):\n",
        "  d[i]=i**3"
      ],
      "execution_count": null,
      "outputs": []
    },
    {
      "cell_type": "code",
      "metadata": {
        "colab": {
          "base_uri": "https://localhost:8080/"
        },
        "id": "QNsBvRip2-NY",
        "outputId": "abca5870-cf14-4a94-c08c-88f383a48d2b"
      },
      "source": [
        "print(d)"
      ],
      "execution_count": null,
      "outputs": [
        {
          "output_type": "stream",
          "text": [
            "{1: 1, 2: 8, 3: 27, 4: 64, 5: 125, 6: 216, 7: 343, 8: 512, 9: 729}\n"
          ],
          "name": "stdout"
        }
      ]
    },
    {
      "cell_type": "code",
      "metadata": {
        "colab": {
          "base_uri": "https://localhost:8080/"
        },
        "id": "CT2e-fsb2_9G",
        "outputId": "d186cb28-f6d0-43d7-8d42-18c23a873199"
      },
      "source": [
        "l=[i**2 for i in range(1,11)]   #list comprehension\n",
        "print(l)"
      ],
      "execution_count": null,
      "outputs": [
        {
          "output_type": "stream",
          "text": [
            "[1, 4, 9, 16, 25, 36, 49, 64, 81, 100]\n"
          ],
          "name": "stdout"
        }
      ]
    },
    {
      "cell_type": "code",
      "metadata": {
        "colab": {
          "base_uri": "https://localhost:8080/"
        },
        "id": "VJcqh6Ci3QiV",
        "outputId": "2f2cc00a-7741-45d2-d590-565736a1b45f"
      },
      "source": [
        "d={i:i**2 for i in range(1,10)} #dictionary comprehension\n",
        "print(d)"
      ],
      "execution_count": null,
      "outputs": [
        {
          "output_type": "stream",
          "text": [
            "{1: 1, 2: 4, 3: 9, 4: 16, 5: 25, 6: 36, 7: 49, 8: 64, 9: 81}\n"
          ],
          "name": "stdout"
        }
      ]
    }
  ]
}